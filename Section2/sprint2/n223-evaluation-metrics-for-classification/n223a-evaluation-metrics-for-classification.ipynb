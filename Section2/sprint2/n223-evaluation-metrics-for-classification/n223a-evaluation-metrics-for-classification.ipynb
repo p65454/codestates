{
 "cells": [
  {
   "cell_type": "markdown",
   "source": [
    "<img align=\"right\" src=\"https://ds-cs-images.s3.ap-northeast-2.amazonaws.com/Codestates_Fulllogo_Color.png\" width=100>\n",
    "\n",
    "## *AIB / SECTION 2 / SPRINT 2 / NOTE 3*\n",
    "\n",
    "# 📝 Assignment\n",
    "---"
   ],
   "metadata": {}
  },
  {
   "cell_type": "markdown",
   "source": [
    "# Evaluation Metrics for Classification\n",
    "\n",
    "### 1) Kaggle 챌린지를 이어서 진행합니다.\n",
    "- **(Urclass Quiz) 다음 조건에서 F beta score를 구하고 제출하세요.**\n",
    "    - TP = 4442, TN = 6165, FP = 1515, FN = 1930, 재현율에 정밀도의 2배 가중치를 부여합니다."
   ],
   "metadata": {
    "colab_type": "text",
    "id": "nCc3XZEyG3XV"
   }
  },
  {
   "cell_type": "code",
   "execution_count": 1,
   "source": [
    "### 이곳에서 과제를 진행해 주세요 ### "
   ],
   "outputs": [],
   "metadata": {}
  },
  {
   "cell_type": "markdown",
   "source": [
    "### 2) 모델을 학습한 후 Confusion matrix를 그리고 해석하세요\n",
    "- 임계값을 조정한 후 confusion matrix를 그려보세요\n",
    "- **(Urclass Quiz) 임계값을 증가시킬때 positive 범주의 재현율 변화 중 올바른 설명을 고르세요.**\n",
    "    1. 증가\n",
    "    2. 감소\n",
    "    3. 변화가 없다\n"
   ],
   "metadata": {}
  },
  {
   "cell_type": "code",
   "execution_count": 2,
   "source": [
    "### 이곳에서 과제를 진행해 주세요 ### "
   ],
   "outputs": [],
   "metadata": {}
  },
  {
   "cell_type": "markdown",
   "source": [
    "### 3) 랜덤포레스트의 n_estimator를 1, 10, 100, 1000으로 바꾸어 가며 positive 범주의 predict_proba를 비교해 보세요\n",
    "- 하이퍼파라미터는 다음과 같이 설정합니다.\n",
    "    - n_jobs=-1, random_state=10, max_depth=None, oob_score=True\n",
    "- **(Urclass Quiz) 확률값들의 분포의 변화를 아래 보기 중에서 고르세요**\n",
    "    1. 다양해진다\n",
    "    2. 변화가없다\n"
   ],
   "metadata": {}
  },
  {
   "cell_type": "code",
   "execution_count": 27,
   "source": [
    "### 이곳에서 과제를 진행해 주세요 ###"
   ],
   "outputs": [],
   "metadata": {}
  },
  {
   "cell_type": "markdown",
   "source": [
    "### 4) 두개 이상의 다른 분류 모델을 학습시켜 ROC curve, AUC 점수를 비교하고 설명합니다.\n",
    "- 더 좋은 결과가 나오는 모델을 사용해서 캐글에 제출하세요\n",
    "- **(Urclass Quiz) 캐글 Leaderboard의 본인 Score를 제출하세요.**"
   ],
   "metadata": {}
  },
  {
   "cell_type": "code",
   "execution_count": 4,
   "source": [
    "### 이곳에서 과제를 진행해 주세요 ### "
   ],
   "outputs": [],
   "metadata": {}
  },
  {
   "cell_type": "markdown",
   "source": [
    "## 🔥 도전과제(Github - Discussion)"
   ],
   "metadata": {}
  },
  {
   "cell_type": "markdown",
   "source": [
    "### 5) confusion matrix, classification report 등을 그려 보시고, 각 평가지표들에 대해 최대한 분석하고 precision과 recall 중 어느 것을 높이는 방향으로 모델링 해야할지 논의해 보세요. "
   ],
   "metadata": {}
  },
 {
   "cell_type": "code",
   "execution_count": 5,
   "source": [
    "### 이곳에서 과제를 진행해 주세요 ### "
   ],
   "outputs": [],
   "metadata": {}
  }
 ],
 "metadata": {
  "kernelspec": {
   "display_name": "Python 3",
   "language": "python",
   "name": "python3"
  },
  "language_info": {
   "codemirror_mode": {
    "name": "ipython",
    "version": 3
   },
   "file_extension": ".py",
   "mimetype": "text/x-python",
   "name": "python",
   "nbconvert_exporter": "python",
   "pygments_lexer": "ipython3",
   "version": "3.7.7"
  }
 },
 "nbformat": 4,
 "nbformat_minor": 4
}

