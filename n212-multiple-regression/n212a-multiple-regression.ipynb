{
  "cells": [
    {
      "cell_type": "markdown",
      "source": [
        "<img align=\"right\" src=\"https://ds-cs-images.s3.ap-northeast-2.amazonaws.com/Codestates_Fulllogo_Color.png\" width=100>\n",
        "\n",
        "## *AIB / SECTION 2 / SPRINT 1 / NOTE 2*\n",
        "\n",
        "# 📝 Assignment\n",
        "---"
      ],
      "metadata": {
        "id": "HcbzkhAtu1Wv"
      }
    },
    {
      "cell_type": "markdown",
      "source": [
        "# 다중선형회귀(Multiple Linear Regression)\n",
        "\n",
        "이번 과제에서도 n211 과제 에서 다루었던 housing price dataset을 가지고 배운 내용을 연습해 보겠습니다.\n",
        "다음 링크에서 다운로드 받아 사용해 주세요. [House Sales in King County, USA](https://www.kaggle.com/harlfoxem/housesalesprediction)"
      ],
      "metadata": {
        "id": "7IXUfiQ2UKj6"
      }
    },
    {
      "cell_type": "code",
      "execution_count": 1,
      "source": [
        "# 데이터는 캐글에서 받으셔도 되고 이 링크에서 불러와도 됩니다.\n",
        "import pandas as pd\n",
        "df = pd.read_csv('https://ds-lecture-data.s3.ap-northeast-2.amazonaws.com/kc_house_data/kc_house_data.csv')\n"
      ],
      "outputs": [],
      "metadata": {
        "id": "DXzvSOVSu1Wy"
      }
    },
    {
      "cell_type": "code",
      "execution_count": 2,
      "source": [
        "df.columns"
      ],
      "outputs": [
        {
          "output_type": "execute_result",
          "data": {
            "text/plain": [
              "Index(['id', 'date', 'price', 'bedrooms', 'bathrooms', 'sqft_living',\n",
              "       'sqft_lot', 'floors', 'waterfront', 'view', 'condition', 'grade',\n",
              "       'sqft_above', 'sqft_basement', 'yr_built', 'yr_renovated', 'zipcode',\n",
              "       'lat', 'long', 'sqft_living15', 'sqft_lot15'],\n",
              "      dtype='object')"
            ]
          },
          "metadata": {},
          "execution_count": 2
        }
      ],
      "metadata": {
        "colab": {
          "base_uri": "https://localhost:8080/"
        },
        "id": "J2_ajeVpu1Wz",
        "outputId": "f1eae0bb-91dc-4a41-afb0-0467d491c97a"
      }
    },
    {
      "cell_type": "markdown",
      "source": [
        "### 1) 데이터는 May 2014 ~ May 2015 의 2년치 데이터입니다. 2015-01-01 부터 큰 날짜의 데이터는 테스트, 그 이외의 데이터는 훈련 데이터셋으로 나누어 주세요\n",
        "- **(Urclass Quiz) 훈련데이터 샘플의 갯수를 제출하세요.**"
      ],
      "metadata": {
        "id": "N2BsCtnfu1Wz"
      }
    },
    {
      "cell_type": "code",
      "execution_count": 3,
      "source": [
        "## 데이터의 75% 갯수\n",
        "len(df)*0.75\n"
      ],
      "outputs": [
        {
          "output_type": "execute_result",
          "data": {
            "text/plain": [
              "16209.75"
            ]
          },
          "metadata": {},
          "execution_count": 3
        }
      ],
      "metadata": {
        "colab": {
          "base_uri": "https://localhost:8080/"
        },
        "id": "os1kA0bPu1W0",
        "outputId": "9e51f441-b0ee-4994-8b44-75b8a4322c4d"
      }
    },
    {
      "cell_type": "code",
      "source": [
        "df.head()"
      ],
      "metadata": {
        "colab": {
          "base_uri": "https://localhost:8080/",
          "height": 280
        },
        "id": "omUGTklGu8a3",
        "outputId": "1f3389ad-f54b-4218-f6a9-3c942584bef6"
      },
      "execution_count": 4,
      "outputs": [
        {
          "output_type": "execute_result",
          "data": {
            "text/plain": [
              "           id             date     price  bedrooms  bathrooms  sqft_living  \\\n",
              "0  7129300520  20141013T000000  221900.0         3       1.00         1180   \n",
              "1  6414100192  20141209T000000  538000.0         3       2.25         2570   \n",
              "2  5631500400  20150225T000000  180000.0         2       1.00          770   \n",
              "3  2487200875  20141209T000000  604000.0         4       3.00         1960   \n",
              "4  1954400510  20150218T000000  510000.0         3       2.00         1680   \n",
              "\n",
              "   sqft_lot  floors  waterfront  view  ...  grade  sqft_above  sqft_basement  \\\n",
              "0      5650     1.0           0     0  ...      7        1180              0   \n",
              "1      7242     2.0           0     0  ...      7        2170            400   \n",
              "2     10000     1.0           0     0  ...      6         770              0   \n",
              "3      5000     1.0           0     0  ...      7        1050            910   \n",
              "4      8080     1.0           0     0  ...      8        1680              0   \n",
              "\n",
              "   yr_built  yr_renovated  zipcode      lat     long  sqft_living15  \\\n",
              "0      1955             0    98178  47.5112 -122.257           1340   \n",
              "1      1951          1991    98125  47.7210 -122.319           1690   \n",
              "2      1933             0    98028  47.7379 -122.233           2720   \n",
              "3      1965             0    98136  47.5208 -122.393           1360   \n",
              "4      1987             0    98074  47.6168 -122.045           1800   \n",
              "\n",
              "   sqft_lot15  \n",
              "0        5650  \n",
              "1        7639  \n",
              "2        8062  \n",
              "3        5000  \n",
              "4        7503  \n",
              "\n",
              "[5 rows x 21 columns]"
            ],
            "text/html": [
              "\n",
              "  <div id=\"df-aa12016a-00f5-4770-8242-70370337daac\">\n",
              "    <div class=\"colab-df-container\">\n",
              "      <div>\n",
              "<style scoped>\n",
              "    .dataframe tbody tr th:only-of-type {\n",
              "        vertical-align: middle;\n",
              "    }\n",
              "\n",
              "    .dataframe tbody tr th {\n",
              "        vertical-align: top;\n",
              "    }\n",
              "\n",
              "    .dataframe thead th {\n",
              "        text-align: right;\n",
              "    }\n",
              "</style>\n",
              "<table border=\"1\" class=\"dataframe\">\n",
              "  <thead>\n",
              "    <tr style=\"text-align: right;\">\n",
              "      <th></th>\n",
              "      <th>id</th>\n",
              "      <th>date</th>\n",
              "      <th>price</th>\n",
              "      <th>bedrooms</th>\n",
              "      <th>bathrooms</th>\n",
              "      <th>sqft_living</th>\n",
              "      <th>sqft_lot</th>\n",
              "      <th>floors</th>\n",
              "      <th>waterfront</th>\n",
              "      <th>view</th>\n",
              "      <th>...</th>\n",
              "      <th>grade</th>\n",
              "      <th>sqft_above</th>\n",
              "      <th>sqft_basement</th>\n",
              "      <th>yr_built</th>\n",
              "      <th>yr_renovated</th>\n",
              "      <th>zipcode</th>\n",
              "      <th>lat</th>\n",
              "      <th>long</th>\n",
              "      <th>sqft_living15</th>\n",
              "      <th>sqft_lot15</th>\n",
              "    </tr>\n",
              "  </thead>\n",
              "  <tbody>\n",
              "    <tr>\n",
              "      <th>0</th>\n",
              "      <td>7129300520</td>\n",
              "      <td>20141013T000000</td>\n",
              "      <td>221900.0</td>\n",
              "      <td>3</td>\n",
              "      <td>1.00</td>\n",
              "      <td>1180</td>\n",
              "      <td>5650</td>\n",
              "      <td>1.0</td>\n",
              "      <td>0</td>\n",
              "      <td>0</td>\n",
              "      <td>...</td>\n",
              "      <td>7</td>\n",
              "      <td>1180</td>\n",
              "      <td>0</td>\n",
              "      <td>1955</td>\n",
              "      <td>0</td>\n",
              "      <td>98178</td>\n",
              "      <td>47.5112</td>\n",
              "      <td>-122.257</td>\n",
              "      <td>1340</td>\n",
              "      <td>5650</td>\n",
              "    </tr>\n",
              "    <tr>\n",
              "      <th>1</th>\n",
              "      <td>6414100192</td>\n",
              "      <td>20141209T000000</td>\n",
              "      <td>538000.0</td>\n",
              "      <td>3</td>\n",
              "      <td>2.25</td>\n",
              "      <td>2570</td>\n",
              "      <td>7242</td>\n",
              "      <td>2.0</td>\n",
              "      <td>0</td>\n",
              "      <td>0</td>\n",
              "      <td>...</td>\n",
              "      <td>7</td>\n",
              "      <td>2170</td>\n",
              "      <td>400</td>\n",
              "      <td>1951</td>\n",
              "      <td>1991</td>\n",
              "      <td>98125</td>\n",
              "      <td>47.7210</td>\n",
              "      <td>-122.319</td>\n",
              "      <td>1690</td>\n",
              "      <td>7639</td>\n",
              "    </tr>\n",
              "    <tr>\n",
              "      <th>2</th>\n",
              "      <td>5631500400</td>\n",
              "      <td>20150225T000000</td>\n",
              "      <td>180000.0</td>\n",
              "      <td>2</td>\n",
              "      <td>1.00</td>\n",
              "      <td>770</td>\n",
              "      <td>10000</td>\n",
              "      <td>1.0</td>\n",
              "      <td>0</td>\n",
              "      <td>0</td>\n",
              "      <td>...</td>\n",
              "      <td>6</td>\n",
              "      <td>770</td>\n",
              "      <td>0</td>\n",
              "      <td>1933</td>\n",
              "      <td>0</td>\n",
              "      <td>98028</td>\n",
              "      <td>47.7379</td>\n",
              "      <td>-122.233</td>\n",
              "      <td>2720</td>\n",
              "      <td>8062</td>\n",
              "    </tr>\n",
              "    <tr>\n",
              "      <th>3</th>\n",
              "      <td>2487200875</td>\n",
              "      <td>20141209T000000</td>\n",
              "      <td>604000.0</td>\n",
              "      <td>4</td>\n",
              "      <td>3.00</td>\n",
              "      <td>1960</td>\n",
              "      <td>5000</td>\n",
              "      <td>1.0</td>\n",
              "      <td>0</td>\n",
              "      <td>0</td>\n",
              "      <td>...</td>\n",
              "      <td>7</td>\n",
              "      <td>1050</td>\n",
              "      <td>910</td>\n",
              "      <td>1965</td>\n",
              "      <td>0</td>\n",
              "      <td>98136</td>\n",
              "      <td>47.5208</td>\n",
              "      <td>-122.393</td>\n",
              "      <td>1360</td>\n",
              "      <td>5000</td>\n",
              "    </tr>\n",
              "    <tr>\n",
              "      <th>4</th>\n",
              "      <td>1954400510</td>\n",
              "      <td>20150218T000000</td>\n",
              "      <td>510000.0</td>\n",
              "      <td>3</td>\n",
              "      <td>2.00</td>\n",
              "      <td>1680</td>\n",
              "      <td>8080</td>\n",
              "      <td>1.0</td>\n",
              "      <td>0</td>\n",
              "      <td>0</td>\n",
              "      <td>...</td>\n",
              "      <td>8</td>\n",
              "      <td>1680</td>\n",
              "      <td>0</td>\n",
              "      <td>1987</td>\n",
              "      <td>0</td>\n",
              "      <td>98074</td>\n",
              "      <td>47.6168</td>\n",
              "      <td>-122.045</td>\n",
              "      <td>1800</td>\n",
              "      <td>7503</td>\n",
              "    </tr>\n",
              "  </tbody>\n",
              "</table>\n",
              "<p>5 rows × 21 columns</p>\n",
              "</div>\n",
              "      <button class=\"colab-df-convert\" onclick=\"convertToInteractive('df-aa12016a-00f5-4770-8242-70370337daac')\"\n",
              "              title=\"Convert this dataframe to an interactive table.\"\n",
              "              style=\"display:none;\">\n",
              "        \n",
              "  <svg xmlns=\"http://www.w3.org/2000/svg\" height=\"24px\"viewBox=\"0 0 24 24\"\n",
              "       width=\"24px\">\n",
              "    <path d=\"M0 0h24v24H0V0z\" fill=\"none\"/>\n",
              "    <path d=\"M18.56 5.44l.94 2.06.94-2.06 2.06-.94-2.06-.94-.94-2.06-.94 2.06-2.06.94zm-11 1L8.5 8.5l.94-2.06 2.06-.94-2.06-.94L8.5 2.5l-.94 2.06-2.06.94zm10 10l.94 2.06.94-2.06 2.06-.94-2.06-.94-.94-2.06-.94 2.06-2.06.94z\"/><path d=\"M17.41 7.96l-1.37-1.37c-.4-.4-.92-.59-1.43-.59-.52 0-1.04.2-1.43.59L10.3 9.45l-7.72 7.72c-.78.78-.78 2.05 0 2.83L4 21.41c.39.39.9.59 1.41.59.51 0 1.02-.2 1.41-.59l7.78-7.78 2.81-2.81c.8-.78.8-2.07 0-2.86zM5.41 20L4 18.59l7.72-7.72 1.47 1.35L5.41 20z\"/>\n",
              "  </svg>\n",
              "      </button>\n",
              "      \n",
              "  <style>\n",
              "    .colab-df-container {\n",
              "      display:flex;\n",
              "      flex-wrap:wrap;\n",
              "      gap: 12px;\n",
              "    }\n",
              "\n",
              "    .colab-df-convert {\n",
              "      background-color: #E8F0FE;\n",
              "      border: none;\n",
              "      border-radius: 50%;\n",
              "      cursor: pointer;\n",
              "      display: none;\n",
              "      fill: #1967D2;\n",
              "      height: 32px;\n",
              "      padding: 0 0 0 0;\n",
              "      width: 32px;\n",
              "    }\n",
              "\n",
              "    .colab-df-convert:hover {\n",
              "      background-color: #E2EBFA;\n",
              "      box-shadow: 0px 1px 2px rgba(60, 64, 67, 0.3), 0px 1px 3px 1px rgba(60, 64, 67, 0.15);\n",
              "      fill: #174EA6;\n",
              "    }\n",
              "\n",
              "    [theme=dark] .colab-df-convert {\n",
              "      background-color: #3B4455;\n",
              "      fill: #D2E3FC;\n",
              "    }\n",
              "\n",
              "    [theme=dark] .colab-df-convert:hover {\n",
              "      background-color: #434B5C;\n",
              "      box-shadow: 0px 1px 3px 1px rgba(0, 0, 0, 0.15);\n",
              "      filter: drop-shadow(0px 1px 2px rgba(0, 0, 0, 0.3));\n",
              "      fill: #FFFFFF;\n",
              "    }\n",
              "  </style>\n",
              "\n",
              "      <script>\n",
              "        const buttonEl =\n",
              "          document.querySelector('#df-aa12016a-00f5-4770-8242-70370337daac button.colab-df-convert');\n",
              "        buttonEl.style.display =\n",
              "          google.colab.kernel.accessAllowed ? 'block' : 'none';\n",
              "\n",
              "        async function convertToInteractive(key) {\n",
              "          const element = document.querySelector('#df-aa12016a-00f5-4770-8242-70370337daac');\n",
              "          const dataTable =\n",
              "            await google.colab.kernel.invokeFunction('convertToInteractive',\n",
              "                                                     [key], {});\n",
              "          if (!dataTable) return;\n",
              "\n",
              "          const docLinkHtml = 'Like what you see? Visit the ' +\n",
              "            '<a target=\"_blank\" href=https://colab.research.google.com/notebooks/data_table.ipynb>data table notebook</a>'\n",
              "            + ' to learn more about interactive tables.';\n",
              "          element.innerHTML = '';\n",
              "          dataTable['output_type'] = 'display_data';\n",
              "          await google.colab.output.renderOutput(dataTable, element);\n",
              "          const docLink = document.createElement('div');\n",
              "          docLink.innerHTML = docLinkHtml;\n",
              "          element.appendChild(docLink);\n",
              "        }\n",
              "      </script>\n",
              "    </div>\n",
              "  </div>\n",
              "  "
            ]
          },
          "metadata": {},
          "execution_count": 4
        }
      ]
    },
    {
      "cell_type": "code",
      "source": [
        "df['date'] = pd.to_datetime(df['date'], format='%Y-%m-%d %H:%M:%S', errors='raise')  ## 날짜 데이터타입을 datetime으로 변환"
      ],
      "metadata": {
        "id": "sqDv5Q2JvO-n"
      },
      "execution_count": 5,
      "outputs": []
    },
    {
      "cell_type": "code",
      "source": [
        "df[df['date'].dt.year==2015]  ## 2015년 데이터만 나왔는지 확인"
      ],
      "metadata": {
        "colab": {
          "base_uri": "https://localhost:8080/",
          "height": 468
        },
        "id": "Uy-SLGBGv5wy",
        "outputId": "67f5fa60-c47c-4525-bd26-88c6ee18acf9"
      },
      "execution_count": 6,
      "outputs": [
        {
          "output_type": "execute_result",
          "data": {
            "text/plain": [
              "               id       date      price  bedrooms  bathrooms  sqft_living  \\\n",
              "2      5631500400 2015-02-25   180000.0         2        1.0          770   \n",
              "4      1954400510 2015-02-18   510000.0         3        2.0         1680   \n",
              "7      2008000270 2015-01-15   291850.0         3        1.5         1060   \n",
              "8      2414600126 2015-04-15   229500.0         3        1.0         1780   \n",
              "9      3793500160 2015-03-12   323000.0         3        2.5         1890   \n",
              "...           ...        ...        ...       ...        ...          ...   \n",
              "21604  9834201367 2015-01-26   429000.0         3        2.0         1490   \n",
              "21606  7936000429 2015-03-26  1007500.0         4        3.5         3510   \n",
              "21607  2997800021 2015-02-19   475000.0         3        2.5         1310   \n",
              "21609  6600060120 2015-02-23   400000.0         4        2.5         2310   \n",
              "21611   291310100 2015-01-16   400000.0         3        2.5         1600   \n",
              "\n",
              "       sqft_lot  floors  waterfront  view  ...  grade  sqft_above  \\\n",
              "2         10000     1.0           0     0  ...      6         770   \n",
              "4          8080     1.0           0     0  ...      8        1680   \n",
              "7          9711     1.0           0     0  ...      7        1060   \n",
              "8          7470     1.0           0     0  ...      7        1050   \n",
              "9          6560     2.0           0     0  ...      7        1890   \n",
              "...         ...     ...         ...   ...  ...    ...         ...   \n",
              "21604      1126     3.0           0     0  ...      8        1490   \n",
              "21606      7200     2.0           0     0  ...      9        2600   \n",
              "21607      1294     2.0           0     0  ...      8        1180   \n",
              "21609      5813     2.0           0     0  ...      8        2310   \n",
              "21611      2388     2.0           0     0  ...      8        1600   \n",
              "\n",
              "       sqft_basement  yr_built  yr_renovated  zipcode      lat     long  \\\n",
              "2                  0      1933             0    98028  47.7379 -122.233   \n",
              "4                  0      1987             0    98074  47.6168 -122.045   \n",
              "7                  0      1963             0    98198  47.4095 -122.315   \n",
              "8                730      1960             0    98146  47.5123 -122.337   \n",
              "9                  0      2003             0    98038  47.3684 -122.031   \n",
              "...              ...       ...           ...      ...      ...      ...   \n",
              "21604              0      2014             0    98144  47.5699 -122.288   \n",
              "21606            910      2009             0    98136  47.5537 -122.398   \n",
              "21607            130      2008             0    98116  47.5773 -122.409   \n",
              "21609              0      2014             0    98146  47.5107 -122.362   \n",
              "21611              0      2004             0    98027  47.5345 -122.069   \n",
              "\n",
              "       sqft_living15  sqft_lot15  \n",
              "2               2720        8062  \n",
              "4               1800        7503  \n",
              "7               1650        9711  \n",
              "8               1780        8113  \n",
              "9               2390        7570  \n",
              "...              ...         ...  \n",
              "21604           1400        1230  \n",
              "21606           2050        6200  \n",
              "21607           1330        1265  \n",
              "21609           1830        7200  \n",
              "21611           1410        1287  \n",
              "\n",
              "[6980 rows x 21 columns]"
            ],
            "text/html": [
              "\n",
              "  <div id=\"df-42b4dd98-d230-4e8e-933f-c23b82be9d6e\">\n",
              "    <div class=\"colab-df-container\">\n",
              "      <div>\n",
              "<style scoped>\n",
              "    .dataframe tbody tr th:only-of-type {\n",
              "        vertical-align: middle;\n",
              "    }\n",
              "\n",
              "    .dataframe tbody tr th {\n",
              "        vertical-align: top;\n",
              "    }\n",
              "\n",
              "    .dataframe thead th {\n",
              "        text-align: right;\n",
              "    }\n",
              "</style>\n",
              "<table border=\"1\" class=\"dataframe\">\n",
              "  <thead>\n",
              "    <tr style=\"text-align: right;\">\n",
              "      <th></th>\n",
              "      <th>id</th>\n",
              "      <th>date</th>\n",
              "      <th>price</th>\n",
              "      <th>bedrooms</th>\n",
              "      <th>bathrooms</th>\n",
              "      <th>sqft_living</th>\n",
              "      <th>sqft_lot</th>\n",
              "      <th>floors</th>\n",
              "      <th>waterfront</th>\n",
              "      <th>view</th>\n",
              "      <th>...</th>\n",
              "      <th>grade</th>\n",
              "      <th>sqft_above</th>\n",
              "      <th>sqft_basement</th>\n",
              "      <th>yr_built</th>\n",
              "      <th>yr_renovated</th>\n",
              "      <th>zipcode</th>\n",
              "      <th>lat</th>\n",
              "      <th>long</th>\n",
              "      <th>sqft_living15</th>\n",
              "      <th>sqft_lot15</th>\n",
              "    </tr>\n",
              "  </thead>\n",
              "  <tbody>\n",
              "    <tr>\n",
              "      <th>2</th>\n",
              "      <td>5631500400</td>\n",
              "      <td>2015-02-25</td>\n",
              "      <td>180000.0</td>\n",
              "      <td>2</td>\n",
              "      <td>1.0</td>\n",
              "      <td>770</td>\n",
              "      <td>10000</td>\n",
              "      <td>1.0</td>\n",
              "      <td>0</td>\n",
              "      <td>0</td>\n",
              "      <td>...</td>\n",
              "      <td>6</td>\n",
              "      <td>770</td>\n",
              "      <td>0</td>\n",
              "      <td>1933</td>\n",
              "      <td>0</td>\n",
              "      <td>98028</td>\n",
              "      <td>47.7379</td>\n",
              "      <td>-122.233</td>\n",
              "      <td>2720</td>\n",
              "      <td>8062</td>\n",
              "    </tr>\n",
              "    <tr>\n",
              "      <th>4</th>\n",
              "      <td>1954400510</td>\n",
              "      <td>2015-02-18</td>\n",
              "      <td>510000.0</td>\n",
              "      <td>3</td>\n",
              "      <td>2.0</td>\n",
              "      <td>1680</td>\n",
              "      <td>8080</td>\n",
              "      <td>1.0</td>\n",
              "      <td>0</td>\n",
              "      <td>0</td>\n",
              "      <td>...</td>\n",
              "      <td>8</td>\n",
              "      <td>1680</td>\n",
              "      <td>0</td>\n",
              "      <td>1987</td>\n",
              "      <td>0</td>\n",
              "      <td>98074</td>\n",
              "      <td>47.6168</td>\n",
              "      <td>-122.045</td>\n",
              "      <td>1800</td>\n",
              "      <td>7503</td>\n",
              "    </tr>\n",
              "    <tr>\n",
              "      <th>7</th>\n",
              "      <td>2008000270</td>\n",
              "      <td>2015-01-15</td>\n",
              "      <td>291850.0</td>\n",
              "      <td>3</td>\n",
              "      <td>1.5</td>\n",
              "      <td>1060</td>\n",
              "      <td>9711</td>\n",
              "      <td>1.0</td>\n",
              "      <td>0</td>\n",
              "      <td>0</td>\n",
              "      <td>...</td>\n",
              "      <td>7</td>\n",
              "      <td>1060</td>\n",
              "      <td>0</td>\n",
              "      <td>1963</td>\n",
              "      <td>0</td>\n",
              "      <td>98198</td>\n",
              "      <td>47.4095</td>\n",
              "      <td>-122.315</td>\n",
              "      <td>1650</td>\n",
              "      <td>9711</td>\n",
              "    </tr>\n",
              "    <tr>\n",
              "      <th>8</th>\n",
              "      <td>2414600126</td>\n",
              "      <td>2015-04-15</td>\n",
              "      <td>229500.0</td>\n",
              "      <td>3</td>\n",
              "      <td>1.0</td>\n",
              "      <td>1780</td>\n",
              "      <td>7470</td>\n",
              "      <td>1.0</td>\n",
              "      <td>0</td>\n",
              "      <td>0</td>\n",
              "      <td>...</td>\n",
              "      <td>7</td>\n",
              "      <td>1050</td>\n",
              "      <td>730</td>\n",
              "      <td>1960</td>\n",
              "      <td>0</td>\n",
              "      <td>98146</td>\n",
              "      <td>47.5123</td>\n",
              "      <td>-122.337</td>\n",
              "      <td>1780</td>\n",
              "      <td>8113</td>\n",
              "    </tr>\n",
              "    <tr>\n",
              "      <th>9</th>\n",
              "      <td>3793500160</td>\n",
              "      <td>2015-03-12</td>\n",
              "      <td>323000.0</td>\n",
              "      <td>3</td>\n",
              "      <td>2.5</td>\n",
              "      <td>1890</td>\n",
              "      <td>6560</td>\n",
              "      <td>2.0</td>\n",
              "      <td>0</td>\n",
              "      <td>0</td>\n",
              "      <td>...</td>\n",
              "      <td>7</td>\n",
              "      <td>1890</td>\n",
              "      <td>0</td>\n",
              "      <td>2003</td>\n",
              "      <td>0</td>\n",
              "      <td>98038</td>\n",
              "      <td>47.3684</td>\n",
              "      <td>-122.031</td>\n",
              "      <td>2390</td>\n",
              "      <td>7570</td>\n",
              "    </tr>\n",
              "    <tr>\n",
              "      <th>...</th>\n",
              "      <td>...</td>\n",
              "      <td>...</td>\n",
              "      <td>...</td>\n",
              "      <td>...</td>\n",
              "      <td>...</td>\n",
              "      <td>...</td>\n",
              "      <td>...</td>\n",
              "      <td>...</td>\n",
              "      <td>...</td>\n",
              "      <td>...</td>\n",
              "      <td>...</td>\n",
              "      <td>...</td>\n",
              "      <td>...</td>\n",
              "      <td>...</td>\n",
              "      <td>...</td>\n",
              "      <td>...</td>\n",
              "      <td>...</td>\n",
              "      <td>...</td>\n",
              "      <td>...</td>\n",
              "      <td>...</td>\n",
              "      <td>...</td>\n",
              "    </tr>\n",
              "    <tr>\n",
              "      <th>21604</th>\n",
              "      <td>9834201367</td>\n",
              "      <td>2015-01-26</td>\n",
              "      <td>429000.0</td>\n",
              "      <td>3</td>\n",
              "      <td>2.0</td>\n",
              "      <td>1490</td>\n",
              "      <td>1126</td>\n",
              "      <td>3.0</td>\n",
              "      <td>0</td>\n",
              "      <td>0</td>\n",
              "      <td>...</td>\n",
              "      <td>8</td>\n",
              "      <td>1490</td>\n",
              "      <td>0</td>\n",
              "      <td>2014</td>\n",
              "      <td>0</td>\n",
              "      <td>98144</td>\n",
              "      <td>47.5699</td>\n",
              "      <td>-122.288</td>\n",
              "      <td>1400</td>\n",
              "      <td>1230</td>\n",
              "    </tr>\n",
              "    <tr>\n",
              "      <th>21606</th>\n",
              "      <td>7936000429</td>\n",
              "      <td>2015-03-26</td>\n",
              "      <td>1007500.0</td>\n",
              "      <td>4</td>\n",
              "      <td>3.5</td>\n",
              "      <td>3510</td>\n",
              "      <td>7200</td>\n",
              "      <td>2.0</td>\n",
              "      <td>0</td>\n",
              "      <td>0</td>\n",
              "      <td>...</td>\n",
              "      <td>9</td>\n",
              "      <td>2600</td>\n",
              "      <td>910</td>\n",
              "      <td>2009</td>\n",
              "      <td>0</td>\n",
              "      <td>98136</td>\n",
              "      <td>47.5537</td>\n",
              "      <td>-122.398</td>\n",
              "      <td>2050</td>\n",
              "      <td>6200</td>\n",
              "    </tr>\n",
              "    <tr>\n",
              "      <th>21607</th>\n",
              "      <td>2997800021</td>\n",
              "      <td>2015-02-19</td>\n",
              "      <td>475000.0</td>\n",
              "      <td>3</td>\n",
              "      <td>2.5</td>\n",
              "      <td>1310</td>\n",
              "      <td>1294</td>\n",
              "      <td>2.0</td>\n",
              "      <td>0</td>\n",
              "      <td>0</td>\n",
              "      <td>...</td>\n",
              "      <td>8</td>\n",
              "      <td>1180</td>\n",
              "      <td>130</td>\n",
              "      <td>2008</td>\n",
              "      <td>0</td>\n",
              "      <td>98116</td>\n",
              "      <td>47.5773</td>\n",
              "      <td>-122.409</td>\n",
              "      <td>1330</td>\n",
              "      <td>1265</td>\n",
              "    </tr>\n",
              "    <tr>\n",
              "      <th>21609</th>\n",
              "      <td>6600060120</td>\n",
              "      <td>2015-02-23</td>\n",
              "      <td>400000.0</td>\n",
              "      <td>4</td>\n",
              "      <td>2.5</td>\n",
              "      <td>2310</td>\n",
              "      <td>5813</td>\n",
              "      <td>2.0</td>\n",
              "      <td>0</td>\n",
              "      <td>0</td>\n",
              "      <td>...</td>\n",
              "      <td>8</td>\n",
              "      <td>2310</td>\n",
              "      <td>0</td>\n",
              "      <td>2014</td>\n",
              "      <td>0</td>\n",
              "      <td>98146</td>\n",
              "      <td>47.5107</td>\n",
              "      <td>-122.362</td>\n",
              "      <td>1830</td>\n",
              "      <td>7200</td>\n",
              "    </tr>\n",
              "    <tr>\n",
              "      <th>21611</th>\n",
              "      <td>291310100</td>\n",
              "      <td>2015-01-16</td>\n",
              "      <td>400000.0</td>\n",
              "      <td>3</td>\n",
              "      <td>2.5</td>\n",
              "      <td>1600</td>\n",
              "      <td>2388</td>\n",
              "      <td>2.0</td>\n",
              "      <td>0</td>\n",
              "      <td>0</td>\n",
              "      <td>...</td>\n",
              "      <td>8</td>\n",
              "      <td>1600</td>\n",
              "      <td>0</td>\n",
              "      <td>2004</td>\n",
              "      <td>0</td>\n",
              "      <td>98027</td>\n",
              "      <td>47.5345</td>\n",
              "      <td>-122.069</td>\n",
              "      <td>1410</td>\n",
              "      <td>1287</td>\n",
              "    </tr>\n",
              "  </tbody>\n",
              "</table>\n",
              "<p>6980 rows × 21 columns</p>\n",
              "</div>\n",
              "      <button class=\"colab-df-convert\" onclick=\"convertToInteractive('df-42b4dd98-d230-4e8e-933f-c23b82be9d6e')\"\n",
              "              title=\"Convert this dataframe to an interactive table.\"\n",
              "              style=\"display:none;\">\n",
              "        \n",
              "  <svg xmlns=\"http://www.w3.org/2000/svg\" height=\"24px\"viewBox=\"0 0 24 24\"\n",
              "       width=\"24px\">\n",
              "    <path d=\"M0 0h24v24H0V0z\" fill=\"none\"/>\n",
              "    <path d=\"M18.56 5.44l.94 2.06.94-2.06 2.06-.94-2.06-.94-.94-2.06-.94 2.06-2.06.94zm-11 1L8.5 8.5l.94-2.06 2.06-.94-2.06-.94L8.5 2.5l-.94 2.06-2.06.94zm10 10l.94 2.06.94-2.06 2.06-.94-2.06-.94-.94-2.06-.94 2.06-2.06.94z\"/><path d=\"M17.41 7.96l-1.37-1.37c-.4-.4-.92-.59-1.43-.59-.52 0-1.04.2-1.43.59L10.3 9.45l-7.72 7.72c-.78.78-.78 2.05 0 2.83L4 21.41c.39.39.9.59 1.41.59.51 0 1.02-.2 1.41-.59l7.78-7.78 2.81-2.81c.8-.78.8-2.07 0-2.86zM5.41 20L4 18.59l7.72-7.72 1.47 1.35L5.41 20z\"/>\n",
              "  </svg>\n",
              "      </button>\n",
              "      \n",
              "  <style>\n",
              "    .colab-df-container {\n",
              "      display:flex;\n",
              "      flex-wrap:wrap;\n",
              "      gap: 12px;\n",
              "    }\n",
              "\n",
              "    .colab-df-convert {\n",
              "      background-color: #E8F0FE;\n",
              "      border: none;\n",
              "      border-radius: 50%;\n",
              "      cursor: pointer;\n",
              "      display: none;\n",
              "      fill: #1967D2;\n",
              "      height: 32px;\n",
              "      padding: 0 0 0 0;\n",
              "      width: 32px;\n",
              "    }\n",
              "\n",
              "    .colab-df-convert:hover {\n",
              "      background-color: #E2EBFA;\n",
              "      box-shadow: 0px 1px 2px rgba(60, 64, 67, 0.3), 0px 1px 3px 1px rgba(60, 64, 67, 0.15);\n",
              "      fill: #174EA6;\n",
              "    }\n",
              "\n",
              "    [theme=dark] .colab-df-convert {\n",
              "      background-color: #3B4455;\n",
              "      fill: #D2E3FC;\n",
              "    }\n",
              "\n",
              "    [theme=dark] .colab-df-convert:hover {\n",
              "      background-color: #434B5C;\n",
              "      box-shadow: 0px 1px 3px 1px rgba(0, 0, 0, 0.15);\n",
              "      filter: drop-shadow(0px 1px 2px rgba(0, 0, 0, 0.3));\n",
              "      fill: #FFFFFF;\n",
              "    }\n",
              "  </style>\n",
              "\n",
              "      <script>\n",
              "        const buttonEl =\n",
              "          document.querySelector('#df-42b4dd98-d230-4e8e-933f-c23b82be9d6e button.colab-df-convert');\n",
              "        buttonEl.style.display =\n",
              "          google.colab.kernel.accessAllowed ? 'block' : 'none';\n",
              "\n",
              "        async function convertToInteractive(key) {\n",
              "          const element = document.querySelector('#df-42b4dd98-d230-4e8e-933f-c23b82be9d6e');\n",
              "          const dataTable =\n",
              "            await google.colab.kernel.invokeFunction('convertToInteractive',\n",
              "                                                     [key], {});\n",
              "          if (!dataTable) return;\n",
              "\n",
              "          const docLinkHtml = 'Like what you see? Visit the ' +\n",
              "            '<a target=\"_blank\" href=https://colab.research.google.com/notebooks/data_table.ipynb>data table notebook</a>'\n",
              "            + ' to learn more about interactive tables.';\n",
              "          element.innerHTML = '';\n",
              "          dataTable['output_type'] = 'display_data';\n",
              "          await google.colab.output.renderOutput(dataTable, element);\n",
              "          const docLink = document.createElement('div');\n",
              "          docLink.innerHTML = docLinkHtml;\n",
              "          element.appendChild(docLink);\n",
              "        }\n",
              "      </script>\n",
              "    </div>\n",
              "  </div>\n",
              "  "
            ]
          },
          "metadata": {},
          "execution_count": 6
        }
      ]
    },
    {
      "cell_type": "code",
      "source": [
        "# train/test 데이터를 sample 메소드를 사용해 나누겠습니다.\n",
        "# test = 2015년 // train = 2014년\n",
        "test = df[df['date'].dt.year==2015]  \n",
        "train = df.drop(test.index)"
      ],
      "metadata": {
        "id": "Vr-RD1jwuoWD"
      },
      "execution_count": 7,
      "outputs": []
    },
    {
      "cell_type": "code",
      "source": [
        "train.head()"
      ],
      "metadata": {
        "colab": {
          "base_uri": "https://localhost:8080/",
          "height": 236
        },
        "id": "ceDodjM3wsuG",
        "outputId": "751cb38f-2b0a-4d95-fa04-a2fcf296b83d"
      },
      "execution_count": 8,
      "outputs": [
        {
          "output_type": "execute_result",
          "data": {
            "text/plain": [
              "           id       date      price  bedrooms  bathrooms  sqft_living  \\\n",
              "0  7129300520 2014-10-13   221900.0         3       1.00         1180   \n",
              "1  6414100192 2014-12-09   538000.0         3       2.25         2570   \n",
              "3  2487200875 2014-12-09   604000.0         4       3.00         1960   \n",
              "5  7237550310 2014-05-12  1225000.0         4       4.50         5420   \n",
              "6  1321400060 2014-06-27   257500.0         3       2.25         1715   \n",
              "\n",
              "   sqft_lot  floors  waterfront  view  ...  grade  sqft_above  sqft_basement  \\\n",
              "0      5650     1.0           0     0  ...      7        1180              0   \n",
              "1      7242     2.0           0     0  ...      7        2170            400   \n",
              "3      5000     1.0           0     0  ...      7        1050            910   \n",
              "5    101930     1.0           0     0  ...     11        3890           1530   \n",
              "6      6819     2.0           0     0  ...      7        1715              0   \n",
              "\n",
              "   yr_built  yr_renovated  zipcode      lat     long  sqft_living15  \\\n",
              "0      1955             0    98178  47.5112 -122.257           1340   \n",
              "1      1951          1991    98125  47.7210 -122.319           1690   \n",
              "3      1965             0    98136  47.5208 -122.393           1360   \n",
              "5      2001             0    98053  47.6561 -122.005           4760   \n",
              "6      1995             0    98003  47.3097 -122.327           2238   \n",
              "\n",
              "   sqft_lot15  \n",
              "0        5650  \n",
              "1        7639  \n",
              "3        5000  \n",
              "5      101930  \n",
              "6        6819  \n",
              "\n",
              "[5 rows x 21 columns]"
            ],
            "text/html": [
              "\n",
              "  <div id=\"df-eb6b5d9f-1af0-4b6e-bcef-7701792032bd\">\n",
              "    <div class=\"colab-df-container\">\n",
              "      <div>\n",
              "<style scoped>\n",
              "    .dataframe tbody tr th:only-of-type {\n",
              "        vertical-align: middle;\n",
              "    }\n",
              "\n",
              "    .dataframe tbody tr th {\n",
              "        vertical-align: top;\n",
              "    }\n",
              "\n",
              "    .dataframe thead th {\n",
              "        text-align: right;\n",
              "    }\n",
              "</style>\n",
              "<table border=\"1\" class=\"dataframe\">\n",
              "  <thead>\n",
              "    <tr style=\"text-align: right;\">\n",
              "      <th></th>\n",
              "      <th>id</th>\n",
              "      <th>date</th>\n",
              "      <th>price</th>\n",
              "      <th>bedrooms</th>\n",
              "      <th>bathrooms</th>\n",
              "      <th>sqft_living</th>\n",
              "      <th>sqft_lot</th>\n",
              "      <th>floors</th>\n",
              "      <th>waterfront</th>\n",
              "      <th>view</th>\n",
              "      <th>...</th>\n",
              "      <th>grade</th>\n",
              "      <th>sqft_above</th>\n",
              "      <th>sqft_basement</th>\n",
              "      <th>yr_built</th>\n",
              "      <th>yr_renovated</th>\n",
              "      <th>zipcode</th>\n",
              "      <th>lat</th>\n",
              "      <th>long</th>\n",
              "      <th>sqft_living15</th>\n",
              "      <th>sqft_lot15</th>\n",
              "    </tr>\n",
              "  </thead>\n",
              "  <tbody>\n",
              "    <tr>\n",
              "      <th>0</th>\n",
              "      <td>7129300520</td>\n",
              "      <td>2014-10-13</td>\n",
              "      <td>221900.0</td>\n",
              "      <td>3</td>\n",
              "      <td>1.00</td>\n",
              "      <td>1180</td>\n",
              "      <td>5650</td>\n",
              "      <td>1.0</td>\n",
              "      <td>0</td>\n",
              "      <td>0</td>\n",
              "      <td>...</td>\n",
              "      <td>7</td>\n",
              "      <td>1180</td>\n",
              "      <td>0</td>\n",
              "      <td>1955</td>\n",
              "      <td>0</td>\n",
              "      <td>98178</td>\n",
              "      <td>47.5112</td>\n",
              "      <td>-122.257</td>\n",
              "      <td>1340</td>\n",
              "      <td>5650</td>\n",
              "    </tr>\n",
              "    <tr>\n",
              "      <th>1</th>\n",
              "      <td>6414100192</td>\n",
              "      <td>2014-12-09</td>\n",
              "      <td>538000.0</td>\n",
              "      <td>3</td>\n",
              "      <td>2.25</td>\n",
              "      <td>2570</td>\n",
              "      <td>7242</td>\n",
              "      <td>2.0</td>\n",
              "      <td>0</td>\n",
              "      <td>0</td>\n",
              "      <td>...</td>\n",
              "      <td>7</td>\n",
              "      <td>2170</td>\n",
              "      <td>400</td>\n",
              "      <td>1951</td>\n",
              "      <td>1991</td>\n",
              "      <td>98125</td>\n",
              "      <td>47.7210</td>\n",
              "      <td>-122.319</td>\n",
              "      <td>1690</td>\n",
              "      <td>7639</td>\n",
              "    </tr>\n",
              "    <tr>\n",
              "      <th>3</th>\n",
              "      <td>2487200875</td>\n",
              "      <td>2014-12-09</td>\n",
              "      <td>604000.0</td>\n",
              "      <td>4</td>\n",
              "      <td>3.00</td>\n",
              "      <td>1960</td>\n",
              "      <td>5000</td>\n",
              "      <td>1.0</td>\n",
              "      <td>0</td>\n",
              "      <td>0</td>\n",
              "      <td>...</td>\n",
              "      <td>7</td>\n",
              "      <td>1050</td>\n",
              "      <td>910</td>\n",
              "      <td>1965</td>\n",
              "      <td>0</td>\n",
              "      <td>98136</td>\n",
              "      <td>47.5208</td>\n",
              "      <td>-122.393</td>\n",
              "      <td>1360</td>\n",
              "      <td>5000</td>\n",
              "    </tr>\n",
              "    <tr>\n",
              "      <th>5</th>\n",
              "      <td>7237550310</td>\n",
              "      <td>2014-05-12</td>\n",
              "      <td>1225000.0</td>\n",
              "      <td>4</td>\n",
              "      <td>4.50</td>\n",
              "      <td>5420</td>\n",
              "      <td>101930</td>\n",
              "      <td>1.0</td>\n",
              "      <td>0</td>\n",
              "      <td>0</td>\n",
              "      <td>...</td>\n",
              "      <td>11</td>\n",
              "      <td>3890</td>\n",
              "      <td>1530</td>\n",
              "      <td>2001</td>\n",
              "      <td>0</td>\n",
              "      <td>98053</td>\n",
              "      <td>47.6561</td>\n",
              "      <td>-122.005</td>\n",
              "      <td>4760</td>\n",
              "      <td>101930</td>\n",
              "    </tr>\n",
              "    <tr>\n",
              "      <th>6</th>\n",
              "      <td>1321400060</td>\n",
              "      <td>2014-06-27</td>\n",
              "      <td>257500.0</td>\n",
              "      <td>3</td>\n",
              "      <td>2.25</td>\n",
              "      <td>1715</td>\n",
              "      <td>6819</td>\n",
              "      <td>2.0</td>\n",
              "      <td>0</td>\n",
              "      <td>0</td>\n",
              "      <td>...</td>\n",
              "      <td>7</td>\n",
              "      <td>1715</td>\n",
              "      <td>0</td>\n",
              "      <td>1995</td>\n",
              "      <td>0</td>\n",
              "      <td>98003</td>\n",
              "      <td>47.3097</td>\n",
              "      <td>-122.327</td>\n",
              "      <td>2238</td>\n",
              "      <td>6819</td>\n",
              "    </tr>\n",
              "  </tbody>\n",
              "</table>\n",
              "<p>5 rows × 21 columns</p>\n",
              "</div>\n",
              "      <button class=\"colab-df-convert\" onclick=\"convertToInteractive('df-eb6b5d9f-1af0-4b6e-bcef-7701792032bd')\"\n",
              "              title=\"Convert this dataframe to an interactive table.\"\n",
              "              style=\"display:none;\">\n",
              "        \n",
              "  <svg xmlns=\"http://www.w3.org/2000/svg\" height=\"24px\"viewBox=\"0 0 24 24\"\n",
              "       width=\"24px\">\n",
              "    <path d=\"M0 0h24v24H0V0z\" fill=\"none\"/>\n",
              "    <path d=\"M18.56 5.44l.94 2.06.94-2.06 2.06-.94-2.06-.94-.94-2.06-.94 2.06-2.06.94zm-11 1L8.5 8.5l.94-2.06 2.06-.94-2.06-.94L8.5 2.5l-.94 2.06-2.06.94zm10 10l.94 2.06.94-2.06 2.06-.94-2.06-.94-.94-2.06-.94 2.06-2.06.94z\"/><path d=\"M17.41 7.96l-1.37-1.37c-.4-.4-.92-.59-1.43-.59-.52 0-1.04.2-1.43.59L10.3 9.45l-7.72 7.72c-.78.78-.78 2.05 0 2.83L4 21.41c.39.39.9.59 1.41.59.51 0 1.02-.2 1.41-.59l7.78-7.78 2.81-2.81c.8-.78.8-2.07 0-2.86zM5.41 20L4 18.59l7.72-7.72 1.47 1.35L5.41 20z\"/>\n",
              "  </svg>\n",
              "      </button>\n",
              "      \n",
              "  <style>\n",
              "    .colab-df-container {\n",
              "      display:flex;\n",
              "      flex-wrap:wrap;\n",
              "      gap: 12px;\n",
              "    }\n",
              "\n",
              "    .colab-df-convert {\n",
              "      background-color: #E8F0FE;\n",
              "      border: none;\n",
              "      border-radius: 50%;\n",
              "      cursor: pointer;\n",
              "      display: none;\n",
              "      fill: #1967D2;\n",
              "      height: 32px;\n",
              "      padding: 0 0 0 0;\n",
              "      width: 32px;\n",
              "    }\n",
              "\n",
              "    .colab-df-convert:hover {\n",
              "      background-color: #E2EBFA;\n",
              "      box-shadow: 0px 1px 2px rgba(60, 64, 67, 0.3), 0px 1px 3px 1px rgba(60, 64, 67, 0.15);\n",
              "      fill: #174EA6;\n",
              "    }\n",
              "\n",
              "    [theme=dark] .colab-df-convert {\n",
              "      background-color: #3B4455;\n",
              "      fill: #D2E3FC;\n",
              "    }\n",
              "\n",
              "    [theme=dark] .colab-df-convert:hover {\n",
              "      background-color: #434B5C;\n",
              "      box-shadow: 0px 1px 3px 1px rgba(0, 0, 0, 0.15);\n",
              "      filter: drop-shadow(0px 1px 2px rgba(0, 0, 0, 0.3));\n",
              "      fill: #FFFFFF;\n",
              "    }\n",
              "  </style>\n",
              "\n",
              "      <script>\n",
              "        const buttonEl =\n",
              "          document.querySelector('#df-eb6b5d9f-1af0-4b6e-bcef-7701792032bd button.colab-df-convert');\n",
              "        buttonEl.style.display =\n",
              "          google.colab.kernel.accessAllowed ? 'block' : 'none';\n",
              "\n",
              "        async function convertToInteractive(key) {\n",
              "          const element = document.querySelector('#df-eb6b5d9f-1af0-4b6e-bcef-7701792032bd');\n",
              "          const dataTable =\n",
              "            await google.colab.kernel.invokeFunction('convertToInteractive',\n",
              "                                                     [key], {});\n",
              "          if (!dataTable) return;\n",
              "\n",
              "          const docLinkHtml = 'Like what you see? Visit the ' +\n",
              "            '<a target=\"_blank\" href=https://colab.research.google.com/notebooks/data_table.ipynb>data table notebook</a>'\n",
              "            + ' to learn more about interactive tables.';\n",
              "          element.innerHTML = '';\n",
              "          dataTable['output_type'] = 'display_data';\n",
              "          await google.colab.output.renderOutput(dataTable, element);\n",
              "          const docLink = document.createElement('div');\n",
              "          docLink.innerHTML = docLinkHtml;\n",
              "          element.appendChild(docLink);\n",
              "        }\n",
              "      </script>\n",
              "    </div>\n",
              "  </div>\n",
              "  "
            ]
          },
          "metadata": {},
          "execution_count": 8
        }
      ]
    },
    {
      "cell_type": "code",
      "source": [
        "## train, test 길이 비교\n",
        "len(train), len(test)   ## 훈련데이터 샘플갯수 = 14633"
      ],
      "metadata": {
        "colab": {
          "base_uri": "https://localhost:8080/"
        },
        "id": "EUqVHByYw2Jl",
        "outputId": "455a01af-29b2-49dc-eeb5-7e50e9a73033"
      },
      "execution_count": 9,
      "outputs": [
        {
          "output_type": "execute_result",
          "data": {
            "text/plain": [
              "(14633, 6980)"
            ]
          },
          "metadata": {},
          "execution_count": 9
        }
      ]
    },
    {
      "cell_type": "markdown",
      "source": [
        "### 2) 두 특성(bathrooms, sqft_living)을 사용해서 다중선형회귀 모델을 만들어 보세요\n",
        "- 학습시 Parameters는 모두 기본값으로 합니다.\n",
        "- 정규화(normalize) 등 추가적인 데이터처리 없이 진행합니다.\n",
        "- **(Urclass Quiz) 테스트세트의 MAE 값을 제출하세요.(소수점 이하 반올림)**"
      ],
      "metadata": {
        "id": "wxHfiGk9u1W0"
      }
    },
    {
      "cell_type": "code",
      "source": [
        "df.columns"
      ],
      "metadata": {
        "colab": {
          "base_uri": "https://localhost:8080/"
        },
        "id": "h_ze0pctxWSF",
        "outputId": "59ab84a3-a04a-4350-962d-1cfaa12e3582"
      },
      "execution_count": 10,
      "outputs": [
        {
          "output_type": "execute_result",
          "data": {
            "text/plain": [
              "Index(['id', 'date', 'price', 'bedrooms', 'bathrooms', 'sqft_living',\n",
              "       'sqft_lot', 'floors', 'waterfront', 'view', 'condition', 'grade',\n",
              "       'sqft_above', 'sqft_basement', 'yr_built', 'yr_renovated', 'zipcode',\n",
              "       'lat', 'long', 'sqft_living15', 'sqft_lot15'],\n",
              "      dtype='object')"
            ]
          },
          "metadata": {},
          "execution_count": 10
        }
      ]
    },
    {
      "cell_type": "code",
      "execution_count": 11,
      "source": [
        "# 타겟인 price의 평균을 기준모델로 사용\n",
        "# price 평균\n",
        "train['price'].mean()"
      ],
      "outputs": [
        {
          "output_type": "execute_result",
          "data": {
            "text/plain": [
              "539181.4284152258"
            ]
          },
          "metadata": {},
          "execution_count": 11
        }
      ],
      "metadata": {
        "colab": {
          "base_uri": "https://localhost:8080/"
        },
        "id": "VFf0ijxKu1W1",
        "outputId": "c702cd2b-84b1-40f4-cff4-3ed7b8a60420"
      }
    },
    {
      "cell_type": "code",
      "source": [
        "# label 정의\n",
        "target = 'price'\n",
        "y_train = train[target]\n",
        "y_test = test[target]"
      ],
      "metadata": {
        "id": "Dd0zMn-OxmQe"
      },
      "execution_count": 12,
      "outputs": []
    },
    {
      "cell_type": "code",
      "source": [
        "# price 평균값으로 예측(기준모델)\n",
        "predict = y_train.mean()\n",
        "predict"
      ],
      "metadata": {
        "colab": {
          "base_uri": "https://localhost:8080/"
        },
        "id": "pYWIfdOmxtFa",
        "outputId": "89ca4306-51e0-47e5-f569-3d0c3940c44b"
      },
      "execution_count": 13,
      "outputs": [
        {
          "output_type": "execute_result",
          "data": {
            "text/plain": [
              "539181.4284152258"
            ]
          },
          "metadata": {},
          "execution_count": 13
        }
      ]
    },
    {
      "cell_type": "code",
      "source": [
        "# 기준모델로 훈련 에러(MAE) 계산\n",
        "from sklearn.metrics import mean_absolute_error\n",
        "y_pred = [predict] * len(y_train)\n",
        "mae = mean_absolute_error(y_train, y_pred)\n",
        "\n",
        "print(f'훈련 에러: {mae:.0f}')"
      ],
      "metadata": {
        "colab": {
          "base_uri": "https://localhost:8080/"
        },
        "id": "bC9ctRH1x1JO",
        "outputId": "522ac1c9-e110-4837-f308-84e1635d9d8e"
      },
      "execution_count": 29,
      "outputs": [
        {
          "output_type": "stream",
          "name": "stdout",
          "text": [
            "훈련 에러: 233571\n"
          ]
        }
      ]
    },
    {
      "cell_type": "code",
      "source": [
        "# 테스트 에러(MAE)\n",
        "y_pred = [predict] * len(y_test)\n",
        "mae = mean_absolute_error(y_test, y_pred)\n",
        "print(f'테스트 에러: {mae:.0f}')"
      ],
      "metadata": {
        "colab": {
          "base_uri": "https://localhost:8080/"
        },
        "id": "oWI5-IiXx8Ip",
        "outputId": "c9c2bcc9-2066-49d2-a15f-4f3a03e9a295"
      },
      "execution_count": 30,
      "outputs": [
        {
          "output_type": "stream",
          "name": "stdout",
          "text": [
            "테스트 에러: 233991\n"
          ]
        }
      ]
    },
    {
      "cell_type": "code",
      "source": [
        "from sklearn.linear_model import LinearRegression\n",
        "from sklearn.metrics import mean_squared_error\n",
        "from sklearn.metrics import r2_score\n",
        "import matplotlib.pyplot as plt\n",
        "import numpy as np\n",
        "from matplotlib import style"
      ],
      "metadata": {
        "id": "boBUTOcKx_g4"
      },
      "execution_count": 44,
      "outputs": []
    },
    {
      "cell_type": "code",
      "source": [
        "model = LinearRegression()\n",
        "\n",
        "# 다중모델 학습을 위한 특성\n",
        "features = ['bathrooms', \n",
        "            'sqft_living']\n",
        "X_train = train[features]\n",
        "X_test = test[features]"
      ],
      "metadata": {
        "id": "SwnIZry9yNiu"
      },
      "execution_count": 32,
      "outputs": []
    },
    {
      "cell_type": "code",
      "source": [
        "# 모델 fit\n",
        "model.fit(X_train, y_train)\n",
        "y_pred = model.predict(X_train)\n",
        "mae_train = mean_absolute_error(y_train, y_pred)\n",
        "mse_train = mean_squared_error(y_train, y_pred)\n",
        "R2_train = r2_score(y_train, y_pred)\n",
        "print(f'훈련 에러: {mae_train:.0f}')"
      ],
      "metadata": {
        "colab": {
          "base_uri": "https://localhost:8080/"
        },
        "id": "J3ophle6yYS7",
        "outputId": "1d20d32c-5b96-4745-c795-cc1ee53b2b2e"
      },
      "execution_count": 45,
      "outputs": [
        {
          "output_type": "stream",
          "name": "stdout",
          "text": [
            "훈련 에러: 170777\n"
          ]
        }
      ]
    },
    {
      "cell_type": "code",
      "source": [
        "# 테스트 데이터에 적용해 봅시다 \n",
        "y_pred = model.predict(X_test)\n",
        "mae_test = mean_absolute_error(y_test, y_pred)\n",
        "mse_test = mean_squared_error(y_test, y_pred)\n",
        "R2_test = r2_score(y_test, y_pred)\n",
        "print(f'테스트 에러: {mae_test:.0f}')"
      ],
      "metadata": {
        "colab": {
          "base_uri": "https://localhost:8080/"
        },
        "id": "WmZH4iD1yk3Z",
        "outputId": "1be2d04b-4f25-4697-8ad8-4c73091fe78e"
      },
      "execution_count": 46,
      "outputs": [
        {
          "output_type": "stream",
          "name": "stdout",
          "text": [
            "테스트 에러: 179253\n"
          ]
        }
      ]
    },
    {
      "cell_type": "code",
      "source": [
        "import numpy as np\n",
        "import plotly.express as px\n",
        "import plotly.graph_objs as go\n",
        "import itertools\n",
        "\n",
        "## Plotly 를 사용하여 3D평면 표현해보기\n",
        "## 함수생성\n",
        "def surface_3d(df, f1, f2, target, length=20, **kwargs):\n",
        "    \"\"\"\n",
        "    2특성 1타겟 선형모델평면을 시각화 합니다.\n",
        "    \n",
        "    df : 데이터프레임\n",
        "    f1 : 특성 1 열 이름\n",
        "    f2 : 특성 2 열 이름\n",
        "    target : 타겟 열 이름\n",
        "    length : 각 특성의 관측치 갯수\n",
        "    \n",
        "    \"\"\"\n",
        "    \n",
        "    # scatter plot(https://plotly.com/python-api-reference/generated/plotly.express.scatter_3d)\n",
        "    plot = px.scatter_3d(df, x=f1, y=f2, z=target, opacity=0.5, **kwargs)\n",
        "    \n",
        "    # 다중선형회귀방정식 학습\n",
        "    model = LinearRegression()\n",
        "    model.fit(df[[f1, f2]], df[target])    \n",
        "\n",
        "    # 좌표축 설정\n",
        "    x_axis = np.linspace(df[f1].min(), df[f1].max(), length)\n",
        "    y_axis = np.linspace(df[f2].min(), df[f2].max(), length)\n",
        "    coords = list(itertools.product(x_axis, y_axis))\n",
        "    \n",
        "    # 예측\n",
        "    pred = model.predict(coords)\n",
        "    z_axis = pred.reshape(length, length).T\n",
        "    \n",
        "    # plot 예측평면\n",
        "    plot.add_trace(go.Surface(x=x_axis, y=y_axis, z=z_axis, colorscale='Viridis'))\n",
        "    \n",
        "    return plot"
      ],
      "metadata": {
        "id": "IAwA3oPvy56x"
      },
      "execution_count": 20,
      "outputs": []
    },
    {
      "cell_type": "code",
      "source": [
        "## x,y,z축 설정, 제목설정 후 시각화\n",
        "surface_3d(\n",
        "    train,\n",
        "    f1='bathrooms', \n",
        "    f2='sqft_living', \n",
        "    target='price',  \n",
        "    title='House Prices'\n",
        ")"
      ],
      "metadata": {
        "colab": {
          "base_uri": "https://localhost:8080/",
          "height": 615
        },
        "id": "uGO_ohlBzLI1",
        "outputId": "60945163-cd80-4c4b-a466-c7b3c78d4fcd"
      },
      "execution_count": 21,
      "outputs": [
        {
          "output_type": "stream",
          "name": "stderr",
          "text": [
            "/usr/local/lib/python3.7/dist-packages/sklearn/base.py:451: UserWarning:\n",
            "\n",
            "X does not have valid feature names, but LinearRegression was fitted with feature names\n",
            "\n"
          ]
        },
        {
          "output_type": "display_data",
          "data": {
            "text/html": [
              "<html>\n",
              "<head><meta charset=\"utf-8\" /></head>\n",
              "<body>\n",
              "    <div>            <script src=\"https://cdnjs.cloudflare.com/ajax/libs/mathjax/2.7.5/MathJax.js?config=TeX-AMS-MML_SVG\"></script><script type=\"text/javascript\">if (window.MathJax) {MathJax.Hub.Config({SVG: {font: \"STIX-Web\"}});}</script>                <script type=\"text/javascript\">window.PlotlyConfig = {MathJaxConfig: 'local'};</script>\n",
              "        <script src=\"https://cdn.plot.ly/plotly-2.8.3.min.js\"></script>                <div id=\"14aa479c-89c3-46f7-8646-caedc2898c9b\" class=\"plotly-graph-div\" style=\"height:525px; width:100%;\"></div>            <script type=\"text/javascript\">                                    window.PLOTLYENV=window.PLOTLYENV || {};                                    if (document.getElementById(\"14aa479c-89c3-46f7-8646-caedc2898c9b\")) {                    Plotly.newPlot(                        \"14aa479c-89c3-46f7-8646-caedc2898c9b\",                        [{\"hovertemplate\":\"bathrooms=%{x}<br>sqft_living=%{y}<br>price=%{z}<extra></extra>\",\"legendgroup\":\"\",\"marker\":{\"color\":\"#636efa\",\"opacity\":0.5,\"symbol\":\"circle\"},\"mode\":\"markers\",\"name\":\"\",\"scene\":\"scene\",\"showlegend\":false,\"x\":[1.0,2.25,3.0,4.5,2.25,1.0,1.0,1.75,2.0,1.0,1.0,1.75,2.75,2.5,1.5,2.25,2.0,1.75,1.0,1.75,2.5,1.5,1.75,1.0,2.75,2.5,1.0,2.0,2.5,2.5,2.25,2.75,1.0,1.0,2.5,2.5,1.0,1.75,2.5,2.5,3.25,2.25,1.75,1.75,1.75,2.25,2.75,2.5,2.5,1.0,2.25,3.25,2.0,2.5,4.0,1.75,1.0,2.5,2.5,1.0,1.0,1.5,2.25,3.25,2.25,1.75,2.5,1.5,1.5,2.5,1.5,1.75,2.5,2.5,2.0,2.25,2.5,1.0,1.0,1.75,1.75,2.5,1.75,1.75,2.5,3.5,3.5,1.0,2.0,1.75,2.25,2.25,2.25,3.5,3.5,2.5,1.75,1.75,2.25,1.0,2.25,1.0,2.5,2.5,1.0,2.5,2.0,1.0,2.0,1.0,1.0,3.5,2.75,2.0,1.75,2.25,2.75,2.0,1.75,2.5,2.0,1.5,2.25,2.75,1.0,1.5,2.5,3.0,1.5,2.75,3.0,2.5,2.25,1.75,1.0,2.5,2.5,1.0,2.5,2.0,2.5,1.75,2.5,1.0,1.5,1.75,2.5,0.75,3.0,2.25,2.5,2.75,2.5,2.25,1.5,2.5,2.0,2.25,2.25,2.25,2.25,2.25,2.75,2.75,1.0,1.5,4.0,3.5,2.5,1.75,1.0,1.0,2.5,2.0,2.5,2.5,2.0,1.75,1.0,2.5,1.0,1.75,2.25,0.75,2.5,1.0,1.0,4.75,1.0,1.0,1.75,2.75,1.75,2.5,2.5,2.25,2.25,1.0,2.5,2.5,3.0,2.0,2.5,2.0,1.5,1.75,5.0,2.5,2.5,2.25,1.75,2.5,3.25,3.25,2.25,1.0,1.0,2.75,2.25,2.0,1.0,2.5,2.0,2.25,3.5,2.0,2.0,2.5,2.75,2.0,1.75,3.5,1.75,1.75,2.5,1.0,1.0,1.0,2.0,0.75,2.75,1.0,1.75,2.5,1.0,1.0,2.5,2.5,2.5,2.5,2.5,2.5,2.5,3.0,2.25,2.25,3.0,2.25,2.5,1.75,3.0,1.5,3.0,3.5,2.25,2.0,2.0,2.5,1.5,1.0,2.75,2.5,2.75,2.5,2.0,2.5,1.75,1.75,2.5,3.25,2.0,3.5,1.0,2.5,2.5,1.75,1.75,2.25,4.25,1.0,1.75,2.5,1.0,1.75,2.0,3.0,3.0,2.5,2.5,2.5,2.5,2.5,2.0,1.75,1.5,2.25,1.0,1.0,1.75,2.5,2.5,2.25,1.75,1.75,2.5,3.0,2.5,3.5,2.0,2.25,1.0,0.75,1.75,2.5,2.0,2.75,3.25,2.75,2.25,2.5,1.5,2.75,1.75,2.5,1.5,3.5,2.0,2.75,1.5,2.5,2.0,2.5,2.75,1.5,2.5,1.0,2.0,2.5,1.75,1.0,1.0,3.75,3.5,1.0,1.75,1.0,2.25,3.25,1.0,1.5,1.0,2.0,2.5,5.0,1.0,1.75,1.5,2.0,2.5,1.75,2.25,2.25,2.5,2.75,1.0,1.75,3.0,1.0,1.5,2.5,3.5,1.0,2.5,3.0,2.25,2.5,2.5,1.75,2.5,1.0,2.75,1.0,0.75,2.5,2.75,1.0,2.5,4.0,1.0,2.5,1.5,2.25,2.25,1.75,1.75,2.5,2.5,2.25,1.5,1.75,2.5,1.75,2.5,2.5,3.0,2.25,1.75,1.75,1.75,3.0,2.0,2.5,2.0,2.5,2.75,1.75,2.5,2.0,2.5,1.5,1.0,1.0,2.5,2.25,2.25,1.0,1.75,1.75,2.5,1.0,1.75,1.0,2.0,2.5,2.5,1.75,1.0,1.0,1.75,1.0,2.5,2.5,1.0,1.5,2.5,1.5,1.0,1.75,1.5,2.5,1.5,3.25,1.75,2.5,1.75,1.75,2.25,1.0,1.0,3.5,2.0,3.0,2.5,3.5,1.0,2.5,1.0,1.75,2.5,2.25,2.5,2.0,2.5,1.75,1.75,2.25,2.0,2.0,1.0,1.0,1.75,1.75,2.5,2.5,1.75,2.5,1.0,1.75,1.5,2.25,2.5,1.0,3.25,3.0,1.5,1.75,1.0,1.75,2.25,1.75,2.25,2.75,2.0,2.25,1.75,3.25,2.0,2.5,1.75,2.0,1.0,1.0,1.75,2.5,1.5,1.75,1.0,2.5,1.75,1.75,3.5,1.5,2.5,2.25,2.75,2.25,1.75,2.5,2.5,1.5,2.0,2.0,2.25,2.5,2.0,2.5,4.25,1.75,1.5,2.75,2.0,1.5,2.5,1.75,2.5,3.5,1.0,1.0,2.5,2.0,2.5,2.0,2.5,1.0,2.25,2.75,2.5,2.0,2.25,2.25,3.25,1.5,2.75,2.0,1.0,2.5,2.0,1.0,1.0,1.0,1.5,2.25,2.25,2.25,1.75,1.75,1.75,1.75,1.0,1.0,3.5,2.25,2.0,1.75,2.0,2.5,1.0,2.5,1.75,2.75,2.5,2.5,1.0,1.75,0.75,1.75,2.5,2.5,1.0,2.25,2.25,0.0,2.0,1.0,1.0,1.5,2.25,1.75,2.5,2.5,3.25,1.5,1.5,2.5,2.5,1.0,2.5,1.0,2.0,2.5,2.5,2.5,3.5,2.5,3.5,1.5,1.75,1.75,2.75,1.0,1.75,2.25,2.0,1.75,2.5,1.75,3.25,2.5,1.0,1.5,2.0,2.25,1.75,2.5,2.5,3.0,2.5,2.0,1.0,2.5,1.0,3.0,3.5,2.5,2.5,1.0,2.5,3.0,1.75,1.0,1.5,2.0,1.0,2.0,2.5,1.75,1.0,2.75,1.75,2.25,1.75,2.5,2.75,2.5,2.5,1.0,1.0,2.5,2.75,1.0,1.75,1.0,2.5,2.75,1.0,2.0,2.0,1.75,2.5,2.25,2.5,2.5,1.0,1.75,1.75,2.25,3.0,1.0,1.0,1.75,1.5,2.75,1.75,1.75,1.5,2.5,1.0,1.75,2.0,1.75,2.5,3.0,2.5,1.75,2.25,1.75,2.25,1.75,2.0,3.25,3.25,2.5,2.25,1.75,2.25,1.75,3.25,2.75,1.0,1.5,1.0,1.0,2.25,1.0,1.0,1.0,2.75,1.0,2.5,3.0,2.5,1.5,2.75,1.5,1.75,1.0,1.0,4.5,2.0,2.5,2.5,2.75,2.25,3.25,1.75,1.0,1.0,1.0,4.5,1.75,1.75,1.0,1.0,1.5,1.0,4.0,1.0,2.0,2.5,2.0,2.75,2.0,2.0,2.5,2.5,2.5,1.0,1.75,1.75,2.5,2.5,3.5,3.25,3.5,4.5,5.25,1.75,1.0,0.75,2.0,4.0,2.5,1.75,2.0,2.5,2.75,2.5,1.0,2.5,3.5,2.25,1.0,1.0,2.0,1.0,1.75,1.0,1.0,1.0,2.5,2.75,1.75,1.0,3.75,2.5,2.25,1.75,1.0,2.25,2.5,2.0,1.75,1.75,2.5,1.0,2.0,2.5,3.25,1.0,1.75,3.5,2.5,2.5,2.0,3.0,2.25,2.75,1.0,1.75,1.75,2.0,2.5,3.0,1.5,2.5,2.5,4.5,1.75,1.75,2.0,1.0,2.0,2.75,1.75,2.5,2.75,2.25,2.5,2.5,4.5,2.25,2.5,2.5,2.5,2.5,2.5,2.5,1.75,2.5,2.5,3.25,2.5,1.75,2.0,2.25,2.5,3.0,2.5,2.0,1.0,1.0,2.75,2.5,2.25,1.0,1.0,4.25,2.5,1.5,2.0,1.0,1.0,2.0,1.0,1.0,2.5,2.0,2.5,1.0,2.0,1.75,1.75,1.5,2.5,3.5,1.0,2.0,2.25,2.5,3.75,1.75,1.75,1.75,2.5,1.75,2.75,3.0,2.25,1.5,1.75,1.0,2.5,2.0,2.5,2.25,1.0,2.5,2.5,1.75,2.5,1.0,1.75,1.75,2.5,2.5,1.5,1.0,1.75,2.25,3.0,2.25,1.0,2.0,1.0,3.5,2.5,1.75,2.5,2.25,1.0,2.5,2.0,2.5,0.75,2.5,1.0,2.5,2.75,4.0,1.75,1.75,2.5,1.75,1.0,2.25,2.25,2.25,2.5,2.25,1.0,2.5,2.0,2.75,2.5,1.0,2.5,1.5,2.5,2.0,1.0,1.0,1.75,4.75,2.0,1.75,1.75,1.0,2.25,3.5,2.25,1.0,1.0,2.0,2.25,2.25,2.25,2.0,1.0,3.25,1.5,1.0,1.5,1.75,1.0,1.75,3.0,2.5,2.5,2.5,3.0,0.75,1.0,2.75,3.5,2.5,1.0,1.75,1.0,2.5,2.5,3.5,1.0,2.75,2.5,2.5,2.5,3.0,2.5,2.5,2.25,2.25,2.0,2.25,1.5,1.75,2.0,2.5,2.5,2.25,2.75,2.5,3.75,3.5,2.5,2.5,3.5,1.0,1.75,2.25,2.25,2.75,1.75,3.0,2.0,2.0,2.5,1.0,2.25,3.0,1.5,2.0,2.5,2.5,1.0,2.5,3.0,1.0,1.0,1.75,1.0,1.0,1.5,1.5,3.25,1.5,2.0,1.0,1.75,2.5,1.75,2.75,1.0,1.0,2.5,2.5,2.25,1.75,2.25,2.0,1.75,2.5,2.5,2.5,1.0,2.0,2.0,2.75,1.75,2.25,3.25,2.75,1.75,3.5,1.0,1.0,2.0,1.75,1.5,1.75,2.5,1.75,3.5,1.75,2.5,2.25,2.5,1.0,1.0,1.75,1.5,2.0,1.0,1.0,2.0,1.5,2.0,1.75,2.5,3.0,5.0,1.75,2.5,2.5,1.75,1.75,1.0,2.25,2.25,2.75,1.5,3.5,1.0,1.25,3.0,2.5,1.5,2.25,3.5,2.25,1.75,1.75,2.5,2.5,2.0,2.5,2.5,1.75,2.5,2.0,2.25,1.0,1.5,1.75,2.25,1.0,1.5,2.5,2.5,1.5,3.25,1.0,2.0,2.5,3.0,2.5,1.0,1.75,1.0,2.0,1.75,1.5,2.5,4.25,1.75,3.25,2.5,2.5,2.25,1.0,2.75,2.5,2.25,2.0,1.0,1.0,1.0,2.5,3.5,2.5,2.5,2.75,2.25,4.0,1.75,2.0,1.5,2.5,2.25,2.5,2.5,1.0,2.25,2.0,1.0,1.0,2.5,1.0,3.0,2.25,1.5,2.25,1.0,1.75,2.5,2.75,2.5,2.0,1.0,2.5,2.0,4.25,3.0,1.5,2.5,1.0,2.25,2.25,2.25,2.5,1.0,1.0,2.0,2.25,1.75,1.0,1.75,3.5,1.75,3.25,1.75,1.75,2.5,1.5,1.0,2.75,2.0,1.75,1.0,2.25,1.0,2.5,2.5,2.25,2.5,1.75,2.5,2.5,1.0,2.25,3.5,2.5,2.0,3.0,2.5,2.75,2.75,1.75,2.5,3.75,1.0,4.0,2.5,2.25,3.0,1.0,2.5,2.75,2.5,1.75,2.75,2.5,3.0,1.0,1.0,2.0,2.5,1.75,1.0,2.5,2.0,1.75,1.75,1.75,2.0,1.75,5.0,1.0,1.75,3.75,2.0,3.0,2.5,1.75,1.5,2.5,2.75,2.5,1.75,3.75,3.75,2.5,3.0,1.5,1.75,1.75,2.25,2.25,2.5,1.0,1.75,1.5,2.5,2.0,1.75,2.0,1.0,1.75,3.5,2.25,1.0,2.0,1.0,1.0,0.75,2.5,2.75,1.75,1.75,2.5,2.5,2.0,1.0,2.5,3.0,4.25,1.0,2.5,1.75,1.5,1.75,1.5,1.0,2.25,1.0,1.0,2.5,1.0,1.75,1.0,2.5,2.0,1.0,2.5,2.5,1.75,1.0,3.25,2.5,1.5,4.0,2.5,1.0,3.5,2.25,1.0,2.5,2.0,1.0,2.25,2.0,2.5,2.25,1.5,3.0,1.5,1.75,2.75,2.5,2.5,1.0,1.5,2.0,3.25,2.0,2.0,2.5,2.5,2.5,1.75,2.25,1.0,1.0,3.5,1.75,2.5,2.25,1.0,2.5,1.5,1.0,2.5,2.5,4.25,2.5,1.75,3.25,2.75,1.75,1.5,2.0,3.0,2.0,1.0,2.0,2.75,2.5,1.75,2.5,3.0,2.0,1.5,2.0,3.5,4.5,1.75,2.75,2.25,3.5,1.5,2.5,1.0,3.75,2.5,1.75,1.0,2.0,2.5,1.0,2.0,2.25,1.0,2.25,2.25,1.75,2.0,1.0,4.0,1.75,1.0,1.75,2.75,2.5,1.75,1.75,1.5,1.75,3.5,1.0,1.5,1.75,1.0,2.25,2.5,3.5,1.0,1.0,2.5,2.0,2.5,1.75,1.75,1.0,2.0,1.0,1.0,2.5,2.0,2.5,2.25,2.75,2.75,1.75,1.75,2.5,2.25,2.5,3.75,2.5,2.5,1.75,2.5,1.75,2.25,1.0,1.0,1.75,2.0,2.75,2.5,2.5,2.75,1.5,2.5,2.25,2.25,3.5,1.0,5.0,2.0,1.0,1.5,2.5,1.75,1.75,1.0,2.5,2.25,1.75,1.0,2.5,2.5,1.75,2.0,2.5,0.5,3.5,2.25,2.5,1.75,2.75,1.5,1.75,2.0,1.0,2.25,1.5,1.0,2.75,3.0,2.5,2.0,2.0,1.5,2.75,1.0,1.75,2.5,2.5,1.5,1.5,2.75,2.75,2.5,3.0,1.0,2.0,1.0,3.25,2.25,2.0,2.0,2.0,1.0,1.0,2.5,2.25,2.75,1.75,2.5,3.25,1.5,1.5,2.0,1.75,1.0,2.75,2.0,2.5,3.25,2.5,2.5,2.25,5.0,2.5,1.5,2.5,2.0,1.0,2.0,2.5,3.5,2.75,1.0,2.0,2.5,1.0,1.0,1.75,2.75,3.0,1.75,2.5,2.0,1.75,1.0,1.75,2.5,1.0,2.0,3.0,2.0,2.0,3.5,2.5,2.5,1.0,1.5,2.25,3.25,2.5,2.5,2.5,3.0,2.5,1.75,2.25,2.25,2.75,1.75,2.5,1.0,2.5,1.0,3.5,3.5,2.25,2.0,3.25,2.75,2.5,1.5,1.0,2.5,2.5,1.75,2.5,2.5,2.75,1.0,1.0,2.25,2.5,2.25,1.75,3.5,3.25,2.5,2.5,1.0,1.75,1.0,3.5,1.75,2.5,2.5,2.5,2.5,2.5,1.0,2.5,2.5,1.0,5.0,2.0,1.75,2.5,2.5,2.5,1.0,1.0,1.0,1.75,2.25,1.0,1.5,2.5,1.0,2.5,2.0,2.0,3.5,1.0,1.75,3.0,1.0,1.5,2.0,1.75,1.75,2.5,2.25,1.0,2.0,2.75,2.5,1.0,3.25,1.5,2.5,2.5,2.5,1.0,1.0,2.5,2.25,2.0,2.0,2.0,2.5,3.0,1.0,2.25,2.5,2.25,1.0,2.0,2.5,3.25,2.5,2.5,1.75,2.25,1.0,2.5,2.75,3.0,2.5,2.25,3.0,2.5,2.75,1.5,2.25,2.5,2.25,2.5,1.75,2.25,2.5,2.5,2.5,1.5,2.0,1.0,1.5,1.0,1.75,2.5,2.5,2.5,1.75,1.75,2.0,2.0,2.5,1.0,1.0,1.0,2.0,1.0,2.5,2.5,2.5,1.0,2.25,1.75,1.0,3.0,1.0,4.5,2.5,1.0,5.5,2.0,2.5,1.0,1.75,1.0,1.75,1.5,1.75,2.75,1.0,3.0,1.75,1.0,2.25,2.5,2.5,4.0,2.75,2.75,1.75,2.5,2.5,2.5,1.75,3.0,2.25,2.5,1.0,1.0,3.25,1.75,2.5,2.5,2.75,0.75,1.0,2.5,2.5,2.0,3.25,1.0,2.25,1.75,2.5,2.5,3.5,2.5,1.0,1.0,1.5,2.0,2.75,1.0,1.0,1.0,2.75,1.75,2.5,1.0,3.5,1.0,1.0,1.0,2.5,1.0,3.0,2.25,2.5,2.0,1.0,2.25,1.75,2.75,1.75,1.75,2.25,2.5,2.75,1.75,2.0,3.0,2.5,2.25,2.5,3.5,1.75,1.0,2.0,1.75,1.75,2.5,1.75,1.75,2.75,2.0,3.5,2.5,1.0,2.5,3.5,2.5,3.5,2.0,1.75,1.0,1.75,1.0,3.75,1.0,2.5,1.75,1.75,2.5,1.75,2.5,3.0,1.0,1.0,1.75,2.75,2.5,2.5,2.0,3.0,1.75,1.0,3.75,2.5,1.0,2.25,2.5,2.5,3.0,2.25,2.0,1.75,2.25,3.25,1.75,2.25,1.0,1.0,1.75,4.5,3.5,1.75,1.75,2.5,2.0,2.5,3.0,2.5,2.5,2.0,3.25,1.0,3.5,3.25,2.25,1.75,1.75,1.0,2.25,1.0,1.75,1.0,1.75,1.75,1.5,3.75,2.5,2.0,2.25,1.75,2.25,1.0,3.5,1.0,3.25,1.5,2.5,1.0,2.25,2.5,2.75,1.5,2.0,3.5,3.5,1.75,1.0,1.0,3.5,1.75,1.75,1.0,1.5,1.0,2.5,1.75,1.0,1.0,2.5,2.5,2.0,2.25,1.0,1.0,1.5,2.0,2.0,3.0,2.5,1.0,2.75,3.5,2.5,2.5,1.0,1.75,2.75,1.75,2.5,2.75,1.0,2.5,1.0,1.0,1.0,1.5,2.75,1.5,1.0,1.75,2.25,1.75,2.5,1.0,3.5,2.5,1.5,1.5,2.5,1.75,1.75,2.5,3.0,2.75,2.25,2.75,2.5,2.5,1.75,2.25,1.0,2.5,2.0,1.75,1.75,2.0,1.75,2.25,1.75,1.5,2.0,2.0,2.25,3.25,1.0,2.5,2.5,3.0,2.75,2.0,5.5,1.0,2.0,2.5,3.0,2.5,2.25,0.75,1.0,1.0,3.5,1.0,1.75,1.0,2.5,1.0,1.0,2.5,1.0,1.75,2.5,1.0,2.25,1.5,2.5,1.75,1.75,1.0,2.25,3.25,2.5,1.0,1.5,1.0,2.0,1.0,1.0,1.75,2.0,1.0,2.0,2.5,2.5,2.0,2.5,2.5,1.0,1.0,1.0,2.5,2.0,5.5,1.75,2.5,3.0,2.5,2.0,1.75,1.0,3.0,1.75,2.5,2.5,1.5,5.25,1.75,2.5,2.75,1.0,3.25,2.25,2.75,2.0,1.75,1.0,2.5,1.75,2.5,1.75,1.0,2.5,3.0,3.25,2.25,2.75,1.0,2.5,1.5,1.5,1.0,2.25,1.0,2.0,1.75,2.25,2.25,2.5,2.25,2.5,1.0,1.0,2.5,2.25,2.5,1.0,2.0,2.5,2.75,1.0,1.5,2.0,2.5,1.5,1.0,1.0,1.0,2.25,1.5,2.5,2.0,2.75,2.0,1.75,3.25,2.5,2.75,3.5,1.0,1.75,2.25,2.25,2.75,2.5,1.75,3.25,2.25,1.0,2.25,4.0,1.75,1.0,2.5,2.0,1.0,4.5,1.0,1.75,3.75,2.5,1.0,1.0,2.5,1.75,2.25,2.0,3.25,1.75,2.5,2.25,2.25,2.5,2.5,2.5,1.0,1.75,3.25,1.0,1.75,1.0,1.5,2.5,1.0,2.0,2.0,2.25,2.75,2.5,1.5,2.25,1.0,1.0,2.25,2.5,2.0,2.25,2.5,2.5,1.0,4.25,2.25,1.0,1.75,2.5,1.75,3.0,3.0,2.0,1.5,1.0,1.75,1.75,2.0,2.5,2.25,2.0,2.5,1.75,2.0,3.5,1.0,3.5,2.5,2.75,1.0,2.5,1.0,2.25,2.25,2.0,2.0,1.75,2.5,2.25,2.0,2.0,2.25,1.0,1.0,3.0,1.75,1.75,4.5,1.75,3.0,3.0,1.0,4.75,2.5,1.0,2.75,2.0,1.75,1.0,2.5,2.0,1.0,2.0,1.0,2.5,1.5,1.0,1.5,1.75,2.5,3.75,2.25,2.0,1.75,1.0,1.5,1.0,1.0,1.75,1.75,1.0,2.5,1.0,1.75,2.0,2.0,2.5,2.5,1.5,1.5,1.0,1.5,2.25,2.0,2.5,2.5,2.5,2.5,1.0,1.75,3.5,2.0,1.0,2.25,2.0,2.75,1.0,2.5,1.0,2.75,1.75,3.0,1.5,1.5,1.0,2.25,2.0,2.5,2.0,1.5,3.75,2.25,2.0,1.0,2.5,1.75,1.0,1.0,1.0,1.5,1.0,1.0,1.0,3.0,1.0,3.0,1.0,2.0,2.75,1.0,1.0,1.75,2.25,2.25,1.0,1.5,2.75,1.75,3.75,2.5,1.75,3.0,1.75,3.75,2.25,1.0,2.75,1.0,2.0,2.0,1.5,1.75,1.5,3.75,1.5,3.5,2.5,1.75,2.25,2.5,2.5,2.5,2.5,1.0,2.25,2.25,3.0,1.75,1.0,2.25,2.25,2.5,2.25,1.75,1.0,1.75,1.75,2.5,2.75,2.5,2.5,1.0,2.0,1.5,2.5,0.75,1.5,2.25,2.25,1.0,1.5,2.5,2.25,3.0,2.5,2.5,2.5,1.5,2.0,3.5,3.5,1.0,1.5,1.0,2.25,1.0,2.5,2.0,2.25,4.25,2.5,1.0,3.0,1.0,1.0,1.5,1.5,2.0,1.0,1.75,1.75,1.0,1.75,1.75,1.0,2.75,2.75,1.5,1.0,1.0,4.0,1.5,1.5,1.0,2.0,1.0,2.0,1.75,2.5,2.5,2.0,1.0,1.75,3.5,2.5,3.5,2.5,2.25,2.5,2.0,2.75,2.25,2.25,2.0,2.25,2.25,1.0,1.0,3.0,2.0,1.75,1.0,1.0,2.0,2.0,2.25,1.75,1.5,1.75,2.0,2.75,1.75,1.0,1.0,2.75,1.75,1.5,2.25,2.25,2.0,1.0,1.0,3.5,1.75,2.5,3.75,2.75,1.75,2.5,1.25,3.5,1.0,2.0,2.5,2.25,2.5,2.25,2.0,4.0,3.25,1.75,2.5,1.0,2.0,1.5,2.5,1.0,3.75,1.0,1.5,2.75,3.0,2.75,2.25,1.0,3.75,1.5,2.5,2.5,2.0,1.75,2.75,1.5,1.0,1.0,2.5,1.5,1.75,2.75,2.75,1.0,2.75,1.0,2.25,2.0,1.5,3.5,3.25,2.25,1.75,2.5,1.5,3.0,1.5,2.5,4.0,2.5,2.75,1.0,1.5,2.25,1.0,3.75,2.0,2.5,3.25,2.5,2.75,2.25,2.5,1.0,1.0,1.0,1.75,3.5,2.5,2.5,2.5,1.5,1.0,2.25,1.75,3.0,2.0,1.5,1.5,1.75,2.5,1.0,4.75,2.5,1.75,1.75,1.0,1.0,1.0,1.5,1.0,2.75,2.25,2.5,2.75,2.75,1.75,1.5,3.25,2.5,2.25,1.0,2.5,2.5,2.25,3.25,2.0,2.5,2.5,4.5,2.25,1.0,1.5,1.75,2.0,1.5,3.75,3.0,2.5,2.5,2.25,1.0,2.0,2.5,3.25,2.25,1.5,1.75,1.0,1.75,2.25,2.25,2.5,1.75,1.75,1.0,3.25,1.75,1.75,1.75,1.0,3.5,3.5,2.25,2.5,1.5,3.0,2.5,2.25,2.5,2.5,3.0,2.75,1.75,2.25,2.25,2.25,2.5,1.0,2.75,1.0,1.0,1.0,3.25,2.5,2.5,1.75,2.5,1.75,1.0,1.75,1.75,2.0,1.75,2.25,1.75,1.75,1.0,1.75,2.0,2.0,2.25,1.75,3.0,2.0,2.5,1.0,2.0,2.25,2.0,6.75,3.25,1.0,1.5,3.25,2.5,6.0,1.5,1.5,2.0,1.75,2.5,1.0,2.0,1.0,2.25,1.0,1.0,2.75,1.75,1.0,2.25,2.5,1.5,2.0,2.5,1.5,1.75,2.25,1.75,1.0,2.0,2.5,2.5,2.5,2.0,1.5,1.5,1.0,2.5,1.0,2.0,2.75,2.25,4.5,2.5,3.25,3.0,1.0,3.0,2.25,1.75,2.0,2.5,2.5,1.75,1.75,2.0,1.75,2.75,2.25,2.5,2.0,2.25,2.5,3.5,3.0,3.5,1.5,2.0,2.25,2.5,1.75,3.0,2.25,1.0,5.5,1.0,3.0,2.0,2.5,1.75,2.0,1.0,1.0,1.75,2.0,2.5,2.0,2.5,1.0,2.25,1.5,1.75,1.0,2.5,1.75,1.5,1.0,2.75,2.25,2.5,2.0,1.0,2.75,2.5,1.0,2.75,1.5,2.25,1.0,1.75,3.5,3.5,1.0,0.75,2.5,2.0,2.5,2.0,2.5,2.0,2.5,2.5,2.5,1.0,2.0,2.5,2.25,2.5,2.5,1.75,1.75,2.5,1.0,2.5,2.75,2.5,2.0,1.0,3.25,3.25,2.5,2.0,2.75,3.25,2.5,1.0,2.75,2.5,0.75,4.5,2.5,2.5,2.25,1.0,2.0,1.5,1.0,1.75,3.0,3.25,1.0,3.75,2.5,2.5,1.75,1.75,1.75,1.5,2.5,1.0,2.0,1.5,2.5,1.0,1.0,1.0,1.0,2.5,2.5,1.75,1.0,1.0,1.75,2.5,1.0,2.5,2.5,2.0,1.0,4.0,2.25,4.25,1.0,2.5,1.75,2.75,2.25,2.5,2.5,1.75,3.5,1.0,1.0,1.75,1.0,1.0,2.5,3.25,2.25,2.75,1.75,1.0,1.5,1.75,1.75,1.5,2.5,2.0,1.75,1.5,1.0,1.75,1.0,2.25,2.0,1.75,1.75,2.75,2.5,1.75,1.5,1.0,2.0,1.5,1.0,1.75,3.5,2.25,1.0,1.75,3.5,1.0,0.75,2.5,2.0,2.0,1.0,3.25,1.75,2.75,2.5,1.5,1.0,3.0,2.5,2.5,5.75,2.5,2.25,2.25,1.0,1.0,2.5,1.5,2.25,1.0,2.5,1.0,2.75,1.0,2.5,3.0,1.75,2.75,2.75,2.5,1.5,2.5,2.5,3.0,3.25,2.5,1.5,1.0,1.75,3.25,1.0,1.5,2.25,1.0,2.5,2.75,1.0,2.25,1.75,2.5,2.5,1.0,1.0,3.75,2.0,1.0,1.75,1.75,4.0,3.0,1.0,3.5,2.0,2.0,1.0,3.5,4.0,2.5,3.0,3.0,1.0,2.5,3.25,1.75,1.0,2.5,2.0,2.25,2.5,1.5,1.0,2.0,2.5,2.25,2.0,2.5,2.0,2.0,2.5,2.25,1.5,1.5,1.75,1.5,2.0,3.0,2.0,1.75,1.0,3.5,2.0,1.0,1.0,1.0,1.0,1.75,2.25,1.0,1.5,1.0,2.25,1.5,1.75,1.75,2.0,1.0,1.0,2.5,1.0,1.0,2.75,1.0,2.5,2.5,1.75,3.0,1.5,2.5,1.75,1.75,2.5,2.5,1.0,3.25,2.5,1.75,1.75,2.5,5.25,1.0,2.5,2.0,2.5,2.5,2.25,2.5,2.0,1.5,2.75,2.0,2.5,1.75,2.5,1.5,2.5,1.75,3.5,2.5,1.75,2.5,3.5,2.75,2.5,3.25,2.5,2.5,1.0,2.5,2.25,3.0,2.5,2.5,1.75,1.0,1.0,1.5,3.0,1.0,3.0,2.25,1.0,1.75,3.25,2.5,1.75,2.5,2.5,2.5,1.5,3.25,2.75,2.25,2.5,1.5,2.0,1.75,1.0,2.75,1.0,2.5,2.5,2.5,1.0,2.75,4.75,2.0,1.0,4.25,1.0,2.5,2.25,1.0,1.75,2.5,2.5,2.75,2.75,1.5,2.5,1.5,2.0,1.75,2.5,3.5,1.75,2.5,2.5,3.0,2.75,1.0,1.75,2.25,2.25,2.25,1.0,3.5,2.25,2.75,1.0,2.5,2.25,1.0,1.0,2.75,1.75,2.5,2.25,2.5,3.0,2.25,1.0,1.75,2.0,1.75,1.0,1.75,3.25,1.75,1.75,2.5,2.75,2.75,1.75,2.5,2.5,3.0,1.0,1.0,2.75,2.0,1.75,1.0,2.25,2.0,2.0,2.25,2.5,1.0,1.0,1.0,1.75,2.5,2.25,1.5,2.75,2.75,1.75,2.5,3.0,1.0,1.0,2.5,1.5,1.0,1.0,1.0,1.5,2.0,2.5,2.0,1.5,1.0,3.0,2.75,1.5,3.25,1.75,2.25,1.75,2.5,2.5,1.75,2.25,2.25,2.5,1.75,3.5,1.0,1.75,1.75,2.0,1.75,3.25,2.5,2.5,2.25,1.75,1.0,1.75,2.0,2.5,2.5,2.0,1.75,2.5,1.75,1.0,2.5,1.5,2.5,2.5,3.5,1.5,2.5,2.25,1.0,2.0,3.5,4.0,1.75,2.25,2.0,1.0,2.5,2.75,3.25,3.0,3.0,3.5,2.5,1.5,2.5,2.5,1.75,2.5,2.5,2.5,1.0,1.75,2.25,2.0,2.25,1.0,2.5,2.5,2.25,1.75,1.75,2.5,3.5,2.5,2.5,1.75,3.0,3.25,3.25,2.5,1.75,2.5,1.0,3.25,1.5,2.0,1.75,1.75,1.75,1.0,2.25,1.75,1.5,2.0,2.5,2.25,3.5,1.0,1.75,3.0,1.0,1.0,1.75,1.0,2.0,2.0,1.5,1.5,1.0,1.75,2.5,5.25,2.5,2.5,2.5,2.25,2.5,1.75,2.75,2.0,1.75,1.0,1.5,2.25,2.75,1.75,1.0,2.5,2.0,2.75,1.0,3.0,2.25,1.75,3.5,2.0,2.75,3.75,2.25,1.5,2.5,2.75,2.5,2.5,2.5,3.0,1.75,2.0,2.5,2.5,1.75,2.5,3.25,1.75,1.0,2.0,2.25,2.0,1.5,2.5,2.25,2.5,1.0,1.75,2.5,2.0,2.75,2.0,1.75,3.5,2.75,2.5,1.75,2.25,2.5,2.0,4.5,2.5,1.0,1.0,1.5,2.75,1.75,2.25,2.5,1.75,3.25,1.75,3.25,1.0,2.0,2.75,2.5,2.5,1.5,2.5,1.5,2.75,2.5,1.75,2.5,1.0,2.75,2.75,1.0,2.25,1.0,2.25,1.75,1.0,2.25,2.25,2.75,1.75,2.5,1.0,2.5,2.5,2.5,2.75,1.75,1.75,2.0,1.5,2.25,0.75,2.0,2.5,2.75,2.75,2.5,2.75,2.0,1.0,1.0,2.5,3.75,2.5,1.0,1.0,2.5,2.0,2.5,1.75,1.0,1.5,1.5,1.0,2.5,1.0,2.5,2.0,1.0,2.0,2.0,1.75,2.75,3.5,1.75,2.5,1.75,2.5,2.5,2.5,1.5,1.75,1.0,1.5,1.0,1.0,2.5,2.25,1.0,1.0,1.5,1.75,1.0,3.5,1.75,2.25,1.75,1.5,2.0,1.0,2.75,3.75,1.75,1.5,3.25,2.5,2.5,1.5,1.5,1.0,2.5,2.25,2.75,1.0,1.75,2.0,2.5,2.5,2.75,2.0,2.5,2.5,1.5,1.0,2.0,2.5,1.75,3.0,2.0,2.25,2.5,2.0,2.5,1.0,2.25,2.5,2.5,2.5,2.75,2.5,1.75,2.5,1.75,2.75,3.5,1.0,2.5,3.5,2.25,2.5,1.0,1.0,1.0,2.5,2.5,1.75,3.0,2.5,1.75,2.5,2.5,1.75,2.5,1.5,1.75,1.0,1.75,1.75,2.25,2.5,3.5,2.25,2.0,2.25,1.75,2.5,1.0,2.5,1.5,1.75,2.75,2.5,3.0,3.25,1.5,2.5,2.5,2.75,2.5,1.0,2.5,1.0,2.5,1.75,1.0,3.25,1.0,2.25,2.5,3.0,1.75,1.75,3.75,2.5,3.5,1.75,1.0,1.0,1.0,1.75,3.0,1.0,1.0,2.0,1.0,2.5,1.75,1.75,2.5,1.75,2.5,2.0,2.5,1.75,2.0,1.0,1.75,1.75,2.5,2.5,2.25,1.0,2.5,1.5,2.5,1.0,1.75,3.0,1.75,2.5,1.75,1.75,1.0,3.0,2.5,1.75,1.75,1.5,1.0,1.75,2.0,1.75,2.0,2.5,2.75,2.5,2.5,2.5,1.0,2.75,2.5,2.5,2.25,2.75,2.0,2.5,2.5,2.0,2.0,2.25,1.0,2.0,3.0,1.0,1.5,2.25,1.75,2.25,2.5,2.0,1.75,1.0,2.75,1.75,1.0,2.5,2.25,2.5,2.5,2.25,3.5,2.5,3.0,3.25,3.25,2.75,1.0,1.0,1.5,2.25,3.5,3.25,1.75,2.75,1.75,1.0,1.75,2.0,2.5,1.0,1.75,0.75,2.5,2.75,1.0,2.25,1.75,1.5,1.0,2.5,1.5,2.5,2.5,1.0,1.0,2.5,2.0,1.0,2.0,1.0,1.0,1.75,1.5,3.0,2.25,2.5,3.5,1.5,2.0,1.75,2.5,2.5,2.5,2.25,2.5,3.25,2.25,1.75,2.25,2.5,1.75,2.5,1.5,2.75,1.0,1.75,2.25,2.5,3.25,2.0,1.5,4.75,2.0,2.25,3.25,2.0,2.5,2.5,2.25,2.25,1.75,3.0,2.5,2.25,2.0,3.0,2.25,3.5,1.0,1.0,2.0,1.75,2.5,1.0,2.5,2.5,2.5,2.5,2.5,2.5,2.0,2.5,1.0,1.5,3.75,1.0,3.5,1.0,2.25,2.5,3.5,1.0,2.5,2.5,3.25,2.5,3.0,2.0,2.25,3.5,1.75,2.25,2.5,1.75,1.0,2.5,2.5,1.5,3.0,1.75,2.5,1.75,2.75,1.0,2.0,2.5,1.75,2.5,2.5,2.5,1.75,2.5,1.0,2.5,2.5,2.25,1.75,2.0,2.25,2.0,2.5,1.75,2.5,2.0,2.5,1.0,1.0,2.25,2.25,2.5,3.25,2.0,0.0,2.25,2.5,2.25,2.5,2.75,1.5,1.75,2.5,1.75,2.75,2.0,1.0,1.0,1.0,1.0,3.25,1.75,1.0,2.25,1.5,1.0,1.75,2.25,1.0,1.0,2.5,2.25,2.5,2.0,5.0,1.5,1.75,1.75,1.0,2.5,2.0,2.25,2.5,2.5,3.5,1.5,3.25,3.25,2.0,1.0,1.75,1.5,3.0,1.5,2.25,3.0,2.5,2.0,1.75,1.0,1.0,3.0,2.0,2.25,2.0,2.25,3.5,1.5,2.5,2.5,2.25,1.0,2.25,2.25,1.0,2.25,1.75,1.75,1.75,2.5,1.0,2.0,2.75,2.5,2.5,2.5,2.5,1.0,3.5,1.5,2.5,4.25,2.0,1.75,2.5,2.0,2.5,2.0,1.0,1.75,1.5,1.75,2.25,1.75,2.5,1.75,1.75,2.0,2.75,1.0,2.0,1.0,2.0,2.5,1.0,2.5,2.0,2.75,1.0,2.5,2.75,1.0,2.25,2.75,1.75,2.5,1.0,1.0,2.5,3.5,2.5,2.5,1.75,1.0,2.5,2.5,2.0,2.0,2.5,1.75,1.75,1.75,2.0,4.0,2.0,1.75,2.5,3.25,1.0,3.25,2.5,1.0,3.0,1.0,2.5,1.5,1.0,1.0,1.0,1.75,2.25,1.0,2.5,3.25,1.75,4.0,2.5,4.5,2.5,1.5,2.5,1.0,2.0,1.75,2.5,1.0,1.75,2.5,1.0,2.5,2.5,2.25,1.5,0.75,1.5,1.75,1.0,3.0,1.0,1.75,2.25,1.5,2.75,2.25,2.25,1.0,1.0,3.0,2.25,2.5,1.5,1.0,3.0,2.5,2.5,2.5,2.5,1.0,1.75,2.0,2.5,1.0,1.0,2.0,2.5,2.5,2.25,1.75,2.25,2.25,1.75,1.0,2.25,2.25,1.0,1.0,2.75,2.0,2.5,2.5,1.75,1.75,1.75,1.75,2.5,1.0,2.5,2.75,1.75,1.0,2.5,3.5,2.25,1.0,1.5,3.0,1.0,2.75,2.5,2.25,1.75,1.0,1.0,1.0,2.0,2.5,1.75,2.0,1.5,2.5,1.75,1.75,2.5,1.5,4.75,2.5,3.25,3.5,1.0,2.5,2.25,1.75,1.0,2.5,2.0,1.5,1.5,3.25,1.5,1.75,2.5,1.0,1.5,1.0,1.5,2.75,1.75,2.25,2.5,2.5,2.25,1.5,2.5,3.5,1.75,1.75,1.0,2.75,3.0,1.0,2.5,2.5,2.5,2.75,2.5,2.5,2.25,2.5,2.75,3.0,1.5,2.75,2.5,1.0,3.25,2.0,2.5,3.0,2.5,2.25,2.5,2.25,2.5,1.75,1.75,3.5,2.5,1.5,2.25,1.0,1.75,2.5,1.5,1.75,1.5,3.5,1.75,1.0,2.5,1.5,2.5,2.5,1.0,2.5,2.0,1.0,2.0,1.75,1.0,2.5,2.5,1.5,1.5,2.0,1.5,1.75,2.25,4.0,2.5,2.5,1.75,4.0,1.75,1.0,2.5,2.25,2.0,1.75,2.0,2.25,2.25,2.25,4.5,1.5,2.0,2.5,1.0,1.0,1.75,1.75,1.5,1.75,1.75,1.75,2.25,1.0,3.5,2.5,2.0,2.5,1.75,2.5,2.5,1.75,2.0,1.0,1.75,1.0,2.5,1.0,2.25,1.75,3.25,2.25,1.5,2.25,1.0,2.0,2.0,1.75,1.75,2.0,1.0,1.75,2.5,3.5,1.0,3.5,2.25,2.0,3.25,2.5,2.75,1.75,3.75,1.5,2.75,1.75,2.75,3.0,1.0,2.5,1.75,1.75,2.0,1.0,2.0,4.5,3.25,1.75,2.25,2.5,1.75,1.75,1.5,2.5,3.0,2.5,1.0,2.0,1.0,2.0,1.75,2.5,2.25,2.75,2.25,2.0,1.75,2.25,2.5,2.5,2.0,2.75,1.0,2.5,2.5,2.5,2.5,2.5,3.25,2.5,2.5,2.25,1.75,2.0,2.5,1.0,1.0,2.75,2.25,2.5,1.0,2.25,1.0,1.75,1.75,3.0,2.5,2.25,3.0,1.5,2.0,1.5,2.25,1.75,2.5,1.0,1.0,1.75,2.5,2.0,2.5,2.5,1.75,1.75,2.5,2.25,1.75,1.5,1.75,2.5,2.5,1.75,2.25,1.75,2.25,2.5,1.0,1.75,2.5,1.5,3.5,2.75,1.5,2.75,2.25,2.5,2.0,3.5,2.5,3.0,2.25,2.75,2.5,1.75,2.5,1.0,2.75,1.0,2.0,1.75,2.5,2.5,1.5,1.0,2.5,2.5,1.0,1.75,1.75,4.0,4.0,2.5,1.0,1.0,2.5,2.0,2.25,2.25,2.5,2.5,1.0,1.75,2.25,1.75,1.0,2.75,1.75,2.75,1.5,2.5,1.5,2.5,1.0,2.5,1.0,2.25,2.5,1.75,1.75,1.75,2.5,1.5,1.75,1.0,2.5,1.75,2.5,1.0,3.25,2.0,1.0,2.5,1.75,2.5,1.75,2.5,1.0,3.25,1.0,1.5,1.0,2.25,2.0,1.75,1.0,1.5,1.0,2.25,2.5,1.0,2.0,1.75,2.25,2.5,2.5,1.0,2.25,2.25,3.25,2.25,2.75,1.0,2.0,1.75,2.5,2.5,2.5,1.0,1.75,1.0,2.0,2.0,3.0,2.5,2.5,3.25,2.0,1.75,2.5,2.5,2.5,2.75,1.0,2.5,3.25,1.0,1.0,1.75,2.75,2.0,2.25,1.0,1.75,1.75,1.75,1.5,2.0,3.0,2.75,2.5,1.0,2.25,1.0,2.5,1.5,1.75,1.0,1.75,1.5,2.5,1.5,3.75,1.75,1.5,2.5,2.25,1.75,2.25,1.0,3.5,2.5,2.5,2.5,1.75,1.0,2.25,3.5,2.5,2.0,2.25,2.25,2.5,3.25,1.5,2.5,2.25,3.5,1.0,1.5,1.75,1.5,1.0,2.0,1.75,1.0,3.5,2.5,1.0,2.5,3.25,2.25,2.25,3.25,2.5,1.0,1.0,2.5,1.0,1.0,1.75,1.0,1.75,2.5,1.75,2.25,1.0,1.75,3.0,1.75,2.25,3.0,2.5,2.5,1.0,1.75,2.5,2.0,2.25,4.25,1.0,3.0,2.5,1.75,2.0,3.5,3.25,2.5,2.5,2.0,2.5,2.0,1.75,2.25,2.5,2.0,2.75,1.75,2.25,1.75,1.75,2.5,3.75,2.0,2.5,1.5,1.5,1.75,3.25,1.0,0.0,2.0,2.0,2.0,1.5,3.0,2.0,1.0,1.75,2.75,2.25,1.75,2.75,1.0,2.5,2.0,2.25,1.5,1.0,1.5,2.5,1.0,2.25,2.5,2.5,1.75,1.0,1.5,2.5,5.5,2.5,1.75,1.5,1.0,2.0,2.5,2.5,2.5,3.0,1.75,2.75,2.0,1.75,2.0,2.5,2.5,2.5,2.75,2.5,2.0,1.5,2.0,3.25,3.0,1.0,1.0,1.75,1.0,1.0,2.5,1.75,4.0,2.5,2.5,2.5,3.0,2.75,2.0,1.75,1.0,3.5,2.25,2.25,2.5,3.0,3.5,3.0,1.75,1.0,3.5,1.0,1.5,1.0,2.5,1.0,2.25,1.0,2.75,1.5,2.0,1.75,1.5,2.0,1.0,1.75,3.5,1.5,1.5,1.0,2.25,1.0,1.5,3.0,1.0,2.0,2.5,1.75,1.5,2.5,2.25,2.0,1.75,1.0,2.5,3.0,2.5,2.5,1.0,1.0,2.0,1.75,1.5,2.75,2.0,1.5,1.0,2.5,2.5,2.5,2.25,1.0,1.5,1.75,2.5,1.75,2.5,1.75,1.0,2.5,2.5,4.5,1.75,2.5,2.0,1.0,2.0,2.0,3.0,4.0,1.75,4.5,1.0,2.25,2.75,2.5,2.5,1.0,2.5,1.5,1.5,2.75,2.25,2.5,2.5,3.0,2.25,3.0,2.0,1.0,2.25,1.0,2.5,2.0,2.25,3.25,4.25,2.75,1.75,2.5,3.0,1.0,1.5,3.0,8.0,2.5,3.0,1.75,2.5,3.0,3.0,1.75,1.75,3.25,3.5,2.5,3.75,2.5,1.0,1.75,4.25,2.0,2.5,2.5,1.0,2.5,1.0,2.25,2.0,2.25,1.75,2.5,1.75,1.0,2.5,1.0,1.0,1.75,2.5,2.5,1.0,2.75,1.75,2.5,2.5,1.0,2.25,3.0,1.5,1.75,2.5,1.0,2.5,1.5,1.0,2.25,2.5,1.0,2.25,1.75,1.75,3.5,3.5,1.0,2.5,3.0,1.0,3.25,2.5,2.5,1.75,2.0,1.75,1.0,2.0,3.5,2.75,1.5,2.5,2.0,2.5,1.5,1.5,2.5,1.75,2.0,3.0,1.75,2.25,1.0,1.5,1.75,1.75,1.0,2.5,2.5,3.25,2.75,2.5,2.75,1.75,2.5,1.75,1.0,1.75,1.75,3.5,2.5,2.75,2.0,2.5,1.5,2.0,4.5,1.5,1.0,1.75,1.0,1.0,3.5,3.5,1.75,2.5,1.75,2.5,3.5,2.75,3.0,2.25,1.75,2.0,2.5,2.5,1.0,2.5,1.0,1.75,1.5,2.5,2.0,3.5,1.0,1.75,1.0,2.5,2.5,2.5,2.25,1.75,2.5,1.75,2.75,2.5,2.75,3.0,2.5,1.5,1.5,2.5,1.0,1.5,2.5,1.5,1.5,1.0,1.0,1.0,2.5,1.75,1.5,1.5,1.0,1.0,2.75,1.75,2.0,1.5,1.0,1.5,1.5,2.5,2.75,2.5,2.5,3.0,1.75,1.5,1.75,1.0,2.25,1.0,1.0,3.25,1.0,1.75,1.0,1.5,2.5,2.25,3.0,3.5,1.5,2.75,2.0,1.75,2.5,3.5,3.5,2.25,1.75,1.0,1.0,2.5,2.25,2.5,2.25,2.0,2.0,2.0,1.0,2.75,1.75,1.75,2.0,0.75,1.75,1.5,1.75,2.5,2.5,1.0,1.75,2.5,1.0,1.0,1.75,1.75,1.0,2.0,1.75,2.5,1.75,2.5,1.0,2.5,1.0,1.75,1.0,1.0,2.5,2.0,3.25,1.0,4.5,3.5,2.5,2.75,2.5,2.25,2.5,1.75,3.0,1.0,1.5,4.5,3.5,1.0,1.75,2.0,2.25,1.75,2.75,2.25,2.5,1.0,2.25,2.5,2.0,1.75,2.75,1.0,1.5,2.0,2.0,1.0,2.25,2.5,1.5,2.0,4.25,1.0,1.75,1.5,1.0,2.5,2.75,1.0,1.75,3.25,2.25,2.5,1.0,2.5,2.5,2.25,2.25,1.0,3.25,3.5,1.5,2.5,2.5,2.0,1.75,1.0,2.25,2.0,1.0,1.75,1.5,1.5,1.0,1.0,1.5,1.0,1.0,2.25,2.0,1.0,1.5,2.5,2.5,1.0,2.5,1.0,2.5,2.5,2.75,1.75,1.0,2.75,1.75,1.0,1.0,2.25,2.5,2.5,2.25,1.0,2.5,2.5,2.5,2.5,1.75,1.0,2.25,1.0,3.25,1.0,2.5,1.75,3.25,1.0,1.0,1.0,2.5,2.0,1.0,2.5,1.0,2.5,2.75,1.0,1.5,2.5,2.75,2.75,3.0,1.0,3.5,3.5,3.5,1.0,2.75,1.0,2.75,1.5,3.25,1.0,2.0,1.75,2.5,2.25,2.5,1.0,2.5,1.0,1.0,2.5,3.5,2.0,2.75,1.5,2.75,1.75,1.0,2.5,2.0,1.0,2.5,1.0,2.25,3.5,2.0,2.0,2.0,2.5,1.5,2.75,1.5,1.5,1.5,1.0,2.25,2.5,1.75,2.0,1.0,2.5,5.0,2.5,2.5,2.25,2.25,2.5,1.75,1.0,2.5,1.0,2.0,1.75,2.0,1.0,2.5,1.75,1.0,2.5,3.25,1.75,1.0,2.25,1.5,1.75,2.5,1.0,1.0,1.75,1.0,1.0,2.5,1.75,2.5,1.0,2.5,1.75,1.75,2.5,2.5,1.75,2.5,3.25,1.0,1.0,1.5,2.5,1.75,1.0,1.0,3.25,1.0,2.0,2.75,1.0,4.5,3.0,2.5,2.75,2.0,1.5,1.0,2.5,2.5,2.5,4.25,1.75,1.0,2.0,1.0,1.0,2.75,2.5,2.75,2.5,1.75,1.75,1.0,1.75,2.0,1.5,2.5,1.5,3.5,2.25,2.75,1.75,1.75,2.25,3.5,3.25,1.75,2.5,1.0,3.0,2.5,1.75,2.0,2.5,2.0,2.5,1.5,1.0,2.75,3.25,1.75,1.5,1.0,1.5,6.75,2.0,3.25,3.5,2.5,2.5,2.0,2.0,1.0,1.0,2.25,2.0,2.75,2.5,2.5,1.75,3.0,2.0,1.0,2.0,2.0,4.0,1.0,2.25,2.75,2.0,1.0,2.75,1.0,1.0,2.5,1.75,1.75,2.5,2.0,2.0,2.75,1.75,2.5,2.75,1.75,1.75,1.0,1.0,2.0,2.5,2.5,1.0,2.75,2.5,1.75,1.0,1.5,2.5,1.0,1.5,2.5,1.0,4.5,4.25,2.5,1.75,2.0,1.0,2.5,3.5,2.25,1.0,1.0,2.0,1.5,1.0,0.75,1.5,2.25,1.75,1.0,3.75,2.25,2.5,2.5,1.75,2.5,2.0,2.5,1.75,2.25,1.0,1.0,2.75,2.5,2.75,2.75,1.0,2.0,1.0,1.75,1.0,1.5,1.0,1.75,2.25,2.5,1.0,2.0,1.5,1.75,1.75,1.0,1.0,1.0,1.75,3.25,2.75,2.5,1.0,2.0,1.0,2.0,3.25,1.0,2.0,2.0,3.25,2.5,1.75,1.75,2.5,3.5,2.5,1.75,1.0,1.0,2.5,2.75,2.0,1.75,1.75,2.25,1.0,1.75,2.75,2.75,3.5,2.0,1.5,1.0,2.5,1.75,1.0,1.75,2.25,1.0,1.0,2.25,2.0,1.5,2.25,2.5,2.5,1.0,1.0,2.5,3.5,1.0,1.5,2.75,2.25,2.0,1.5,2.25,1.0,2.25,2.5,1.75,1.75,2.25,1.0,2.25,2.5,1.75,2.5,1.0,1.75,2.25,2.0,2.0,2.5,2.75,1.75,1.0,2.25,1.5,2.5,1.75,1.0,1.75,1.5,1.75,2.0,2.5,2.5,2.0,2.5,2.75,2.75,1.0,1.75,1.0,1.0,2.0,2.0,2.0,3.75,2.5,3.0,2.5,1.75,2.5,2.0,1.75,1.5,1.0,1.75,1.75,1.5,1.0,2.0,1.0,1.0,1.5,1.0,1.0,2.5,2.5,2.5,3.5,2.75,2.5,2.5,3.25,1.75,2.5,2.5,1.0,1.0,1.75,1.75,2.0,2.25,3.25,1.0,1.0,2.5,1.75,1.75,2.25,1.0,2.5,2.5,2.5,1.0,1.75,2.75,4.0,1.0,1.0,2.5,1.0,2.5,2.75,2.0,1.5,1.75,1.5,2.5,1.0,1.75,2.5,2.5,2.5,2.0,2.0,1.75,2.75,1.5,7.5,1.0,1.75,1.75,1.0,1.0,1.75,2.75,2.5,2.5,2.5,2.25,1.5,2.0,2.5,2.25,1.75,2.75,1.5,2.5,2.0,3.5,2.25,1.75,1.0,2.25,2.75,2.5,2.5,1.5,2.0,2.5,2.25,2.5,3.0,2.5,3.25,2.25,1.5,0.75,1.75,1.0,2.5,2.0,3.5,2.5,1.0,1.75,2.25,1.0,1.5,1.0,3.25,2.0,4.0,2.0,1.75,1.5,1.0,1.0,2.25,1.5,1.75,2.0,1.0,2.25,1.0,2.0,3.0,1.75,1.75,4.0,3.5,2.5,2.5,3.5,1.0,1.75,1.0,1.5,2.5,2.75,1.75,1.0,2.25,1.0,1.0,1.75,1.5,2.5,2.0,1.75,1.75,1.5,2.5,1.0,2.25,1.75,1.0,2.5,2.0,1.5,2.0,1.75,2.0,2.5,2.5,1.75,1.75,2.5,1.75,2.0,2.25,1.0,2.5,1.0,2.5,3.5,1.75,2.5,2.5,1.0,1.75,2.25,1.0,2.0,2.5,4.25,2.75,2.0,1.0,3.0,2.0,1.75,1.75,1.75,2.25,1.0,1.0,3.25,2.75,2.5,1.5,3.5,1.75,3.0,3.5,1.75,3.25,3.25,2.5,2.25,1.5,1.0,1.0,1.5,1.75,1.5,2.5,1.0,2.5,2.5,3.25,1.5,3.0,2.25,2.0,1.0,2.5,2.5,1.0,1.5,3.75,2.5,3.5,1.0,2.5,2.75,1.75,2.25,1.0,2.0,2.75,2.0,2.0,1.5,2.5,1.0,2.0,2.5,2.25,1.5,2.5,2.5,2.0,2.0,2.25,2.0,1.0,2.5,2.25,2.5,2.25,1.75,2.5,2.5,2.5,1.0,1.0,1.0,2.5,3.0,2.5,2.0,3.25,2.5,2.5,3.25,2.25,2.75,2.5,2.25,1.0,1.0,2.0,2.0,1.0,1.5,3.0,1.0,2.0,1.75,1.0,2.5,2.25,1.0,1.0,2.5,2.25,1.75,1.0,1.75,2.25,2.0,1.5,1.0,1.0,2.5,1.75,2.5,3.0,2.5,3.0,3.0,2.25,4.5,1.75,1.75,1.0,1.5,2.5,2.5,1.5,2.5,2.5,2.5,2.5,2.0,1.0,1.0,2.5,2.0,2.5,2.5,2.5,1.0,1.0,2.5,2.5,2.5,2.25,1.0,1.0,2.0,3.0,2.5,2.25,1.75,1.75,3.75,2.25,2.0,2.5,2.25,2.5,2.5,1.75,2.0,2.0,2.0,1.5,3.0,2.0,1.0,2.0,2.5,2.5,2.5,1.75,2.75,1.0,2.25,3.0,1.0,1.75,1.75,2.5,2.5,1.75,1.75,1.75,2.5,2.5,2.5,1.75,2.25,2.25,2.5,2.5,2.5,2.5,2.0,2.0,1.75,1.75,1.0,1.0,1.75,1.5,1.75,2.5,2.5,3.25,3.5,2.0,4.25,2.75,3.0,1.5,2.75,2.75,2.5,1.5,2.5,1.0,2.5,3.5,1.0,2.25,2.0,2.0,1.5,1.0,2.25,4.25,1.0,2.5,3.25,1.75,2.5,2.0,2.25,3.0,1.0,1.0,2.5,1.75,2.0,3.0,1.75,2.75,2.5,2.5,2.0,1.75,1.0,2.75,1.0,2.5,4.5,2.75,3.25,1.0,2.25,1.0,1.75,1.0,1.75,1.5,1.0,2.75,2.5,3.0,1.0,3.25,1.5,1.75,2.5,1.0,1.0,2.25,1.0,1.75,2.5,2.75,2.25,1.0,2.75,3.0,2.75,2.5,2.75,2.5,1.0,2.0,2.5,2.5,1.0,2.5,1.75,2.25,1.75,2.0,3.25,2.0,2.25,1.0,2.5,1.0,2.5,2.0,1.5,2.5,1.75,1.0,1.0,1.5,1.0,2.25,1.75,2.5,1.0,1.0,1.0,1.75,1.75,2.5,1.75,2.5,2.25,2.5,2.5,2.5,2.25,1.75,2.5,1.0,1.5,2.5,1.75,2.75,2.5,2.5,0.75,2.25,2.0,2.25,1.0,2.75,2.5,1.0,1.75,1.75,1.0,1.75,1.0,1.75,4.25,7.75,2.5,4.25,1.0,2.5,2.5,2.5,1.75,2.75,1.5,2.75,2.25,2.75,1.5,2.25,2.75,1.0,1.0,4.0,1.0,2.5,1.0,2.5,1.0,2.5,1.0,1.75,1.75,2.5,1.5,2.5,1.75,2.5,2.75,2.0,2.25,2.5,1.5,1.5,1.75,1.75,1.75,3.0,1.5,1.0,2.5,1.75,2.25,1.0,1.75,1.75,4.25,2.0,1.5,2.5,2.5,1.75,2.5,2.25,3.25,1.75,1.75,4.0,2.25,2.75,1.0,1.0,2.5,1.0,2.5,1.75,4.0,1.0,1.0,1.0,2.5,2.25,3.25,2.5,2.0,1.0,1.0,1.0,1.5,1.5,2.0,1.5,4.5,1.5,2.5,1.0,2.5,1.75,1.75,1.0,3.0,1.5,1.0,1.0,2.5,2.5,1.5,2.0,3.0,1.0,2.5,1.5,2.5,1.75,1.5,3.5,3.0,2.25,4.25,2.75,2.25,1.75,1.75,2.5,2.0,2.75,1.5,1.0,3.25,2.0,2.25,2.5,2.5,1.5,1.0,3.0,2.5,1.0,2.5,2.25,3.0,2.0,4.0,3.0,2.5,1.0,3.0,4.5,2.5,2.5,2.5,1.0,2.5,1.75,2.5,2.5,1.5,1.75,2.25,3.0,1.0,1.5,2.5,1.75,2.5,2.5,2.25,1.5,2.25,2.5,1.75,2.25,3.5,2.75,2.5,1.5,2.25,3.5,1.75,2.75,1.0,2.75,1.0,1.75,1.75,1.0,2.25,2.25,1.0,2.25,2.5,2.0,2.25,2.5,2.5,1.75,2.0,2.5,3.5,2.0,2.75,2.25,1.75,4.25,2.5,1.0,2.25,1.0,1.0,2.5,2.75,2.25,3.25,3.25,1.0,1.0,1.75,1.0,2.0,1.0,1.5,1.75,1.75,1.0,2.5,2.5,1.0,1.0,1.75,1.5,1.0,4.0,3.0,2.5,2.0,2.5,1.0,2.5,2.5,2.5,1.5,2.0,1.0,2.5,1.0,2.0,1.75,2.5,1.0,2.5,1.0,2.25,4.25,1.75,1.0,2.5,2.5,2.0,2.0,2.0,2.25,2.0,1.5,1.0,2.5,1.5,1.0,2.5,2.75,1.0,1.0,1.75,1.5,2.25,1.5,0.75,2.5,2.25,1.0,2.5,1.0,1.75,2.5,2.75,1.5,2.5,2.5,1.75,3.5,1.0,2.25,3.25,2.5,2.5,2.5,1.5,2.5,1.0,1.75,2.5,1.0,1.0,2.5,3.0,1.75,2.25,2.5,2.0,2.5,1.5,2.75,1.5,2.5,2.25,1.0,1.0,1.5,1.75,1.0,2.0,2.5,1.75,2.75,1.75,2.5,1.75,2.0,2.5,2.5,2.75,2.5,2.25,4.0,1.0,1.75,3.5,1.0,1.75,2.5,2.75,2.5,1.0,1.0,2.0,3.25,1.0,2.0,1.75,1.5,1.75,2.0,1.75,2.5,1.5,2.25,1.75,1.5,2.0,1.75,2.75,3.25,2.5,1.0,2.75,2.0,2.0,3.5,1.75,1.0,2.5,1.5,2.0,3.0,2.25,1.0,3.0,1.5,2.5,2.25,1.75,1.75,2.5,2.75,2.25,2.25,2.75,4.5,2.25,1.75,1.0,2.5,0.75,1.0,1.75,2.75,3.5,2.5,2.5,0.75,1.75,1.0,3.5,2.0,2.5,2.5,1.0,1.0,2.5,2.25,2.25,2.0,1.0,1.0,2.5,0.0,3.0,1.75,2.5,2.5,2.5,1.75,2.5,2.0,2.5,2.5,2.0,1.75,2.25,2.5,1.75,2.25,2.5,1.0,1.0,1.75,1.0,1.0,2.5,2.75,2.5,1.5,2.0,2.25,3.25,2.0,2.5,1.75,2.0,1.0,3.0,1.75,1.0,1.0,2.5,3.5,1.0,2.25,1.0,1.0,3.5,2.5,1.75,1.5,2.5,2.25,2.5,2.75,2.0,2.0,2.5,3.25,2.25,1.75,2.75,3.75,2.5,3.0,2.75,1.75,5.0,1.0,1.75,2.5,2.0,1.5,2.5,1.0,1.5,2.25,2.25,2.75,2.25,2.75,2.0,2.25,1.75,1.5,2.5,2.5,2.5,1.0,2.75,1.0,2.5,3.0,2.25,2.5,2.5,1.75,2.5,2.75,1.0,1.0,2.25,2.5,1.5,3.75,2.25,2.5,2.25,1.5,1.0,1.0,2.25,3.0,3.0,1.0,2.5,2.25,1.5,2.5,3.0,2.25,1.0,2.0,2.75,1.75,2.75,1.75,1.75,2.5,1.0,2.75,1.0,1.0,2.5,2.25,2.0,2.5,1.75,1.0,1.0,2.0,1.0,1.75,2.5,2.5,2.5,2.0,1.0,2.25,1.5,3.5,1.75,2.25,1.75,2.5,1.75,3.0,2.25,1.75,1.75,2.5,4.25,2.0,2.5,2.5,2.0,2.5,2.75,1.75,1.75,1.5,2.75,1.75,1.0,2.5,2.0,2.75,2.5,1.5,2.25,3.0,2.0,2.5,2.5,1.0,2.5,2.5,2.5,1.0,2.75,2.5,2.0,2.5,1.75,2.25,1.75,1.0,2.75,2.0,2.0,2.0,1.75,1.0,2.5,2.25,2.5,2.5,2.0,3.75,1.0,2.0,2.25,1.75,1.0,2.5,3.5,2.25,1.75,2.0,2.0,3.5,1.75,2.5,2.5,2.25,2.5,1.0,1.0,2.5,2.5,1.0,1.0,2.25,2.25,1.0,3.0,2.5,1.0,1.0,3.0,2.5,1.0,2.5,1.0,2.5,1.5,1.75,1.75,1.0,2.25,1.5,1.5,2.5,2.25,1.75,1.0,2.5,1.75,2.25,1.5,2.75,1.75,2.25,2.25,1.0,2.0,1.5,2.5,1.75,2.5,1.0,1.0,3.0,1.0,1.0,2.5,1.0,1.0,1.75,1.5,2.0,4.0,3.0,2.5,1.75,3.0,1.75,2.75,1.0,2.0,4.0,2.0,3.0,2.75,3.75,3.5,1.0,2.25,2.5,1.0,1.75,2.5,3.0,2.25,1.0,2.75,2.5,1.5,1.0,1.0,3.5,2.0,2.5,1.0,2.5,1.0,2.75,1.5,2.25,2.75,1.0,2.5,2.0,2.5,1.5,2.75,2.5,2.5,2.5,2.5,1.75,2.5,2.5,1.0,2.75,1.0,2.0,2.5,2.25,1.0,2.5,2.5,2.25,2.5,3.25,1.75,2.5,1.75,1.0,2.5,2.25,1.75,1.75,3.0,2.0,2.5,5.5,1.75,2.5,1.75,2.25,2.5,2.25,2.5,1.75,2.5,1.0,1.0,2.5,2.5,1.75,3.25,1.75,2.75,1.0,1.0,2.5,1.75,3.5,2.25,3.25,1.0,1.5,1.75,1.0,2.0,3.5,1.0,2.0,2.0,1.0,1.75,2.25,1.0,1.75,2.5,1.0,2.0,1.75,2.25,2.75,2.75,1.0,1.0,2.5,2.5,2.5,2.5,2.25,2.5,2.0,2.0,1.0,1.75,1.75,2.5,2.0,2.75,2.5,2.25,2.5,2.5,2.0,2.5,2.5,2.25,3.0,1.75,3.5,1.0,1.0,1.75,2.5,2.75,2.5,1.0,3.0,0.75,0.0,1.75,3.0,1.0,1.75,1.0,1.5,2.0,2.5,1.75,1.75,3.5,3.25,2.25,1.75,2.0,2.0,2.5,1.75,2.25,2.5,1.0,1.0,1.0,1.0,1.0,1.0,2.25,1.75,2.0,2.5,2.25,1.75,2.5,1.0,1.0,1.0,2.75,1.75,2.5,1.0,2.5,1.75,1.75,1.5,2.25,3.0,1.5,1.75,2.5,1.0,3.0,2.5,1.75,2.25,1.0,2.5,2.5,3.0,2.5,2.75,2.0,1.75,1.75,2.5,2.25,2.5,1.0,1.75,1.5,1.0,1.75,2.25,2.25,3.75,1.75,3.0,2.0,1.0,2.25,1.0,2.0,2.5,2.5,2.5,1.75,1.0,3.75,4.5,1.75,3.0,2.25,2.5,2.25,3.25,2.5,1.5,3.5,2.25,3.0,1.75,2.25,2.5,1.75,2.0,1.75,1.5,1.75,1.0,2.5,2.5,2.25,1.75,1.5,2.25,2.25,2.5,2.0,1.75,1.0,1.5,2.5,1.0,1.75,2.75,2.25,3.5,1.0,2.0,2.5,1.75,2.75,2.5,2.25,1.75,1.5,1.75,1.75,2.25,2.5,1.0,1.5,2.5,2.5,2.5,1.0,1.75,2.5,3.25,3.0,2.5,2.5,1.5,3.0,2.75,1.75,2.5,2.0,1.75,2.5,2.5,2.5,2.5,3.0,1.75,1.0,1.0,2.5,1.0,2.75,1.5,2.0,1.75,2.25,1.0,2.5,2.0,1.75,1.75,4.0,2.25,2.0,0.75,2.5,2.5,2.5,1.0,1.0,1.0,1.75,2.75,1.5,2.5,1.5,2.75,2.5,2.5,2.5,1.0,2.25,2.5,2.25,1.75,1.75,2.25,2.75,3.0,4.0,2.5,2.0,1.75,3.5,2.25,2.5,1.0,3.25,2.0,1.75,2.0,1.75,2.0,2.0,2.5,1.0,1.5,2.5,2.25,1.75,4.25,2.75,1.0,3.5,2.25,2.5,2.5,2.5,2.5,2.5,2.5,3.0,2.75,2.25,2.5,2.5,2.5,2.5,1.0,1.5,3.0,2.25,2.0,2.5,2.75,0.75,1.75,1.75,1.75,2.5,1.5,2.5,2.5,1.0,2.5,3.0,2.25,2.5,1.0,1.5,1.75,2.5,2.5,2.5,2.5,1.0,2.5,2.5,2.0,1.0,3.5,1.75,2.5,2.0,1.0,1.0,2.5,1.0,2.5,1.75,2.5,1.5,1.5,1.75,1.0,1.75,1.0,2.0,1.75,1.75,1.0,2.0,3.5,1.0,1.5,2.0,2.0,2.5,2.0,2.5,1.75,2.25,2.75,2.0,1.75,2.5,1.75,2.5,1.75,1.75,1.0,2.5,2.25,2.0,1.0,1.5,2.5,2.25,2.25,1.0,2.5,2.5,1.0,4.5,1.75,1.5,2.5,1.0,2.5,2.75,2.25,3.25,2.5,2.25,2.5,2.5,2.5,1.75,1.75,2.5,2.75,2.5,2.0,3.25,1.75,1.75,1.75,1.0,2.5,2.25,1.75,3.0,1.75,2.5,2.75,1.75,2.0,2.25,2.0,1.0,1.75,2.5,1.75,3.25,1.0,2.25,1.0,3.0,2.0,1.0,2.5,1.75,3.0,2.75,2.0,1.0,2.5,2.75,1.75,1.75,2.5,2.0,3.0,2.5,2.25,1.75,2.5,1.0,1.0,1.5,3.5,1.0,2.0,2.0,2.5,1.75,1.0,3.0,2.5,1.75,2.5,2.25,1.0,2.75,1.75,1.75,2.25,1.75,2.75,2.5,1.75,2.0,2.75,2.5,1.75,1.5,2.75,2.5,2.5,2.25,3.5,1.75,2.5,1.0,1.5,1.75,2.5,4.5,1.5,3.0,3.25,2.25,1.5,2.5,1.75,2.25,2.0,2.5,2.5,1.75,2.5,2.0,3.25,2.5,1.75,1.75,3.25,2.75,2.25,1.75,1.75,1.0,2.5,1.0,2.0,2.25,1.0,2.5,2.5,2.0,1.0,1.5,2.5,2.5,1.75,2.5,2.25,2.0,1.75,2.5,1.0,1.75,1.5,2.25,2.5,2.25,1.75,2.0,2.5,1.0,2.25,2.0,2.5,2.5,2.5,2.75,1.0,2.0,2.0,2.75,2.0,2.5,2.25,1.0,1.75,3.75,1.75,2.0,1.75,1.5,1.0,1.0,3.25,1.0,1.0,1.0,2.0,2.5,2.25,1.0,1.0,2.5,3.0,1.75,3.25,1.0,2.0,2.5,2.5,1.75,1.0,1.75,2.5,1.0,3.5,1.5,1.75,4.25,2.0,2.5,2.75,1.75,2.25,2.0,3.75,2.0,3.0,2.25,3.5,1.0,1.0,2.25,2.5,2.5,1.75,1.75,2.5,1.0,1.75,4.5,1.75,2.5,2.25,3.0,3.0,2.0,1.0,2.25,2.5,2.25,1.0,1.75,1.0,1.0,2.5,2.25,1.75,2.5,1.0,3.75,1.75,2.5,2.5,1.5,1.75,1.5,2.75,2.25,2.5,2.0,1.5,1.5,1.0,1.75,2.5,1.5,2.0,2.5,1.75,3.25,2.25,3.5,2.5,1.75,1.75,2.5,1.75,2.25,1.5,1.5,1.75,2.25,3.5,1.0,2.5,2.5,2.5,3.5,2.75,1.5,2.5,2.5,2.5,1.75,1.0,1.5,2.25,2.5,1.75,0.75,2.5,2.5,2.0,2.0,1.75,1.0,1.75,1.5,1.5,1.75,2.5,3.5,3.0,2.75,2.5,1.75,3.25,2.75,1.0,2.75,2.5,1.0,2.5,2.5,2.5,1.0,2.75,2.5,2.25,1.0,2.5,1.0,2.0,2.5,2.25,3.25,1.5,2.25,1.0,1.0,2.0,1.75,1.75,2.5,3.5,2.5,2.5,3.5,3.0,2.25,1.0,2.75,4.0,1.5,2.75,1.75,1.75,3.5,2.5,2.0,1.0,2.25,2.25,1.75,1.5,1.75,1.75,1.5,2.75,2.25,1.0,1.75,2.5,2.5,2.0,2.5,1.75,1.5,2.75,1.5,1.75,1.0,2.25,4.5,1.75,2.0,1.0,2.0,2.25,1.75,2.75,2.5,2.5,2.75,3.25,1.5,1.0,1.75,1.75,3.0,1.5,2.5,1.0,1.0,1.0,2.5,2.75,2.5,1.0,1.5,2.25,3.5,1.75,2.5,2.25,1.75,3.5,2.75,2.5,2.5,2.0,2.0,2.0,1.75,2.0,1.75,1.75,1.0,1.75,2.25,1.5,2.0,2.0,3.0,1.75,2.5,2.25,1.5,1.0,2.5,1.0,1.0,1.0,3.25,1.0,2.75,1.75,1.5,1.75,3.5,3.25,2.0,3.25,2.5,2.5,2.5,2.5,2.75,1.5,1.0,2.75,1.5,3.25,1.0,1.0,1.75,2.0,2.25,1.0,1.0,1.5,2.5,2.75,1.75,1.0,2.0,1.75,1.0,2.75,2.5,1.5,1.0,2.5,2.5,2.5,2.25,1.75,1.0,2.5,2.5,2.0,2.0,1.0,2.75,1.75,2.0,2.25,2.75,2.5,1.5,3.5,0.5,2.5,1.0,1.0,2.75,3.75,1.75,4.25,1.5,1.75,1.0,1.0,2.5,2.0,3.25,2.0,3.0,1.0,2.5,1.5,2.25,2.25,1.0,1.5,1.75,2.5,2.5,1.5,2.25,1.75,1.0,2.25,2.25,1.0,2.0,2.75,2.5,2.75,1.75,2.5,1.75,3.0,3.25,2.5,1.0,2.5,2.75,1.75,1.0,1.0,2.0,4.5,2.5,2.25,1.0,2.5,4.25,1.0,2.0,2.5,3.0,1.0,2.75,2.5,1.5,2.0,3.25,2.5,2.25,3.25,1.75,1.5,1.5,2.5,1.0,2.25,1.5,1.5,2.0,1.0,3.5,1.5,3.25,2.5,1.0,1.0,2.25,3.25,2.5,1.75,2.0,2.5,2.5,2.25,1.0,1.0,1.5,1.0,2.25,1.0,1.0,1.0,1.5,2.0,2.5,1.75,2.25,3.5,2.0,1.75,2.0,1.5,2.5,1.0,1.75,2.0,1.75,2.0,2.5,3.25,2.25,2.25,3.0,2.25,3.0,2.5,2.5,1.0,2.25,1.0,2.25,2.5,1.0,2.0,2.0,2.5,2.75,1.0,1.0,1.0,3.5,2.25,3.5,2.5,3.25,1.75,3.5,1.75,4.0,1.5,1.0,1.0,1.0,1.0,2.5,3.0,1.75,1.0,2.5,1.75,2.5,1.75,3.5,2.5,2.75,2.5,2.5,2.0,2.5,1.0,2.5,2.5,2.5,1.0,3.0,2.25,2.5,2.75,1.0,2.0,1.0,2.5,2.75,1.75,1.0,2.25,2.0,2.5,2.5,2.75,3.25,1.5,2.75,1.75,2.5,1.75,3.5,1.0,2.5,2.5,1.0,2.5,1.5,1.75,2.0,2.5,1.0,3.0,2.5,2.5,2.5,1.75,4.5,1.75,4.5,1.75,1.5,1.75,2.0,1.5,2.5,1.0,2.75,2.25,3.0,2.5,1.0,1.75,3.0,2.5,3.5,1.5,2.5,2.5,1.75,2.25,1.75,2.5,1.75,1.75,1.0,2.25,1.0,2.5,3.75,1.75,2.25,2.5,1.0,2.0,2.25,1.0,2.0,2.0,2.0,2.0,1.75,1.5,2.5,1.75,0.5,2.5,2.75,1.75,2.5,2.0,2.0,0.75,1.75,1.75,2.0,1.0,1.0,1.5,2.25,2.5,2.5,1.0,1.0,2.75,2.0,1.0,2.0,3.0,1.75,2.5,2.75,1.75,1.5,2.25,1.75,1.0,1.0,2.5,1.0,1.0,3.0,2.25,2.0,2.5,4.25,1.0,2.0,1.5,1.5,2.5,1.5,1.75,2.25,1.75,1.75,1.75,2.0,1.0,2.25,1.75,2.5,1.5,1.5,2.5,2.5,1.75,2.5,1.75,2.0,2.5,2.25,1.0,1.5,1.0,1.0,1.5,1.0,2.0,2.5,1.75,2.5,1.75,1.0,2.0,2.5,2.25,2.0,1.75,2.5,2.5,2.25,2.0,2.5,2.0,1.75,2.5,1.75,3.25,3.75,1.0,1.75,2.5,2.5,1.5,2.5,2.5,2.5,2.0,2.0,4.0,1.75,1.75,1.75,2.0,2.0,2.5,2.5,2.75,1.5,1.0,2.5,2.0,2.5,1.5,1.0,3.25,2.25,4.75,2.5,1.0,3.0,1.0,2.5,2.25,2.5,2.25,2.5,2.5,1.5,2.5,1.0,2.25,3.5,2.0,3.25,1.0,2.25,1.75,2.5,2.25,1.5,2.5,1.5,1.75,1.75,1.75,2.5,2.0,2.25,1.75,2.0,1.75,2.25,4.5,3.25,1.5,2.25,1.0,2.5,1.5,2.0,1.75,1.75,2.75,4.5,1.0,2.75,2.25,2.5,1.75,2.0,1.5,2.5,1.0,4.0,1.0,1.5,3.0,2.5,3.25,1.0,1.0,1.0,2.5,3.75,2.25,2.5,2.25,1.5,2.0,1.75,2.5,1.0,1.0,2.25,2.5,3.5,3.0,3.5,1.5,2.5,1.75,2.5,1.75,2.5,2.5,2.5,1.0,1.0,1.0,2.0,3.0,2.75,1.5,1.5,2.5,1.0,2.25,1.75,3.75,1.0,2.5,1.75,1.5,2.25,1.75,1.75,1.75,1.0,2.0,1.5,2.25,1.75,4.0,2.0,0.75,1.0,1.0,1.0,1.5,1.5,2.5,3.0,1.0,2.5,3.25,1.0,4.25,1.0,2.5,1.0,2.75,2.5,2.0,2.0,2.0,2.25,2.5,1.75,2.0,2.75,1.0,1.0,2.5,1.75,2.5,1.0,3.5,2.25,2.5,4.0,1.75,2.75,2.5,3.0,2.5,3.5,2.75,1.0,2.5,1.75,1.5,2.5,1.0,1.75,1.75,2.5,2.5,2.25,1.0,1.0,2.25,2.5,1.75,1.0,1.75,2.5,2.0,2.25,1.0,1.75,2.75,2.5,2.5,2.75,2.5,2.5,3.75,1.0,4.25,1.0,1.0,2.75,2.25,2.5,1.5,2.5,1.75,2.5,2.5,2.0,1.0,1.0,1.0,1.75,1.75,1.0,1.75,2.25,1.5,1.5,2.5,1.0,1.0,1.5,2.0,2.0,1.0,1.75,1.0,1.75,2.5,2.25,1.0,1.5,1.75,2.5,2.75,2.5,2.5,2.0,1.75,1.75,0.75,2.5,2.0,2.5,1.0,1.0,1.0,2.0,1.0,1.0,2.5,2.5,4.5,2.0,1.75,3.5,2.0,3.0,3.0,3.25,2.0,1.75,2.25,1.0,2.5,2.75,2.75,2.5,2.5,1.0,1.0,1.0,2.5,1.75,1.0,2.5,2.0,2.75,2.75,1.5,1.0,2.5,1.5,1.75,2.25,3.25,2.25,2.25,1.0,2.0,2.25,1.0,3.25,1.0,3.25,2.0,2.5,2.0,2.5,1.75,1.5,1.75,2.5,1.0,2.5,2.5,2.75,1.75,1.5,1.75,2.0,2.25,1.75,1.0,2.5,2.0,2.0,2.0,1.0,1.75,1.0,2.0,3.0,1.75,2.5,3.5,1.75,1.0,2.5,1.0,1.0,2.25,2.75,2.5,1.0,2.5,1.0,1.75,3.5,2.5,3.5,1.0,2.5,2.75,1.75,2.5,2.75,1.0,1.0,3.75,2.5,1.0,1.0,1.75,1.75,1.75,1.0,3.5,1.75,2.75,1.5,1.75,2.75,1.75,2.5,2.0,1.75,2.5,4.5,2.0,2.5,1.75,8.0,2.5,2.5,1.0,1.0,3.5,2.5,1.0,1.75,1.0,2.5,2.5,2.5,1.75,1.0,1.0,1.0,1.75,2.5,1.75,1.0,2.5,2.5,2.0,1.75,1.0,2.5,1.0,2.5,3.0,1.0,2.5,1.0,1.0,1.0,3.25,2.5,1.0,2.5,2.5,2.5,3.5,3.25,2.5,2.25,2.0,2.5,2.25,2.5,2.0,1.75,1.0,2.75,2.5,1.5,1.0,2.0,1.0,1.0,4.25,1.0,1.5,3.0,1.0,2.5,1.0,1.75,1.0,2.0,2.75,3.75,1.75,1.0,1.5,2.5,1.0,1.0,2.25,1.0,2.25,1.75,2.0,2.5,1.0,2.5,4.0,1.0,2.0,2.75,3.0,1.0,1.75,1.5,2.5,2.5,2.5,1.0,2.0,2.0,2.0,2.25,2.0,3.0,2.5,2.5,1.75,2.5,2.5,1.75,1.75,2.0,1.75,1.75,1.0,2.25,1.0,2.75,1.5,1.75,2.25,1.75,1.0,1.5,2.5,3.5,2.5,1.0,1.5,2.0,2.5,2.0,2.5,1.0,3.0,1.0,1.0,2.5,2.5,1.75,1.5,2.5,1.0,3.0,2.5,2.25,1.0,1.5,2.5,2.25,1.0,2.25,2.25,1.0,1.5,1.0,1.0,2.5,2.25,2.5,2.5,1.0,2.5,2.5,2.5,1.0,1.0,2.25,2.75,1.75,1.75,1.0,1.0,1.5,2.5,2.5,1.75,1.75,1.0,3.25,2.0,1.0,2.5,1.5,2.25,1.0,1.75,3.5,2.5,1.75,2.25,4.5,1.75,2.5,1.0,1.75,2.5,1.75,1.0,1.0,2.5,2.25,2.0,2.0,1.0,1.75,2.0,2.25,1.75,2.0,1.0,1.0,2.5,1.0,2.0,2.5,3.5,3.0,1.5,4.25,1.75,1.75,1.0,3.5,2.5,2.0,3.25,2.5,5.0,2.5,2.25,1.75,2.5,2.25,1.75,1.75,2.5,2.5,1.5,2.5,2.75,2.5,3.0,3.25,1.0,1.0,1.0,2.5,2.5,2.25,2.75,1.5,1.75,1.5,2.5,1.0,2.5,2.5,2.5,2.5,1.0,1.75,2.25,2.5,1.0,1.0,1.75,3.5,1.5,1.0,2.0,2.0,1.75,1.5,3.5,1.0,2.25,2.75,3.0,3.5,2.5,1.0,3.25,1.75,2.0,1.5,1.0,3.0,2.75,2.5,2.75,3.0,1.0,1.0,2.25,2.25,2.5,2.75,2.0,1.5,2.5,1.0,3.0,2.5,1.0,1.0,1.0,1.0,1.0,2.25,2.5,2.0,2.75,2.25,2.0,2.75,3.0,2.5,2.5,2.25,2.25,1.75,3.5,3.0,2.5,2.0,2.5,2.5,1.0,1.0,1.0,1.5,1.75,3.0,3.0,3.25,2.5,2.5,3.0,1.0,2.25,1.75,1.0,2.0,2.0,1.75,1.0,1.75,1.75,5.25,2.25,3.25,2.5,2.0,2.5,2.5,1.5,1.0,2.5,1.0,1.75,2.25,2.0,1.75,2.5,1.0,1.0,2.25,2.5,2.25,2.25,3.75,1.0,2.5,1.0,1.0,1.0,2.25,1.75,2.5,2.75,2.5,2.5,1.0,1.75,1.0,2.5,1.75,2.5,2.0,1.75,2.25,1.75,1.0,1.75,1.5,2.0,3.25,1.75,2.5,1.0,2.25,2.25,4.5,2.5,2.5,2.5,2.75,1.0,1.5,2.0,2.0,2.25,2.25,1.5,2.5,1.0,2.75,2.5,2.5,2.0,1.0,1.75,2.5,3.5,1.0,2.75,2.25,2.0,2.25,2.5,1.0,2.5,1.75,3.25,2.5,2.5,2.0,2.5,2.5,1.5,3.5,3.0,2.5,1.75,2.0,2.5,3.5,2.5,2.5,3.25,2.0,2.75,3.25,2.25,1.75,2.0,2.0,2.25,2.5,1.5,1.75,2.5,1.75,2.25,2.0,2.5,2.5,2.5,2.0,1.75,2.5,2.0,1.75,1.75,2.5,3.0,3.0,2.75,1.75,1.0,2.5,2.5,2.5,1.0,1.5,1.0,2.5,2.25,3.5,2.5,2.0,1.0,2.5,1.0,2.5,2.0,1.0,1.75,1.0,2.5,2.5,2.25,1.5,1.0,2.5,2.5,1.5,2.0,2.0,1.75,1.5,2.5,2.5,2.5,2.5,2.5,1.75,2.5,1.0,3.5,1.0,1.75,1.75,2.75,3.5,1.75,1.75,2.0,2.25,1.75,1.0,1.0,1.75,3.5,1.75,1.0,1.0,1.75,2.5,3.0,1.5,1.75,2.25,3.0,1.75,1.75,1.0,1.75,2.5,1.5,2.75,1.0,1.0,3.0,2.25,2.25,2.0,1.75,3.5,1.0,1.75,2.5,3.25,2.5,1.0,2.75,2.0,2.5,2.5,2.25,2.0,1.0,2.0,1.0,1.0,1.0,2.75,1.0,1.75,1.75,2.25,2.5,2.5,1.75,2.5,1.0,1.0,2.5,1.75,1.0,2.5,2.5,2.5,2.5,1.0,2.0,2.5,1.75,1.5,2.5,1.75,3.5,1.75,2.25,2.5,2.0,1.75,1.0,1.0,2.25,1.5,4.5,1.75,2.75,1.0,3.5,1.75,2.75,1.75,2.5,2.75,1.75,2.5,2.25,2.0,2.5,1.0,1.75,2.5,1.75,3.0,1.75,2.5,1.75,3.25,2.25,1.75,1.75,2.75,1.75,1.5,1.0,2.25,1.0,3.25,2.5,1.0,2.25,1.0,1.0,1.0,2.25,3.25,2.5,1.0,2.5,2.75,1.0,1.75,1.75,2.5,1.5,2.5,2.25,1.75,2.0,2.5,1.75,2.25,1.75,1.75,2.5,2.5,2.5,1.0,1.0,3.25,2.0,1.75,2.5,2.5,1.75,2.25,1.5,1.0,2.0,1.5,1.75,2.5,3.0,2.75,1.0,2.5,2.5,1.0,3.25,2.75,2.25,1.75,1.0,2.75,1.0,2.5,1.75,2.5,2.75,2.0,2.25,4.0,1.75,1.75,2.25,2.25,2.5,2.5,2.75,2.25,1.0,3.5,3.0,2.5,2.25,2.0,1.75,2.5,1.0,2.0,2.5,2.5,2.5,2.5,2.0,1.5,2.25,2.5,1.0,1.0,2.5,3.0,2.75,1.0,2.0,2.75,3.5,2.0,1.75,5.5,2.5,2.5,1.75,3.0,1.0,1.5,1.75,2.0,2.5,1.0,1.75,2.75,1.75,1.5,2.25,1.75,2.5,2.5,2.5,2.25,1.0,3.0,2.5,1.75,1.0,2.25,2.0,2.25,1.75,2.25,1.0,1.75,2.5,3.25,2.5,2.25,2.5,2.5,1.75,2.5,2.0,1.0,2.5,2.0,1.0,3.25,2.25,2.5,1.0,3.0,3.0,2.5,1.75,1.0,2.5,1.5,1.0,1.0,2.5,2.0,2.5,3.0,2.5,1.0,1.0,1.0,1.75,2.25,2.75,1.0,1.75,1.75,2.75,2.25,1.0,1.75,1.0,1.0,1.0,2.0,2.5,2.5,2.5,1.75,1.5,3.0,1.0,3.75,2.5,2.25,1.5,2.75,1.0,1.75,2.5,1.0,2.5,2.25,1.0,1.5,1.75,2.5,3.25,2.0,2.0,1.0,2.25,1.5,1.0,1.75,1.75,1.5,2.25,2.5,2.5,1.0,1.0,2.5,2.25,2.0,2.5,3.25,2.5,1.5,1.0,4.75,2.0,1.0,2.25,1.75,2.25,2.0,1.0,1.75,2.5,2.5,1.75,2.5,1.75,1.0,3.25,1.0,2.5,1.0,3.25,1.75,1.0,1.75,2.5,1.0,1.0,1.75,1.75,1.0,2.5,1.0,2.5,2.5,2.75,1.0,1.0,2.0,2.5,2.5,2.25,2.25,2.0,1.0,1.75,2.0,2.25,1.75,2.0,2.5,1.0,2.5,1.5,2.25,1.0,1.5,1.75,2.75,2.0,1.0,3.0,3.5,1.75,2.25,2.5,1.75,2.25,1.0,1.0,3.5,1.75,1.75,2.5,1.0,2.5,2.75,3.25,1.75,1.0,1.0,2.5,1.5,1.75,1.0,3.0,1.75,2.5,2.5,2.25,2.25,2.0,2.5,2.5,2.5,1.0,2.25,1.0,2.0,2.5,0.75,1.5,2.5,1.0,1.0,2.5,1.75,3.25,1.5,1.75,2.5,2.25,2.5,2.5,3.75,2.5,2.5,2.25,1.0,2.25,2.5,1.75,2.5,2.0,2.0,2.5,1.0,1.5,2.25,1.0,1.75,2.0,2.5,1.75,1.75,2.25,2.0,1.0,2.5,2.5,1.0,1.0,1.5,3.0,2.75,2.5,2.0,2.75,2.5,1.75,2.5,2.5,2.0,4.25,2.5,2.25,2.0,2.5,1.0,3.25,1.0,1.75,1.75,2.5,2.5,1.75,1.5,1.0,1.5,2.75,1.75,2.25,2.25,2.5,1.0,2.75,1.0,2.5,2.5,2.5,1.75,1.75,2.0,1.0,1.75,1.0,1.75,2.0,2.5,3.25,1.0,2.5,1.75,3.25,2.5,1.0,1.0,2.5,1.75,1.75,1.0,1.75,2.5,1.0,1.0,1.0,1.0,1.75,2.0,1.0,2.75,1.0,2.0,1.0,2.0,2.25,1.75,1.5,2.0,2.5,2.75,4.5,2.5,3.5,2.5,1.75,2.25,1.0,2.75,2.5,1.5,2.5,1.75,2.5,4.25,2.5,2.5,3.25,2.25,1.75,3.25,1.0,2.5,2.0,2.5,2.5,3.0,1.0,2.5,2.5,1.0,1.0,1.75,1.0,1.5,1.5,1.0,2.5,2.75,1.5,2.0,0.75,2.5,1.0,1.75,1.75,1.5,2.5,1.0,1.75,2.25,2.5,1.75,1.0,2.5,1.0,2.25,1.75,2.5,1.0,1.75,2.75,2.5,2.5,2.25,3.0,3.0,1.5,3.5,1.0,2.5,2.0,1.0,1.0,4.5,2.5,1.0,2.0,1.75,1.5,2.5,2.25,1.0,2.75,2.5,2.5,2.25,1.0,2.0,1.0,3.25,1.75,2.5,2.75,2.5,1.75,2.5,3.0,2.75,2.5,1.75,2.25,2.75,6.25,1.0,1.75,2.5,2.5,2.0,1.5,2.5,1.75,1.0,1.75,1.0,1.0,1.0,2.5,3.25,3.0,1.5,1.0,2.25,2.25,2.5,1.75,2.75,2.5,3.25,1.75,2.5,2.5,2.0,2.0,1.0,1.5,2.5,2.5,1.75,1.0,3.0,2.75,2.5,3.0,2.25,2.0,2.5,2.0,2.5,1.0,2.0,1.0,1.75,2.5,2.5,3.25,2.5,1.0,2.5,3.0,1.5,1.5,1.0,2.0,2.0,3.0,3.0,2.5,1.0,2.5,3.75,1.0,3.5,2.25,1.75,1.0,3.25,2.0,1.75,3.5,2.25,1.0,2.25,1.75,2.0,2.5,1.0,2.0,1.5,2.5,1.75,2.5,2.5,1.0,1.0,2.5,2.5,3.5,1.0,1.75,2.5,2.0,2.25,2.25,1.0,2.5,1.75,2.0,3.5,1.0,1.0,2.25,1.75,3.5,1.5,2.5,1.5,2.75,2.25,2.0,2.25,2.25,1.75,1.0,1.0,1.75,2.5,2.5,1.0,2.25,3.75,2.0,2.25,2.5,1.0,1.75,1.5,1.0,2.5,1.5,2.0,2.5,2.25,2.5,1.0,1.0,1.75,1.0,2.75,2.5,2.5,1.75,3.0,1.75,2.75,1.0,2.0,3.25,1.75,2.5,2.5,2.5,1.0,2.0,1.0,3.75,1.0,1.0,2.25,2.5,2.5,2.25,1.0,2.25,2.5,1.5,3.0,2.5,2.5,2.0,1.0,1.0,2.5,2.25,1.75,3.5,1.0,2.0,1.5,2.0,1.0,2.0,3.0,1.5,1.0,2.5,2.5,1.75,2.5,2.0,2.5,2.5,1.0,1.0,2.5,1.0,2.5,2.0,1.5,2.5,2.25,3.5,2.5,1.0,2.0,2.0,1.75,2.5,2.25,2.5,3.25,2.5,2.5,3.25,1.75,2.5,2.0,2.0,1.75,1.75,2.0,1.75,2.5,1.0,2.0,2.5,2.0,2.5,2.25,5.0,2.25,2.0,1.75,2.5,2.5,1.0,2.25,2.5,1.5,2.25,2.5,2.5,3.5,2.0,2.25,2.0,3.0,3.25,2.25,2.0,2.5,1.0,2.5,1.75,1.75,1.0,1.75,2.0,2.25,4.0,1.0,1.5,2.5,2.75,1.75,2.25,2.5,1.5,2.5,1.0,3.5,3.5,3.5,1.0,2.5,2.5,3.5,2.25,2.75,1.0,2.0,2.75,1.5,2.5,3.0,3.0,1.75,1.5,1.75,1.0,1.75,2.5,4.5,1.0,2.5,2.5,2.0,2.5,1.0,2.5,3.0,1.5,1.0,2.5,2.5,1.0,2.25,2.0,1.75,1.5,1.75,2.5,1.75,2.25,2.25,2.0,1.75,1.0,4.25,1.5,1.75,3.25,1.75,1.0,2.75,3.0,2.5,1.0,1.0,1.0,1.75,3.25,0.75,2.5,1.75,2.75,1.75,4.5,2.0,1.75,3.25,1.5,1.75,1.75,1.0,2.5,1.0,2.25,1.75,2.5,2.25,3.25,3.0,1.75,2.0,1.0,2.75,1.5,3.5,1.0,2.25,2.25,2.5,1.5,2.0,1.0,2.75,1.75,2.5,1.0,1.0,2.25,2.5,1.75,2.0,2.0,1.75,1.0,2.5,1.75,2.25,3.25,2.5,2.5,2.25,1.0,2.0,2.5,1.75,1.0,2.5,1.0,1.5,2.5,2.0,2.0,1.75,2.5,2.0,2.25,2.25,2.75,2.5,1.5,2.0,1.75,2.25,2.5,2.0,1.5,2.5,2.5,3.25,1.75,2.25,1.5,1.0,2.5,3.75,1.5,3.0,1.0,2.0,2.75,2.5,2.25,2.0,3.0,2.75,1.75,2.5,1.0,1.75,2.75,1.0,2.75,1.5,1.5,1.75,1.75,3.0,2.5,1.5,1.75,4.5,1.0,2.5,3.0,2.25,2.0,2.25,2.5,2.5,1.0,2.5,1.0,2.25,2.0,4.75,2.25,1.0,1.5,1.75,2.5,2.25,3.25,1.75,2.5,2.25,3.5,2.0,2.0,4.75,1.0,3.25,1.0,1.75,2.5,2.0,2.5,2.5,2.5,2.75,2.5,1.0,1.75,1.0,2.0,2.0,2.25,1.0,1.5,2.5,2.75,2.0,2.5,2.5,1.75,1.0,2.5,2.5,2.5,2.5,2.75,1.0,2.5,1.0,2.5,2.75,2.25,3.5,3.5,0.75,3.25,1.75,1.5,3.0,2.75,1.0,1.0,1.0,2.75,2.5,1.75,1.75,2.5,3.25,2.0,2.75,3.0,2.0,2.5,2.0,1.75,2.5,3.0,2.25,4.0,2.5,1.5,2.5,1.0,1.75,1.75,1.75,2.0,2.0,1.75,1.75,2.5,2.0,0.75,3.25,2.5,1.0,2.25,2.5,1.5,2.5,2.75,2.0,1.75,1.0,3.0,1.75,2.0,3.5,2.5,1.0,2.5,2.5,2.5,3.0,2.5,1.0,1.0,2.5,2.25,3.25,1.0,2.25,1.0,1.5,1.0,2.5,2.5,2.75,2.5,1.75,3.75,2.75,2.5,1.75,1.5,2.5,2.5,2.5,1.5,2.25,1.5,2.5,3.0,2.75,2.25,1.75,1.75,1.0,2.5,3.5,1.0,1.75,3.75,1.5,1.0,2.75,2.5,1.5,2.25,2.5,2.5,2.25,1.0,2.5,3.25,2.25,1.75,1.0,2.5,2.75,2.0,2.5,2.75,2.5,2.5,1.0,2.5,2.25,3.75,2.25,2.5,1.0,2.75,2.5,1.0,3.75,3.25,2.5,2.75,2.5,2.5,1.75,2.0,3.5,1.0,1.75,1.5,1.0,3.0,1.5,2.25,2.75,1.75,2.25,2.0,1.0,2.25,1.0,4.75,2.5,2.5,2.5,1.5,1.0,3.75,2.5,2.75,3.75,2.25,2.25,2.5,2.5,2.5,2.0,2.5,2.75,1.75,2.25,2.5,2.0,2.5,2.25,3.25,3.5,5.25,1.5,2.5,3.25,2.0,2.75,2.5,3.5,1.75,2.5,1.75,2.0,2.75,1.0,2.5,2.0,1.0,2.25,2.25,2.0,1.75,1.75,2.5,1.75,2.5,2.5,3.25,2.75,1.0,1.0,1.5,1.0,2.5,2.25,1.5,2.5,1.0,1.0,1.75,1.0,3.5,3.5,2.25,2.0,2.5,1.0,1.5,2.5,1.75,2.5,3.5,2.75,2.25,1.5,1.75,1.75,1.75,3.25,2.5,1.5,2.5,1.75,1.0,2.5,2.5,2.5,2.5,3.5,3.5,2.25,2.0,2.75,2.5,2.5,3.0,2.5,1.0,2.5,3.0,1.0,2.5,2.5,1.75,2.0,1.0,2.5,2.75,1.5,2.5,3.0,2.75,1.5,2.5,2.5,3.0,2.5,3.0,1.0,2.0,1.5,2.75,2.25,2.5,1.75,1.75,2.0,1.75,1.0,1.5,5.75,2.25,2.0,2.5,2.25,1.0,1.0,1.0,1.0,2.5,1.75,3.25,2.5,1.0,2.0,1.0,2.75,2.5,3.25,1.75,1.0,2.0,1.75,2.5,1.75,2.5,4.5,1.75,2.5,1.75,1.0,2.0,1.0,2.75,2.25,2.0,2.25,2.5,1.0,1.75,2.75,1.0,2.75,2.75,2.5,2.5,1.75,2.5,2.5,2.5,1.75,3.25,2.5,2.5,1.5,1.75,3.25,2.25,2.5,1.75,1.0,2.75,3.5,2.25,1.75,1.75,1.75,2.0,2.5,1.0,1.0,1.75,2.5,1.75,1.0,2.25,1.5,1.0,1.0,2.25,1.0,1.0,1.75,1.0,2.5,1.0,1.5,3.5,1.0,1.0,2.75,2.25,1.0,4.5,2.5,1.0,2.5,2.25,1.5,2.5,1.0,2.5,3.5,2.5,2.0,1.75,3.5,3.75,1.5,2.5,2.5,1.0,1.0,2.25,2.5,2.5,1.75,3.0,1.0,2.25,2.5,1.75,2.5,2.5,3.5,1.75,1.5,1.0,1.75,2.0,2.5,2.5,2.5,3.5,2.75,1.0,1.5,2.5,2.25,2.25,2.5,3.25,2.5,1.0,1.5,2.5,2.25,1.0,2.25,1.0,1.5,2.25,1.75,3.0,3.0,2.5,2.0,1.75,1.0,1.0,1.75,1.0,2.0,1.5,1.75,2.0,1.75,2.5,1.75,2.5,3.0,1.75,1.75,2.5,2.0,2.5,1.75,2.0,2.0,2.75,2.5,2.0,1.75,3.5,1.5,2.5,1.75,1.75,3.0,2.5,1.75,2.5,3.5,1.75,3.5,1.0,2.0,1.75,1.75,1.0,1.75,1.75,2.25,1.0,2.5,1.75,2.75,2.0,2.5,2.5,1.0,2.75,2.5,2.5,1.75,1.75,2.0,1.0,2.5,2.5,3.5,2.0,1.75,1.0,2.0,2.75,2.0,1.0,1.75,2.0,2.5,3.5,1.0,1.75,2.5,2.5,2.75,3.25,3.0,1.75,2.0,3.5,1.75,1.0,1.75,3.25,2.25,1.0,2.5,1.75,2.0,1.0,1.75,1.0,1.75,2.5,1.0,2.0,2.25,1.0,3.25,2.75,2.0,2.5,1.75,1.0,1.75,2.25,2.75,2.75,2.5,1.0,1.0,1.0,2.5,1.0,2.0,2.5,1.5,2.25,2.5,2.5,2.75,1.0,2.0,1.75,1.0,2.0,2.0,1.75,2.5,2.5,2.5,1.0,4.5,1.0,2.75,2.75,1.75,1.0,2.5,1.5,2.5,1.75,2.5,1.75,2.25,1.0,2.0,2.75,2.0,2.25,2.5,2.5,2.25,2.25,2.0,2.25,2.0,1.75,2.0,2.5,2.5,3.75,1.0,1.0,2.5,2.5,2.5,2.5,2.5,2.0,1.75,1.75,1.75,2.25,1.0,2.5,4.25,1.75,1.75,1.0,2.5,2.5,2.25,2.5,1.0,2.0,1.0,1.0,2.5,2.5,1.5,1.5,2.5,1.5,2.5,1.75,2.75,2.25,1.75,2.0,3.25,2.5,2.25,2.25,2.75,1.75,2.25,3.5,1.5,2.75,2.5,2.5,2.5,3.5,2.5,2.5,2.25,1.0,2.5,1.75,1.0,1.0,2.25,2.5,1.5,1.75,1.0,2.5,2.5,2.5,1.75,2.5,3.5,1.75,2.5,2.5,1.0,0.75,1.0,2.5,4.25,2.5,2.5,2.5,1.75,3.25,2.5,1.75,1.0,3.25,1.75,2.25,1.5,2.0,1.0,2.5,1.0,2.25,4.0,1.0,3.5,2.25,2.25,1.0,1.5,2.25,3.0,2.5,3.25,2.75,2.25,1.75,1.5,1.5,1.0,2.5,3.0,1.0,2.75,1.0,1.0,2.5,1.0,2.5,2.0,2.5,1.0,1.75,1.0,1.75,2.75,2.5,2.0,1.0,3.75,3.25,1.75,4.0,3.0,2.0,2.0,1.75,2.5,1.75,2.5,2.25,2.5,1.0,1.0,2.5,3.0,5.0,1.75,3.0,1.0,2.0,2.5,1.75,1.0,2.75,2.5,1.75,3.75,1.0,2.5,2.25,1.0,1.75,3.0,2.5,1.75,1.5,1.0,2.0,2.5,1.0,3.0,1.75,2.5,2.5,3.5,2.5,2.5,2.5,2.0,1.0,1.0,1.0,2.25,1.75,1.75,2.5,1.0,2.5,1.75,1.0,3.0,2.75,2.75,2.0,1.0,1.5,1.75,2.5,1.5,1.75,2.75,2.5,2.5,1.5,1.0,1.0,1.0,2.75,1.75,1.0,1.75,1.75,1.0,1.0,2.25,2.25,2.0,1.0,1.75,1.0,2.5,2.25,1.5,3.0,2.5,2.5,1.0,1.75,2.25,1.0,1.75,1.75,2.25,3.5,2.25,2.5,1.75,3.5,2.25,2.5,2.5,3.25,2.5,2.5,2.25,2.5,2.5,2.5,1.5,1.0,1.0,2.75,1.0,2.0,2.0,3.0,2.0,3.25,2.0,2.5,2.5,2.75,3.5,1.75,2.5,1.0,2.25,2.5,1.0,2.25,2.75,1.0,3.25,1.0,2.5,1.0,1.75,2.25,2.5,2.25,2.5,2.5,2.25,1.75,2.5,2.5,1.75,1.5,2.25,1.75,2.75,2.0,2.75,2.5,2.75,1.75,2.5,2.25,1.75,1.0,2.5,1.0,1.75,1.0,2.25,1.5,1.75,1.0,2.5,2.5,1.75,2.5,1.75,2.0,1.75,2.0,1.5,3.0,2.25,1.0,2.5,1.0,2.0,1.5,2.75,3.0,2.0,1.0,2.5,2.5,2.5,1.0,2.5,2.5,2.0,3.5,2.5,2.0,2.0,1.75,2.0,1.5,2.5,2.0,1.75,2.0,2.5,1.0,1.75,1.75,2.75,1.0,2.0,2.75,2.25,2.5,3.0,1.75,2.25,2.0,2.25,1.75,2.5,2.25,1.0,1.0,1.0,2.0,3.5,2.5,1.5,2.25,1.0,2.5,1.0,1.5,1.5,1.75,2.5,2.5,2.0,2.5,1.75,2.5,1.75,1.0,1.0,2.5,5.25,3.5,3.75,1.0,1.75,2.75,2.5,1.75,1.0,2.0,3.75,1.5,1.0,1.75,2.5,2.75,2.25,1.0,4.5,2.25,2.25,1.0,3.5,1.5,1.0,2.75,2.25,2.5,1.25,2.75,2.5,2.75,2.25,2.5,2.25,1.0,2.0,1.5,2.0,3.5,2.25,1.0,1.5,2.25,2.5,2.0,2.25,1.5,2.5,1.0,3.25,2.5,1.75,2.5,1.0,2.25,2.5,2.5,2.25,2.0,3.5,4.0,1.5,2.5,1.0,1.0,3.5,2.5,2.5,3.25,2.5,3.0,1.0,1.0,2.5,2.0,1.0,1.5,1.0,1.0,1.75,2.5,3.0,2.5,3.25,2.5,1.75,2.5,2.25,2.25,1.0,1.75,2.5,1.0,1.0,3.25,2.5,2.25,2.5,1.0,1.75,2.0,2.0,2.0,1.5,1.5,1.0,3.5,2.5,2.5,1.75,2.0,2.5,2.5,2.25,1.0,1.5,1.5,3.5,2.5,1.0,1.75,1.0,2.5,1.0,1.75,1.5,5.25,1.75,3.0,2.5,1.0,2.25,2.0,2.5,1.75,2.0,2.5,1.5,2.75,1.5,2.5,1.75,2.75,1.0,1.0,2.25,4.5,2.5,1.0,2.5,1.75,2.5,1.0,2.5,3.25,2.25,1.75,2.5,1.0,1.5,2.0,2.0,1.75,2.25,2.25,2.0,1.0,2.5,1.75,2.25,2.5,2.5,2.0,1.5,1.75,2.5,2.5,2.25,3.0,2.5,1.75,1.5,1.0,2.5,2.5,2.75,2.25,2.75,2.5,2.25,2.0,1.75,1.75,2.5,1.5,1.5,1.75,1.0,2.25,1.75,2.5,2.5,2.25,1.0,2.75,3.25,2.75,2.0,2.75,1.0,1.0,1.5,3.0,1.5,2.5,2.5,1.75,3.25,1.75,2.75,1.0,1.75,2.0,4.0,1.0,2.5,1.75,2.25,1.0,2.5,1.75,2.25,3.25,1.0,2.5,1.75,3.5,2.0,2.75,2.25,2.5,2.5,1.0,2.5,1.75,2.25,2.75,3.25,2.5,2.0,3.0,2.5,1.0,2.5,1.75,2.0,1.0,1.75,2.25,2.75,2.5,2.5,1.5,2.0,2.5,2.25,2.25,1.0,3.5,1.0,1.0,2.25,1.0,2.0,2.25,3.25,2.75,2.75,2.5,2.5,1.75,2.75,2.5,1.75,1.75,1.75,2.5,2.0,1.75,1.0,2.25,2.5,2.5,2.5,1.5,2.5,2.75,1.75,1.75,1.0,3.5,2.0,2.25,1.5,1.0,1.75,2.5,3.5,3.5,2.5,2.5,2.5,2.0,2.5,1.0,2.5,2.25,2.75,1.75,2.5,2.5,1.75,1.75,1.75,1.75,1.75,3.0,2.0,1.0,2.5,2.5,2.5,2.0,4.25,2.5,2.5,1.75,2.25,1.0,1.0,2.5,1.0,2.0,1.0,2.75,2.5,1.75,2.0,2.5,2.5,1.0,1.0,2.5,1.75,2.0,2.75,1.0,3.0,1.0,2.5,2.75,2.25,2.5,2.75,1.75,2.5,1.0,4.0,1.5,1.75,2.5,3.0,2.75,1.0,1.75,3.0,1.75,1.0,3.0,1.0,2.5,2.75,1.75,2.5,2.5,1.0,2.5,1.5,2.5,1.0,2.5,3.0,2.5,3.0,2.25,2.25,2.25,2.5,1.0,2.0,2.25,1.0,1.5,1.75,2.25,1.0,2.5,1.75,1.0,2.0,0.75,2.25,2.25,1.0,1.75,4.25,2.0,1.5,1.0,2.25,2.5,2.5,3.0,2.5,1.5,1.0,1.0,1.0,2.75,1.0,2.5,1.75,1.5,3.25,2.0,2.5,2.5,1.5,1.0,2.25,2.5,2.5,2.5,2.5,3.0,3.0,1.0,1.75,2.5,2.5,3.0,2.5,2.75,4.0,1.0,1.75,3.25,2.5,1.75,2.5,2.0,2.5,3.0,1.75,2.5,1.75,1.75,1.0,2.5,2.0,2.5,2.5,1.0,1.0,2.0,3.0,1.0,2.0,1.5,2.5,2.5,2.5,3.0,1.0,2.0,2.0,2.0,4.5,2.5,1.75,1.0,2.0,1.0,1.0,1.75,1.75,1.75,2.5,2.0,1.5,1.5,1.75,2.25,1.75,2.5,1.75,2.5,2.75,1.75,1.75,1.5,2.25,2.5,2.5,1.75,1.5,2.25,2.5,2.5,1.75,2.0,3.0,1.5,2.0,3.0,3.5,3.0,3.0,3.0,2.25,2.5,2.5,1.0,2.5,1.75,1.0,2.5,1.0,1.0,1.0,3.75,1.0,1.0,1.0,2.0,1.0,2.75,1.0,1.0,1.0,2.5,2.0,2.5,2.0,1.75,1.75,1.0,1.75,2.25,2.5,1.0,1.5,2.5,1.5,1.75,2.5,2.75,2.0,2.5,1.0,2.5,2.75,2.0,3.0,1.0,1.0,2.5,3.25,2.5,2.25,2.0,2.5,2.5,2.5,2.25,2.75,2.0,3.0,2.25,2.0,2.25,2.5,2.0,1.0,2.25,1.5,4.5,2.0,2.0,1.5,2.5,2.5,2.25,2.5,1.75,2.5,3.0,1.5,2.75,1.0,2.75,2.75,1.0,2.25,2.0,1.5,2.25,3.0,2.0,2.0,2.25,2.75,2.5,1.0,1.0,2.0,2.0,3.0,1.75,1.75,1.75,1.75,1.0,2.5,3.25,2.5,2.25,2.25,3.0,1.0,1.0,3.5,2.5,1.0,2.75,1.0,1.75,1.5,2.5,2.5,1.75,2.0,1.75,2.0,2.5,3.5,1.0,1.0,1.5,2.5,1.5,2.0,2.5,1.0,1.0,1.0,2.5,1.5,1.0,2.5,2.5,1.0,1.75,2.0,1.5,2.5,1.0,1.0,4.0,1.0,3.0,2.5,2.5,2.0,2.5,1.0,1.5,1.0,1.75,1.5,2.5,2.5,2.5,1.0,2.25,2.0,2.5,2.5,2.5,1.5,1.0,1.0,2.25,2.5,1.5,1.75,2.25,3.75,2.5,1.0,2.0,2.5,1.0,2.0,2.5,1.75,1.75,2.5,1.75,2.25,1.75,2.75,1.75,1.0,1.0,1.5,1.0,1.0,2.5,1.75,1.75,2.25,1.0,2.0,2.75,1.0,3.25,5.25,2.0,2.0,2.5,2.5,1.0,1.0,1.0,1.75,1.0,1.0,1.75,2.25,2.25,2.25,1.5,3.5,1.75,2.5,1.0,1.5,1.0,1.75,1.0,2.5,3.25,2.0,1.0,1.75,2.5,2.25,2.75,2.0,3.25,3.0,1.0,1.0,1.0,3.0,1.75,2.75,2.0,2.5,1.75,3.5,3.0,3.0,3.25,1.75,3.75,1.75,1.5,1.75,2.5,1.0,2.25,3.25,1.75,3.75,1.75,1.5,1.75,2.5,2.25,2.5,2.5,2.25,2.5,3.0,1.0,2.5,1.5,2.5,1.0,2.75,2.75,1.0,4.0,2.75,3.25,1.0,3.0,2.5,2.5,2.75,2.5,3.0,2.25,2.5,1.0,1.75,2.75,1.0,1.0,2.75,2.5,2.5,2.25,0.75,1.5,2.5,3.0,2.0,2.0,1.75,1.0,2.5,1.75,1.0,2.5,1.75,1.0,1.0,1.75,2.5,2.5,1.5,2.5,2.0,2.0,1.0,3.5,1.75,2.25,1.75,2.25,1.75,1.0,2.5,1.75,3.0,1.0,2.0,2.25,2.5,1.0,1.75,1.0,1.75,2.5,2.5,1.0,3.25,1.0,2.5,2.5,2.25,2.5,2.5,3.25,2.0,1.0,2.5,1.75,1.0,2.5,1.5,3.75,2.5,2.5,2.0,2.5,2.5,2.5,1.5,1.75,1.75,2.25,1.5,2.25,2.75,2.5,2.5,2.5,1.75,4.5,2.5,2.0,2.5,1.75,2.25,2.5,1.0,2.0,2.5,2.25,2.5,1.0,1.0,1.0,2.25,1.0,1.0,1.75,1.0,3.25,2.5,3.5,1.75,3.5,1.0,3.0,1.0,2.5,1.0,3.5,1.5,2.5,3.25,2.25,1.0,2.5,3.25,3.25,2.25,2.5,1.5,1.75,1.75,1.75,2.25,2.5,2.0,2.5,2.5,1.0,2.0,1.75,3.25,2.25,1.0,2.0,1.5,1.0,1.0,1.0,1.75,2.0,2.25,1.75,1.0,2.75,2.5,2.5,2.5,2.25,3.0,2.75,2.5,1.75,2.25,1.75,2.5,1.0,1.0,3.75,2.5,1.0,1.0,2.5,1.5,1.75,1.0,2.5,1.0,2.25,1.5,2.5,1.0,2.5,2.25,5.25,3.5,2.0,1.0,2.75,2.0,1.0,2.5,1.75,1.0,1.5,1.75,1.75,1.75,2.5,6.25,1.75,4.0,2.5,2.25,1.0,2.5,1.0,1.75,2.5,2.75,2.5,2.75,2.0,3.0,1.0,2.75,1.5,2.5,4.75,1.75,2.5,1.0,3.0,1.75,3.0,2.5,1.0,2.75,1.75,2.5,1.75,2.0,1.75,2.5,1.0,1.75,2.5,2.5,2.5,1.75,3.5,1.75,2.25,2.5,1.0,1.5,1.0,2.5,0.75,2.25,2.5,1.0,1.75,1.5,1.0,2.0,2.5,2.5,2.25,2.75,1.75,1.5,1.0,2.25,2.5,3.5,1.0,3.0,1.0,1.0,4.75,1.5,2.0,3.25,2.0,2.5,1.75,1.75,1.0,2.0,1.0,2.25,2.0,5.25,2.0,3.0,1.75,2.5,1.5,3.5,2.5,1.0,2.0,1.5,2.0,2.0,1.0,1.0,2.5,1.0,2.5,3.25,1.5,2.5,1.0,2.5,4.5,3.5,2.0,1.0,1.0,1.0,1.5,1.0,2.5,1.5,1.0,4.0,2.0,1.75,1.5,0.75,2.25,2.0,1.0,1.0,3.0,1.0,1.5,1.0,2.25,2.25,1.0,1.75,1.0,1.5,1.0,2.5,1.75,1.75,1.75,0.75,2.25,2.75,1.75,1.75,1.0,1.75,1.0,3.5,2.25,3.25,1.0,1.75,1.0,2.0,2.75,2.0,1.0,3.5,2.0,1.0,1.0,2.0,3.25,2.0,2.5,2.0,1.75,1.0,2.0,1.75,2.5,2.75,4.0,3.25,2.0,2.5,2.5,2.25,1.0,3.5,3.0,1.0,2.0,2.5,1.0,3.0,2.25,1.0,1.75,1.5,3.25,1.5,2.5,2.25,1.75,4.0,1.0,2.5,1.0,1.75,1.0,2.75,1.75,2.0,3.0,3.5,2.5,2.5,1.0,2.5,2.5,2.25,1.5,1.75,1.75,1.75,3.0,1.75,1.75,2.25,1.5,2.5,3.25,2.5,1.0,1.0,2.5,2.0,1.5,2.75,1.75,1.5,1.0,2.75,1.75,1.75,1.0,2.25,1.25,2.25,1.5,1.0,2.5,2.75,2.0,1.5,1.5,3.0,1.5,2.5,2.5,2.25,1.75,1.0,1.0,2.25,1.75,1.5,2.25,2.5,2.5,1.75,1.0,2.5,2.0,1.75,2.0,1.75,1.75,2.75,2.5,2.75,2.5,1.75,1.5,2.75,2.5,1.0,1.75,2.75,2.5,1.0,3.0,2.5,1.0,2.5,1.5,1.75,1.5,2.25,2.25,2.75,1.0,2.25,2.0,2.0,1.75,2.0,2.0,1.75,3.5,1.0,1.0,2.75,1.5,2.5,2.0,2.5,1.0,3.0,1.75,2.0,3.5,2.5,2.5,2.5,1.0,2.0,2.75,2.75,2.0,1.0,3.5,1.0,2.75,1.75,1.0,1.0,2.5,1.75,2.5,2.75,2.25,3.0,2.25,2.75,1.75,2.5,3.0,1.5,2.25,3.25,1.75,1.5,1.0,1.75,2.25,1.5,1.75,3.0,2.75,2.25,1.0,2.25,1.75,1.0,2.5,2.0,2.5,2.75,2.5,2.5,2.25,1.0,1.75,1.0,2.5,2.0,1.0,2.25,1.75,2.5,2.5,3.5,1.0,2.5,2.25,1.0,1.75,1.0,1.75,2.75,2.5,1.0,2.0,3.25,1.0,2.5,1.0,1.75,4.0,1.75,2.5,1.75,2.5,1.75,2.75,1.0,2.5,1.5,1.75,2.5,3.25,2.5,2.0,2.25,2.25,1.0,2.5,2.5,1.5,1.75,1.0,1.0,2.75,2.5,1.0,2.0,2.5,3.25,2.5,1.75,1.0,1.75,1.75,2.25,2.25,1.75,1.75,1.75,3.0,2.25,1.0,2.75,1.0,2.5,2.5,2.5,2.5,2.5,2.5,2.25,1.75,1.5,1.0,1.75,2.5,1.0,1.75,2.5,2.5,1.0,1.75,1.5,2.0,1.75,2.25,2.5,1.0,2.0,1.0,2.0,1.0,2.0,2.5,2.5,1.5,2.0,2.25,2.5,2.5,1.75,2.5,1.75,2.25,5.5,2.5,2.5,2.5,3.25,3.5,3.5,2.0,1.75,1.5,2.5,0.75,2.5,1.5,1.0,1.0,1.0,2.5,3.0,1.0,3.0,1.0,3.5,1.75,1.0,1.75,2.0,4.25,2.0,2.5,1.0,2.0,2.0,2.0,1.75,1.0,3.25,2.5,2.5,2.25,2.5,1.5,2.5,2.5,1.75,1.75,2.25,2.0,1.75,1.0,1.0,1.75,3.0,1.0,2.25,1.0,2.25,1.75,1.0,1.0,2.0,2.0,2.0,1.5,3.25,3.0,2.25,2.25,2.75,1.0,2.5,1.0,1.5,3.5,1.75,2.5,2.5,1.0,1.0,2.5,1.75,1.0,2.25,2.25,1.0,2.75,1.0,1.5,1.0,2.5,1.0,1.75,2.5,2.5,4.25,2.5,2.0,2.5,1.0,2.5,1.0,2.5,1.0,2.0,3.5,2.25,1.75,1.0,2.25,1.75,1.0,2.75,3.25,1.75,2.5,1.0,1.75,1.0,2.0,2.5,2.75,2.0,2.5,1.0,2.5,6.0,2.25,2.25,2.5,3.5,1.75,1.75,2.0,3.5,2.0,2.25,2.5,2.75,3.25,1.0,2.0,1.0,1.0,1.0,1.75,3.0,2.25,1.75,2.25,1.0,3.5,1.5,1.75,1.75,2.0,2.5,1.75,2.25,2.5,2.5,2.5,3.25,2.0,3.25,2.75,2.25,1.75,1.5,2.5,4.25,1.75,2.5,2.5,2.0,1.0,3.5,2.75,1.5,1.5,2.0,1.0,2.5,2.5,3.25,1.75,2.25,2.5,2.75,1.75,2.5,2.5,2.75,1.0,2.5,1.0,2.5,1.0,3.0,3.5,2.0,3.0,2.5,1.0,3.5,2.5,1.5,2.5,4.25,2.0,1.75,2.5,2.0,2.25,2.25,2.0,1.5,2.5,2.5,1.0,2.25,3.0,1.5,1.0,2.0,1.0,1.75,1.75,1.0,2.5,1.75,2.5,2.5,2.5,3.0,2.0,3.5,3.0,1.0,4.25,2.5,2.5,2.5,1.0,2.25,2.0,2.5,1.0,2.75,3.5,2.75,2.5,1.75,1.75,2.5,1.75,1.0,3.5,2.5,2.0,1.75,1.75,2.75,1.75,2.5,2.5,1.75,2.5,1.75,2.25,2.5,1.75,2.0,2.5,2.0,1.75,2.5,1.0,2.5,2.5,1.0,2.5,3.0,1.5,1.75,2.5,1.75,2.5,2.25,3.25,1.75,2.0,1.5,3.5,4.5,1.0,1.0,2.5,1.5,2.0,1.0,2.5,2.25,1.0,2.5,1.75,2.25,1.5,2.25,1.0,1.75,2.25,1.0,1.5,3.25,3.25,2.0,1.75,1.75,3.0,1.75,2.25,2.0,2.75,3.25,1.5,2.5,2.5,0.0,1.75,3.25,2.5,2.25,1.5,2.0,2.25,2.5,2.0,2.25,2.5,1.0,1.0,1.75,1.75,1.0,3.5,2.0,2.0,1.75,3.0,3.25,2.25,1.75,1.0,1.75,2.5,2.5,1.5,1.0,1.0,1.0,2.5,1.0,3.0,2.5,2.5,2.5,2.5,1.75,1.75,1.75,2.5,1.0,1.0,2.5,1.5,3.0,1.0,2.75,2.0,4.0,2.5,3.5,1.75,1.0,1.75,1.5,1.75,1.0,3.5,2.25,1.0,2.25,2.5,1.75,1.75,3.0,2.5,2.75,1.75,2.0,1.0,2.25,3.5,2.0,3.0,1.75,1.5,1.75,2.5,1.75,2.5,2.0,2.5,1.0,2.25,3.0,1.5,2.75,2.0,1.5,1.0,2.5,2.25,1.5,1.0,1.0,2.0,1.75,2.25,2.0,1.0,2.5,2.0,2.0,2.75,2.5,3.0,2.5,3.25,2.25,2.0,1.0,1.0,1.0,3.0,1.0,2.25,2.5,3.25,3.5,2.0,1.5,2.25,2.75,2.5,2.5,2.0,2.25,2.5,2.5,2.25,4.0,2.5,3.75,1.0,2.5,2.5,1.75,3.5,1.5,2.5,2.75,2.5,2.25,2.5,2.5,3.5,2.5,3.5,2.5,2.5,3.25,3.75,3.5,3.75,1.75,2.5,2.25,1.5,2.75,2.5,2.75,2.5,3.5,2.75,3.25,3.5,4.25,2.75,2.5,2.25,2.5,2.25,2.5,2.25,2.5,3.5,2.5,2.75,3.75,3.5,2.25,4.0,1.5,2.75,1.5,2.5,2.25,1.5,3.75,2.5,2.75,2.5,1.5,2.5,4.5,2.5,3.5,2.5,3.25,2.25,3.25,3.5,3.0,3.5,1.5,4.0,2.5,2.5,2.5,2.75,2.5,2.5,2.5,3.5,2.5,2.5,2.5,2.0,2.5,2.5,3.5,2.25,2.5,2.5,2.5,2.5,2.5,2.5,2.25,2.75,2.5,1.75,2.75,2.25,2.5,2.5,2.5,2.5,2.5,4.5,2.5,2.75,2.5,2.75,2.75,2.25,2.5,3.25,3.75,3.25,2.5,2.5,2.5,2.5,2.75,2.5,2.25,2.5,4.0,2.5,2.5,2.5,2.5,2.5,2.75,2.5,4.5,2.75,2.5,3.5,2.5,3.25,2.75,3.5,2.5,2.5,2.25,2.5,3.5,3.25,1.0,2.25,4.5,3.0,2.5,3.5,1.5,3.5,2.5,2.5,2.5,2.5,3.5,2.5,2.0,3.5,2.5,2.25,2.25,3.5,2.5,2.75,3.0,3.5,2.5,1.5,2.25,2.5,2.5,3.25,2.0,1.75,1.75,2.5,1.5,1.75,2.25,2.5,2.5,2.5,2.0,2.5,2.75,2.5,2.5,3.25,2.75,2.75,1.5,2.75,2.25,2.5,2.5,2.5,2.75,2.5,3.0,4.75,2.5,3.5,2.5,2.25,2.5,3.25,2.5,3.5,2.75,2.5,1.5,2.5,3.25,2.5,2.75,3.25,2.25,2.25,2.5,2.5,2.5,2.25,1.5,2.25,1.5,2.5,2.5,1.5,2.5,2.25,3.0,3.25,2.5,2.5,2.25,3.5,4.75,2.5,2.5,2.5,2.25,3.5,0.75,2.5,2.0,2.25,3.0,3.5,3.25,2.5,2.5,2.5,2.5,2.5,2.25,2.5,1.5,2.5,2.5,2.5,3.5,2.5,2.5,2.5,3.0,3.25,2.5,2.5,2.5,2.5,2.0,2.25,2.5,2.5,1.5,2.25,3.5,3.5,2.5,3.5,3.5,4.0,3.5,2.5,2.5,2.5,2.5,2.5,2.75,1.75,3.25,2.5,3.5,3.75,2.75,2.5,2.5,4.5,1.0,2.5,2.5,2.5,2.5,2.25,3.0,2.5,2.75,2.5,2.5,2.5,2.5,2.5,2.75,3.25,1.5,3.25,2.5,2.25,1.5,3.5,2.5,2.5,2.5,2.5,2.0,2.5,4.5,2.5,2.25,2.5,2.5,3.5,2.0,2.75,2.5,1.5,3.5,3.25,3.5,2.5,2.25,2.5,3.5,2.5,1.5,3.25,2.5,2.5,3.75,2.5,3.5,2.5,2.5,2.5,3.5,3.5,3.75,2.5,3.75,3.5,1.75,2.75,2.75,2.5,2.25,2.5,2.5,2.75,2.75,4.0,2.75,2.75,2.25,3.5,3.25,3.5,1.75,2.5,3.25,2.75,2.75,3.25,2.5,2.5,2.5,2.0,2.25,2.5,2.5,2.75,2.25,5.5,2.25,2.75,3.5,1.5,2.25,4.5,2.5,2.5,3.0,2.5,2.5,2.5,3.25,2.75,2.0,2.5,2.5,2.25,1.5,3.5,2.75,2.5,2.25,4.5,2.5,2.5,2.5,2.5,4.25,2.5,2.5,3.5,2.5,2.5,2.5,2.5,2.5,2.25,2.5,4.0,4.0,2.5,1.5,2.5,2.5,2.5,1.75,2.75,2.0,2.25,2.75,3.5,2.5,2.25,2.5,2.5,2.5,2.25,4.0,3.5,2.5,2.5,2.5,2.25,2.5,2.5,1.5,2.5,2.5,3.75,3.5,3.5,1.0,2.75,2.75,2.5,2.5,1.5,2.75,2.5,2.5,2.5,3.0,2.5,2.5,2.5,2.5,2.5,1.5,3.0,2.5,2.75,2.75,2.25,4.25,2.25,2.0,2.0,1.75,2.5,1.5,3.0,2.25,4.25,1.0,2.75,1.5,2.5,2.75,3.25,2.5,1.5,2.5,2.25,1.75,2.25,2.5,3.25,2.5,2.75,3.5,3.75,3.5,2.5,3.0,2.5,2.5,3.5,3.5,2.5,2.5,3.25,2.5,1.5,3.0,2.0,1.75,2.75,2.75,2.5,1.5,2.5,2.5,2.5,2.5,2.5,3.5,1.75,2.25,3.25,3.25,2.25,3.25,2.0,2.5,1.5,2.5,2.5,2.5,2.25,2.5,2.75,2.5,3.5,2.75,2.5,2.75,3.75,3.25,2.5,2.25,2.75,3.5,3.5,2.25,2.5,2.5,2.25,2.75,2.5,2.5,3.75,2.5,2.0,2.5,2.5,2.25,2.5,2.0,4.25,2.5,3.25,2.5,2.25,2.5,3.5,1.75,2.5,3.0,2.5,2.5,2.5,2.5,2.5,2.5,2.25,3.25,3.0,2.5,3.5,2.0,2.25,4.0,2.5,2.25,1.5,2.5,2.0,3.5,2.25,1.5,2.5,2.5,2.75,2.5,2.5,1.5,2.5,3.25,2.5,2.5,3.5,3.25,2.5,2.5,2.0,2.5,2.5,2.0,2.0,2.5,2.5,4.5,2.75,2.5,2.5,2.5,2.5,2.0,2.5,2.5,2.75,1.5,2.5,3.25,3.75,2.5,2.5,3.0,3.25,2.5,2.75,2.5,3.25,2.5,2.25,3.25,2.5,1.75,3.25,2.0,2.25,3.25,2.5,3.0,4.0,2.5,2.5,3.5,2.5,2.5,4.75,3.5,2.5,2.5,1.75,3.5,2.75,3.5,3.5,2.5,3.5,3.25,2.0,2.5,2.0,2.25,3.25,2.25,2.75,1.25,3.25,1.75,3.5,2.5,3.0,3.0,2.5,2.5,3.5,1.5,3.5,2.5,3.25,3.25,3.0,2.5,3.0,3.0,2.5,2.0,3.75,3.5,2.25,2.5,2.25,2.25,2.25,2.5,2.5,1.5,2.25,3.5,2.5,3.5,2.5,1.5,2.0,2.5,2.5,3.0,2.5,3.5,2.5,2.5,3.25,3.0,2.5,2.75,2.5,2.5,2.0,3.5,2.5,2.0,3.5,1.0,1.5,2.5,2.5,2.5,2.0,2.75,2.0,2.75,2.75,2.5,2.5,1.5,2.5,2.5,2.5,2.5,2.25,1.5,2.5,4.0,2.5,2.5,2.5,3.5,2.75,3.0,2.5,2.5,3.5,3.75,2.5,2.75,3.5,3.25,2.5,2.5,3.5,5.25,1.75,3.5,3.25,2.25,3.25,2.0,2.5,2.5,3.25,1.0,2.5,1.5,2.25,1.5,2.5,2.5,2.75,3.5,3.5,3.0,2.5,3.5,2.25,3.5,3.0,2.5,2.25,2.5,2.25,2.5,2.5,2.25,2.5,2.75,2.5,2.5,2.25,2.5,2.25,2.25,3.5,2.5,2.75,2.0,2.25,2.5,2.5,2.5,2.5,2.5,2.5,3.0,1.5,2.5,4.25,2.5,3.0,3.0,3.25,2.75,2.5,2.25,2.5,3.0,2.5,1.5,2.25,2.5,2.5,3.5,2.75,2.5,1.5,3.25,2.0,2.5,2.5,2.5,2.5,2.75,2.5,1.5,2.75,2.5,4.5,3.5,2.5,2.25,2.75,3.5,2.75,2.5,2.5,1.75,1.5,3.5,2.75,2.5,5.0,2.5,2.5,2.5,3.25,2.5,2.5,2.25,3.0,2.5,3.0,2.5,3.25,2.5,2.5,2.5,2.75,3.0,2.5,2.25,2.0,2.5,1.5,2.5,2.25,2.25,2.5,2.5,2.5,3.25,1.0,3.5,4.0,2.5,2.5,1.0,1.5,2.5,3.25,2.5,3.5,2.5,3.5,2.5,2.25,3.5,3.25,3.0,3.25,2.5,2.75,1.25,2.5,2.5,2.5,1.75,3.25,2.5,2.5,2.5,2.5,2.5,3.5,2.5,2.5,3.5,2.5,2.5,2.5,2.5,2.5,3.0,2.5,2.75,3.25,2.5,2.5,1.5,2.5,2.5,2.75,2.5,3.25,2.25,3.5,3.25,3.25,2.5,3.0,2.5,2.5,2.75,2.5,3.25,2.5,2.75,2.5,2.75,2.5,3.25,2.5,2.25,2.5,1.75,3.5,1.75,3.0,3.25,3.25,2.75,2.5,5.0,4.0,2.75,1.5,3.25,2.5,2.5,2.5,2.5,2.5,3.5,3.5,2.5,2.5,2.5,3.5,2.5,2.5,3.5,2.5,2.5,2.5,2.5,2.5,2.5,2.5,2.5,3.25,2.5,2.75,3.5,3.25,2.25,3.0,2.5,2.25,3.5,2.5,2.5,3.0,3.0,1.75,2.75,2.0,2.5,1.5,1.5,3.5,2.0,3.25,2.25,2.5,2.5,3.0,2.5,2.0,1.75,2.5,3.0,2.75,2.5,2.75,2.25,2.5,2.5,2.75,2.0,2.5,2.0,3.5,3.5,2.5,2.5,3.0,2.75,2.5,2.5,2.5,2.5,2.75,3.25,2.5,2.5,1.5,2.75,1.75,2.5,3.0,2.5,3.25,2.75,2.5,3.5,2.5,2.25,2.5,2.75,2.5,2.5,2.5,1.5,3.5,2.5,2.25,2.25,3.5,4.25,2.5,3.5,3.5,2.5,2.75,2.75,3.5,3.5,2.5,2.5,1.0,2.5,3.5,2.5,2.25,2.5,2.25,2.5,2.5,1.5,6.0,2.5,2.5,2.75,2.25,2.25,1.75,2.25,2.5,2.5,2.5,2.5,3.5,3.0,2.75,2.5,2.5,2.25,1.5,2.25,2.75,3.75,3.25,2.25,3.5,3.25,3.5,1.5,2.5,2.5,1.0,2.75,3.25,2.5,3.5,2.5,2.5,2.25,3.5,2.5,1.0,2.5,2.25,2.5,2.5,2.5,1.75,2.75,3.5,2.5,1.75,3.0,2.25,2.25,3.25,3.25,3.5,2.5,2.5,2.5,3.25,2.5,2.5,2.75,2.5,2.0,2.5,1.5,2.5,2.0,2.75,2.5,2.5,2.25,2.5,2.5,2.5,3.25,3.0,3.0,2.5,3.5,2.75,2.5,3.0,2.25,3.5,3.75,2.5,3.5,2.75,2.5,2.5,3.25,3.0,2.5,2.5,2.75,3.5,4.0,2.75,2.75,4.5,2.5,1.75,3.5,2.5,2.5,2.75,3.5,6.5,2.5,3.25,2.5,2.5,2.5,2.5,2.25,3.25,3.25,4.0,3.5,3.5,2.5,2.5,2.0,4.0,1.75,2.5,2.25,2.5,2.25,1.5,2.5,2.5,2.0,1.5,2.5,2.0,4.5,1.25,2.5,2.25,2.0,2.5,2.5,2.5,2.5,2.75,3.25,2.5,2.5,1.75,3.5,3.0,2.5,1.5,3.25,3.0,2.25,1.0,2.5,2.5,2.5,1.5,2.5,3.5,2.75,2.75,2.25,2.75,2.5,3.0,3.75,1.75,2.5,2.5,2.5,0.75,0.75],\"y\":[1180,2570,1960,5420,1715,1160,1430,1370,1890,1600,1200,1620,3050,2270,1070,2450,1710,2450,1400,1520,2320,1190,2330,1090,2060,2300,1660,2360,2620,2570,4220,3595,1570,1280,3160,2290,1190,1410,2830,2250,3250,2150,1260,2519,1540,1660,2770,2720,2240,1000,3200,4770,2750,2380,3430,1760,1410,2350,1900,2020,960,2140,2660,2770,1610,1030,1980,1580,1580,3300,1160,1810,2320,2070,1980,2190,2920,1210,1670,1240,2030,2310,1540,2080,3230,4380,1590,880,1450,2100,2910,2100,2160,2320,3950,2010,1320,2020,2590,1190,1170,1110,2820,3670,2550,2420,2260,1430,1360,700,1180,3960,2640,1270,1760,2060,1910,2020,1580,2680,1370,1340,2590,1970,1220,1950,1670,2440,1050,3130,4090,1900,2230,1650,1190,2140,2180,1060,1690,1970,2150,1350,1940,1010,1300,2480,2440,900,2300,1270,2240,1720,2250,3900,1320,2760,1750,2330,2220,2020,1250,1720,2280,2940,1000,2480,3760,3830,4410,1430,830,1030,3650,1810,3360,1730,1420,2360,1230,2460,1660,1270,2100,760,1700,1120,1070,5310,1700,1300,1080,3820,2600,3500,2720,2500,2900,1640,1890,2160,3280,1970,3360,1320,2030,1590,4550,2440,1940,2180,1660,3650,4290,4290,1950,1470,800,3150,2030,1450,1240,3030,2050,2370,2800,1810,2490,1960,2930,1510,1420,3040,2500,1275,2580,1000,1000,1070,1390,560,2270,990,2200,1910,1750,1330,2440,1640,2760,1820,2110,3040,3520,2090,1430,2180,3450,1450,3230,1640,1590,1380,4040,4800,2510,1410,1650,2120,2040,1550,1980,1600,3300,3840,1940,2160,1530,3730,1820,1510,1290,2840,833,2990,2000,2910,2085,1860,6070,950,1600,2250,940,2190,1440,2290,4040,2610,1490,2450,1710,4870,1270,2120,1670,2070,1420,940,1920,3545,2340,2590,1220,1870,2830,1970,3140,3450,1510,2390,980,430,1480,1850,1610,4110,4190,3390,1890,1610,1050,2910,1700,1950,1350,4860,890,2810,1580,2820,1510,1230,3080,1490,2120,1490,1930,2770,1330,1210,1540,4030,4410,1330,1900,1980,4760,3180,630,1690,940,1240,3040,6050,1590,2500,1010,1510,1560,2320,2120,2120,2380,2300,1320,2180,4380,750,1300,2990,4640,1400,2050,2230,2340,2870,4120,2080,1840,1180,2160,1180,1160,1830,2550,1220,1805,6050,1384,2720,1820,2130,2060,1420,1510,2160,3180,2110,1830,1820,1780,1460,1400,3370,3590,3200,1670,1430,1440,1270,1670,1100,1870,1930,2540,1280,1880,1440,2060,1210,990,960,1660,1270,3250,960,1330,2080,2690,890,1070,1200,2050,2250,2360,1320,870,1000,2020,1920,1470,3930,990,1250,2250,1255,1290,1300,1220,2630,1950,3160,1550,1700,1800,1800,1870,1010,2090,4370,1440,2580,3190,2380,1420,2680,1220,1830,4570,2470,2900,1410,2830,1680,1760,2240,2180,1400,880,1060,2480,1490,3660,2340,1450,2210,1130,1710,1010,2660,1670,960,4670,2520,1650,1440,1050,1470,4230,1970,1540,2090,2380,2070,1920,3400,1400,2210,1170,2100,1160,1500,2010,2170,1510,2150,1370,2380,1370,1600,3750,2830,2440,1190,2390,2060,1100,3170,2640,1130,1940,1100,2000,1890,1910,2710,4860,1590,1240,3610,2090,1940,1800,1730,2810,3550,1330,1760,3200,1740,2100,1340,3190,1550,1960,2390,2600,1950,1180,2220,2660,1150,2760,1430,1490,2030,3010,1810,970,1300,1260,1780,1900,2450,1380,1350,2510,1660,1340,1620,2000,1640,1530,4000,2070,1900,1050,1520,2390,2400,1790,1720,1520,1150,380,1650,2050,1500,1320,1620,3060,3064,1910,1020,1150,1260,1800,2040,2200,3200,2400,1140,1330,1940,3000,1820,2910,1090,1230,1710,3160,2680,2970,2570,3810,1010,1250,1410,2160,1400,1420,2500,1410,2100,1750,2070,1570,1920,1000,2120,1440,2380,1560,2780,1860,2570,1320,2330,1060,2020,970,1490,4390,2750,3680,1490,2020,2670,2100,1350,2140,2208,970,1520,2740,1570,1320,2550,1560,2360,1330,1710,2790,2620,2970,930,880,1360,2130,1480,2060,740,1860,1590,850,1850,1560,1730,1930,1422,2430,2610,920,1750,2020,2460,1780,1080,1250,1700,1480,3130,960,1260,1480,1930,870,1490,1190,2080,3220,3680,1940,1540,1780,2040,1920,1930,1700,3450,3440,2380,2400,1670,1910,1500,4475,2840,1020,1410,730,1190,1410,1240,1050,1090,1810,1150,2360,2690,2080,1370,3010,2810,1810,1010,720,6070,2270,1380,3160,1910,2200,3030,1520,970,1350,1430,4300,3990,2020,1480,1190,2550,1690,4390,1130,1310,2570,2020,3190,1440,1150,1860,2430,1940,700,1010,2460,2230,1570,2390,3460,2400,2940,8010,1570,1070,440,2440,4460,2010,1400,1500,2500,2910,3060,1330,3300,3250,2530,1830,1170,2930,1230,1760,1440,1740,1270,2560,1540,1150,770,4610,1850,1840,1490,960,1580,1260,1940,2490,1760,4190,1170,2760,2090,4110,770,1410,3660,2280,2820,1710,2800,1640,2030,790,1800,1650,1980,2790,2800,1350,3030,3690,3732,1510,2000,1760,1270,2620,2630,2270,2410,1120,2120,1720,2150,4380,2010,3150,2500,1690,3300,1240,2200,1620,2420,2680,4250,2400,2300,920,2350,2630,2170,2470,1530,960,1240,2440,2963,2470,960,1130,4930,2190,1490,1680,1570,1370,1350,1010,1670,3840,2220,2590,1180,2100,1620,1510,1600,1840,1810,910,2120,2100,2430,2452,1550,1290,1850,3370,1300,3040,2440,1720,1200,2350,2000,2160,1970,2270,1850,1350,3280,2820,2000,3940,1440,1960,1250,1981,2440,1150,1120,1800,2380,2920,2790,1560,1700,640,2680,1860,1490,2470,2390,1230,2120,1770,2495,1170,2740,880,2403,3410,5320,1900,1810,2060,1250,910,2560,1920,2240,1260,2100,2110,2740,2630,2390,4040,920,2730,1320,2900,1760,760,1530,1990,3830,2040,2170,1620,1760,2230,3770,1500,870,1010,1330,1760,2400,3020,1560,970,3190,1890,1050,1390,1050,1710,1730,2180,2341,1690,2490,2440,920,1030,2000,4210,2660,820,1730,970,2460,2690,1820,1340,2000,3890,2770,2520,3060,2390,2210,2180,2080,1720,2460,1470,1650,1690,2030,2540,1570,2580,2090,3830,2130,1780,2110,6563,1230,2180,2220,1990,1540,1640,2590,1450,1180,1820,1120,1646,2480,1590,2130,2180,3720,1100,3010,3100,1060,1610,2330,1210,1530,1850,1500,4740,1710,1920,1420,1550,2920,1620,2300,1070,1340,3350,2500,2550,1320,2820,2110,1100,1890,2530,2550,1550,1760,1270,1250,1070,2320,5450,3010,1340,3400,1530,930,1990,2300,1220,2380,2020,1490,3550,2040,2380,1780,1650,1510,1100,2190,1800,2000,990,1200,3000,1300,1330,1850,2240,1260,2800,1820,3350,3370,1240,2340,1020,2090,1830,2980,1600,4440,1200,1230,2930,3040,1610,2350,3530,2220,2000,1210,1140,2440,1560,3210,1782,3690,2930,2000,1520,1040,1120,3020,1820,1370,1640,2650,2850,1180,3120,1700,1180,2800,3040,1630,1340,1830,1240,2500,1760,2060,2540,4830,1400,4280,2230,2340,2070,950,2910,2930,3320,1710,1320,960,950,4570,3540,2710,2660,2540,2210,3570,2330,1690,1030,1950,4370,2350,3160,1340,1770,1210,1240,1250,2960,840,3750,2150,1720,2130,1300,1220,2940,2330,2200,1720,1640,2600,2060,5710,2720,1490,2360,1940,2570,1780,3180,3380,1180,1660,2430,2200,1720,1030,2030,2700,1100,3620,1340,1790,3830,1580,2020,2610,1840,1240,1170,1760,1450,3220,1830,2200,2170,1710,2100,1460,990,2190,3990,2340,2460,2080,1630,2920,2830,1490,2280,3010,1710,3280,2200,2160,2580,2150,3510,2020,2120,1330,2560,1850,2790,1660,1080,3030,2380,2250,880,2770,1340,1660,1620,1530,1440,2020,5774,1240,2410,2800,1450,1980,2920,1660,1560,3050,3030,2260,1490,4490,4090,4150,2900,1430,1480,1240,1770,2160,2340,960,1530,1790,1700,2660,1950,1340,1130,1950,3790,2020,800,1770,890,860,680,2390,3488,1260,2940,2440,2600,2080,1990,2840,2630,2820,1560,2330,1730,950,1890,1010,1010,2340,1010,1710,2760,1350,1660,1090,3110,1380,1290,1980,2470,2140,770,1490,2510,1950,3600,2380,720,4070,2190,810,2120,1190,1010,2020,2520,1530,2530,1010,2720,1850,1940,1770,1790,1690,710,1890,1410,2210,1540,1350,1900,1730,2090,1650,1130,1200,870,2410,1560,2410,2300,1390,2920,1370,950,2390,2070,5770,1460,1510,5180,3430,2640,1510,2130,3000,1870,990,2005,2030,1990,1420,1870,3040,1790,1590,2050,4220,4030,1770,2100,2120,3180,1370,2790,1740,6400,1800,1190,860,2460,1980,670,1410,1860,980,3040,1810,2100,2500,520,3010,2140,1510,2210,2170,1790,1390,1850,1480,1850,3350,1040,1010,1800,1780,2120,1860,1460,1230,800,3300,2080,1670,1400,2770,1040,2020,1450,1340,1680,1850,2320,3220,3190,3530,2050,1720,2850,1880,2770,4490,3110,2360,1910,2260,1770,2960,1140,1620,1500,1570,2300,1600,2630,3020,1160,2040,1990,1900,3840,1660,6055,2030,840,1460,2910,1880,2170,1260,1970,2090,2600,1030,1480,4250,1600,1870,1440,1180,3080,2530,1580,2340,2400,1520,1070,2560,1280,1660,1860,950,2140,2260,2300,1990,1960,1310,2450,910,1780,2340,1720,1600,1320,2350,2740,2300,4350,940,1680,1340,3960,2120,2850,1870,2660,1190,1770,2080,2700,2200,2160,2010,4460,1770,1410,1820,2430,740,2200,1600,1990,2700,2490,2650,2000,3440,2280,1320,2070,1860,940,1830,3090,4340,3200,1560,1280,2020,860,1920,2290,2070,4250,1840,2590,3110,2600,1060,1250,2520,1300,2190,2760,1750,2350,5110,1720,1960,1270,1180,2230,4700,2150,2400,1830,2800,2090,1670,1990,2270,4910,1610,1940,1210,2570,1610,4120,2880,1990,1260,4750,3010,2410,1280,1220,2220,2770,1280,2900,1700,1050,1240,780,850,2280,2550,2320,2600,1570,1960,3270,1090,6840,940,3880,1770,3640,3160,1590,2490,1470,810,2980,2780,1340,4930,1360,1320,3160,2320,1660,1080,1510,970,2140,1260,1220,1420,2060,1320,2980,1350,1540,3690,1320,1510,2400,1170,1190,2080,1580,1840,2660,1660,700,1570,3150,2690,680,3750,1710,2090,1560,2570,1010,1020,1710,1990,2730,2195,1560,1400,3690,1140,1920,2496,2280,880,1320,1580,3230,1810,2495,1680,1630,1030,3410,2610,2330,2980,1790,3900,1750,2660,1580,2510,1480,1470,2820,1250,2080,2860,2710,4070,1340,1860,1080,980,1500,1440,2580,2070,1880,2420,1890,1920,1870,2160,900,1180,900,1600,1070,2570,1850,1740,1300,2160,1580,1200,3790,860,5130,2110,1400,6640,2570,2060,1300,1530,1170,1580,1270,1480,3200,910,3500,1480,1660,2520,2850,3780,3770,3600,2980,2930,2040,2660,1740,1570,2500,1750,3030,1220,1310,2220,1890,1850,2210,1890,1440,950,2370,3070,1300,1210,710,2240,3600,1960,1820,3700,2910,1270,1040,2210,2060,2240,800,1460,1150,2600,1820,2560,1330,7350,1810,1330,1030,1740,1200,1490,3060,3250,2240,1740,2380,2340,2710,1310,1390,1960,2850,2440,1410,2870,2970,1780,3700,2040,3130,1570,1530,1520,1950,2040,1990,1300,2340,2770,2030,4510,1800,1090,2040,2270,1730,3480,1720,1570,840,1950,1980,3530,1260,2120,1360,1980,1930,3700,1970,2470,1180,1280,1380,2020,2835,2190,1720,1790,2440,1680,3290,2120,1000,2080,3760,1480,2900,2210,1440,1980,2420,3440,1600,2210,1680,1140,1430,3080,3010,1560,1920,1400,2280,3880,1670,3400,2070,1760,4030,1130,3110,5020,1630,2780,1990,900,1530,1450,2620,1110,2720,1730,1170,4740,1960,1430,2510,1420,2680,1070,3590,1960,3160,1240,2670,1640,2130,2550,3630,1690,2390,2350,1420,1600,720,1470,2790,1720,1300,2520,1780,1200,2990,1910,1370,1170,1250,3340,1380,2080,1410,520,1750,1470,1440,1430,2170,1150,2170,2630,2490,2130,1400,1630,2380,2140,1970,2550,1080,3620,1050,1320,1210,1860,2830,1630,880,1660,3440,2110,1900,820,4860,2050,1090,1920,1870,2690,2160,3000,2290,2250,2130,2500,2300,3360,2440,1440,1780,2150,1910,2660,1650,1980,1380,2500,1590,1100,1680,1450,2020,2470,1230,1850,2540,2620,2110,1910,6930,1340,1660,2510,2280,2650,2470,1270,1520,1310,3930,990,2080,960,2750,990,1290,2170,1340,1250,2270,1080,1620,1620,2350,2090,2050,2540,2090,2700,2540,1350,1940,1260,2800,860,1060,2080,2090,1240,2030,1270,1780,1780,4080,2060,1670,1080,1210,1720,1530,6550,1100,3020,3180,2540,1770,1470,960,2940,2450,3310,1670,1320,6110,2440,2900,2310,1110,4100,2870,1960,1470,1960,900,2340,1920,1590,1850,1270,1720,4050,3660,1870,3690,1450,1840,1620,1840,2080,2550,1160,1760,1720,2300,1750,1890,1800,2160,1380,1180,2550,2870,1940,870,1550,3430,3370,1460,1740,1720,3490,1160,980,1790,810,2940,1360,2120,1170,2470,1670,1660,3500,1440,2360,3460,1750,1710,2380,1920,3070,2660,1700,5010,2680,940,1240,4660,1710,930,1870,1320,1640,2120,790,1530,2930,2180,880,1400,2600,1590,1610,1390,3710,2360,4600,2100,2550,1240,2770,3560,1240,1640,3940,580,1330,1060,1180,1850,820,1850,2240,1860,2390,2040,1900,2280,1090,1050,2090,2030,1250,2600,2120,1890,820,2360,1850,800,1580,2430,2350,3800,3670,1780,1295,1350,1320,2510,1570,2450,4910,1570,2680,2090,1140,4230,1790,3100,2220,4070,1790,1610,1010,2330,2230,1700,1040,1070,3600,1770,1550,1460,2440,1640,1290,3150,1060,2060,3890,1910,2340,2900,630,5410,4270,1430,2850,1760,2700,880,1360,2030,1180,2430,1300,2360,1200,1000,1556,1810,2730,3070,2080,1620,1150,1250,1430,790,1200,2110,2700,820,1800,1500,1600,1200,1690,2270,1910,1640,1400,760,1280,1650,1260,2200,3560,2550,1553,790,2130,4000,1520,1657,2270,1240,2520,1340,3000,1210,2200,2200,2350,1090,1430,1520,1620,1510,3001,1380,1520,4220,2520,1760,930,2600,1100,700,1080,1070,1460,1050,1400,720,2840,1220,2820,840,1610,2450,850,1800,1230,2060,2750,1120,1580,3110,2130,4520,1600,1950,2010,2550,5340,2170,1550,3650,1510,1200,1650,1710,1840,1820,3860,1930,1930,2210,1830,2120,2700,3160,2240,2570,880,1820,1660,2200,1420,1060,2190,1940,1300,1940,2100,1290,1560,2630,2100,2070,2960,2520,1150,2030,1880,3030,530,1090,2220,1430,1560,1140,2540,1860,2440,2100,2150,2440,1930,1830,1850,3210,1090,1870,700,3380,900,2060,2180,2140,3010,3300,1530,2450,1000,840,1380,1380,2020,1260,1440,1540,1060,1900,2870,1050,1840,3000,1840,1070,900,2680,1660,1770,1740,1710,1560,1600,1330,2970,2490,1700,850,1250,3700,3860,1360,3890,1680,1520,2420,3890,2190,2280,1070,2540,2270,1220,1220,2640,2320,2410,920,1130,2090,2020,1970,1820,1840,2100,1110,2090,2080,1060,720,1100,2420,1950,1870,1310,1520,840,1050,2690,1710,1640,4000,3140,1320,2520,2350,4730,1410,1360,2620,2260,2530,3140,1820,4430,1490,1790,1710,1140,3930,1100,2260,1130,1950,960,3430,3470,2140,2520,3550,740,3300,1830,1440,3180,2390,1630,2500,1290,1700,1700,2540,1180,1520,2390,2740,1350,2980,790,2130,3200,1159,3080,2260,2270,1420,2500,1450,2500,2210,3290,5780,1820,2500,1210,1090,1330,890,4220,2610,1980,3620,2680,1992,1840,2570,930,730,820,3000,1540,3130,2680,3010,1530,1240,1630,1480,3540,1790,2390,2050,2320,2440,1260,6240,1930,1200,1810,1380,1470,1010,1340,970,1670,2040,2620,3410,2510,1680,1750,2170,1639,2100,880,2490,2720,2180,3600,2370,2720,2460,10040,1670,980,1890,2770,1370,1480,3770,2870,3820,1530,1590,1520,1370,1540,3786,1500,1800,1180,830,1540,1610,1990,2070,1760,1740,1280,3770,2410,2410,1400,1000,3150,4180,2840,2110,1660,2160,2310,2330,2340,2590,1410,2850,1470,2330,2460,2080,1450,1140,3390,720,940,590,3070,3500,2810,1350,2770,2530,1280,1060,1000,3370,2290,1670,1460,1770,820,1900,1870,1840,3000,2160,2490,1290,3190,1540,2140,2450,1360,7480,3610,1450,1820,5620,1780,4340,2540,1420,1390,1880,2690,1040,1560,1470,2070,1370,1120,2640,1730,920,2970,1720,1540,1310,2430,1700,2160,1570,1660,1220,1780,2180,3520,2220,1610,1070,1160,910,2970,790,1540,3160,2675,3830,1800,2990,3720,920,3280,1940,1590,1340,3770,2680,1520,1430,2250,1540,4190,1990,2410,1260,1930,1820,1560,2170,3760,1240,1740,3270,1990,1680,2910,1500,580,7080,810,4080,1820,2480,1240,1390,1060,1070,1640,1510,3180,2260,1980,1200,2020,2010,2110,1250,1380,2050,1800,1010,1850,1750,2154,1960,1450,3680,5760,1220,2950,1340,2870,2590,2090,3000,2850,1020,490,2990,2450,1900,1340,3220,930,3240,2630,1730,880,1800,3280,2890,1730,1590,1710,1995,1590,1170,2010,1880,2270,1880,1050,2250,1689,2710,1770,2820,3400,3110,940,3190,2610,1040,3902,2460,2170,1970,1000,1580,2130,1370,1370,3290,4140,1690,1980,1490,2720,1230,1530,2290,2240,3050,1100,1510,1280,1910,1170,1550,1060,1040,1550,2490,1830,1850,1410,1460,1500,1130,1620,2840,1520,1740,4000,2780,3500,1060,2390,2460,2930,2200,1870,2060,1610,1450,1980,860,1460,1120,1340,2920,2820,1600,3190,1960,970,1360,1340,2060,1170,1610,1890,1680,1660,960,1000,1120,1250,1940,2150,1500,3230,3000,1520,1190,990,2080,1550,1290,1260,2840,1960,760,2240,3370,1160,820,2800,1480,2880,940,4400,1530,3460,2890,1980,1980,4280,1810,1820,9200,3520,3740,2150,1070,1410,3190,1970,1640,1600,3020,1350,2730,1100,2700,3700,2190,2840,2610,2630,1090,3670,1700,2560,3240,2300,2040,960,2410,2260,1910,1500,1360,1320,2650,3040,1240,2210,1540,1320,3040,980,980,4420,1570,1600,1830,1800,4380,2980,1690,4040,1630,1410,1140,3490,4580,2270,2980,4180,1320,2100,1370,1520,1260,2830,2064,2640,2200,1420,1350,1680,2280,1840,2040,2440,1930,1550,2180,1430,2220,1520,1480,1860,1360,2360,2360,1280,720,3380,3650,1730,1030,1790,840,1300,2170,1330,1240,880,2540,2520,2020,2060,1750,930,1150,2480,1310,1150,3060,960,2430,2790,1650,3740,1440,1360,1726,2220,1850,2860,1120,3760,3230,1260,1540,1700,3600,980,2190,2470,2590,2580,1270,4660,1490,1560,2560,1460,1960,1900,2490,1430,2680,1610,4300,3200,2140,4240,3410,2090,2770,3620,2260,3440,2150,1256,2220,2170,1760,1670,1710,500,1470,1370,3470,1180,3110,2080,1600,1630,3140,1990,2110,2490,2360,2710,1940,3450,2410,2290,2290,1490,1930,1600,770,3400,900,1450,1780,2320,990,2870,5180,2180,850,3100,1747,2550,1550,1590,1650,1810,1280,3410,2220,1120,2680,1770,2950,1430,2730,3270,1720,3260,2050,3580,1960,840,1300,1260,1650,2780,950,3620,2140,1920,750,2060,2380,750,1050,2050,1980,1690,2290,3180,1540,2800,1050,1480,1010,1660,1040,2220,2960,1210,2090,2680,1790,1950,1140,2480,2580,2060,1640,1960,3000,1760,1400,1110,2090,1410,1370,1910,2540,940,900,1440,2070,2240,1950,1240,2050,3220,1960,2820,4060,800,1260,2420,810,1600,1350,970,1780,1350,2430,2740,1560,1040,1833,2100,1370,4115,1550,2100,1160,3597,2190,1040,2270,1950,1880,1370,3260,390,1490,1300,1540,1350,2450,1940,2890,1960,1590,1390,2440,1850,2800,3780,1910,3490,2200,1840,910,2950,1240,1980,3150,3500,1680,1360,2110,2034,2380,4050,2850,1160,3120,1870,1010,2980,2420,3830,3040,1940,3780,1950,1690,2550,2290,1880,2930,3110,3480,900,1980,2340,1480,1800,1270,1150,1840,1800,1540,2330,2846,5830,3380,1740,1470,2090,4110,3230,2601,2070,2500,1440,3030,1820,2220,2430,1180,1620,1030,3420,1710,1580,1230,2200,2570,3320,1090,1970,3220,1600,670,1730,990,1420,1880,2360,1780,950,1680,2290,4140,2641,4930,2460,1995,3010,1270,3080,1470,1730,1070,1660,2410,2910,1880,1110,2790,1590,5700,1200,3200,2110,2220,5990,1760,2200,5070,1040,2560,2010,2810,2600,2060,2130,2290,2020,1430,1910,2690,1330,3060,1760,1570,960,1680,1960,1790,1010,3910,2110,3340,1400,1760,2010,2300,2510,1340,1560,3350,3710,2430,2430,2100,1630,1930,4750,2300,1500,1150,1920,3660,1720,2100,2540,2080,3400,2140,3850,1320,2150,1910,2130,2240,2160,1920,1370,2080,2250,2120,1440,910,2630,2930,1900,1220,890,1720,1580,1360,1640,2520,2300,1900,2980,1570,2660,2110,2670,2200,1540,2080,1780,1960,2070,760,2330,1460,2250,2640,2720,1990,1170,760,1280,2990,3830,2870,1520,1800,3610,1490,1560,1180,960,1630,1520,1000,2650,770,3370,2130,1050,2080,2080,2120,1790,2720,1650,1540,1280,2200,2074,2450,2320,1730,1300,1560,1120,1200,2500,2010,1210,1100,1050,2120,1240,3460,1270,2980,1740,1730,1240,1670,2530,4130,1710,1490,4750,3400,2210,1650,1260,1960,1800,1940,2820,720,1640,1560,1560,2038,1670,1690,1620,2700,1780,2160,1930,1920,1470,2980,2360,2130,2030,1790,1690,1320,2810,2280,2870,3030,2940,1800,1580,1730,1000,2520,3080,1060,2160,4060,1940,2250,1620,920,920,3610,3010,2320,3290,2120,1930,2120,1990,1310,2670,1530,2920,1010,2450,2200,1450,2280,2720,2250,1970,2780,2330,3270,1150,2240,1280,1680,2330,3030,2880,3090,1310,2830,3150,2840,1930,1260,3160,990,2640,2120,1200,4890,1580,2060,1690,3370,1820,1890,3820,2770,3020,1170,1270,1100,1140,1980,2480,1050,1260,1680,1360,2450,1610,1660,2050,1250,2660,1810,2700,1760,1930,1980,1830,980,2490,2329,1790,1160,2540,1750,2890,1160,2100,3280,1450,1930,1660,1260,1170,3350,1420,2170,1660,1160,1700,1580,1030,1770,1540,2650,2690,2390,2160,2230,1280,2810,2150,2820,1750,2430,1380,1790,1940,1390,2200,1264,1095,1760,1810,1400,1710,1660,1780,2060,1650,1440,2150,1060,2620,1840,820,2010,1990,2990,2540,1640,4020,1594,2130,3270,4350,1610,950,1010,1200,2020,3390,3410,2030,2860,1690,760,1780,1550,4090,880,1900,1392,3340,2750,1400,2220,2390,940,1120,1250,1060,2410,2200,1580,1520,2260,1800,1000,2300,902,730,2600,1570,2876,2290,1470,2620,2680,2020,1510,2740,2020,3860,1600,2090,4020,2910,1720,3030,3030,2190,1680,1120,3180,700,1550,1920,2510,3990,2350,1350,6390,1590,1880,3500,1370,2810,2220,1720,1780,1410,2110,2700,2610,1660,3760,1740,3530,840,1470,2470,1720,2700,950,1790,1610,2290,2170,2320,1530,2360,2570,1270,1250,2690,1280,4350,1370,1230,2440,4410,910,2150,2150,3190,2740,3150,2400,2280,4200,2170,2880,2160,2250,1390,2050,2660,1540,2640,1210,3760,1350,3900,1340,1840,1730,1650,3370,2200,2180,1490,1530,1180,2080,3200,1880,1040,1150,2120,2130,2340,1890,2780,2680,1560,1130,1120,2050,2600,2811,4060,2260,600,2430,3420,2010,2750,1300,1150,2220,2050,1700,2730,1510,700,970,910,1060,2180,2050,800,3470,1390,900,1050,1180,1140,700,2060,2230,2130,1880,5450,1290,1690,1350,680,2110,1200,2360,2350,1810,3280,870,3570,3780,2280,1030,2870,1520,3700,2240,1920,2560,1840,2168,2100,1330,1360,3420,1800,2600,1550,3330,3840,1270,3240,2480,4470,1780,2200,2760,820,1445,1620,1060,1050,2050,970,1540,3000,3190,2200,3070,2440,990,3670,910,1780,6410,2070,2040,2320,1440,1700,2050,800,1290,1900,1480,1950,1260,2150,1750,2430,1470,2020,610,3000,920,3410,1820,1060,2300,1610,2830,970,1680,2040,1450,2870,3190,1560,2750,920,1140,2520,3150,2040,2240,1570,750,1870,2683,1700,1450,3310,1520,1260,1840,1750,6330,1260,2100,2430,4250,1310,3090,2560,1460,3460,820,2790,1390,950,870,1000,1560,2500,670,1920,1960,2000,3600,2740,3650,2310,840,2730,860,2320,1540,4290,1010,1500,3160,1110,3830,3160,2100,2240,1060,1840,2260,840,2830,1600,1370,1960,1470,2740,1820,1760,720,1390,2790,1460,2620,2230,1190,2090,2580,2100,3160,2090,1210,1990,1630,2480,1270,820,1810,3440,2320,1780,1600,2450,2680,1850,1740,1490,1380,1510,1090,2790,1840,2570,2160,2140,2090,1810,1760,2500,930,2940,3360,2110,1070,2260,5860,2380,1050,990,4120,1300,3100,3380,1700,2010,1380,1210,1580,1910,1740,1970,1670,1360,1840,1255,1840,2960,1430,5990,3480,4260,1730,880,2380,1780,2490,1180,2310,1440,1620,1040,3320,800,1960,2670,830,2510,1280,1810,2080,1680,1660,1650,1420,2240,1230,2060,3090,3220,1910,1150,2730,2890,1040,1720,3430,2570,2060,3020,2340,1610,1850,3940,2330,1300,2520,1680,1180,3330,1880,2990,3110,2150,1900,2720,1560,1990,1740,1510,2100,2344,1970,1470,940,1780,2230,1290,1880,1890,4370,1530,1030,2000,1730,3620,2640,700,3520,1650,1360,1470,1610,1900,1830,3060,1088,1400,1540,2310,1730,2070,2980,2740,1790,1750,3610,1570,2280,2920,2260,2000,1440,2310,2300,1490,1830,4440,1000,1980,1560,870,840,710,2290,980,1590,1540,1660,1840,810,2600,3230,3140,2780,1370,1610,3410,1850,1760,920,1120,1560,1940,1100,1980,1680,2620,1610,1490,1900,1840,2330,2250,2000,1680,1530,970,1550,3680,3210,1480,3600,1700,1550,3780,2290,3370,2090,2130,1560,2910,1710,2930,3160,810,2000,1894,2080,1730,720,1210,3950,3450,1150,1500,1300,1290,2320,2060,2920,3330,2110,1175,1590,1070,2720,1160,3580,2380,2270,2480,1900,1670,2000,1860,2110,1400,2850,1370,2170,2300,1990,2390,2160,3300,2030,1400,2320,1410,1860,1820,1010,940,2600,2060,2900,1020,2150,1230,1840,1740,3040,2100,1470,3420,1190,2080,2180,1980,1710,2200,1170,1120,1650,2840,1860,2890,2130,2120,1280,3170,2260,2930,1060,1740,1650,2720,1516,2580,1460,2470,2090,1650,1880,2060,1410,2770,5440,1280,1720,3040,2670,1350,3490,2370,1830,2330,2240,1700,1100,3090,770,2370,1200,2200,1600,3440,2510,1180,680,2840,1820,1250,3000,2270,4500,3400,2830,960,1530,2500,1560,2070,2710,3150,2100,940,1640,2100,1500,1400,2600,1870,2960,1060,3100,880,2490,1080,2530,1200,2850,2950,1160,2240,1450,1820,1960,1440,910,2430,2320,1260,1400,1790,1640,970,1610,2060,3570,1400,3470,1210,3930,990,1510,1620,1580,2190,1230,780,1110,3410,2390,1850,1000,2450,1440,1660,2510,3090,1010,2390,3340,3620,4200,3831,1980,1580,2460,1470,1950,2330,1720,1900,1040,2070,2070,1550,2020,3320,4130,2030,1770,2260,1950,2930,1960,780,1650,4030,1190,1050,2000,2820,2040,1700,820,1390,1840,1880,1910,1410,3380,3090,1850,1200,2190,1380,2320,1110,1700,1130,1640,1040,2320,2330,4410,1650,1370,1770,1410,1710,2770,1260,3850,2320,2870,1830,1990,1110,1830,3600,3210,1490,1646,2310,2670,3060,1380,1450,2060,2380,940,1760,2010,2160,930,1360,1720,1150,2710,2400,1660,2870,4240,1980,4470,2830,2150,970,1360,1470,860,820,1900,1330,1240,1330,1880,2250,720,1340,1740,1680,3220,3160,2520,2090,1330,1510,2120,1850,2600,5180,1810,2190,1890,2040,1310,4010,3690,2580,2010,2320,3180,2970,1630,1620,2150,1770,2110,1590,1370,1390,1640,2670,5400,1690,2600,1400,1640,1720,3060,1150,4810,1920,1690,3090,1790,4750,2090,680,2100,2840,1470,1150,3150,1090,2670,2110,1770,1510,530,2420,2490,990,3260,2740,2070,1570,1050,1830,2200,7050,1790,1560,1720,1640,1730,2280,2550,2770,2860,1990,1740,1460,3670,1770,1980,2650,3040,3640,1810,1380,1810,2250,3860,2380,1370,1830,1440,780,1720,2260,1480,2550,2286,1500,2880,2600,3320,1680,1570,1150,1890,1350,1640,2030,2420,2770,1980,1460,1010,2760,1060,1510,880,1660,1370,1460,740,2260,1240,2040,1270,1300,1820,880,1870,4870,1720,2730,1100,1810,930,1590,2920,910,1320,2490,2220,1130,2750,2680,1270,1520,960,1090,2240,3740,1800,780,1330,1900,1570,1140,1550,1290,1510,840,1850,2290,3200,1800,860,1980,2140,2410,1650,2410,2050,1720,2390,1680,6210,1440,1910,2010,1240,870,1400,1850,4270,2260,2690,1140,2900,2830,2560,2100,970,2300,950,2110,2990,2940,1860,1890,2710,2150,3720,1540,1050,1210,980,1990,1240,2080,3570,4230,2200,2140,2740,2800,790,1110,3230,12050,3480,3560,1820,1920,2750,1800,1300,1190,4250,4360,3420,4260,2460,830,2210,5480,1860,1350,2790,1570,2570,1210,1530,1510,1720,2190,3030,1679,1980,1900,1720,1210,1540,1811,2720,1520,2160,1390,1740,2849,1440,1720,3920,2050,2370,2310,1450,2680,1030,1320,2440,3370,1100,2520,1400,1880,2800,2500,810,1720,4530,1440,2850,2620,1676,1910,1670,1800,1400,2160,3320,3220,1340,2490,1640,3340,2170,1370,2840,1940,1757,2470,1610,1590,780,720,2320,1660,940,1990,2620,1600,4230,3200,2020,1980,2620,1750,1040,1900,1660,4280,2540,2100,1740,2441,2060,2930,4800,1450,1050,1610,720,1250,3200,4240,2800,2310,1490,1840,3280,2720,3650,2450,2480,1710,1690,2190,1510,2340,940,1650,1400,2150,1900,4380,2290,1690,1120,2400,2070,2420,2380,2120,2740,1370,1750,1710,2170,1320,2440,1640,1190,2910,1010,1990,4320,1200,1640,870,990,1500,1790,1490,1620,2270,1150,910,2770,2410,1530,1810,1040,1160,1430,2280,2730,1860,1950,2120,1010,1840,2860,1100,1646,1490,970,3730,1090,1940,1500,1070,1720,1400,2795,3380,1500,1950,1110,1480,2700,4330,4210,2610,1500,1290,1320,2440,1640,1160,2230,1910,1980,1580,1370,3010,1390,1330,1320,1260,3420,2790,1270,2910,1560,770,1100,2890,950,1100,2140,1300,1790,2130,1360,2500,2260,2300,1200,2590,1100,1230,1030,1140,3200,1960,3010,1080,3300,3820,2260,3880,2010,1730,3070,1500,3950,1100,1600,4230,3090,2020,2260,2020,2030,2160,2640,2170,1530,1490,2190,1690,2330,1470,3650,800,1030,1630,2010,1360,2040,2830,2040,1340,3920,1010,990,1200,1060,3200,1850,1100,1660,2900,2140,2670,1090,1970,3220,2060,1750,1150,3230,4170,2390,2230,1210,2050,2180,920,3440,1610,1110,2200,1630,2100,600,810,2310,860,990,1780,1480,1140,1230,3080,1990,700,1700,860,3160,3000,1240,2200,960,2130,2020,1060,1230,2510,2720,2230,2500,1670,2150,2020,2230,1730,1370,1210,1550,1170,3100,1590,2290,1610,2590,1340,1420,1360,2650,2120,1200,3190,1050,2990,2440,1170,1280,1950,1930,1970,1820,950,4010,4560,4560,910,2890,1070,2050,1040,3320,740,3380,1210,2480,2010,1170,1250,2070,1050,1400,3150,4540,1400,2500,1390,3160,1310,1740,1490,1300,1030,1970,790,3800,4140,1720,2610,1500,2600,1370,2400,1068,2220,1310,1350,1400,1020,1300,2010,1470,2330,7100,3440,1590,1460,2070,2420,2000,1010,3050,1160,2180,1560,2350,1440,2930,1590,1400,3190,4580,2720,1360,2290,1170,1830,2730,1090,1160,1010,2120,960,1509,2270,1954,1270,1690,1600,1770,2800,2680,1680,2410,3370,1380,990,1820,2290,1700,860,910,2820,930,2190,2560,770,5230,1260,2320,1560,2330,1970,1110,3070,1940,3050,3380,1670,1660,2070,1430,1230,1540,2000,2110,2550,1440,1170,1460,2360,1310,1720,3370,1200,3870,2220,2540,1970,2170,2630,1900,3160,1330,3030,1190,3050,3030,1490,1510,2330,2240,2050,1680,670,2710,3410,1330,1900,1040,1340,9640,2310,1220,3840,2460,1630,970,1780,770,990,1440,1960,2920,1730,1570,970,2800,1580,1220,1220,1651,3150,800,1100,1760,1470,770,1340,480,870,4010,2660,1230,3100,1900,2090,4120,1260,1960,4460,1330,2860,1460,900,1340,2370,1650,1550,2290,2000,1270,1810,1170,1730,1260,1020,1970,830,5030,5660,2330,1540,1540,1920,1870,2960,1610,670,1752,1540,1370,860,930,2120,2520,1560,640,3880,3360,1430,1920,2350,1350,1470,1890,1760,1950,1440,1180,2680,2040,2660,2580,1000,1420,1280,1200,960,2890,1140,1750,2580,2650,1470,1640,1440,1720,1530,880,860,1210,1430,2120,2540,2490,670,1320,950,1870,1410,1050,1400,1900,2885,2980,3290,1580,2090,3430,2250,1400,820,1630,2010,2420,1410,1640,2200,1290,1240,2360,2210,3670,3080,2600,1220,1150,1700,1220,1670,2420,2610,960,1010,1550,2350,1310,2160,2510,2430,910,1130,2150,5270,1380,1610,3150,1890,1840,1370,1760,800,1780,2610,1850,1270,1420,1640,1520,2700,1820,2770,1270,1400,1820,1870,1360,1040,2140,1330,1070,1370,1550,3280,1580,1460,1410,1690,2310,2080,2230,1600,1380,1420,2420,2600,840,1420,1790,1010,1640,1370,1290,5150,2470,2300,2030,2000,3290,1300,1680,1190,940,1010,1290,1480,900,1400,1450,1210,1800,1490,1240,2150,1530,1630,4080,2340,2290,3180,3020,1330,1810,1530,1140,1050,1430,1530,1830,2130,3330,560,1210,2380,1370,1370,1740,790,2480,1920,2750,880,2160,2130,3150,1170,900,2650,1170,2630,2150,1430,1490,1210,1860,1980,900,1490,2980,2660,2790,2130,1510,1750,4010,1650,4050,1320,1440,2330,1390,1150,2120,2300,3320,3580,2100,1550,1570,1480,2720,2270,2410,2730,1480,2180,1300,3420,2130,2560,1040,2670,3270,2610,2460,1930,2420,1870,3020,2880,1810,2590,3830,3250,1280,770,1520,570,2510,1980,2500,2720,910,1480,2470,1650,1995,1280,2420,2800,1400,2070,750,1460,740,1570,1400,2670,1520,1660,860,2110,1010,2330,6430,1610,1460,2900,3420,2120,2460,3790,620,1920,1050,1360,3300,1100,1770,1200,1330,1610,1100,2930,1780,3050,1540,1890,1570,1520,2780,1730,2340,1300,1420,1470,2360,1610,2420,2080,3000,2560,2590,1630,2480,2700,1930,2490,2130,1060,2810,880,1830,1800,2460,1670,2850,820,1480,2930,1250,1730,2150,1960,2550,1990,860,2031,1590,1920,1670,1390,2140,1250,1080,2760,2180,1260,2450,4150,1340,3000,3080,2280,3690,4610,2920,1230,1580,1220,1020,1510,1830,1860,2600,1390,2300,2810,4060,720,2130,1750,960,1570,3070,2920,1870,1540,2810,2450,3130,730,2434,3720,1700,2510,790,1710,2660,2350,2440,1150,1510,870,1280,2600,2030,1930,4060,3316,1460,2100,1830,1530,860,2130,3580,2420,1900,1330,2150,1370,2430,1640,1010,1500,1740,1850,2280,2350,3910,2300,2510,1410,4250,2560,1760,2100,1490,870,2630,2200,1030,1040,2240,1600,2190,1899,1870,1730,1860,670,1820,3810,2060,1520,830,1880,2200,2220,1380,2320,1210,2331,1820,2860,2750,2280,2940,4460,2560,2810,1380,2560,1010,1790,1600,2497,1800,1320,2800,3360,2590,1330,1470,1700,3420,1650,2810,2710,3320,720,930,1690,1720,2280,1800,1280,930,1930,2980,2800,3190,1710,1910,3160,1890,1740,2480,1450,2750,2820,1830,1640,1720,2880,1220,1560,1090,1140,2580,2310,1590,2210,2340,2470,1120,2700,3490,1640,1620,1670,1870,2190,1320,2040,2510,2170,2980,3110,1370,2440,1760,2500,3220,2880,2240,1610,1440,1550,1720,1100,1180,2020,1150,2090,1300,2240,3540,2760,1410,4420,3390,2110,2060,2530,1900,2910,1900,2820,1620,3320,3770,1200,2130,1920,2510,1990,1230,3190,5720,1550,1690,1651,1510,2220,2150,1400,2450,980,1240,1610,1510,1670,2320,2110,2670,2540,3450,1700,1550,1100,3950,1250,2290,3500,1690,4500,1120,1740,1010,1200,1020,1850,1830,2070,3280,2340,3690,720,4300,1590,1720,1790,1590,1740,3470,1180,1700,2450,2630,2130,1060,2440,3100,2890,3240,2900,2560,1150,1760,3220,3200,740,2370,1400,2350,1250,1100,3640,1310,1800,1260,2990,1140,2100,2400,1400,2990,1930,980,690,1430,1110,1500,2150,2740,960,1520,3240,1280,1970,2990,1890,2170,1570,3260,1940,2150,3310,3400,2660,950,1480,2840,1480,2510,2530,2440,1040,2450,1050,2730,1620,2410,3420,920,1940,1860,1380,2210,1500,2080,5584,9890,2080,3970,770,2500,1340,2640,2740,1580,2180,1960,1560,2440,990,2210,2900,1020,990,2080,1480,2800,1000,1640,1620,2460,1080,1980,1510,1690,1010,2090,1750,2030,2470,2060,2180,4200,2240,2740,1830,1380,1620,3180,1140,970,1780,2240,2810,920,1830,1560,5540,2310,1470,3430,2900,1850,2190,2510,3200,1670,1010,5050,1880,2180,970,1010,2140,860,1920,2210,3530,1100,3390,820,2370,1470,1410,2360,2130,990,1010,1630,1310,1610,1850,1420,5220,1170,1860,1620,2750,1420,2000,1100,1720,1240,1160,890,2150,2060,1380,2210,3590,1240,4340,1570,1680,1560,1200,2650,3610,1760,4830,3350,1570,1420,1890,1690,2560,3120,2230,1050,4180,1200,3320,1590,2750,1530,1470,3150,2380,1340,2020,1810,3600,1560,4020,3150,1680,1320,2700,4850,1780,1930,2470,1180,1770,2250,1540,2430,2160,1770,1890,1910,910,1630,2130,1670,3220,2430,2240,790,2000,1960,2590,1930,2580,2160,1970,1480,2720,5844,1840,2810,1020,2550,710,2150,1630,1380,2800,2070,830,2770,2060,1490,2120,2810,2460,2030,1320,2160,4190,2280,2590,2770,2145,4480,1780,720,2050,920,680,1940,2230,2910,5270,2820,1790,840,1820,1270,2110,920,1500,1610,1970,1150,2110,3580,1000,1680,2390,1820,1100,2280,2530,1940,1360,1660,800,2670,3550,2820,1620,1290,1830,1850,1300,1620,1560,2600,2010,1982,1500,2460,5860,1720,1420,1760,2790,2360,1890,1640,2060,2360,1940,1280,1820,960,980,3140,2880,860,1430,1260,1430,1670,1300,520,1820,1820,1050,2210,860,2980,2300,2810,2040,2670,2530,1720,3090,1120,3960,4060,2350,2380,2930,1290,2730,1290,1850,2590,1630,910,2780,3880,1360,2560,2600,1560,2080,1490,2020,1530,3450,1400,1730,1370,1050,2840,1010,2710,3110,1900,2780,2590,2110,1170,1900,2660,2160,2700,1980,2600,3440,1030,1240,4610,1590,1150,1750,3890,1770,1160,1440,2600,2640,1010,1840,1720,1280,1700,1160,1980,1960,1270,2060,1980,1200,2090,1510,3790,2740,1660,1480,2640,1900,2860,3440,1640,1450,2300,1460,1570,3300,2130,1010,2420,1890,2250,1460,1380,1510,2510,3150,2300,1880,2640,3900,2670,1840,1120,3060,840,1130,1850,2330,2980,1778,1930,1130,1650,820,4440,1660,3020,1850,960,1150,2130,2360,1320,1910,1610,1160,2280,1470,2970,2020,3110,2390,2150,1340,1990,1600,2680,2080,2590,1240,2530,1780,1570,2920,2830,980,1180,1770,980,1840,1780,2840,2650,1270,1750,2680,3830,1610,2000,1420,2060,1410,2420,2460,1000,1240,1740,1500,1530,1740,1280,1140,3930,2370,2340,1240,2740,1940,2950,1980,2850,2130,2420,3710,1770,2330,2490,4090,2800,2440,2680,1550,5000,1070,1900,2960,1490,1500,2410,2000,1140,2900,3220,2500,1610,2250,1240,1660,2080,1050,2420,2190,2660,770,2920,1370,1870,2100,2530,3290,1890,1680,2990,3770,1020,1550,1680,1910,2020,3210,2350,1910,2620,1220,1060,1250,1890,2840,1880,750,1600,1230,1610,1320,2180,2190,1490,1463,2880,1250,1670,2000,2280,2520,1590,2090,720,710,2690,3360,1500,2600,1160,1430,1870,2560,1160,1680,2010,2540,3240,1080,1430,1290,1240,2100,2030,2030,1750,2650,1750,1440,1470,2140,1550,3180,6510,1440,2320,2060,2783,2140,1420,2090,1320,3050,2520,1740,1250,2180,2250,2590,2090,2400,2260,3640,1600,2110,1720,1100,3090,3100,2506,1700,2200,1890,3740,2130,1680,2730,1890,1080,2540,2300,1690,1190,1320,1290,3000,1358,2720,3020,1640,3870,1210,1350,1990,2250,950,3140,3560,2770,1930,2020,1300,2770,1250,1690,3040,1190,2300,1360,1500,1510,2330,1020,1160,2450,2010,1370,1990,2790,780,1390,3320,1960,850,2980,790,1800,800,1850,1850,1920,1430,1420,1420,1560,2030,1360,1180,1940,1300,1650,1140,3440,1800,1260,2370,1520,1750,2680,1590,1560,2000,2230,1570,1845,830,830,1430,1510,1510,1610,1600,1660,4230,3310,2470,1850,4610,2130,2350,920,1780,2690,3180,4120,1690,3090,5050,1640,2170,3140,1090,1930,2100,3110,2050,1160,1820,2110,1080,750,1390,2160,1690,2650,1120,2220,1480,2770,1530,2140,4600,1760,3110,1460,2340,1230,3660,1650,1580,2490,2000,1550,2600,2500,1270,2900,840,1940,1940,2490,1390,3940,1760,2560,2300,1770,2310,2310,2590,1730,3070,2100,1890,2000,3030,1410,1860,7400,1650,1480,1370,2480,2030,2200,2550,2390,5730,1120,1270,2390,2560,1820,1840,2470,2520,1600,1280,1700,1940,3500,3260,4230,1590,1010,1820,870,1620,3980,1630,1230,3510,1020,1590,3440,3020,2280,2790,850,2480,1010,2180,1830,2040,1640,1190,2180,2120,2210,2510,2500,2510,1310,2500,670,1840,1480,2420,1820,1940,1630,2520,2120,3410,2380,2490,1240,1900,2390,1810,4490,1620,800,1360,2280,3540,1560,750,2240,590,690,1880,1860,1860,1720,1260,1120,1810,1890,2020,1790,3190,3030,1630,1180,1560,1340,3170,1440,3490,2780,1400,1510,1320,820,1080,840,2070,1210,1540,2310,1870,1840,2060,1010,1020,1050,3030,1800,1860,860,1530,2350,1840,1650,3290,2670,1960,2000,2360,1430,2330,2060,2240,2180,1280,2140,2890,2163,2280,2310,1290,1630,1240,3100,2020,2500,790,2040,1430,1070,1300,2560,1740,2220,1310,2710,1300,1080,1590,910,1590,3290,2010,2060,1560,1120,3550,3300,2000,2680,1290,2400,1920,4350,1910,2000,3290,3480,2820,2710,2080,2200,2120,1460,2110,1790,1340,1240,2750,2530,3200,2350,1690,2700,1800,3670,2350,3100,1120,1900,1350,1410,1560,1465,1790,3760,930,1580,2170,2040,3430,2160,2060,1410,1850,1310,1640,1600,2240,990,1010,2920,2310,3470,1220,2060,2550,3370,2230,2382,2140,1900,3370,2300,1840,2860,3120,2820,2840,2370,2610,3340,2630,1960,1090,1550,2979,830,1560,1360,1650,1510,1510,1800,2040,1690,1530,1180,4090,2250,1820,1080,2760,2550,2080,1050,1800,1710,910,2340,1510,2630,1068,2390,1520,3200,2670,760,1790,1790,2420,1710,2000,1580,2310,3580,4320,2560,1660,2420,2870,1710,2600,670,1460,1540,1250,2230,1800,2370,1830,2620,1300,3120,1430,2410,1470,4720,2910,1000,3330,2060,3090,2350,2180,1870,2460,1650,3480,3176,2420,2260,3400,3770,2672,1180,1810,2610,1450,1600,2650,2490,850,1960,2350,1320,3720,2210,1910,2840,1320,2420,3760,1560,1790,1430,1390,1880,2520,2150,2390,2400,660,1580,3250,1880,1190,1280,1440,2120,990,1710,1150,2250,1540,1440,1790,1260,1180,1550,1070,1460,1840,680,1700,2000,2340,1120,1510,5440,1150,2420,1750,1750,2170,2540,1690,1990,2210,3090,1050,2550,2095,1520,2750,1200,1830,1160,2400,2115,2580,1220,1630,1690,1700,1890,850,2480,1690,810,6085,2140,1800,1920,860,2340,4040,1680,4250,2400,2420,1850,2020,1830,1920,1280,3920,3100,3220,1670,4400,2190,1470,1840,1210,1870,2660,1740,2580,1720,2740,2610,1400,2570,2630,1540,2120,1830,2260,2500,1830,1010,2550,1480,3110,2140,2080,3136,1480,1500,2660,1350,1000,2480,3860,1820,2220,2660,1470,2430,1370,4470,2040,2520,1710,1200,1310,3020,790,970,2250,1530,1780,1500,2390,2390,2920,3340,2240,1060,3520,1730,1170,3680,1290,2010,1930,2240,2320,2990,2200,3860,1430,3750,3100,1870,2040,3700,3150,1990,1740,1760,1210,2270,6640,1060,1940,3070,2200,1130,1970,1470,2390,2280,1330,2640,2430,2470,1320,1370,2000,1980,2320,2030,2610,2520,1840,1570,1160,2820,1320,1200,3070,1040,1990,1690,1810,1680,1250,4620,1580,1660,2410,1720,1700,2280,2010,1070,1020,1380,3270,2100,2110,1640,1320,2420,1390,2710,1450,1370,1810,1420,2090,1330,1330,1910,2500,1310,2040,2400,1400,1700,3160,1340,1470,1790,1560,1580,1090,3240,1020,1810,2020,1410,5300,2290,720,1200,2620,2120,1580,4160,1740,1450,1560,2050,1760,910,1700,2620,1190,4500,1360,870,4850,3110,3700,3500,1670,1640,2330,3700,1990,2020,2980,3990,790,1060,2260,1900,3361,3550,2040,4070,720,2000,4400,1300,1420,1540,2360,3720,2300,990,2130,3320,1960,770,2010,910,1200,1820,2930,1480,3305,1030,2380,2060,2370,2242,1078,1420,1280,2910,2430,1860,1800,1960,1550,840,2080,2210,1210,1940,2240,1170,3130,1510,3740,2690,1760,1560,1780,1260,2020,1500,1010,1790,1760,1790,1040,4060,3190,3190,2120,2110,1210,2410,1980,2370,1720,750,1540,1810,2570,1690,1420,3000,2150,2280,1880,1010,1120,1560,1860,1150,1920,1460,1820,4290,2230,2070,2480,4110,2290,1220,2620,3190,850,2140,2070,1680,1000,3340,1260,2430,560,3380,1100,1700,1600,1830,3050,1240,2100,1250,1520,1890,1480,1480,2120,1480,2010,3150,3010,2880,2550,1120,3140,4130,1570,2210,1520,1830,2640,1740,1550,1040,1640,1640,1260,1170,1590,1980,1620,2700,3270,870,840,1540,1980,1230,2520,1970,1520,2600,1200,1920,1660,1670,3810,2020,1820,800,2270,2750,590,2570,2050,2140,3220,4330,1780,1230,2160,1400,2960,2010,3760,1020,1290,890,3360,2930,2940,1080,1790,2060,4030,2020,2740,1930,2500,2080,3290,1540,2120,3020,2460,1750,1240,1380,1920,1680,1400,1440,1230,1550,1760,2140,3510,2010,3390,2160,1280,1390,1960,1250,1250,550,2500,1250,3020,1640,1430,1580,4170,3090,1020,3350,2510,1880,2230,3650,2830,2600,830,2640,1610,1770,1070,1540,1590,1170,2880,1280,740,1740,1180,2960,1880,1320,1640,1510,1440,3610,2260,1430,1420,2120,2080,1370,1900,1660,1310,1840,2610,1990,3080,1200,2640,1790,1140,1790,1910,1050,1100,5000,880,1470,980,2180,3040,4130,1850,6900,1920,2030,1140,1660,2550,1270,2980,1470,3550,780,2440,1260,1640,2380,1030,1560,1640,2200,3190,1200,2250,1960,1250,2640,2460,840,1900,2160,1720,2190,1980,1880,1610,3260,3970,4570,1180,1365,1850,1320,610,2500,1440,2750,1780,1520,1070,1990,4980,890,1440,2440,2260,810,2240,4560,1550,1570,3420,2420,1570,3680,1910,1460,1370,2850,1090,1820,1320,1670,1440,980,4340,1120,1460,2050,1250,1200,2140,3440,1800,1250,800,2550,2880,1470,1040,880,1210,1380,1620,1680,1330,790,1500,1800,1980,1340,1790,5490,1940,2670,1220,1310,1930,1180,3140,2320,2110,1790,1740,3820,1680,1930,3760,2370,2120,2370,2350,1180,1830,890,1820,2440,1110,1870,1560,1910,2530,1130,820,960,3370,1800,3990,4070,3730,1220,3490,2030,4850,1340,1130,910,710,1520,2820,2240,1860,1780,1788,2300,1610,1230,3420,2580,3847,3630,2550,2340,2320,910,2660,1480,2810,830,3720,2150,2370,2990,1350,2370,1170,1800,3650,2050,1092,2010,2510,2280,2510,3190,4690,2220,3950,1740,3160,1990,3920,960,1880,1990,1400,3190,1000,1670,2100,2030,1090,2500,3420,2850,2230,1810,4000,1490,4225,2120,1030,2310,2120,2500,2470,940,3260,1660,4370,2620,900,1250,3850,3450,3950,1950,1700,2370,4060,1322,1140,3080,1210,1950,1450,1590,1240,3470,5100,2430,2420,2240,1110,3210,1320,1020,1220,1390,2970,1440,1550,1400,2140,1320,2300,2000,2700,1740,1770,1290,1450,1330,1760,2010,2560,1010,890,1670,1360,2120,1910,1480,1090,3650,1970,1710,2010,3910,1930,1650,2220,2470,2400,1500,1700,1260,1300,3220,1420,1020,3640,1550,1870,2340,3350,1710,1180,1600,1040,2240,1420,1580,2260,1890,1830,2180,2320,840,2350,2040,3320,1650,1110,2110,2760,2300,2030,2160,1650,3140,2690,1300,2310,950,1780,1280,920,2270,2080,1670,2370,1700,860,1980,1590,1980,1720,1350,2090,2030,2680,1300,2210,1400,2040,2420,1920,3860,3450,1040,2220,2470,1960,2040,3030,2670,1520,1480,3540,3366,1810,1680,2450,1150,1150,3480,2800,3240,1480,1240,1910,2120,3020,880,1860,3840,2192,3700,3670,1630,4230,1060,2700,2110,3720,2420,2910,1760,1540,2580,1410,1980,2440,1350,3130,880,1920,2700,3470,1820,1310,2460,1060,1340,1480,1940,2280,2270,1990,1790,2440,1450,1550,6200,2810,1370,2920,1000,2790,1660,1650,1300,1090,2750,3850,860,2070,2290,2340,2680,1710,1800,1700,1350,2700,920,1980,4500,3220,4360,960,770,980,1820,3980,3010,2550,2890,1810,1810,2550,2370,1370,1200,2020,1830,3190,3350,3450,1060,1670,2251,1770,2290,3180,3240,2500,1600,1120,1340,1670,2830,2700,910,910,2050,1070,2680,2100,4133,920,1950,1660,2670,2370,2030,1620,2040,810,1470,2070,2910,2340,2290,1650,650,620,620,1400,1800,1300,2360,3320,1480,2190,3740,1360,4610,860,3260,1840,2000,2810,1780,2340,1480,1358,1750,1830,1170,3170,1530,1100,2030,1870,3080,810,3990,1430,2290,3020,2260,2620,2830,2150,2650,3870,2530,1450,2200,1530,1590,2690,990,1300,2080,1840,3560,1640,530,1990,1690,2670,1930,810,1550,2640,2080,2070,800,1480,1970,2650,2820,1400,1580,1800,3360,1510,4285,1260,920,2540,3060,1950,1730,2570,1490,2040,1610,2520,1800,1170,900,1830,1400,880,1450,1890,1100,1350,3020,730,1390,2710,1530,2170,790,1160,1080,2190,2030,2480,2240,1650,1700,2790,3010,2550,2880,2090,960,1650,770,2280,1660,2480,1250,740,710,1970,820,1000,3080,2370,4690,2280,1530,3610,1740,3600,3130,3940,2200,1560,1870,1410,2560,2450,3110,2210,2630,2350,1200,1290,3360,2660,770,1800,1430,2550,1310,1430,1880,1600,1960,1400,2710,3050,2010,2120,1270,1670,1740,1600,3730,900,3480,2840,2490,1510,2240,1460,990,1970,2660,870,1740,2290,2170,2040,1770,2380,2030,2270,1530,1430,2390,1420,1820,1620,870,1830,1440,2410,2270,2340,1800,2210,1820,1190,2600,910,860,2310,2460,1670,790,2600,880,1700,3910,2160,3860,1280,2170,2520,2560,2650,2870,1230,1450,3180,2270,1630,1520,2080,2180,1780,1370,3050,1490,1800,1760,1770,2910,2520,3190,1360,1870,1700,4140,1580,2410,2180,13540,2320,2670,700,860,3650,2620,720,1890,1010,2040,2290,3490,1510,900,1270,1050,1850,1970,1580,1790,2840,1780,3920,1550,1270,2075,800,3910,3150,1120,2970,1150,1190,900,2950,1990,1020,2070,1430,1620,4220,3830,2390,1440,1550,2380,1880,3470,2360,1970,1040,2290,1530,1360,1070,1590,1080,850,6980,1530,1320,2320,960,2040,1080,1780,1140,1610,4270,3460,1890,1020,1330,2780,1070,710,3340,1160,2840,2000,1060,2210,870,1720,3120,1040,1650,2166,1880,1520,1580,1460,2660,2120,2000,1300,2180,1790,1910,2620,1440,2790,2340,2070,2090,2040,1360,1300,1140,1990,1950,1910,820,1470,1060,3130,1260,2580,1350,1350,1220,2750,2220,2440,2070,1500,2190,1220,2390,2110,3080,900,3720,940,1040,2080,2500,1620,2130,1460,1600,1730,2280,2430,1380,1790,3370,2920,2180,2440,1970,720,1510,1070,1010,2000,1740,1880,3280,1570,2990,1920,2470,960,1260,1740,2630,2430,2580,730,760,1740,3420,2240,1920,2020,1010,3990,1230,640,1670,1240,2020,1020,1610,2730,2840,1290,1670,3860,2460,1660,1010,1920,2460,1520,930,2340,2920,2450,2520,1660,1180,1390,2320,2270,2640,1680,990,950,1650,1800,1660,1870,3220,1850,1580,4590,2700,1020,710,4300,2080,2360,4340,1980,3960,2130,1390,1640,2700,3010,1250,2610,2010,3120,1370,2420,1500,2630,2680,3680,1270,2330,960,1990,2280,1650,2720,1420,1440,1280,2560,1480,2960,2110,1650,1950,1270,1300,1790,1930,1200,1710,2130,1700,1390,1230,1490,1700,1720,1200,4390,1080,1860,2150,2250,5850,1990,1210,3740,2440,2260,1000,1440,2780,3040,1780,2920,2710,1140,940,2160,2470,2800,2420,1460,1820,1520,1320,2640,2650,1540,1550,730,1200,1240,2680,1640,1640,2290,2130,1780,2790,4190,3870,1850,1550,3740,1620,4460,4260,2180,1820,2120,2430,1170,2090,1140,2700,1880,1980,2080,1380,1808,3000,3350,1360,1840,1490,2060,2240,1460,2140,1060,1760,1770,4590,2380,2750,2810,1340,2420,2160,1870,1000,2240,790,1850,1352,1540,1640,2010,1040,1010,1740,2910,1330,2210,2670,1000,3150,1690,1070,910,2130,2230,3560,2100,2770,2400,930,1820,1390,1480,1580,1870,1250,2140,2950,1660,720,1510,1870,1350,2557,1170,2350,1020,2730,1830,6380,1690,2660,2240,2540,770,1360,1280,1920,3310,2950,1320,3160,1640,2440,3000,2810,2390,2080,2650,1060,4440,1580,3630,1290,2090,2120,1880,770,1530,1880,4160,2140,2000,1460,3070,1660,1810,3510,2180,2460,1880,2290,2290,3860,2640,2850,3020,2410,2890,3490,1270,1430,1680,2280,3650,3490,1050,1310,3130,1590,2520,1520,3480,3040,1870,2640,1940,1710,1690,2340,1700,2900,2400,3740,2170,1880,1480,2240,2940,2630,960,1180,1760,1340,2800,4330,3720,1670,1100,3240,1030,1630,2610,1250,1480,1390,1940,2960,4320,1500,840,2020,2480,1140,1700,1190,1400,960,2970,1590,3350,3370,1960,1360,3000,990,2990,1530,1440,1940,2140,2734,1440,1910,1750,1600,1750,940,880,1650,3820,3720,1410,960,1930,2080,2257,1670,1650,2880,3620,1950,1740,1220,2260,2440,1400,1810,1400,1400,2520,3060,2880,1300,2770,3730,930,1460,2770,3140,1770,1220,3100,1769,3370,1630,2470,1960,1710,1400,890,1820,1220,2300,1440,1170,1170,3200,4470,3240,1250,3680,2230,1230,2093,1660,2150,2890,3050,1410,2280,1260,1460,1600,2020,1170,2680,1770,4790,1300,2610,2100,1340,2200,990,980,2370,1910,5270,1430,2600,1010,3290,1530,2020,1340,2180,2070,930,2270,1630,2770,4010,790,1740,2350,1850,3220,2050,3210,3520,3290,1640,1580,1750,1810,1800,1500,940,2340,840,2940,2020,820,2660,1010,980,1100,2300,5370,2280,1010,2100,3110,820,2100,1250,1360,1450,1380,3100,1400,1650,2550,1710,2620,2430,1560,3060,1680,2390,1800,1160,4160,1410,2230,1700,2070,2300,3040,1220,960,1560,1100,2400,2320,2570,2930,720,2940,2020,1430,2520,2480,3020,1770,2880,2660,1560,3080,2540,3080,2880,2110,1830,3180,1798,1670,2580,3720,2790,2190,2280,2180,1980,4180,3030,1690,2080,2460,2570,2370,1070,1940,2650,2290,2050,2680,2690,1180,1400,3000,1200,1000,1990,2110,1830,940,2260,3470,2710,1860,2120,5190,2650,2000,1730,1720,880,1380,2330,1540,3210,1130,1410,1750,1370,1780,1630,2320,2580,1470,1960,2950,670,2390,3090,1780,1420,2420,1480,2190,1810,2550,1360,2259,3880,4290,1770,1920,2320,2961,1590,2620,1810,700,2070,1780,1040,2660,1180,2390,1250,2600,3880,1530,2430,1030,2740,1180,1060,790,3070,2100,1100,2190,2070,1190,1280,1370,2450,1970,2910,760,1270,1570,2310,3780,1060,1880,1160,1170,1300,1660,1950,2470,1970,1400,1510,5350,920,7620,2490,1650,1210,2990,1060,2680,2690,770,2700,930,1340,1470,1730,2780,4430,1820,1300,780,2430,1750,1610,2120,1430,1360,2530,2620,2120,980,980,2120,2090,1650,3230,2790,1790,2060,1370,6200,1510,1280,2180,1440,1580,1580,700,2030,2500,3560,1140,3010,2110,910,2050,1090,2100,1000,4410,1800,920,1860,2100,1030,940,2130,1230,980,2130,1050,1820,2490,4140,1210,1010,2050,1780,3030,1450,3230,1520,1410,1390,2230,2110,2270,1900,2390,900,1850,1440,2590,1140,1310,1870,2860,1640,1140,2160,3260,1660,1640,2620,950,1650,1480,1040,2300,1970,1530,2920,680,2640,2980,1630,1780,1210,1010,2290,1780,1920,1220,2960,1500,1580,2910,2370,1930,1780,2760,2160,3240,720,1950,1100,1710,2000,1440,1010,2440,1090,1480,2800,1820,2980,1220,1830,2900,1940,1850,3220,3990,2090,1900,2170,820,1830,1520,1250,2760,2050,3140,2100,1010,1980,2100,840,1690,2140,2600,1650,2460,4320,2190,1420,2090,2290,840,2100,1360,3420,1930,2180,1670,2720,3170,1610,2590,2850,1660,5550,2020,1810,1310,3000,740,5290,1890,1160,1550,3090,2610,1230,1280,1880,1220,1350,2080,1870,2180,2620,1150,2780,1100,2230,1710,2620,1990,1450,1630,730,1980,1730,1350,1410,2360,3760,1220,2920,1590,3510,1320,1610,1410,2170,1890,2040,850,1600,2400,1720,1030,910,1290,2090,1570,1500,2160,780,3570,720,2990,1860,1950,1860,1550,2130,2190,4130,1480,2810,2360,1460,2160,2160,2020,2980,1300,3090,1260,1610,5020,1940,2360,3720,2010,2130,3140,870,1820,1510,3220,2640,2430,1470,2040,1670,540,1240,1510,1000,2040,1090,1150,2100,2150,2500,3530,420,2180,1150,2000,1550,1570,2260,1600,2850,3280,2990,1340,720,2330,1280,1570,1510,2470,1190,1150,2160,2470,1710,1860,3850,3410,1890,3200,2170,2390,1410,740,820,5480,1960,1270,1710,1200,1680,1540,1890,1160,2300,3140,2900,1920,1150,2560,970,3620,1900,2540,2130,3420,1900,3730,1790,2250,2880,1780,1580,3260,8670,1020,1630,3290,1940,1350,2993,2280,1560,1000,1540,800,1160,1010,1610,2110,2600,1340,1040,1840,2630,2640,2200,1660,2170,3310,1440,3170,3280,1470,1780,1580,1630,2430,1970,1880,860,3620,2370,1860,2110,1990,3120,1190,1170,2630,1450,2100,1030,2020,1750,1710,3560,2720,1010,1830,4480,2080,1470,1600,1340,980,2530,2390,2300,1710,1740,3320,1960,2820,2490,1860,1580,4110,1410,1400,1690,3210,960,2380,1290,1830,2910,1160,1410,1790,4040,1990,1850,1680,1430,960,2700,1860,4320,2130,2870,2130,2800,3040,2090,1460,3030,1580,1440,4420,910,670,2220,1640,3960,1140,2480,1580,1990,1830,840,3320,2050,1560,800,1190,1300,3400,2390,2550,2560,3250,1340,2480,2910,1900,1300,1480,1250,2000,1330,1560,3150,1560,2910,950,1200,2320,990,5470,2350,3430,2600,2130,1660,1430,1240,1140,2690,1520,2830,2520,1660,880,980,1360,3710,940,970,1500,2780,3110,1860,1010,2280,2280,2030,2570,2760,2650,1480,860,1470,4570,1760,2040,3470,680,1494,1250,2000,1280,1380,2320,2050,1210,3270,2450,1890,2007,2070,1480,2520,1770,1320,1810,1140,4600,1840,2000,2040,2060,3720,3002,1060,1830,1550,2580,2510,1290,2690,3340,2600,3140,3800,2320,2360,1390,2180,2760,2430,2010,1730,3300,720,1240,3050,2040,1840,1960,4110,1830,2190,1710,2180,2960,1330,1500,2230,1840,2100,2580,2350,3280,1320,2060,1450,2760,2610,1900,2730,2650,1010,3550,2130,1840,1320,1020,1570,1930,3760,1000,2240,2190,2400,1970,1900,2090,850,1840,820,4370,3190,3480,1690,1650,2160,3500,3920,2190,1860,1720,2600,1570,3530,2720,2840,1260,1860,2010,820,1220,2220,4230,840,2290,4260,3080,2250,1730,2540,2630,1890,1220,2970,2970,1000,1920,2740,1300,2740,4060,3490,1430,2120,1860,2330,1900,980,4670,2500,1620,1710,1820,1130,3040,2410,2440,800,1030,1480,1710,2610,780,1580,1660,2950,1940,5770,2280,2740,3760,1580,1600,1840,1320,3780,1200,2720,1630,1690,1960,4300,2710,2100,1760,1430,2790,1180,2450,1330,1940,1600,2880,1160,1360,1570,2330,1880,2230,990,1180,1450,2370,1870,1770,1110,1600,1450,2680,1150,1870,3790,2130,2860,2290,1120,1810,3220,1660,850,3200,790,2140,2180,1860,1840,1340,2110,1080,2210,1410,2440,2040,1660,1640,1720,1960,3240,3610,1800,2120,1340,3920,1690,2860,1070,940,2588,3790,1090,2240,1150,1870,2990,2580,1620,1390,2920,1250,1500,3420,1790,2000,4280,1260,1830,970,1740,1080,2610,2400,2860,2270,1860,6040,1010,1950,3520,1650,1960,2450,1980,4110,860,4190,1940,2520,1880,5310,2670,470,1120,2250,2070,2370,4830,1160,1610,1840,4080,1820,2680,4790,1130,1600,1120,2060,2830,1210,1850,3230,3230,2450,2360,1060,2220,700,1130,1420,2210,780,1940,1740,2210,2190,2590,2790,2180,720,2260,1550,2380,2640,1720,1070,2800,1620,2710,2730,1740,4150,3270,1960,1600,1650,2170,3730,3280,870,900,1400,1680,2300,1340,1960,1480,5010,1540,4030,3020,1590,2910,2290,2740,2740,2330,2300,1550,1750,2180,1610,1570,1140,1140,1690,1600,1850,2150,2510,3240,1150,370,3130,2105,890,2290,2770,1890,1830,2950,1420,2460,1340,2650,2050,2520,2620,1650,700,3430,3140,2350,1990,2050,930,1230,1870,2110,3160,1120,2750,1230,1190,740,1770,2770,2330,1660,1720,3490,2370,2290,1820,1760,2430,2510,2420,2170,2280,1580,1850,2120,3060,2680,2220,1320,910,1950,3672,1170,2000,3520,1950,980,3390,2270,960,1900,2580,2340,1580,1230,1590,7000,1770,2000,1210,2330,2410,1470,2210,2580,2390,2250,800,2050,1650,4320,2130,2840,1560,3220,1450,960,2310,3520,3160,3410,2630,2860,2310,2590,3500,800,1580,1560,1750,1630,1260,2140,2790,2530,1330,2700,1740,2670,810,3970,1770,1520,3020,1320,1870,2460,3440,3010,6030,1990,1990,1990,3820,2210,1770,2050,3130,1810,2150,2495,1290,3004,2070,4050,2720,4830,2540,2510,4400,1380,3320,1870,3030,1210,2740,1350,1470,2120,1410,1370,2840,960,1470,2430,1730,2290,1690,3220,2130,2100,2770,4040,2500,1130,1500,1550,790,2230,1710,1090,2689,1620,940,1940,1590,3020,3030,2140,2050,2630,1200,1010,1520,2170,3070,5170,2530,1690,1180,1300,1590,1990,2910,2830,1110,1900,2290,1010,4670,3400,1700,2070,4660,4680,2320,720,4400,1650,2560,3720,2590,1750,2450,3730,850,2060,3090,1050,1300,1160,3420,2620,1880,2330,1560,3040,1350,3180,1790,1986,2400,4590,1360,2710,920,2000,1920,2678,1440,2420,2090,1310,1160,1870,3700,2280,1720,2040,1750,1440,1130,1210,960,2160,3400,3960,3150,1040,1820,1430,2920,2390,2290,1740,1590,2420,1950,2150,1270,1340,3830,1780,2550,1800,1630,1870,980,1940,1630,1430,1400,2520,1290,1400,2414,1040,3540,2530,2320,2530,1950,3110,1380,2080,1530,2330,3860,1590,2150,2300,2900,1970,1740,1220,780,2210,5930,1780,1720,1790,1400,1370,1600,930,810,1770,2310,1620,1140,3370,901,840,1650,1380,910,1230,1740,1290,2150,1120,1790,3290,1540,1010,2970,2190,700,3300,2680,1390,1700,2510,1700,2180,1770,3290,3040,2460,970,1320,1900,3630,1970,2820,2530,710,1210,2370,2300,3110,1990,2630,1300,2180,2770,2120,2830,2810,3520,1990,1320,1300,1260,1950,2110,2980,2068,3380,2810,1320,1580,1620,1740,2120,2780,1390,2610,1460,1360,2807,1340,1160,2470,1110,2240,1920,2270,1530,3330,2643,1250,1130,1450,1150,2080,1080,1960,1830,1980,2010,1820,2340,1780,2450,2410,3380,1740,1995,1760,3000,1540,2160,1810,3200,2970,2290,1820,3010,1360,2080,2280,1370,2340,3170,1380,2500,4210,1870,3580,1480,2610,1700,1240,1660,1620,1130,2350,1570,2780,2540,2500,1760,1940,3010,750,3710,2360,3190,1890,2610,3090,860,3490,2960,3230,1830,1420,1580,1670,2420,1420,1310,1830,1360,2450,4310,2210,1400,2550,2220,3780,4720,2360,1770,1720,2490,1890,1020,1600,3370,1720,1090,2760,2520,1960,1760,1960,1220,2040,2710,930,1010,1860,1440,2670,3160,1890,2810,1230,1200,1670,2140,3050,2570,1840,1250,1560,960,1870,900,2400,1850,1220,2410,3130,2300,1800,1190,1710,1900,880,2060,1680,2130,1700,2680,2520,730,4510,1110,2910,2600,2290,940,1540,1140,2100,2670,2570,1660,1700,1260,2760,2160,1770,2210,2110,1960,2230,2350,1340,2160,1540,1360,1480,2360,1800,2540,1200,710,2640,3010,2770,2310,1880,2280,1380,1650,2030,2130,1690,2510,3530,1840,1860,800,3700,2250,2230,1950,2550,2290,1190,1390,1660,1920,1460,1370,3160,2720,2070,2170,3260,1950,1330,1190,2800,1500,2330,3830,4510,2160,3170,5550,1520,3410,1830,1520,2380,2720,2210,1940,1420,1160,2040,1840,1440,1390,1640,2860,1740,1390,1640,2630,1580,1740,1900,3130,3500,2130,950,1720,830,660,2590,1600,4390,3560,2860,1640,1500,3990,2610,1470,700,3960,2010,3070,1460,1130,1120,1750,1040,1630,3680,1250,2660,2600,1630,890,1290,2420,3680,3020,4240,3130,2880,1070,1740,2100,1060,3280,3070,1150,1710,1180,1050,2520,700,2640,2330,2910,1300,2520,1340,1060,2220,3220,1600,640,3610,3420,1840,2790,3450,2000,2260,1510,2420,1750,2660,2640,1460,1010,1200,4040,1820,5810,2520,2840,840,1730,3140,1920,1460,2840,2430,1610,2780,1160,1850,2120,1060,2380,3045,1700,1240,880,740,2030,2090,920,3690,1700,2020,2030,2690,1750,3270,2330,2420,710,710,1510,1610,1220,2060,1340,1030,2717,1360,1260,2240,2760,3000,1630,900,1620,1610,1730,1640,1780,3800,2980,2780,1890,1240,810,1880,2310,1120,1340,1260,1200,940,860,2390,3550,1470,910,1430,900,2905,1680,1240,3230,2560,2600,1200,1140,3050,800,2630,1960,1950,3600,2060,2730,1530,3060,2860,2460,2500,2820,2070,1780,2200,3240,2880,3180,1310,910,1460,2280,670,1480,2330,2170,1760,5210,2800,2370,2540,2760,2950,2150,2760,840,2890,3560,1210,2620,3200,1060,1740,810,2460,2100,1530,1670,1175,2130,1700,2600,2010,1320,3150,1960,2050,1800,1830,860,2890,1390,3340,2040,3010,2110,2510,2770,1120,1530,1800,1030,1210,1090,1790,1550,2470,1170,2460,3690,1960,1920,1540,1640,1930,1430,2430,2460,2490,880,2110,1360,2000,1810,2230,2740,1980,1040,2000,2020,1980,1200,3580,2010,1730,5960,2530,1680,1600,1760,1670,1800,1280,1650,1590,1900,1500,960,1650,2790,2310,1230,1620,2440,2100,3040,2490,1490,2530,2060,1970,1400,3680,3000,1440,1170,1770,1860,3820,3190,1320,1730,1010,1140,860,1450,1630,1470,2380,2170,2120,1530,2710,2860,2800,1120,1730,2350,2860,4285,4060,1310,2320,2090,2240,1560,840,1830,4475,1800,1250,2440,2910,3060,2230,1270,4300,1580,2570,820,3560,900,1160,3100,2300,2920,1230,2190,1500,3150,1790,2070,2170,720,1120,1420,2630,4740,1280,1260,1048,1640,2380,2530,2160,1470,2280,1280,4610,2690,2440,1930,800,2430,1990,2550,1370,2020,1560,5610,2120,2920,1340,1230,2840,2080,2070,4010,2190,1730,1250,1300,2080,2180,1630,1840,1370,950,1690,1780,2840,2000,1570,2370,1610,2620,3060,2780,1310,1480,1270,1270,890,4280,3210,1870,3990,1160,1060,1100,1190,1030,1140,2260,1860,4080,3280,2870,2300,2230,1920,2740,3440,650,1500,1330,3190,1590,830,2180,1090,2160,2110,1410,1020,5090,1350,3520,2040,1460,1350,1170,1450,2200,1610,2690,1580,2030,1890,2140,3320,1820,1410,1240,1780,4240,1900,1010,2870,1480,2650,1410,3500,3160,1710,2180,2870,1500,1590,1210,1590,1050,2070,1740,1700,1200,1840,1900,3130,1480,3310,1590,1690,1500,2320,3300,1445,1890,1980,2120,760,1300,1160,2340,2710,1980,3100,1680,2090,1940,1930,1680,2090,1000,1860,1990,930,2170,1910,2100,2290,2130,860,2100,3680,1680,1380,2610,870,1210,2550,2430,1330,2375,2480,1580,2740,1920,2200,910,1510,1520,3720,770,3210,1070,1920,750,1660,1910,1650,3230,810,1650,1960,2790,1240,2410,1710,3480,2960,700,2830,1120,1710,2200,3310,2280,1640,3520,2720,1660,2560,2050,2670,990,1880,1870,2500,2570,2940,2150,1330,3220,2140,4070,1350,4270,1320,710,2350,1250,1490,2300,3200,2590,2590,2030,2700,1670,3090,2820,1690,1790,1320,1509,1610,1550,1160,2500,1540,1910,2340,1150,2210,3260,1900,1610,1340,4440,1030,1820,2650,910,1550,2780,3650,2480,3180,3630,3160,2180,3290,1430,1890,1760,2230,1550,3550,2720,1740,1670,1820,2120,1290,1800,1380,740,1720,2470,2760,2540,5150,2270,1470,1280,1970,1390,1020,2250,800,2100,1270,2470,2070,1010,1090,4310,1490,700,1450,1670,1810,1420,2440,920,2320,1660,2550,2420,1470,2030,2310,1900,2420,1010,2710,1340,1310,2650,2580,3500,1040,1930,2190,1530,1480,3370,2240,1650,2630,2330,1970,2820,590,2060,1890,2810,1470,1440,2480,2780,2180,3340,2560,1600,2230,1010,1580,2160,1410,1430,2380,2206,1030,1070,1270,920,1790,480,2140,1650,1510,2910,4960,2710,1810,940,1600,2640,1630,4040,2800,1320,550,1080,880,2030,1500,3180,1260,1390,2650,1630,1785,1260,1380,840,1730,2230,1790,2280,2430,3730,2230,770,1814,1930,1950,2470,1740,1900,4510,1090,1720,1400,2090,1580,2620,1500,2030,3910,1950,2620,1800,1960,1150,2800,1310,1430,2340,1290,760,2090,3060,1110,1790,1830,2440,2790,2510,4560,780,1410,2530,1270,3180,2650,1240,1890,1270,1550,920,2040,1870,1720,2690,3090,1070,1660,2810,2460,1230,2360,1730,2770,3030,2380,1780,1540,1580,3200,2220,1640,1170,3160,2100,2600,1630,2850,2560,980,2160,3030,3560,2260,2270,3480,1900,2390,3730,1780,1630,2140,800,809,580,1140,1760,3370,1940,1360,800,1780,830,3500,1080,1080,870,2830,1880,2340,2040,1310,1370,1310,1640,1770,2050,1340,2240,2170,1260,1880,1620,3330,1370,3170,1080,2800,3460,1930,2370,1180,1580,3960,2420,1910,1440,1670,2620,3040,2990,1740,2240,1610,2730,1360,1430,1840,1820,1070,930,1960,2200,3810,2870,2560,1350,2160,3060,1520,2040,1360,2000,2500,1140,2870,830,3630,2500,2710,2490,1160,1880,2030,2200,2540,1520,2360,3030,3200,2120,1640,1710,1140,2720,1650,1790,1680,2200,770,3280,2080,2790,1780,2170,3000,1540,1270,4410,2790,2410,2250,950,2860,1940,2040,3700,1050,1690,1490,2220,2160,3370,880,940,1750,2860,1400,1710,2810,1580,1580,1440,2420,1930,1190,2240,2550,920,1520,1460,1900,2500,720,1140,3530,1320,2170,2020,1990,2660,2360,1230,1260,1040,1800,1590,3320,2980,1350,1160,1480,1640,2680,2170,2060,1050,1040,1080,1820,3040,2440,2280,1980,3890,2300,910,1140,2390,1150,2330,2420,960,1010,2370,2880,2400,1720,1990,1550,800,930,2550,720,620,2360,1760,2100,2480,1040,2090,2520,700,4030,6500,1840,1090,2980,2790,1280,1510,920,1980,1440,1400,2270,1310,2260,1350,1820,3380,2140,2430,940,2070,1510,2550,700,2340,1510,2070,1150,1980,2560,2270,3550,1330,3470,1550,570,1470,1150,4180,1690,2150,2680,1740,1320,3150,2480,3330,4920,1570,3580,2220,1010,1710,2300,1330,2160,1470,2270,4100,1440,1200,1720,2400,1590,2590,1270,1130,1860,4480,1310,2320,1830,2830,1610,2410,2660,1030,1390,2330,1540,1570,2940,2190,1690,1900,1600,2530,2390,3100,1510,1960,2270,910,1000,2760,2840,1860,1920,840,2390,2100,2430,1880,2160,1430,720,2990,2300,460,1900,2120,1180,520,2070,2250,2050,1250,2130,2250,1880,1520,4010,1660,3400,2320,3170,1680,930,2680,1790,1680,2230,1260,2410,1900,960,1640,1030,1930,2080,3520,890,4860,1040,2820,2590,1540,1190,2770,4010,1140,1910,2340,1170,1290,1810,2220,3830,2920,2630,1400,1490,2170,2630,1240,1300,2430,1890,2440,1780,2830,1560,1980,2070,1490,5190,1740,1940,2150,1850,2880,2420,2020,2280,3010,2280,2950,690,800,1470,1840,1170,1230,1150,1660,1290,2040,4560,1750,3620,1360,2370,1660,2530,870,3180,1870,1940,4220,2930,800,2400,5570,1980,3530,1720,1930,2140,1110,1970,2520,1212,1890,1770,1710,1190,1690,1680,4340,2040,1110,2040,1330,1630,1520,1520,2500,1460,3140,2150,1460,730,2710,2740,2830,1340,2480,2240,2990,2120,2920,1700,1620,760,1230,4960,2030,970,1000,2620,2220,3000,1060,1980,1600,2000,1310,2370,940,2250,2020,5240,4083,1450,1170,3555,1610,960,1680,1380,1040,1380,1850,1740,1920,2010,8020,1860,4390,2880,2820,750,1750,1540,1140,2960,2140,1600,2080,1560,2510,960,3310,1080,2860,4575,2090,2260,1200,2240,1550,2870,2430,900,2830,1620,2510,1790,1640,2240,1870,1500,1710,1620,1980,2980,1670,5470,3080,1870,2070,1290,2550,1010,2200,384,1830,1600,1390,2092,1200,1090,2140,2010,3500,1440,2780,1580,1250,970,3240,1290,3810,1500,2400,1860,1450,5540,1300,1610,3820,2470,3040,1120,1880,1070,1560,1000,2520,1700,4670,1800,3700,1350,1660,1390,2980,1230,1000,2500,1470,2060,1670,1540,1210,3430,1060,3670,4420,1550,1190,1300,2430,4290,3500,1680,1020,1510,910,1320,900,1240,1020,1300,7710,1390,1430,1250,840,2060,1530,700,950,1380,1830,1790,1340,1520,2500,1060,1210,920,1340,960,1630,1840,2260,1730,550,1960,3190,1550,1930,1170,2520,960,3310,2250,1510,1350,2420,1260,1700,2500,2260,1160,3680,1615,1250,1230,1540,1860,2700,3290,1570,1950,1380,1200,1770,1540,2860,4280,3890,2340,2070,2360,2760,1220,3470,2260,720,1730,2660,1030,2890,1410,810,1370,1760,1510,1180,2470,2190,1530,7320,920,2990,2410,1240,1010,2770,2800,1400,2860,4270,2270,2560,900,2010,1690,1520,1220,2790,1760,2100,1820,1850,1870,2580,1750,2210,2850,2630,1750,1100,2620,1200,1920,1690,1680,1280,1310,2700,1940,1520,1620,2090,2400,1860,2500,1970,1850,1970,1890,1310,1870,3070,1400,2680,2030,2320,1760,1870,1280,1730,2060,1030,2620,2510,2040,2410,780,2210,1590,2230,2850,2390,1740,2060,2680,3150,2440,2230,1600,2550,1680,1110,2120,2380,2670,890,3140,3120,1100,1990,1980,1250,1820,1140,1170,2910,970,2130,1360,2120,2700,1540,1490,2760,2630,1130,1180,2800,1830,2220,1870,2580,1330,2630,1810,2060,4660,2370,2430,1880,1150,1350,2180,3370,2100,670,2420,760,2200,1300,720,1130,2230,2060,3060,2810,2550,4290,3040,2530,1300,3250,1970,1940,1850,3900,3160,2040,830,3140,2190,1210,1880,2410,2620,1850,860,2620,2400,1850,4040,1940,3490,3170,2530,3230,2120,1440,1940,1120,1810,1550,1620,2650,2510,1980,2690,2720,1280,2160,1760,800,2040,1180,2000,3310,2300,970,1890,3140,1440,2910,1310,1330,4690,1750,1760,1810,1360,1730,4710,1010,2400,1540,1480,2520,1210,3030,1440,3250,1950,1020,1820,1400,1540,2370,2420,1000,2100,2800,940,1640,2760,3660,3070,1100,1320,1470,1480,2260,2210,1540,1910,1760,2240,2110,1396,3040,1140,3370,1484,2230,2820,2040,2720,1490,1560,830,980,1980,3680,860,1850,1620,2240,1010,1610,2080,1930,2250,1980,1960,1320,2940,1460,2620,700,1140,2750,2480,1130,1710,2150,2250,2960,1740,2830,1240,2510,6630,2300,2270,1840,3820,3360,2970,1190,1670,1200,2250,1040,3180,2040,1160,950,1010,3100,2560,830,2090,1060,3400,1920,1500,1930,1510,5510,1100,1730,1150,3100,2010,2270,2050,650,2780,2730,3140,2410,2600,1400,2220,1660,2330,1440,2920,1760,2090,1770,920,1690,2470,1040,3500,760,3070,2100,1620,1240,2910,2660,2220,1920,2780,3110,1820,1765,1800,1410,1650,1180,800,3530,1410,3360,2890,1750,1010,3780,1880,800,2530,1980,1650,1890,630,1980,990,3420,1300,2040,1960,2720,3250,2570,2120,2080,2150,3230,860,2810,1160,1470,2350,1660,2020,890,2430,1460,980,3140,2680,1810,2090,1120,1790,870,2350,1810,3160,1660,2500,1470,1460,5490,2480,1140,1830,3110,2630,2390,1750,4370,1540,2200,1940,1830,2400,1390,1680,1140,1060,1320,1890,2370,1970,2180,2990,1310,2800,1510,2220,1440,1300,2230,1390,2760,3200,1960,3540,2640,2660,3080,2890,1800,1940,1750,2320,6490,1770,2320,3420,1860,720,4460,1830,1520,1080,1900,1370,2960,2190,3990,1200,2630,2300,3210,2290,2780,2650,1560,1200,1900,710,2990,1640,2920,3680,1830,4260,1920,890,1650,1820,1730,3320,3650,2020,2000,2680,1310,1780,1440,1310,1320,1740,2910,1100,1381,3840,2380,1500,1410,1500,2710,1730,960,2380,1120,2960,1870,1810,2550,1200,3080,3850,1360,3670,2270,1750,3550,2370,1670,1860,4460,1080,2280,2560,2390,2870,1510,2200,2970,1420,1200,4065,2570,1530,1500,1690,2490,1350,3140,2340,1610,3320,1180,1260,1800,1540,1630,2350,1350,1320,1950,2100,3480,1830,900,1710,3400,1270,2960,3040,1430,1520,1800,2720,2210,2120,1570,3150,3870,1840,1120,1440,1200,1150,1240,1900,2350,1020,2680,2660,2200,1010,2310,920,1590,2740,960,2240,2860,3770,2750,2100,1500,2770,2050,1960,1770,3290,5080,1740,3540,1520,290,1310,3000,2660,1200,1010,2010,2420,2732,1910,2020,2090,1580,1020,2120,1360,1430,4140,1313,1590,1080,2730,3800,2540,1810,1390,1460,2350,1980,1250,770,1920,1120,1590,910,2420,2730,2560,2620,2900,1870,2010,1850,2530,940,1510,2070,1390,1840,1600,2940,2740,4360,1540,4660,1590,1180,1470,1690,2310,770,2320,1700,960,2290,2260,1300,1920,4910,2210,2280,1640,1980,900,1800,4270,1520,5430,2190,1200,2180,2320,1040,2700,1400,2060,780,2400,2900,1740,2430,2210,1510,900,3670,1160,1070,950,1590,1690,1397,2000,2250,840,2470,1480,1570,3250,1480,3610,2040,3850,3230,2440,1490,1150,900,3900,1240,1410,2780,3230,4600,1440,1200,1480,2475,2950,2240,2100,1936,3700,2130,1620,4180,1400,3490,1300,1830,2340,1410,3180,1020,1650,2620,1830,998,2070,1210,4890,3420,2870,1600,2575,3660,2890,3390,2930,1250,2310,1360,1270,2790,2030,2520,1340,2690,2475,1720,4170,4310,3010,1584,1110,2420,1430,2393,1240,2980,2970,2029,3430,3330,1500,1260,4168,1072,2790,830,2280,1570,830,4120,2540,3080,2390,1240,1090,4630,3230,3510,1785,2360,1620,3890,3590,1984,3040,1260,3210,1620,1430,1850,2670,1550,3470,3010,3931,1800,1570,2423,1160,2052,2780,1370,1420,980,1790,2010,2370,2560,1900,1350,2650,1500,1320,3120,1540,1800,3640,2440,2060,2538,4270,1320,3340,1590,2710,3140,1445,2430,1370,5330,1710,2650,2590,2610,1770,3730,3330,1910,2437,4180,1800,2090,2789,2906,2550,3550,3250,4590,3070,2610,3150,1680,4800,3590,2490,2150,2440,1450,2690,2650,2310,1400,2020,4280,2340,2220,1360,1120,4490,3560,2150,2130,1847,3510,2240,1390,2710,1720,1760,2270,1690,2880,2700,2210,2370,2410,3360,2140,1720,2658,1480,1350,1690,1270,2655,1270,1728,1950,3170,1233,2570,1560,2223,2710,2090,2500,3360,2280,3520,1320,3410,2730,1780,1427,2910,3250,1680,1290,3940,2170,3290,2550,1140,2300,2670,2440,2710,2015,3060,1390,1240,1410,2448,2600,3330,1160,1330,1610,2800,2820,1710,1220,1650,1130,2690,1600,1000,1260,1190,1520,4700,1480,2380,1640,1650,5305,1278,1200,3202,1347,2960,740,2310,1490,1481,1730,3900,3230,2311,1810,3290,3250,1380,1430,3490,910,2280,1660,3320,2584,2217,2480,2610,3240,3569,1570,1940,1940,2210,1520,1230,2350,1300,2020,1380,2730,4220,1570,4670,3273,3880,1494,2930,2598,2242,2830,2710,2320,1650,1430,2090,3660,3460,3000,2950,2530,4650,710,3050,1370,1714,3284,3550,1860,2540,3270,980,1150,1820,1580,2900,2620,3266,1076,1680,1930,2240,1210,3760,3600,2050,2580,1280,1370,1794,5120,2160,1490,2950,2700,3130,3620,2481,1730,1420,3160,1320,5220,2260,1620,2280,3400,2310,830,4130,1600,3190,3860,2040,3845,2650,3430,2430,2876,2550,4100,1880,3090,2910,1930,2360,3800,3200,1970,2830,2630,2720,3160,3770,3500,2710,1540,3720,3240,3340,1180,2890,1450,2930,2710,3600,1800,2290,1510,1270,1540,2930,2430,2730,1420,5060,1490,2820,4140,982,1834,3130,2730,1380,2330,1730,2350,3350,1530,2620,1300,2490,1320,1800,3360,2514,3130,2720,1390,4920,2134,2560,2220,1910,4150,3310,2020,3310,2798,2020,2400,1760,2692,1490,1852,4810,5635,1520,1090,3216,2970,2610,1340,3300,1630,1590,1310,3600,2154,1360,2891,2320,2060,1400,4410,4410,2432,1860,2701,1540,2242,2060,1160,2245,3400,4270,3220,4010,1140,3510,3010,1658,2420,893,3020,2470,2009,1530,2630,3230,2242,1230,3020,3400,830,3110,1910,3230,2830,1530,4420,1450,1160,1640,1444,1620,1450,2744,1420,4110,840,2580,1270,1861,2260,4150,1500,830,1870,1240,1630,1584,2840,3910,1730,1840,3440,4690,3500,2440,3010,2060,1580,4280,2815,2620,3250,2510,1580,1360,1571,1405,1420,3030,2670,1170,1480,2700,1601,2540,3172,2850,3860,1180,1410,2600,1380,1620,1370,1220,1280,770,1210,2890,1580,1530,3670,3990,1270,3120,2760,1460,3980,3320,3270,2670,1410,2475,1600,2530,1640,2229,1790,990,3240,1280,1150,3760,1320,1480,3135,1480,1060,1950,1590,4470,1413,1480,1180,1300,2390,3510,1140,1320,2100,2400,1408,1260,2730,1630,2714,1630,5790,2230,1380,1320,1490,1280,3870,1280,1763,1020,1840,1820,2670,1400,1160,1400,1232,2700,2550,1680,1260,2550,3450,1550,4150,3900,1550,2890,1220,1340,2350,3310,1620,1070,2230,1970,4600,3110,1600,1960,1000,1000,1500,2303,1880,3610,1360,2590,4390,3880,1350,2170,1296,1530,1489,1430,1420,3450,1914,1584,3520,2380,1410,3266,2550,1670,1530,2760,1370,3180,1800,1410,3640,1920,2267,5780,2940,2180,2680,1460,4210,2330,3930,3200,1710,3560,4140,1670,1720,1510,1060,1530,2070,2990,1240,3700,1120,2420,2230,2530,2100,2230,1590,3390,1400,1900,1350,3420,3810,2870,2310,1930,1390,1578,1720,4700,1970,1460,1930,1300,1445,860,3040,2510,1220,1280,3740,1852,3190,3400,1090,2360,2460,2025,4410,2810,4490,3070,1984,2760,2770,2990,1540,1400,1680,2260,3400,2930,1239,2100,1200,680,2750,2450,2620,1130,2790,1820,2910,3090,2010,2610,1310,1420,1650,2320,2520,1440,1500,1769,3650,2160,1820,2370,2650,3300,3460,1390,1260,3930,3570,2420,3400,3200,5790,2303,1790,2490,6160,1290,3560,4360,1230,3640,1270,1912,2425,3730,730,1300,1440,1140,1110,2620,1690,1950,3530,3310,2620,1890,4490,3206,4130,2800,2750,1800,2406,1540,2820,2540,1230,1900,2920,1450,2550,1450,3480,1490,1200,3690,1900,2790,1936,1150,2040,2470,2250,1460,2056,1160,1384,1100,2456,4500,1320,5940,1670,1610,3370,2660,1620,1610,1730,1420,1220,2360,1260,1760,3420,2870,1934,1220,1860,1280,1690,1590,2870,2580,1830,2927,1040,2790,1410,4040,3370,1660,1280,2360,4700,3540,1700,1600,1410,1580,3940,4450,2009,2732,2090,980,3170,3030,1280,2490,1620,5520,2580,2050,2430,3060,1800,1740,3560,2980,2840,1660,1410,1420,1860,1340,1580,1890,1320,2150,3340,1850,4240,780,2640,5190,2420,1987,720,1130,2810,1500,2500,3906,1470,3230,3361,1610,3830,1470,3190,3250,2540,3360,860,1330,2578,2640,1260,3340,2840,1530,1780,2390,1960,2738,3691,2340,2510,2542,3150,3010,1660,1770,1960,1889,3420,1720,1740,2450,1190,3753,2160,3820,2250,1540,1240,2760,1480,3740,1950,1530,1820,2760,3010,3236,2910,1280,2840,3250,3030,1983,2440,2313,1260,2820,1160,4390,1570,3410,3480,3430,2880,2990,4490,4100,3870,800,3530,2701,1380,2050,1610,2680,3560,3880,2220,1322,1909,3460,3000,2650,3390,1910,2870,1350,1950,3370,1320,2920,2301,1710,2100,2240,3760,2510,1210,2990,3274,3300,4370,2050,1310,1330,1950,1590,3010,1330,1550,1260,1170,4170,1680,2864,1630,2716,1750,3223,2600,1350,1458,2190,3640,2790,2632,2910,1470,2310,2370,2980,1870,3281,1670,2760,5430,2990,3520,1650,2656,2280,2798,2398,2350,2410,1450,1750,1867,1020,2475,1110,2510,1660,1914,2730,2470,2340,2660,2410,1430,1570,3010,1613,2570,2550,1160,3240,2710,1860,1280,1460,5010,2510,2710,3217,1650,2300,3010,3630,3530,2280,3090,550,3130,2840,2623,1260,3370,1250,1520,2000,2580,6880,2570,1690,2790,1720,2890,1130,1460,2510,3390,3570,2280,2920,2590,3210,3800,1500,2510,1400,1450,3160,4350,1290,1606,4460,2800,4310,1240,1950,2650,820,2620,3980,2540,3910,1580,2510,1000,3060,1980,980,1050,1900,2200,2238,2517,1290,3140,3350,2245,1420,1560,1630,1390,2850,4100,3660,2708,1800,1150,3540,2670,1430,2670,1970,1980,2010,1270,3950,1870,2810,1400,1950,1930,2210,1480,750,1340,2330,2360,1495,3770,1320,2330,2960,1630,5230,3280,3130,1240,3560,2170,1520,3610,2300,1460,1750,3030,1522,4590,3220,3170,3850,3040,1630,4200,2430,1510,2700,4360,7270,1350,1380,1830,1470,2790,3570,1230,1370,1380,4920,5150,4300,2610,3310,1060,4420,1650,2380,1170,2531,998,1160,1980,3030,1490,2370,1820,1260,4350,1100,2198,1230,1400,2110,1590,3370,2470,3080,1540,980,1450,1140,3070,1680,3087,940,1730,2780,1500,710,1260,1870,1430,1210,2540,4910,2770,2500,1530,3600,3118,3990,4470,1500,2270,2520,1530,1020,1020],\"z\":[221900.0,538000.0,604000.0,1225000.0,257500.0,468000.0,310000.0,400000.0,395000.0,485000.0,189000.0,385000.0,2000000.0,285000.0,252700.0,329000.0,233000.0,937000.0,667000.0,438000.0,580500.0,280000.0,687500.0,535000.0,322500.0,696000.0,550000.0,640000.0,605000.0,625000.0,775000.0,861990.0,685000.0,309000.0,488000.0,785000.0,228000.0,600000.0,885000.0,292500.0,951000.0,650000.0,289000.0,505000.0,549000.0,425000.0,317625.0,975000.0,287000.0,204000.0,1325000.0,1040000.0,571000.0,360000.0,832500.0,380000.0,410000.0,390000.0,360000.0,355000.0,315000.0,940000.0,305000.0,461000.0,215000.0,335000.0,243500.0,430000.0,700000.0,905000.0,199000.0,314000.0,437500.0,850830.0,555000.0,699950.0,1088000.0,290000.0,460000.0,188500.0,470000.0,597750.0,272500.0,329950.0,480000.0,740500.0,518500.0,205425.0,391500.0,445000.0,770000.0,445000.0,260000.0,822500.0,784000.0,453246.0,199000.0,220000.0,452000.0,382500.0,519950.0,665000.0,527700.0,921500.0,890000.0,430000.0,258000.0,511000.0,532170.0,350000.0,215000.0,650000.0,320000.0,247000.0,320000.0,255000.0,441000.0,420000.0,370000.0,653000.0,371500.0,313000.0,673000.0,399950.0,385000.0,269950.0,260000.0,589000.0,163500.0,835000.0,1095000.0,560000.0,585188.0,305000.0,166950.0,799000.0,400000.0,230000.0,256883.0,423000.0,465000.0,385000.0,297000.0,470000.0,226500.0,840000.0,677900.0,180250.0,464000.0,625504.0,592500.0,477000.0,445838.0,1072000.0,467000.0,686000.0,279950.0,527000.0,325000.0,328000.0,390000.0,264950.0,500000.0,315000.0,213000.0,475000.0,1025000.0,800000.0,472000.0,225000.0,210000.0,480000.0,2400000.0,260000.0,455000.0,245000.0,592500.0,385000.0,255000.0,693000.0,780000.0,237000.0,525000.0,369900.0,290000.0,285000.0,415000.0,1365000.0,210000.0,236000.0,331000.0,770000.0,304900.0,780000.0,370000.0,467000.0,675000.0,500000.0,389999.0,360000.0,580000.0,550000.0,879000.0,265000.0,404000.0,267500.0,3075000.0,335000.0,576000.0,610750.0,201000.0,2384000.0,1384000.0,1400000.0,305000.0,548000.0,268750.0,819900.0,520000.0,230000.0,232000.0,274975.0,740000.0,790000.0,880000.0,295000.0,940000.0,260000.0,559900.0,791500.0,265000.0,684000.0,425000.0,309600.0,552250.0,165000.0,239900.0,320000.0,206600.0,299000.0,855000.0,437500.0,375000.0,300000.0,420000.0,900000.0,679900.0,463000.0,380000.0,329500.0,604950.0,795000.0,810000.0,338000.0,280000.0,315000.0,380000.0,297000.0,730000.0,450000.0,275000.0,270000.0,950000.0,1350000.0,799000.0,365500.0,252350.0,403950.0,385000.0,345000.0,490000.0,330000.0,927000.0,1118000.0,365000.0,378750.0,269900.0,360000.0,322500.0,650000.0,450000.0,840000.0,517534.0,632925.0,577500.0,570000.0,563500.0,355000.0,1550000.0,482000.0,625000.0,538000.0,375000.0,310000.0,397000.0,328500.0,988000.0,1000000.0,237000.0,525000.0,749000.0,722500.0,438000.0,578000.0,227950.0,196000.0,641000.0,205000.0,400000.0,1030000.0,475000.0,520000.0,333500.0,811000.0,551000.0,705000.0,578000.0,1050000.0,230000.0,359500.0,330000.0,80000.0,465000.0,325000.0,290900.0,1199000.0,1150000.0,859900.0,520000.0,460000.0,438924.0,590000.0,378500.0,328500.0,525000.0,1067000.0,207950.0,699900.0,452000.0,669950.0,397500.0,490000.0,299000.0,625000.0,437500.0,475000.0,342000.0,1197350.0,240000.0,529000.0,615000.0,1485000.0,1095000.0,290000.0,615000.0,308000.0,2250000.0,890000.0,190000.0,235000.0,275000.0,727500.0,650000.0,1600000.0,365000.0,662000.0,160000.0,595000.0,280000.0,318888.0,530000.0,375000.0,782000.0,315000.0,215000.0,705000.0,1450000.0,261000.0,396000.0,725000.0,1950000.0,238000.0,331500.0,460000.0,404950.0,880000.0,863000.0,638700.0,435000.0,260000.0,671500.0,610000.0,405000.0,338900.0,650000.0,300000.0,266000.0,930000.0,180000.0,619000.0,264000.0,730000.0,439000.0,268500.0,330000.0,640000.0,900000.0,370000.0,505000.0,265000.0,296000.0,240500.0,372500.0,595000.0,515000.0,1220000.0,507000.0,185000.0,460000.0,531000.0,223000.0,340000.0,650000.0,533600.0,695000.0,242000.0,485000.0,210000.0,577000.0,200000.0,325000.0,289500.0,559950.0,543500.0,480000.0,218000.0,565000.0,426700.0,650000.0,542000.0,415000.0,214000.0,314500.0,305000.0,430000.0,530000.0,157000.0,220000.0,521000.0,325000.0,337000.0,3070000.0,495000.0,888000.0,496500.0,312000.0,323000.0,331000.0,306000.0,655000.0,290000.0,1250000.0,460000.0,435000.0,865000.0,385000.0,497000.0,280000.0,478500.0,1145000.0,222000.0,799000.0,609900.0,413000.0,400000.0,320000.0,387500.0,373000.0,1484900.0,359900.0,690000.0,245000.0,700000.0,268000.0,225000.0,980000.0,480000.0,485000.0,130000.0,325000.0,550000.0,310000.0,530000.0,390000.0,243000.0,639000.0,215000.0,250000.0,405500.0,452000.0,289950.0,565000.0,1578000.0,350000.0,320000.0,210000.0,245000.0,328000.0,985000.0,501000.0,315000.0,403000.0,550000.0,365000.0,605000.0,1300000.0,233000.0,360000.0,459000.0,740000.0,305000.0,395000.0,650000.0,449950.0,435000.0,950000.0,447000.0,699800.0,850000.0,316500.0,942500.0,405600.0,565000.0,400000.0,405300.0,560000.0,260000.0,405000.0,429900.0,341500.0,465250.0,450000.0,420000.0,269950.0,493000.0,370000.0,2250000.0,400000.0,320000.0,650000.0,460000.0,232500.0,408200.0,522000.0,675000.0,1355000.0,249950.0,429950.0,737500.0,710000.0,470000.0,650000.0,1216000.0,385200.0,308000.0,565000.0,581000.0,361000.0,419000.0,625000.0,379000.0,310000.0,682000.0,246500.0,325000.0,310950.0,1100000.0,287500.0,226000.0,175000.0,465750.0,350000.0,270000.0,662500.0,249900.0,430000.0,285000.0,282000.0,320000.0,428750.0,456500.0,352000.0,664000.0,628000.0,254000.0,535800.0,287653.0,438000.0,450000.0,327000.0,370500.0,265000.0,425000.0,166600.0,245000.0,539900.0,280000.0,457500.0,381156.0,469950.0,860000.0,1095000.0,390000.0,229000.0,185000.0,414900.0,225000.0,720000.0,930000.0,1270000.0,700000.0,466000.0,374000.0,480000.0,740000.0,1010000.0,395000.0,340000.0,209000.0,431650.0,980000.0,660000.0,905000.0,800000.0,839900.0,200000.0,530000.0,255000.0,550000.0,435000.0,234000.0,615000.0,205000.0,384000.0,324000.0,645000.0,570000.0,324000.0,270000.0,290000.0,250000.0,800000.0,451000.0,990000.0,288400.0,390000.0,300000.0,891000.0,299995.0,253000.0,315000.0,570000.0,971000.0,915000.0,1029900.0,460500.0,720000.0,550000.0,323000.0,345500.0,378000.0,650000.0,425000.0,210000.0,630000.0,335000.0,196500.0,582800.0,440000.0,752500.0,532500.0,524250.0,765000.0,648000.0,469500.0,379000.0,326100.0,535000.0,283000.0,260000.0,640000.0,178500.0,291000.0,199950.0,553500.0,289000.0,270000.0,258000.0,530000.0,245000.0,515000.0,325000.0,280300.0,460000.0,475000.0,900000.0,538200.0,429000.0,164808.0,475000.0,283000.0,840000.0,375000.0,349500.0,446450.0,315000.0,271310.0,245000.0,900000.0,249900.0,768000.0,980000.0,550000.0,512031.0,470000.0,499000.0,515000.0,716500.0,410000.0,850000.0,1050000.0,648000.0,620000.0,699000.0,528000.0,249500.0,1035480.0,790000.0,399950.0,275000.0,140000.0,250000.0,318000.0,505000.0,360000.0,356700.0,208000.0,825000.0,515000.0,675000.0,360000.0,225000.0,837700.0,575000.0,430000.0,241000.0,151000.0,1570000.0,631000.0,285000.0,1127000.0,609850.0,285167.0,660000.0,525000.0,690000.0,353000.0,224500.0,975000.0,1200000.0,302000.0,170000.0,195000.0,272000.0,269000.0,1278000.0,400000.0,219000.0,605000.0,625000.0,687500.0,225500.0,252500.0,510000.0,510000.0,725000.0,310000.0,350000.0,790000.0,305000.0,315000.0,267500.0,1750000.0,435000.0,482500.0,5110800.0,439995.0,194000.0,290000.0,274700.0,1150000.0,605000.0,850000.0,505000.0,565000.0,749950.0,826000.0,535000.0,925000.0,875000.0,902000.0,423000.0,235000.0,545000.0,343000.0,405000.0,220000.0,173000.0,655000.0,632000.0,357000.0,361000.0,277000.0,630000.0,254000.0,472800.0,263000.0,179950.0,525000.0,479000.0,651000.0,949000.0,585000.0,460000.0,470000.0,500000.0,455000.0,1875000.0,100000.0,307000.0,475000.0,320000.0,735000.0,211000.0,457000.0,349000.0,360000.0,250275.0,270000.0,438000.0,659000.0,685100.0,350000.0,170000.0,880000.0,780000.0,1225000.0,449000.0,546000.0,317000.0,276900.0,399000.0,495000.0,258000.0,600000.0,265000.0,682000.0,295700.0,609000.0,995000.0,530000.0,614000.0,390000.0,467000.0,484000.0,340000.0,302495.0,532500.0,441500.0,470000.0,2300000.0,590000.0,320000.0,363000.0,747500.0,750000.0,831000.0,445000.0,371025.0,355000.0,270000.0,425000.0,325000.0,350000.0,255000.0,550000.0,835000.0,925000.0,389250.0,588000.0,360000.0,275000.0,428000.0,316000.0,533000.0,556000.0,225000.0,537250.0,255000.0,548000.0,600000.0,279950.0,267500.0,620000.0,625000.0,389000.0,1200000.0,567000.0,605000.0,430000.0,805000.0,647500.0,495000.0,825000.0,445950.0,960000.0,780000.0,274500.0,464950.0,620000.0,450000.0,842500.0,360000.0,585000.0,461000.0,345000.0,1075000.0,690000.0,549000.0,933399.0,290000.0,372000.0,450000.0,303700.0,672000.0,334000.0,260000.0,749950.0,330000.0,830000.0,1131000.0,320000.0,225000.0,279200.0,520000.0,505000.0,234000.0,503000.0,606000.0,433500.0,719000.0,381000.0,267000.0,275000.0,651000.0,490000.0,519900.0,545000.0,1062500.0,542000.0,465000.0,292000.0,253000.0,280000.0,658588.0,635000.0,439000.0,300000.0,283500.0,425000.0,706000.0,445000.0,799000.0,1400000.0,340895.0,780000.0,350000.0,354000.0,715000.0,265000.0,640000.0,290000.0,480000.0,535000.0,907000.0,459000.0,352950.0,491500.0,1229000.0,290000.0,180000.0,215000.0,235867.0,500000.0,672500.0,755000.0,459000.0,495000.0,757000.0,359000.0,440000.0,400000.0,260000.0,650000.0,515000.0,235000.0,640000.0,455800.0,504750.0,483000.0,530000.0,250000.0,229950.0,884744.0,423000.0,420000.0,521000.0,425000.0,495000.0,340000.0,499950.0,206135.0,300000.0,1102030.0,355000.0,442000.0,399000.0,360000.0,432900.0,621138.0,270000.0,500000.0,715000.0,264000.0,550000.0,337000.0,405000.0,775000.0,425000.0,713000.0,555000.0,1250000.0,819000.0,935000.0,420000.0,1300000.0,375000.0,860000.0,495000.0,365000.0,503000.0,450000.0,355000.0,245000.0,265900.0,299000.0,343000.0,307500.0,610000.0,720000.0,610000.0,607010.0,828500.0,199990.0,789500.0,539950.0,140000.0,440000.0,605000.0,380000.0,352000.0,1375000.0,300000.0,1150000.0,453500.0,443500.0,475000.0,372500.0,1050000.0,500000.0,900000.0,327500.0,455000.0,650000.0,895000.0,703770.0,249950.0,336000.0,285000.0,229900.0,378000.0,454000.0,537500.0,425000.0,290000.0,349500.0,370000.0,208000.0,248000.0,610000.0,750000.0,192000.0,1198000.0,880000.0,210000.0,540000.0,520000.0,177500.0,415000.0,495000.0,411000.0,810000.0,561750.0,835100.0,450000.0,238000.0,299000.0,570000.0,340000.0,272750.0,520000.0,284950.0,231500.0,415000.0,365000.0,425000.0,400000.0,335000.0,342000.0,490000.0,331500.0,720500.0,830000.0,662990.0,396000.0,293000.0,339000.0,285000.0,775000.0,224000.0,2250000.0,165050.0,275000.0,445000.0,1230000.0,390000.0,460000.0,874150.0,470000.0,374000.0,510000.0,467000.0,576000.0,196440.0,825000.0,326000.0,440000.0,749000.0,561000.0,270000.0,600000.0,219900.0,617000.0,469000.0,229000.0,365000.0,429000.0,550000.0,187500.0,799000.0,800000.0,360000.0,442500.0,830000.0,360400.0,345000.0,300000.0,350000.0,368000.0,264000.0,200000.0,620000.0,1679000.0,337000.0,1928000.0,544500.0,445000.0,379500.0,469000.0,600000.0,785000.0,508000.0,397000.0,451555.0,300000.0,490000.0,1038000.0,550000.0,535000.0,599950.0,531000.0,530000.0,597326.0,390000.0,487250.0,301000.0,299000.0,2350000.0,400000.0,467500.0,210000.0,327500.0,269000.0,355000.0,712000.0,883000.0,190000.0,920000.0,285000.0,341000.0,686000.0,225000.0,215500.0,503000.0,580000.0,465000.0,206000.0,519000.0,330000.0,574000.0,930000.0,850000.0,415000.0,480000.0,300000.0,439000.0,587500.0,1315000.0,1430000.0,275000.0,367500.0,255000.0,360000.0,460000.0,469000.0,550000.0,565000.0,189650.0,1525000.0,260000.0,243000.0,1100000.0,249000.0,720000.0,762500.0,380000.0,520000.0,175000.0,353500.0,210000.0,315000.0,339000.0,655000.0,740000.0,405000.0,207000.0,475000.0,365000.0,411800.0,668000.0,618000.0,247500.0,345000.0,425000.0,850000.0,820000.0,835000.0,349000.0,1125000.0,340000.0,785500.0,580000.0,550000.0,449500.0,300000.0,915000.0,599000.0,755000.0,375000.0,485000.0,470000.0,1045000.0,548800.0,315000.0,590000.0,439950.0,325000.0,400000.0,685000.0,339950.0,315000.0,577000.0,500000.0,210000.0,640000.0,740000.0,230000.0,432000.0,255000.0,490000.0,333800.0,690000.0,320000.0,335000.0,840000.0,608250.0,550000.0,275000.0,1715000.0,2400000.0,930800.0,930000.0,215000.0,483945.0,347000.0,390000.0,550000.0,590000.0,420850.0,302000.0,800000.0,250000.0,605000.0,412000.0,252000.0,375000.0,725000.0,471750.0,490000.0,439000.0,355000.0,409000.0,420000.0,200000.0,695000.0,815000.0,210000.0,635000.0,562500.0,402500.0,555000.0,310000.0,500000.0,430000.0,1600000.0,627500.0,335000.0,299000.0,430000.0,307000.0,194000.0,180000.0,465000.0,470450.0,560000.0,830000.0,276900.0,625000.0,463500.0,485000.0,272000.0,305000.0,760000.0,352000.0,507000.0,156000.0,580000.0,630000.0,275000.0,835000.0,340000.0,329350.0,1480000.0,719950.0,235000.0,475000.0,210000.0,350000.0,464900.0,650000.0,250000.0,340000.0,440000.0,940000.0,399950.0,545000.0,235000.0,272000.0,297000.0,320000.0,319990.0,439900.0,429000.0,272500.0,400000.0,550000.0,460000.0,632500.0,361000.0,437000.0,225000.0,235000.0,767500.0,1200000.0,715000.0,417000.0,199000.0,875000.0,545000.0,192500.0,800000.0,1250000.0,3850000.0,295000.0,419000.0,1195000.0,750000.0,1025000.0,248000.0,800000.0,688000.0,521000.0,365000.0,491000.0,643000.0,310000.0,310000.0,272000.0,870000.0,307000.0,490000.0,399950.0,1635000.0,989000.0,264950.0,491500.0,345000.0,585000.0,405000.0,725500.0,800000.0,1325000.0,180500.0,235000.0,330000.0,678500.0,463000.0,250000.0,655000.0,239900.0,185000.0,1735000.0,251700.0,735000.0,1700000.0,82500.0,765000.0,292500.0,415000.0,950000.0,353000.0,670950.0,280950.0,585000.0,525000.0,605000.0,1010000.0,245990.0,410000.0,665000.0,440000.0,332000.0,280000.0,570000.0,250000.0,265000.0,765000.0,342500.0,270000.0,460000.0,760000.0,234000.0,488000.0,150000.0,275000.0,330000.0,360000.0,568000.0,605000.0,750000.0,760000.0,265000.0,490000.0,360000.0,399000.0,347000.0,1680000.0,585000.0,340000.0,230000.0,604000.0,250000.0,1050000.0,276000.0,327000.0,782000.0,235000.0,453000.0,275000.0,665000.0,670000.0,210000.0,265000.0,529219.0,600000.0,875000.0,220000.0,1760000.0,295450.0,315000.0,310000.0,525000.0,284000.0,510000.0,405000.0,509950.0,600000.0,700000.0,330000.0,468000.0,1339000.0,515000.0,245000.0,265000.0,273000.0,455000.0,618000.0,213550.0,210000.0,403500.0,546800.0,183000.0,560000.0,299500.0,610000.0,288350.0,500000.0,625000.0,660000.0,775000.0,569000.0,250000.0,225000.0,530000.0,306000.0,354950.0,522250.0,275000.0,390000.0,260000.0,585000.0,605000.0,342000.0,900000.0,370000.0,210000.0,290000.0,860000.0,369160.0,993000.0,380000.0,635000.0,260000.0,243000.0,665000.0,898000.0,583000.0,429000.0,471000.0,739500.0,450000.0,226740.0,283000.0,445000.0,250000.0,315000.0,510000.0,328000.0,1365000.0,705380.0,459000.0,815000.0,495000.0,520000.0,430000.0,255000.0,588000.0,350000.0,554000.0,775000.0,1187500.0,618000.0,305000.0,232000.0,262000.0,278000.0,230000.0,500000.0,366500.0,665000.0,575000.0,674750.0,719000.0,482000.0,254000.0,443725.0,575000.0,175000.0,437000.0,550000.0,363000.0,400000.0,650000.0,365000.0,269950.0,260000.0,193000.0,340000.0,900000.0,371000.0,592000.0,300000.0,449950.0,299500.0,335000.0,280000.0,446000.0,1544500.0,450000.0,322500.0,453000.0,655000.0,235000.0,968933.0,1015000.0,435000.0,242000.0,487000.0,810000.0,625000.0,165000.0,286700.0,580000.0,754800.0,575000.0,808900.0,335000.0,473000.0,305500.0,306000.0,233000.0,445000.0,355000.0,737500.0,985000.0,349950.0,355950.0,485000.0,143000.0,3278000.0,355000.0,1126000.0,200000.0,913000.0,1600000.0,409900.0,306000.0,381000.0,408000.0,739900.0,674250.0,438400.0,1700000.0,703000.0,262000.0,1280000.0,824000.0,700000.0,550000.0,549000.0,345000.0,340000.0,275000.0,405000.0,679000.0,543000.0,294000.0,1012000.0,335000.0,425000.0,640000.0,339950.0,195000.0,280000.0,207500.0,195000.0,700000.0,260000.0,285000.0,753888.0,620000.0,155000.0,342000.0,685000.0,608000.0,179900.0,1245000.0,462000.0,545000.0,269000.0,356500.0,225000.0,175000.0,549000.0,627000.0,565000.0,392450.0,509000.0,340000.0,865000.0,358000.0,595000.0,661000.0,419950.0,525000.0,350000.0,299900.0,715000.0,235000.0,276000.0,425000.0,265000.0,175000.0,649000.0,890000.0,612000.0,330000.0,493000.0,1620000.0,499000.0,603500.0,530000.0,267345.0,275000.0,455000.0,690000.0,212000.0,231500.0,378500.0,482000.0,965000.0,387000.0,385000.0,265000.0,134000.0,415000.0,375000.0,620000.0,337500.0,565000.0,399500.0,1065000.0,352500.0,259000.0,733000.0,381500.0,343000.0,205500.0,525000.0,299000.0,561000.0,540000.0,379000.0,230000.0,580000.0,279900.0,210000.0,1165000.0,290300.0,1599950.0,606000.0,359950.0,4500000.0,705000.0,420000.0,169575.0,257500.0,415000.0,536000.0,246500.0,395000.0,1272000.0,190000.0,895000.0,656000.0,560000.0,610000.0,645000.0,980000.0,872000.0,1000000.0,900000.0,840000.0,500000.0,523000.0,225000.0,356500.0,670000.0,456150.0,471000.0,161500.0,311000.0,569000.0,271900.0,278000.0,820000.0,462000.0,562100.0,230000.0,687000.0,725786.0,312000.0,343000.0,385195.0,415000.0,461000.0,369990.0,349950.0,830000.0,705000.0,615000.0,412000.0,250000.0,580000.0,675000.0,373500.0,239950.0,383000.0,610000.0,545000.0,780000.0,405000.0,1110000.0,326500.0,320000.0,223000.0,410000.0,438000.0,390000.0,749999.0,779000.0,649000.0,283000.0,699900.0,700000.0,535000.0,234500.0,374150.0,613000.0,1150000.0,340000.0,404000.0,810000.0,726000.0,266000.0,722500.0,346950.0,866059.0,370000.0,230000.0,400000.0,615000.0,555000.0,579000.0,385000.0,645000.0,678000.0,199000.0,960000.0,416000.0,190000.0,325900.0,560000.0,275000.0,1505000.0,375000.0,359950.0,401000.0,669000.0,524000.0,1610000.0,280000.0,828000.0,223000.0,711000.0,310000.0,415000.0,274900.0,525000.0,179500.0,478000.0,195000.0,401000.0,522000.0,503000.0,845000.0,450000.0,925000.0,709000.0,1385000.0,248000.0,332000.0,460000.0,838300.0,256000.0,865000.0,250250.0,162000.0,450000.0,697000.0,1324050.0,490000.0,590000.0,515000.0,576000.0,375000.0,1400000.0,724950.0,306000.0,341000.0,399950.0,534000.0,635000.0,582000.0,799000.0,423700.0,322000.0,929000.0,443000.0,875000.0,3600000.0,425000.0,660000.0,763101.0,302000.0,335000.0,499000.0,720000.0,249000.0,599950.0,700000.0,525000.0,1049000.0,402000.0,450000.0,520000.0,205000.0,635000.0,406650.0,798000.0,180000.0,1250000.0,355000.0,685000.0,311000.0,305000.0,675000.0,769000.0,430000.0,516250.0,760000.0,579950.0,510000.0,205000.0,240000.0,738000.0,420000.0,455000.0,765000.0,372000.0,160000.0,772000.0,1125000.0,479000.0,350000.0,353000.0,699000.0,265000.0,500000.0,700000.0,295000.0,315000.0,254600.0,230000.0,335000.0,550000.0,123300.0,275436.0,325000.0,635000.0,580000.0,265000.0,313000.0,655500.0,250750.0,438000.0,590000.0,329500.0,900000.0,474000.0,464000.0,310000.0,580000.0,999000.0,650000.0,196000.0,220000.0,855000.0,483000.0,435000.0,219500.0,2950000.0,427000.0,430000.0,495000.0,299950.0,390000.0,385000.0,740000.0,991700.0,765000.0,802000.0,950000.0,392000.0,590000.0,765000.0,313500.0,320000.0,639000.0,335000.0,896000.0,259500.0,637000.0,535000.0,669500.0,259000.0,441000.0,530000.0,524000.0,430000.0,1325000.0,210000.0,449000.0,945000.0,659500.0,746000.0,485000.0,2525000.0,409500.0,453000.0,550000.0,505000.0,770000.0,565000.0,316000.0,160000.0,170000.0,1799000.0,310000.0,285000.0,280000.0,763776.0,430000.0,456500.0,445000.0,479000.0,439000.0,716000.0,308000.0,800000.0,219950.0,770000.0,424950.0,790000.0,580000.0,490000.0,950000.0,365000.0,427500.0,728000.0,549950.0,650000.0,311000.0,228000.0,740000.0,200000.0,660000.0,275000.0,280000.0,495000.0,691000.0,2288000.0,348000.0,425000.0,210000.0,285000.0,200000.0,247500.0,1500000.0,190000.0,975000.0,1130000.0,650000.0,449500.0,400000.0,158800.0,870000.0,850000.0,775000.0,483500.0,350000.0,1320000.0,765000.0,527000.0,524000.0,448000.0,775000.0,1265000.0,759000.0,640000.0,395000.0,473000.0,485000.0,589000.0,580000.0,181100.0,402500.0,389000.0,670000.0,1506000.0,288400.0,1899000.0,350500.0,485000.0,780000.0,720000.0,480000.0,452250.0,700000.0,285000.0,575000.0,590000.0,364000.0,490000.0,410000.0,520000.0,389000.0,450000.0,325000.0,850000.0,285000.0,395000.0,440000.0,515000.0,1135000.0,445000.0,555000.0,537000.0,414000.0,375000.0,365000.0,710000.0,255000.0,528000.0,442000.0,637250.0,393820.0,525000.0,555565.0,650000.0,632500.0,269000.0,405000.0,845000.0,234000.0,290000.0,875000.0,299000.0,350000.0,1901000.0,511718.0,965000.0,475000.0,252000.0,374950.0,739000.0,271000.0,230000.0,325000.0,190000.0,308000.0,1000000.0,439000.0,418000.0,1100000.0,580000.0,256000.0,349950.0,691500.0,556000.0,218000.0,425000.0,935000.0,732000.0,800000.0,600000.0,660000.0,153503.0,1306000.0,843500.0,625000.0,527000.0,725000.0,315000.0,180000.0,476500.0,193000.0,295000.0,363000.0,257200.0,555000.0,380000.0,282000.0,545000.0,550000.0,820000.0,289000.0,206000.0,491950.0,430000.0,208000.0,245000.0,400000.0,325000.0,294000.0,590000.0,445000.0,95000.0,359000.0,452500.0,555000.0,549900.0,569000.0,318500.0,487028.0,240000.0,380000.0,368500.0,835000.0,299000.0,1675000.0,265000.0,437500.0,865000.0,247300.0,2075000.0,425000.0,905000.0,641250.0,845000.0,401500.0,395000.0,145000.0,850000.0,400000.0,454000.0,160000.0,542000.0,403500.0,242500.0,613000.0,189000.0,700000.0,750000.0,494000.0,700000.0,356000.0,625000.0,970000.0,415000.0,485000.0,799950.0,430000.0,2544750.0,975000.0,350000.0,637000.0,579000.0,314900.0,405000.0,553650.0,225000.0,160000.0,449500.0,650000.0,542126.0,309950.0,115000.0,221700.0,515000.0,756000.0,1570000.0,442000.0,260000.0,390000.0,459500.0,330000.0,189000.0,280000.0,400000.0,390000.0,245000.0,375000.0,475500.0,672324.0,420000.0,515000.0,732350.0,297500.0,475000.0,357250.0,289950.0,279000.0,370000.0,216000.0,1100000.0,1280600.0,699000.0,412000.0,100000.0,955500.0,762000.0,425000.0,546000.0,735000.0,445000.0,508500.0,345950.0,1075000.0,640000.0,460000.0,1230000.0,805000.0,200000.0,288000.0,535000.0,330000.0,479200.0,373000.0,275000.0,380000.0,1165000.0,598500.0,629000.0,226950.0,1225000.0,209950.0,119900.0,207000.0,195000.0,324950.0,210000.0,325088.0,150000.0,790000.0,255000.0,697000.0,457500.0,690000.0,619420.0,389000.0,500000.0,569000.0,425000.0,635000.0,256500.0,535000.0,749950.0,338500.0,1250000.0,299950.0,325000.0,434000.0,328950.0,2095000.0,802000.0,525000.0,1575000.0,195000.0,222000.0,445000.0,495800.0,310000.0,205000.0,470000.0,175000.0,690000.0,335000.0,312500.0,436000.0,1015000.0,805000.0,1008000.0,355000.0,334550.0,557500.0,277500.0,300000.0,461000.0,480000.0,539950.0,529000.0,417000.0,299000.0,299000.0,372220.0,494400.0,280000.0,277950.0,770000.0,760000.0,525000.0,307000.0,253779.0,405000.0,680000.0,355000.0,200000.0,330000.0,221000.0,310000.0,200000.0,630000.0,249000.0,495000.0,630000.0,550000.0,350000.0,270000.0,488250.0,248000.0,889000.0,375000.0,933000.0,328000.0,470000.0,252500.0,610000.0,419000.0,322500.0,870000.0,850000.0,458950.0,525000.0,286300.0,218450.0,525000.0,650000.0,356000.0,436500.0,410000.0,512500.0,510000.0,566000.0,525000.0,435000.0,406500.0,550000.0,830000.0,200000.0,219000.0,777000.0,712500.0,600000.0,267000.0,390000.0,387500.0,308550.0,225000.0,715000.0,634000.0,337500.0,440000.0,350000.0,1288000.0,681000.0,397000.0,775000.0,480000.0,158000.0,590000.0,772500.0,620000.0,475000.0,245000.0,660000.0,527500.0,135000.0,213500.0,535000.0,436300.0,1440000.0,380000.0,179950.0,659000.0,317000.0,625000.0,350000.0,750000.0,457000.0,223000.0,610000.0,385000.0,385100.0,230000.0,286000.0,525000.0,530000.0,455000.0,421000.0,640000.0,360000.0,250000.0,775000.0,463000.0,579000.0,570000.0,375000.0,422000.0,470000.0,360000.0,2453500.0,211000.0,222000.0,672000.0,778000.0,650000.0,740000.0,320000.0,2450000.0,500000.0,325000.0,416000.0,549000.0,589000.0,194820.0,405000.0,205000.0,345100.0,200000.0,524500.0,598600.0,367777.0,750000.0,575000.0,255000.0,1740000.0,220000.0,430000.0,680000.0,810000.0,522000.0,411000.0,440000.0,149000.0,284700.0,374950.0,816000.0,533250.0,689800.0,775000.0,160000.0,949000.0,169500.0,586000.0,851500.0,582500.0,637000.0,795000.0,304999.0,240000.0,772000.0,245000.0,430000.0,799000.0,750000.0,2890000.0,532000.0,525000.0,239000.0,460000.0,540000.0,475000.0,1575000.0,294950.0,736000.0,856000.0,775000.0,429592.0,319990.0,889000.0,300000.0,395000.0,173000.0,585000.0,216650.0,675000.0,630000.0,359950.0,265000.0,210000.0,203000.0,620000.0,2200000.0,280000.0,790000.0,442000.0,250000.0,1325000.0,120000.0,2950000.0,325000.0,210000.0,387000.0,408000.0,410000.0,216000.0,357000.0,215000.0,589950.0,730000.0,680000.0,1225000.0,695500.0,308000.0,385000.0,876650.0,450000.0,418800.0,330000.0,270000.0,975000.0,455000.0,1415000.0,490000.0,408500.0,965000.0,7062500.0,425000.0,335000.0,825000.0,575000.0,431500.0,475000.0,1495000.0,540000.0,775000.0,635000.0,405000.0,210000.0,239000.0,515000.0,1379900.0,215000.0,442500.0,311000.0,425000.0,433500.0,450000.0,675000.0,535000.0,577000.0,480000.0,304000.0,998000.0,550000.0,550000.0,210000.0,265000.0,700000.0,1020000.0,1145000.0,460000.0,410000.0,665000.0,364950.0,680000.0,235500.0,576000.0,405000.0,335000.0,432000.0,375000.0,276000.0,450000.0,279000.0,218000.0,735000.0,155000.0,354000.0,202000.0,1495000.0,790000.0,810000.0,241250.0,318700.0,720000.0,291000.0,420000.0,210000.0,762000.0,247500.0,282500.0,395000.0,295000.0,235000.0,770000.0,559950.0,639000.0,2400000.0,820000.0,1385000.0,521450.0,760750.0,759600.0,346150.0,359950.0,430000.0,800000.0,777000.0,526000.0,276000.0,2500000.0,365000.0,2150000.0,690000.0,269900.0,267000.0,310000.0,925000.0,339888.0,439000.0,400000.0,560000.0,703011.0,363000.0,650000.0,465000.0,212500.0,526000.0,383000.0,565000.0,300000.0,405000.0,979000.0,324888.0,252000.0,350000.0,875000.0,280000.0,450000.0,905000.0,382450.0,246700.0,220000.0,262500.0,515000.0,499500.0,135000.0,462500.0,845000.0,660000.0,599999.0,280000.0,1055000.0,875000.0,125000.0,634800.0,359950.0,417000.0,389000.0,1038000.0,698000.0,198500.0,462600.0,550000.0,340000.0,910000.0,661000.0,635000.0,277500.0,360000.0,245000.0,625000.0,750500.0,740000.0,523000.0,339999.0,1210000.0,545000.0,526000.0,701000.0,290000.0,330600.0,4000000.0,260600.0,825000.0,378950.0,415000.0,222000.0,245000.0,215000.0,579100.0,522500.0,489000.0,523000.0,628000.0,359950.0,232000.0,810000.0,245000.0,400000.0,340000.0,552000.0,790000.0,360000.0,775000.0,489200.0,341000.0,335000.0,360000.0,585000.0,1600000.0,2880500.0,300000.0,1045000.0,360000.0,665900.0,470000.0,581000.0,527000.0,875000.0,410000.0,150000.0,373000.0,550000.0,512500.0,369000.0,825000.0,255000.0,1285000.0,270000.0,480680.0,291500.0,305000.0,1875000.0,1570000.0,379260.0,356000.0,571900.0,271500.0,509500.0,527500.0,475000.0,268000.0,780000.0,710000.0,445000.0,729000.0,384400.0,865000.0,514000.0,615000.0,865000.0,755000.0,375000.0,722000.0,725000.0,170000.0,1300000.0,261500.0,619500.0,435000.0,210000.0,489950.0,260000.0,300000.0,235000.0,562000.0,2400000.0,544500.0,912000.0,260000.0,1275000.0,220000.0,370000.0,450000.0,534950.0,465000.0,178000.0,430000.0,183000.0,585000.0,192950.0,599000.0,326500.0,358803.0,537000.0,1155000.0,346950.0,330000.0,325000.0,315000.0,649950.0,316000.0,386000.0,339000.0,167000.0,430000.0,688000.0,834500.0,1075000.0,250000.0,432500.0,485000.0,560000.0,410000.0,455000.0,459500.0,371000.0,395000.0,496752.0,227000.0,330000.0,290000.0,281000.0,1400000.0,485000.0,380000.0,2125000.0,561500.0,242000.0,348500.0,230000.0,562000.0,360000.0,659950.0,458500.0,366000.0,926300.0,660000.0,305000.0,435000.0,318000.0,639000.0,800000.0,437000.0,1150000.0,490000.0,499950.0,160134.0,191000.0,352800.0,458000.0,359950.0,353000.0,717550.0,450000.0,167500.0,550000.0,480000.0,501000.0,527550.0,399000.0,335000.0,660000.0,551000.0,1150000.0,575000.0,1088890.0,515000.0,235000.0,796000.0,2050000.0,270000.0,680000.0,5570000.0,864500.0,1150000.0,335000.0,425000.0,299950.0,864000.0,374950.0,247000.0,475000.0,275000.0,355000.0,1338750.0,325000.0,402000.0,1100000.0,375000.0,396000.0,320000.0,610000.0,249950.0,1250000.0,225000.0,790000.0,812000.0,705000.0,825000.0,379500.0,620000.0,477590.0,490000.0,470000.0,500000.0,370000.0,725000.0,840000.0,390000.0,507000.0,263500.0,369000.0,500000.0,415000.0,197500.0,925000.0,468000.0,355000.0,639000.0,381000.0,1050000.0,670000.0,400000.0,910000.0,360000.0,520000.0,474000.0,728000.0,2000000.0,340000.0,950000.0,673200.0,150000.0,305000.0,469000.0,525000.0,618000.0,295500.0,567035.0,518000.0,300000.0,413107.0,400000.0,555000.0,312000.0,785200.0,749000.0,425000.0,360000.0,369000.0,275000.0,407000.0,320000.0,810000.0,239900.0,450000.0,263400.0,418000.0,390000.0,297000.0,195000.0,554000.0,550000.0,300000.0,315000.0,603000.0,530000.0,397500.0,466000.0,197500.0,412000.0,454000.0,540000.0,250000.0,245000.0,290000.0,477000.0,100000.0,203000.0,599000.0,370000.0,500000.0,549900.0,319000.0,362300.0,640000.0,238000.0,789000.0,456000.0,369950.0,363750.0,585000.0,268000.0,1200000.0,345000.0,851000.0,850000.0,390000.0,345000.0,534500.0,643500.0,535000.0,435000.0,305000.0,799000.0,700000.0,467000.0,760000.0,245000.0,181000.0,880000.0,285000.0,325000.0,405000.0,370000.0,270000.0,800000.0,626500.0,1130000.0,399950.0,419000.0,1160000.0,1405000.0,710000.0,641000.0,1015000.0,865000.0,2485000.0,810000.0,316750.0,652500.0,560000.0,289950.0,415900.0,475000.0,125000.0,238000.0,296000.0,475000.0,425000.0,725000.0,605000.0,302000.0,540000.0,409000.0,560200.0,324000.0,390000.0,441500.0,668500.0,540000.0,1035000.0,758000.0,949880.0,736000.0,670000.0,650000.0,690000.0,413500.0,828200.0,205000.0,465000.0,540000.0,423000.0,173250.0,646000.0,1075000.0,558000.0,354000.0,1125000.0,267500.0,575000.0,328000.0,572500.0,600000.0,827500.0,415000.0,750000.0,800000.0,266000.0,499000.0,440000.0,495000.0,424000.0,760000.0,650000.0,248500.0,538000.0,530000.0,925000.0,565000.0,405100.0,502000.0,425000.0,233500.0,666000.0,330000.0,1490000.0,393000.0,353000.0,260000.0,680000.0,921000.0,319000.0,220000.0,528000.0,405000.0,372977.0,975000.0,800866.0,624000.0,1850000.0,310000.0,315000.0,675000.0,490000.0,154000.0,480000.0,735000.0,357186.0,248500.0,350000.0,390000.0,390000.0,310000.0,717000.0,260000.0,497000.0,716100.0,371000.0,379000.0,720000.0,538000.0,369950.0,274000.0,410000.0,354800.0,650000.0,567000.0,255000.0,370000.0,285000.0,310000.0,475000.0,895000.0,375000.0,480000.0,689000.0,415000.0,318000.0,404000.0,339950.0,215000.0,339900.0,285000.0,550000.0,430000.0,219000.0,555000.0,233000.0,359000.0,407500.0,224000.0,210000.0,719000.0,525000.0,375000.0,988830.0,199950.0,840000.0,285000.0,330000.0,320000.0,382500.0,596000.0,220000.0,325000.0,268000.0,715000.0,228000.0,475000.0,275000.0,215000.0,498800.0,849000.0,1151250.0,825000.0,285000.0,240000.0,261000.0,330000.0,250000.0,350000.0,930000.0,275000.0,952000.0,365000.0,550000.0,350000.0,599000.0,259950.0,240000.0,475000.0,815000.0,572000.0,419500.0,298700.0,549000.0,455000.0,925000.0,620000.0,450000.0,1895000.0,832500.0,245000.0,820000.0,369000.0,1050000.0,653000.0,300000.0,970000.0,360000.0,440000.0,1400000.0,590000.0,266500.0,635000.0,559000.0,895000.0,225000.0,425000.0,572000.0,278000.0,474900.0,611000.0,214100.0,317000.0,436000.0,450000.0,588500.0,482000.0,1575000.0,749000.0,568000.0,239000.0,385000.0,825000.0,815000.0,625000.0,690000.0,450000.0,567500.0,790000.0,875000.0,490000.0,335000.0,385000.0,395000.0,650000.0,692500.0,322400.0,233500.0,400000.0,547000.0,519000.0,1025000.0,365000.0,525000.0,430000.0,325000.0,279000.0,446000.0,226550.0,764000.0,453000.0,702500.0,285000.0,320000.0,425000.0,540000.0,1060000.0,324950.0,600000.0,464000.0,266000.0,775000.0,415000.0,550000.0,280000.0,459000.0,195000.0,235000.0,711800.0,1200000.0,340000.0,600000.0,764000.0,337000.0,1385000.0,249000.0,350000.0,475000.0,397500.0,1525000.0,460000.0,370000.0,1100000.0,430000.0,1085000.0,479990.0,607000.0,625000.0,731100.0,435000.0,465000.0,740000.0,250000.0,300000.0,311000.0,360000.0,475000.0,469950.0,240000.0,232000.0,350000.0,355000.0,475000.0,395000.0,961500.0,479000.0,1150000.0,267000.0,555000.0,490000.0,619000.0,569950.0,549000.0,422500.0,400000.0,692500.0,310000.0,499900.0,492000.0,800000.0,542000.0,1309500.0,308130.0,235000.0,215000.0,210000.0,730000.0,245000.0,540000.0,510000.0,198000.0,950000.0,528000.0,507000.0,447000.0,755000.0,250000.0,320000.0,565000.0,650000.0,432000.0,370000.0,436000.0,395000.0,377691.0,515000.0,169000.0,1297000.0,1500000.0,270000.0,611900.0,169000.0,290256.0,195000.0,630000.0,478000.0,835000.0,623000.0,220000.0,750000.0,525000.0,772650.0,355000.0,669950.0,572000.0,492450.0,813000.0,710000.0,792500.0,675000.0,352000.0,500000.0,685000.0,648475.0,895000.0,368000.0,335000.0,250000.0,162500.0,239000.0,600000.0,852500.0,485000.0,299000.0,383000.0,635000.0,438500.0,545500.0,450000.0,199999.0,375000.0,292600.0,610000.0,397450.0,260000.0,890000.0,344000.0,205000.0,424240.0,589950.0,582000.0,294000.0,690000.0,220000.0,439990.0,215000.0,349900.0,515100.0,620000.0,307000.0,226450.0,350000.0,368000.0,469000.0,210000.0,241500.0,322200.0,279000.0,303000.0,420000.0,249000.0,294950.0,1315000.0,335000.0,1155000.0,560000.0,243400.0,405000.0,495000.0,368500.0,1070000.0,430000.0,412500.0,1122500.0,915000.0,535000.0,390000.0,499000.0,375000.0,349000.0,635000.0,682000.0,150000.0,410000.0,449950.0,194990.0,319950.0,485000.0,478000.0,385000.0,723000.0,279000.0,625000.0,559000.0,303500.0,350000.0,367500.0,589000.0,482975.0,365500.0,570000.0,386591.0,279000.0,407000.0,364250.0,399000.0,766950.0,710000.0,300000.0,263000.0,445000.0,335000.0,307000.0,775000.0,220000.0,518000.0,1600000.0,315000.0,572650.0,350000.0,285000.0,179000.0,610000.0,419000.0,779000.0,695000.0,475226.0,630000.0,575000.0,345000.0,323000.0,425000.0,299800.0,823000.0,200000.0,760000.0,295000.0,497000.0,520000.0,365000.0,459900.0,294700.0,439950.0,535000.0,785000.0,425000.0,654000.0,215000.0,675000.0,665000.0,835000.0,525000.0,844000.0,290000.0,605500.0,762500.0,665000.0,375000.0,342000.0,693000.0,250000.0,880000.0,300000.0,290000.0,1780000.0,299950.0,890000.0,719000.0,785000.0,264000.0,575000.0,1215000.0,475000.0,845800.0,352500.0,347000.0,450000.0,410000.0,810000.0,372500.0,325000.0,280000.0,258000.0,329950.0,836000.0,725000.0,765000.0,439500.0,268000.0,751305.0,304000.0,426500.0,640000.0,230000.0,345000.0,682000.0,657500.0,532500.0,540000.0,578000.0,322500.0,485000.0,575000.0,421000.0,285000.0,700000.0,458000.0,230000.0,432500.0,288000.0,354000.0,119500.0,805000.0,435000.0,260000.0,530000.0,250000.0,681000.0,625000.0,260000.0,538000.0,385500.0,428400.0,346290.0,355000.0,340000.0,565000.0,227000.0,600000.0,569000.0,735000.0,434000.0,465425.0,406430.0,250000.0,266000.0,258000.0,472000.0,530000.0,302282.0,625000.0,362000.0,241500.0,158550.0,450000.0,353000.0,360000.0,272000.0,365000.0,450000.0,275053.0,1880000.0,235000.0,510000.0,463000.0,536000.0,375000.0,630000.0,362000.0,1691000.0,269000.0,370000.0,835000.0,850000.0,575000.0,335000.0,318000.0,242500.0,750000.0,439900.0,2400000.0,435000.0,874000.0,385000.0,110000.0,477000.0,500000.0,885000.0,235000.0,350000.0,350000.0,720000.0,604700.0,343000.0,558000.0,420000.0,392000.0,100000.0,480000.0,212000.0,560000.0,535000.0,720000.0,619950.0,489000.0,415000.0,352500.0,258750.0,152000.0,378500.0,1017000.0,419000.0,895000.0,668500.0,487000.0,538000.0,898000.0,315000.0,516130.0,1157400.0,689000.0,430000.0,299500.0,349950.0,1419000.0,998000.0,575000.0,529900.0,1470000.0,725000.0,286000.0,395300.0,510000.0,248000.0,294010.0,345000.0,660000.0,866000.0,770000.0,259950.0,2466350.0,395000.0,530000.0,798000.0,380000.0,350000.0,325000.0,286900.0,472000.0,263000.0,565000.0,765000.0,1517000.0,405000.0,555000.0,289950.0,487500.0,96500.0,150550.0,339000.0,615000.0,837500.0,250000.0,583000.0,499000.0,550000.0,400000.0,600000.0,265000.0,1087500.0,397500.0,404500.0,225000.0,800000.0,525000.0,1150000.0,565000.0,387000.0,720000.0,1500000.0,235000.0,368250.0,580000.0,1100000.0,648000.0,705000.0,650000.0,335000.0,1460000.0,842000.0,499950.0,730000.0,637800.0,417500.0,550000.0,595000.0,270000.0,739375.0,357562.0,1010000.0,455000.0,415000.0,452000.0,730001.0,665000.0,327500.0,699950.0,424000.0,657000.0,445000.0,450000.0,350000.0,460000.0,385000.0,272000.0,258000.0,450000.0,720168.0,652000.0,569500.0,524950.0,775000.0,653000.0,435000.0,207000.0,540000.0,386000.0,265000.0,455000.0,1795000.0,759000.0,280000.0,690000.0,789900.0,440000.0,980000.0,245000.0,287000.0,435000.0,585000.0,616000.0,565000.0,254000.0,200000.0,172000.0,219900.0,641200.0,473000.0,540000.0,370000.0,1727000.0,275000.0,89000.0,175000.0,342400.0,345000.0,399000.0,550000.0,652450.0,395000.0,449950.0,3418800.0,268500.0,400375.0,429000.0,230000.0,345950.0,483500.0,695000.0,295000.0,513000.0,963000.0,595000.0,942500.0,1029000.0,416500.0,209900.0,802000.0,230000.0,489000.0,497000.0,250000.0,925000.0,390000.0,575000.0,750000.0,235000.0,335000.0,1195000.0,575000.0,440000.0,526000.0,762500.0,840000.0,212500.0,749400.0,663000.0,1476000.0,261000.0,410000.0,336000.0,554000.0,387000.0,514000.0,420000.0,199000.0,320000.0,204995.0,376000.0,705000.0,725995.0,285000.0,731000.0,510000.0,620000.0,796000.0,255000.0,315000.0,2725000.0,490000.0,253000.0,325900.0,425000.0,215000.0,724800.0,295000.0,205000.0,275000.0,685000.0,560000.0,194000.0,316500.0,524950.0,780000.0,241000.0,519000.0,286000.0,400000.0,255000.0,599000.0,330000.0,461000.0,352500.0,435000.0,725000.0,300000.0,252000.0,464625.0,340000.0,1325000.0,587000.0,524000.0,1030000.0,176000.0,249900.0,499500.0,600000.0,294000.0,390000.0,500000.0,263500.0,575000.0,822000.0,500000.0,680000.0,419000.0,450000.0,650000.0,550000.0,330000.0,2385000.0,230000.0,750000.0,321000.0,2196000.0,510000.0,751000.0,675000.0,312000.0,730000.0,150000.0,650000.0,530000.0,248000.0,240000.0,228000.0,399950.0,525000.0,175000.0,329950.0,445000.0,237000.0,1112500.0,438900.0,1280000.0,600000.0,270000.0,1000000.0,330000.0,657500.0,450000.0,792500.0,229900.0,239000.0,427500.0,302000.0,1150000.0,555000.0,495000.0,495000.0,340000.0,686000.0,555000.0,361500.0,1240000.0,154950.0,247200.0,250000.0,590300.0,541125.0,277500.0,289200.0,185000.0,345000.0,589950.0,309950.0,775000.0,590000.0,517500.0,700000.0,699000.0,350000.0,795000.0,543000.0,259000.0,524400.0,260000.0,420000.0,510500.0,300000.0,407450.0,610000.0,375000.0,300000.0,525000.0,455000.0,390000.0,450000.0,382000.0,287000.0,435000.0,575000.0,197000.0,340000.0,560000.0,670000.0,650000.0,650000.0,289950.0,300000.0,471000.0,639000.0,287000.0,675000.0,738515.0,445000.0,346000.0,350000.0,2400000.0,594950.0,219000.0,421500.0,560000.0,337500.0,792000.0,435000.0,575000.0,364000.0,335000.0,219950.0,535000.0,253000.0,650000.0,606000.0,289950.0,257500.0,380000.0,360000.0,269500.0,449000.0,375000.0,2200000.0,810000.0,994000.0,635000.0,280000.0,574000.0,545000.0,630000.0,400000.0,334000.0,332500.0,525000.0,411100.0,409124.0,335950.0,280000.0,668000.0,394475.0,675000.0,175000.0,560000.0,538888.0,359000.0,300000.0,273000.0,670000.0,530000.0,625000.0,533000.0,549950.0,485000.0,435000.0,241000.0,885000.0,799200.0,270000.0,499000.0,1202500.0,320000.0,275000.0,490000.0,550000.0,277000.0,535000.0,1450000.0,490000.0,625000.0,410000.0,670000.0,313000.0,950000.0,751750.0,760000.0,367500.0,580000.0,580000.0,665000.0,239950.0,470000.0,733000.0,402000.0,295000.0,355000.0,289000.0,376000.0,212700.0,325000.0,415000.0,240000.0,334950.0,400000.0,1965220.0,400000.0,397500.0,755000.0,287000.0,480000.0,365000.0,260000.0,905000.0,440000.0,439500.0,380000.0,215000.0,239950.0,494000.0,650000.0,250000.0,264950.0,582500.0,817000.0,320000.0,445800.0,842500.0,386000.0,251100.0,435000.0,870000.0,555000.0,280000.0,675000.0,605000.0,690500.0,437000.0,850000.0,350000.0,480000.0,379500.0,600000.0,303000.0,549000.0,324950.0,170000.0,178000.0,345000.0,470000.0,350000.0,225500.0,565000.0,315000.0,481500.0,238950.0,722500.0,795000.0,775000.0,645000.0,257950.0,245000.0,725000.0,330000.0,480000.0,152000.0,445000.0,595000.0,278500.0,343566.0,286285.0,550000.0,900000.0,449950.0,259000.0,340000.0,490000.0,344950.0,950000.0,810000.0,377000.0,595000.0,313300.0,360000.0,755000.0,1289000.0,455000.0,817500.0,550000.0,320000.0,1153000.0,653000.0,760000.0,775000.0,1339000.0,525000.0,525000.0,525000.0,710000.0,545000.0,194900.0,284000.0,280000.0,280000.0,360000.0,405000.0,483300.0,1925000.0,755000.0,309212.0,219950.0,690000.0,250800.0,941000.0,815000.0,1015000.0,1240000.0,535000.0,775000.0,255000.0,327000.0,560000.0,199500.0,760000.0,527000.0,199950.0,585000.0,450000.0,565000.0,330000.0,585000.0,500000.0,225000.0,775000.0,280000.0,539000.0,610000.0,544900.0,557500.0,532500.0,1350000.0,530000.0,346100.0,260000.0,365000.0,615000.0,318400.0,234000.0,121800.0,805000.0,410000.0,1337500.0,269000.0,573000.0,252750.0,301000.0,600000.0,538900.0,303000.0,432000.0,908800.0,500000.0,254000.0,470000.0,550000.0,260000.0,740000.0,425000.0,230000.0,267500.0,814000.0,460000.0,715000.0,370000.0,453000.0,290000.0,1035000.0,925000.0,600000.0,354000.0,204950.0,472500.0,549950.0,575575.0,340000.0,299950.0,515000.0,601000.0,371500.0,550000.0,242550.0,367500.0,359000.0,850000.0,187000.0,326000.0,330000.0,612000.0,400000.0,941500.0,530000.0,415000.0,639500.0,580379.0,378000.0,212000.0,384900.0,176000.0,350000.0,168000.0,358000.0,442500.0,554000.0,659000.0,275000.0,193000.0,525000.0,424000.0,463000.0,523000.0,615000.0,1515000.0,870000.0,710000.0,215000.0,590000.0,323000.0,279000.0,535100.0,830000.0,815000.0,505000.0,253905.0,369950.0,650000.0,295000.0,246000.0,430000.0,490000.0,385000.0,303500.0,449950.0,235000.0,520000.0,203000.0,657000.0,275000.0,540000.0,455000.0,458500.0,750000.0,235000.0,286000.0,640000.0,267000.0,244500.0,990000.0,480000.0,305000.0,253000.0,385000.0,319000.0,345000.0,380000.0,647500.0,725000.0,269950.0,875000.0,299950.0,1875000.0,430000.0,275000.0,333000.0,247000.0,432000.0,175000.0,286000.0,320000.0,1039000.0,350000.0,277000.0,295000.0,969000.0,339888.0,269950.0,1185000.0,780000.0,350000.0,319000.0,311000.0,394000.0,1335000.0,2700000.0,396000.0,480000.0,535000.0,408000.0,292000.0,585000.0,399950.0,235000.0,212000.0,310000.0,539000.0,390000.0,560000.0,800000.0,1900000.0,472000.0,502550.0,224950.0,375000.0,645000.0,599000.0,135000.0,485000.0,890000.0,299500.0,800000.0,320000.0,599000.0,580000.0,269500.0,274000.0,270000.0,457500.0,340000.0,657500.0,340000.0,350000.0,1000000.0,299000.0,508000.0,294000.0,320000.0,675000.0,255000.0,334950.0,426000.0,775000.0,343000.0,470101.0,450000.0,1437500.0,525000.0,280000.0,270000.0,406100.0,332544.0,685000.0,461000.0,1060000.0,685000.0,1555000.0,312000.0,507500.0,217000.0,439000.0,620000.0,915000.0,425000.0,305000.0,327500.0,810000.0,715000.0,272000.0,400000.0,509500.0,495000.0,230000.0,235000.0,350000.0,900000.0,250000.0,255000.0,161700.0,410500.0,502700.0,505000.0,250000.0,465000.0,625000.0,355000.0,885000.0,1030000.0,428040.0,546000.0,540000.0,435000.0,284000.0,208000.0,315000.0,417500.0,345000.0,375000.0,389800.0,569000.0,280000.0,315000.0,612000.0,591000.0,800000.0,589900.0,565000.0,499000.0,280000.0,420000.0,319990.0,265000.0,452000.0,1488000.0,375000.0,588000.0,280500.0,210500.0,196500.0,1395000.0,1580000.0,640000.0,316000.0,299000.0,736500.0,665000.0,215000.0,275000.0,415000.0,690000.0,320000.0,750000.0,355000.0,246000.0,1155000.0,744000.0,1210000.0,217000.0,583000.0,515000.0,303100.0,430000.0,708000.0,221000.0,1295650.0,433000.0,356200.0,595000.0,560000.0,2175000.0,513000.0,365000.0,368000.0,870000.0,225000.0,177000.0,750000.0,149000.0,605000.0,725000.0,413900.0,199950.0,400000.0,870000.0,292000.0,225000.0,770000.0,378800.0,567000.0,209950.0,415000.0,424500.0,365000.0,3800000.0,584000.0,310000.0,667000.0,190000.0,430000.0,475000.0,715000.0,390000.0,390000.0,328000.0,239999.0,225000.0,920000.0,241000.0,307550.0,490000.0,647000.0,780000.0,517500.0,295000.0,560000.0,319450.0,1500000.0,340000.0,249950.0,499950.0,1038000.0,360000.0,354900.0,632000.0,350000.0,990000.0,481000.0,485000.0,560000.0,600000.0,622500.0,289000.0,263000.0,240000.0,587206.0,482000.0,221000.0,700000.0,411500.0,285000.0,395000.0,237950.0,199950.0,765000.0,515000.0,470000.0,330000.0,295000.0,350000.0,240000.0,304700.0,738950.0,215000.0,300000.0,346000.0,750000.0,519900.0,378500.0,314500.0,1735000.0,360000.0,460000.0,361000.0,713400.0,445000.0,305000.0,500000.0,605000.0,393000.0,725000.0,320000.0,210000.0,419900.0,721000.0,605000.0,738000.0,255000.0,394950.0,530000.0,475000.0,250000.0,180000.0,443500.0,390000.0,515000.0,305000.0,835000.0,237000.0,445000.0,180000.0,280017.0,436500.0,1255000.0,420000.0,205000.0,570000.0,565000.0,287000.0,260000.0,700000.0,568000.0,500000.0,358000.0,225000.0,3200000.0,260000.0,630000.0,875000.0,900000.0,235000.0,410000.0,355000.0,1300000.0,467500.0,500000.0,277000.0,630000.0,628000.0,655000.0,352500.0,165000.0,243500.0,304000.0,369000.0,779950.0,605000.0,292500.0,355000.0,258000.0,380000.0,650000.0,259950.0,123000.0,520000.0,425000.0,438000.0,375000.0,300000.0,627000.0,1400000.0,325000.0,485000.0,315000.0,444000.0,118125.0,416000.0,950000.0,7700000.0,878000.0,1045000.0,659500.0,308950.0,710000.0,606400.0,245100.0,195000.0,1615000.0,1450000.0,1200000.0,1065000.0,693000.0,295000.0,767500.0,800000.0,440000.0,600000.0,1160000.0,506000.0,654000.0,710000.0,620000.0,390000.0,550000.0,353000.0,465000.0,700000.0,395000.0,375000.0,547000.0,285000.0,570000.0,260000.0,348000.0,389000.0,445000.0,400000.0,302000.0,798000.0,335000.0,555000.0,3100000.0,265000.0,355000.0,469950.0,435000.0,363500.0,595000.0,275000.0,485000.0,1245000.0,280000.0,449888.0,483000.0,445500.0,379900.0,599950.0,215000.0,263000.0,950000.0,395000.0,1535000.0,922000.0,330000.0,323000.0,554000.0,340000.0,279900.0,849000.0,786000.0,384000.0,907000.0,700000.0,269500.0,749950.0,1150000.0,406000.0,650000.0,295000.0,375000.0,609000.0,510000.0,190000.0,250000.0,295000.0,1070000.0,460000.0,249950.0,450000.0,450000.0,350000.0,879000.0,1184000.0,366000.0,560000.0,695000.0,360000.0,183500.0,311000.0,263000.0,1600000.0,425000.0,679000.0,410000.0,340000.0,450000.0,294000.0,1975000.0,175409.0,339950.0,393000.0,275500.0,250000.0,935100.0,1393000.0,440000.0,1248000.0,203000.0,583000.0,2575000.0,455000.0,1310000.0,325000.0,489950.0,237000.0,390000.0,665000.0,545000.0,597000.0,600000.0,292000.0,265000.0,486000.0,520500.0,1300000.0,825000.0,259900.0,245000.0,650000.0,272000.0,415000.0,319000.0,425000.0,725000.0,460000.0,370000.0,431000.0,296500.0,359000.0,350000.0,242000.0,441000.0,765000.0,375000.0,580000.0,565000.0,365000.0,295000.0,406500.0,250000.0,549000.0,397000.0,184000.0,499100.0,676101.0,290000.0,465000.0,470000.0,415000.0,231000.0,358000.0,330000.0,229950.0,403250.0,470000.0,614285.0,380000.0,622000.0,1320000.0,160000.0,809000.0,411000.0,625000.0,305000.0,575000.0,219900.0,1485000.0,300000.0,520000.0,578000.0,382000.0,535000.0,258900.0,562000.0,860000.0,270000.0,621000.0,320000.0,320000.0,300000.0,1700000.0,1146800.0,678940.0,379900.0,205000.0,387500.0,548000.0,390000.0,415000.0,449000.0,460000.0,395000.0,410000.0,245000.0,482000.0,270000.0,475000.0,445800.0,785000.0,715000.0,560000.0,449000.0,805000.0,296000.0,275000.0,285000.0,775000.0,377000.0,339000.0,481500.0,224500.0,260000.0,645000.0,250000.0,380000.0,540000.0,738500.0,339900.0,250000.0,416500.0,385000.0,253000.0,460000.0,1445000.0,275000.0,542500.0,345000.0,510000.0,830000.0,640000.0,702000.0,960000.0,500000.0,529000.0,435000.0,1270000.0,465000.0,220000.0,1465000.0,1112750.0,415000.0,864000.0,385000.0,545000.0,355000.0,698000.0,566000.0,449950.0,258000.0,320000.0,295000.0,389000.0,299900.0,697000.0,189900.0,345000.0,376500.0,775000.0,450000.0,760000.0,569000.0,500000.0,592500.0,1000000.0,340000.0,458000.0,250000.0,151600.0,515000.0,645000.0,249900.0,410000.0,790000.0,458000.0,925000.0,152000.0,402000.0,775000.0,340000.0,626000.0,324950.0,817500.0,810000.0,978000.0,305000.0,345000.0,713250.0,472000.0,250000.0,725000.0,345000.0,440150.0,390000.0,224950.0,480000.0,174000.0,170000.0,407450.0,195000.0,269950.0,620000.0,276000.0,329000.0,270000.0,440000.0,639000.0,403500.0,585000.0,216000.0,1150000.0,430000.0,400000.0,305000.0,365000.0,325000.0,245000.0,182000.0,440000.0,225000.0,580000.0,325000.0,488000.0,875000.0,615000.0,321000.0,1035000.0,435000.0,222000.0,485000.0,266000.0,455000.0,1450000.0,291000.0,685900.0,160000.0,599000.0,199950.0,490000.0,511500.0,685000.0,597000.0,210000.0,659000.0,540000.0,575000.0,725000.0,299950.0,342450.0,315000.0,328000.0,323000.0,320000.0,550000.0,1646000.0,1212500.0,1200000.0,169900.0,508000.0,335000.0,613200.0,420000.0,1000000.0,342000.0,850000.0,582000.0,475000.0,570000.0,387000.0,330000.0,653450.0,285000.0,217000.0,580135.0,1150000.0,231200.0,680000.0,267500.0,942000.0,435000.0,315000.0,354901.0,439888.0,205000.0,299995.0,150000.0,575000.0,950000.0,713500.0,439000.0,425000.0,252500.0,185000.0,406550.0,243000.0,500000.0,222000.0,200000.0,367000.0,300000.0,369000.0,380000.0,475000.0,625000.0,3200000.0,616000.0,310000.0,443750.0,795000.0,475000.0,585000.0,315000.0,635000.0,305000.0,785000.0,525000.0,659000.0,203000.0,782500.0,250000.0,279000.0,664000.0,2900000.0,535000.0,520000.0,545000.0,760000.0,450000.0,612500.0,280000.0,237000.0,441500.0,200000.0,332000.0,401500.0,585000.0,340000.0,153000.0,293000.0,495000.0,420000.0,569500.0,620000.0,466000.0,500000.0,690000.0,268000.0,120000.0,365000.0,630000.0,895000.0,160000.0,520000.0,432000.0,141800.0,980000.0,740000.0,230000.0,3400000.0,342000.0,305000.0,259900.0,420000.0,425000.0,379500.0,860000.0,335000.0,865000.0,569950.0,476500.0,261000.0,375000.0,230000.0,275000.0,450000.0,349950.0,435000.0,460000.0,323000.0,480000.0,399000.0,631750.0,218000.0,775000.0,515000.0,455000.0,1440000.0,850000.0,420000.0,408000.0,278000.0,454000.0,385000.0,1250000.0,202200.0,902000.0,417000.0,1475000.0,682000.0,350000.0,270000.0,308000.0,450000.0,540000.0,380000.0,118000.0,710000.0,720000.0,787000.0,650000.0,285650.0,485500.0,4668000.0,627000.0,526000.0,970000.0,640000.0,279000.0,303000.0,315000.0,163250.0,285000.0,330000.0,395000.0,625000.0,435000.0,299950.0,560000.0,380000.0,333000.0,499000.0,320600.0,285000.0,450000.0,175000.0,374000.0,255000.0,344950.0,212000.0,425000.0,170000.0,234000.0,1511250.0,760000.0,360000.0,930000.0,250000.0,477500.0,1250000.0,270000.0,635000.0,1865000.0,183000.0,503000.0,220000.0,275000.0,186000.0,328000.0,268000.0,299000.0,1003000.0,260000.0,416000.0,495000.0,459500.0,258000.0,665000.0,165000.0,297000.0,350000.0,2450000.0,955000.0,732000.0,500000.0,525000.0,170000.0,300000.0,389500.0,269950.0,107000.0,249000.0,442500.0,203000.0,222900.0,190000.0,733500.0,364950.0,490000.0,165000.0,506000.0,2193000.0,443600.0,380600.0,555000.0,613000.0,480000.0,437000.0,810000.0,415000.0,250000.0,220000.0,1320000.0,675000.0,695000.0,915000.0,375000.0,335000.0,170000.0,228950.0,267500.0,910000.0,320000.0,660000.0,787888.0,329000.0,602000.0,375000.0,224000.0,285000.0,425000.0,292000.0,82000.0,440000.0,453000.0,330000.0,359950.0,616000.0,245000.0,296000.0,193000.0,456000.0,382000.0,650000.0,431750.0,315000.0,605000.0,620000.0,602000.0,575000.0,285000.0,473000.0,549000.0,450000.0,207000.0,474900.0,515000.0,725000.0,375000.0,500000.0,689000.0,525000.0,425000.0,615000.0,516000.0,1218000.0,1655000.0,250000.0,250000.0,358000.0,262000.0,500000.0,1300000.0,500000.0,675000.0,235000.0,350000.0,320000.0,875000.0,325000.0,756000.0,319000.0,585000.0,415000.0,354000.0,587000.0,782000.0,185000.0,262500.0,370000.0,435000.0,435000.0,446000.0,300000.0,404500.0,771000.0,335000.0,390000.0,403000.0,510000.0,1014250.0,565000.0,652500.0,582000.0,700000.0,235000.0,460000.0,475000.0,579000.0,507000.0,210000.0,359500.0,248000.0,239300.0,315000.0,418000.0,699000.0,515000.0,400000.0,445000.0,212000.0,520000.0,248000.0,556000.0,245000.0,640000.0,349950.0,307999.0,749950.0,290000.0,235000.0,225000.0,285000.0,525000.0,377500.0,200000.0,2140000.0,607000.0,250000.0,525000.0,440000.0,739900.0,315000.0,315000.0,299000.0,350000.0,340000.0,460000.0,224000.0,140000.0,246000.0,306000.0,324950.0,345000.0,207000.0,238000.0,649950.0,452000.0,236000.0,1285000.0,563000.0,339950.0,1200000.0,808100.0,236000.0,240000.0,332000.0,239950.0,200000.0,330000.0,338000.0,336500.0,360000.0,911100.0,249900.0,175000.0,549950.0,225000.0,270000.0,400000.0,299800.0,555000.0,230000.0,360000.0,415000.0,355000.0,353000.0,999000.0,225000.0,553000.0,565000.0,312000.0,475000.0,320000.0,453000.0,385000.0,215000.0,215000.0,415000.0,350000.0,898000.0,480000.0,1240000.0,599000.0,880000.0,332000.0,445000.0,849000.0,752000.0,450000.0,420000.0,409000.0,350000.0,315000.0,224000.0,293550.0,350000.0,1108000.0,616500.0,506400.0,324000.0,169000.0,595000.0,299900.0,332000.0,432000.0,510000.0,509250.0,726500.0,287000.0,679000.0,316000.0,448000.0,535000.0,437850.0,435000.0,510000.0,520000.0,509000.0,795000.0,285000.0,955000.0,775000.0,400000.0,570000.0,955990.0,1150000.0,281000.0,205000.0,290000.0,310000.0,600000.0,279000.0,538500.0,594950.0,533050.0,510000.0,360000.0,435000.0,645000.0,340000.0,1010000.0,540500.0,265000.0,699950.0,355000.0,381000.0,114975.0,299990.0,425000.0,575000.0,190000.0,601150.0,315000.0,565000.0,175000.0,530000.0,4489000.0,430000.0,225000.0,312000.0,1438890.0,329950.0,995000.0,929950.0,402000.0,510000.0,249000.0,244900.0,760000.0,440000.0,286000.0,260000.0,355000.0,255000.0,139000.0,549950.0,588000.0,975000.0,402000.0,445000.0,195000.0,450000.0,1090000.0,396675.0,242000.0,380000.0,496000.0,399950.0,690000.0,270000.0,349900.0,520000.0,490500.0,410000.0,700000.0,249000.0,780000.0,1200000.0,434500.0,590000.0,649990.0,506000.0,301000.0,427550.0,460000.0,958000.0,445000.0,373000.0,364988.0,324000.0,237500.0,429300.0,155000.0,625000.0,380000.0,540000.0,691000.0,760500.0,199129.0,335000.0,305100.0,490000.0,490000.0,272000.0,280000.0,233000.0,275000.0,375000.0,445000.0,437500.0,358000.0,1175000.0,415000.0,520000.0,733000.0,540000.0,655000.0,1200000.0,550000.0,460000.0,159075.0,470000.0,235000.0,309950.0,433000.0,291000.0,540000.0,510000.0,380000.0,825000.0,880000.0,287000.0,509000.0,270000.0,210000.0,415000.0,550000.0,1250000.0,499950.0,659000.0,492000.0,715000.0,975000.0,306950.0,285000.0,1370000.0,750000.0,800000.0,350000.0,353750.0,1100000.0,568000.0,1005000.0,213500.0,250000.0,357000.0,425000.0,571000.0,588000.0,275000.0,603500.0,490600.0,1010000.0,500000.0,249000.0,235000.0,370000.0,360000.0,1406890.0,298000.0,485000.0,400000.0,580000.0,355000.0,650000.0,261490.0,347000.0,485000.0,601000.0,565000.0,560000.0,539000.0,470000.0,453500.0,811000.0,425000.0,1530000.0,562000.0,281000.0,270000.0,205950.0,310000.0,843500.0,279000.0,455000.0,310000.0,323500.0,364500.0,280000.0,289900.0,585000.0,269000.0,280000.0,183000.0,309000.0,920000.0,815241.0,405000.0,150000.0,240000.0,698000.0,875000.0,650000.0,400000.0,452000.0,345000.0,350000.0,650000.0,525000.0,1325000.0,1070000.0,1910000.0,465000.0,290000.0,350000.0,460000.0,290000.0,475000.0,214000.0,275000.0,305000.0,366000.0,515000.0,950000.0,815000.0,386000.0,399950.0,250000.0,725000.0,410000.0,855000.0,399900.0,852600.0,235000.0,230950.0,404763.0,245000.0,626100.0,522000.0,350000.0,420000.0,400000.0,675000.0,426000.0,750000.0,368000.0,700000.0,848750.0,525000.0,405000.0,340000.0,482500.0,812500.0,450000.0,398000.0,540000.0,275000.0,780000.0,225000.0,503045.0,249000.0,569950.0,1099500.0,700000.0,454000.0,590000.0,459900.0,970500.0,320000.0,552500.0,1050000.0,230000.0,680000.0,985000.0,375000.0,463000.0,350000.0,355000.0,860000.0,685000.0,382500.0,580000.0,510000.0,489990.0,440000.0,806000.0,875000.0,710800.0,349950.0,415000.0,435000.0,225000.0,770000.0,250000.0,397990.0,535000.0,265950.0,258000.0,505500.0,455000.0,1348000.0,952000.0,625000.0,1205000.0,350000.0,285000.0,348140.0,354950.0,706000.0,499000.0,427500.0,545000.0,842000.0,685000.0,665000.0,255000.0,565000.0,260000.0,581000.0,625000.0,220000.0,765000.0,1325000.0,351000.0,413565.0,363000.0,473000.0,405000.0,575000.0,220000.0,610000.0,499950.0,436000.0,320000.0,425000.0,204700.0,384000.0,568000.0,675000.0,380000.0,685000.0,429000.0,318500.0,570000.0,1052500.0,333000.0,660000.0,350000.0,399990.0,860000.0,216180.0,300000.0,145000.0,250000.0,245000.0,445000.0,562000.0,501000.0,862500.0,1085000.0,575000.0,250000.0,1400000.0,284850.0,304000.0,560000.0,325000.0,320000.0,455000.0,383001.0,545000.0,345000.0,583000.0,534950.0,403504.0,525000.0,563000.0,898500.0,651000.0,450000.0,825000.0,200000.0,295000.0,748000.0,580000.0,235750.0,338000.0,235000.0,505000.0,299000.0,240000.0,1265000.0,304000.0,272000.0,412000.0,698000.0,400000.0,305000.0,585000.0,190000.0,760000.0,570000.0,144000.0,139000.0,525000.0,293000.0,240000.0,279950.0,400000.0,225000.0,250000.0,625000.0,670000.0,540000.0,525000.0,465500.0,443500.0,350000.0,850000.0,315000.0,470000.0,1100000.0,340000.0,310000.0,305000.0,307150.0,729032.0,585000.0,704000.0,875000.0,610000.0,230000.0,510000.0,169100.0,500000.0,700000.0,379000.0,650000.0,412133.0,650000.0,570000.0,475000.0,240000.0,243000.0,1190000.0,1680000.0,6885000.0,368000.0,811500.0,275000.0,650000.0,425000.0,530000.0,657000.0,315000.0,273000.0,550000.0,347000.0,525000.0,490000.0,500000.0,926500.0,465000.0,220500.0,715000.0,410000.0,665000.0,305000.0,265000.0,485000.0,600000.0,195000.0,432500.0,490000.0,270000.0,370000.0,327500.0,510000.0,565000.0,400000.0,612500.0,727000.0,1080000.0,335000.0,779000.0,452000.0,235000.0,370000.0,790000.0,903000.0,209950.0,309000.0,440000.0,571500.0,514000.0,323000.0,290000.0,2575000.0,1362500.0,551000.0,960000.0,720000.0,218000.0,334950.0,605000.0,825000.0,268500.0,230000.0,1335000.0,440000.0,571500.0,217000.0,501000.0,339950.0,298800.0,295000.0,263500.0,1095000.0,300000.0,780000.0,370000.0,715000.0,490000.0,429000.0,550000.0,615000.0,325000.0,219950.0,925000.0,251200.0,215000.0,245000.0,349950.0,1565000.0,405000.0,625000.0,430000.0,1050000.0,230000.0,275000.0,403000.0,550388.0,415500.0,201500.0,371000.0,229950.0,840000.0,285000.0,685000.0,879000.0,529950.0,1090000.0,792000.0,262000.0,353900.0,380000.0,1008000.0,549900.0,270000.0,1925000.0,790500.0,447450.0,329922.0,385000.0,591500.0,255000.0,800000.0,355000.0,310000.0,869000.0,272000.0,665000.0,225000.0,375000.0,375500.0,248000.0,680000.0,350000.0,297000.0,309900.0,257000.0,1698000.0,500000.0,900000.0,695000.0,213400.0,425000.0,420000.0,569950.0,398500.0,250600.0,352000.0,600000.0,291500.0,350000.0,279000.0,490000.0,770000.0,215000.0,423500.0,850000.0,155000.0,165000.0,707000.0,349170.0,2375000.0,645000.0,238000.0,365000.0,402000.0,405000.0,808000.0,367500.0,604000.0,435000.0,347500.0,280000.0,645000.0,1275000.0,404000.0,812500.0,265000.0,480000.0,264000.0,550000.0,464000.0,365000.0,490000.0,280927.0,282613.0,675000.0,575550.0,259900.0,450000.0,487500.0,305000.0,395000.0,410000.0,440000.0,1160000.0,500000.0,961000.0,825000.0,734000.0,490000.0,175000.0,190000.0,305000.0,417000.0,275000.0,661000.0,435000.0,788000.0,1795000.0,408000.0,570000.0,400000.0,247000.0,235000.0,516200.0,650000.0,257100.0,540000.0,268000.0,300000.0,380000.0,725000.0,249000.0,274000.0,396500.0,460000.0,277000.0,449500.0,785950.0,545000.0,244000.0,165000.0,435000.0,642000.0,730000.0,675000.0,620000.0,275000.0,270000.0,476100.0,700000.0,220000.0,236000.0,790000.0,350000.0,283200.0,273000.0,599000.0,1157200.0,385000.0,264250.0,608000.0,450000.0,1755000.0,339950.0,420000.0,655000.0,730000.0,390000.0,473000.0,511000.0,358000.0,201000.0,765000.0,920000.0,399000.0,400000.0,230000.0,574500.0,505000.0,425000.0,330000.0,265000.0,399888.0,430000.0,359950.0,405000.0,575000.0,435000.0,1565000.0,261000.0,657500.0,331950.0,514000.0,496000.0,195700.0,1395710.0,1175000.0,643403.0,357000.0,905000.0,265000.0,535000.0,450000.0,315000.0,479000.0,415000.0,450000.0,1140000.0,430000.0,296000.0,303000.0,641000.0,260750.0,601000.0,255000.0,555000.0,865000.0,1388000.0,315000.0,200000.0,357000.0,390000.0,462000.0,174500.0,260000.0,751000.0,229950.0,1250000.0,485000.0,638000.0,440000.0,305000.0,629000.0,555000.0,669000.0,272000.0,270000.0,550000.0,410000.0,259000.0,1648000.0,518000.0,464500.0,300000.0,1080000.0,309950.0,315000.0,499950.0,780000.0,885000.0,500000.0,329000.0,246000.0,405000.0,349000.0,306000.0,416000.0,560000.0,260000.0,306500.0,299950.0,219000.0,499000.0,366000.0,875000.0,689900.0,315000.0,336500.0,1100000.0,375000.0,289275.0,455000.0,505000.0,450000.0,567500.0,265000.0,340000.0,920000.0,850000.0,202000.0,725000.0,325000.0,675000.0,337000.0,240000.0,490000.0,510000.0,854000.0,1000000.0,616500.0,750000.0,650000.0,275000.0,540000.0,225000.0,753000.0,124000.0,485000.0,230000.0,372000.0,905000.0,435000.0,425000.0,204950.0,670000.0,475000.0,1730000.0,491000.0,750000.0,830000.0,137124.0,225000.0,732600.0,431000.0,304000.0,650000.0,269000.0,875000.0,565000.0,235000.0,680000.0,330000.0,960000.0,360000.0,378000.0,499950.0,450000.0,523500.0,600000.0,290000.0,885000.0,483000.0,720000.0,311000.0,164950.0,1738000.0,738000.0,393000.0,713000.0,487000.0,128000.0,210500.0,679000.0,784950.0,352000.0,386000.0,472500.0,599950.0,963990.0,735000.0,290000.0,192500.0,350000.0,563000.0,375000.0,240000.0,317500.0,234000.0,645000.0,337900.0,325000.0,429950.0,650000.0,275000.0,575000.0,540000.0,640000.0,275000.0,672800.0,495000.0,820000.0,475000.0,1275000.0,397500.0,352000.0,635000.0,420000.0,689000.0,749500.0,1150000.0,563500.0,480000.0,445000.0,453500.0,1250000.0,210000.0,539000.0,605000.0,437500.0,215000.0,440000.0,525000.0,319900.0,485000.0,359999.0,799000.0,280000.0,1050000.0,290000.0,235000.0,495000.0,230000.0,597400.0,370000.0,755000.0,497000.0,730000.0,655000.0,205000.0,330000.0,527500.0,716500.0,388500.0,530000.0,655000.0,1695000.0,279000.0,533000.0,285000.0,458400.0,465000.0,690000.0,462500.0,369950.0,950000.0,418000.0,160000.0,385000.0,521000.0,292050.0,326000.0,300000.0,465000.0,200000.0,238000.0,455000.0,230000.0,808000.0,578500.0,390000.0,755000.0,579500.0,649950.0,228000.0,665000.0,560000.0,529000.0,325000.0,235000.0,362362.0,439000.0,465000.0,249900.0,665000.0,370000.0,620000.0,375000.0,552625.0,315500.0,620000.0,510000.0,652500.0,574000.0,390000.0,466500.0,315000.0,220000.0,356000.0,380000.0,579000.0,499000.0,745000.0,380000.0,435000.0,270000.0,577500.0,650000.0,1227500.0,1900000.0,475000.0,397000.0,275000.0,840000.0,365000.0,362000.0,350000.0,200000.0,555000.0,896000.0,550000.0,511000.0,464000.0,624800.0,920000.0,1365000.0,510000.0,289659.0,555000.0,460000.0,319000.0,280000.0,250000.0,458000.0,700000.0,350000.0,456000.0,475000.0,285000.0,860000.0,546500.0,340000.0,678000.0,800000.0,112000.0,335000.0,610000.0,245000.0,245000.0,333500.0,373000.0,759900.0,317000.0,985000.0,750000.0,408000.0,900000.0,235000.0,428000.0,445000.0,605000.0,193500.0,389950.0,790000.0,890000.0,495000.0,1400000.0,251000.0,804000.0,357000.0,419990.0,725000.0,445000.0,510000.0,330000.0,270000.0,260000.0,471000.0,505000.0,325000.0,682000.0,605000.0,530000.0,245000.0,654950.0,221900.0,657100.0,400000.0,215000.0,489000.0,649000.0,268500.0,515000.0,305000.0,270000.0,450000.0,535000.0,457500.0,136500.0,224097.0,254000.0,335000.0,350000.0,169950.0,432500.0,440000.0,233703.0,310000.0,730000.0,257000.0,485000.0,899000.0,279000.0,225000.0,1355000.0,355000.0,382500.0,324360.0,426000.0,212644.0,510000.0,85000.0,235000.0,720001.0,313950.0,415000.0,305000.0,625000.0,269950.0,2700000.0,829000.0,635000.0,270000.0,1245000.0,575000.0,426950.0,125000.0,325000.0,597157.0,708000.0,1300000.0,550000.0,540500.0,1025000.0,218000.0,562000.0,401500.0,196700.0,583000.0,309900.0,485000.0,595000.0,254000.0,488500.0,260000.0,440000.0,338000.0,354000.0,601000.0,462500.0,350000.0,329000.0,370000.0,398000.0,402000.0,450000.0,524000.0,800000.0,185000.0,925000.0,495000.0,880000.0,150000.0,839990.0,500000.0,247800.0,344200.0,459950.0,229900.0,509000.0,661500.0,370000.0,785000.0,355000.0,446000.0,324000.0,500000.0,745000.0,1197000.0,385000.0,565000.0,465000.0,401000.0,385000.0,395000.0,334000.0,216000.0,340500.0,375000.0,375000.0,536500.0,599900.0,590000.0,429000.0,2983000.0,443000.0,276200.0,570000.0,979700.0,730000.0,268450.0,808000.0,695000.0,1228000.0,309950.0,134000.0,645500.0,1399000.0,344900.0,601450.0,405000.0,518000.0,265000.0,180000.0,565000.0,420000.0,1375000.0,353950.0,847700.0,185000.0,269000.0,422800.0,379950.0,525000.0,810000.0,209950.0,439950.0,554820.0,242500.0,330000.0,740000.0,630000.0,750000.0,695000.0,447000.0,1200000.0,315000.0,570000.0,495000.0,449500.0,170500.0,312000.0,350000.0,690000.0,375000.0,575000.0,646000.0,400000.0,240000.0,695000.0,304950.0,650000.0,402500.0,482000.0,655000.0,577000.0,350000.0,415000.0,396400.0,774950.0,855000.0,1145000.0,330000.0,290000.0,519500.0,450000.0,3120000.0,265000.0,402500.0,450000.0,752500.0,820000.0,292000.0,213000.0,400000.0,202000.0,484000.0,405000.0,301350.0,460000.0,348000.0,435000.0,227950.0,550000.0,347500.0,397000.0,410000.0,780000.0,1350000.0,476000.0,390000.0,226500.0,495000.0,910000.0,495000.0,1225000.0,715000.0,148226.0,313000.0,150000.0,150000.0,230000.0,389100.0,645000.0,351358.0,850000.0,470000.0,770000.0,366000.0,545000.0,205000.0,405000.0,392500.0,901000.0,500000.0,384950.0,245000.0,570000.0,850000.0,327000.0,369500.0,947500.0,370000.0,660000.0,440000.0,445000.0,460000.0,516000.0,343888.0,500000.0,302000.0,195000.0,640000.0,502000.0,248000.0,433000.0,309950.0,253000.0,280000.0,333000.0,759950.0,345000.0,350000.0,198000.0,730000.0,266200.0,95000.0,430000.0,650000.0,455000.0,392000.0,373000.0,951250.0,502000.0,525000.0,278000.0,422500.0,783200.0,715000.0,472217.0,244615.0,385000.0,549995.0,959900.0,510000.0,367000.0,375000.0,500000.0,489950.0,652000.0,472000.0,333000.0,560000.0,799000.0,860000.0,692500.0,925000.0,267500.0,396800.0,892500.0,455500.0,743000.0,338000.0,332000.0,645000.0,739000.0,435000.0,995000.0,440000.0,440000.0,338150.0,425000.0,883000.0,510000.0,950000.0,435000.0,415000.0,439000.0,295832.0,285000.0,489000.0,304500.0,730000.0,178500.0,300000.0,415000.0,452500.0,1010000.0,653000.0,715000.0,541000.0,245000.0,216000.0,443000.0,257700.0,300000.0,402500.0,306888.0,795000.0,525000.0,1050000.0,452000.0,595000.0,340000.0,1065000.0,460000.0,345000.0,545000.0,335000.0,1325000.0,420000.0,274900.0,499950.0,375000.0,456700.0,375000.0,420000.0,575000.0,655000.0,738000.0,415000.0,392000.0,555000.0,912000.0,135000.0,500000.0,238000.0,251000.0,406500.0,265000.0,425000.0,345000.0,612500.0,317000.0,455000.0,1035000.0,497000.0,385000.0,205000.0,745000.0,371000.0,545000.0,194000.0,265000.0,433000.0,200000.0,440000.0,400000.0,589000.0,207000.0,379750.0,240000.0,1308000.0,603000.0,92000.0,409950.0,515000.0,998000.0,630000.0,410000.0,602000.0,750000.0,711600.0,1050000.0,700500.0,250000.0,350000.0,475000.0,450000.0,316000.0,310000.0,521000.0,495000.0,209000.0,809950.0,400000.0,411000.0,825000.0,460000.0,281000.0,976000.0,429000.0,715500.0,432500.0,875000.0,605000.0,311300.0,795000.0,558000.0,370000.0,598850.0,515700.0,458000.0,653750.0,299000.0,532000.0,819000.0,945000.0,608700.0,464000.0,950000.0,700000.0,435000.0,229500.0,1575000.0,265000.0,995000.0,590000.0,740000.0,360000.0,599000.0,615000.0,292000.0,899000.0,500000.0,580000.0,580000.0,594000.0,550000.0,1250000.0,250000.0,405000.0,213950.0,232000.0,310000.0,540000.0,392500.0,735000.0,575000.0,175000.0,291000.0,791500.0,475000.0,238950.0,470000.0,656000.0,559950.0,600000.0,255000.0,485000.0,390000.0,462500.0,440000.0,299950.0,312620.0,372500.0,430000.0,241000.0,201000.0,538000.0,110700.0,245000.0,427000.0,650500.0,335900.0,535000.0,1769000.0,463000.0,332000.0,199500.0,247000.0,442500.0,600000.0,449000.0,582500.0,305000.0,734000.0,300000.0,525888.0,711000.0,360000.0,357000.0,235000.0,550000.0,324000.0,450000.0,272000.0,481000.0,500000.0,448000.0,475000.0,472500.0,291000.0,294000.0,1013050.0,442500.0,170000.0,1610000.0,675000.0,875000.0,571000.0,320000.0,525000.0,1650000.0,440000.0,465000.0,280000.0,282000.0,535000.0,554729.0,427000.0,455000.0,595000.0,770000.0,742500.0,1250000.0,375000.0,1050000.0,1565000.0,262500.0,395000.0,355000.0,299990.0,425000.0,554950.0,326000.0,580000.0,699000.0,757000.0,335000.0,660000.0,320000.0,324000.0,300000.0,360000.0,600000.0,950000.0,599950.0,308000.0,1020000.0,397500.0,436500.0,710000.0,315000.0,665000.0,469000.0,408000.0,851000.0,410000.0,207100.0,560000.0,903000.0,268500.0,494950.0,1130000.0,250000.0,506000.0,280000.0,1120000.0,580000.0,450000.0,389900.0,427000.0,398000.0,354000.0,399000.0,325000.0,998800.0,350000.0,1000000.0,245000.0,845000.0,314500.0,650000.0,870000.0,527000.0,420000.0,1662000.0,499990.0,315000.0,425000.0,365000.0,774000.0,339500.0,344950.0,450000.0,814950.0,299900.0,880000.0,195000.0,910000.0,540000.0,306000.0,272000.0,1295000.0,450000.0,450000.0,310000.0,690000.0,300000.0,575000.0,1820000.0,219000.0,265000.0,1105000.0,425000.0,536000.0,1175000.0,465000.0,545000.0,446000.0,375000.0,632500.0,459950.0,485000.0,251750.0,460000.0,625000.0,530000.0,324950.0,685000.0,368000.0,825000.0,660000.0,253000.0,215000.0,650000.0,232500.0,234000.0,420000.0,399950.0,256750.0,535000.0,515000.0,489900.0,165000.0,575000.0,375000.0,420000.0,608000.0,620000.0,290000.0,525000.0,350000.0,357500.0,285000.0,477000.0,750000.0,595000.0,525000.0,319000.0,225000.0,485000.0,341000.0,591000.0,276000.0,394000.0,355000.0,260000.0,300000.0,209000.0,344950.0,230000.0,700000.0,230000.0,443500.0,595000.0,470000.0,600000.0,1381000.0,427800.0,445000.0,382000.0,577000.0,255000.0,240000.0,1234580.0,393000.0,264950.0,450000.0,229950.0,2555000.0,753000.0,310000.0,395000.0,725000.0,295000.0,225000.0,1699000.0,260000.0,375000.0,295000.0,403900.0,269950.0,221000.0,255000.0,300000.0,215000.0,785000.0,150000.0,199950.0,3000000.0,379900.0,950000.0,865000.0,785000.0,245700.0,549000.0,1400000.0,619000.0,311000.0,600000.0,1080000.0,436000.0,205000.0,514000.0,530000.0,511000.0,2100000.0,500000.0,710000.0,270000.0,415000.0,1800000.0,236000.0,278000.0,312000.0,498000.0,857000.0,650000.0,219950.0,671500.0,813000.0,182000.0,203700.0,740000.0,128000.0,345000.0,329950.0,1047500.0,402300.0,492000.0,335000.0,695000.0,485000.0,383000.0,490000.0,240000.0,460000.0,687500.0,1168000.0,825000.0,314950.0,470000.0,500000.0,313000.0,445000.0,300000.0,619500.0,305000.0,700000.0,590000.0,205000.0,310000.0,442500.0,1078500.0,530000.0,343500.0,544300.0,370000.0,245000.0,490000.0,651500.0,289000.0,790000.0,350000.0,246950.0,198400.0,495000.0,862000.0,870000.0,317000.0,325000.0,615000.0,334950.0,775000.0,600000.0,565000.0,292500.0,525000.0,507000.0,1170000.0,275000.0,355000.0,666000.0,317500.0,420000.0,320000.0,325000.0,165000.0,500000.0,443000.0,213400.0,480000.0,299880.0,499950.0,1705000.0,550000.0,300000.0,920000.0,2300000.0,620000.0,253500.0,978000.0,387500.0,325000.0,525000.0,560000.0,394000.0,484950.0,1295000.0,315000.0,590000.0,106000.0,751000.0,474000.0,189000.0,440500.0,273000.0,950000.0,277700.0,299900.0,235000.0,320000.0,282000.0,245000.0,250000.0,470000.0,216650.0,590000.0,935000.0,848000.0,1125000.0,630000.0,340000.0,570000.0,2750000.0,228900.0,660000.0,366000.0,354000.0,850000.0,496700.0,300000.0,390000.0,350000.0,561000.0,475000.0,275000.0,290000.0,268000.0,451000.0,850000.0,1180000.0,245000.0,450000.0,543000.0,545800.0,195000.0,1125000.0,255000.0,500000.0,855000.0,370900.0,615000.0,458000.0,580000.0,966000.0,240000.0,650000.0,250000.0,815000.0,510000.0,156000.0,254500.0,760000.0,349950.0,880000.0,1209000.0,420000.0,607000.0,475000.0,395000.0,849000.0,429950.0,825000.0,505000.0,265000.0,283000.0,765000.0,610000.0,589000.0,192500.0,460000.0,264500.0,950000.0,677500.0,690000.0,312000.0,840000.0,357500.0,515000.0,491234.0,490000.0,530000.0,357000.0,808250.0,240000.0,335000.0,380000.0,350000.0,194000.0,258950.0,479000.0,510000.0,400000.0,680000.0,1750000.0,335000.0,460000.0,440000.0,185000.0,306500.0,560000.0,259875.0,385000.0,188000.0,1142000.0,255000.0,1185000.0,635200.0,575000.0,216000.0,1200000.0,850000.0,238000.0,1110000.0,820000.0,355000.0,398750.0,835000.0,705000.0,540000.0,519000.0,395000.0,275000.0,450000.0,324000.0,565000.0,373000.0,613000.0,614000.0,440000.0,407000.0,472000.0,472000.0,1250000.0,412000.0,425000.0,299999.0,800000.0,420000.0,968000.0,900000.0,198000.0,250000.0,615000.0,550000.0,190000.0,629000.0,434000.0,415885.0,550000.0,665000.0,510000.0,530000.0,355000.0,790000.0,695000.0,255000.0,410000.0,650000.0,332888.0,320000.0,1730000.0,255000.0,244000.0,218000.0,359000.0,840000.0,900000.0,205000.0,1135000.0,210000.0,597500.0,400000.0,412000.0,422500.0,410000.0,1400000.0,245000.0,720000.0,315000.0,455000.0,523000.0,250000.0,490000.0,310000.0,265000.0,402000.0,705000.0,589450.0,219950.0,750000.0,478000.0,170000.0,489950.0,1370000.0,208417.0,410000.0,590000.0,255000.0,465000.0,306000.0,617000.0,438750.0,1280000.0,995000.0,1580000.0,215000.0,530000.0,303000.0,330000.0,126000.0,850000.0,405000.0,869900.0,299950.0,447000.0,500000.0,302500.0,1250000.0,391000.0,250000.0,435000.0,451000.0,206000.0,590000.0,695000.0,350000.0,592350.0,855000.0,771000.0,325000.0,1850000.0,545000.0,232000.0,168000.0,900000.0,289950.0,465000.0,370000.0,240000.0,232000.0,237502.0,1280000.0,205000.0,350000.0,256000.0,275000.0,170000.0,530000.0,905000.0,365000.0,400000.0,278750.0,512000.0,362000.0,491500.0,375000.0,199400.0,324950.0,380000.0,250000.0,700000.0,206990.0,315000.0,419000.0,205000.0,335000.0,397000.0,330000.0,1785000.0,399000.0,400000.0,249900.0,717000.0,319000.0,355000.0,585000.0,320000.0,305495.0,240000.0,199950.0,1620000.0,255000.0,289000.0,494500.0,746000.0,385000.0,688100.0,870300.0,310000.0,255000.0,154500.0,425000.0,700000.0,410500.0,432000.0,465000.0,498688.0,349900.0,220000.0,260000.0,290000.0,730000.0,332500.0,650000.0,1400000.0,690000.0,289900.0,1620000.0,440000.0,975000.0,309500.0,350000.0,254000.0,402000.0,365000.0,625000.0,335500.0,672500.0,336000.0,294400.0,505000.0,255000.0,636000.0,655000.0,354000.0,810000.0,400000.0,419500.0,685000.0,429950.0,239900.0,447000.0,466800.0,674000.0,525000.0,1443920.0,559500.0,522500.0,498500.0,571000.0,543000.0,104950.0,485500.0,1210000.0,455000.0,309000.0,229000.0,600000.0,535000.0,571000.0,1030000.0,600000.0,785000.0,900000.0,350000.0,940000.0,185000.0,850000.0,201000.0,509950.0,590000.0,325000.0,625000.0,378000.0,239950.0,550000.0,831000.0,249000.0,395000.0,839900.0,760000.0,440000.0,501000.0,739000.0,685650.0,1005000.0,980000.0,275000.0,319950.0,437000.0,330000.0,365000.0,329000.0,681500.0,566000.0,897500.0,738000.0,315000.0,445000.0,1400000.0,832500.0,771150.0,225000.0,389950.0,435000.0,1300000.0,350000.0,250000.0,750000.0,439950.0,395000.0,375000.0,263000.0,185000.0,920000.0,936000.0,1500000.0,1100000.0,432500.0,589000.0,756450.0,540000.0,485000.0,240000.0,550000.0,1260000.0,430000.0,415000.0,257000.0,420000.0,338995.0,312500.0,513000.0,1060000.0,585000.0,350500.0,215000.0,440000.0,385000.0,688500.0,700000.0,585000.0,317000.0,314963.0,715000.0,280000.0,531000.0,617000.0,440000.0,140000.0,1195000.0,535000.0,396500.0,699000.0,805000.0,285000.0,216300.0,410000.0,597000.0,338000.0,210000.0,423000.0,490000.0,295000.0,630000.0,398000.0,218000.0,1595000.0,348500.0,592500.0,505000.0,1430000.0,502000.0,257500.0,405000.0,290000.0,315000.0,371000.0,279900.0,599000.0,267300.0,585000.0,506000.0,400000.0,151100.0,555000.0,467500.0,675000.0,219950.0,375000.0,650000.0,575000.0,525000.0,471000.0,450000.0,590000.0,744000.0,460000.0,195000.0,1110000.0,339000.0,375000.0,367400.0,200000.0,452000.0,418000.0,600000.0,310000.0,290000.0,200000.0,479900.0,300000.0,437000.0,350000.0,626000.0,289000.0,595000.0,676000.0,240000.0,382500.0,511555.0,710500.0,429000.0,170000.0,2135000.0,1665000.0,225000.0,615000.0,438950.0,560000.0,857500.0,685000.0,749000.0,260000.0,355000.0,775000.0,1300000.0,545000.0,540000.0,687500.0,115000.0,227000.0,1190000.0,375000.0,902000.0,269500.0,359950.0,615000.0,250000.0,530000.0,210000.0,265500.0,1462500.0,310000.0,599000.0,525000.0,400000.0,887500.0,344000.0,525000.0,385000.0,820000.0,549000.0,589000.0,267000.0,480000.0,650000.0,225000.0,640000.0,710000.0,325000.0,595000.0,128750.0,465000.0,710000.0,994000.0,489950.0,365000.0,495000.0,255000.0,330000.0,450000.0,375000.0,570000.0,513000.0,450000.0,402200.0,312000.0,471000.0,481015.0,1959000.0,624000.0,815000.0,1650000.0,180000.0,374950.0,368000.0,550000.0,198000.0,345000.0,950000.0,995000.0,345000.0,741000.0,737000.0,668750.0,575000.0,280000.0,583000.0,349950.0,429000.0,385000.0,535000.0,215000.0,870000.0,440000.0,795127.0,290000.0,259950.0,280000.0,595000.0,925900.0,499000.0,895000.0,1072500.0,430000.0,295000.0,1186040.0,749950.0,175000.0,190000.0,420000.0,353000.0,1340000.0,1000000.0,850000.0,275000.0,450000.0,305000.0,643002.0,367950.0,1115000.0,604000.0,336500.0,670000.0,524000.0,172000.0,680000.0,549900.0,357000.0,107000.0,232900.0,670000.0,164000.0,599990.0,395000.0,979500.0,207000.0,385000.0,335000.0,347000.0,943500.0,359500.0,258000.0,355000.0,253500.0,239000.0,235000.0,870000.0,570000.0,661254.0,575000.0,230000.0,148000.0,244900.0,214950.0,580000.0,263000.0,317000.0,302000.0,899000.0,1289000.0,710000.0,230000.0,1169000.0,397000.0,755000.0,185000.0,236000.0,550000.0,680000.0,560000.0,385000.0,280000.0,225000.0,610000.0,592500.0,750000.0,164000.0,320000.0,544000.0,344950.0,539500.0,229000.0,1068000.0,397500.0,650000.0,1900000.0,649000.0,815000.0,795000.0,399950.0,728000.0,850000.0,525000.0,257000.0,433500.0,500000.0,300000.0,645000.0,222500.0,275000.0,800000.0,297000.0,770000.0,517000.0,238000.0,234550.0,230500.0,585000.0,733000.0,357950.0,530000.0,377500.0,660000.0,400000.0,440000.0,375950.0,780000.0,705000.0,450000.0,311000.0,485000.0,485000.0,725000.0,185000.0,1890000.0,445000.0,356000.0,760250.0,970000.0,348450.0,535500.0,710000.0,745000.0,355000.0,282000.0,840500.0,625000.0,209977.0,174000.0,518000.0,242025.0,230000.0,440000.0,940000.0,375000.0,567500.0,735000.0,114000.0,608000.0,442500.0,381800.0,330000.0,90000.0,312000.0,339000.0,313000.0,618080.0,325000.0,242000.0,364000.0,545000.0,445000.0,1085500.0,660000.0,845000.0,417000.0,400000.0,710000.0,315000.0,515000.0,638000.0,583800.0,309500.0,299000.0,215000.0,410000.0,478000.0,431000.0,635000.0,640000.0,932808.0,835000.0,469775.0,587000.0,677915.0,1075000.0,671000.0,695000.0,205000.0,360000.0,313999.0,288000.0,470950.0,735000.0,730000.0,412000.0,589500.0,291000.0,190000.0,225000.0,740000.0,467000.0,385000.0,670000.0,352450.0,669888.0,405000.0,518000.0,280000.0,435000.0,442000.0,230000.0,495200.0,585000.0,800000.0,379500.0,475000.0,520000.0,269900.0,329000.0,2535000.0,325000.0,1850000.0,945000.0,370000.0,450000.0,676000.0,290000.0,158000.0,379950.0,583000.0,150000.0,261500.0,278000.0,555000.0,355000.0,375000.0,227000.0,335000.0,680000.0,410000.0,425000.0,345000.0,252000.0,705000.0,498000.0,312500.0,260000.0,500000.0,470000.0,640000.0,290000.0,258500.0,1100000.0,420000.0,230000.0,515000.0,425000.0,390000.0,561500.0,835000.0,475200.0,425000.0,600000.0,425000.0,455000.0,780000.0,345500.0,670000.0,281000.0,340000.0,642860.0,747000.0,559950.0,577288.0,575000.0,287000.0,1149000.0,425000.0,550000.0,135000.0,695000.0,210000.0,518000.0,335500.0,750000.0,515000.0,344500.0,470000.0,606150.0,292000.0,429000.0,765000.0,382000.0,475000.0,410000.0,565000.0,245000.0,610000.0,363500.0,2280000.0,316000.0,690000.0,199950.0,207000.0,824000.0,838400.0,225000.0,495000.0,149500.0,726000.0,570000.0,320000.0,320000.0,191000.0,400000.0,515000.0,538000.0,432000.0,787500.0,420000.0,560000.0,310000.0,760000.0,242500.0,235000.0,433200.0,145000.0,1749000.0,727000.0,166000.0,400000.0,165000.0,229000.0,305000.0,930000.0,542000.0,214000.0,718000.0,349000.0,498000.0,799950.0,860000.0,339950.0,249000.0,725000.0,529000.0,315000.0,1300000.0,435000.0,350000.0,240000.0,430000.0,446000.0,240000.0,319950.0,385000.0,132500.0,290000.0,3100000.0,245000.0,255000.0,310000.0,299000.0,575000.0,284000.0,442573.0,560000.0,485000.0,1610000.0,808000.0,398000.0,235000.0,400000.0,582000.0,209000.0,285950.0,645000.0,312000.0,663000.0,443950.0,315000.0,330000.0,230000.0,536500.0,315000.0,626000.0,334009.0,326000.0,310000.0,226000.0,428000.0,329932.0,590000.0,575000.0,290000.0,305240.0,555000.0,317000.0,430000.0,469000.0,327200.0,835000.0,360000.0,372000.0,275000.0,475000.0,345000.0,244500.0,206000.0,246000.0,440000.0,395000.0,305000.0,160000.0,169500.0,690500.0,245560.0,383000.0,388500.0,250000.0,672000.0,550000.0,291375.0,519950.0,250000.0,614950.0,625000.0,469950.0,787500.0,280000.0,490000.0,146000.0,500000.0,242500.0,324950.0,300000.0,545000.0,467100.0,749000.0,245000.0,260000.0,490000.0,565000.0,330000.0,295000.0,725000.0,1135000.0,680000.0,490000.0,330000.0,340000.0,285000.0,230000.0,337000.0,300000.0,360000.0,182700.0,309950.0,825000.0,998500.0,644500.0,266950.0,633100.0,395000.0,300000.0,435000.0,500000.0,402000.0,570000.0,174950.0,300000.0,435000.0,840000.0,469000.0,870000.0,532000.0,201000.0,649000.0,475000.0,110000.0,375000.0,255000.0,496600.0,380000.0,338950.0,542500.0,739000.0,549000.0,252000.0,1698890.0,735000.0,270000.0,155000.0,675000.0,931000.0,475580.0,358000.0,677500.0,868500.0,712000.0,875000.0,452000.0,425000.0,460000.0,666570.0,390000.0,650000.0,305000.0,250000.0,290000.0,453000.0,556000.0,315000.0,445830.0,1260000.0,287200.0,525000.0,1135000.0,381000.0,360000.0,402000.0,600000.0,549950.0,300000.0,419000.0,319950.0,1180000.0,381000.0,465000.0,516000.0,550000.0,980000.0,468000.0,378000.0,430000.0,730100.0,219000.0,570000.0,262500.0,525000.0,417400.0,788000.0,320000.0,950000.0,255000.0,260000.0,575000.0,385000.0,456000.0,485000.0,315275.0,252500.0,790000.0,310000.0,1250000.0,548000.0,379880.0,530000.0,435000.0,540000.0,425000.0,490000.0,220000.0,670000.0,667500.0,585000.0,225000.0,375000.0,335000.0,161000.0,420000.0,279500.0,1610000.0,325000.0,380000.0,470000.0,363000.0,1700000.0,595000.0,198900.0,1085000.0,575000.0,551000.0,488000.0,370000.0,675000.0,825000.0,265000.0,713500.0,570000.0,243800.0,543000.0,1010000.0,625000.0,459950.0,370000.0,150000.0,683500.0,499950.0,255000.0,910000.0,699000.0,429000.0,685000.0,316000.0,299000.0,559000.0,575000.0,602000.0,492000.0,481000.0,311100.0,760000.0,840000.0,2546000.0,1275000.0,260000.0,430000.0,392000.0,641000.0,1800000.0,2000000.0,545000.0,605000.0,550000.0,384200.0,370000.0,717500.0,365500.0,415000.0,600000.0,744000.0,830000.0,322000.0,270000.0,1688000.0,740000.0,328000.0,265000.0,271000.0,270000.0,395000.0,340000.0,340000.0,435000.0,527950.0,667000.0,1148000.0,570000.0,750000.0,685000.0,275000.0,739888.0,715000.0,350000.0,220000.0,452500.0,248000.0,678100.0,325000.0,529950.0,440000.0,462608.0,210000.0,349000.0,252000.0,1100000.0,375000.0,336000.0,732000.0,200000.0,681716.0,257500.0,315000.0,299950.0,530000.0,766500.0,860000.0,530000.0,749950.0,535000.0,190000.0,525000.0,610000.0,520000.0,600000.0,664000.0,418000.0,271675.0,759000.0,331292.0,435000.0,227000.0,285000.0,366000.0,594950.0,185000.0,235000.0,230000.0,770000.0,240000.0,1822500.0,452000.0,765000.0,790000.0,696500.0,269000.0,352500.0,249000.0,360000.0,1140000.0,1550000.0,275000.0,697000.0,379500.0,720000.0,675000.0,1169000.0,1100000.0,520000.0,415000.0,415000.0,1037000.0,690000.0,716500.0,481000.0,785000.0,720000.0,324900.0,265000.0,545000.0,860000.0,1045000.0,495000.0,320000.0,444000.0,804100.0,432000.0,230000.0,935000.0,634950.0,611000.0,475999.0,565000.0,630000.0,840000.0,790000.0,450000.0,1272000.0,446800.0,1170000.0,745000.0,594000.0,485000.0,381000.0,849900.0,920000.0,975000.0,375000.0,470000.0,665000.0,295500.0,620000.0,434900.0,852500.0,790000.0,289950.0,850000.0,505000.0,372000.0,207000.0,780000.0,400000.0,850000.0,570000.0,869000.0,551000.0,515000.0,215000.0,220000.0,845000.0,585000.0,477000.0,399500.0,500000.0,432500.0,940000.0,3168750.0,1080000.0,229999.0,233000.0,600000.0,332500.0,249900.0,310000.0,200000.0,310000.0,230000.0,420000.0,785000.0,1775000.0,265000.0,295000.0,528000.0,530000.0,310000.0,334500.0,311000.0,217500.0,500000.0,715000.0,299000.0,635000.0,806000.0,289950.0,280000.0,394000.0,409950.0,1000000.0,279000.0,390000.0,635000.0,304400.0,520000.0,274000.0,390000.0,340000.0,502000.0,260000.0,399000.0,312500.0,370000.0,1240000.0,1275000.0,294350.0,208950.0,515000.0,364000.0,349950.0,585000.0,610000.0,382000.0,495000.0,447500.0,565000.0,348580.0,459000.0,310000.0,210000.0,384205.0,180000.0,310000.0,780000.0,1762000.0,820000.0,398000.0,492000.0,599950.0,105500.0,390500.0,675750.0,1640000.0,353500.0,765000.0,975000.0,495000.0,570000.0,327000.0,898000.0,403000.0,440000.0,240000.0,460000.0,825000.0,201000.0,479500.0,445000.0,265000.0,399000.0,785000.0,831500.0,575000.0,338000.0,1900000.0,235000.0,349950.0,300000.0,431000.0,550000.0,515000.0,555000.0,265000.0,597000.0,661000.0,362764.0,427000.0,405000.0,157000.0,300000.0,240000.0,818500.0,249000.0,580000.0,333000.0,230000.0,265000.0,490000.0,307500.0,670000.0,247200.0,2600000.0,440000.0,555000.0,180000.0,775000.0,220000.0,650000.0,410000.0,339995.0,440000.0,275000.0,766000.0,231500.0,472000.0,1325000.0,325000.0,364500.0,910000.0,459950.0,584950.0,252000.0,750000.0,775000.0,810000.0,409000.0,400000.0,491300.0,272000.0,471001.0,230000.0,358000.0,510000.0,86500.0,1712500.0,542000.0,102500.0,625000.0,350000.0,340000.0,505000.0,263850.0,1350000.0,325000.0,289000.0,610000.0,531500.0,375000.0,375000.0,293550.0,225000.0,402000.0,549000.0,302500.0,218500.0,705000.0,695000.0,480000.0,535000.0,1000000.0,592000.0,775000.0,320000.0,640000.0,228000.0,325000.0,530000.0,418000.0,415000.0,384000.0,325000.0,600000.0,760000.0,168000.0,405000.0,549000.0,215000.0,389000.0,447500.0,540000.0,257000.0,199000.0,435000.0,400000.0,356000.0,618250.0,690000.0,465000.0,280000.0,550000.0,765000.0,430000.0,950000.0,525000.0,300000.0,1795000.0,1150000.0,295000.0,775000.0,199900.0,329900.0,898000.0,875000.0,375000.0,365000.0,530000.0,318000.0,207000.0,1886700.0,624500.0,640000.0,284000.0,620000.0,495000.0,499950.0,330000.0,665000.0,850000.0,599950.0,360000.0,699000.0,575000.0,345000.0,374500.0,607500.0,374000.0,390000.0,467000.0,243500.0,593000.0,223000.0,400000.0,772000.0,539500.0,265000.0,428000.0,925000.0,695000.0,470000.0,335000.0,589000.0,415000.0,235500.0,572500.0,302000.0,870000.0,485000.0,383000.0,750000.0,409950.0,246000.0,339950.0,315000.0,698000.0,419000.0,425000.0,386500.0,348000.0,269950.0,891500.0,349950.0,360000.0,975000.0,449250.0,350000.0,990000.0,834000.0,466950.0,262500.0,762300.0,1160000.0,420000.0,549000.0,518000.0,695000.0,280000.0,277500.0,649000.0,267800.0,600000.0,395000.0,425000.0,915000.0,400000.0,750000.0,235000.0,599950.0,1815000.0,379000.0,626000.0,535000.0,1225000.0,410000.0,326250.0,200000.0,880000.0,370000.0,190000.0,625000.0,575000.0,470000.0,279900.0,307000.0,399950.0,405000.0,539950.0,129000.0,340000.0,214950.0,450000.0,1400000.0,230000.0,681000.0,255000.0,286000.0,170000.0,380000.0,315000.0,449950.0,289000.0,389000.0,327000.0,2885000.0,210000.0,1680000.0,360000.0,550000.0,257500.0,1075000.0,202950.0,622000.0,805000.0,257000.0,744500.0,355000.0,240000.0,169000.0,292000.0,563500.0,2750000.0,661000.0,344000.0,289000.0,365000.0,410000.0,535610.0,397950.0,284000.0,201000.0,734000.0,550120.0,374950.0,221000.0,375000.0,599000.0,562100.0,294000.0,714000.0,970000.0,260000.0,294000.0,255500.0,3300000.0,450000.0,368000.0,830000.0,282500.0,335000.0,558000.0,152000.0,493000.0,740000.0,1500000.0,424000.0,600000.0,802000.0,165000.0,750000.0,405000.0,521900.0,275000.0,600000.0,442500.0,229950.0,407185.0,468000.0,450000.0,219950.0,675000.0,420000.0,380000.0,515000.0,325000.0,875000.0,868500.0,657500.0,366000.0,385000.0,300000.0,459000.0,557865.0,375000.0,2110000.0,307300.0,225000.0,290000.0,690000.0,825000.0,645000.0,667000.0,664000.0,290000.0,475000.0,450000.0,538250.0,329950.0,307000.0,433000.0,750000.0,279000.0,476000.0,228950.0,568450.0,619000.0,275000.0,321500.0,230000.0,460000.0,427500.0,400000.0,675000.0,385000.0,525000.0,820000.0,500000.0,599000.0,947500.0,385000.0,639950.0,824000.0,199950.0,822000.0,473600.0,245000.0,199000.0,1340000.0,418000.0,280000.0,549000.0,913888.0,689888.0,305000.0,602500.0,756000.0,800000.0,403000.0,525126.0,241450.0,234000.0,441000.0,142500.0,310000.0,749500.0,267500.0,290000.0,850000.0,815000.0,1625000.0,175000.0,429950.0,675000.0,580000.0,374000.0,862500.0,740000.0,489900.0,545000.0,655000.0,185000.0,572000.0,375000.0,295000.0,760000.0,495000.0,925000.0,429000.0,229000.0,400000.0,625000.0,130000.0,349000.0,365000.0,475000.0,685000.0,960000.0,1100000.0,769950.0,385000.0,352000.0,622500.0,105000.0,420000.0,499950.0,975000.0,665000.0,540000.0,400000.0,469950.0,777000.0,346500.0,396500.0,783500.0,575000.0,1500000.0,300000.0,355000.0,223000.0,397000.0,392800.0,1690000.0,570000.0,250000.0,645000.0,567500.0,337000.0,280000.0,167000.0,280000.0,317500.0,405500.0,480000.0,425000.0,340000.0,405000.0,522000.0,710000.0,168500.0,490000.0,579000.0,600000.0,445000.0,362500.0,234000.0,321500.0,660000.0,319000.0,314000.0,517950.0,525000.0,1580000.0,325000.0,795000.0,850000.0,1010000.0,475000.0,375000.0,405000.0,420000.0,775000.0,620000.0,165000.0,480000.0,570000.0,280000.0,326000.0,600000.0,450000.0,489000.0,765000.0,262000.0,550000.0,285000.0,2200000.0,335000.0,510000.0,291000.0,335000.0,415000.0,430000.0,725000.0,700000.0,998000.0,547000.0,999000.0,633000.0,265800.0,530000.0,305000.0,513000.0,765000.0,550000.0,974350.0,245000.0,390000.0,1500000.0,500000.0,580050.0,980000.0,500000.0,361000.0,760000.0,475000.0,234000.0,234950.0,697000.0,593000.0,410000.0,445434.0,200126.0,290700.0,345000.0,525000.0,400000.0,159995.0,287000.0,185000.0,430000.0,346000.0,607000.0,417000.0,930000.0,280000.0,825000.0,307000.0,595000.0,600000.0,782000.0,610000.0,488000.0,750000.0,645000.0,785000.0,290000.0,248500.0,325000.0,272925.0,500000.0,250000.0,470000.0,440000.0,415950.0,402000.0,635000.0,479000.0,462370.0,925000.0,675000.0,320000.0,499950.0,435000.0,359800.0,239900.0,295000.0,508000.0,2400000.0,234500.0,355000.0,230000.0,430000.0,500000.0,345000.0,750000.0,360000.0,294000.0,400000.0,770000.0,443000.0,325000.0,640000.0,156000.0,996000.0,615000.0,717000.0,325250.0,1225000.0,557500.0,1260500.0,249950.0,260000.0,1989000.0,442900.0,475000.0,365000.0,2888000.0,350000.0,357500.0,520000.0,330000.0,310000.0,540000.0,322000.0,400000.0,412000.0,395000.0,195000.0,390000.0,165000.0,505000.0,796000.0,525000.0,417000.0,314950.0,350000.0,1045000.0,657000.0,485000.0,685000.0,242050.0,770000.0,246000.0,720000.0,925000.0,395000.0,1000000.0,406000.0,574800.0,770000.0,419000.0,333000.0,310000.0,2230000.0,310000.0,350000.0,610000.0,564800.0,855000.0,229000.0,260000.0,609000.0,277000.0,283000.0,385000.0,640000.0,335000.0,415000.0,1098000.0,1442500.0,180000.0,335000.0,835000.0,592500.0,418900.0,340000.0,545000.0,295000.0,625000.0,290000.0,475000.0,620000.0,525000.0,802500.0,569500.0,850000.0,454800.0,275000.0,729000.0,935000.0,481450.0,274000.0,499000.0,696500.0,265000.0,470000.0,220000.0,295000.0,1295000.0,294950.0,230000.0,721000.0,565000.0,438000.0,405000.0,282000.0,380950.0,349810.0,690000.0,526500.0,1040000.0,335000.0,570000.0,475000.0,405000.0,562000.0,383000.0,239950.0,998000.0,289000.0,199000.0,730000.0,244000.0,240000.0,350000.0,415000.0,1195000.0,379900.0,620000.0,524500.0,270000.0,236000.0,308500.0,989900.0,299000.0,295000.0,110000.0,295950.0,270000.0,712000.0,420000.0,446000.0,765000.0,967500.0,381000.0,716000.0,312200.0,327000.0,229950.0,160000.0,255000.0,530000.0,239000.0,537000.0,530000.0,213675.0,530000.0,390000.0,450000.0,700000.0,179000.0,1612500.0,299000.0,740000.0,860000.0,620000.0,410000.0,465000.0,825000.0,250000.0,635000.0,240000.0,713414.0,600000.0,270000.0,190000.0,435000.0,560000.0,998000.0,725000.0,210000.0,513000.0,290000.0,1260000.0,330000.0,189000.0,410000.0,622100.0,250000.0,1180000.0,545000.0,660000.0,260000.0,219900.0,380000.0,1060000.0,450000.0,379950.0,834800.0,365000.0,465000.0,452000.0,465000.0,240000.0,215500.0,552500.0,375000.0,160000.0,1070000.0,952000.0,523460.0,305950.0,400000.0,420000.0,865000.0,345000.0,201500.0,327000.0,540000.0,805000.0,521000.0,375000.0,240000.0,575000.0,1520000.0,394500.0,174950.0,383000.0,249950.0,459900.0,475000.0,605000.0,419000.0,910000.0,392000.0,915000.0,630000.0,416100.0,285000.0,297950.0,750000.0,495000.0,710000.0,310000.0,205000.0,725000.0,195000.0,401000.0,1030000.0,667500.0,300000.0,610000.0,1042030.0,430000.0,600000.0,561000.0,625000.0,740000.0,234999.0,329500.0,464950.0,415000.0,437500.0,599000.0,367000.0,989000.0,462600.0,335000.0,393000.0,1340000.0,925000.0,245000.0,505000.0,702000.0,337000.0,920000.0,495500.0,245000.0,395000.0,187000.0,450000.0,280000.0,1375000.0,265000.0,510000.0,699900.0,839000.0,396000.0,440000.0,405000.0,295000.0,275000.0,295000.0,1500000.0,795000.0,650000.0,260000.0,382000.0,220000.0,799000.0,1480000.0,367300.0,730000.0,402000.0,750000.0,458000.0,898000.0,1020000.0,1425000.0,240000.0,217000.0,972000.0,361280.0,385000.0,475000.0,935000.0,169950.0,585000.0,635000.0,432500.0,589000.0,152500.0,269950.0,731688.0,240000.0,555950.0,525000.0,745000.0,397000.0,625000.0,535000.0,360000.0,1105000.0,970000.0,915000.0,412000.0,426000.0,266000.0,325000.0,340000.0,447000.0,2450000.0,250000.0,439000.0,470000.0,299500.0,227000.0,735000.0,537000.0,699000.0,330000.0,229000.0,200000.0,522500.0,2000000.0,200000.0,267000.0,484000.0,402000.0,274000.0,1535000.0,628000.0,675000.0,429900.0,260000.0,690000.0,499000.0,159000.0,725000.0,150000.0,840000.0,285000.0,464000.0,723000.0,430000.0,925000.0,759000.0,690000.0,650000.0,288000.0,209950.0,939000.0,320000.0,283748.0,370000.0,360000.0,365000.0,396900.0,502000.0,257000.0,423000.0,500000.0,442000.0,194000.0,410000.0,1034500.0,348500.0,660000.0,235000.0,268000.0,525000.0,549950.0,370000.0,299000.0,1600000.0,534640.0,1225000.0,745000.0,320000.0,555700.0,690000.0,449000.0,308500.0,725126.0,245500.0,230000.0,425000.0,370000.0,390000.0,239000.0,289000.0,147400.0,245000.0,352500.0,270000.0,872500.0,225000.0,735000.0,169000.0,310000.0,975000.0,650000.0,930000.0,507000.0,230000.0,616200.0,509900.0,805000.0,350000.0,225000.0,335000.0,2200000.0,415000.0,399000.0,376000.0,340000.0,490000.0,374000.0,473000.0,431000.0,1051000.0,450000.0,244000.0,975000.0,350000.0,710000.0,1900000.0,528000.0,250000.0,155000.0,515000.0,350000.0,1300000.0,475000.0,645000.0,410000.0,725000.0,1150000.0,300000.0,585000.0,1395000.0,359000.0,745000.0,450000.0,615000.0,1031000.0,340000.0,1150000.0,265000.0,480000.0,667500.0,2300000.0,465000.0,192500.0,439800.0,468000.0,775000.0,684680.0,3640900.0,375000.0,250000.0,442500.0,900000.0,699000.0,360000.0,1675000.0,345000.0,392500.0,552000.0,457000.0,518000.0,237000.0,295000.0,772500.0,765000.0,696950.0,339999.0,364500.0,607500.0,192000.0,340000.0,340000.0,635250.0,78000.0,1330000.0,325000.0,314000.0,625000.0,809000.0,535000.0,275000.0,210000.0,622500.0,550000.0,340000.0,678000.0,493000.0,147000.0,605000.0,345000.0,999000.0,599000.0,255000.0,550000.0,1305000.0,520000.0,345000.0,475000.0,497500.0,649500.0,734500.0,276000.0,235000.0,325000.0,425000.0,635000.0,223000.0,275000.0,450000.0,1468000.0,550000.0,835000.0,900000.0,290000.0,1035000.0,572500.0,350000.0,476000.0,1046250.0,287000.0,707500.0,464500.0,720000.0,319000.0,330000.0,120750.0,195000.0,530000.0,436000.0,547500.0,762000.0,880000.0,1220000.0,382500.0,276000.0,500000.0,330000.0,328000.0,840500.0,679000.0,270000.0,524950.0,424900.0,421000.0,635000.0,255000.0,325000.0,655275.0,861000.0,850000.0,246000.0,380000.0,813000.0,990000.0,650000.0,273000.0,398000.0,200000.0,839000.0,502000.0,305000.0,574950.0,311000.0,1650000.0,387000.0,375000.0,175000.0,248000.0,685000.0,645000.0,279000.0,404000.0,1311000.0,1000000.0,660000.0,300000.0,500000.0,381500.0,305000.0,760000.0,195000.0,539500.0,299980.0,290000.0,518500.0,657000.0,590000.0,526000.0,409950.0,100000.0,497950.0,405000.0,295000.0,453500.0,1220000.0,275000.0,400000.0,915000.0,619850.0,525000.0,215000.0,802000.0,330000.0,549800.0,195500.0,338000.0,3200000.0,480000.0,560000.0,320000.0,665000.0,320000.0,250000.0,509950.0,1075000.0,349950.0,395000.0,269500.0,260000.0,266750.0,1800000.0,779000.0,500000.0,724000.0,890000.0,431000.0,242000.0,727160.0,1110000.0,1190000.0,1100000.0,575000.0,750500.0,527500.0,503000.0,1047000.0,325000.0,402000.0,370000.0,329950.0,482500.0,259000.0,210000.0,459000.0,375000.0,295000.0,910000.0,470000.0,339950.0,125000.0,2300000.0,439950.0,207000.0,320000.0,510000.0,730000.0,750000.0,560000.0,745000.0,1825000.0,180000.0,309950.0,330000.0,611000.0,294000.0,320900.0,369950.0,565000.0,400000.0,458000.0,436000.0,310000.0,398000.0,625000.0,1005000.0,790000.0,1681000.0,1120000.0,624000.0,687000.0,275000.0,687500.0,275000.0,700000.0,342500.0,483500.0,190000.0,540000.0,370000.0,260000.0,797000.0,640000.0,180000.0,220000.0,723000.0,249950.0,390000.0,705000.0,590000.0,292000.0,506000.0,907500.0,2271150.0,319500.0,237000.0,235000.0,359000.0,259950.0,253000.0,561000.0,267000.0,368000.0,599995.0,342500.0,252000.0,247200.0,910000.0,799950.0,400000.0,210000.0,710000.0,375000.0,185000.0,402000.0,585000.0,1715000.0,1680000.0,680000.0,345000.0,390000.0,448500.0,346000.0,779000.0,1850000.0,1075000.0,371000.0,620000.0,343000.0,265000.0,1000000.0,825000.0,407000.0,613000.0,1637500.0,1160000.0,610000.0,300000.0,1120000.0,250000.0,619000.0,500000.0,465000.0,322000.0,480000.0,825000.0,150000.0,440000.0,751000.0,295000.0,422500.0,480000.0,890900.0,672500.0,605000.0,565000.0,640000.0,799950.0,595000.0,850000.0,366000.0,715000.0,300000.0,960000.0,234950.0,656500.0,255000.0,538000.0,260000.0,546200.0,295000.0,700000.0,560000.0,437000.0,500000.0,485000.0,540000.0,356000.0,525000.0,315000.0,525000.0,550000.0,182200.0,315000.0,500000.0,480000.0,1690000.0,525000.0,1256500.0,642000.0,750000.0,275000.0,265000.0,699950.0,359950.0,517000.0,579000.0,525000.0,635000.0,400000.0,455000.0,400000.0,989000.0,342000.0,277500.0,385000.0,426000.0,310000.0,375000.0,392000.0,412500.0,133000.0,294450.0,335000.0,362000.0,322000.0,292000.0,172500.0,784000.0,525000.0,600000.0,435000.0,700000.0,655000.0,540000.0,330000.0,474000.0,1300000.0,1160000.0,411000.0,500000.0,1335000.0,696000.0,465000.0,518000.0,251000.0,319000.0,719000.0,1520000.0,395000.0,583500.0,539000.0,510250.0,535000.0,280000.0,395000.0,237500.0,495000.0,362000.0,640000.0,172500.0,1600000.0,435000.0,251000.0,282500.0,265000.0,330000.0,435000.0,827235.0,249950.0,300499.0,500000.0,865000.0,899950.0,370000.0,310000.0,1565000.0,245000.0,254950.0,510000.0,379950.0,350000.0,300000.0,994000.0,315000.0,480500.0,373000.0,728000.0,415000.0,427500.0,339300.0,313000.0,431500.0,1180000.0,690000.0,960000.0,299250.0,239000.0,235000.0,587000.0,431000.0,1636000.0,285000.0,778000.0,415000.0,910000.0,860000.0,765000.0,782000.0,745000.0,470000.0,345000.0,500000.0,237000.0,200500.0,392500.0,981000.0,680000.0,276000.0,655500.0,555000.0,268950.0,264500.0,240000.0,294950.0,693000.0,478000.0,469000.0,350000.0,180000.0,360000.0,630000.0,279950.0,317000.0,618000.0,345000.0,608000.0,325000.0,475000.0,154000.0,1190000.0,376950.0,500000.0,185000.0,274950.0,129000.0,825000.0,225000.0,509000.0,465000.0,564000.0,415000.0,345000.0,465950.0,325000.0,450000.0,475000.0,1346400.0,395000.0,505000.0,215000.0,540000.0,392500.0,987000.0,252500.0,497300.0,640000.0,580000.0,377000.0,1280000.0,396500.0,300000.0,571000.0,301950.0,660000.0,455000.0,375000.0,640000.0,1365000.0,390000.0,600000.0,331000.0,780000.0,300000.0,361810.0,467000.0,399000.0,315450.0,500000.0,367500.0,560000.0,655000.0,530000.0,437500.0,278000.0,568500.0,250000.0,1250000.0,535000.0,814842.0,359950.0,750000.0,1220000.0,370000.0,734000.0,385000.0,1385000.0,210000.0,293000.0,465000.0,180000.0,665000.0,324450.0,200000.0,383000.0,499950.0,450000.0,1200000.0,589000.0,305000.0,587000.0,1425000.0,833000.0,860000.0,550000.0,507000.0,427000.0,616950.0,372000.0,290000.0,393500.0,1550000.0,240000.0,285000.0,800000.0,387846.0,367500.0,780500.0,434400.0,370000.0,1320000.0,560000.0,290000.0,354000.0,445000.0,229900.0,535000.0,540000.0,570000.0,533000.0,239950.0,245000.0,456000.0,465000.0,517850.0,329000.0,512500.0,365000.0,915000.0,205000.0,314000.0,496000.0,375000.0,623000.0,310000.0,960000.0,598000.0,683000.0,533000.0,375000.0,250500.0,257000.0,218000.0,460000.0,560000.0,1300000.0,475000.0,1309500.0,590000.0,465000.0,1815000.0,416000.0,585083.0,840000.0,326000.0,185000.0,439950.0,234000.0,485000.0,750000.0,287500.0,375000.0,565000.0,190000.0,399950.0,528000.0,315000.0,614306.0,590000.0,300000.0,439000.0,277554.0,215000.0,1200000.0,202500.0,260000.0,254000.0,600000.0,285000.0,800000.0,165000.0,216500.0,387990.0,500000.0,650000.0,646000.0,300000.0,712500.0,550000.0,255000.0,660000.0,534000.0,215000.0,1950000.0,1400000.0,265000.0,400000.0,225000.0,1250000.0,600000.0,600000.0,315000.0,847000.0,1058000.0,276693.0,185000.0,160000.0,270000.0,300000.0,264950.0,645000.0,632500.0,289950.0,850000.0,565000.0,260000.0,295500.0,329000.0,1307000.0,405000.0,615000.0,887000.0,1057000.0,753000.0,1600000.0,3710000.0,365000.0,870000.0,321000.0,288000.0,330000.0,740000.0,445000.0,280000.0,336500.0,315000.0,545000.0,274950.0,500000.0,299000.0,575950.0,666500.0,180000.0,261350.0,253500.0,625000.0,255000.0,257000.0,869000.0,745000.0,1350000.0,350000.0,475000.0,540000.0,175000.0,100000.0,890000.0,280000.0,1050000.0,486000.0,670000.0,480000.0,440000.0,1500000.0,743700.0,449950.0,367000.0,1185000.0,575000.0,600000.0,207000.0,262500.0,399000.0,575000.0,580000.0,468000.0,675000.0,318000.0,332100.0,817000.0,490000.0,250000.0,781000.0,400000.0,935000.0,575000.0,1660000.0,302300.0,1538000.0,361500.0,616000.0,245000.0,206000.0,706000.0,341950.0,305000.0,575000.0,330000.0,333000.0,598500.0,225000.0,570000.0,630000.0,595000.0,321000.0,750000.0,530000.0,352750.0,427000.0,558000.0,438200.0,340000.0,830005.0,548000.0,411715.0,865000.0,688000.0,677000.0,539000.0,410000.0,755000.0,269900.0,667400.0,1220000.0,544000.0,315000.0,227000.0,765000.0,625000.0,1875000.0,525300.0,760000.0,202000.0,470000.0,810000.0,440000.0,405000.0,779950.0,658100.0,397000.0,815000.0,345000.0,305500.0,340000.0,349950.0,735000.0,414000.0,619500.0,675000.0,253000.0,157500.0,627000.0,469500.0,319950.0,1125000.0,314500.0,444950.0,598000.0,699850.0,595000.0,735000.0,542500.0,298500.0,403950.0,271000.0,335000.0,305000.0,253000.0,395000.0,265000.0,225000.0,338500.0,300000.0,255000.0,337000.0,821000.0,500000.0,360000.0,304000.0,425000.0,1180500.0,187000.0,710000.0,250000.0,950000.0,725000.0,505000.0,651000.0,355000.0,155000.0,1000000.0,592100.0,362000.0,227000.0,335500.0,213000.0,163500.0,199988.0,1185000.0,450000.0,249900.0,223000.0,279000.0,185000.0,365000.0,385000.0,345000.0,1260000.0,440000.0,444500.0,340000.0,420000.0,438500.0,109500.0,968000.0,355000.0,269000.0,1350000.0,885000.0,980000.0,412500.0,740000.0,1298000.0,568500.0,620000.0,875000.0,289950.0,252500.0,376000.0,635700.0,710000.0,439000.0,455000.0,225000.0,250000.0,420000.0,245000.0,275000.0,270000.0,767250.0,229000.0,2195000.0,665000.0,369000.0,675000.0,369950.0,615000.0,950000.0,799500.0,187000.0,598000.0,851000.0,205000.0,705000.0,712000.0,335000.0,470000.0,367000.0,440500.0,305000.0,635000.0,1020000.0,342000.0,283000.0,245000.0,355500.0,324900.0,660000.0,570000.0,552321.0,1100000.0,237000.0,470000.0,442000.0,795000.0,190500.0,808000.0,500000.0,775000.0,300000.0,448000.0,645000.0,464600.0,590000.0,399000.0,305000.0,478000.0,598800.0,430000.0,433000.0,585000.0,255000.0,347500.0,900000.0,425000.0,429000.0,221000.0,405000.0,588000.0,234950.0,580000.0,637000.0,704000.0,210000.0,772000.0,255000.0,423500.0,520000.0,550000.0,495000.0,239000.0,184900.0,415000.0,340000.0,442000.0,280000.0,1150000.0,279000.0,569000.0,1355000.0,336000.0,500000.0,365000.0,554000.0,424000.0,508500.0,206000.0,643500.0,372500.0,630000.0,418000.0,208000.0,476000.0,478000.0,890000.0,205000.0,665000.0,518000.0,465000.0,330000.0,449400.0,310000.0,615000.0,605000.0,437500.0,545000.0,770000.0,600000.0,560000.0,457000.0,585000.0,560000.0,550000.0,589950.0,327000.0,800000.0,150000.0,425000.0,350000.0,240000.0,230000.0,459500.0,582000.0,465000.0,386000.0,546000.0,278000.0,540000.0,529000.0,554000.0,210000.0,561600.0,300000.0,1650000.0,1017100.0,150000.0,400950.0,449000.0,630000.0,299950.0,150000.0,305000.0,2574000.0,607500.0,505000.0,280500.0,610000.0,381000.0,482000.0,379950.0,2500000.0,425000.0,580000.0,194000.0,1395000.0,465000.0,330000.0,795000.0,265000.0,760000.0,540000.0,446000.0,379000.0,800000.0,392000.0,449950.0,546800.0,333000.0,380000.0,202000.0,435000.0,1200000.0,364000.0,300000.0,199950.0,515000.0,590000.0,813500.0,277000.0,325000.0,649800.0,425000.0,750000.0,469000.0,566000.0,407500.0,353500.0,524000.0,264950.0,547500.0,264500.0,507500.0,560000.0,995000.0,440000.0,1015000.0,300000.0,125000.0,986000.0,315000.0,320000.0,972000.0,760000.0,265000.0,355000.0,300000.0,474950.0,470000.0,437500.0,520000.0,237600.0,162950.0,457000.0,635000.0,735000.0,910000.0,346500.0,655000.0,425000.0,557500.0,415000.0,830000.0,420000.0,560000.0,445700.0,226000.0,358000.0,734950.0,725000.0,350500.0,610000.0,605125.0,335000.0,397000.0,240000.0,240000.0,262500.0,440000.0,427000.0,920000.0,2300000.0,480000.0,615000.0,736500.0,542500.0,730000.0,1225000.0,129000.0,284000.0,218000.0,675000.0,575000.0,225000.0,405000.0,152500.0,325000.0,475300.0,465000.0,489000.0,3100000.0,225000.0,632000.0,580000.0,415000.0,401000.0,335000.0,339000.0,414950.0,650000.0,445000.0,296500.0,440000.0,420000.0,302000.0,667000.0,430000.0,413000.0,420000.0,495000.0,2187730.0,500000.0,636100.0,720000.0,409000.0,370000.0,230000.0,917000.0,957000.0,482000.0,488000.0,760369.0,170000.0,357000.0,173250.0,414050.0,400000.0,465000.0,425000.0,445000.0,179950.0,190000.0,385000.0,710000.0,269950.0,838000.0,670500.0,370000.0,360000.0,562500.0,360500.0,389999.0,450000.0,455000.0,379400.0,190000.0,326188.0,168000.0,314000.0,630000.0,530000.0,700000.0,272000.0,550000.0,580000.0,568000.0,469000.0,415000.0,390000.0,350000.0,625000.0,675000.0,431000.0,250000.0,268500.0,295000.0,780000.0,305000.0,640000.0,1475000.0,625000.0,350000.0,650000.0,435000.0,660000.0,375900.0,272000.0,500000.0,712000.0,425000.0,242000.0,515000.0,415000.0,375000.0,182500.0,360000.0,413000.0,960000.0,180000.0,770000.0,224400.0,385000.0,325000.0,294999.0,175000.0,290000.0,1776000.0,367500.0,334999.0,655000.0,1298000.0,297950.0,805000.0,500000.0,490000.0,750000.0,209995.0,680000.0,355000.0,385000.0,505000.0,429900.0,560000.0,231000.0,800000.0,420000.0,360000.0,642000.0,745000.0,630000.0,275000.0,560000.0,325000.0,1185000.0,399950.0,752000.0,400000.0,240000.0,640000.0,502000.0,993500.0,450000.0,997950.0,526000.0,187250.0,735000.0,110000.0,305000.0,298950.0,707000.0,695000.0,796500.0,420000.0,625000.0,620000.0,1450000.0,705000.0,197000.0,297000.0,207500.0,410000.0,268000.0,330000.0,417500.0,760000.0,499000.0,620000.0,315000.0,300000.0,299000.0,1880000.0,265000.0,280000.0,124740.0,1970000.0,212500.0,680000.0,1457000.0,300000.0,349900.0,690000.0,696000.0,640000.0,499950.0,490000.0,685000.0,254950.0,856500.0,552000.0,506500.0,500000.0,280000.0,255000.0,545000.0,620000.0,450000.0,274950.0,423000.0,368000.0,232000.0,250000.0,435000.0,350000.0,206325.0,735000.0,378000.0,775000.0,2250000.0,380000.0,379770.0,340000.0,600000.0,400000.0,364000.0,440000.0,285000.0,475000.0,390000.0,1205000.0,518000.0,147500.0,427500.0,1735000.0,265950.0,247500.0,244000.0,451000.0,489000.0,485000.0,530000.0,189950.0,637500.0,209950.0,543500.0,376000.0,430000.0,515000.0,580000.0,476800.0,455600.0,270000.0,1200000.0,525000.0,242000.0,715000.0,370000.0,788600.0,160000.0,800000.0,520000.0,725000.0,335000.0,905000.0,435000.0,438000.0,725000.0,840000.0,425500.0,853505.0,398000.0,418500.0,826000.0,742000.0,180000.0,421200.0,390000.0,739000.0,499900.0,670000.0,842500.0,492500.0,836500.0,179900.0,563000.0,335000.0,658500.0,297000.0,725000.0,780000.0,252500.0,330000.0,365000.0,179950.0,440000.0,145000.0,780000.0,225000.0,199000.0,550000.0,1425000.0,805000.0,261000.0,347000.0,390000.0,436000.0,557000.0,1388000.0,739000.0,269000.0,290000.0,219000.0,416000.0,302000.0,480000.0,775000.0,375000.0,345000.0,410000.0,445000.0,530000.0,353500.0,209950.0,325000.0,257000.0,337000.0,541000.0,577500.0,560000.0,979700.0,750000.0,407500.0,530000.0,465000.0,287600.0,630000.0,330000.0,463000.0,1870000.0,219500.0,622200.0,474800.0,465000.0,389950.0,650000.0,395000.0,304500.0,1562000.0,601000.0,597500.0,284000.0,340000.0,270000.0,365000.0,428000.0,405000.0,339900.0,275000.0,361600.0,1050000.0,959750.0,210000.0,258000.0,468000.0,431000.0,982000.0,665000.0,1215000.0,380000.0,220000.0,631500.0,386100.0,1050000.0,870000.0,380000.0,645500.0,570000.0,605000.0,199500.0,495000.0,594000.0,465000.0,340000.0,870000.0,249000.0,220000.0,368500.0,439950.0,179900.0,490000.0,425000.0,533300.0,768000.0,285000.0,336900.0,415000.0,500000.0,337000.0,419950.0,349950.0,330000.0,965000.0,515000.0,665000.0,265000.0,545400.0,350000.0,260000.0,355000.0,879000.0,833000.0,512500.0,417500.0,970000.0,316000.0,1350000.0,840000.0,270000.0,312900.0,680000.0,375000.0,219000.0,90000.0,269500.0,428950.0,800000.0,401000.0,355000.0,350000.0,406500.0,160000.0,970000.0,115000.0,124000.0,183000.0,527000.0,407193.0,535000.0,245000.0,337000.0,320000.0,447000.0,226500.0,436000.0,451000.0,450000.0,635000.0,329900.0,531000.0,725000.0,355300.0,1095000.0,605004.0,748000.0,425000.0,440000.0,858450.0,390000.0,957000.0,507000.0,253000.0,805000.0,920000.0,496600.0,246000.0,585000.0,746000.0,598555.0,820000.0,266500.0,625000.0,243500.0,559950.0,550000.0,465000.0,465000.0,505000.0,217500.0,500000.0,500000.0,924000.0,2005000.0,560000.0,599000.0,211000.0,389900.0,710000.0,275250.0,250000.0,399500.0,225000.0,364900.0,356000.0,755000.0,327500.0,633000.0,990000.0,410000.0,590000.0,775000.0,680000.0,572500.0,559900.0,845000.0,241000.0,1325000.0,455000.0,839000.0,600000.0,515000.0,565000.0,498000.0,739000.0,355000.0,263000.0,375000.0,322000.0,290000.0,809950.0,969500.0,665000.0,272450.0,488800.0,398950.0,160000.0,447000.0,1320000.0,445000.0,325000.0,345000.0,300000.0,530000.0,535000.0,345000.0,590000.0,187000.0,270000.0,520000.0,515000.0,990000.0,900000.0,460000.0,234000.0,475000.0,799000.0,421000.0,895000.0,386000.0,424000.0,749000.0,523000.0,389000.0,270000.0,275000.0,287500.0,345000.0,427000.0,508450.0,705000.0,550000.0,539900.0,330000.0,455000.0,510000.0,206000.0,592500.0,744000.0,334500.0,886000.0,600000.0,184900.0,245000.0,370000.0,579000.0,339275.0,950000.0,623000.0,477000.0,330000.0,600000.0,570000.0,515000.0,638150.0,269950.0,195000.0,299000.0,275000.0,480000.0,420000.0,849000.0,718000.0,295000.0,430000.0,440000.0,405000.0,340000.0,675000.0,480000.0,362500.0,752888.0,255000.0,283700.0,335000.0,285000.0,278000.0,540000.0,852000.0,440000.0,379000.0,360000.0,645000.0,217000.0,255000.0,625000.0,680000.0,440000.0,615000.0,239000.0,619400.0,975000.0,330000.0,985000.0,2458000.0,778000.0,219000.0,1595000.0,950000.0,425000.0,239000.0,310000.0,428000.0,600000.0,401000.0,292000.0,291750.0,675000.0,397500.0,206000.0,1190000.0,360000.0,427500.0,115000.0,559000.0,420000.0,550000.0,282150.0,428000.0,319950.0,1350000.0,552000.0,213000.0,390000.0,287000.0,580000.0,424000.0,1320000.0,623500.0,260000.0,290000.0,599950.0,550000.0,289000.0,411000.0,400000.0,342000.0,475000.0,1205000.0,455000.0,850000.0,850000.0,239900.0,765000.0,437000.0,240000.0,525000.0,560000.0,458450.0,430000.0,615000.0,575000.0,2027000.0,430000.0,400000.0,340000.0,440000.0,310000.0,500000.0,343000.0,415000.0,410000.0,1990000.0,253000.0,630000.0,212000.0,969950.0,715000.0,1321620.0,1444000.0,305000.0,458000.0,550000.0,742000.0,700000.0,640000.0,630000.0,285000.0,255000.0,315000.0,830000.0,980000.0,735000.0,500000.0,285500.0,498000.0,412000.0,199000.0,492500.0,585000.0,326995.0,372500.0,528000.0,400000.0,344000.0,409950.0,625000.0,381500.0,215000.0,314000.0,800000.0,400000.0,247000.0,410000.0,525000.0,244000.0,275000.0,577000.0,446950.0,457000.0,210000.0,220000.0,589000.0,435000.0,375000.0,1735000.0,545000.0,970000.0,705000.0,1695000.0,427000.0,390000.0,612000.0,380000.0,230000.0,770000.0,207200.0,883000.0,343500.0,244000.0,397000.0,718000.0,279950.0,689000.0,828000.0,150000.0,1680000.0,217450.0,677000.0,620000.0,176000.0,290000.0,711000.0,1096500.0,257500.0,240000.0,645000.0,499000.0,321000.0,449000.0,456000.0,865000.0,515500.0,576925.0,253400.0,271500.0,765000.0,852500.0,475000.0,462000.0,762400.0,473000.0,550000.0,449500.0,744000.0,511100.0,317950.0,542950.0,490000.0,1702500.0,399000.0,627000.0,346500.0,373000.0,725000.0,376000.0,552500.0,365000.0,700000.0,660000.0,660500.0,280000.0,267000.0,230000.0,417000.0,252000.0,415000.0,339000.0,535000.0,590000.0,542500.0,1100000.0,368000.0,825000.0,273500.0,770000.0,225000.0,450000.0,334850.0,760000.0,390000.0,488000.0,3300000.0,1385000.0,299950.0,355000.0,1855000.0,660000.0,2367000.0,255950.0,475000.0,362950.0,452000.0,315000.0,535000.0,340000.0,312000.0,270000.0,529999.0,587100.0,459800.0,451000.0,2475000.0,525000.0,250000.0,475000.0,230000.0,581000.0,415000.0,522500.0,315000.0,591000.0,750000.0,430000.0,538000.0,464000.0,740000.0,395000.0,539000.0,330000.0,1387800.0,260000.0,469900.0,493000.0,740000.0,148900.0,475000.0,415000.0,229500.0,1355000.0,385000.0,425000.0,189900.0,968060.0,921000.0,380000.0,285000.0,449000.0,625000.0,318989.0,445000.0,330000.0,280000.0,476500.0,556000.0,1862000.0,637000.0,405000.0,397000.0,895990.0,259000.0,420000.0,518000.0,425000.0,182500.0,549900.0,445000.0,452000.0,715000.0,559000.0,3300000.0,250000.0,1230000.0,440000.0,543200.0,250000.0,625000.0,530100.0,549900.0,835000.0,409500.0,329000.0,940000.0,539950.0,881000.0,362500.0,658000.0,218250.0,655000.0,2920000.0,494000.0,560000.0,130000.0,480000.0,475000.0,765000.0,372000.0,470000.0,451000.0,442200.0,330000.0,335000.0,280000.0,625000.0,345000.0,255950.0,273148.0,246500.0,418000.0,622500.0,260000.0,975000.0,1140000.0,554000.0,343000.0,492000.0,952500.0,235000.0,1050000.0,265000.0,419995.0,455000.0,319000.0,390000.0,718500.0,474000.0,615750.0,551000.0,790000.0,325000.0,705000.0,259000.0,306000.0,315000.0,1065000.0,350500.0,825000.0,235000.0,675000.0,265000.0,822500.0,2630000.0,685000.0,630000.0,1250000.0,850000.0,410000.0,252000.0,618000.0,265000.0,465000.0,217000.0,415000.0,274000.0,1415000.0,618500.0,1728000.0,261000.0,780000.0,589000.0,690000.0,380000.0,357500.0,330000.0,401000.0,705000.0,325000.0,384950.0,310000.0,829950.0,170500.0,885250.0,2700000.0,245000.0,469000.0,455000.0,305000.0,840000.0,905000.0,219200.0,195000.0,799000.0,285000.0,300000.0,83000.0,174500.0,255000.0,571500.0,3300000.0,186950.0,520000.0,358000.0,210000.0,543000.0,529000.0,295000.0,365000.0,473000.0,403500.0,544000.0,621000.0,672600.0,808000.0,301000.0,340000.0,206000.0,550000.0,325000.0,475000.0,432100.0,648360.0,340000.0,115000.0,300000.0,1650000.0,280000.0,245000.0,564000.0,849000.0,319000.0,695000.0,287500.0,465000.0,335000.0,602000.0,220000.0,206000.0,390000.0,635000.0,490000.0,770000.0,665000.0,287000.0,410000.0,475000.0,387500.0,580000.0,930000.0,325000.0,235000.0,450000.0,223000.0,630000.0,413450.0,720000.0,839000.0,2950000.0,568000.0,405000.0,572000.0,675000.0,165000.0,810000.0,651000.0,240000.0,299000.0,768000.0,397380.0,476000.0,240000.0,325000.0,160000.0,688000.0,530000.0,250200.0,732500.0,194250.0,526000.0,1135250.0,202000.0,645500.0,725000.0,192000.0,560000.0,283450.0,863000.0,815000.0,1315000.0,1156000.0,480000.0,600000.0,329950.0,299500.0,460000.0,405000.0,483000.0,568000.0,355000.0,640000.0,515000.0,352000.0,595888.0,588000.0,260000.0,802000.0,1325000.0,600000.0,707900.0,179950.0,683000.0,222400.0,517000.0,410000.0,480000.0,379000.0,575000.0,385000.0,423000.0,550000.0,415000.0,693000.0,1388000.0,572000.0,725000.0,454000.0,249000.0,395000.0,690000.0,526500.0,325000.0,825000.0,383000.0,475000.0,275000.0,1150000.0,455000.0,262000.0,390000.0,300000.0,746300.0,267000.0,360000.0,699950.0,375000.0,625000.0,464050.0,470000.0,330000.0,537000.0,650000.0,335000.0,350000.0,415000.0,788000.0,640000.0,388000.0,360000.0,425000.0,430000.0,306000.0,299900.0,534000.0,1160000.0,1165000.0,199990.0,946000.0,1225000.0,192500.0,309000.0,759000.0,462000.0,229000.0,399950.0,512000.0,410000.0,210000.0,325000.0,488000.0,489000.0,725000.0,275000.0,255000.0,465000.0,695000.0,631500.0,630500.0,999000.0,740000.0,650000.0,554000.0,400000.0,310000.0,731781.0,443000.0,607000.0,2147500.0,585000.0,1027000.0,315000.0,180000.0,322500.0,568500.0,813000.0,424000.0,235000.0,740000.0,415000.0,432000.0,676500.0,419000.0,239000.0,900000.0,510000.0,465000.0,1700000.0,490000.0,2680000.0,1000000.0,469950.0,536000.0,293000.0,445000.0,280000.0,520000.0,780000.0,625000.0,335000.0,200000.0,345000.0,855000.0,208000.0,452000.0,555000.0,519000.0,474950.0,390000.0,539000.0,569000.0,611000.0,760000.0,732000.0,1675000.0,919950.0,400000.0,785000.0,835000.0,355000.0,685000.0,202500.0,295000.0,330000.0,481000.0,898000.0,570000.0,380000.0,790000.0,709050.0,296500.0,475000.0,440000.0,405000.0,520000.0,229500.0,335000.0,680000.0,740000.0,300000.0,675000.0,925850.0,255500.0,450000.0,280000.0,381000.0,1945000.0,232603.0,220000.0,600000.0,239000.0,400000.0,2180000.0,350000.0,562000.0,380000.0,511200.0,680000.0,350000.0,1050000.0,391265.0,1410000.0,850000.0,210000.0,325000.0,430000.0,325500.0,385000.0,550000.0,400000.0,503000.0,676000.0,180000.0,234000.0,734200.0,920000.0,1920000.0,224000.0,185000.0,554600.0,268000.0,675000.0,620000.0,396450.0,565000.0,410000.0,1190000.0,716125.0,225000.0,640000.0,374000.0,592500.0,365000.0,600000.0,465000.0,279000.0,460000.0,507000.0,291000.0,350000.0,90000.0,329000.0,909000.0,187000.0,580000.0,345000.0,497000.0,345000.0,313500.0,399950.0,268000.0,559000.0,309000.0,410000.0,259000.0,950000.0,320000.0,394250.0,315000.0,480000.0,556000.0,450000.0,420000.0,295000.0,410000.0,308900.0,1161000.0,577000.0,959000.0,471000.0,955000.0,1240000.0,579000.0,485000.0,552000.0,950000.0,412000.0,866800.0,200000.0,280000.0,140000.0,370000.0,550000.0,1411600.0,510000.0,351000.0,137000.0,270000.0,540000.0,565000.0,385000.0,400000.0,353250.0,475000.0,571500.0,736000.0,581000.0,629000.0,3800000.0,225000.0,315000.0,346500.0,1001000.0,400000.0,724950.0,623000.0,295000.0,700000.0,770000.0,310000.0,720000.0,512000.0,303000.0,299000.0,285000.0,680000.0,285000.0,707000.0,690000.0,290000.0,340500.0,365000.0,725000.0,811000.0,299000.0,879950.0,135900.0,1225000.0,522500.0,218000.0,324950.0,718500.0,495000.0,260000.0,430000.0,402500.0,1415000.0,275000.0,250000.0,665000.0,760000.0,447000.0,205000.0,191000.0,695000.0,550000.0,850000.0,550000.0,774900.0,250000.0,962800.0,299500.0,250000.0,450000.0,307700.0,665000.0,375000.0,148000.0,707000.0,399000.0,570000.0,400000.0,615000.0,600000.0,429000.0,980000.0,715000.0,455000.0,610000.0,235000.0,827000.0,353000.0,747500.0,182000.0,250000.0,655000.0,405000.0,390000.0,275400.0,791000.0,424500.0,430000.0,920000.0,1028950.0,325000.0,315000.0,227000.0,179000.0,276000.0,430000.0,266490.0,655000.0,635500.0,235000.0,352500.0,450000.0,3635000.0,1050000.0,476000.0,375000.0,600600.0,567000.0,650000.0,190000.0,858000.0,252000.0,512500.0,423800.0,434000.0,585000.0,230000.0,450000.0,517000.0,400000.0,209000.0,430000.0,735000.0,475000.0,325000.0,500000.0,187300.0,345600.0,400000.0,374000.0,328000.0,257500.0,1003000.0,216500.0,1185000.0,360000.0,535000.0,925000.0,930000.0,727500.0,695000.0,585000.0,319000.0,359000.0,661000.0,900000.0,2000000.0,229500.0,589000.0,640000.0,338000.0,199900.0,1059000.0,263000.0,279950.0,395000.0,252500.0,205000.0,654000.0,700000.0,2720000.0,306000.0,340000.0,450000.0,580000.0,435000.0,690000.0,720000.0,440000.0,178500.0,270000.0,129888.0,339950.0,250000.0,660000.0,1225000.0,550000.0,1000000.0,391500.0,302000.0,495000.0,504500.0,550000.0,1800000.0,1518630.0,458000.0,295000.0,930000.0,249900.0,675000.0,447000.0,310000.0,650000.0,585000.0,1430800.0,174900.0,360000.0,575000.0,370000.0,606000.0,272500.0,270000.0,624000.0,355000.0,345000.0,342000.0,316000.0,539950.0,330000.0,279000.0,850000.0,478000.0,2160000.0,820000.0,159000.0,824000.0,812000.0,242000.0,625000.0,399888.0,289000.0,400000.0,1550000.0,345000.0,875000.0,535000.0,770126.0,710000.0,465000.0,359000.0,820000.0,535000.0,215000.0,1950000.0,390000.0,570000.0,383000.0,371000.0,608000.0,450000.0,780000.0,290000.0,225000.0,805000.0,299000.0,530000.0,680000.0,244000.0,509000.0,440000.0,244000.0,399700.0,519000.0,211000.0,950000.0,410000.0,133400.0,539000.0,688000.0,465000.0,936000.0,620000.0,429950.0,296475.0,445000.0,846000.0,625000.0,535000.0,229950.0,850000.0,589900.0,513000.0,401000.0,260000.0,229000.0,445000.0,215000.0,504975.0,495000.0,152275.0,779950.0,557000.0,610000.0,405000.0,320000.0,356000.0,349000.0,549000.0,193000.0,700000.0,565000.0,1450000.0,333000.0,580000.0,289950.0,505000.0,324950.0,490000.0,630000.0,595000.0,1900000.0,539000.0,888550.0,269950.0,142000.0,300000.0,780000.0,545000.0,342000.0,387000.0,439000.0,774888.0,480000.0,835000.0,1225000.0,600000.0,305000.0,216500.0,492650.0,431200.0,351000.0,850000.0,885000.0,399950.0,185000.0,440000.0,2395000.0,299000.0,299500.0,234000.0,540000.0,649950.0,370000.0,410000.0,257000.0,350000.0,380000.0,488000.0,465000.0,445000.0,545000.0,518000.0,565000.0,968000.0,315500.0,487585.0,819000.0,349900.0,267000.0,525000.0,578000.0,425000.0,268000.0,240000.0,1010000.0,510000.0,1980000.0,484998.0,1280000.0,210000.0,450000.0,415000.0,379950.0,588000.0,252500.0,530000.0,419000.0,175000.0,359900.0,419950.0,460000.0,481000.0,1080000.0,334000.0,675000.0,556000.0,900000.0,400000.0,321000.0,1356920.0,171000.0,1360000.0,491500.0,226000.0,580000.0,640000.0,619790.0,383962.0,373000.0,541338.0,254922.0,575000.0,650000.0,269950.0,495000.0,794154.0,340768.0,375000.0,820000.0,555000.0,312500.0,450000.0,235000.0,564000.0,257000.0,300000.0,328000.0,187500.0,669000.0,663000.0,335000.0,689000.0,500000.0,540000.0,812000.0,1200000.0,370000.0,338000.0,185000.0,450000.0,451000.0,850000.0,235000.0,377500.0,825500.0,1059500.0,880000.0,413800.0,504200.0,580000.0,329900.0,921800.0,363990.0,399000.0,338900.0,650000.0,456000.0,425000.0,1040890.0,299000.0,1264000.0,155000.0,274000.0,429000.0,267800.0,440000.0,290000.0,370000.0,499431.0,275000.0,320000.0,425000.0,299900.0,865950.0,720000.0,460000.0,375000.0,359000.0,785000.0,390000.0,1054690.0,915000.0,349000.0,375000.0,479950.0,325000.0,505657.0,349500.0,689950.0,425000.0,359950.0,319900.0,675000.0,1450000.0,780000.0,839950.0,263000.0,345000.0,505000.0,522500.0,400000.0,543000.0,495000.0,549995.0,384435.0,780000.0,1375000.0,489000.0,282000.0,442000.0,250000.0,484259.0,299000.0,450000.0,660000.0,301500.0,949950.0,759990.0,889950.0,629800.0,379900.0,335000.0,809000.0,569950.0,723000.0,282000.0,569900.0,420000.0,2250000.0,1205000.0,292000.0,815000.0,245000.0,465000.0,580000.0,399000.0,328000.0,408000.0,445000.0,672500.0,538000.0,450000.0,362500.0,414950.0,290000.0,230000.0,349900.0,550000.0,385000.0,523950.0,369000.0,509900.0,282000.0,387865.0,385000.0,536000.0,395000.0,545000.0,348000.0,455000.0,575000.0,449950.0,364000.0,932990.0,710000.0,326989.0,335606.0,1532500.0,299950.0,962000.0,395825.0,419354.0,920000.0,366000.0,480000.0,388000.0,950000.0,358990.0,398651.0,530000.0,610360.0,436110.0,925000.0,760000.0,293000.0,285000.0,1255780.0,379900.0,300000.0,272000.0,418395.0,465000.0,659950.0,519000.0,1710000.0,535000.0,515000.0,330000.0,439000.0,1079000.0,1100000.0,550000.0,435000.0,625000.0,400000.0,979000.0,665000.0,589500.0,320000.0,430000.0,995500.0,427874.0,334990.0,515000.0,310000.0,700000.0,907687.0,741500.0,395000.0,215000.0,695000.0,389950.0,288790.0,615000.0,500000.0,615000.0,500000.0,622000.0,1260000.0,515000.0,1262000.0,400000.0,450000.0,804995.0,435000.0,398000.0,411605.0,315000.0,455000.0,380000.0,340000.0,409950.0,440000.0,730000.0,408000.0,820000.0,360000.0,339990.0,515000.0,320000.0,450000.0,455000.0,650000.0,829995.0,395000.0,859990.0,342500.0,743000.0,345000.0,443000.0,260000.0,810000.0,570000.0,840000.0,305000.0,1695000.0,445000.0,801000.0,711000.0,268500.0,320000.0,500000.0,631625.0,600000.0,988500.0,1266520.0,175003.0,459000.0,358000.0,447055.0,415000.0,1210000.0,495000.0,479000.0,249900.0,1465000.0,897000.0,685000.0,295000.0,619000.0,439108.0,279000.0,287000.0,377000.0,445000.0,475000.0,399000.0,1400000.0,341000.0,818000.0,759000.0,547500.0,2700000.0,358000.0,412000.0,460940.0,321000.0,633634.0,290000.0,739000.0,429900.0,240000.0,566950.0,1040000.0,572115.0,399440.0,450000.0,648000.0,580000.0,527500.0,384000.0,692000.0,455000.0,415000.0,975000.0,799950.0,429900.0,275000.0,498000.0,754950.0,895000.0,580000.0,417000.0,555000.0,555000.0,353000.0,434900.0,325000.0,700000.0,675000.0,379000.0,475000.0,769900.0,633000.0,635000.0,1238000.0,485000.0,1030000.0,650000.0,754842.0,428900.0,329900.0,1035290.0,544999.0,449950.0,599000.0,478000.0,388000.0,809950.0,971971.0,355000.0,551500.0,417838.0,1750000.0,399950.0,740000.0,368000.0,307000.0,460458.0,859000.0,399950.0,310000.0,939000.0,329900.0,436000.0,320000.0,375000.0,520000.0,535000.0,424950.0,290000.0,399000.0,439990.0,635000.0,437500.0,919204.0,923990.0,639888.0,899900.0,552000.0,548000.0,254950.0,1237500.0,629000.0,309000.0,554950.0,550000.0,1010000.0,1575000.0,309000.0,328423.0,345000.0,660000.0,385000.0,1481000.0,379000.0,395000.0,535000.0,970000.0,310000.0,334500.0,995000.0,384500.0,865000.0,1051000.0,502000.0,1750000.0,569995.0,749950.0,550000.0,525000.0,516000.0,1350000.0,261950.0,551000.0,610000.0,536751.0,535000.0,730000.0,675000.0,415000.0,614000.0,385000.0,594000.0,860000.0,1104500.0,775000.0,430760.0,640000.0,780000.0,789500.0,592000.0,659000.0,570000.0,380000.0,718000.0,515805.0,1029280.0,437718.0,450000.0,515000.0,360000.0,550000.0,650880.0,585000.0,565997.0,500000.0,2150000.0,735000.0,749000.0,720000.0,250000.0,280000.0,1333000.0,649000.0,457000.0,453000.0,329780.0,1050000.0,1300000.0,607500.0,475000.0,270000.0,778983.0,221000.0,338800.0,834995.0,575000.0,649000.0,545000.0,625000.0,1042000.0,611000.0,577000.0,349990.0,650000.0,1206690.0,803100.0,415000.0,785000.0,499950.0,345000.0,456500.0,382495.0,436472.0,365250.0,298000.0,3204000.0,950000.0,333000.0,306000.0,498445.0,775950.0,605000.0,520000.0,849990.0,767450.0,665000.0,525000.0,870515.0,390000.0,399950.0,415000.0,425000.0,324747.0,270000.0,1240000.0,3000000.0,427000.0,309620.0,399895.0,375000.0,309780.0,356250.0,340000.0,362865.0,830000.0,1598000.0,1205000.0,1385000.0,235000.0,659950.0,785000.0,263900.0,367899.0,359950.0,879950.0,550000.0,279000.0,255000.0,420000.0,570000.0,310000.0,399950.0,805000.0,745000.0,329445.0,588000.0,494815.0,591975.0,673000.0,500000.0,890000.0,419700.0,394000.0,342000.0,420000.0,580000.0,274000.0,300000.0,467000.0,734000.0,306500.0,437000.0,160797.0,499000.0,359950.0,929000.0,529950.0,271115.0,565000.0,529950.0,609000.0,267000.0,557000.0,709950.0,625000.0,599000.0,1285000.0,1015000.0,998000.0,745641.0,659950.0,339989.0,525000.0,1138990.0,491000.0,675000.0,530000.0,290500.0,379000.0,385000.0,366750.0,405000.0,294000.0,837219.0,798800.0,482500.0,319000.0,950000.0,378000.0,489950.0,432500.0,750000.0,900000.0,664950.0,391000.0,661000.0,379000.0,415000.0,375000.0,355000.0,540000.0,290000.0,500000.0,416000.0,349900.0,465000.0,950000.0,825000.0,292000.0,953007.0,847093.0,499000.0,760000.0,1699990.0,1033890.0,515000.0,355000.0,319900.0,460000.0,382000.0,772000.0,324950.0,530000.0,384000.0,719950.0,319950.0,425000.0,799950.0,499000.0,459000.0,374500.0,584000.0,505000.0,565000.0,250000.0,2950000.0,286800.0,312500.0,455000.0,515000.0,460000.0,540000.0,230000.0,425000.0,298450.0,344000.0,416286.0,350000.0,620000.0,295000.0,485230.0,475000.0,1240420.0,635000.0,350000.0,345000.0,700000.0,490000.0,1299890.0,579000.0,305000.0,212000.0,429000.0,479950.0,825000.0,250000.0,289000.0,265000.0,344000.0,749000.0,492000.0,653500.0,333000.0,415000.0,445000.0,273500.0,969990.0,1200000.0,430000.0,795000.0,457000.0,376000.0,469995.0,555000.0,445000.0,256950.0,297000.0,320000.0,805000.0,799990.0,395000.0,732000.0,163800.0,220000.0,308625.0,300000.0,284000.0,982000.0,359000.0,779380.0,1510000.0,1060000.0,389500.0,359800.0,399950.0,320000.0,255900.0,580000.0,451300.0,852880.0,305000.0,261000.0,795000.0,384950.0,500000.0,418000.0,799000.0,539950.0,560000.0,300000.0,327000.0,859950.0,379900.0,315000.0,939000.0,674000.0,306000.0,2321000.0,914154.0,496000.0,449990.0,625000.0,1054710.0,680000.0,828950.0,795000.0,282900.0,922755.0,810000.0,256703.0,386380.0,485000.0,499950.0,654000.0,575000.0,564950.0,545000.0,1480000.0,305000.0,380000.0,440000.0,459000.0,515000.0,445000.0,480000.0,750000.0,425000.0,420000.0,394950.0,635000.0,1130000.0,540000.0,685000.0,330675.0,275000.0,259950.0,441000.0,1135000.0,590000.0,497000.0,345500.0,562500.0,355000.0,345000.0,478000.0,395000.0,286308.0,370000.0,1079000.0,298900.0,790000.0,1050000.0,249000.0,348000.0,358000.0,260000.0,765000.0,739000.0,890000.0,462000.0,380000.0,641000.0,1112000.0,357000.0,650000.0,563500.0,345000.0,479950.0,660000.0,800000.0,253101.0,555000.0,240000.0,239000.0,430000.0,660000.0,399963.0,411000.0,483453.0,469950.0,504058.0,760005.0,749950.0,674600.0,450000.0,290000.0,378000.0,728050.0,536000.0,469000.0,182568.0,334888.0,799900.0,383000.0,580000.0,351999.0,674950.0,1105000.0,1250000.0,208800.0,452000.0,1485000.0,1600000.0,369946.0,530000.0,735000.0,1750000.0,329995.0,414000.0,533500.0,1275000.0,239800.0,616950.0,1258000.0,435000.0,925000.0,369950.0,353000.0,447500.0,595000.0,325000.0,329950.0,427000.0,375000.0,499000.0,750000.0,336900.0,555000.0,1275000.0,999950.0,975000.0,409000.0,689000.0,375000.0,775000.0,639983.0,627000.0,352800.0,270500.0,640000.0,457000.0,355000.0,356000.0,425000.0,562500.0,460000.0,1095000.0,274500.0,808000.0,312000.0,320000.0,725000.0,335000.0,533112.0,274900.0,325000.0,350000.0,550000.0,375000.0,436000.0,303000.0,525000.0,575000.0,420000.0,329950.0,1830000.0,499950.0,1149000.0,246950.0,630000.0,561000.0,287000.0,490000.0,286950.0,577450.0,510000.0,465000.0,1300000.0,336000.0,294500.0,925000.0,730000.0,280000.0,500000.0,379950.0,549900.0,492000.0,419190.0,650000.0,379950.0,269800.0,407000.0,230000.0,533380.0,295500.0,860000.0,812000.0,324500.0,355000.0,525000.0,1242000.0,888990.0,268000.0,305450.0,399900.0,495000.0,857326.0,845950.0,303210.0,343000.0,300000.0,334900.0,820000.0,580000.0,350000.0,414000.0,450000.0,1270000.0,899000.0,353500.0,485000.0,782900.0,409316.0,580000.0,882566.0,515000.0,589410.0,284000.0,379500.0,550000.0,294900.0,345000.0,727000.0,535000.0,255000.0,260000.0,810000.0,359782.0,1049990.0,370000.0,459000.0,2900000.0,365000.0,255000.0,375000.0,375000.0,518380.0,346000.0,575000.0,549950.0,397500.0,1075000.0,471275.0,288000.0,989990.0,300000.0,664950.0,699188.0,487000.0,769995.0,321950.0,300000.0,400950.0,389517.0,255000.0,637850.0,636230.0,375000.0,586500.0,425000.0,300000.0,395950.0,800000.0,439990.0,680000.0,359950.0,720000.0,530000.0,295000.0,255500.0,556000.0,277950.0,780000.0,649000.0,447000.0,712198.0,277140.0,363000.0,585000.0,1274950.0,333490.0,520000.0,315000.0,424950.0,320000.0,1139990.0,425000.0,474950.0,307635.0,834538.0,769995.0,450000.0,515000.0,545000.0,718500.0,486940.0,525000.0,345000.0,613000.0,370000.0,449500.0,398500.0,310000.0,1880000.0,695000.0,1085000.0,864327.0,749995.0,525000.0,659950.0,1800000.0,950000.0,1399950.0,265050.0,963000.0,270000.0,294000.0,700000.0,415000.0,459990.0,882990.0,620000.0,654000.0,215000.0,630500.0,855000.0,770000.0,734990.0,775000.0,663000.0,725000.0,468500.0,298000.0,405000.0,529000.0,675900.0,375500.0,445000.0,477000.0,450000.0,2230000.0,450800.0,461100.0,1061600.0,478830.0,760000.0,1025000.0,385000.0,500000.0,552100.0,785000.0,465000.0,879950.0,372000.0,259000.0,374000.0,235000.0,623300.0,412500.0,380000.0,497000.0,452000.0,312000.0,469950.0,775000.0,288790.0,620000.0,452000.0,630000.0,485000.0,349950.0,499990.0,510000.0,494000.0,429900.0,505000.0,272000.0,471835.0,249950.0,424950.0,1240000.0,440000.0,870000.0,559000.0,495000.0,567500.0,440000.0,400000.0,459995.0,365000.0,320000.0,415500.0,378950.0,441750.0,335900.0,229800.0,706000.0,716000.0,300000.0,625000.0,773000.0,392000.0,549995.0,480000.0,355000.0,208400.0,831548.0,279500.0,492500.0,435000.0,453000.0,612995.0,540000.0,799950.0,495000.0,580000.0,2351960.0,490000.0,627000.0,458000.0,440000.0,452000.0,625000.0,834950.0,1500000.0,305000.0,659000.0,353000.0,999000.0,685000.0,333000.0,329950.0,559630.0,344000.0,430000.0,417000.0,332220.0,1488000.0,680000.0,338000.0,535365.0,608000.0,930000.0,565000.0,495000.0,667000.0,495000.0,928990.0,345000.0,1065000.0,519995.0,924000.0,472000.0,405000.0,410000.0,419500.0,382000.0,553000.0,2065000.0,331000.0,417250.0,490000.0,325000.0,1174660.0,403000.0,409000.0,542525.0,339950.0,499990.0,1765000.0,300000.0,782000.0,779000.0,685000.0,305000.0,775000.0,317750.0,438000.0,325000.0,353000.0,460000.0,330000.0,353900.0,288790.0,869950.0,557500.0,389990.0,455000.0,598500.0,729999.0,374950.0,535000.0,890000.0,1107460.0,436952.0,365000.0,288000.0,800000.0,465750.0,485000.0,494995.0,530000.0,435000.0,639000.0,440000.0,914500.0,580000.0,531155.0,358000.0,425000.0,326000.0,650000.0,315000.0,375000.0,349000.0,669950.0,504600.0,400000.0,1020000.0,535000.0,337500.0,875000.0,385000.0,1987500.0,1050000.0,525000.0,402000.0,1750000.0,359800.0,330000.0,1010800.0,312891.0,449000.0,495000.0,819995.0,407500.0,1720000.0,579000.0,890776.0,915000.0,776000.0,610000.0,850000.0,443000.0,453000.0,810000.0,1555000.0,2238890.0,377500.0,482000.0,600000.0,420000.0,505000.0,942990.0,440000.0,390000.0,475000.0,1408760.0,1378000.0,1450000.0,535000.0,670000.0,346000.0,1325000.0,599000.0,332000.0,336750.0,370000.0,324000.0,459000.0,405000.0,509900.0,327000.0,1057000.0,327500.0,249000.0,1375000.0,516500.0,388000.0,549000.0,553000.0,747450.0,305000.0,540000.0,337000.0,579950.0,690000.0,329000.0,330000.0,230000.0,785000.0,610950.0,399950.0,362500.0,645000.0,594866.0,490000.0,399950.0,380000.0,270000.0,505000.0,414500.0,347500.0,1222500.0,572000.0,350000.0,520000.0,679950.0,541800.0,810000.0,1537000.0,224000.0,507250.0,610685.0,360000.0,402101.0,325000.0],\"type\":\"scatter3d\"},{\"colorscale\":[[0.0,\"#440154\"],[0.1111111111111111,\"#482878\"],[0.2222222222222222,\"#3e4989\"],[0.3333333333333333,\"#31688e\"],[0.4444444444444444,\"#26828e\"],[0.5555555555555556,\"#1f9e89\"],[0.6666666666666666,\"#35b779\"],[0.7777777777777778,\"#6ece58\"],[0.8888888888888888,\"#b5de2b\"],[1.0,\"#fde725\"]],\"x\":[0.0,0.42105263157894735,0.8421052631578947,1.263157894736842,1.6842105263157894,2.1052631578947367,2.526315789473684,2.9473684210526314,3.3684210526315788,3.789473684210526,4.2105263157894735,4.631578947368421,5.052631578947368,5.473684210526315,5.894736842105263,6.315789473684211,6.7368421052631575,7.157894736842104,7.578947368421052,8.0],\"y\":[290.0,987.3684210526316,1684.7368421052631,2382.1052631578946,3079.4736842105262,3776.842105263158,4474.210526315789,5171.578947368421,5868.9473684210525,6566.315789473684,7263.684210526316,7961.0526315789475,8658.421052631578,9355.78947368421,10053.157894736842,10750.526315789473,11447.894736842105,12145.263157894737,12842.631578947368,13540.0],\"z\":[[32736.32251302962,30564.1431807731,28391.963848516578,26219.784516260057,24047.605184003536,21875.425851747015,19703.246519490494,17531.067187233988,15358.887854977467,13186.708522720946,11014.529190464425,8842.349858207905,6670.170525951384,4497.991193694863,2325.811861438342,153.63252918182116,-2018.5468030746924,-4190.726135331213,-6362.905467587734,-8535.084799844255],[232279.60388326278,230107.4245510063,227935.24521874974,225763.06588649325,223590.8865542367,221418.7072219802,219246.52788972366,217074.34855746716,214902.16922521061,212729.98989295412,210557.81056069757,208385.63122844105,206213.45189618453,204041.27256392804,201869.09323167152,199696.913899415,197524.73456715848,195352.55523490196,193180.37590264544,191008.1965703889],[431822.88525349594,429650.70592123945,427478.5265889829,425306.3472567264,423134.16792446986,420961.98859221337,418789.8092599568,416617.6299277003,414445.4505954438,412273.2712631873,410101.09193093074,407928.91259867424,405756.7332664177,403584.5539341612,401412.37460190465,399240.19526964816,397068.0159373916,394895.8366051351,392723.65727287857,390551.4779406221],[631366.166623729,629193.9872914725,627021.8079592161,624849.6286269595,622677.449294703,620505.2699624464,618333.09063019,616160.9112979334,613988.7319656769,611816.5526334203,609644.3733011639,607472.1939689073,605300.0146366508,603127.8353043942,600955.6559721378,598783.4766398813,596611.2973076247,594439.1179753682,592266.9386431117,590094.7593108552],[830909.4479939622,828737.2686617057,826565.0893294492,824392.9099971927,822220.7306649361,820048.5513326796,817876.3720004231,815704.1926681666,813532.01333591,811359.8340036535,809187.6546713971,807015.4753391405,804843.296006884,802671.1166746274,800498.937342371,798326.7580101144,796154.5786778579,793982.3993456013,791810.2200133449,789638.0406810883],[1030452.7293641954,1028280.5500319388,1026108.3706996823,1023936.1913674257,1021764.0120351694,1019591.8327029129,1017419.6533706563,1015247.4740383998,1013075.2947061432,1010903.1153738867,1008730.9360416301,1006558.7567093736,1004386.5773771172,1002214.3980448607,1000042.2187126041,997870.0393803476,995697.860048091,993525.6807158345,991353.501383578,989181.3220513215],[1229996.0107344284,1227823.8314021719,1225651.6520699153,1223479.4727376588,1221307.2934054025,1219135.114073146,1216962.9347408894,1214790.7554086328,1212618.5760763763,1210446.3967441197,1208274.2174118632,1206102.0380796066,1203929.8587473503,1201757.6794150937,1199585.5000828372,1197413.3207505806,1195241.141418324,1193068.9620860675,1190896.782753811,1188724.6034215544],[1429539.2921046617,1427367.1127724051,1425194.9334401486,1423022.754107892,1420850.5747756357,1418678.3954433792,1416506.2161111226,1414334.036778866,1412161.8574466095,1409989.678114353,1407817.4987820964,1405645.3194498399,1403473.1401175836,1401300.960785327,1399128.7814530705,1396956.602120814,1394784.4227885574,1392612.2434563008,1390440.0641240443,1388267.8847917877],[1629082.5734748947,1626910.3941426382,1624738.2148103816,1622566.035478125,1620393.8561458688,1618221.6768136122,1616049.4974813557,1613877.3181490991,1611705.1388168426,1609532.959484586,1607360.7801523295,1605188.600820073,1603016.4214878166,1600844.24215556,1598672.0628233035,1596499.883491047,1594327.7041587904,1592155.5248265339,1589983.3454942773,1587811.1661620208],[1828625.854845128,1826453.6755128715,1824281.496180615,1822109.3168483584,1819937.137516102,1817764.9581838455,1815592.778851589,1813420.5995193324,1811248.4201870759,1809076.2408548193,1806904.0615225628,1804731.8821903062,1802559.70285805,1800387.5235257933,1798215.3441935368,1796043.1648612802,1793870.9855290237,1791698.8061967671,1789526.6268645106,1787354.447532254],[2028169.1362153613,2025996.9568831048,2023824.7775508482,2021652.5982185917,2019480.4188863353,2017308.2395540788,2015136.0602218222,2012963.8808895657,2010791.7015573091,2008619.5222250526,2006447.342892796,2004275.1635605395,2002102.9842282832,1999930.8048960266,1997758.62556377,1995586.4462315135,1993414.266899257,1991242.0875670004,1989069.9082347439,1986897.7289024873],[2227712.4175855946,2225540.2382533383,2223368.0589210815,2221195.879588825,2219023.7002565684,2216851.520924312,2214679.3415920553,2212507.162259799,2210334.9829275426,2208162.803595286,2205990.6242630295,2203818.4449307728,2201646.2655985164,2199474.0862662597,2197301.9069340033,2195129.7276017466,2192957.5482694902,2190785.368937234,2188613.189604977,2186441.010272721],[2427255.6989558274,2425083.519623571,2422911.3402913143,2420739.160959058,2418566.981626801,2416394.802294545,2414222.622962288,2412050.443630032,2409878.2642977755,2407706.0849655187,2405533.9056332624,2403361.7263010056,2401189.5469687493,2399017.3676364925,2396845.188304236,2394673.0089719794,2392500.829639723,2390328.6503074667,2388156.47097521,2385984.2916429536],[2626798.9803260607,2624626.8009938044,2622454.6216615476,2620282.4423292913,2618110.2629970345,2615938.083664778,2613765.9043325214,2611593.725000265,2609421.5456680087,2607249.366335752,2605077.1870034956,2602905.007671239,2600732.8283389825,2598560.6490067258,2596388.4696744694,2594216.2903422127,2592044.1110099563,2589871.9316777,2587699.7523454432,2585527.573013187],[2826342.2616962935,2824170.082364037,2821997.9030317804,2819825.723699524,2817653.5443672673,2815481.365035011,2813309.185702754,2811137.006370498,2808964.8270382416,2806792.647705985,2804620.4683737285,2802448.2890414717,2800276.1097092154,2798103.9303769586,2795931.7510447023,2793759.5717124455,2791587.392380189,2789415.213047933,2787243.033715676,2785070.8543834197],[3025885.5430665268,3023713.3637342704,3021541.1844020137,3019369.0050697573,3017196.8257375006,3015024.6464052442,3012852.4670729875,3010680.287740731,3008508.108408475,3006335.929076218,3004163.7497439617,3001991.570411705,2999819.3910794486,2997647.211747192,2995475.0324149355,2993302.8530826787,2991130.6737504224,2988958.494418166,2986786.3150859093,2984614.135753653],[3225428.82443676,3223256.6451045037,3221084.465772247,3218912.2864399906,3216740.107107734,3214567.9277754775,3212395.7484432207,3210223.5691109644,3208051.389778708,3205879.2104464513,3203707.031114195,3201534.851781938,3199362.672449682,3197190.493117425,3195018.313785169,3192846.134452912,3190673.9551206557,3188501.7757883994,3186329.5964561426,3184157.4171238863],[3424972.1058069933,3422799.926474737,3420627.74714248,3418455.567810224,3416283.388477967,3414111.209145711,3411939.029813454,3409766.8504811977,3407594.6711489414,3405422.4918166846,3403250.3124844283,3401078.1331521715,3398905.953819915,3396733.7744876584,3394561.595155402,3392389.4158231453,3390217.236490889,3388045.0571586327,3385872.877826376,3383700.6984941196],[3624515.3871772266,3622343.2078449703,3620171.0285127135,3617998.849180457,3615826.6698482004,3613654.490515944,3611482.3111836873,3609310.131851431,3607137.9525191747,3604965.773186918,3602793.5938546616,3600621.414522405,3598449.2351901485,3596277.0558578917,3594104.8765256354,3591932.6971933786,3589760.5178611223,3587588.338528866,3585416.159196609,3583243.979864353],[3824058.6685474594,3821886.489215203,3819714.3098829463,3817542.13055069,3815369.951218433,3813197.771886177,3811025.59255392,3808853.413221664,3806681.2338894075,3804509.0545571507,3802336.8752248944,3800164.6958926376,3797992.5165603813,3795820.3372281245,3793648.157895868,3791475.9785636114,3789303.799231355,3787131.6198990988,3784959.440566842,3782787.2612345857]],\"type\":\"surface\"}],                        {\"template\":{\"data\":{\"bar\":[{\"error_x\":{\"color\":\"#2a3f5f\"},\"error_y\":{\"color\":\"#2a3f5f\"},\"marker\":{\"line\":{\"color\":\"#E5ECF6\",\"width\":0.5},\"pattern\":{\"fillmode\":\"overlay\",\"size\":10,\"solidity\":0.2}},\"type\":\"bar\"}],\"barpolar\":[{\"marker\":{\"line\":{\"color\":\"#E5ECF6\",\"width\":0.5},\"pattern\":{\"fillmode\":\"overlay\",\"size\":10,\"solidity\":0.2}},\"type\":\"barpolar\"}],\"carpet\":[{\"aaxis\":{\"endlinecolor\":\"#2a3f5f\",\"gridcolor\":\"white\",\"linecolor\":\"white\",\"minorgridcolor\":\"white\",\"startlinecolor\":\"#2a3f5f\"},\"baxis\":{\"endlinecolor\":\"#2a3f5f\",\"gridcolor\":\"white\",\"linecolor\":\"white\",\"minorgridcolor\":\"white\",\"startlinecolor\":\"#2a3f5f\"},\"type\":\"carpet\"}],\"choropleth\":[{\"colorbar\":{\"outlinewidth\":0,\"ticks\":\"\"},\"type\":\"choropleth\"}],\"contour\":[{\"colorbar\":{\"outlinewidth\":0,\"ticks\":\"\"},\"colorscale\":[[0.0,\"#0d0887\"],[0.1111111111111111,\"#46039f\"],[0.2222222222222222,\"#7201a8\"],[0.3333333333333333,\"#9c179e\"],[0.4444444444444444,\"#bd3786\"],[0.5555555555555556,\"#d8576b\"],[0.6666666666666666,\"#ed7953\"],[0.7777777777777778,\"#fb9f3a\"],[0.8888888888888888,\"#fdca26\"],[1.0,\"#f0f921\"]],\"type\":\"contour\"}],\"contourcarpet\":[{\"colorbar\":{\"outlinewidth\":0,\"ticks\":\"\"},\"type\":\"contourcarpet\"}],\"heatmap\":[{\"colorbar\":{\"outlinewidth\":0,\"ticks\":\"\"},\"colorscale\":[[0.0,\"#0d0887\"],[0.1111111111111111,\"#46039f\"],[0.2222222222222222,\"#7201a8\"],[0.3333333333333333,\"#9c179e\"],[0.4444444444444444,\"#bd3786\"],[0.5555555555555556,\"#d8576b\"],[0.6666666666666666,\"#ed7953\"],[0.7777777777777778,\"#fb9f3a\"],[0.8888888888888888,\"#fdca26\"],[1.0,\"#f0f921\"]],\"type\":\"heatmap\"}],\"heatmapgl\":[{\"colorbar\":{\"outlinewidth\":0,\"ticks\":\"\"},\"colorscale\":[[0.0,\"#0d0887\"],[0.1111111111111111,\"#46039f\"],[0.2222222222222222,\"#7201a8\"],[0.3333333333333333,\"#9c179e\"],[0.4444444444444444,\"#bd3786\"],[0.5555555555555556,\"#d8576b\"],[0.6666666666666666,\"#ed7953\"],[0.7777777777777778,\"#fb9f3a\"],[0.8888888888888888,\"#fdca26\"],[1.0,\"#f0f921\"]],\"type\":\"heatmapgl\"}],\"histogram\":[{\"marker\":{\"pattern\":{\"fillmode\":\"overlay\",\"size\":10,\"solidity\":0.2}},\"type\":\"histogram\"}],\"histogram2d\":[{\"colorbar\":{\"outlinewidth\":0,\"ticks\":\"\"},\"colorscale\":[[0.0,\"#0d0887\"],[0.1111111111111111,\"#46039f\"],[0.2222222222222222,\"#7201a8\"],[0.3333333333333333,\"#9c179e\"],[0.4444444444444444,\"#bd3786\"],[0.5555555555555556,\"#d8576b\"],[0.6666666666666666,\"#ed7953\"],[0.7777777777777778,\"#fb9f3a\"],[0.8888888888888888,\"#fdca26\"],[1.0,\"#f0f921\"]],\"type\":\"histogram2d\"}],\"histogram2dcontour\":[{\"colorbar\":{\"outlinewidth\":0,\"ticks\":\"\"},\"colorscale\":[[0.0,\"#0d0887\"],[0.1111111111111111,\"#46039f\"],[0.2222222222222222,\"#7201a8\"],[0.3333333333333333,\"#9c179e\"],[0.4444444444444444,\"#bd3786\"],[0.5555555555555556,\"#d8576b\"],[0.6666666666666666,\"#ed7953\"],[0.7777777777777778,\"#fb9f3a\"],[0.8888888888888888,\"#fdca26\"],[1.0,\"#f0f921\"]],\"type\":\"histogram2dcontour\"}],\"mesh3d\":[{\"colorbar\":{\"outlinewidth\":0,\"ticks\":\"\"},\"type\":\"mesh3d\"}],\"parcoords\":[{\"line\":{\"colorbar\":{\"outlinewidth\":0,\"ticks\":\"\"}},\"type\":\"parcoords\"}],\"pie\":[{\"automargin\":true,\"type\":\"pie\"}],\"scatter\":[{\"marker\":{\"colorbar\":{\"outlinewidth\":0,\"ticks\":\"\"}},\"type\":\"scatter\"}],\"scatter3d\":[{\"line\":{\"colorbar\":{\"outlinewidth\":0,\"ticks\":\"\"}},\"marker\":{\"colorbar\":{\"outlinewidth\":0,\"ticks\":\"\"}},\"type\":\"scatter3d\"}],\"scattercarpet\":[{\"marker\":{\"colorbar\":{\"outlinewidth\":0,\"ticks\":\"\"}},\"type\":\"scattercarpet\"}],\"scattergeo\":[{\"marker\":{\"colorbar\":{\"outlinewidth\":0,\"ticks\":\"\"}},\"type\":\"scattergeo\"}],\"scattergl\":[{\"marker\":{\"colorbar\":{\"outlinewidth\":0,\"ticks\":\"\"}},\"type\":\"scattergl\"}],\"scattermapbox\":[{\"marker\":{\"colorbar\":{\"outlinewidth\":0,\"ticks\":\"\"}},\"type\":\"scattermapbox\"}],\"scatterpolar\":[{\"marker\":{\"colorbar\":{\"outlinewidth\":0,\"ticks\":\"\"}},\"type\":\"scatterpolar\"}],\"scatterpolargl\":[{\"marker\":{\"colorbar\":{\"outlinewidth\":0,\"ticks\":\"\"}},\"type\":\"scatterpolargl\"}],\"scatterternary\":[{\"marker\":{\"colorbar\":{\"outlinewidth\":0,\"ticks\":\"\"}},\"type\":\"scatterternary\"}],\"surface\":[{\"colorbar\":{\"outlinewidth\":0,\"ticks\":\"\"},\"colorscale\":[[0.0,\"#0d0887\"],[0.1111111111111111,\"#46039f\"],[0.2222222222222222,\"#7201a8\"],[0.3333333333333333,\"#9c179e\"],[0.4444444444444444,\"#bd3786\"],[0.5555555555555556,\"#d8576b\"],[0.6666666666666666,\"#ed7953\"],[0.7777777777777778,\"#fb9f3a\"],[0.8888888888888888,\"#fdca26\"],[1.0,\"#f0f921\"]],\"type\":\"surface\"}],\"table\":[{\"cells\":{\"fill\":{\"color\":\"#EBF0F8\"},\"line\":{\"color\":\"white\"}},\"header\":{\"fill\":{\"color\":\"#C8D4E3\"},\"line\":{\"color\":\"white\"}},\"type\":\"table\"}]},\"layout\":{\"annotationdefaults\":{\"arrowcolor\":\"#2a3f5f\",\"arrowhead\":0,\"arrowwidth\":1},\"autotypenumbers\":\"strict\",\"coloraxis\":{\"colorbar\":{\"outlinewidth\":0,\"ticks\":\"\"}},\"colorscale\":{\"diverging\":[[0,\"#8e0152\"],[0.1,\"#c51b7d\"],[0.2,\"#de77ae\"],[0.3,\"#f1b6da\"],[0.4,\"#fde0ef\"],[0.5,\"#f7f7f7\"],[0.6,\"#e6f5d0\"],[0.7,\"#b8e186\"],[0.8,\"#7fbc41\"],[0.9,\"#4d9221\"],[1,\"#276419\"]],\"sequential\":[[0.0,\"#0d0887\"],[0.1111111111111111,\"#46039f\"],[0.2222222222222222,\"#7201a8\"],[0.3333333333333333,\"#9c179e\"],[0.4444444444444444,\"#bd3786\"],[0.5555555555555556,\"#d8576b\"],[0.6666666666666666,\"#ed7953\"],[0.7777777777777778,\"#fb9f3a\"],[0.8888888888888888,\"#fdca26\"],[1.0,\"#f0f921\"]],\"sequentialminus\":[[0.0,\"#0d0887\"],[0.1111111111111111,\"#46039f\"],[0.2222222222222222,\"#7201a8\"],[0.3333333333333333,\"#9c179e\"],[0.4444444444444444,\"#bd3786\"],[0.5555555555555556,\"#d8576b\"],[0.6666666666666666,\"#ed7953\"],[0.7777777777777778,\"#fb9f3a\"],[0.8888888888888888,\"#fdca26\"],[1.0,\"#f0f921\"]]},\"colorway\":[\"#636efa\",\"#EF553B\",\"#00cc96\",\"#ab63fa\",\"#FFA15A\",\"#19d3f3\",\"#FF6692\",\"#B6E880\",\"#FF97FF\",\"#FECB52\"],\"font\":{\"color\":\"#2a3f5f\"},\"geo\":{\"bgcolor\":\"white\",\"lakecolor\":\"white\",\"landcolor\":\"#E5ECF6\",\"showlakes\":true,\"showland\":true,\"subunitcolor\":\"white\"},\"hoverlabel\":{\"align\":\"left\"},\"hovermode\":\"closest\",\"mapbox\":{\"style\":\"light\"},\"paper_bgcolor\":\"white\",\"plot_bgcolor\":\"#E5ECF6\",\"polar\":{\"angularaxis\":{\"gridcolor\":\"white\",\"linecolor\":\"white\",\"ticks\":\"\"},\"bgcolor\":\"#E5ECF6\",\"radialaxis\":{\"gridcolor\":\"white\",\"linecolor\":\"white\",\"ticks\":\"\"}},\"scene\":{\"xaxis\":{\"backgroundcolor\":\"#E5ECF6\",\"gridcolor\":\"white\",\"gridwidth\":2,\"linecolor\":\"white\",\"showbackground\":true,\"ticks\":\"\",\"zerolinecolor\":\"white\"},\"yaxis\":{\"backgroundcolor\":\"#E5ECF6\",\"gridcolor\":\"white\",\"gridwidth\":2,\"linecolor\":\"white\",\"showbackground\":true,\"ticks\":\"\",\"zerolinecolor\":\"white\"},\"zaxis\":{\"backgroundcolor\":\"#E5ECF6\",\"gridcolor\":\"white\",\"gridwidth\":2,\"linecolor\":\"white\",\"showbackground\":true,\"ticks\":\"\",\"zerolinecolor\":\"white\"}},\"shapedefaults\":{\"line\":{\"color\":\"#2a3f5f\"}},\"ternary\":{\"aaxis\":{\"gridcolor\":\"white\",\"linecolor\":\"white\",\"ticks\":\"\"},\"baxis\":{\"gridcolor\":\"white\",\"linecolor\":\"white\",\"ticks\":\"\"},\"bgcolor\":\"#E5ECF6\",\"caxis\":{\"gridcolor\":\"white\",\"linecolor\":\"white\",\"ticks\":\"\"}},\"title\":{\"x\":0.05},\"xaxis\":{\"automargin\":true,\"gridcolor\":\"white\",\"linecolor\":\"white\",\"ticks\":\"\",\"title\":{\"standoff\":15},\"zerolinecolor\":\"white\",\"zerolinewidth\":2},\"yaxis\":{\"automargin\":true,\"gridcolor\":\"white\",\"linecolor\":\"white\",\"ticks\":\"\",\"title\":{\"standoff\":15},\"zerolinecolor\":\"white\",\"zerolinewidth\":2}}},\"scene\":{\"domain\":{\"x\":[0.0,1.0],\"y\":[0.0,1.0]},\"xaxis\":{\"title\":{\"text\":\"bathrooms\"}},\"yaxis\":{\"title\":{\"text\":\"sqft_living\"}},\"zaxis\":{\"title\":{\"text\":\"price\"}}},\"legend\":{\"tracegroupgap\":0},\"title\":{\"text\":\"House Prices\"}},                        {\"responsive\": true}                    ).then(function(){\n",
              "                            \n",
              "var gd = document.getElementById('14aa479c-89c3-46f7-8646-caedc2898c9b');\n",
              "var x = new MutationObserver(function (mutations, observer) {{\n",
              "        var display = window.getComputedStyle(gd).display;\n",
              "        if (!display || display === 'none') {{\n",
              "            console.log([gd, 'removed!']);\n",
              "            Plotly.purge(gd);\n",
              "            observer.disconnect();\n",
              "        }}\n",
              "}});\n",
              "\n",
              "// Listen for the removal of the full notebook cells\n",
              "var notebookContainer = gd.closest('#notebook-container');\n",
              "if (notebookContainer) {{\n",
              "    x.observe(notebookContainer, {childList: true});\n",
              "}}\n",
              "\n",
              "// Listen for the clearing of the current output cell\n",
              "var outputEl = gd.closest('.output');\n",
              "if (outputEl) {{\n",
              "    x.observe(outputEl, {childList: true});\n",
              "}}\n",
              "\n",
              "                        })                };                            </script>        </div>\n",
              "</body>\n",
              "</html>"
            ]
          },
          "metadata": {}
        }
      ]
    },
    {
      "cell_type": "markdown",
      "source": [
        "### 3) 모델의 회귀계수(coefficients)와 절편(intercept)을 확인해 보세요.\n",
        "- **(Urclass Quiz) sqft_living의 회귀계수를 제출하세요.(소수점 이하 반올림)**"
      ],
      "metadata": {
        "id": "P2OEa54Yu1W1"
      }
    },
    {
      "cell_type": "code",
      "source": [
        "## 절편(intercept)과 계수들(coefficients)\n",
        "model.intercept_, model.coef_"
      ],
      "metadata": {
        "colab": {
          "base_uri": "https://localhost:8080/"
        },
        "id": "xKySkA2268hs",
        "outputId": "06af6e04-2b4e-434c-a64b-d7c3d89c4426"
      },
      "execution_count": 22,
      "outputs": [
        {
          "output_type": "execute_result",
          "data": {
            "text/plain": [
              "(-50243.56279640319, array([-5158.92591411,   286.13753555]))"
            ]
          },
          "metadata": {},
          "execution_count": 22
        }
      ]
    },
    {
      "cell_type": "code",
      "source": [
        "## 회귀식을 만들어 봅시다.\n",
        "## b1=bathrooms의 회귀계수 , b2=sqrt_living 의 회귀계수\n",
        "b0 = model.intercept_\n",
        "b1, b2 = model.coef_\n",
        "\n",
        "print(f'y = {b0:.0f} + {b1:.0f}x\\u2081 + {b2:.0f}x\\u2082')   "
      ],
      "metadata": {
        "colab": {
          "base_uri": "https://localhost:8080/"
        },
        "id": "B8Ptus_062A3",
        "outputId": "e96cd800-a3c6-444f-d7f0-a08d2a27221a"
      },
      "execution_count": 23,
      "outputs": [
        {
          "output_type": "stream",
          "name": "stdout",
          "text": [
            "y = -50244 + -5159x₁ + 286x₂\n"
          ]
        }
      ]
    },
    {
      "cell_type": "markdown",
      "source": [
        "### 4) MSE, MAE, RMSE, $R^2$ 를 훈련/테스트 데이터에 대해 확인해 보세요\n",
        "- **(Urclass Quiz) 테스트 데이터에 대한 MSE, MAE, RMSE, $R^2$ 값을 올바르게 적은 보기를 고르세요.(소수점 두자리수 이하 반올림)**"
      ],
      "metadata": {
        "id": "H_fvFYoUu1W2"
      }
    },
    {
      "cell_type": "code",
      "execution_count": 53,
      "source": [
        "## MSE\n",
        "print(f'훈련데이터의MSE: {mse_train:.1f}\\n테스트데이터의MSE: {mse_test:.1f}')"
      ],
      "outputs": [
        {
          "output_type": "stream",
          "name": "stdout",
          "text": [
            "훈련데이터의MSE: 67099053310.0\n",
            "테스트데이터의MSE: 71083994178.8\n"
          ]
        }
      ],
      "metadata": {
        "colab": {
          "base_uri": "https://localhost:8080/"
        },
        "id": "eXDVd4jdu1W2",
        "outputId": "e1440fce-18b0-43b0-b496-6b0c6a3b3a65"
      }
    },
    {
      "cell_type": "code",
      "source": [
        "## MAE\n",
        "print(f'훈련데이터의MAE: {mae_train:.1f}\\n테스트데이터의MAE: {mae_test:.1f}')  "
      ],
      "metadata": {
        "colab": {
          "base_uri": "https://localhost:8080/"
        },
        "id": "wL7_o20_L8Sl",
        "outputId": "d6e6717b-10a1-4199-b0ff-82a76d8e1077"
      },
      "execution_count": 54,
      "outputs": [
        {
          "output_type": "stream",
          "name": "stdout",
          "text": [
            "훈련데이터의MAE: 170777.3\n",
            "테스트데이터의MAE: 179252.5\n"
          ]
        }
      ]
    },
    {
      "cell_type": "code",
      "source": [
        "## RMSE\n",
        "print(f'훈련데이터의RMSE: {(mse_train)**(1/2):.1f}\\n테스트데이터의RMSE: {(mse_test)**(1/2):.1f}')  "
      ],
      "metadata": {
        "colab": {
          "base_uri": "https://localhost:8080/"
        },
        "id": "_2UORlOwMPjU",
        "outputId": "ff0d2e5e-3915-4472-b75c-bb2b283a4a86"
      },
      "execution_count": 55,
      "outputs": [
        {
          "output_type": "stream",
          "name": "stdout",
          "text": [
            "훈련데이터의RMSE: 259034.8\n",
            "테스트데이터의RMSE: 266615.8\n"
          ]
        }
      ]
    },
    {
      "cell_type": "code",
      "source": [
        "## R^2\n",
        "print(f'훈련데이터의R^2: {R2_train:.1f}\\n테스트데이터의R^2: {R2_test:.1f}') "
      ],
      "metadata": {
        "colab": {
          "base_uri": "https://localhost:8080/"
        },
        "id": "HQYjPn1PMqKO",
        "outputId": "18e98fc8-ec8b-4df5-8205-e52298f7c8b5"
      },
      "execution_count": 56,
      "outputs": [
        {
          "output_type": "stream",
          "name": "stdout",
          "text": [
            "훈련데이터의R^2: 0.5\n",
            "테스트데이터의R^2: 0.5\n"
          ]
        }
      ]
    },
    {
      "cell_type": "markdown",
      "source": [
        "## 🔥도전과제(Github - Discussion)\n",
        "\n",
        "### 공지로 안내드리는 Github - Discussion 페이지에 올려 보세요:)"
      ],
      "metadata": {
        "id": "YdAeHdwRu1W2"
      }
    },
    {
      "cell_type": "markdown",
      "source": [
        "### 5)  EDA를 진행하시고, 두개 이상의 특성을 선택하여 특성공학(feature engineering)을 진행한 후 아래의 질문들에 대한 본인만의 리포트를 작성해보시고 서로 논해 보세요. \n",
        "- 어떤 이유에서 해당 특성공학을 진행하셨나요? 특성공학을 통해 기대하는 효과는 무엇이었나요? 만약 얻고자 하는 효과를 얻지 못했다면 이유는 무엇이며 어떤 액션을 추가할 수 있을까요? \n",
        "- 특성공학을 거친 특성을 포함해 다수의 특성을 사용한 모델을 학습하고 테스트 데이터에 대해 MSE, RMSE, MAE, R2 스코어는 어떠한가요? 해당 결과를 통해 얻을 수 있는 인사이트는 어떤 것이 있었나요? \n",
        "- 만들어진 회귀계수를 사용해 모델을 설명해 본다면? \n",
        "- 만들어진 모델은 과소적합인가요? 과대적합인가요? 일반화가 잘 된 모델을 만들기 위해 추가로 할 수 있는 액션은 어떤 것이 있을까요? \n",
        "\n",
        "※kaggle notebook에서도 힌트를 얻어 보세요. "
      ],
      "metadata": {
        "id": "NbxF4HjEu1W3"
      }
    },
    {
      "cell_type": "code",
      "execution_count": null,
      "source": [
        ""
      ],
      "outputs": [],
      "metadata": {
        "id": "0PdBH0Y6u1W3"
      }
    },
    {
      "cell_type": "markdown",
      "source": [
        "## 참고자료\n",
        "* [Feature Engineering](https://en.wikipedia.org/wiki/Feature_engineering)\n",
        "* [\"A Few Useful Things to Know about Machine Learning\"](https://homes.cs.washington.edu/~pedrod/papers/cacm12.pdf)\n",
        "* [Machine Learning and AI via Brain simulations](https://forum.stanford.edu/events/2011/2011slides/plenary/2011plenaryNg.pdf)\n",
        "* [_An Introduction to Statistical Learning_](http://faculty.marshall.usc.edu/gareth-james/ISL/ISLR%20Seventh%20Printing.pdf),  Chapter 3.1, Simple Linear Regression, & Chapter 3.2, Multiple Linear Regression\n",
        "* [Brandon Foltz, Statistics 101: Simple Linear Regression](https://www.youtube.com/watch?v=ZkjP5RJLQF4)"
      ],
      "metadata": {
        "id": "m4BRMPBKu1W3"
      }
    }
  ],
  "metadata": {
    "kernelspec": {
      "display_name": "Python 3",
      "language": "python",
      "name": "python3"
    },
    "language_info": {
      "codemirror_mode": {
        "name": "ipython",
        "version": 3
      },
      "file_extension": ".py",
      "mimetype": "text/x-python",
      "name": "python",
      "nbconvert_exporter": "python",
      "pygments_lexer": "ipython3",
      "version": "3.8.8"
    },
    "colab": {
      "name": "n212a-multiple-regression.ipynb",
      "provenance": []
    }
  },
  "nbformat": 4,
  "nbformat_minor": 0
}