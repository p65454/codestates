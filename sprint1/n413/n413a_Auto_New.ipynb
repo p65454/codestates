{
  "cells": [
    {
      "cell_type": "markdown",
      "metadata": {
        "id": "pBQsZEJmubLs"
      },
      "source": [
        "<img src='https://user-images.githubusercontent.com/6457691/90080969-0f758d00-dd47-11ea-8191-fa12fd2054a7.png' width = '200' align = 'right'>\n",
        "\n",
        "## *DATA SCIENCE / SECTION 4 / SPRINT 1 / Assingment 3*\n",
        "\n",
        "---\n",
        "# Neural Network Framework (Keras)\n",
        "\n"
      ]
    },
    {
      "cell_type": "markdown",
      "metadata": {
        "id": "nN5Wzlub62DZ"
      },
      "source": [
        "\n",
        "## 기본과제\n",
        "### 케라스 라이브러리를 사용하여 Multi-Layer Perceptron 모델을 CIFAR100 데이터에 적용해보세요.\n",
        "\n",
        "- 시드를 고정하십시오.\n",
        "- 데이터를 Noramlized 해줍니다. \n",
        "- 케라스에서 모델은 다음과 같이 고정합니다. \n",
        "- 은닉층의 활성함수는 ReLU를 사용합니다.\n",
        "- 단계별로 오늘 배운 규제방법을 적용해봅니다. "
      ]
    },
    {
      "cell_type": "code",
      "execution_count": 1,
      "metadata": {
        "id": "SBPLbaggP52G"
      },
      "outputs": [],
      "source": [
        "import keras\n",
        "import tensorflow as tf\n",
        "import numpy as np\n",
        "import random\n",
        "import os\n",
        "from tensorflow.keras.datasets import cifar100\n",
        "from tensorflow.keras.models import Sequential\n",
        "from tensorflow.keras.layers import Dense, Flatten, Dropout\n",
        "from tensorflow.keras.optimizers import Adam\n",
        "from tensorflow.keras import regularizers"
      ]
    },
    {
      "cell_type": "markdown",
      "metadata": {
        "id": "I7nHEuYmd-p6"
      },
      "source": [
        "### 1) Base model을 제작합니다."
      ]
    },
    {
      "cell_type": "code",
      "execution_count": 2,
      "metadata": {
        "id": "_T_3XkVRY2xw",
        "outputId": "c708b518-e0e5-4c0e-ce57-5783f76ded33",
        "colab": {
          "base_uri": "https://localhost:8080/"
        }
      },
      "outputs": [
        {
          "output_type": "stream",
          "name": "stdout",
          "text": [
            "Downloading data from https://www.cs.toronto.edu/~kriz/cifar-100-python.tar.gz\n",
            "169009152/169001437 [==============================] - 14s 0us/step\n",
            "169017344/169001437 [==============================] - 14s 0us/step\n",
            "Epoch 1/20\n",
            "500/500 [==============================] - 5s 4ms/step - loss: 4.1251 - accuracy: 0.0706 - val_loss: 3.8663 - val_accuracy: 0.1067\n",
            "Epoch 2/20\n",
            "500/500 [==============================] - 2s 3ms/step - loss: 3.7589 - accuracy: 0.1226 - val_loss: 3.7216 - val_accuracy: 0.1365\n",
            "Epoch 3/20\n",
            "500/500 [==============================] - 2s 4ms/step - loss: 3.6363 - accuracy: 0.1429 - val_loss: 3.6863 - val_accuracy: 0.1452\n",
            "Epoch 4/20\n",
            "500/500 [==============================] - 2s 3ms/step - loss: 3.5530 - accuracy: 0.1581 - val_loss: 3.5931 - val_accuracy: 0.1595\n",
            "Epoch 5/20\n",
            "500/500 [==============================] - 2s 3ms/step - loss: 3.4974 - accuracy: 0.1703 - val_loss: 3.5298 - val_accuracy: 0.1691\n",
            "Epoch 6/20\n",
            "500/500 [==============================] - 2s 3ms/step - loss: 3.4386 - accuracy: 0.1789 - val_loss: 3.5103 - val_accuracy: 0.1761\n",
            "Epoch 7/20\n",
            "500/500 [==============================] - 2s 4ms/step - loss: 3.4035 - accuracy: 0.1867 - val_loss: 3.4977 - val_accuracy: 0.1754\n",
            "Epoch 8/20\n",
            "500/500 [==============================] - 2s 3ms/step - loss: 3.3633 - accuracy: 0.1927 - val_loss: 3.4601 - val_accuracy: 0.1863\n",
            "Epoch 9/20\n",
            "500/500 [==============================] - 2s 4ms/step - loss: 3.3395 - accuracy: 0.1978 - val_loss: 3.4724 - val_accuracy: 0.1840\n",
            "Epoch 10/20\n",
            "500/500 [==============================] - 2s 3ms/step - loss: 3.3188 - accuracy: 0.2008 - val_loss: 3.4008 - val_accuracy: 0.1979\n",
            "Epoch 11/20\n",
            "500/500 [==============================] - 2s 3ms/step - loss: 3.2895 - accuracy: 0.2070 - val_loss: 3.4011 - val_accuracy: 0.1930\n",
            "Epoch 12/20\n",
            "500/500 [==============================] - 2s 3ms/step - loss: 3.2665 - accuracy: 0.2090 - val_loss: 3.3950 - val_accuracy: 0.1970\n",
            "Epoch 13/20\n",
            "500/500 [==============================] - 2s 3ms/step - loss: 3.2433 - accuracy: 0.2146 - val_loss: 3.3954 - val_accuracy: 0.1971\n",
            "Epoch 14/20\n",
            "500/500 [==============================] - 2s 3ms/step - loss: 3.2287 - accuracy: 0.2193 - val_loss: 3.3835 - val_accuracy: 0.2013\n",
            "Epoch 15/20\n",
            "500/500 [==============================] - 2s 3ms/step - loss: 3.2139 - accuracy: 0.2193 - val_loss: 3.3828 - val_accuracy: 0.2001\n",
            "Epoch 16/20\n",
            "500/500 [==============================] - 2s 4ms/step - loss: 3.2045 - accuracy: 0.2210 - val_loss: 3.3837 - val_accuracy: 0.2018\n",
            "Epoch 17/20\n",
            "500/500 [==============================] - 2s 3ms/step - loss: 3.1849 - accuracy: 0.2245 - val_loss: 3.3574 - val_accuracy: 0.2083\n",
            "Epoch 18/20\n",
            "500/500 [==============================] - 2s 4ms/step - loss: 3.1730 - accuracy: 0.2247 - val_loss: 3.3411 - val_accuracy: 0.2132\n",
            "Epoch 19/20\n",
            "500/500 [==============================] - 2s 3ms/step - loss: 3.1630 - accuracy: 0.2277 - val_loss: 3.3457 - val_accuracy: 0.2078\n",
            "Epoch 20/20\n",
            "500/500 [==============================] - 2s 4ms/step - loss: 3.1507 - accuracy: 0.2307 - val_loss: 3.3778 - val_accuracy: 0.2018\n"
          ]
        }
      ],
      "source": [
        "# seed를 고정합니다.\n",
        "random.seed(1)\n",
        "np.random.seed(1)\n",
        "os.environ[\"PYTHONHASHSEED\"] = str(1)\n",
        "os.environ['TF_DETERMINISTIC_OPS'] = str(1)\n",
        "tf.random.set_seed(1)\n",
        "\n",
        "# 데이터 불러오기\n",
        "(X_train, y_train), (X_test, y_test) = cifar100.load_data()\n",
        "\n",
        "# 정규화(전처리)\n",
        "X_train = X_train / 255.\n",
        "X_test = X_test / 255.\n",
        "\n",
        "# 변수 설정을 따로 하는 방법을 적용하기 위한 코드입니다. \n",
        "batch_size = 100\n",
        "epochs_max = 20\n",
        "\n",
        "# model\n",
        "model = Sequential()\n",
        "model.add(Flatten(input_shape=((32, 32, 3))))\n",
        "model.add(Dense(128, activation='relu'))\n",
        "model.add(Dense(128, activation='relu'))\n",
        "model.add(Dense(100, activation='softmax'))\n",
        "\n",
        "# 컴파일 단계, 옵티마이저와 손실함수, 측정지표를 연결해서 계산 그래프를 구성함\n",
        "model.compile(optimizer='adam', loss='sparse_categorical_crossentropy', metrics=['accuracy'])\n",
        "\n",
        "results = model.fit(X_train, y_train, epochs=epochs_max, batch_size=batch_size, verbose=1, validation_data=(X_test,y_test))"
      ]
    },
    {
      "cell_type": "code",
      "execution_count": 3,
      "metadata": {
        "colab": {
          "base_uri": "https://localhost:8080/"
        },
        "id": "PdxJ5AnieUxI",
        "outputId": "6064c317-314a-41f3-988b-004c79d19f2e"
      },
      "outputs": [
        {
          "output_type": "stream",
          "name": "stdout",
          "text": [
            "313/313 [==============================] - 1s 3ms/step - loss: 3.3778 - accuracy: 0.2018\n"
          ]
        }
      ],
      "source": [
        "test_loss, test_acc = model.evaluate(X_test,  y_test, verbose=1)"
      ]
    },
    {
      "cell_type": "markdown",
      "metadata": {
        "id": "6Lt3wg-Oixdj"
      },
      "source": [
        "### 2) + Weight Decay"
      ]
    },
    {
      "cell_type": "code",
      "execution_count": 4,
      "metadata": {
        "id": "XBQks0_rZWa9",
        "outputId": "04f0f923-c62e-4dd4-fd05-af5e56d6f536",
        "colab": {
          "base_uri": "https://localhost:8080/"
        }
      },
      "outputs": [
        {
          "output_type": "stream",
          "name": "stdout",
          "text": [
            "Epoch 1/20\n",
            "500/500 [==============================] - 3s 4ms/step - loss: 4.1071 - accuracy: 0.0758 - val_loss: 3.8348 - val_accuracy: 0.1140\n",
            "Epoch 2/20\n",
            "500/500 [==============================] - 2s 4ms/step - loss: 3.7285 - accuracy: 0.1303 - val_loss: 3.6643 - val_accuracy: 0.1428\n",
            "Epoch 3/20\n",
            "500/500 [==============================] - 2s 4ms/step - loss: 3.5949 - accuracy: 0.1534 - val_loss: 3.6488 - val_accuracy: 0.1502\n",
            "Epoch 4/20\n",
            "500/500 [==============================] - 2s 4ms/step - loss: 3.5072 - accuracy: 0.1690 - val_loss: 3.5087 - val_accuracy: 0.1754\n",
            "Epoch 5/20\n",
            "500/500 [==============================] - 2s 4ms/step - loss: 3.4460 - accuracy: 0.1798 - val_loss: 3.4687 - val_accuracy: 0.1781\n",
            "Epoch 6/20\n",
            "500/500 [==============================] - 2s 4ms/step - loss: 3.3809 - accuracy: 0.1911 - val_loss: 3.4470 - val_accuracy: 0.1860\n",
            "Epoch 7/20\n",
            "500/500 [==============================] - 2s 4ms/step - loss: 3.3392 - accuracy: 0.1974 - val_loss: 3.4554 - val_accuracy: 0.1862\n",
            "Epoch 8/20\n",
            "500/500 [==============================] - 2s 4ms/step - loss: 3.2952 - accuracy: 0.2072 - val_loss: 3.3816 - val_accuracy: 0.1971\n",
            "Epoch 9/20\n",
            "500/500 [==============================] - 2s 4ms/step - loss: 3.2671 - accuracy: 0.2108 - val_loss: 3.4171 - val_accuracy: 0.1907\n",
            "Epoch 10/20\n",
            "500/500 [==============================] - 2s 4ms/step - loss: 3.2402 - accuracy: 0.2177 - val_loss: 3.3480 - val_accuracy: 0.2055\n",
            "Epoch 11/20\n",
            "500/500 [==============================] - 2s 4ms/step - loss: 3.2120 - accuracy: 0.2239 - val_loss: 3.3455 - val_accuracy: 0.2099\n",
            "Epoch 12/20\n",
            "500/500 [==============================] - 2s 4ms/step - loss: 3.1867 - accuracy: 0.2267 - val_loss: 3.3212 - val_accuracy: 0.2126\n",
            "Epoch 13/20\n",
            "500/500 [==============================] - 2s 4ms/step - loss: 3.1644 - accuracy: 0.2317 - val_loss: 3.3135 - val_accuracy: 0.2106\n",
            "Epoch 14/20\n",
            "500/500 [==============================] - 2s 4ms/step - loss: 3.1448 - accuracy: 0.2353 - val_loss: 3.2993 - val_accuracy: 0.2198\n",
            "Epoch 15/20\n",
            "500/500 [==============================] - 2s 4ms/step - loss: 3.1313 - accuracy: 0.2352 - val_loss: 3.2988 - val_accuracy: 0.2217\n",
            "Epoch 16/20\n",
            "500/500 [==============================] - 2s 4ms/step - loss: 3.1180 - accuracy: 0.2388 - val_loss: 3.3315 - val_accuracy: 0.2098\n",
            "Epoch 17/20\n",
            "500/500 [==============================] - 2s 4ms/step - loss: 3.1041 - accuracy: 0.2413 - val_loss: 3.3493 - val_accuracy: 0.2107\n",
            "Epoch 18/20\n",
            "500/500 [==============================] - 2s 4ms/step - loss: 3.0888 - accuracy: 0.2428 - val_loss: 3.2890 - val_accuracy: 0.2231\n",
            "Epoch 19/20\n",
            "500/500 [==============================] - 2s 4ms/step - loss: 3.0789 - accuracy: 0.2466 - val_loss: 3.2945 - val_accuracy: 0.2209\n",
            "Epoch 20/20\n",
            "500/500 [==============================] - 2s 4ms/step - loss: 3.0630 - accuracy: 0.2468 - val_loss: 3.3056 - val_accuracy: 0.2169\n"
          ]
        }
      ],
      "source": [
        "# seed를 고정합니다.\n",
        "random.seed(1)\n",
        "np.random.seed(1)\n",
        "os.environ[\"PYTHONHASHSEED\"] = str(1)\n",
        "os.environ['TF_DETERMINISTIC_OPS'] = str(1)\n",
        "tf.random.set_seed(1)\n",
        "\n",
        "# 데이터 불러오기\n",
        "(X_train, y_train), (X_test, y_test) = cifar100.load_data()\n",
        "\n",
        "# 정규화(전처리)\n",
        "X_train = X_train / 255.\n",
        "X_test = X_test / 255.\n",
        "\n",
        "# 변수 설정을 따로 하는 방법을 적용하기 위한 코드입니다. \n",
        "batch_size = 100\n",
        "epochs_max = 20\n",
        "\n",
        "# model\n",
        "model = Sequential()\n",
        "model.add(Flatten(input_shape=(32, 32, 3)))\n",
        "model.add(Dense(128, activation='relu', \n",
        "                kernel_regularizer=regularizers.L2(0.00001),   \n",
        "                activity_regularizer=regularizers.L1(0.00001)))\n",
        "model.add(Dense(128, activation='relu'))\n",
        "model.add(Dense(100, activation='softmax'))\n",
        "\n",
        "# 컴파일 단계, 옵티마이저와 손실함수, 측정지표를 연결해서 계산 그래프를 구성함\n",
        "model.compile(optimizer='adam', loss='sparse_categorical_crossentropy', metrics=['accuracy'])\n",
        "\n",
        "results = model.fit(X_train, y_train, epochs=epochs_max, batch_size=batch_size, verbose=1, validation_data=(X_test,y_test))"
      ]
    },
    {
      "cell_type": "code",
      "execution_count": 5,
      "metadata": {
        "id": "NkpqMwmcixdk",
        "outputId": "e16334b0-5680-48ef-a9e2-04239f5020a0",
        "colab": {
          "base_uri": "https://localhost:8080/"
        }
      },
      "outputs": [
        {
          "output_type": "stream",
          "name": "stdout",
          "text": [
            "313/313 [==============================] - 1s 3ms/step - loss: 3.3056 - accuracy: 0.2169\n"
          ]
        }
      ],
      "source": [
        "test_loss, test_acc = model.evaluate(X_test,  y_test, verbose=1)"
      ]
    },
    {
      "cell_type": "markdown",
      "metadata": {
        "id": "5yQeUcY8fp4x"
      },
      "source": [
        "### 3) + Dropout"
      ]
    },
    {
      "cell_type": "code",
      "execution_count": 6,
      "metadata": {
        "id": "e_B_mosCZ_Ds",
        "outputId": "079ffdcd-5536-44b3-878f-db4b0ebf46ea",
        "colab": {
          "base_uri": "https://localhost:8080/"
        }
      },
      "outputs": [
        {
          "output_type": "stream",
          "name": "stdout",
          "text": [
            "Epoch 1/20\n",
            "500/500 [==============================] - 3s 4ms/step - loss: 4.1995 - accuracy: 0.0571 - val_loss: 3.9318 - val_accuracy: 0.0942\n",
            "Epoch 2/20\n",
            "500/500 [==============================] - 2s 4ms/step - loss: 3.8985 - accuracy: 0.0970 - val_loss: 3.7622 - val_accuracy: 0.1249\n",
            "Epoch 3/20\n",
            "500/500 [==============================] - 2s 4ms/step - loss: 3.7848 - accuracy: 0.1173 - val_loss: 3.7032 - val_accuracy: 0.1369\n",
            "Epoch 4/20\n",
            "500/500 [==============================] - 2s 4ms/step - loss: 3.7206 - accuracy: 0.1278 - val_loss: 3.6518 - val_accuracy: 0.1478\n",
            "Epoch 5/20\n",
            "500/500 [==============================] - 2s 4ms/step - loss: 3.6626 - accuracy: 0.1362 - val_loss: 3.5868 - val_accuracy: 0.1586\n",
            "Epoch 6/20\n",
            "500/500 [==============================] - 2s 3ms/step - loss: 3.6267 - accuracy: 0.1447 - val_loss: 3.5498 - val_accuracy: 0.1698\n",
            "Epoch 7/20\n",
            "500/500 [==============================] - 2s 4ms/step - loss: 3.5839 - accuracy: 0.1511 - val_loss: 3.5334 - val_accuracy: 0.1639\n",
            "Epoch 8/20\n",
            "500/500 [==============================] - 2s 3ms/step - loss: 3.5657 - accuracy: 0.1546 - val_loss: 3.5026 - val_accuracy: 0.1745\n",
            "Epoch 9/20\n",
            "500/500 [==============================] - 2s 3ms/step - loss: 3.5408 - accuracy: 0.1588 - val_loss: 3.5015 - val_accuracy: 0.1767\n",
            "Epoch 10/20\n",
            "500/500 [==============================] - 2s 4ms/step - loss: 3.5194 - accuracy: 0.1613 - val_loss: 3.4978 - val_accuracy: 0.1746\n",
            "Epoch 11/20\n",
            "500/500 [==============================] - 2s 4ms/step - loss: 3.5057 - accuracy: 0.1653 - val_loss: 3.4461 - val_accuracy: 0.1853\n",
            "Epoch 12/20\n",
            "500/500 [==============================] - 2s 4ms/step - loss: 3.4842 - accuracy: 0.1695 - val_loss: 3.4488 - val_accuracy: 0.1872\n",
            "Epoch 13/20\n",
            "500/500 [==============================] - 2s 4ms/step - loss: 3.4616 - accuracy: 0.1733 - val_loss: 3.4375 - val_accuracy: 0.1883\n",
            "Epoch 14/20\n",
            "500/500 [==============================] - 2s 4ms/step - loss: 3.4583 - accuracy: 0.1738 - val_loss: 3.4359 - val_accuracy: 0.1815\n",
            "Epoch 15/20\n",
            "500/500 [==============================] - 2s 4ms/step - loss: 3.4475 - accuracy: 0.1753 - val_loss: 3.4607 - val_accuracy: 0.1758\n",
            "Epoch 16/20\n",
            "500/500 [==============================] - 2s 4ms/step - loss: 3.4377 - accuracy: 0.1752 - val_loss: 3.4720 - val_accuracy: 0.1827\n",
            "Epoch 17/20\n",
            "500/500 [==============================] - 2s 4ms/step - loss: 3.4237 - accuracy: 0.1793 - val_loss: 3.3954 - val_accuracy: 0.1996\n",
            "Epoch 18/20\n",
            "500/500 [==============================] - 2s 4ms/step - loss: 3.4181 - accuracy: 0.1800 - val_loss: 3.3890 - val_accuracy: 0.1957\n",
            "Epoch 19/20\n",
            "500/500 [==============================] - 2s 4ms/step - loss: 3.4015 - accuracy: 0.1820 - val_loss: 3.3934 - val_accuracy: 0.1956\n",
            "Epoch 20/20\n",
            "500/500 [==============================] - 2s 4ms/step - loss: 3.4033 - accuracy: 0.1810 - val_loss: 3.3898 - val_accuracy: 0.1951\n"
          ]
        }
      ],
      "source": [
        "# seed를 고정합니다.\n",
        "random.seed(1)\n",
        "np.random.seed(1)\n",
        "os.environ[\"PYTHONHASHSEED\"] = str(1)\n",
        "os.environ['TF_DETERMINISTIC_OPS'] = str(1)\n",
        "tf.random.set_seed(1)\n",
        "\n",
        "# 데이터 불러오기\n",
        "(X_train, y_train), (X_test, y_test) = cifar100.load_data()\n",
        "\n",
        "# 정규화(전처리)\n",
        "X_train = X_train / 255.\n",
        "X_test = X_test / 255.\n",
        "\n",
        "# 변수 설정을 따로 하는 방법을 적용하기 위한 코드입니다. \n",
        "batch_size = 100\n",
        "epochs_max = 20\n",
        "\n",
        "# model\n",
        "model = Sequential()\n",
        "model.add(Flatten(input_shape=((32, 32, 3))))\n",
        "model.add(Dense(128*1.1, activation='relu'))\n",
        "model.add(Dropout(0.1))\n",
        "model.add(Dense(128, activation='relu'))\n",
        "model.add(Dense(100, activation='softmax'))\n",
        "\n",
        "# 컴파일 단계, 옵티마이저와 손실함수, 측정지표를 연결해서 계산 그래프를 구성함\n",
        "model.compile(optimizer='adam', loss='sparse_categorical_crossentropy', metrics=['accuracy'])\n",
        "\n",
        "results = model.fit(X_train, y_train, epochs=epochs_max, batch_size=batch_size, verbose=1, validation_data=(X_test,y_test))\n"
      ]
    },
    {
      "cell_type": "markdown",
      "metadata": {
        "id": "Q3RoevKkC27v"
      },
      "source": [
        "### 문항 4) + Early Stopping\n",
        "\n",
        "1. Early Stopping을 적용해봅시다. 멈추는 기준을 `val_loss(검증 데이터셋의 loss 값)`로 하고 loss가 Best 값보다 5번 높아질 때 Stop 하도록 설정합니다.\n",
        "\n",
        "2. Best 모델을 저장해봅시다. Best 모델 역시 멈추는 기준을 `val_loss(검증 데이터셋의 loss 값)`로 하고 `save_best_only=True, save_weights_only=True` 로 설정합니다."
      ]
    },
    {
      "cell_type": "code",
      "execution_count": 7,
      "metadata": {
        "id": "jjj4th3oLjgu",
        "outputId": "6fd0eee9-dace-4422-f96a-6ffc79870a23",
        "colab": {
          "base_uri": "https://localhost:8080/"
        }
      },
      "outputs": [
        {
          "output_type": "stream",
          "name": "stdout",
          "text": [
            "Epoch 1/50\n",
            "499/500 [============================>.] - ETA: 0s - loss: 4.1261 - accuracy: 0.0705\n",
            "Epoch 1: val_loss improved from inf to 3.86630, saving model to FMbest.hdf5\n",
            "500/500 [==============================] - 3s 4ms/step - loss: 4.1251 - accuracy: 0.0706 - val_loss: 3.8663 - val_accuracy: 0.1067\n",
            "Epoch 2/50\n",
            "489/500 [============================>.] - ETA: 0s - loss: 3.7601 - accuracy: 0.1224\n",
            "Epoch 2: val_loss improved from 3.86630 to 3.72156, saving model to FMbest.hdf5\n",
            "500/500 [==============================] - 2s 4ms/step - loss: 3.7589 - accuracy: 0.1226 - val_loss: 3.7216 - val_accuracy: 0.1365\n",
            "Epoch 3/50\n",
            "490/500 [============================>.] - ETA: 0s - loss: 3.6370 - accuracy: 0.1428\n",
            "Epoch 3: val_loss improved from 3.72156 to 3.68634, saving model to FMbest.hdf5\n",
            "500/500 [==============================] - 2s 3ms/step - loss: 3.6363 - accuracy: 0.1429 - val_loss: 3.6863 - val_accuracy: 0.1452\n",
            "Epoch 4/50\n",
            "492/500 [============================>.] - ETA: 0s - loss: 3.5534 - accuracy: 0.1583\n",
            "Epoch 4: val_loss improved from 3.68634 to 3.59311, saving model to FMbest.hdf5\n",
            "500/500 [==============================] - 2s 4ms/step - loss: 3.5530 - accuracy: 0.1581 - val_loss: 3.5931 - val_accuracy: 0.1595\n",
            "Epoch 5/50\n",
            "485/500 [============================>.] - ETA: 0s - loss: 3.4973 - accuracy: 0.1703\n",
            "Epoch 5: val_loss improved from 3.59311 to 3.52978, saving model to FMbest.hdf5\n",
            "500/500 [==============================] - 2s 4ms/step - loss: 3.4974 - accuracy: 0.1703 - val_loss: 3.5298 - val_accuracy: 0.1691\n",
            "Epoch 6/50\n",
            "494/500 [============================>.] - ETA: 0s - loss: 3.4397 - accuracy: 0.1789\n",
            "Epoch 6: val_loss improved from 3.52978 to 3.51030, saving model to FMbest.hdf5\n",
            "500/500 [==============================] - 2s 3ms/step - loss: 3.4386 - accuracy: 0.1789 - val_loss: 3.5103 - val_accuracy: 0.1761\n",
            "Epoch 7/50\n",
            "500/500 [==============================] - ETA: 0s - loss: 3.4035 - accuracy: 0.1867\n",
            "Epoch 7: val_loss improved from 3.51030 to 3.49770, saving model to FMbest.hdf5\n",
            "500/500 [==============================] - 2s 3ms/step - loss: 3.4035 - accuracy: 0.1867 - val_loss: 3.4977 - val_accuracy: 0.1754\n",
            "Epoch 8/50\n",
            "496/500 [============================>.] - ETA: 0s - loss: 3.3628 - accuracy: 0.1928\n",
            "Epoch 8: val_loss improved from 3.49770 to 3.46010, saving model to FMbest.hdf5\n",
            "500/500 [==============================] - 2s 4ms/step - loss: 3.3633 - accuracy: 0.1927 - val_loss: 3.4601 - val_accuracy: 0.1863\n",
            "Epoch 9/50\n",
            "496/500 [============================>.] - ETA: 0s - loss: 3.3398 - accuracy: 0.1978\n",
            "Epoch 9: val_loss did not improve from 3.46010\n",
            "500/500 [==============================] - 2s 3ms/step - loss: 3.3395 - accuracy: 0.1978 - val_loss: 3.4724 - val_accuracy: 0.1840\n",
            "Epoch 10/50\n",
            "485/500 [============================>.] - ETA: 0s - loss: 3.3189 - accuracy: 0.2010\n",
            "Epoch 10: val_loss improved from 3.46010 to 3.40081, saving model to FMbest.hdf5\n",
            "500/500 [==============================] - 2s 4ms/step - loss: 3.3188 - accuracy: 0.2008 - val_loss: 3.4008 - val_accuracy: 0.1979\n",
            "Epoch 11/50\n",
            "497/500 [============================>.] - ETA: 0s - loss: 3.2889 - accuracy: 0.2074\n",
            "Epoch 11: val_loss did not improve from 3.40081\n",
            "500/500 [==============================] - 2s 3ms/step - loss: 3.2895 - accuracy: 0.2070 - val_loss: 3.4011 - val_accuracy: 0.1930\n",
            "Epoch 12/50\n",
            "485/500 [============================>.] - ETA: 0s - loss: 3.2641 - accuracy: 0.2098\n",
            "Epoch 12: val_loss improved from 3.40081 to 3.39504, saving model to FMbest.hdf5\n",
            "500/500 [==============================] - 2s 3ms/step - loss: 3.2665 - accuracy: 0.2090 - val_loss: 3.3950 - val_accuracy: 0.1970\n",
            "Epoch 13/50\n",
            "490/500 [============================>.] - ETA: 0s - loss: 3.2448 - accuracy: 0.2143\n",
            "Epoch 13: val_loss did not improve from 3.39504\n",
            "500/500 [==============================] - 2s 3ms/step - loss: 3.2433 - accuracy: 0.2146 - val_loss: 3.3954 - val_accuracy: 0.1971\n",
            "Epoch 14/50\n",
            "489/500 [============================>.] - ETA: 0s - loss: 3.2281 - accuracy: 0.2192\n",
            "Epoch 14: val_loss improved from 3.39504 to 3.38348, saving model to FMbest.hdf5\n",
            "500/500 [==============================] - 2s 4ms/step - loss: 3.2287 - accuracy: 0.2193 - val_loss: 3.3835 - val_accuracy: 0.2013\n",
            "Epoch 15/50\n",
            "500/500 [==============================] - ETA: 0s - loss: 3.2139 - accuracy: 0.2193\n",
            "Epoch 15: val_loss improved from 3.38348 to 3.38280, saving model to FMbest.hdf5\n",
            "500/500 [==============================] - 2s 4ms/step - loss: 3.2139 - accuracy: 0.2193 - val_loss: 3.3828 - val_accuracy: 0.2001\n",
            "Epoch 16/50\n",
            "497/500 [============================>.] - ETA: 0s - loss: 3.2037 - accuracy: 0.2213\n",
            "Epoch 16: val_loss did not improve from 3.38280\n",
            "500/500 [==============================] - 2s 4ms/step - loss: 3.2045 - accuracy: 0.2210 - val_loss: 3.3837 - val_accuracy: 0.2018\n",
            "Epoch 17/50\n",
            "487/500 [============================>.] - ETA: 0s - loss: 3.1849 - accuracy: 0.2245\n",
            "Epoch 17: val_loss improved from 3.38280 to 3.35735, saving model to FMbest.hdf5\n",
            "500/500 [==============================] - 2s 3ms/step - loss: 3.1849 - accuracy: 0.2245 - val_loss: 3.3574 - val_accuracy: 0.2083\n",
            "Epoch 18/50\n",
            "495/500 [============================>.] - ETA: 0s - loss: 3.1735 - accuracy: 0.2248\n",
            "Epoch 18: val_loss improved from 3.35735 to 3.34113, saving model to FMbest.hdf5\n",
            "500/500 [==============================] - 2s 3ms/step - loss: 3.1730 - accuracy: 0.2247 - val_loss: 3.3411 - val_accuracy: 0.2132\n",
            "Epoch 19/50\n",
            "489/500 [============================>.] - ETA: 0s - loss: 3.1638 - accuracy: 0.2272\n",
            "Epoch 19: val_loss did not improve from 3.34113\n",
            "500/500 [==============================] - 2s 3ms/step - loss: 3.1630 - accuracy: 0.2277 - val_loss: 3.3457 - val_accuracy: 0.2078\n",
            "Epoch 20/50\n",
            "499/500 [============================>.] - ETA: 0s - loss: 3.1504 - accuracy: 0.2307\n",
            "Epoch 20: val_loss did not improve from 3.34113\n",
            "500/500 [==============================] - 2s 4ms/step - loss: 3.1507 - accuracy: 0.2307 - val_loss: 3.3778 - val_accuracy: 0.2018\n",
            "Epoch 21/50\n",
            "493/500 [============================>.] - ETA: 0s - loss: 3.1457 - accuracy: 0.2298\n",
            "Epoch 21: val_loss improved from 3.34113 to 3.33997, saving model to FMbest.hdf5\n",
            "500/500 [==============================] - 2s 4ms/step - loss: 3.1463 - accuracy: 0.2296 - val_loss: 3.3400 - val_accuracy: 0.2085\n",
            "Epoch 22/50\n",
            "487/500 [============================>.] - ETA: 0s - loss: 3.1341 - accuracy: 0.2334\n",
            "Epoch 22: val_loss did not improve from 3.33997\n",
            "500/500 [==============================] - 2s 3ms/step - loss: 3.1341 - accuracy: 0.2336 - val_loss: 3.3692 - val_accuracy: 0.2034\n",
            "Epoch 23/50\n",
            "499/500 [============================>.] - ETA: 0s - loss: 3.1227 - accuracy: 0.2358\n",
            "Epoch 23: val_loss improved from 3.33997 to 3.31835, saving model to FMbest.hdf5\n",
            "500/500 [==============================] - 2s 4ms/step - loss: 3.1223 - accuracy: 0.2359 - val_loss: 3.3183 - val_accuracy: 0.2133\n",
            "Epoch 24/50\n",
            "488/500 [============================>.] - ETA: 0s - loss: 3.1211 - accuracy: 0.2345\n",
            "Epoch 24: val_loss did not improve from 3.31835\n",
            "500/500 [==============================] - 2s 4ms/step - loss: 3.1189 - accuracy: 0.2346 - val_loss: 3.3527 - val_accuracy: 0.2040\n",
            "Epoch 25/50\n",
            "493/500 [============================>.] - ETA: 0s - loss: 3.1138 - accuracy: 0.2363\n",
            "Epoch 25: val_loss did not improve from 3.31835\n",
            "500/500 [==============================] - 2s 3ms/step - loss: 3.1133 - accuracy: 0.2364 - val_loss: 3.3246 - val_accuracy: 0.2149\n",
            "Epoch 26/50\n",
            "492/500 [============================>.] - ETA: 0s - loss: 3.1036 - accuracy: 0.2365\n",
            "Epoch 26: val_loss did not improve from 3.31835\n",
            "500/500 [==============================] - 2s 4ms/step - loss: 3.1053 - accuracy: 0.2364 - val_loss: 3.3445 - val_accuracy: 0.2117\n",
            "Epoch 27/50\n",
            "488/500 [============================>.] - ETA: 0s - loss: 3.0934 - accuracy: 0.2404\n",
            "Epoch 27: val_loss did not improve from 3.31835\n",
            "500/500 [==============================] - 2s 4ms/step - loss: 3.0947 - accuracy: 0.2405 - val_loss: 3.3319 - val_accuracy: 0.2130\n",
            "Epoch 28/50\n",
            "488/500 [============================>.] - ETA: 0s - loss: 3.0886 - accuracy: 0.2412\n",
            "Epoch 28: val_loss did not improve from 3.31835\n",
            "500/500 [==============================] - 2s 4ms/step - loss: 3.0880 - accuracy: 0.2412 - val_loss: 3.3223 - val_accuracy: 0.2159\n",
            "Epoch 28: early stopping\n"
          ]
        }
      ],
      "source": [
        "# seed를 고정합니다.\n",
        "random.seed(1)\n",
        "np.random.seed(1)\n",
        "os.environ[\"PYTHONHASHSEED\"] = str(1)\n",
        "os.environ['TF_DETERMINISTIC_OPS'] = str(1)\n",
        "tf.random.set_seed(1)\n",
        "\n",
        "\n",
        "# 데이터 불러오기\n",
        "(X_train, y_train), (X_test, y_test) = cifar100.load_data()\n",
        "\n",
        "\n",
        "# 정규화(전처리)\n",
        "X_train = X_train / 255.\n",
        "X_test = X_test / 255.\n",
        "\n",
        "\n",
        "# 학습시킨 데이터를 저장시키기 위한 코드입니다. \n",
        "checkpoint_filepath = \"FMbest.hdf5\"\n",
        "\n",
        "\n",
        "# 변수 설정을 따로 하는 방법을 적용하기 위한 코드입니다. \n",
        "batch_size = 100\n",
        "epochs_max = 50\n",
        "\n",
        "\n",
        "model = Sequential()\n",
        "model.add(Flatten(input_shape=(32, 32, 3)))\n",
        "model.add(Dense(128, activation='relu'))\n",
        "model.add(Dense(128, activation='relu'))\n",
        "model.add(Dense(100, activation='softmax'))\n",
        "\n",
        "# 컴파일 단계, 옵티마이저와 손실함수, 측정지표를 연결해서 계산 그래프를 구성함\n",
        "model.compile(optimizer='adam', loss='sparse_categorical_crossentropy', metrics=['accuracy'])\n",
        "\n",
        "                  \n",
        "# early stopping\n",
        "early_stop = tf.keras.callbacks.EarlyStopping(patience= 5, verbose= 1)\n",
        "\n",
        "# Validation Set을 기준으로 가장 최적의 모델을 찾기\n",
        "save_best = keras.callbacks.ModelCheckpoint( \n",
        "    filepath= checkpoint_filepath, verbose= 1,\n",
        "    save_best_only= True, save_weights_only= True)\n",
        "\n",
        "results = model.fit(X_train, y_train,\n",
        "                    batch_size= batch_size, epochs= epochs_max,\n",
        "                    validation_data= (X_test, y_test),\n",
        "                    callbacks= [early_stop, save_best])"
      ]
    },
    {
      "cell_type": "code",
      "execution_count": 8,
      "metadata": {
        "colab": {
          "base_uri": "https://localhost:8080/"
        },
        "id": "Bk3GSXbfUI91",
        "outputId": "dac080a6-975c-4fcd-d51b-4dfb789b24eb"
      },
      "outputs": [
        {
          "output_type": "stream",
          "name": "stdout",
          "text": [
            "313/313 [==============================] - 1s 3ms/step - loss: 3.3223 - accuracy: 0.2159\n"
          ]
        }
      ],
      "source": [
        "# 학습된 모델을 이용하여 테스트하는 코드\n",
        "test_loss, test_acc = model.evaluate(X_test,  y_test, verbose=1)"
      ]
    },
    {
      "cell_type": "code",
      "execution_count": 9,
      "metadata": {
        "id": "Nyz7CrMIUNJX",
        "outputId": "b9e3de0e-5e00-4456-a5da-f34c4f2d7ac7",
        "colab": {
          "base_uri": "https://localhost:8080/"
        }
      },
      "outputs": [
        {
          "output_type": "stream",
          "name": "stdout",
          "text": [
            "313/313 [==============================] - 1s 3ms/step - loss: 3.3183 - accuracy: 0.2133\n"
          ]
        }
      ],
      "source": [
        "model.load_weights(checkpoint_filepath)\n",
        "\n",
        "# best model을 이용한 테스트 데이터 예측 정확도 재확인 코드\n",
        "test_loss, test_acc = model.evaluate(X_test, y_test, verbose=1)"
      ]
    }
  ],
  "metadata": {
    "accelerator": "GPU",
    "colab": {
      "machine_shape": "hm",
      "name": "ds-cs-N423a.ipynb",
      "provenance": []
    },
    "kernelspec": {
      "display_name": "Python 3",
      "language": "python",
      "name": "python3"
    },
    "language_info": {
      "codemirror_mode": {
        "name": "ipython",
        "version": 3
      },
      "file_extension": ".py",
      "mimetype": "text/x-python",
      "name": "python",
      "nbconvert_exporter": "python",
      "pygments_lexer": "ipython3",
      "version": "3.9.4"
    }
  },
  "nbformat": 4,
  "nbformat_minor": 0
}