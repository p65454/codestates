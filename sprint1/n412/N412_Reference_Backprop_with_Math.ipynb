{
  "nbformat": 4,
  "nbformat_minor": 0,
  "metadata": {
    "colab": {
      "name": "N412_Reference_Backprop_with_Math",
      "provenance": [],
      "collapsed_sections": []
    },
    "kernelspec": {
      "name": "python3",
      "display_name": "Python 3"
    },
    "language_info": {
      "name": "python"
    }
  },
  "cells": [
    {
      "cell_type": "markdown",
      "metadata": {
        "id": "ELV1ffGLL6xY"
      },
      "source": [
        "<img src='https://user-images.githubusercontent.com/6457691/90080969-0f758d00-dd47-11ea-8191-fa12fd2054a7.png' width = '200' align = 'right'>\n",
        "\n",
        "## *AIB / SECTION 4 / SPRINT 1 / NOTE 2*\n",
        "\n",
        "---"
      ]
    },
    {
      "cell_type": "markdown",
      "metadata": {
        "id": "37N5MaSIQW7S"
      },
      "source": [
        "## 수학으로 다시보는 역전파(Backpropagation Review with Math)"
      ]
    },
    {
      "cell_type": "markdown",
      "metadata": {
        "id": "cZYENoA98CHU"
      },
      "source": [
        "위에서 했던 역전파 과정을 수학으로 다시 보도록 하겠습니다."
      ]
    },
    {
      "cell_type": "markdown",
      "metadata": {
        "id": "7jv9b-hVQXjq"
      },
      "source": [
        "<img src=\"https://ds-lecture-data.s3.ap-northeast-2.amazonaws.com/etc/note2_image/bp1.png\">\n",
        "\n",
        "---\n",
        "\n",
        "<img src=\"https://i.imgur.com/RwLiRVI.png\">\n",
        "\n",
        "---\n",
        "\n",
        "<img src=\"https://ds-lecture-data.s3.ap-northeast-2.amazonaws.com/etc/note2_image/bp3.png\">\n",
        "\n",
        "---\n",
        "\n",
        "<img src=\"https://ds-lecture-data.s3.ap-northeast-2.amazonaws.com/etc/note2_image/bp4.png\">\n",
        "\n",
        "---\n",
        "\n",
        "\n",
        "<img src=\"https://ds-lecture-data.s3.ap-northeast-2.amazonaws.com/etc/note2_image/bp5_new.png\">"
      ]
    }
  ]
}