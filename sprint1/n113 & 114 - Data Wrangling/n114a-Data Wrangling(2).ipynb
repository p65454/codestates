{
  "nbformat": 4,
  "nbformat_minor": 0,
  "metadata": {
    "colab": {
      "name": "n114a-Data Wrangling(2).ipynb",
      "provenance": [],
      "collapsed_sections": [
        "8miiH1NgR1P4",
        "yt0ZtsnswcSt",
        "pHOk7NOHx6pg",
        "Bamtjddix9Kf"
      ]
    },
    "kernelspec": {
      "name": "python3",
      "display_name": "Python 3"
    },
    "language_info": {
      "name": "python"
    }
  },
  "cells": [
    {
      "cell_type": "markdown",
      "source": [
        "<img src='https://user-images.githubusercontent.com/6457691/89746244-a6e2a200-daf3-11ea-9314-7863d544d73c.png' width = '200' align = 'right'>\n",
        "\n",
        "## *DATA SCIENCE / SECTION 1 / SPRINT 1 / NOTE 4*\n",
        "\n",
        "# 📝 Assignment\n",
        "\n",
        "---"
      ],
      "metadata": {
        "id": "eIGX_69OQ8rv"
      }
    },
    {
      "cell_type": "markdown",
      "source": [
        "**n113a의 데이터셋을 계속 사용합니다.**"
      ],
      "metadata": {
        "id": "BYvIS-1aIako"
      }
    },
    {
      "cell_type": "markdown",
      "source": [
        "# 1. customer 테이블의 데이터 이슈 해결하기 \n",
        "- customer 데이터셋을 불러옵니다. \n",
        "- 마지막 row를 제거합니다. \n",
        "- `customer_id`, `store_id`, `address_id`, `active` 컬럼의 데이터 타입을 int로 변환합니다. \n",
        "- `name`에서 처음 이름은 `first_name` 컬럼에, 다음 이름은 `last_name` 컬럼에 저장합니다. 이후 `name` 컬럼은 제거합니다.\n",
        "- `customer_id` 컬럼에 대하여 오름차순으로 정렬합니다. 이후 `.reset_index()`를 사용하여 인덱스를 재설정 해 주세요. "
      ],
      "metadata": {
        "id": "8miiH1NgR1P4"
      }
    },
    {
      "cell_type": "code",
      "source": [
        "# 이 곳에 답안을 작성하시기 바랍니다."
      ],
      "metadata": {
        "id": "gIYt_ClByZbY"
      },
      "execution_count": null,
      "outputs": []
    },
    {
      "cell_type": "markdown",
      "source": [
        "# 2. rental 테이블의 데이터 이슈 해결하기 \n",
        "- rental 데이터셋을 불러옵니다. \n",
        "- 마지막 row를 제거합니다. \n",
        "- `rental_id`, `inventory_id`, `customer_id`, `staff_id` 컬럼의 데이터 타입을 int로 변환합니다. \n",
        "- `customer_id`와 `rental_id` 컬럼에 대하여 오름차순으로 정렬합니다. 이후 `.reset_index()`를 사용하여 인덱스를 재설정 해 주세요. "
      ],
      "metadata": {
        "id": "yt0ZtsnswcSt"
      }
    },
    {
      "cell_type": "code",
      "source": [
        "# 이 곳에 답안을 작성하시기 바랍니다."
      ],
      "metadata": {
        "id": "Hnm297EYyd9u"
      },
      "execution_count": null,
      "outputs": []
    },
    {
      "cell_type": "markdown",
      "source": [
        "# 3. payment 테이블의 데이터 이슈 해결하기 \n",
        "- payment 데이터셋을 불러옵니다. \n",
        "- 마지막 row를 제거합니다. \n",
        "- `payment_id`, `customer_id`, `staff_id`, `rental_id` 컬럼의 데이터 타입을 int로 변환합니다. \n",
        "- `amount` 컬럼의 '$'를 제거한 후 데이터 타입을 float으로 변환합니다. \n",
        "- `customer_id`와 `rental_id` 컬럼에 대하여 오름차순으로 정렬합니다. "
      ],
      "metadata": {
        "id": "pHOk7NOHx6pg"
      }
    },
    {
      "cell_type": "code",
      "source": [
        "# 이 곳에 답안을 작성하시기 바랍니다."
      ],
      "metadata": {
        "id": "II42XZwsyfvG"
      },
      "execution_count": null,
      "outputs": []
    },
    {
      "cell_type": "markdown",
      "source": [
        "# 4. customer, rental, payment 테이블 합치기 \n",
        "3개의 테이블을 모두 사용하여 분석을 진행하는 것은 비효율적으로 보입니다.\n",
        "- rental 테이블과 payment 테이블의 `staff_id` 컬럼을 각각 제거합니다.  \n",
        "- customer 테이블과 rental 테이블의 `last_update` 컬럼을 각각 제거합니다. \n",
        "- rental 테이블과 payment 테이블을 `customer_id`와 `rental_id`에 대하여 `.merge()`를 사용하여 합치세요. 변수 이름은 `df1`으로 합니다. \n",
        "- `df1`과 customer 테이블을 `customer_id`에 대하여 `.merge()`를 사용하여 합치세요. 변수 이름은 `df2`로 합니다. "
      ],
      "metadata": {
        "id": "Bamtjddix9Kf"
      }
    },
    {
      "cell_type": "code",
      "source": [
        "# 이 곳에 답안을 작성하시기 바랍니다."
      ],
      "metadata": {
        "id": "wi4j5tLGyhZl"
      },
      "execution_count": null,
      "outputs": []
    },
    {
      "cell_type": "markdown",
      "source": [
        "# 🔥 도전 과제\n",
        "\n",
        "**n113a의 도전과제에서 이어집니다.**"
      ],
      "metadata": {
        "id": "HP_pf2XHbF5_"
      }
    },
    {
      "cell_type": "markdown",
      "source": [
        "## Tidy Data\n",
        "\n",
        "- n113a의 도전과제에서 만든 데이터를 다음 예시와 같은 **tidy** 형태로 만드세요.\n",
        "\n",
        "|종목명|Feature|Value|\n",
        "|:-:|:-:|:-:|\n",
        "|하이트진로|매출액|6243|\n",
        "|보해양조|매출액|205|\n",
        "|롯데칠성|매출액|5980|\n",
        "|...|...|...|\n",
        "|마니커|EPS(원)|-61|\n",
        "|이지홀딩스|EPS(원)|1168|\n",
        "|하림|EPS(원)|62|\n",
        "\n",
        "- 다음 코드를 실행했을 때 나오는 box 수를 구하세요. \n",
        "```python\n",
        "sns.boxplot(data = df_tidy, x = '종목명', y = 'value');\n",
        "```"
      ],
      "metadata": {
        "id": "h1tOBIcSbfGA"
      }
    },
    {
      "cell_type": "code",
      "source": [
        "# 이 곳에 답안을 작성하시기 바랍니다. "
      ],
      "metadata": {
        "id": "UnBv92ZEcKY9"
      },
      "execution_count": null,
      "outputs": []
    },
    {
      "cell_type": "markdown",
      "source": [
        "## Join\n",
        "\n",
        "- 여러 데이터셋을 합칠 때에는 `.concat()`이나 `.merge()` 외에 `.join()`이라는 함수를 사용할 수도 있습니다. 공식문서를 통해 `.join()`에 대해 알아보세요.\n",
        "\n",
        "  https://pandas.pydata.org/docs/reference/api/pandas.DataFrame.join.html\n",
        "\n",
        "-  주어진 두 데이터프레임을 `.join()`을 사용하여 다음과 같은 결과물을 만듭니다.\n",
        "\n",
        "\n",
        "|key1|key2x|A|B|key2y|C|D|\n",
        "|:-:|:-:|:-:|:-:|:-:|:-:|:-:|\n",
        "|K1|K0|A2|B2|K0|C0|D0|\n",
        "|K1|K0|A2|B2|K0|C1|D1|\n",
        "|K2|K1|A3|B3|K0|C2|D2|\n",
        "|K3|NaN|NaN|NaN|K0|C3|D3|"
      ],
      "metadata": {
        "id": "J3GBGj-NcCbJ"
      }
    },
    {
      "cell_type": "code",
      "source": [
        "import pandas as pd\n",
        "\n",
        "left = pd.DataFrame({'key1': ['K0', 'K0', 'K1', 'K2'],\n",
        "                     'key2': ['K0', 'K1', 'K0', 'K1'],\n",
        "                     'A': ['A0', 'A1', 'A2', 'A3'],\n",
        "                     'B': ['B0', 'B1', 'B2', 'B3']})\n",
        "\n",
        "right = pd.DataFrame({'key1': ['K1', 'K1', 'K2', 'K3'],\n",
        "                      'key2': ['K0', 'K0', 'K0', 'K0'],\n",
        "                      'C': ['C0', 'C1', 'C2', 'C3'],\n",
        "                      'D': ['D0', 'D1', 'D2', 'D3']})"
      ],
      "metadata": {
        "id": "RlBnXh21SjHt"
      },
      "execution_count": 11,
      "outputs": []
    },
    {
      "cell_type": "code",
      "source": [
        "# 이 곳에 답안을 작성하시기 바랍니다. "
      ],
      "metadata": {
        "id": "qO2qf5bodA0Y"
      },
      "execution_count": null,
      "outputs": []
    }
  ]
}