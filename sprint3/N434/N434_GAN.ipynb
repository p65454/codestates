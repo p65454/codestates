{
  "nbformat": 4,
  "nbformat_minor": 0,
  "metadata": {
    "colab": {
      "name": "N434_GAN.ipynb",
      "provenance": [],
      "collapsed_sections": [],
      "machine_shape": "hm"
    },
    "kernelspec": {
      "name": "python3",
      "display_name": "Python 3"
    },
    "language_info": {
      "name": "python"
    },
    "accelerator": "GPU"
  },
  "cells": [
    {
      "cell_type": "markdown",
      "source": [
        "<img src='https://user-images.githubusercontent.com/6457691/90080969-0f758d00-dd47-11ea-8191-fa12fd2054a7.png' width = '200' align = 'right'>\n",
        "\n",
        "## *AIB / SECTION 4 / SPRINT 3 / NOTE 4*\n",
        "\n",
        "---"
      ],
      "metadata": {
        "id": "FuaW1zUldOeX"
      }
    },
    {
      "cell_type": "markdown",
      "source": [
        "# N434. GAN(Generative Adversarial Networks)"
      ],
      "metadata": {
        "id": "Y53ocXnKdb5M"
      }
    },
    {
      "cell_type": "markdown",
      "source": [
        "이번 시간에는 딥러닝을 이용한 생성 모델인 GAN에 대해서 배워보도록 하겠습니다.<br/>\n",
        "여러분이 GAN에 대해서 들어보지 못했더라도 Warm-up 영상에 있는 딥페이크(Deepfake)에 대해서는 한 번쯤 들어보셨을텐데요.<br/>\n",
        "딥페이크의 기반이 되는 GAN에 대해 알아보겠습니다."
      ],
      "metadata": {
        "id": "rsudIJ3JYR9v"
      }
    },
    {
      "cell_type": "markdown",
      "source": [
        "## GAN이란?"
      ],
      "metadata": {
        "id": "Wyy7AMEyZ0MQ"
      }
    },
    {
      "cell_type": "markdown",
      "source": [
        "2016년 Ian Goodfellow에 의해 개발된 <font color=\"ff6f61\">**GAN(Generative Adversarial Networks, 생성적 적대 신경망)**</font>은 실제와 유사한 데이터를 만들어내는 생성모델입니다.<br/>\n",
        "어떻게 실제와 유사한 데이터를 생성하는 모델이 만들어 질 수 있을까요?\n",
        "\n",
        "GAN을 설명하는데 많이 사용되는 위조지폐 예시를 통해 GAN의 작동 방식을 간략하게 이해해봅시다."
      ],
      "metadata": {
        "id": "lgWnscZRlxFy"
      }
    },
    {
      "cell_type": "markdown",
      "source": [
        "### 위조 지폐 발달사(?)"
      ],
      "metadata": {
        "id": "MsHZyXJp6tRO"
      }
    },
    {
      "cell_type": "markdown",
      "source": [
        "<img src=\"https://i.imgur.com/5ys8QDD.png\" height=\"300\"/>\n",
        "\n"
      ],
      "metadata": {
        "id": "oemA1NlExL_3"
      }
    },
    {
      "cell_type": "markdown",
      "source": [
        "위조지폐 역시 실제와 동일한 이미지를 생성하는데요.<br/>\n",
        "처음 화폐가 생겼을 때에는 단순한 위조 기술만으로도 어느 정도 속일 수 있었을 것입니다.<br/>\n",
        "위조 판별을 위한 기술이 점점 발달하게 되면서, 위조 기술 역시 발달하게 되는데요.<br/>\n",
        "최근에 등장하는 위조 지폐는 전문가가 아니라면 감별이 힘든 수준으로도 나오고 있습니다.\n",
        "\n",
        "GAN이 학습되는 방식도 위와 동일합니다.<br/>\n",
        "위조지폐범에 해당하는 **생성자(Generator)**는 실제와 동일한 데이터를 만들기 위해 노력하고<br/>\n",
        "탐정에 속하는 **판별자(Discriminator)**는 생성된 데이터가 진짜인지 아닌지를 판단하는데요.<br/>\n",
        "처음에는 서로의 성능이 그렇게 좋지 않지만 학습을 거듭하면서 점점 발전하게 됩니다.\n",
        "\n",
        "위조 지폐 예시를 고양이 그림을 그리는 GAN, 즉 AI 화가에 적용해보겠습니다."
      ],
      "metadata": {
        "id": "1n6rgbCUpaIM"
      }
    },
    {
      "cell_type": "markdown",
      "source": [
        "### 그림을 그리는 GAN이라면?"
      ],
      "metadata": {
        "id": "3m1MvLNK6yPl"
      }
    },
    {
      "cell_type": "markdown",
      "source": [
        "<img src=\"https://tensorflow.org/tutorials/generative/images/gan1.png\" height=\"350\"/>"
      ],
      "metadata": {
        "id": "ZDh_a8I_M-Ke"
      }
    },
    {
      "cell_type": "markdown",
      "source": [
        "아래는 고양이 그림을 그리는 GAN 모델에서 생성자와 판별자의 역할을 나타낸 것입니다.<br/>\n",
        "생성자는 Random Noise 로부터 실제 고양이 그림과 유사한 그림을 생성합니다.<br/>\n",
        "판별자는 생성자가 만들어낸 고양이 그림과 실제 고양이 사진을 임의로 입력받으면서 둘을 Fake/Real 로 구분하는 **이진 분류**를 수행합니다.\n",
        "\n",
        "학습을 잘 마친 GAN 모델에서 생성자는 실제와 유사한 이미지를 생성하게 되어<br/>\n",
        "판별자가 실제(Real)와 가짜(Fake)를 잘 구분해내지 못하게 됩니다. **(Accuracy $\\approx$ 0.5)**"
      ],
      "metadata": {
        "id": "5pZ-qn49MuNE"
      }
    },
    {
      "cell_type": "markdown",
      "source": [
        "<img src=\"https://tensorflow.org/tutorials/generative/images/gan2.png\" height=\"400\"/>"
      ],
      "metadata": {
        "id": "m5LT5PDpd79m"
      }
    },
    {
      "cell_type": "markdown",
      "source": [
        "예제를 통해 GAN이 어떻게 학습되는지 자세히 알아보도록 하겠습니다."
      ],
      "metadata": {
        "id": "UPtOmtlBRMdP"
      }
    },
    {
      "cell_type": "markdown",
      "source": [
        "### Example"
      ],
      "metadata": {
        "id": "Ia8lUN617wXM"
      }
    },
    {
      "cell_type": "markdown",
      "source": [
        "GAN을 통해서 MNIST 손글씨 데이터를 생성하는 예제를 해보겠습니다.<br/>\n",
        "아래는 GAN 모델이 MNIST 손글씨 데이터 50에포크 동안 학습하면서 생성자가 매 에포크마다 생성한 손글씨 이미지를 gif 로 이어붙인 것입니다.<br/>\n",
        "처음에 Noise 형태에서 시작해서 학습이 진행되면서 실제 손글씨 이미지와 닮아가는 것을 볼 수 있습니다."
      ],
      "metadata": {
        "id": "RDxABsM7SIaf"
      }
    },
    {
      "cell_type": "markdown",
      "source": [
        "<img src=\"https://i.imgur.com/i5Zs6SY.gif\">"
      ],
      "metadata": {
        "id": "DbtonWhIPuMc"
      }
    },
    {
      "cell_type": "markdown",
      "source": [
        "예제에 사용할 모델은 Convolution Layer 로 이루어진 **DCGAN(Deep Convolution GAN)**입니다.<br/>\n",
        "모델을 구현해보면서 모델 구조와 GAN이 학습되는 방식에 대해 알아보도록 합시다.\n",
        "\n",
        "> ❗️ ***아래 코드 역시 모두 이해하지 못해도 좋습니다.<br/>\n",
        "GAN 모델이 어떻게 구성되는 지에 대해서만 알고 넘어가도록 합시다.***"
      ],
      "metadata": {
        "id": "Ag71K2KNSedl"
      }
    },
    {
      "cell_type": "markdown",
      "source": [
        "1. **필요한 라이브러리를 Import 하여줍니다.**"
      ],
      "metadata": {
        "id": "SrRc-KXh7yzH"
      }
    },
    {
      "cell_type": "code",
      "source": [
        "from tensorflow.keras import layers\n",
        "from IPython import display\n",
        "\n",
        "import glob\n",
        "import imageio\n",
        "import os\n",
        "import PIL\n",
        "import time\n",
        "\n",
        "import numpy as np\n",
        "import matplotlib.pyplot as plt\n",
        "import tensorflow as tf"
      ],
      "metadata": {
        "id": "F8yPO0KQTBri"
      },
      "execution_count": 25,
      "outputs": []
    },
    {
      "cell_type": "markdown",
      "source": [
        "2. **데이터셋을 불러온 뒤 정규화 하여줍니다.**\n",
        "\n",
        "    본 예제에서는 Test 데이터셋은 사용하지 않기 때문에 `_` 로 처리하여줍니다.<br/>\n",
        "    본 예제에서는 이미지를 \\[-1, 1\\] 의 범위로 정규화하도록 하겠습니다."
      ],
      "metadata": {
        "id": "0Osmyix9TP3_"
      }
    },
    {
      "cell_type": "code",
      "source": [
        "(train_images, train_labels), (_, _) = tf.keras.datasets.mnist.load_data()"
      ],
      "metadata": {
        "id": "Ii7piIhYTQaR"
      },
      "execution_count": 26,
      "outputs": []
    },
    {
      "cell_type": "code",
      "source": [
        "train_images = train_images.reshape(train_images.shape[0], 28, 28, 1).astype('float32')\n",
        "train_images = (train_images - 127.5) / 127.5 # 이미지를 [-1, 1]로 정규화합니다."
      ],
      "metadata": {
        "id": "kv_XMr-WTSER"
      },
      "execution_count": 27,
      "outputs": []
    },
    {
      "cell_type": "code",
      "source": [
        "BUFFER_SIZE = 60000\n",
        "BATCH_SIZE = 256"
      ],
      "metadata": {
        "id": "72shb1RaTT_x"
      },
      "execution_count": 28,
      "outputs": []
    },
    {
      "cell_type": "code",
      "source": [
        "# 데이터 배치를 만들고 섞습니다.\n",
        "train_dataset = tf.data.Dataset.from_tensor_slices(train_images).shuffle(BUFFER_SIZE).batch(BATCH_SIZE)"
      ],
      "metadata": {
        "id": "8S4mdaBmTWBq"
      },
      "execution_count": 29,
      "outputs": []
    },
    {
      "cell_type": "markdown",
      "source": [
        "3. **모델 구축하기 - 생성자(Generator)**\n",
        "\n",
        "    먼저 **생성자(Generator)**를 구축합니다.<br/>\n",
        "생성자는 Random Noise 로부터 이미지를 생성하기 위해서 Transpose Convolution 을 사용하여 Upsampling 을 수행합니다.<br/>\n",
        "첫 Dense 층은 Random Noise 를 입력받으며 원하는 이미지 사이즈인 28X28 이 나오도록 **`Conv2DTranspose`**를 겹겹이 쌓습니다.<br/>\n",
        "\n",
        "    은닉층의 활성화 함수는 ReLU 함수의 변형인 LeakyReLU 함수를 사용하며<br/>\n",
        "활성화 함수 이전에 배치 정규화(Batch Normalization)을 적용합니다."
      ],
      "metadata": {
        "id": "pXR_ri42TYYk"
      }
    },
    {
      "cell_type": "code",
      "source": [
        "def make_generator_model():\n",
        "    \"\"\"\n",
        "    모델을 구축하는 함수입니다.\n",
        "    \"\"\"\n",
        "    model = tf.keras.Sequential()\n",
        "    model.add(layers.Dense(7*7*256, use_bias=False, input_shape=(100,)))\n",
        "    model.add(layers.BatchNormalization())\n",
        "    model.add(layers.LeakyReLU())\n",
        "\n",
        "    model.add(layers.Reshape((7, 7, 256)))\n",
        "    assert model.output_shape == (None, 7, 7, 256) # 주목: 배치사이즈로 None이 주어집니다.\n",
        "\n",
        "    model.add(layers.Conv2DTranspose(128, (5, 5), strides=(1, 1), padding='same', use_bias=False))\n",
        "    assert model.output_shape == (None, 7, 7, 128)\n",
        "    model.add(layers.BatchNormalization())\n",
        "    model.add(layers.LeakyReLU())\n",
        "\n",
        "    model.add(layers.Conv2DTranspose(64, (5, 5), strides=(2, 2), padding='same', use_bias=False))\n",
        "    assert model.output_shape == (None, 14, 14, 64)\n",
        "    model.add(layers.BatchNormalization())\n",
        "    model.add(layers.LeakyReLU())\n",
        "\n",
        "    model.add(layers.Conv2DTranspose(1, (5, 5), strides=(2, 2), padding='same', use_bias=False, activation='tanh'))\n",
        "    assert model.output_shape == (None, 28, 28, 1)\n",
        "\n",
        "    return model"
      ],
      "metadata": {
        "id": "O3LJVpnsTX9f"
      },
      "execution_count": 30,
      "outputs": []
    },
    {
      "cell_type": "markdown",
      "source": [
        "아직 훈련을 진행하지 않은 생성자를 이용해 이미지를 생성해봅시다."
      ],
      "metadata": {
        "id": "SjbrxriQSJkS"
      }
    },
    {
      "cell_type": "code",
      "source": [
        "generator = make_generator_model()\n",
        "\n",
        "noise = tf.random.normal([1, 100])\n",
        "generated_image = generator(noise, training=False)\n",
        "\n",
        "plt.imshow(generated_image[0, :, :, 0], cmap='gray')"
      ],
      "metadata": {
        "colab": {
          "base_uri": "https://localhost:8080/",
          "height": 282
        },
        "id": "zkmVB30tV-WD",
        "outputId": "b905aeda-456d-4585-df76-26145ca11372"
      },
      "execution_count": 31,
      "outputs": [
        {
          "output_type": "execute_result",
          "data": {
            "text/plain": [
              "<matplotlib.image.AxesImage at 0x7fbedb7bb110>"
            ]
          },
          "metadata": {},
          "execution_count": 31
        },
        {
          "output_type": "display_data",
          "data": {
            "image/png": "[encoded data removed]",
            "text/plain": [
              "<Figure size 432x288 with 1 Axes>"
            ]
          },
          "metadata": {
            "needs_background": "light"
          }
        }
      ]
    },
    {
      "cell_type": "markdown",
      "source": [
        "4. **모델 구축하기 - 판별자(Discriminator)**\n",
        "\n",
        "    다음으로 **판별자(Discriminator)**를 구축해보겠습니다.<br/>\n",
        "합성곱 신경망(Convolutional Neural Network, CNN) 기반의 이미지 분류기이며<br/>\n",
        "은닉층의 활성화 함수는 ReLU 함수의 변형인 LeakyReLU 함수를 사용하고 드롭아웃(Dropout)을 적용합니다."
      ],
      "metadata": {
        "id": "IMN36bcnSWJu"
      }
    },
    {
      "cell_type": "code",
      "source": [
        "def make_discriminator_model():\n",
        "    model = tf.keras.Sequential()\n",
        "    model.add(layers.Conv2D(64, (5, 5), strides=(2, 2), padding='same', input_shape=[28, 28, 1]))\n",
        "    model.add(layers.LeakyReLU())\n",
        "    model.add(layers.Dropout(0.3))\n",
        "\n",
        "    model.add(layers.Conv2D(128, (5, 5), strides=(2, 2), padding='same'))\n",
        "    model.add(layers.LeakyReLU())\n",
        "    model.add(layers.Dropout(0.3))\n",
        "\n",
        "    model.add(layers.Flatten())\n",
        "    model.add(layers.Dense(1))\n",
        "\n",
        "    return model"
      ],
      "metadata": {
        "id": "UVa63kc-SRcW"
      },
      "execution_count": 32,
      "outputs": []
    },
    {
      "cell_type": "markdown",
      "source": [
        "아직 훈련을 진행하지 않은 생성자를 이용해 이미지가 진짜인지 가짜인지 판별합니다.<br/>\n",
        "실제(Real) 이미지에는 양수(Positive)를, 가짜(Fake) 이미지에는 음수(Negative)를 출력하도록 훈련됩니다."
      ],
      "metadata": {
        "id": "fqn55C9YTvS9"
      }
    },
    {
      "cell_type": "code",
      "source": [
        "discriminator = make_discriminator_model()\n",
        "decision = discriminator(generated_image)\n",
        "print(decision)"
      ],
      "metadata": {
        "colab": {
          "base_uri": "https://localhost:8080/"
        },
        "id": "riuO2ta-WjLl",
        "outputId": "ef9cc99b-32ba-4167-e5a9-f7bf000444a7"
      },
      "execution_count": 33,
      "outputs": [
        {
          "output_type": "stream",
          "name": "stdout",
          "text": [
            "tf.Tensor([[-0.00218142]], shape=(1, 1), dtype=float32)\n"
          ]
        }
      ]
    },
    {
      "cell_type": "markdown",
      "source": [
        "5. **손실 함수(Loss function)와 옵티마이저(Optimizer) 정의하기**\n",
        "\n",
        "    생성자와 판별자의 손실 함수를 정의합니다.\n",
        "\n",
        "    판별자의 손실함수는 **`real_loss`**와 **`fake_loss`**를 더한 값입니다.<br/>\n",
        "    **`real_loss`**의 경우 전체가 1인 행렬과 **`real_output`**을 비교하여 구하며<br/>\n",
        "    **`fake_loss`**의 경우 전체가 0인 행렬과 **`fake_output`**을 비교하여 구합니다.\n",
        "\n",
        "    생성자의 손실 함수는 전체가 1인 행렬과 **`fake_output`**을 비교하여 구합니다."
      ],
      "metadata": {
        "id": "vLmrjtRJZWu2"
      }
    },
    {
      "cell_type": "code",
      "source": [
        "cross_entropy = tf.keras.losses.BinaryCrossentropy(from_logits=True)"
      ],
      "metadata": {
        "id": "Oclak1EfW4Bx"
      },
      "execution_count": 34,
      "outputs": []
    },
    {
      "cell_type": "code",
      "source": [
        "def discriminator_loss(real_output, fake_output):\n",
        "    \"\"\"\n",
        "    \n",
        "    \"\"\"\n",
        "    real_loss = cross_entropy(tf.ones_like(real_output), real_output)\n",
        "    fake_loss = cross_entropy(tf.zeros_like(fake_output), fake_output)\n",
        "    total_loss = real_loss + fake_loss\n",
        "    return total_loss"
      ],
      "metadata": {
        "id": "1_m0FBUgW5nW"
      },
      "execution_count": 35,
      "outputs": []
    },
    {
      "cell_type": "code",
      "source": [
        "def generator_loss(fake_output):\n",
        "    return cross_entropy(tf.ones_like(fake_output), fake_output)"
      ],
      "metadata": {
        "id": "B2n_A1fDW7NI"
      },
      "execution_count": 36,
      "outputs": []
    },
    {
      "cell_type": "markdown",
      "source": [
        "옵티마이저(Optimizer)는 모두 Adam 을 사용하였습니다."
      ],
      "metadata": {
        "id": "OH0FWaMIcsDD"
      }
    },
    {
      "cell_type": "code",
      "source": [
        "generator_optimizer = tf.keras.optimizers.Adam(1e-4)\n",
        "discriminator_optimizer = tf.keras.optimizers.Adam(1e-4)"
      ],
      "metadata": {
        "id": "8dYFz6eKX-B4"
      },
      "execution_count": 37,
      "outputs": []
    },
    {
      "cell_type": "markdown",
      "source": [
        "6. **모델이 저장되는 Checkpoint 를 설정합니다.**\n"
      ],
      "metadata": {
        "id": "gxP0Dvkccy4Q"
      }
    },
    {
      "cell_type": "code",
      "source": [
        "checkpoint_dir = './training_checkpoints'\n",
        "checkpoint_prefix = os.path.join(checkpoint_dir, \"ckpt\")\n",
        "checkpoint = tf.train.Checkpoint(generator_optimizer=generator_optimizer,\n",
        "                                 discriminator_optimizer=discriminator_optimizer,\n",
        "                                 generator=generator,\n",
        "                                 discriminator=discriminator)"
      ],
      "metadata": {
        "id": "ZPs7gK4pX_v0"
      },
      "execution_count": 38,
      "outputs": []
    },
    {
      "cell_type": "markdown",
      "source": [
        "7. **훈련 루프를 지정합니다.**\n",
        "\n",
        "    1. 생성자가 입력으로 Random Noise 를 입력받습니다.\n",
        "    2. 입력받은 Random Noise 를 사용하여 이미지를 생성합니다.\n",
        "    3. 판별자를 사용하여 Train 데이터셋의 진짜 이미지와 생성자가 만들어낸 가짜 이미지를 분류합니다.\n",
        "    4. 각 모델의 손실을 계산하고, 경사 하강법과 역전파를 통해 가중치를 업데이트합니다."
      ],
      "metadata": {
        "id": "UV_4_MlNlePi"
      }
    },
    {
      "cell_type": "code",
      "source": [
        "EPOCHS = 50\n",
        "noise_dim = 100\n",
        "num_examples_to_generate = 16\n",
        "\n",
        "seed = tf.random.normal([num_examples_to_generate, noise_dim])"
      ],
      "metadata": {
        "id": "VQbsbOU7YBUl"
      },
      "execution_count": 39,
      "outputs": []
    },
    {
      "cell_type": "markdown",
      "source": [
        "Iteration 마다 어떻게 각 모델이 갱신되는 지에 대한 함수를 정의합니다."
      ],
      "metadata": {
        "id": "uxIDMICmmSbi"
      }
    },
    {
      "cell_type": "code",
      "source": [
        "@tf.function\n",
        "def train_step(images):\n",
        "    \"\"\"\n",
        "    위에서 정의한 손실함수를 바탕으로\n",
        "    Iteration(=step) 마다 가중치를 갱신합니다.\n",
        "\n",
        "    Args:\n",
        "        images: 훈련 데이터셋에 있는 실제 이미지입니다.\n",
        "    \"\"\"\n",
        "    noise = tf.random.normal([BATCH_SIZE, noise_dim])\n",
        "\n",
        "    with tf.GradientTape() as gen_tape, tf.GradientTape() as disc_tape:\n",
        "        generated_images = generator(noise, training=True)\n",
        "\n",
        "        real_output = discriminator(images, training=True)\n",
        "        fake_output = discriminator(generated_images, training=True)\n",
        "\n",
        "        gen_loss = generator_loss(fake_output)\n",
        "        disc_loss = discriminator_loss(real_output, fake_output)\n",
        "\n",
        "    gradients_of_generator = gen_tape.gradient(gen_loss, generator.trainable_variables)\n",
        "    gradients_of_discriminator = disc_tape.gradient(disc_loss, discriminator.trainable_variables)\n",
        "\n",
        "    generator_optimizer.apply_gradients(zip(gradients_of_generator, generator.trainable_variables))\n",
        "    discriminator_optimizer.apply_gradients(zip(gradients_of_discriminator, discriminator.trainable_variables))"
      ],
      "metadata": {
        "id": "agpVCHOmYCre"
      },
      "execution_count": 40,
      "outputs": []
    },
    {
      "cell_type": "markdown",
      "source": [
        "중간 결과를 확인하기 위해 생성된 이미지를 출력하고 저장하는 함수를 정의합니다."
      ],
      "metadata": {
        "id": "om76buowpdTv"
      }
    },
    {
      "cell_type": "code",
      "source": [
        "def generate_and_save_images(model, epoch, test_input):\n",
        "    \"\"\"\n",
        "    모델이 이미지를 생성한 후 저장하는 함수입니다.\n",
        "    \n",
        "    Args:\n",
        "        model: 이미지를 생성할 모델입니다.\n",
        "        epoch: 진행 중인 Epoch 숫자입니다.\n",
        "        test_input: model에 입력되는 데이터입니다.\n",
        "    \"\"\"\n",
        "\n",
        "    # training=False 이면 모든 층이 추론(inference)모드로 진행됩니다.\n",
        "    predictions = model(test_input, training=False)\n",
        "\n",
        "    fig = plt.figure(figsize=(4,4))\n",
        "\n",
        "    for i in range(predictions.shape[0]):\n",
        "        plt.subplot(4, 4, i+1)\n",
        "        plt.imshow(predictions[i, :, :, 0] * 127.5 + 127.5, cmap='gray')\n",
        "        plt.axis('off')\n",
        "\n",
        "    plt.savefig('image_at_epoch_{:04d}.png'.format(epoch))\n",
        "    plt.show()"
      ],
      "metadata": {
        "id": "EfqzjHdyYGos"
      },
      "execution_count": 41,
      "outputs": []
    },
    {
      "cell_type": "code",
      "source": [
        "def train(dataset, epochs):\n",
        "    \"\"\"\n",
        "    학습 중 실행할 동작을 함수로 정의합니다.\n",
        "    \n",
        "    Args:\n",
        "        dataset: (훈련) 데이터셋입니다.\n",
        "        epochs: 최종 학습 Epoch 입니다.\n",
        "    \"\"\"\n",
        "    for epoch in range(epochs):\n",
        "        start = time.time()\n",
        "\n",
        "        for image_batch in dataset:\n",
        "            train_step(image_batch)\n",
        "\n",
        "        # 이미지를 생성한 뒤 저장합니다.(추후에 만들 GIF를 위함입니다.)\n",
        "        display.clear_output(wait=True)\n",
        "        generate_and_save_images(generator, epoch + 1, seed)\n",
        "\n",
        "        # 15 에포크가 지날 때마다 모델을 Checkpoint에 저장합니다.\n",
        "        if (epoch + 1) % 15 == 0:\n",
        "            checkpoint.save(file_prefix = checkpoint_prefix)\n",
        "        \n",
        "        # Epoch 마다 소요 시간을 출력합니다.\n",
        "        print(f'Time for epoch {epoch + 1} is {time.time()-start} sec')\n",
        "\n",
        "    # 마지막 에포크가 끝난 후 이미지를 생성합니다.\n",
        "    display.clear_output(wait=True)\n",
        "    generate_and_save_images(generator, epochs, seed)"
      ],
      "metadata": {
        "id": "R38UEjymYE2S"
      },
      "execution_count": 42,
      "outputs": []
    },
    {
      "cell_type": "markdown",
      "source": [
        "7. **함수를 실행시켜 실제 훈련을 진행합니다.**\n",
        "\n",
        "    초반에는 Random Noise 처럼 보이는 이미지가 생성되는 것을 볼 수 있습니다.<br/>\n",
        "    하지만 학습이 진행될수록 점점 손글씨와 유사한 이미지가 생성됩니다."
      ],
      "metadata": {
        "id": "up4Kzai6qTZF"
      }
    },
    {
      "cell_type": "code",
      "source": [
        "%%time\n",
        "train(train_dataset, EPOCHS)"
      ],
      "metadata": {
        "colab": {
          "base_uri": "https://localhost:8080/",
          "height": 283
        },
        "id": "TELl1EP2YJ3R",
        "outputId": "12b0f172-6b6e-4b2b-ba39-b4ea9233b77e"
      },
      "execution_count": 43,
      "outputs": [
        {
          "output_type": "display_data",
          "data": {
            "image/png": "[encoded data removed]",
            "text/plain": [
              "<Figure size 288x288 with 16 Axes>"
            ]
          },
          "metadata": {
            "needs_background": "light"
          }
        },
        {
          "output_type": "stream",
          "name": "stdout",
          "text": [
            "CPU times: user 3min 20s, sys: 11.3 s, total: 3min 31s\n",
            "Wall time: 5min 50s\n"
          ]
        }
      ]
    },
    {
      "cell_type": "markdown",
      "source": [
        "마지막 Checkpoint 를 복구합니다."
      ],
      "metadata": {
        "id": "OqLbLMcZqeT7"
      }
    },
    {
      "cell_type": "code",
      "source": [
        "checkpoint.restore(tf.train.latest_checkpoint(checkpoint_dir))"
      ],
      "metadata": {
        "colab": {
          "base_uri": "https://localhost:8080/"
        },
        "id": "-F6s60SbYNS7",
        "outputId": "dfa13c96-c95f-433c-d0d1-50bfe875d826"
      },
      "execution_count": 44,
      "outputs": [
        {
          "output_type": "execute_result",
          "data": {
            "text/plain": [
              "<tensorflow.python.training.tracking.util.CheckpointLoadStatus at 0x7fbf702f1dd0>"
            ]
          },
          "metadata": {},
          "execution_count": 44
        }
      ]
    },
    {
      "cell_type": "markdown",
      "source": [
        "8. **GIF를 생성합니다.**"
      ],
      "metadata": {
        "id": "IJosl8oLrBqn"
      }
    },
    {
      "cell_type": "code",
      "source": [
        "def display_image(epoch_no):\n",
        "    \"\"\"\n",
        "    특정 Epoch에 생성된 이미지를 불러오는 함수입니다.\n",
        "\n",
        "    Args:\n",
        "        epoch_no: 특정 Epoch에 해당하는 숫자입니다.\n",
        "    \"\"\"\n",
        "    return PIL.Image.open('image_at_epoch_{:04d}.png'.format(epoch_no))"
      ],
      "metadata": {
        "id": "ZXEkifMVYO62"
      },
      "execution_count": 45,
      "outputs": []
    },
    {
      "cell_type": "code",
      "source": [
        "display_image(EPOCHS)"
      ],
      "metadata": {
        "colab": {
          "base_uri": "https://localhost:8080/",
          "height": 305
        },
        "id": "ft-C6pD1YQKQ",
        "outputId": "a1f2deee-c954-469c-ee24-dfd3ad599128"
      },
      "execution_count": 46,
      "outputs": [
        {
          "output_type": "execute_result",
          "data": {
            "image/png": "[encoded data removed]",
            "text/plain": [
              "<PIL.PngImagePlugin.PngImageFile image mode=RGBA size=288x288 at 0x7FBEDBF65D10>"
            ]
          },
          "metadata": {},
          "execution_count": 46
        }
      ]
    },
    {
      "cell_type": "markdown",
      "source": [
        "아래 코드를 실행하면 훈련 중에 저장된 이미지를 이어붙여 GIF 애니메이션을 만들 수 있습니다."
      ],
      "metadata": {
        "id": "GXgrpwIRrZdQ"
      }
    },
    {
      "cell_type": "code",
      "source": [
        "anim_file = 'dcgan.gif'\n",
        "\n",
        "with imageio.get_writer(anim_file, mode='I') as writer:\n",
        "    filenames = glob.glob('image*.png')\n",
        "    filenames = sorted(filenames)\n",
        "    last = -1\n",
        "    \n",
        "    for i,filename in enumerate(filenames):\n",
        "        frame = 2*(i**0.5)\n",
        "        if round(frame) > round(last):\n",
        "            last = frame\n",
        "        else:\n",
        "            continue\n",
        "    \n",
        "        image = imageio.imread(filename)\n",
        "        writer.append_data(image)\n",
        "    \n",
        "    image = imageio.imread(filename)\n",
        "    writer.append_data(image)"
      ],
      "metadata": {
        "id": "h1wnTVybYUv6"
      },
      "execution_count": 47,
      "outputs": []
    },
    {
      "cell_type": "code",
      "source": [
        "import IPython\n",
        "if IPython.version_info > (6,2,0,''):\n",
        "  display.Image(filename=anim_file)"
      ],
      "metadata": {
        "id": "QXQb0mlnr_oQ"
      },
      "execution_count": 48,
      "outputs": []
    },
    {
      "cell_type": "markdown",
      "source": [
        "코랩에서 작업하고 있다면, 아래의 코드를 실행시켜 애니메이션을 다운로드 받을 수도 있습니다."
      ],
      "metadata": {
        "id": "bPc9dj3drlEA"
      }
    },
    {
      "cell_type": "code",
      "source": [
        "try:\n",
        "    from google.colab import files\n",
        "except ImportError:\n",
        "    pass\n",
        "else:\n",
        "    files.download(anim_file)"
      ],
      "metadata": {
        "colab": {
          "base_uri": "https://localhost:8080/",
          "height": 17
        },
        "id": "CbSyGDNSYWfu",
        "outputId": "c15a49cf-90a6-4916-faf8-c1b7f221335c"
      },
      "execution_count": 49,
      "outputs": [
        {
          "output_type": "display_data",
          "data": {
            "application/javascript": [
              "\n",
              "    async function download(id, filename, size) {\n",
              "      if (!google.colab.kernel.accessAllowed) {\n",
              "        return;\n",
              "      }\n",
              "      const div = document.createElement('div');\n",
              "      const label = document.createElement('label');\n",
              "      label.textContent = `Downloading \"${filename}\": `;\n",
              "      div.appendChild(label);\n",
              "      const progress = document.createElement('progress');\n",
              "      progress.max = size;\n",
              "      div.appendChild(progress);\n",
              "      document.body.appendChild(div);\n",
              "\n",
              "      const buffers = [];\n",
              "      let downloaded = 0;\n",
              "\n",
              "      const channel = await google.colab.kernel.comms.open(id);\n",
              "      // Send a message to notify the kernel that we're ready.\n",
              "      channel.send({})\n",
              "\n",
              "      for await (const message of channel.messages) {\n",
              "        // Send a message to notify the kernel that we're ready.\n",
              "        channel.send({})\n",
              "        if (message.buffers) {\n",
              "          for (const buffer of message.buffers) {\n",
              "            buffers.push(buffer);\n",
              "            downloaded += buffer.byteLength;\n",
              "            progress.value = downloaded;\n",
              "          }\n",
              "        }\n",
              "      }\n",
              "      const blob = new Blob(buffers, {type: 'application/binary'});\n",
              "      const a = document.createElement('a');\n",
              "      a.href = window.URL.createObjectURL(blob);\n",
              "      a.download = filename;\n",
              "      div.appendChild(a);\n",
              "      a.click();\n",
              "      div.remove();\n",
              "    }\n",
              "  "
            ],
            "text/plain": [
              "<IPython.core.display.Javascript object>"
            ]
          },
          "metadata": {}
        },
        {
          "output_type": "display_data",
          "data": {
            "application/javascript": [
              "download(\"download_987dd5b0-bd57-4956-98e1-3eb98e0acc5c\", \"dcgan.gif\", 434412)"
            ],
            "text/plain": [
              "<IPython.core.display.Javascript object>"
            ]
          },
          "metadata": {}
        }
      ]
    },
    {
      "cell_type": "markdown",
      "source": [
        "## CycleGAN"
      ],
      "metadata": {
        "id": "ETuslIAm79xE"
      }
    },
    {
      "cell_type": "markdown",
      "source": [
        "**<font color=\"ff6f61\">CycleGAN</font>**은 위에서 사용했던 DCGAN의 구조를 변경하여 만든 새로운 구조입니다.<br/>\n",
        "지금까지 알아본 GAN은 학습했던 실제 이미지와 유사한 이미지를 생성자가 만들어 낼 수 있도록 학습이 되었는데요.<br/>\n",
        "CycleGAN을 사용하면 특정 이미지 도메인의 특성을 다른 이미지에 적용하는 작업도 할 수 있습니다.\n",
        "\n",
        "아래 그림처럼 과일의 색을 바꾸거나, 사진 속 계절을 변경하는 것도 가능하며<br/>\n",
        "이 외에도 특정 화가의 화풍을 다른 그림에 적용하는 등의 작업도 CycleGAN을 사용하여 할 수 있습니다."
      ],
      "metadata": {
        "id": "06KkFOIasOI2"
      }
    },
    {
      "cell_type": "markdown",
      "source": [
        "<img src=\"https://i.imgur.com/eb6FDYB.png\" width=\"800\"/>\n",
        "<br/>\n",
        "<img src=\"https://i.imgur.com/eCl75JG.png\" width=\"800\"/>\n"
      ],
      "metadata": {
        "id": "aFcxd0efvdar"
      }
    },
    {
      "cell_type": "markdown",
      "source": [
        "### CycleGAN 의 장점"
      ],
      "metadata": {
        "id": "BhCPEML1zpo3"
      }
    },
    {
      "cell_type": "markdown",
      "source": [
        "기존에 위 작업과 비슷한 작업을 수행하는 **Pix2Pix** 라는 모델에서는<br/>\n",
        "Train 데이터셋을 구성할 때 레이블에 해당하는 데이터를 무조건 짝지어 주어야 했습니다.\n",
        "\n",
        "예를 들어, 흑백 사진을 컬러로 변경하는 모델을 학습하기 위해서 데이터셋을 준비해야한다면<br/>\n",
        "흑백 사진 10000장과 각각에 매칭되는 컬러 사진을 10000장을 준비해야 했는데요.<br/>\n",
        "하지만 이렇게 정확히 매칭되는 사진을 대량으로 구하기란 쉬운 일은 아니었습니다.\n",
        "\n",
        "하지만 **CycleGAN은 이와 다르게 서로 변환하고 싶은 두 스타일의 이미지를 따로 구하더라도 좋은 성능**을 보인다는 장점이 있습니다.<br/>\n",
        "덕분에 학습을 위한 데이터셋 마련이 훨씬 쉬워지고 그에 따라 모델의 성능이나 유용성 역시 좋아지게 되었습니다.\n"
      ],
      "metadata": {
        "id": "4hkcZFsuztmI"
      }
    },
    {
      "cell_type": "markdown",
      "source": [
        "### CycleGAN 의 원리"
      ],
      "metadata": {
        "id": "BECmEAi61Lhg"
      }
    },
    {
      "cell_type": "markdown",
      "source": [
        "그렇다면 CycleGAN은 어떻게 이렇게 특정 이미지의 스타일을 다른 이미지에 적용할 수 있는 것일까요?\n",
        "\n",
        "아래 그림은 **갈색 말(`A`)**과 **얼룩말(`B`)**의 스타일을 서로 변환하는 CycleGAN이 학습되는 방식입니다.<br/>\n",
        "동작 방식에 대한 설명을 듣기 전에 그림만 보고 CycleGAN이 어떻게 동작할 지에 대한 상상의 나래를 펼쳐보도록 합시다."
      ],
      "metadata": {
        "id": "pHDi47YKwTOI"
      }
    },
    {
      "cell_type": "markdown",
      "source": [
        "<img src=\"https://i.imgur.com/erjAXAv.jpg\">"
      ],
      "metadata": {
        "id": "4J8FMkaI9NGM"
      }
    },
    {
      "cell_type": "markdown",
      "source": [
        "1. 일단은 생성자를 2개 준비합니다. 각각의 생성자는 A→B, B→A 로 이미지를 변경합니다.\n",
        "2. 판별자 역시 2개를 준비합니다. 각각의 판별자는 A, B 에 대해 Real/Fake 를 판단하게 됩니다.\n",
        "\n",
        "- **사진 윗부분**\n",
        "    1. A 이미지를 입력하여 A→B 생성자를 통해 B 이미지를 생성한 후 B 판별자를 통해 판별합니다.\n",
        "    2. 생성된 B 이미지를 B→A 생성자를 통해 다시 A 인풋과 같은 형태로 생성할 수 있도록 합니다.\n",
        "\n",
        "- **사진 아랫부분**\n",
        "    1. B 이미지를 입력하여 B→A 생성자를 통해 A 이미지를 생성한 후 A 판별자를 통해 판별합니다.\n",
        "    2. 생성된 B 이미지를 A→B 생성자를 통해 다시 A 인풋과 같은 형태로 생성할 수 있도록 합니다."
      ],
      "metadata": {
        "id": "QfTfFECWygVp"
      }
    },
    {
      "cell_type": "markdown",
      "source": [
        "- **위와 같이 다시 돌아가는 과정(Cycle)을 거치는 이유는 무엇일까요?**\n",
        "\n",
        "CycleGAN은 비슷한 이미지에 대해 1:1 매칭을 시켜 이미지를 학습하는 것이 아니기 때문에<br/>\n",
        "A→B 혹은 B→A, 즉 이미지를 변환하면서 Input 정보가 유실되어 원본 이미지의 특성을 잃어버리게 될 수 있습니다.<br/>\n",
        "이 때문에 **원본 데이터로 돌아갈 수 있을 정도로만 변환을 진행**하기 위해서<br/>\n",
        "A→B→A, B→A→B 로 돌아가는 Cycle 구조를 가지게 되었고 이 때문에 CycleGAN 이라는 명칭이 붙었습니다.\n",
        "\n",
        "> ❗️ ***CycleGAN 예제 코드는 Reference 자료를 참조해주세요!***"
      ],
      "metadata": {
        "id": "dYHlv-zA3JGN"
      }
    }
  ]
}