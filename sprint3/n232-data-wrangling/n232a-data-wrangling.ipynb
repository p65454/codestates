{
  "cells": [
    {
      "cell_type": "markdown",
      "source": [
        "<img align=\"right\" src=\"https://ds-cs-images.s3.ap-northeast-2.amazonaws.com/Codestates_Fulllogo_Color.png\" width=100>\n",
        "\n",
        "## *AIB / SECTION 2 / SPRINT 3 / NOTE 2*\n",
        "\n",
        "# 📝 Assignment\n",
        "---\n",
        "# Data Wrangling\n"
      ],
      "metadata": {
        "id": "v-RUMm6Mcvjc"
      }
    },
    {
      "cell_type": "markdown",
      "source": [
        "### 1) 지속적으로 여러분의 포트폴리오 데이터를 랭글링 하세요\n",
        "- 여러분이 선택한 데이터들을 랭글링하여 모델을 만들기 위한 테이블 형태의 데이터로 만들어 보세요.\n",
        "- **(Urclass Quiz) 다음 함수의 result를 완성시키고 리턴값을 제출하세요.**"
      ],
      "metadata": {
        "id": "RTcSIWemcvje"
      }
    },
    {
      "cell_type": "code",
      "execution_count": null,
      "source": [
        "### 이곳에서 Urlcass 퀴즈(assignment)를 진행해 주세요 ###\n",
        "import pandas as pd\n",
        "df = pd.read_csv(\"https://ds-lecture-data.s3.ap-northeast-2.amazonaws.com/assignments/purchase_data.csv\", sep=\",\",index_col=0)\n",
        "\n",
        "## 다음 result 함수 안에 male, female 변수를 계산하세요.(groupby, get_group을 사용하세요.)\n",
        "## sum_male: Age = 20, Gender = \"Male\" 그룹의 Price를 합하세요.\n",
        "## sum_female: Age = 20, Gender = \"Female\" 그룹의 Price를 합하세요.\n",
        "\n",
        "def result(df):\n",
        "\n",
        "    sum_male = df[df[\"Age\"]==20].groupby(\"Gender\").sum()[\"Price\"][1]\n",
        "    sum_female = df[df[\"Age\"]==20].groupby(\"Gender\").sum()[\"Price\"][0]\n",
        "\n",
        "    print(\"sum_male: {}, sum_female: {}\".format(sum_male, sum_female))\n",
        "    return round(sum_male + sum_female)\n",
        "\n",
        "result(df)"
      ],
      "outputs": [],
      "metadata": {
        "id": "cto9pGzzcvjf"
      }
    },
    {
      "cell_type": "code",
      "execution_count": null,
      "source": [
        "### 이곳에서 본인 데이터로 과제를 진행해 주세요 ### "
      ],
      "outputs": [],
      "metadata": {
        "id": "OK5Y37nXcvjg"
      }
    },
    {
      "cell_type": "markdown",
      "source": [
        "### 2) 새로 특징들을 만들어 보세요\n",
        "- **(Urclass Quiz) purchase_data를 랭글링하여 다음 조건을 계산하고 결과가 올바른 항목을 고르세요.**\n",
        "    1. 나이 1-20세 그룹(20세 포함)의 평균 Price는 3.101818이다.\n",
        "    2. 나이 21-50세 그룹의 평균 Price는 3.021559이다.\n",
        "    3. 가장 많이 구입한 아이템의 ID는 178 이다.\n",
        "    4. 두번째로 매출을 많이 낸 아이템 ID는 145이다."
      ],
      "metadata": {
        "id": "ci2HzIT-cvjh"
      }
    },
    {
      "cell_type": "code",
      "execution_count": null,
      "source": [
        "### 이곳에서 Urlcass 퀴즈(assignment)과제를 진행해 주세요 ###\n",
        "# 그룹별 Price 평균\n",
        "df[df[\"Age\"]<=20][\"Price\"].mean()\n",
        "print(\"나이 1-20세 그룹(20세 포함)의 평균 Price는 {:.6f}이다.\".format(df[df[\"Age\"]<=20][\"Price\"].mean()))\n",
        "#21~50세 그룹평균\n",
        "df[(df[\"Age\"] >=21) & (df[\"Age\"] <=50)][\"Price\"].mean()\n",
        "print(\"나이 21-50세 그룹의 평균 Price는 {:.6f}이다.\".format(round(df[(df[\"Age\"] >=21) & (df[\"Age\"] <=50)][\"Price\"].mean(),6)))\n",
        "# 판매수 상위 Item ID\n",
        "print(\"가장 많이 구입한 아이템의 ID는 {} 이다\".format(df['Item ID'].mode()[0]))\n",
        "# 매출 상위 Item IDs\n",
        "a = df.groupby(\"Item ID\").sum().sort_values(\"Price\").tail(2).reset_index().iloc[0][0]\n",
        "print(\"두번째로 매출을 많이 낸 아이템 ID는 {}이다.\".format(int(a)))"
      ],
      "outputs": [],
      "metadata": {
        "id": "S0BCIyrMcvjh"
      }
    },
    {
      "cell_type": "code",
      "execution_count": null,
      "source": [
        "### 이곳에서 본인 데이터로 과제를 진행해 주세요 ### "
      ],
      "outputs": [],
      "metadata": {
        "id": "sklsrUwicvjh"
      }
    },
    {
      "cell_type": "markdown",
      "source": [
        "## 🔥 도전과제(Github - Discussion)"
      ],
      "metadata": {
        "id": "Rtz5S0RBcvji"
      }
    },
    {
      "cell_type": "markdown",
      "source": [
        "### 3) 데이터 랭글링 방법들 중 가장 중요하다고 생각하는 방법이나 어려운 점, 혹은 수업에서 배우지 않은 좋은 방법이나 사례가 있으면 서로 공유해 보세요. \n"
      ],
      "metadata": {
        "id": "KMlgfo0ccvji"
      }
    },
    {
      "cell_type": "code",
      "execution_count": null,
      "source": [
        "### 이곳에서 과제를 진행해 주세요 ### "
      ],
      "outputs": [],
      "metadata": {
        "id": "OqLRvRc3cvjj"
      }
    }
  ],
  "metadata": {
    "jupytext": {
      "cell_metadata_filter": "-all",
      "main_language": "python",
      "notebook_metadata_filter": "-all"
    },
    "kernelspec": {
      "display_name": "Python 3",
      "language": "python",
      "name": "python3"
    },
    "language_info": {
      "codemirror_mode": {
        "name": "ipython",
        "version": 3
      },
      "file_extension": ".py",
      "mimetype": "text/x-python",
      "name": "python",
      "nbconvert_exporter": "python",
      "pygments_lexer": "ipython3",
      "version": "3.7.7"
    },
    "colab": {
      "name": "n232a-data-wrangling.ipynb",
      "provenance": []
    }
  },
  "nbformat": 4,
  "nbformat_minor": 0
}