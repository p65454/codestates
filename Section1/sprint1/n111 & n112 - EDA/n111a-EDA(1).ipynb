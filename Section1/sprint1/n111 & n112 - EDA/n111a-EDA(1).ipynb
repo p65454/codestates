{
  "nbformat": 4,
  "nbformat_minor": 0,
  "metadata": {
    "colab": {
      "name": "n111a-EDA(1).ipynb",
      "provenance": [],
      "collapsed_sections": [
        "i0DT1hcYYDwo",
        "NKn67n1TBxWy",
        "r6HbK4QN03sB",
        "qV1YYagFMUL6",
        "iLHreBU1RTUD",
        "9t0aTQ0hMYsb"
      ]
    },
    "kernelspec": {
      "name": "python3",
      "display_name": "Python 3"
    },
    "language_info": {
      "name": "python"
    }
  },
  "cells": [
    {
      "cell_type": "markdown",
      "source": [
        "<img src='https://i.imgur.com/RDAD11M.png' width = '200' align = 'right'>\n",
        "\n",
        "## *DATA SCIENCE / SECTION 1 / SPRINT 1 / NOTE 1*\n",
        "\n",
        "---\n",
        "\n",
        "# 📝 Assignment\n",
        "\n"
      ],
      "metadata": {
        "id": "i0DT1hcYYDwo"
      }
    },
    {
      "cell_type": "markdown",
      "source": [
        "# 1. 데이터셋 불러오기 및 확인 \n",
        "\n",
        "- 다음 url에서 엑셀 파일을 불러오세요. (pandas excel) \n",
        "  - https://ds-lecture-data.s3.ap-northeast-2.amazonaws.com/stocks/Travel.xlsx\n",
        "  - 파일은 2개의 시트로 구성되어 있으며 각각 이름은 008770, 035250 입니다.\n",
        "\n",
        "- 데이터셋 변수의 이름은 df1, df2로 저장하세요.\n",
        "\n",
        "- row가 아닌 column에 '매출액', '영업이익' 이 가도록 데이터를 transpose 하세요.\n",
        "\n",
        "- 이후 아래 링크를 참조하여 첫번째 row를 column name으로 설정하세요. <br>\n",
        "  https://stackoverflow.com/questions/31328861/python-pandas-replacing-header-with-top-row\n",
        "\n",
        "- 데이터의 dimension을 확인하세요.\n",
        "\n",
        "- 데이터의 결측치가 어디에 있는지 확인 후 0으로 대체하세요.\n",
        "\n",
        "- 읽었던 엑셀 파일의 내용을 2개의 csv로 각각 출력하세요. (python export csv) \n",
        "  - 이름은 각각 df1.csv, df2.csv 입니다."
      ],
      "metadata": {
        "id": "NKn67n1TBxWy"
      }
    },
    {
      "cell_type": "code",
      "source": [
        "# 이 곳에 답안을 작성하시기 바랍니다."
      ],
      "metadata": {
        "id": "fdChgGWZYNMd"
      },
      "execution_count": null,
      "outputs": []
    },
    {
      "cell_type": "markdown",
      "source": [
        "# 2. Feature Engineering\n",
        "- 아래 데이터를 참조하여 18/19년도에 대해서 Price to Dream Ratio(PDR)를 계산하세요.\n",
        "\n",
        " ## $\\rm PDR = {시가총액 \\over 해당~기업이~포함된~전체~시장~규모(TAM)~\\times~시장점유율}$\n",
        "  - 변수 이름 `df3`로 데이터프레임을 생성합니다. 아래와 같은 형태이어야 합니다. \n",
        "  - feature 이름은 `PDR`로, `df3['PDR']`을 통해 `~` 값이 확인되어야 합니다. \n",
        "    - PDR에 100을 곱한 백분율(%)을 구합니다. \n",
        "\n",
        "||구분|종가|발행주식수|시가총액|시장점유율|시장규모|PDR|\n",
        "|:-:|:-:|:-:|:-:|:-:|:-:|:-:|:-:|\n",
        "|0|18년|101500|137292497|13935188445500|62.0|15000000000000|~|\n",
        "|1|19년|93800|137292497|12878036218600|63.5|15000000000000|~|"
      ],
      "metadata": {
        "id": "r6HbK4QN03sB"
      }
    },
    {
      "cell_type": "code",
      "source": [
        "# 이 곳에 답안을 작성하시기 바랍니다."
      ],
      "metadata": {
        "id": "cwCTrQGICnQ5"
      },
      "execution_count": null,
      "outputs": []
    },
    {
      "cell_type": "markdown",
      "source": [
        "# 3. 중복된 데이터 살펴보기 \n",
        "\n",
        "- 와인 데이터셋을 사용합니다. \n",
        "\n",
        "- 공식문서를 참조하여 중복된 데이터를 모두 확인해 봅니다. <br>\n",
        "  https://pandas.pydata.org/docs/reference/api/pandas.DataFrame.duplicated.html "
      ],
      "metadata": {
        "id": "qV1YYagFMUL6"
      }
    },
    {
      "cell_type": "code",
      "source": [
        "# 이 곳에 답안을 작성하시기 바랍니다."
      ],
      "metadata": {
        "id": "-maZeiDRCrTS"
      },
      "execution_count": null,
      "outputs": []
    },
    {
      "cell_type": "markdown",
      "source": [
        "# 🔥 도전과제 "
      ],
      "metadata": {
        "id": "MyRguruspz0r"
      }
    },
    {
      "cell_type": "markdown",
      "source": [
        "## NA Value Handling\n",
        "\n",
        "- 데이터셋을 불러옵니다. \n",
        "\n",
        "- 19년도 4분기의 당기순이익(비지배) 부분을 Na로 대체하세요\n",
        "\n",
        "- 이후 해당 결측치를 mean imputation 방법을 사용하여 처리하세요.\n",
        "\n"
      ],
      "metadata": {
        "id": "L-AwhPnIIxHF"
      }
    },
    {
      "cell_type": "code",
      "source": [
        "url = 'https://ds-lecture-data.s3.ap-northeast-2.amazonaws.com/kt%26g/kt%26g_0.csv'\n",
        "headers = ['분기', '매출액', '영업이익', '영업이익(발표기준)', '세전계속사업이익',\n",
        "           '당기순이익', '당기순이익(지배)', '당기순이익(비지배)', '자산총계', '부채총계',\n",
        "           '자본총계', '자본총계(지배)', '자본총계(비지배)', '자본금', '영업활동현금흐름',\n",
        "           '투자활동현금흐름', '재무활동현금흐름', '영업이익률', '순이익률', 'ROE(%)',\n",
        "           'ROA(%)', '부채비율', '자본유보율', 'EPS(원)', 'PER(배)']"
      ],
      "metadata": {
        "id": "aPF6bu7Btj6m"
      },
      "execution_count": null,
      "outputs": []
    },
    {
      "cell_type": "code",
      "source": [
        "# 이 곳에 답안을 작성하시기 바랍니다."
      ],
      "metadata": {
        "id": "Dnzz6E6NI2fo"
      },
      "execution_count": null,
      "outputs": []
    },
    {
      "cell_type": "markdown",
      "source": [
        "## Feature Engineering\n",
        "\n",
        "Relative Perfomance 라는 새로운 feature를 계산하세요.\n",
        "\n",
        "이는 최근 1년치 매출액의 평균값을 기준으로 \n",
        "\n",
        "- 10% 이상 -> `S`\n",
        "- 5% 이상 -> `A`\n",
        "- -5 ~ 5% -> `B`\n",
        "- -5%이하 -> `C`\n",
        "- 10%이하 -> `D`\n",
        "\n",
        "라는 값을 갖는 feature입니다.\n",
        "\n",
        "20년도 2분기에 해당하는 결과값은 `A`가 나와야합니다.\n",
        "\n",
        "각각에 해당하는 등급이 나오기 위해서 필요한 매출액을 추가로 서술하세요."
      ],
      "metadata": {
        "id": "OdkYeI7iI67N"
      }
    },
    {
      "cell_type": "code",
      "source": [
        "# 이 곳에 답안을 작성하시기 바랍니다."
      ],
      "metadata": {
        "id": "b96DAW1KJAT9"
      },
      "execution_count": null,
      "outputs": []
    }
  ]
}