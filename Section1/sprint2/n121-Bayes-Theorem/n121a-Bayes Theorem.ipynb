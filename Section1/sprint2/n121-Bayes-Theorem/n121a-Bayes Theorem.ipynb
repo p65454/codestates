{
  "cells": [
    {
      "cell_type": "markdown",
      "metadata": {
        "id": "H7OLbevlbd_Z"
      },
      "source": [
        "<img src='https://i.imgur.com/RDAD11M.png' width = '200' align = 'right'>\n",
        "\n",
        "## *DATA SCIENCE / SECTION 1 / SPRINT 2 / NOTE 1*\n",
        "\n",
        "---\n",
        "\n",
        "# 📝 Assignment"
      ]
    },
    {
      "cell_type": "markdown",
      "metadata": {
        "id": "lPwZPpad3UOc"
      },
      "source": [
        "# 1. Multiple Choice Test\n",
        "\n",
        "객관식 문제를 푸는 과정에서, 학생은 답을 이미 알고 있거나 찍어야 합니다. \n",
        "\n",
        "학생이 답을 알 확률은 $p$이고, 답을 찍어서 맞출 확률은 $1\\over{m}$입니다. \n",
        "\n",
        "$m$과 $p$를 입력받아 학생이 문제의 답을 맞췄을 때 답을 알고 있었을 확률을 계산하는 함수를 작성하세요."
      ]
    },
    {
      "cell_type": "code",
      "execution_count": null,
      "metadata": {
        "id": "trk9r0Tc97Mc"
      },
      "outputs": [],
      "source": [
        "def correct(p, m):\n",
        "  # 코드를 작성하세요.  \n",
        "    p_right = 1*p + (1/m)*(1-p)\n",
        "    ans = (1*p)/p_right\n",
        "    return ans"
      ]
    },
    {
      "cell_type": "markdown",
      "metadata": {
        "id": "MttKho9sgLdg"
      },
      "source": [
        "# 2. Blood Test\n",
        "\n",
        "특정 질병을 가지고 있는 경우 **`tpr`** 의 확률로 탐지할 수 있는 실험 방법이 있습니다.\n",
        "\n",
        "그러나 동시에 이 방법은 **`fpr`** 의 확률로 질병이 없지만 질병이 있다고 진단하는 경우도 있는데요.\n",
        "\n",
        "실제로 모든 인구 중 이 질병을 가지고 있을 확률은 **`\bprior`** 입니다.\n",
        "\n",
        "특정 사람이 이 방법을 통해 질병이 있다고 진단받았을 때, 실제로 질병을 가지고 있을 확률을 구하는 함수를 작성하세요."
      ]
    },
    {
      "cell_type": "code",
      "execution_count": null,
      "metadata": {
        "id": "qKYGZ5fkFjQ-"
      },
      "outputs": [],
      "source": [
        "def disease(prior, tpr, fpr):\n",
        "  # 코드를 작성하세요.\n",
        "    pos = tpr*prior + fpr*(1-prior)\n",
        "    ans = (tpr*prior)/pos\n",
        "    return ans"
      ]
    },
    {
      "cell_type": "markdown",
      "metadata": {
        "id": "GP7Jv1XvwtkX"
      },
      "source": [
        "# 🔥 도전 과제:"
      ]
    },
    {
      "cell_type": "markdown",
      "metadata": {
        "id": "M3WuZEGM3UOd"
      },
      "source": [
        "## 다음 문제를 읽고 답을 구하세요 .\n",
        "> Source : Introduction to Probability and Statistics for Engineers and Scientists, 4th Ed.\n",
        "\n",
        "At a certain stage of a criminal investigation, the inspector in charge is **60%** convinced of the guilty of a certain suspect. <br>\n",
        "Suppose now that a new piece of evidence that shows that the criminal has a left-handedness is uncovered. <br>\n",
        "If **20% of population possesses this characteristic**, how certain of the guilt of the suspect should the inspector now be if it turns out that the suspect is among this group? <br>"
      ]
    },
    {
      "cell_type": "code",
      "execution_count": null,
      "metadata": {
        "id": "YznrYKFzgLdh"
      },
      "outputs": [],
      "source": [
        "# 이 곳에 답안을 작성하시기 바랍니다.\n",
        "유죄용의자라고 확신하는 경우 = G\n",
        "왼솝잡이인 경우 = L  이라고하면\n",
        "P(G) = 0.6        (수사관이 유죄용의자라고 확신할 확률)\n",
        "P(L | ~G) = 0.2   (범죄자가 아닌 일반인 중 왼손잡이일 확률)\n",
        "문제에서 요구하는것 = 용의자가 왼손잡이라는 사실이 밝혀졌을 때 수사관이 유죄라고 확신할 확률 \n",
        "= P(G | L)\n",
        "= P(GL) / P(L)\n",
        "= P(G) /( P(G)*1 + P(L|~G)*P(~G) )   ##  분모= 유죄확신하면서 왼손잡이인경우(범인이 왼손잡이라고 특정되었으므로 P(G)*1=P(G)그 자체) + 유죄확신안하면서 왼손잡이인경우 / 분자 = 왼손잡이면서 동시에 유죄확신할확률. (문제에서 0.6이라고함)\n",
        "= 0.6 / 0.6 + 0.2 * 0.4\n",
        "= 0.8823"
      ]
    },
    {
      "cell_type": "markdown",
      "metadata": {
        "id": "fK2Kbs9UgLdi"
      },
      "source": [
        "After that, the new evidence is subject to different possible interpretations, and in fact only shows that it is **90% likely that the criminal possess this characteristic**.  \n",
        "In this case how likely would it be that the suspect is guilty?"
      ]
    },
    {
      "cell_type": "code",
      "execution_count": null,
      "metadata": {
        "id": "7Qq22-wDgLdi"
      },
      "outputs": [],
      "source": [
        "# 이 곳에 답안을 작성하시기 바랍니다.\n",
        "범죄자가 왼손잡이 특성을 가질확률 = 0.9 \n",
        "P(G | L) \n",
        "= P(GL) / P(L)\n",
        "= 0.6 * 0.9 / 0.6 * 0.9 + 0.2 * 0.4   ## 위에서 범죄자가 왼손잡이라고 확정했음 = 1로계산 // 이문제에선 0.9로 적용해서 계산\n",
        "= 0.871"
      ]
    }
  ],
  "metadata": {
    "colab": {
      "collapsed_sections": [],
      "name": "n124a-bayesian-inference.ipynb",
      "provenance": []
    },
    "kernelspec": {
      "display_name": "Python 3",
      "language": "python",
      "name": "python3"
    },
    "language_info": {
      "codemirror_mode": {
        "name": "ipython",
        "version": 3
      },
      "file_extension": ".py",
      "mimetype": "text/x-python",
      "name": "python",
      "nbconvert_exporter": "python",
      "pygments_lexer": "ipython3",
      "version": "3.9.4"
    }
  },
  "nbformat": 4,
  "nbformat_minor": 0
}