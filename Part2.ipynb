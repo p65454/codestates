{
 "cells": [
  {
   "cell_type": "markdown",
   "id": "746a590a",
   "metadata": {},
   "source": [
    "# 확인하세요!\n",
    "\n",
    "### 제출 전에 모든 코드가 순차적으로 잘 작동하는지 확인하세요. \n",
    "- **커널을 다시 시작**한 다음(메뉴바에서 Kernel$\\rightarrow$Restart 선택) **모든 셀을 실행**해 보세요(메뉴바에서 Cell$\\rightarrow$Run All 선택).\n",
    "\n",
    "### 지정 셀의 지정 영역에서만 코드를 작성했는지 확인하세요.\n",
    "- `YOUR CODE HERE`이 적혀 있는 셀에 대한 코드만 채점에 반영됩니다.\n",
    "- `YOUR CODE HERE` ~ `YOUR CODE ENDS HERE` 사이에 본인의 코드를 작성하세요.\n",
    "- 지정 셀 이외에 본인이 코드 실행 결과를 확인하기 위한 용도로 셀을 추가해도 됩니다.\n",
    "    - **제출 시 지정 셀에서는 정답 이외에 결과 확인을 위한 코드 등은 제거하고 제출해 주세요!**\n",
    "    - **기존 셀을 삭제하지 마세요! 채점에 불이익이 있을 수 있습니다.**\n",
    "\n",
    "### 제출 방법\n",
    "- 시간 내에 문제를 풀고, 본인의 github repo에 push 하세요.\n",
    "    - **디렉토리 구조가 변하면 안 됩니다.** `codestates/ds-sc2xx`와 디렉토리 구조가 동일해야 합니다. 답안 파일의 이름을 변경하지 않았는지, 기존에 없던 폴더가 추가되지 않았는지 등을 확인하세요.\n",
    "    - **코드스테이츠 가입 시 연동한 github 계정을 사용해야 합니다.**\n",
    "    - **branch를 변경하여 작업하지 마세요.**\n",
    "        - `master` branch에의 제출 사항에 대해서만 평가합니다.\n",
    "        - 본인의 github repo `master` branch에 제출이 잘 되어 있는지 확인하세요."
   ]
  },
  {
   "cell_type": "markdown",
   "id": "5a5d54e4",
   "metadata": {},
   "source": [
    "---"
   ]
  },
  {
   "cell_type": "markdown",
   "id": "6f4f7cc5",
   "metadata": {
    "deletable": false,
    "editable": false,
    "nbgrader": {
     "cell_type": "markdown",
     "checksum": "ad4f9cb1dfcf8bee5fc82797d7dd1f7b",
     "grade": false,
     "grade_id": "cell-5b7fa4769535997c",
     "locked": true,
     "schema_version": 3,
     "solution": false,
     "task": false
    }
   },
   "source": [
    "# SC21x\n",
    " \n",
    "## 선형모델 (Linear Models)"
   ]
  },
  {
   "cell_type": "code",
   "execution_count": null,
   "id": "cdad95b2",
   "metadata": {
    "deletable": false,
    "editable": false,
    "nbgrader": {
     "cell_type": "code",
     "checksum": "256ca1f00106703dba7ed3db798ffb44",
     "grade": false,
     "grade_id": "cell-ee764f0e965ac62a",
     "locked": true,
     "schema_version": 3,
     "solution": false,
     "task": false
    }
   },
   "outputs": [],
   "source": [
    "import sys\n",
    "import warnings\n",
    "\n",
    "if \"google.colab\" in sys.modules:\n",
    "    ## Colab에서 실행하는 경우 필요한 라이브러리를 미리 설치합니다.\n",
    "    !pip install category_encoders==2.*\n",
    "    !pip install pandas-profiling==2.*\n",
    "    !pip install plotly==4.*\n",
    "\n",
    "warnings.filterwarnings(\"ignore\")"
   ]
  },
  {
   "cell_type": "markdown",
   "id": "6b9c8083",
   "metadata": {
    "deletable": false,
    "editable": false,
    "nbgrader": {
     "cell_type": "markdown",
     "checksum": "876f8cf6cb37867cd94c24d4eed1644e",
     "grade": false,
     "grade_id": "cell-f75742bcbc000238",
     "locked": true,
     "schema_version": 3,
     "solution": false,
     "task": false
    }
   },
   "source": [
    "# Part 2 - 회귀(Regression): Iowa 주 Ames의 집값 예측하기 🏠\n",
    "\n",
    "여러분이 다루게 될 데이터는 Iowa 주에 있는 Ames시의 주택들의 정보를 모은 데이터셋입니다.\n",
    "\n",
    "## 칼럼 설명\n",
    "```\n",
    "1stFlrSF: 1층 면적 (square feet)\n",
    "\n",
    "BedroomAbvGr: 지하실 제외 침실 갯수\n",
    "\n",
    "BldgType: 주거 형태\n",
    "\t\t\n",
    "       1Fam\tSingle-family Detached\t\n",
    "       2FmCon\tTwo-family Conversion; originally built as one-family dwelling\n",
    "       Duplx\tDuplex\n",
    "       TwnhsE\tTownhouse End Unit\n",
    "       TwnhsI\tTownhouse Inside Unit\n",
    "       \n",
    "BsmtHalfBath: 지하실 half-bathroom 개수 (세면대와 변기만 있는 화장실)\n",
    "\n",
    "BsmtFullBath: 지하실 full bathroom 개수 (세면대, 변기, 샤워, 욕조 전부 있는 욕실)\n",
    "\n",
    "CentralAir: 중앙 냉방 장치 유무\n",
    "\n",
    "       N\tNo\n",
    "       Y\tYes\n",
    "\t\t\n",
    "Condition1: 다양한 조건과의 근접성\n",
    "\t\n",
    "       Artery\tAdjacent to arterial street\n",
    "       Feedr\tAdjacent to feeder street\t\n",
    "       Norm\tNormal\t\n",
    "       RRNn\tWithin 200' of North-South Railroad\n",
    "       RRAn\tAdjacent to North-South Railroad\n",
    "       PosN\tNear positive off-site feature--park, greenbelt, etc.\n",
    "       PosA\tAdjacent to postive off-site feature\n",
    "       RRNe\tWithin 200' of East-West Railroad\n",
    "       RRAe\tAdjacent to East-West Railroad\n",
    "\t\n",
    "Condition2: 다양한 조건과의 근접성 (하나 이상 존재할 시)\n",
    "\t\t\n",
    "       Artery\tAdjacent to arterial street\n",
    "       Feedr\tAdjacent to feeder street\t\n",
    "       Norm\tNormal\t\n",
    "       RRNn\tWithin 200' of North-South Railroad\n",
    "       RRAn\tAdjacent to North-South Railroad\n",
    "       PosN\tNear positive off-site feature--park, greenbelt, etc.\n",
    "       PosA\tAdjacent to postive off-site feature\n",
    "       RRNe\tWithin 200' of East-West Railroad\n",
    "       RRAe\tAdjacent to East-West Railroad\n",
    "       \n",
    "Electrical: 전기 시스템\n",
    "\n",
    "       SBrkr\tStandard Circuit Breakers & Romex\n",
    "       FuseA\tFuse Box over 60 AMP and all Romex wiring (Average)\t\n",
    "       FuseF\t60 AMP Fuse Box and mostly Romex wiring (Fair)\n",
    "       FuseP\t60 AMP Fuse Box and mostly knob & tube wiring (poor)\n",
    "       Mix\tMixed\n",
    "       \n",
    "ExterCond: 외관 소재 현황 평가\n",
    "\t\t\n",
    "       Ex\tExcellent\n",
    "       Gd\tGood\n",
    "       TA\tAverage/Typical\n",
    "       Fa\tFair\n",
    "       Po\tPoor\n",
    " \n",
    "ExterQual: 외관 소재 품질 평가\n",
    "\t\t\n",
    "       Ex\tExcellent\n",
    "       Gd\tGood\n",
    "       TA\tAverage/Typical\n",
    "       Fa\tFair\n",
    "       Po\tPoor\n",
    "\t\t\n",
    "Exterior1st: 집 외부 소재\n",
    "\n",
    "       AsbShng\tAsbestos Shingles\n",
    "       AsphShn\tAsphalt Shingles\n",
    "       BrkComm\tBrick Common\n",
    "       BrkFace\tBrick Face\n",
    "       CBlock\tCinder Block\n",
    "       CemntBd\tCement Board\n",
    "       HdBoard\tHard Board\n",
    "       ImStucc\tImitation Stucco\n",
    "       MetalSd\tMetal Siding\n",
    "       Other\tOther\n",
    "       Plywood\tPlywood\n",
    "       PreCast\tPreCast\t\n",
    "       Stone\tStone\n",
    "       Stucco\tStucco\n",
    "       VinylSd\tVinyl Siding\n",
    "       Wd Sdng\tWood Siding\n",
    "       WdShing\tWood Shingles\n",
    "\t\n",
    "Exterior2nd: 집 외부 소재 (하나 이상 존재할 시)\n",
    "\n",
    "       AsbShng\tAsbestos Shingles\n",
    "       AsphShn\tAsphalt Shingles\n",
    "       BrkComm\tBrick Common\n",
    "       BrkFace\tBrick Face\n",
    "       CBlock\tCinder Block\n",
    "       CemntBd\tCement Board\n",
    "       HdBoard\tHard Board\n",
    "       ImStucc\tImitation Stucco\n",
    "       MetalSd\tMetal Siding\n",
    "       Other\tOther\n",
    "       Plywood\tPlywood\n",
    "       PreCast\tPreCast\n",
    "       Stone\tStone\n",
    "       Stucco\tStucco\n",
    "       VinylSd\tVinyl Siding\n",
    "       Wd Sdng\tWood Siding\n",
    "       WdShing\tWood Shingles\n",
    "       \n",
    "Foundation: 주택의 토대 종류\n",
    "\t\t\n",
    "       BrkTil\tBrick & Tile\n",
    "       CBlock\tCinder Block\n",
    "       PConc\tPoured Concrete\t\n",
    "       Slab\tSlab\n",
    "       Stone\tStone\n",
    "       Wood\tWood\n",
    "\t\t\n",
    "FullBath: 지상층의 full-bathroom 갯수\n",
    "\n",
    "Functional: 주택의 기능성 (공제가 보장되지 않는 한 일반적인 것으로 가정)\n",
    "\n",
    "       Typ\tTypical Functionality\n",
    "       Min1\tMinor Deductions 1\n",
    "       Min2\tMinor Deductions 2\n",
    "       Mod\tModerate Deductions\n",
    "       Maj1\tMajor Deductions 1\n",
    "       Maj2\tMajor Deductions 2\n",
    "       Sev\tSeverely Damaged\n",
    "       Sal\tSalvage only\n",
    "\t\t\n",
    "GrLivArea: 지상 주거지역 면적 (sqaure feet)\n",
    "        \n",
    "HalfBath: 지상층 half-bathroom 갯수\n",
    "\n",
    "Heating: 난방 종류\n",
    "\t\t\n",
    "       Floor\tFloor Furnace\n",
    "       GasA\tGas forced warm air furnace\n",
    "       GasW\tGas hot water or steam heat\n",
    "       Grav\tGravity furnace\t\n",
    "       OthW\tHot water or steam heat other than gas\n",
    "       Wall\tWall furnace\n",
    "\t\t\n",
    "HeatingQC: 난방 품질 및 상태\n",
    "\n",
    "       Ex\tExcellent\n",
    "       Gd\tGood\n",
    "       TA\tAverage/Typical\n",
    "       Fa\tFair\n",
    "       Po\tPoor\n",
    "\n",
    "HouseStyle: 주거 형식\n",
    "\t\n",
    "       1Story\tOne story\n",
    "       1.5Fin\tOne and one-half story: 2nd level finished\n",
    "       1.5Unf\tOne and one-half story: 2nd level unfinished\n",
    "       2Story\tTwo story\n",
    "       2.5Fin\tTwo and one-half story: 2nd level finished\n",
    "       2.5Unf\tTwo and one-half story: 2nd level unfinished\n",
    "       SFoyer\tSplit Foyer\n",
    "       SLvl\tSplit Level\n",
    "\n",
    "KitchenAbvGr: 지상층 주방 갯수\n",
    "\n",
    "KitchenQual: 주방 품질\n",
    "\n",
    "       Ex\tExcellent\n",
    "       Gd\tGood\n",
    "       TA\tTypical/Average\n",
    "       Fa\tFair\n",
    "       Po\tPoor\n",
    "\n",
    "LandContour: 소유지의 평탄도\n",
    "\n",
    "       Lvl\tNear Flat/Level\t\n",
    "       Bnk\tBanked - Quick and significant rise from street grade to building\n",
    "       HLS\tHillside - Significant slope from side to side\n",
    "       Low\tDepression\n",
    "\t\t\n",
    "LandSlope: 소유지 경사도\n",
    "\t\t\n",
    "       Gtl\tGentle slope\n",
    "       Mod\tModerate Slope\t\n",
    "       Sev\tSevere Slope\n",
    "\n",
    "LotArea: 용지 크기 (square feet)\n",
    "\n",
    "LotConfig: 용지 구성\n",
    "\n",
    "       Inside\tInside lot\n",
    "       Corner\tCorner lot\n",
    "       CulDSac\tCul-de-sac\n",
    "       FR2\tFrontage on 2 sides of property\n",
    "       FR3\tFrontage on 3 sides of property\n",
    "\n",
    "LotShape: 소유지의 형태\n",
    "       Reg\tRegular\t\n",
    "       IR1\tSlightly irregular\n",
    "       IR2\tModerately Irregular\n",
    "       IR3\tIrregular\n",
    "\n",
    "MSSubClass: 분양되는 주거지의 유형\t\n",
    "\n",
    "        20\t1-STORY 1946 & NEWER ALL STYLES\n",
    "        30\t1-STORY 1945 & OLDER\n",
    "        40\t1-STORY W/FINISHED ATTIC ALL AGES\n",
    "        45\t1-1/2 STORY - UNFINISHED ALL AGES\n",
    "        50\t1-1/2 STORY FINISHED ALL AGES\n",
    "        60\t2-STORY 1946 & NEWER\n",
    "        70\t2-STORY 1945 & OLDER\n",
    "        75\t2-1/2 STORY ALL AGES\n",
    "        80\tSPLIT OR MULTI-LEVEL\n",
    "        85\tSPLIT FOYER\n",
    "        90\tDUPLEX - ALL STYLES AND AGES\n",
    "       120\t1-STORY PUD (Planned Unit Development) - 1946 & NEWER\n",
    "       150\t1-1/2 STORY PUD - ALL AGES\n",
    "       160\t2-STORY PUD - 1946 & NEWER\n",
    "       180\tPUD - MULTILEVEL - INCL SPLIT LEV/FOYER\n",
    "       190\t2 FAMILY CONVERSION - ALL STYLES AND AGES\n",
    "\n",
    "MSZoning: 주택이 속해있는 구역 구분\n",
    "\t\t\n",
    "       A\tAgriculture\n",
    "       C\tCommercial\n",
    "       FV\tFloating Village Residential\n",
    "       I\tIndustrial\n",
    "       RH\tResidential High Density\n",
    "       RL\tResidential Low Density\n",
    "       RP\tResidential Low Density Park \n",
    "       RM\tResidential Medium Density\n",
    "\n",
    "MasVnrType: 석조 베니어 유형\n",
    "\n",
    "       BrkCmn\tBrick Common\n",
    "       BrkFace\tBrick Face\n",
    "       CBlock\tCinder Block\n",
    "       None\tNone\n",
    "       Stone\tStone\n",
    "\n",
    "MoSold: 팔린 달  \n",
    "\n",
    "Neighborhood: Ames시의 경계내 물리적 위치\n",
    "\n",
    "       Blmngtn\tBloomington Heights\n",
    "       Blueste\tBluestem\n",
    "       BrDale\tBriardale\n",
    "       BrkSide\tBrookside\n",
    "       ClearCr\tClear Creek\n",
    "       CollgCr\tCollege Creek\n",
    "       Crawfor\tCrawford\n",
    "       Edwards\tEdwards\n",
    "       Gilbert\tGilbert\n",
    "       IDOTRR\tIowa DOT and Rail Road\n",
    "       MeadowV\tMeadow Village\n",
    "       Mitchel\tMitchell\n",
    "       Names\tNorth Ames\n",
    "       NoRidge\tNorthridge\n",
    "       NPkVill\tNorthpark Villa\n",
    "       NridgHt\tNorthridge Heights\n",
    "       NWAmes\tNorthwest Ames\n",
    "       OldTown\tOld Town\n",
    "       SWISU\tSouth & West of Iowa State University\n",
    "       Sawyer\tSawyer\n",
    "       SawyerW\tSawyer West\n",
    "       Somerst\tSomerset\n",
    "       StoneBr\tStone Brook\n",
    "       Timber\tTimberland\n",
    "       Veenker\tVeenker\n",
    "\t\t\t\n",
    "OverallCond: 주택의 전반적인 상태 평가\n",
    "\n",
    "       10\tVery Excellent\n",
    "       9\tExcellent\n",
    "       8\tVery Good\n",
    "       7\tGood\n",
    "       6\tAbove Average\t\n",
    "       5\tAverage\n",
    "       4\tBelow Average\t\n",
    "       3\tFair\n",
    "       2\tPoor\n",
    "       1\tVery Poor\n",
    "\n",
    "OverallQual: 주택의 전체 자재와 마감재에 대한 평가\n",
    "\n",
    "       10\tVery Excellent\n",
    "       9\tExcellent\n",
    "       8\tVery Good\n",
    "       7\tGood\n",
    "       6\tAbove Average\n",
    "       5\tAverage\n",
    "       4\tBelow Average\n",
    "       3\tFair\n",
    "       2\tPoor\n",
    "       1\tVery Poor\n",
    "\n",
    "PavedDrive: 포장 진입로\n",
    "\n",
    "       Y\tPaved \n",
    "       P\tPartial Pavement\n",
    "       N\tDirt/Gravel\n",
    "\n",
    "RoofMatl: 지붕 소재\n",
    "\n",
    "       ClyTile\tClay or Tile\n",
    "       CompShg\tStandard (Composite) Shingle\n",
    "       Membran\tMembrane\n",
    "       Metal\tMetal\n",
    "       Roll\tRoll\n",
    "       Tar&Grv\tGravel & Tar\n",
    "       WdShake\tWood Shakes\n",
    "       WdShngl\tWood Shingles\n",
    "\n",
    "RoofStyle: 지붕 형태\n",
    "\n",
    "       Flat\tFlat\n",
    "       Gable\tGable\n",
    "       Gambrel\tGabrel (Barn)\n",
    "       Hip\tHip\n",
    "       Mansard\tMansard\n",
    "       Shed\tShed\n",
    "\n",
    "SalePrice: 주택의 판매 가격\n",
    "\n",
    "SaleCondition: 판매 조건\n",
    "\n",
    "       Normal\tNormal Sale\n",
    "       Abnorml\tAbnormal Sale -  trade, foreclosure, short sale\n",
    "       AdjLand\tAdjoining Land Purchase\n",
    "       Alloca\tAllocation - two linked properties with separate deeds, typically condo with a garage unit\t\n",
    "       Family\tSale between family members\n",
    "       Partial\tHome was not completed when last assessed (associated with New Homes)\n",
    "\n",
    "SaleType: 판매 유형\n",
    "\t\t\n",
    "       WD \tWarranty Deed - Conventional\n",
    "       CWD\tWarranty Deed - Cash\n",
    "       VWD\tWarranty Deed - VA Loan\n",
    "       New\tHome just constructed and sold\n",
    "       COD\tCourt Officer Deed/Estate\n",
    "       Con\tContract 15% Down payment regular terms\n",
    "       ConLw\tContract Low Down payment and low interest\n",
    "       ConLI\tContract Low Interest\n",
    "       ConLD\tContract Low Down\n",
    "       Oth\tOther\n",
    "\t\n",
    "Street: 소유지에 대한 도로 접근 유형\n",
    "\n",
    "       Grvl\tGravel\t\n",
    "       Pave\tPaved\n",
    "       \t\n",
    "TotRmsAbvGrd: 지상층 방 갯수 (화장실/욕실 제외)\n",
    "\n",
    "Utilities: 수도세, 전기세, 가스세 포함 여부\n",
    "\t\t\n",
    "       AllPub\tAll public Utilities (E,G,W,& S)\t\n",
    "       NoSewr\tElectricity, Gas, and Water (Septic Tank)\n",
    "       NoSeWa\tElectricity and Gas Only\n",
    "       ELO\tElectricity only\t\n",
    "\t\n",
    "YearBuilt: 건축 연도\n",
    "\n",
    "YearRemod/Add: 리모델링 / 추가 공사 연도 (아무런 리모델링이나 추가 시공이 없는 경우 건축연도와 동일)\n",
    "\t\t\t\t\t\t\n",
    "YrSold: 판매 연도 (YYYY)\t\n",
    "\n",
    "```"
   ]
  },
  {
   "cell_type": "code",
   "execution_count": null,
   "id": "d54640ac",
   "metadata": {
    "deletable": false,
    "editable": false,
    "nbgrader": {
     "cell_type": "code",
     "checksum": "0903f39a07317e1d135b06cd622ea6c5",
     "grade": false,
     "grade_id": "cell-a6344537ef769b2b",
     "locked": true,
     "schema_version": 3,
     "solution": false,
     "task": false
    }
   },
   "outputs": [],
   "source": [
    "# 데이터셋을 불러옵니다\n",
    "import pandas as pd\n",
    "\n",
    "homes = pd.read_csv(\n",
    "    \"https://ds-lecture-data.s3.ap-northeast-2.amazonaws.com/ames_home/ames_home_subset.csv\"\n",
    ")\n",
    "assert homes.shape == (2904, 47)"
   ]
  },
  {
   "cell_type": "code",
   "execution_count": null,
   "id": "bad2078f",
   "metadata": {
    "deletable": false,
    "editable": false,
    "nbgrader": {
     "cell_type": "code",
     "checksum": "b11f9b13c982ebae4cf2856383af7024",
     "grade": false,
     "grade_id": "cell-1092b6b3101e970b",
     "locked": true,
     "schema_version": 3,
     "solution": false,
     "task": false
    }
   },
   "outputs": [],
   "source": [
    "homes.head()"
   ]
  },
  {
   "cell_type": "code",
   "execution_count": null,
   "id": "ee95d88e",
   "metadata": {
    "deletable": false,
    "editable": false,
    "nbgrader": {
     "cell_type": "code",
     "checksum": "fcd72d74a6e9737ad6d49c797e03265e",
     "grade": false,
     "grade_id": "cell-008c1071169c3a7f",
     "locked": true,
     "schema_version": 3,
     "solution": false,
     "task": false
    }
   },
   "outputs": [],
   "source": [
    "homes.shape"
   ]
  },
  {
   "cell_type": "code",
   "execution_count": null,
   "id": "e7ac2cd2",
   "metadata": {
    "deletable": false,
    "editable": false,
    "nbgrader": {
     "cell_type": "code",
     "checksum": "78e693b3ec4766aff4d10fa9ea8cc558",
     "grade": false,
     "grade_id": "cell-e5c5aa0fa93271ba",
     "locked": true,
     "schema_version": 3,
     "solution": false,
     "task": false
    }
   },
   "outputs": [],
   "source": [
    "homes.info()"
   ]
  },
  {
   "cell_type": "markdown",
   "id": "e6867684",
   "metadata": {
    "deletable": false,
    "editable": false,
    "nbgrader": {
     "cell_type": "markdown",
     "checksum": "13df67d665042f8a6eacc596ea9f84b2",
     "grade": false,
     "grade_id": "cell-0c9872d8d93b13ae",
     "locked": true,
     "schema_version": 3,
     "solution": false,
     "task": false
    }
   },
   "source": [
    "## 2.1 Baseline 평가지표를 계산하는 `calculate_baseline_score` 함수를 작성하세요.\n",
    "\n",
    "평균 baseline의 $MAE$ (Mean Absolute Error)와 $R^2$ 점수를 계산하는 `calculate_baseline_score` 함수를 작성하세요(별도로 학습과 평가 데이터를 나누지 않아도 됩니다)."
   ]
  },
  {
   "cell_type": "code",
   "execution_count": null,
   "id": "9fd4bab4",
   "metadata": {
    "deletable": false,
    "nbgrader": {
     "cell_type": "code",
     "checksum": "0c6e90ac1e2fab4cde282bfddc5ef44f",
     "grade": false,
     "grade_id": "2-1",
     "locked": false,
     "schema_version": 3,
     "solution": true,
     "task": false
    }
   },
   "outputs": [],
   "source": [
    "from sklearn.metrics import mean_absolute_error, r2_score\n",
    "import numpy as np\n",
    "\n",
    "\n",
    "def calculate_baseline_score(homes):\n",
    "    mae = float(\"inf\")\n",
    "    r2 = -1\n",
    "\n",
    "    # YOUR CODE HERE\n",
    "    \n",
    "    \n",
    "    # YOUR CODE ENDS HERE\n",
    "\n",
    "    return mae, r2"
   ]
  },
  {
   "cell_type": "code",
   "execution_count": null,
   "id": "e3093d3d",
   "metadata": {
    "deletable": false,
    "editable": false,
    "nbgrader": {
     "cell_type": "code",
     "checksum": "2346871ccdf9a53c7a52139d8a230f9e",
     "grade": false,
     "grade_id": "cell-0a39ed110a60a802",
     "locked": true,
     "schema_version": 3,
     "solution": false,
     "task": false
    }
   },
   "outputs": [],
   "source": [
    "mae, r2 = calculate_baseline_score(homes)"
   ]
  },
  {
   "cell_type": "code",
   "execution_count": null,
   "id": "5c69ce44",
   "metadata": {
    "deletable": false,
    "editable": false,
    "nbgrader": {
     "cell_type": "code",
     "checksum": "4f40131cfd3cc204b1000113cddf8ff9",
     "grade": true,
     "grade_id": "2-1_test",
     "locked": true,
     "points": 1,
     "schema_version": 3,
     "solution": false,
     "task": false
    }
   },
   "outputs": [],
   "source": [
    "print(f\"MAE: {mae:.2f}, R^2: {r2:.2f}\")"
   ]
  },
  {
   "cell_type": "markdown",
   "id": "4b7abb2a",
   "metadata": {
    "deletable": false,
    "editable": false,
    "nbgrader": {
     "cell_type": "markdown",
     "checksum": "1d68158283d845c8d57b0a70d21f6d2d",
     "grade": false,
     "grade_id": "cell-379b9354bac4ee0b",
     "locked": true,
     "schema_version": 3,
     "solution": false,
     "task": false
    }
   },
   "source": [
    "## 2.2 데이터셋을 아래의 기준을 사용해서 train/validation/test 셋으로 나누는 `split_home_data` 함수를 작성하세요.\n",
    "\n",
    "- **Train**: 2006년부터 2008년까지 팔린 주택들 (1,920개)\n",
    "\n",
    "- **Validation**: 2009년에 팔린 주택들. (644개)\n",
    "\n",
    "- **Test**: 2010년에 팔린 주택들. (340개)"
   ]
  },
  {
   "cell_type": "code",
   "execution_count": null,
   "id": "0db6ee42",
   "metadata": {
    "deletable": false,
    "nbgrader": {
     "cell_type": "code",
     "checksum": "ecb84995d642b9d71ea0e8dd4e27d863",
     "grade": false,
     "grade_id": "2-2",
     "locked": false,
     "schema_version": 3,
     "solution": true,
     "task": false
    }
   },
   "outputs": [],
   "source": [
    "def split_home_data(homes):\n",
    "    train = None\n",
    "    validation = None\n",
    "    test = None\n",
    "\n",
    "    # YOUR CODE HERE\n",
    "    \n",
    "    \n",
    "    # YOUR CODE ENDS HERE\n",
    "\n",
    "    return train, validation, test"
   ]
  },
  {
   "cell_type": "code",
   "execution_count": null,
   "id": "e90106c9",
   "metadata": {
    "deletable": false,
    "editable": false,
    "nbgrader": {
     "cell_type": "code",
     "checksum": "6c8f3ed9c16e8c3b0824308fc0e441ab",
     "grade": true,
     "grade_id": "cell-e010572bda30cde3",
     "locked": true,
     "points": 0,
     "schema_version": 3,
     "solution": false,
     "task": false
    }
   },
   "outputs": [],
   "source": [
    "train, validation, test = split_home_data(homes.copy())"
   ]
  },
  {
   "cell_type": "code",
   "execution_count": null,
   "id": "3109c245",
   "metadata": {
    "deletable": false,
    "editable": false,
    "nbgrader": {
     "cell_type": "code",
     "checksum": "66d82d49f5641993e69a8202f0d669d3",
     "grade": true,
     "grade_id": "2-2_test",
     "locked": true,
     "points": 1,
     "schema_version": 3,
     "solution": false,
     "task": false
    }
   },
   "outputs": [],
   "source": [
    "print(train.shape, validation.shape, test.shape)"
   ]
  },
  {
   "cell_type": "markdown",
   "id": "90c22148",
   "metadata": {
    "deletable": false,
    "editable": false,
    "nbgrader": {
     "cell_type": "markdown",
     "checksum": "fa452b0e8de50c1127b2bdebe52b651d",
     "grade": false,
     "grade_id": "cell-061f9cf27e568eae",
     "locked": true,
     "schema_version": 3,
     "solution": false,
     "task": false
    }
   },
   "source": [
    "## 2.3 train / validation / test 셋을 features(X)와 target(y)으로 각각 나누는 `divide_home_data` 함수를 작성하세요.\n",
    "\n",
    "- 특성에는 최소 두 개의 수치형 (numeric) 특성과 범주형 (categorical) 특성을 포함하세요. \n",
    "- 위의 조건을 만족한다면 추가 feature를 선택하는 것에 대한 제한은 없습니다."
   ]
  },
  {
   "cell_type": "code",
   "execution_count": null,
   "id": "a85431a9",
   "metadata": {
    "deletable": false,
    "nbgrader": {
     "cell_type": "code",
     "checksum": "ce7b809ae230605762902993a5924393",
     "grade": false,
     "grade_id": "2-3",
     "locked": false,
     "schema_version": 3,
     "solution": true,
     "task": false
    }
   },
   "outputs": [],
   "source": [
    "def divide_home_data(data):\n",
    "    X = None\n",
    "    y = None\n",
    "\n",
    "    # YOUR CODE HERE\n",
    "    \n",
    "    \n",
    "    # YOUR CODE ENDS HERE\n",
    "\n",
    "    return X, y"
   ]
  },
  {
   "cell_type": "code",
   "execution_count": null,
   "id": "1d649320",
   "metadata": {
    "deletable": false,
    "editable": false,
    "nbgrader": {
     "cell_type": "code",
     "checksum": "1a98e4e875ec2db862eaf2923b276edf",
     "grade": false,
     "grade_id": "cell-f532475a7b4a39d4",
     "locked": true,
     "schema_version": 3,
     "solution": false,
     "task": false
    }
   },
   "outputs": [],
   "source": [
    "X_train, y_train = divide_home_data(train)\n",
    "X_val, y_val = divide_home_data(validation)\n",
    "X_test, y_test = divide_home_data(test)"
   ]
  },
  {
   "cell_type": "code",
   "execution_count": null,
   "id": "6ab7df98",
   "metadata": {
    "deletable": false,
    "editable": false,
    "nbgrader": {
     "cell_type": "code",
     "checksum": "749b7df21b9192c6caed50dc1f75519a",
     "grade": true,
     "grade_id": "2-3_test",
     "locked": true,
     "points": 1,
     "schema_version": 3,
     "solution": false,
     "task": false
    }
   },
   "outputs": [],
   "source": [
    "X_train.head()"
   ]
  },
  {
   "cell_type": "markdown",
   "id": "66cac7dd",
   "metadata": {
    "deletable": false,
    "editable": false,
    "nbgrader": {
     "cell_type": "markdown",
     "checksum": "37c92e62d62fc5be7bbc4760a717f3b8",
     "grade": false,
     "grade_id": "cell-932cf3c5fd60fb66",
     "locked": true,
     "schema_version": 3,
     "solution": false,
     "task": false
    }
   },
   "source": [
    "## 2.4 One-hot encoding을 카테고리형 특성(feature)에 수행하는 `encoding_one_hot` 함수를 작성하세요"
   ]
  },
  {
   "cell_type": "code",
   "execution_count": null,
   "id": "c013ec4d",
   "metadata": {
    "deletable": false,
    "nbgrader": {
     "cell_type": "code",
     "checksum": "08f333c81794b88878c0f6d5c03717c0",
     "grade": false,
     "grade_id": "2-4",
     "locked": false,
     "schema_version": 3,
     "solution": true,
     "task": false
    }
   },
   "outputs": [],
   "source": [
    "from category_encoders import OneHotEncoder\n",
    "\n",
    "\n",
    "def encoding_one_hot(X_train, X_val, X_test):\n",
    "    encoder = None  # OneHotEncoder 인스턴스를 생성하세요\n",
    "    X_train_encoded = None\n",
    "    X_val_encoded = None\n",
    "    X_test_encoded = None\n",
    "\n",
    "    # YOUR CODE HERE\n",
    "    \n",
    "    \n",
    "    # YOUR CODE ENDS HERE\n",
    "\n",
    "    return encoder, X_train_encoded, X_val_encoded, X_test_encoded"
   ]
  },
  {
   "cell_type": "code",
   "execution_count": null,
   "id": "69724eb8",
   "metadata": {
    "deletable": false,
    "editable": false,
    "nbgrader": {
     "cell_type": "code",
     "checksum": "df9b9f8e31a5e08f010131fc741ea1f5",
     "grade": false,
     "grade_id": "cell-a5d99365cd4ae1c9",
     "locked": true,
     "schema_version": 3,
     "solution": false,
     "task": false
    }
   },
   "outputs": [],
   "source": [
    "encoder, X_train_encoded, X_val_encoded, X_test_encoded = encoding_one_hot(\n",
    "    X_train, X_val, X_test\n",
    ")"
   ]
  },
  {
   "cell_type": "code",
   "execution_count": null,
   "id": "6495d0e4",
   "metadata": {
    "deletable": false,
    "editable": false,
    "nbgrader": {
     "cell_type": "code",
     "checksum": "afbbdc4393d3fae14789eec8f99f69fa",
     "grade": true,
     "grade_id": "2-4_test",
     "locked": true,
     "points": 1,
     "schema_version": 3,
     "solution": false,
     "task": false
    }
   },
   "outputs": [],
   "source": [
    "print(X_train_encoded.shape, X_val_encoded.shape, X_test_encoded.shape)"
   ]
  },
  {
   "cell_type": "markdown",
   "id": "6eef3111",
   "metadata": {
    "deletable": false,
    "editable": false,
    "nbgrader": {
     "cell_type": "markdown",
     "checksum": "3bf44010d736971ab06f955795b43e78",
     "grade": false,
     "grade_id": "cell-632ff0c894ca7630",
     "locked": true,
     "schema_version": 3,
     "solution": false,
     "task": false
    }
   },
   "source": [
    "## 2.5 Ridge regression 모델을 학습 (fit)하고 학습된 모델과 validation score(MAE, $R^2$)을 반환하는 `fit_ridge_regression`함수를 작성하세요."
   ]
  },
  {
   "cell_type": "code",
   "execution_count": null,
   "id": "002c431f",
   "metadata": {
    "deletable": false,
    "nbgrader": {
     "cell_type": "code",
     "checksum": "77a05f8a5117bca9d9daf44c9a374d54",
     "grade": false,
     "grade_id": "2-5",
     "locked": false,
     "schema_version": 3,
     "solution": true,
     "task": false
    }
   },
   "outputs": [],
   "source": [
    "import numpy as np\n",
    "from sklearn.linear_model import RidgeCV\n",
    "\n",
    "\n",
    "def fit_ridge_regression(X_train_encoded, X_val_encoded, y_train, y_val):\n",
    "    ridge = RidgeCV(alphas=np.arange(0.01, 2, 0.01), normalize=True, cv=5)\n",
    "    mae = float(\"inf\")\n",
    "    r2 = -1\n",
    "\n",
    "    # YOUR CODE HERE\n",
    "    \n",
    "    \n",
    "    # YOUR CODE ENDS HERE\n",
    "\n",
    "    return ridge, mae, r2"
   ]
  },
  {
   "cell_type": "code",
   "execution_count": null,
   "id": "94537296",
   "metadata": {
    "deletable": false,
    "editable": false,
    "nbgrader": {
     "cell_type": "code",
     "checksum": "195ba78b12b7a0c93b4b51d2316c0237",
     "grade": false,
     "grade_id": "cell-7214465622c969da",
     "locked": true,
     "schema_version": 3,
     "solution": false,
     "task": false
    }
   },
   "outputs": [],
   "source": [
    "ridge, mae, r2 = fit_ridge_regression(X_train_encoded, X_val_encoded, y_train, y_val)"
   ]
  },
  {
   "cell_type": "code",
   "execution_count": null,
   "id": "f84191e2",
   "metadata": {
    "deletable": false,
    "editable": false,
    "nbgrader": {
     "cell_type": "code",
     "checksum": "fc86d5719bd428d14eee685b835c1b0a",
     "grade": true,
     "grade_id": "2-5_test",
     "locked": true,
     "points": 2,
     "schema_version": 3,
     "solution": false,
     "task": false
    }
   },
   "outputs": [],
   "source": [
    "print(f\"alpha: {ridge.alpha_}\")\n",
    "print(f\"cv best score: {ridge.best_score_}\")\n",
    "print(\"Ridge Regression 검증데이터 MAE: \", mae)\n",
    "print(\"Ridge Regression 검증데이터 R^2: \", r2)  "
   ]
  },
  {
   "cell_type": "markdown",
   "id": "0f92a533",
   "metadata": {
    "deletable": false,
    "editable": false,
    "nbgrader": {
     "cell_type": "markdown",
     "checksum": "ae1aaa519465472e03414a4fc32f5482",
     "grade": false,
     "grade_id": "cell-7d7b1bfa69b7f94f",
     "locked": true,
     "schema_version": 3,
     "solution": false,
     "task": false
    }
   },
   "source": [
    "## 2.6 Test 셋을 사용해 모델의 예측 성능(MAE, $R^2$)를 계산하는 `calcuate_score` 함수를 작성하세요.\n",
    "- `calculate_score` 함수가 정상적으로 작동하면 기본점수를 얻습니다\n",
    "- (도전과제) test_r2 > 0.75를 만족하면 성능 점수를 얻습니다. \n",
    "  - 도전과제까지 수행해야 스챌 3점을 얻습니다. \n",
    "  - 2.3으로 돌아가 다양한 특성 조합을 시도해 보세요. \n",
    "    - 각 특성이 무슨 의미를 갖는지 생각해 보세요. \n",
    "    - 어떤 특성이 들어가면 성능이 더 오를까요? \n",
    "    - 특성을 추가하면 추가할수록 성능이 좋아질까요?"
   ]
  },
  {
   "cell_type": "code",
   "execution_count": null,
   "id": "afd3c6b3",
   "metadata": {
    "deletable": false,
    "nbgrader": {
     "cell_type": "code",
     "checksum": "6d1b5b4202931ae66f91fe74fb7f32d1",
     "grade": false,
     "grade_id": "2-6",
     "locked": false,
     "schema_version": 3,
     "solution": true,
     "task": false
    }
   },
   "outputs": [],
   "source": [
    "def calculate_score(ridge, X_test_encoded, y_test):\n",
    "    test_mae = 0\n",
    "    test_r2 = 0\n",
    "\n",
    "    # YOUR CODE HERE\n",
    "    \n",
    "    \n",
    "    # YOUR CODE ENDS HERE\n",
    "\n",
    "    return test_mae, test_r2"
   ]
  },
  {
   "cell_type": "code",
   "execution_count": null,
   "id": "75d63a58",
   "metadata": {
    "deletable": false,
    "editable": false,
    "nbgrader": {
     "cell_type": "code",
     "checksum": "a4a8d5c10aab010003cc00a4511a0a66",
     "grade": false,
     "grade_id": "cell-7ec270609952377d",
     "locked": true,
     "schema_version": 3,
     "solution": false,
     "task": false
    }
   },
   "outputs": [],
   "source": [
    "test_mae, test_r2 = calculate_score(ridge, X_test_encoded, y_test)"
   ]
  },
  {
   "cell_type": "code",
   "execution_count": null,
   "id": "3b1b31a1",
   "metadata": {
    "deletable": false,
    "editable": false,
    "nbgrader": {
     "cell_type": "code",
     "checksum": "05a4efae071d2b3388610bc07c282087",
     "grade": true,
     "grade_id": "2-6_test",
     "locked": true,
     "points": 1,
     "schema_version": 3,
     "solution": false,
     "task": false
    }
   },
   "outputs": [],
   "source": [
    "print(\"test MAE:\", test_mae)\n",
    "print(\"test R2:\", test_r2)"
   ]
  },
  {
   "cell_type": "code",
   "execution_count": null,
   "id": "9630b414",
   "metadata": {
    "deletable": false,
    "editable": false,
    "nbgrader": {
     "cell_type": "code",
     "checksum": "6f8ec595cdb416722db64f04dc15fa19",
     "grade": true,
     "grade_id": "challenge_2-6_test",
     "locked": true,
     "points": 1,
     "schema_version": 3,
     "solution": false,
     "task": false
    }
   },
   "outputs": [],
   "source": [
    "print(\"test R2 > 0.75?:\", test_r2 > 0.75)"
   ]
  },
  {
   "cell_type": "markdown",
   "id": "8d2478b1",
   "metadata": {},
   "source": [
    "---"
   ]
  },
  {
   "cell_type": "markdown",
   "id": "50bd3216",
   "metadata": {},
   "source": [
    "# 수고하셨습니다!"
   ]
  }
 ],
 "metadata": {
  "kernelspec": {
   "display_name": "Python 3 (ipykernel)",
   "language": "python",
   "name": "python3"
  },
  "language_info": {
   "codemirror_mode": {
    "name": "ipython",
    "version": 3
   },
   "file_extension": ".py",
   "mimetype": "text/x-python",
   "name": "python",
   "nbconvert_exporter": "python",
   "pygments_lexer": "ipython3",
   "version": "3.8.9"
  }
 },
 "nbformat": 4,
 "nbformat_minor": 5
}
