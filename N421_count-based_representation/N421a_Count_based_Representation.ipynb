{
  "cells": [
    {
      "cell_type": "markdown",
      "metadata": {
        "id": "za56W96DnxVC"
      },
      "source": [
        "<img align=\"right\" src=\"https://ds-cs-images.s3.ap-northeast-2.amazonaws.com/Codestates_Fulllogo_Color.png\" width=100>\n",
        "\n",
        "## *AIB / SECTION 4 / SPRINT 2 / NOTE 1*\n",
        "\n",
        "# 📝 Assignment\n",
        "\n",
        "---\n",
        "\n",
        "\n",
        "# Count-based_Representation"
      ]
    },
    {
      "cell_type": "markdown",
      "metadata": {
        "id": "68CzOVminxVR"
      },
      "source": [
        "indeed.com 에서 Data Scientist 키워드로 Job descrition을 찾아 스크래핑한 데이터를 이용해 과제를 진행해 보겠습니다.\n",
        "\n",
        "[Data_Scienties.csv](https://ds-lecture-data.s3.ap-northeast-2.amazonaws.com/indeed/Data_Scientist.csv) 파일에는 1300여개의 Data Scientist job description 정보가 담겨 있습니다."
      ]
    },
    {
      "cell_type": "markdown",
      "metadata": {
        "id": "Fon1gvE36a9Q"
      },
      "source": [
        "## 1. 데이터 전처리 (Text preprocessing)"
      ]
    },
    {
      "cell_type": "code",
      "execution_count": 1,
      "metadata": {
        "id": "cnvZzxM4EVMh"
      },
      "outputs": [],
      "source": [
        "import re\n",
        "import string\n",
        "\n",
        "import numpy as np\n",
        "import pandas as pd\n",
        "import matplotlib.pyplot as plt"
      ]
    },
    {
      "cell_type": "markdown",
      "metadata": {
        "id": "U1w7-dwwF5rW"
      },
      "source": [
        "### 0) 텍스트 분석에 앞서 데이터 전처리를 진행합니다."
      ]
    },
    {
      "cell_type": "markdown",
      "metadata": {
        "id": "3Omo3_B1FT_I"
      },
      "source": [
        "- 파일을 불러온 후 title, company, description 에 해당하는 Column만 남겨주세요.\n",
        "- 중복값을 제거하세요."
      ]
    },
    {
      "cell_type": "code",
      "execution_count": 2,
      "metadata": {
        "id": "IwdNT6hmEPhq"
      },
      "outputs": [],
      "source": [
        "df = pd.read_csv('https://ds-lecture-data.s3.ap-northeast-2.amazonaws.com/indeed/Data_Scientist.csv')"
      ]
    },
    {
      "cell_type": "code",
      "source": [
        "df.head()"
      ],
      "metadata": {
        "id": "yMcjqYfFnYO9",
        "outputId": "647a4fc8-b535-4b46-94cf-6e55638e947a",
        "colab": {
          "base_uri": "https://localhost:8080/",
          "height": 206
        }
      },
      "execution_count": 3,
      "outputs": [
        {
          "output_type": "execute_result",
          "data": {
            "text/plain": [
              "   Unnamed: 0                                 title  \\\n",
              "0           0  Data Scientist (Structured Products)   \n",
              "1           1  Data Scientist (Structured Products)   \n",
              "2           2              Specialist, Data Science   \n",
              "3           3              Specialist, Data Science   \n",
              "4           4           Sr. Data Scientist (Remote)   \n",
              "\n",
              "                            company  \\\n",
              "0  EquiTrust Life Insurance Company   \n",
              "1  EquiTrust Life Insurance Company   \n",
              "2                        Nationwide   \n",
              "3                        Nationwide   \n",
              "4        American Credit Acceptance   \n",
              "\n",
              "                                         description  \\\n",
              "0  Job Details\\nDescription\\nEssential Duties and...   \n",
              "1  Job Details\\nDescription\\nEssential Duties and...   \n",
              "2  As a team member in the Finance and Internal A...   \n",
              "3  As a team member in the Finance and Internal A...   \n",
              "4  Overview:\\nAmerican Credit Acceptance seeks a ...   \n",
              "\n",
              "                                                 url  \n",
              "0  https://www.indeed.com/viewjob?jk=4e172dc068a7...  \n",
              "1  https://www.indeed.com/viewjob?jk=4e172dc068a7...  \n",
              "2  https://www.indeed.com/viewjob?jk=a06d07dec837...  \n",
              "3  https://www.indeed.com/viewjob?jk=a06d07dec837...  \n",
              "4  https://www.indeed.com/viewjob?jk=422a9c487215...  "
            ],
            "text/html": [
              "\n",
              "  <div id=\"df-46deea85-3a90-454a-83e7-d2c7c1decfb5\">\n",
              "    <div class=\"colab-df-container\">\n",
              "      <div>\n",
              "<style scoped>\n",
              "    .dataframe tbody tr th:only-of-type {\n",
              "        vertical-align: middle;\n",
              "    }\n",
              "\n",
              "    .dataframe tbody tr th {\n",
              "        vertical-align: top;\n",
              "    }\n",
              "\n",
              "    .dataframe thead th {\n",
              "        text-align: right;\n",
              "    }\n",
              "</style>\n",
              "<table border=\"1\" class=\"dataframe\">\n",
              "  <thead>\n",
              "    <tr style=\"text-align: right;\">\n",
              "      <th></th>\n",
              "      <th>Unnamed: 0</th>\n",
              "      <th>title</th>\n",
              "      <th>company</th>\n",
              "      <th>description</th>\n",
              "      <th>url</th>\n",
              "    </tr>\n",
              "  </thead>\n",
              "  <tbody>\n",
              "    <tr>\n",
              "      <th>0</th>\n",
              "      <td>0</td>\n",
              "      <td>Data Scientist (Structured Products)</td>\n",
              "      <td>EquiTrust Life Insurance Company</td>\n",
              "      <td>Job Details\\nDescription\\nEssential Duties and...</td>\n",
              "      <td>https://www.indeed.com/viewjob?jk=4e172dc068a7...</td>\n",
              "    </tr>\n",
              "    <tr>\n",
              "      <th>1</th>\n",
              "      <td>1</td>\n",
              "      <td>Data Scientist (Structured Products)</td>\n",
              "      <td>EquiTrust Life Insurance Company</td>\n",
              "      <td>Job Details\\nDescription\\nEssential Duties and...</td>\n",
              "      <td>https://www.indeed.com/viewjob?jk=4e172dc068a7...</td>\n",
              "    </tr>\n",
              "    <tr>\n",
              "      <th>2</th>\n",
              "      <td>2</td>\n",
              "      <td>Specialist, Data Science</td>\n",
              "      <td>Nationwide</td>\n",
              "      <td>As a team member in the Finance and Internal A...</td>\n",
              "      <td>https://www.indeed.com/viewjob?jk=a06d07dec837...</td>\n",
              "    </tr>\n",
              "    <tr>\n",
              "      <th>3</th>\n",
              "      <td>3</td>\n",
              "      <td>Specialist, Data Science</td>\n",
              "      <td>Nationwide</td>\n",
              "      <td>As a team member in the Finance and Internal A...</td>\n",
              "      <td>https://www.indeed.com/viewjob?jk=a06d07dec837...</td>\n",
              "    </tr>\n",
              "    <tr>\n",
              "      <th>4</th>\n",
              "      <td>4</td>\n",
              "      <td>Sr. Data Scientist (Remote)</td>\n",
              "      <td>American Credit Acceptance</td>\n",
              "      <td>Overview:\\nAmerican Credit Acceptance seeks a ...</td>\n",
              "      <td>https://www.indeed.com/viewjob?jk=422a9c487215...</td>\n",
              "    </tr>\n",
              "  </tbody>\n",
              "</table>\n",
              "</div>\n",
              "      <button class=\"colab-df-convert\" onclick=\"convertToInteractive('df-46deea85-3a90-454a-83e7-d2c7c1decfb5')\"\n",
              "              title=\"Convert this dataframe to an interactive table.\"\n",
              "              style=\"display:none;\">\n",
              "        \n",
              "  <svg xmlns=\"http://www.w3.org/2000/svg\" height=\"24px\"viewBox=\"0 0 24 24\"\n",
              "       width=\"24px\">\n",
              "    <path d=\"M0 0h24v24H0V0z\" fill=\"none\"/>\n",
              "    <path d=\"M18.56 5.44l.94 2.06.94-2.06 2.06-.94-2.06-.94-.94-2.06-.94 2.06-2.06.94zm-11 1L8.5 8.5l.94-2.06 2.06-.94-2.06-.94L8.5 2.5l-.94 2.06-2.06.94zm10 10l.94 2.06.94-2.06 2.06-.94-2.06-.94-.94-2.06-.94 2.06-2.06.94z\"/><path d=\"M17.41 7.96l-1.37-1.37c-.4-.4-.92-.59-1.43-.59-.52 0-1.04.2-1.43.59L10.3 9.45l-7.72 7.72c-.78.78-.78 2.05 0 2.83L4 21.41c.39.39.9.59 1.41.59.51 0 1.02-.2 1.41-.59l7.78-7.78 2.81-2.81c.8-.78.8-2.07 0-2.86zM5.41 20L4 18.59l7.72-7.72 1.47 1.35L5.41 20z\"/>\n",
              "  </svg>\n",
              "      </button>\n",
              "      \n",
              "  <style>\n",
              "    .colab-df-container {\n",
              "      display:flex;\n",
              "      flex-wrap:wrap;\n",
              "      gap: 12px;\n",
              "    }\n",
              "\n",
              "    .colab-df-convert {\n",
              "      background-color: #E8F0FE;\n",
              "      border: none;\n",
              "      border-radius: 50%;\n",
              "      cursor: pointer;\n",
              "      display: none;\n",
              "      fill: #1967D2;\n",
              "      height: 32px;\n",
              "      padding: 0 0 0 0;\n",
              "      width: 32px;\n",
              "    }\n",
              "\n",
              "    .colab-df-convert:hover {\n",
              "      background-color: #E2EBFA;\n",
              "      box-shadow: 0px 1px 2px rgba(60, 64, 67, 0.3), 0px 1px 3px 1px rgba(60, 64, 67, 0.15);\n",
              "      fill: #174EA6;\n",
              "    }\n",
              "\n",
              "    [theme=dark] .colab-df-convert {\n",
              "      background-color: #3B4455;\n",
              "      fill: #D2E3FC;\n",
              "    }\n",
              "\n",
              "    [theme=dark] .colab-df-convert:hover {\n",
              "      background-color: #434B5C;\n",
              "      box-shadow: 0px 1px 3px 1px rgba(0, 0, 0, 0.15);\n",
              "      filter: drop-shadow(0px 1px 2px rgba(0, 0, 0, 0.3));\n",
              "      fill: #FFFFFF;\n",
              "    }\n",
              "  </style>\n",
              "\n",
              "      <script>\n",
              "        const buttonEl =\n",
              "          document.querySelector('#df-46deea85-3a90-454a-83e7-d2c7c1decfb5 button.colab-df-convert');\n",
              "        buttonEl.style.display =\n",
              "          google.colab.kernel.accessAllowed ? 'block' : 'none';\n",
              "\n",
              "        async function convertToInteractive(key) {\n",
              "          const element = document.querySelector('#df-46deea85-3a90-454a-83e7-d2c7c1decfb5');\n",
              "          const dataTable =\n",
              "            await google.colab.kernel.invokeFunction('convertToInteractive',\n",
              "                                                     [key], {});\n",
              "          if (!dataTable) return;\n",
              "\n",
              "          const docLinkHtml = 'Like what you see? Visit the ' +\n",
              "            '<a target=\"_blank\" href=https://colab.research.google.com/notebooks/data_table.ipynb>data table notebook</a>'\n",
              "            + ' to learn more about interactive tables.';\n",
              "          element.innerHTML = '';\n",
              "          dataTable['output_type'] = 'display_data';\n",
              "          await google.colab.output.renderOutput(dataTable, element);\n",
              "          const docLink = document.createElement('div');\n",
              "          docLink.innerHTML = docLinkHtml;\n",
              "          element.appendChild(docLink);\n",
              "        }\n",
              "      </script>\n",
              "    </div>\n",
              "  </div>\n",
              "  "
            ]
          },
          "metadata": {},
          "execution_count": 3
        }
      ]
    },
    {
      "cell_type": "code",
      "source": [
        "df = df[['title', 'company', 'description']]\n",
        "df.head()"
      ],
      "metadata": {
        "id": "ggr9jkC1nax4",
        "outputId": "16ddbae8-4b88-4646-e28f-5a3462468391",
        "colab": {
          "base_uri": "https://localhost:8080/",
          "height": 206
        }
      },
      "execution_count": 4,
      "outputs": [
        {
          "output_type": "execute_result",
          "data": {
            "text/plain": [
              "                                  title                           company  \\\n",
              "0  Data Scientist (Structured Products)  EquiTrust Life Insurance Company   \n",
              "1  Data Scientist (Structured Products)  EquiTrust Life Insurance Company   \n",
              "2              Specialist, Data Science                        Nationwide   \n",
              "3              Specialist, Data Science                        Nationwide   \n",
              "4           Sr. Data Scientist (Remote)        American Credit Acceptance   \n",
              "\n",
              "                                         description  \n",
              "0  Job Details\\nDescription\\nEssential Duties and...  \n",
              "1  Job Details\\nDescription\\nEssential Duties and...  \n",
              "2  As a team member in the Finance and Internal A...  \n",
              "3  As a team member in the Finance and Internal A...  \n",
              "4  Overview:\\nAmerican Credit Acceptance seeks a ...  "
            ],
            "text/html": [
              "\n",
              "  <div id=\"df-6295aac8-2ce8-4146-bc34-0e6a1c8b8560\">\n",
              "    <div class=\"colab-df-container\">\n",
              "      <div>\n",
              "<style scoped>\n",
              "    .dataframe tbody tr th:only-of-type {\n",
              "        vertical-align: middle;\n",
              "    }\n",
              "\n",
              "    .dataframe tbody tr th {\n",
              "        vertical-align: top;\n",
              "    }\n",
              "\n",
              "    .dataframe thead th {\n",
              "        text-align: right;\n",
              "    }\n",
              "</style>\n",
              "<table border=\"1\" class=\"dataframe\">\n",
              "  <thead>\n",
              "    <tr style=\"text-align: right;\">\n",
              "      <th></th>\n",
              "      <th>title</th>\n",
              "      <th>company</th>\n",
              "      <th>description</th>\n",
              "    </tr>\n",
              "  </thead>\n",
              "  <tbody>\n",
              "    <tr>\n",
              "      <th>0</th>\n",
              "      <td>Data Scientist (Structured Products)</td>\n",
              "      <td>EquiTrust Life Insurance Company</td>\n",
              "      <td>Job Details\\nDescription\\nEssential Duties and...</td>\n",
              "    </tr>\n",
              "    <tr>\n",
              "      <th>1</th>\n",
              "      <td>Data Scientist (Structured Products)</td>\n",
              "      <td>EquiTrust Life Insurance Company</td>\n",
              "      <td>Job Details\\nDescription\\nEssential Duties and...</td>\n",
              "    </tr>\n",
              "    <tr>\n",
              "      <th>2</th>\n",
              "      <td>Specialist, Data Science</td>\n",
              "      <td>Nationwide</td>\n",
              "      <td>As a team member in the Finance and Internal A...</td>\n",
              "    </tr>\n",
              "    <tr>\n",
              "      <th>3</th>\n",
              "      <td>Specialist, Data Science</td>\n",
              "      <td>Nationwide</td>\n",
              "      <td>As a team member in the Finance and Internal A...</td>\n",
              "    </tr>\n",
              "    <tr>\n",
              "      <th>4</th>\n",
              "      <td>Sr. Data Scientist (Remote)</td>\n",
              "      <td>American Credit Acceptance</td>\n",
              "      <td>Overview:\\nAmerican Credit Acceptance seeks a ...</td>\n",
              "    </tr>\n",
              "  </tbody>\n",
              "</table>\n",
              "</div>\n",
              "      <button class=\"colab-df-convert\" onclick=\"convertToInteractive('df-6295aac8-2ce8-4146-bc34-0e6a1c8b8560')\"\n",
              "              title=\"Convert this dataframe to an interactive table.\"\n",
              "              style=\"display:none;\">\n",
              "        \n",
              "  <svg xmlns=\"http://www.w3.org/2000/svg\" height=\"24px\"viewBox=\"0 0 24 24\"\n",
              "       width=\"24px\">\n",
              "    <path d=\"M0 0h24v24H0V0z\" fill=\"none\"/>\n",
              "    <path d=\"M18.56 5.44l.94 2.06.94-2.06 2.06-.94-2.06-.94-.94-2.06-.94 2.06-2.06.94zm-11 1L8.5 8.5l.94-2.06 2.06-.94-2.06-.94L8.5 2.5l-.94 2.06-2.06.94zm10 10l.94 2.06.94-2.06 2.06-.94-2.06-.94-.94-2.06-.94 2.06-2.06.94z\"/><path d=\"M17.41 7.96l-1.37-1.37c-.4-.4-.92-.59-1.43-.59-.52 0-1.04.2-1.43.59L10.3 9.45l-7.72 7.72c-.78.78-.78 2.05 0 2.83L4 21.41c.39.39.9.59 1.41.59.51 0 1.02-.2 1.41-.59l7.78-7.78 2.81-2.81c.8-.78.8-2.07 0-2.86zM5.41 20L4 18.59l7.72-7.72 1.47 1.35L5.41 20z\"/>\n",
              "  </svg>\n",
              "      </button>\n",
              "      \n",
              "  <style>\n",
              "    .colab-df-container {\n",
              "      display:flex;\n",
              "      flex-wrap:wrap;\n",
              "      gap: 12px;\n",
              "    }\n",
              "\n",
              "    .colab-df-convert {\n",
              "      background-color: #E8F0FE;\n",
              "      border: none;\n",
              "      border-radius: 50%;\n",
              "      cursor: pointer;\n",
              "      display: none;\n",
              "      fill: #1967D2;\n",
              "      height: 32px;\n",
              "      padding: 0 0 0 0;\n",
              "      width: 32px;\n",
              "    }\n",
              "\n",
              "    .colab-df-convert:hover {\n",
              "      background-color: #E2EBFA;\n",
              "      box-shadow: 0px 1px 2px rgba(60, 64, 67, 0.3), 0px 1px 3px 1px rgba(60, 64, 67, 0.15);\n",
              "      fill: #174EA6;\n",
              "    }\n",
              "\n",
              "    [theme=dark] .colab-df-convert {\n",
              "      background-color: #3B4455;\n",
              "      fill: #D2E3FC;\n",
              "    }\n",
              "\n",
              "    [theme=dark] .colab-df-convert:hover {\n",
              "      background-color: #434B5C;\n",
              "      box-shadow: 0px 1px 3px 1px rgba(0, 0, 0, 0.15);\n",
              "      filter: drop-shadow(0px 1px 2px rgba(0, 0, 0, 0.3));\n",
              "      fill: #FFFFFF;\n",
              "    }\n",
              "  </style>\n",
              "\n",
              "      <script>\n",
              "        const buttonEl =\n",
              "          document.querySelector('#df-6295aac8-2ce8-4146-bc34-0e6a1c8b8560 button.colab-df-convert');\n",
              "        buttonEl.style.display =\n",
              "          google.colab.kernel.accessAllowed ? 'block' : 'none';\n",
              "\n",
              "        async function convertToInteractive(key) {\n",
              "          const element = document.querySelector('#df-6295aac8-2ce8-4146-bc34-0e6a1c8b8560');\n",
              "          const dataTable =\n",
              "            await google.colab.kernel.invokeFunction('convertToInteractive',\n",
              "                                                     [key], {});\n",
              "          if (!dataTable) return;\n",
              "\n",
              "          const docLinkHtml = 'Like what you see? Visit the ' +\n",
              "            '<a target=\"_blank\" href=https://colab.research.google.com/notebooks/data_table.ipynb>data table notebook</a>'\n",
              "            + ' to learn more about interactive tables.';\n",
              "          element.innerHTML = '';\n",
              "          dataTable['output_type'] = 'display_data';\n",
              "          await google.colab.output.renderOutput(dataTable, element);\n",
              "          const docLink = document.createElement('div');\n",
              "          docLink.innerHTML = docLinkHtml;\n",
              "          element.appendChild(docLink);\n",
              "        }\n",
              "      </script>\n",
              "    </div>\n",
              "  </div>\n",
              "  "
            ]
          },
          "metadata": {},
          "execution_count": 4
        }
      ]
    },
    {
      "cell_type": "code",
      "source": [
        "df = df.drop_duplicates(subset='description')\n",
        "df.shape"
      ],
      "metadata": {
        "id": "X-IE5rQAn7E9",
        "outputId": "723639ce-a440-41c4-fdf1-b3295a53cb91",
        "colab": {
          "base_uri": "https://localhost:8080/"
        }
      },
      "execution_count": 5,
      "outputs": [
        {
          "output_type": "execute_result",
          "data": {
            "text/plain": [
              "(757, 3)"
            ]
          },
          "metadata": {},
          "execution_count": 5
        }
      ]
    },
    {
      "cell_type": "markdown",
      "metadata": {
        "id": "JepbPJw5nxVT"
      },
      "source": [
        "### 1) 토큰을 정제합니다."
      ]
    },
    {
      "cell_type": "markdown",
      "metadata": {
        "id": "8Mq6oYCdQ0cZ"
      },
      "source": [
        "- 문자를 소문자로 통일\n",
        "- 분석에 관련 없는 정보 제거\n",
        "- 이번 과제는 `spacy` 로부터 `\"en_core_web_sm\"` 을 로드하여 진행해주세요.\n",
        "\n",
        "- **문항 1) 대문자를 소문자로 변경하는 함수를 입력하세요.**\n",
        "- **문항 2) 정규 표현식을 사용하여 re 라이브러리에서 알파벳 소문자, 숫자만 받을 수 있는 코드를 작성하세요.**"
      ]
    },
    {
      "cell_type": "code",
      "execution_count": 6,
      "metadata": {
        "id": "_VBRkXS6nxVT"
      },
      "outputs": [],
      "source": [
        "import spacy\n",
        "from spacy.tokenizer import Tokenizer\n",
        "\n",
        "nlp = spacy.load(\"en_core_web_sm\")\n",
        "tokenizer = Tokenizer(nlp.vocab)"
      ]
    },
    {
      "cell_type": "code",
      "source": [
        "tokens = []\n",
        "\n",
        "for doc in tokenizer.pipe(df['description']):\n",
        "    doc_tokens = [re.sub(r\"[^a-z0-9]\", \"\", token.text.lower()) for token in doc]\n",
        "    tokens.append(doc_tokens)\n",
        "\n",
        "df['tokens'] = tokens\n",
        "df['tokens'].head()"
      ],
      "metadata": {
        "id": "b17s5EURoFtq",
        "outputId": "6576a553-cdbf-4c1f-b885-05a8cc02ff6e",
        "colab": {
          "base_uri": "https://localhost:8080/"
        }
      },
      "execution_count": 7,
      "outputs": [
        {
          "output_type": "execute_result",
          "data": {
            "text/plain": [
              "0    [job, details, , description, , essential, dut...\n",
              "2    [as, a, team, member, in, the, finance, and, i...\n",
              "4    [overview, , american, credit, acceptance, see...\n",
              "5    [jp, morgans, corporate, , investment, bank, c...\n",
              "6    [at, vystar, we, offer, competitive, pay, an, ...\n",
              "Name: tokens, dtype: object"
            ]
          },
          "metadata": {},
          "execution_count": 7
        }
      ]
    },
    {
      "cell_type": "code",
      "source": [
        "df['tokens'].iloc[-1][0]"
      ],
      "metadata": {
        "id": "_-rAJb51oGJy",
        "outputId": "cd894855-56e4-4f18-9cfb-42715257e480",
        "colab": {
          "base_uri": "https://localhost:8080/",
          "height": 35
        }
      },
      "execution_count": 8,
      "outputs": [
        {
          "output_type": "execute_result",
          "data": {
            "text/plain": [
              "'tldr'"
            ],
            "application/vnd.google.colaboratory.intrinsic+json": {
              "type": "string"
            }
          },
          "metadata": {},
          "execution_count": 8
        }
      ]
    },
    {
      "cell_type": "markdown",
      "metadata": {
        "id": "RdgRqlzsnxVT"
      },
      "source": [
        "### 2) 정제한 토큰을 시각화 합니다."
      ]
    },
    {
      "cell_type": "markdown",
      "metadata": {
        "id": "sOobV051OOsv"
      },
      "source": [
        "- Top 10 토큰을 프린트 합니다.\n",
        "- 토큰의 수, 빈도 순위, 존재 문서 수, 비율 등 정보를 계산합니다.\n",
        "- 토큰 순위에 따른 퍼센트 누적 분포 그래프를 시각화합니다.\n",
        "\n",
        "- **문항 3) 추천 토큰 순위 10개 단어를 입력하세요.**"
      ]
    },
    {
      "cell_type": "code",
      "execution_count": 9,
      "metadata": {
        "id": "3Gk8_RIxcWKS"
      },
      "outputs": [],
      "source": [
        "### 이곳에서 과제를 진행해 주세요 ### \n",
        "from collections import Counter\n",
        "\n",
        "# Counter 객체는 리스트요소의 값과 요소의 갯수를 카운트 하여 저장하고 있습니다.\n",
        "# 카운터 객체는 .update 메소드로 계속 업데이트 가능합니다.\n",
        "word_counts = Counter()\n",
        "\n",
        "# 토큰화된 각 리뷰 리스트를 카운터 객체에 업데이트 합니다. \n",
        "df['tokens'].apply(lambda x: word_counts.update(x))\n",
        "\n",
        "# 가장 많이 존재하는 단어 순으로 10개를 나열합니다\n",
        "word_counts.most_common(10)\n",
        "\n",
        "\n",
        "def word_count(docs):\n",
        "    \"\"\" 토큰화된 문서들을 입력받아 토큰을 카운트 하고 관련된 속성을 가진 데이터프레임을 리턴합니다.\n",
        "    Args:\n",
        "        docs (series or list): 토큰화된 문서가 들어있는 list\n",
        "    Returns:\n",
        "        list: Dataframe\n",
        "    \"\"\"\n",
        "    # 전체 코퍼스에서 단어 빈도 카운트\n",
        "    word_counts = Counter()\n",
        "\n",
        "    # 단어가 존재하는 문서의 빈도 카운트, 단어가 한 번 이상 존재하면 +1\n",
        "    word_in_docs = Counter()\n",
        "\n",
        "    # 전체 문서의 갯수\n",
        "    total_docs = len(docs)\n",
        "\n",
        "    for doc in docs:\n",
        "        word_counts.update(doc)\n",
        "        word_in_docs.update(set(doc))\n",
        "\n",
        "    temp = zip(word_counts.keys(), word_counts.values())\n",
        "\n",
        "    wc = pd.DataFrame(temp, columns = ['word', 'count'])\n",
        "\n",
        "    # 단어의 순위\n",
        "    # method='first': 같은 값의 경우 먼저나온 요소를 우선\n",
        "    wc['rank'] = wc['count'].rank(method='first', ascending=False)\n",
        "    total = wc['count'].sum()\n",
        "\n",
        "    # 코퍼스 내 단어의 비율\n",
        "    wc['percent'] = wc['count'].apply(lambda x: x / total)\n",
        "\n",
        "    wc = wc.sort_values(by='rank')\n",
        "\n",
        "    # 누적 비율\n",
        "    # cumsum() : cumulative sum\n",
        "    wc['cul_percent'] = wc['percent'].cumsum()\n",
        "\n",
        "    temp2 = zip(word_in_docs.keys(), word_in_docs.values())\n",
        "    ac = pd.DataFrame(temp2, columns=['word', 'word_in_docs'])\n",
        "    wc = ac.merge(wc, on='word')\n",
        "    \n",
        "    # 전체 문서 중 존재하는 비율\n",
        "    wc['word_in_docs_percent'] = wc['word_in_docs'].apply(lambda x: x / total_docs)\n",
        "\n",
        "    return wc.sort_values(by='rank')"
      ]
    },
    {
      "cell_type": "code",
      "source": [
        "### 이곳에서 과제를 진행해 주세요 ### \n",
        "wc = word_count(df['tokens'])\n",
        "wc.head(10)"
      ],
      "metadata": {
        "id": "Vyb3TnqcocjS",
        "outputId": "9d6ba2b8-5e5a-44d1-d677-ff471053244b",
        "colab": {
          "base_uri": "https://localhost:8080/",
          "height": 363
        }
      },
      "execution_count": 10,
      "outputs": [
        {
          "output_type": "execute_result",
          "data": {
            "text/plain": [
              "     word  word_in_docs  count  rank   percent  cul_percent  \\\n",
              "156   and           755  21864   1.0  0.053487     0.053487   \n",
              "0                   751  21493   2.0  0.052580     0.106067   \n",
              "212    to           754  12694   3.0  0.031054     0.137121   \n",
              "30    the           745  10538   4.0  0.025780     0.162901   \n",
              "201    of           745   8839   5.0  0.021623     0.184524   \n",
              "11   data           740   7425   6.0  0.018164     0.202689   \n",
              "204    in           748   6769   7.0  0.016559     0.219248   \n",
              "32      a           739   6436   8.0  0.015745     0.234993   \n",
              "1    with           742   5727   9.0  0.014010     0.249003   \n",
              "500   for           727   4132  10.0  0.010108     0.259111   \n",
              "\n",
              "     word_in_docs_percent  \n",
              "156              0.997358  \n",
              "0                0.992074  \n",
              "212              0.996037  \n",
              "30               0.984148  \n",
              "201              0.984148  \n",
              "11               0.977543  \n",
              "204              0.988111  \n",
              "32               0.976222  \n",
              "1                0.980185  \n",
              "500              0.960370  "
            ],
            "text/html": [
              "\n",
              "  <div id=\"df-b5f8577e-6313-4bce-b17c-9aeeadf11e2a\">\n",
              "    <div class=\"colab-df-container\">\n",
              "      <div>\n",
              "<style scoped>\n",
              "    .dataframe tbody tr th:only-of-type {\n",
              "        vertical-align: middle;\n",
              "    }\n",
              "\n",
              "    .dataframe tbody tr th {\n",
              "        vertical-align: top;\n",
              "    }\n",
              "\n",
              "    .dataframe thead th {\n",
              "        text-align: right;\n",
              "    }\n",
              "</style>\n",
              "<table border=\"1\" class=\"dataframe\">\n",
              "  <thead>\n",
              "    <tr style=\"text-align: right;\">\n",
              "      <th></th>\n",
              "      <th>word</th>\n",
              "      <th>word_in_docs</th>\n",
              "      <th>count</th>\n",
              "      <th>rank</th>\n",
              "      <th>percent</th>\n",
              "      <th>cul_percent</th>\n",
              "      <th>word_in_docs_percent</th>\n",
              "    </tr>\n",
              "  </thead>\n",
              "  <tbody>\n",
              "    <tr>\n",
              "      <th>156</th>\n",
              "      <td>and</td>\n",
              "      <td>755</td>\n",
              "      <td>21864</td>\n",
              "      <td>1.0</td>\n",
              "      <td>0.053487</td>\n",
              "      <td>0.053487</td>\n",
              "      <td>0.997358</td>\n",
              "    </tr>\n",
              "    <tr>\n",
              "      <th>0</th>\n",
              "      <td></td>\n",
              "      <td>751</td>\n",
              "      <td>21493</td>\n",
              "      <td>2.0</td>\n",
              "      <td>0.052580</td>\n",
              "      <td>0.106067</td>\n",
              "      <td>0.992074</td>\n",
              "    </tr>\n",
              "    <tr>\n",
              "      <th>212</th>\n",
              "      <td>to</td>\n",
              "      <td>754</td>\n",
              "      <td>12694</td>\n",
              "      <td>3.0</td>\n",
              "      <td>0.031054</td>\n",
              "      <td>0.137121</td>\n",
              "      <td>0.996037</td>\n",
              "    </tr>\n",
              "    <tr>\n",
              "      <th>30</th>\n",
              "      <td>the</td>\n",
              "      <td>745</td>\n",
              "      <td>10538</td>\n",
              "      <td>4.0</td>\n",
              "      <td>0.025780</td>\n",
              "      <td>0.162901</td>\n",
              "      <td>0.984148</td>\n",
              "    </tr>\n",
              "    <tr>\n",
              "      <th>201</th>\n",
              "      <td>of</td>\n",
              "      <td>745</td>\n",
              "      <td>8839</td>\n",
              "      <td>5.0</td>\n",
              "      <td>0.021623</td>\n",
              "      <td>0.184524</td>\n",
              "      <td>0.984148</td>\n",
              "    </tr>\n",
              "    <tr>\n",
              "      <th>11</th>\n",
              "      <td>data</td>\n",
              "      <td>740</td>\n",
              "      <td>7425</td>\n",
              "      <td>6.0</td>\n",
              "      <td>0.018164</td>\n",
              "      <td>0.202689</td>\n",
              "      <td>0.977543</td>\n",
              "    </tr>\n",
              "    <tr>\n",
              "      <th>204</th>\n",
              "      <td>in</td>\n",
              "      <td>748</td>\n",
              "      <td>6769</td>\n",
              "      <td>7.0</td>\n",
              "      <td>0.016559</td>\n",
              "      <td>0.219248</td>\n",
              "      <td>0.988111</td>\n",
              "    </tr>\n",
              "    <tr>\n",
              "      <th>32</th>\n",
              "      <td>a</td>\n",
              "      <td>739</td>\n",
              "      <td>6436</td>\n",
              "      <td>8.0</td>\n",
              "      <td>0.015745</td>\n",
              "      <td>0.234993</td>\n",
              "      <td>0.976222</td>\n",
              "    </tr>\n",
              "    <tr>\n",
              "      <th>1</th>\n",
              "      <td>with</td>\n",
              "      <td>742</td>\n",
              "      <td>5727</td>\n",
              "      <td>9.0</td>\n",
              "      <td>0.014010</td>\n",
              "      <td>0.249003</td>\n",
              "      <td>0.980185</td>\n",
              "    </tr>\n",
              "    <tr>\n",
              "      <th>500</th>\n",
              "      <td>for</td>\n",
              "      <td>727</td>\n",
              "      <td>4132</td>\n",
              "      <td>10.0</td>\n",
              "      <td>0.010108</td>\n",
              "      <td>0.259111</td>\n",
              "      <td>0.960370</td>\n",
              "    </tr>\n",
              "  </tbody>\n",
              "</table>\n",
              "</div>\n",
              "      <button class=\"colab-df-convert\" onclick=\"convertToInteractive('df-b5f8577e-6313-4bce-b17c-9aeeadf11e2a')\"\n",
              "              title=\"Convert this dataframe to an interactive table.\"\n",
              "              style=\"display:none;\">\n",
              "        \n",
              "  <svg xmlns=\"http://www.w3.org/2000/svg\" height=\"24px\"viewBox=\"0 0 24 24\"\n",
              "       width=\"24px\">\n",
              "    <path d=\"M0 0h24v24H0V0z\" fill=\"none\"/>\n",
              "    <path d=\"M18.56 5.44l.94 2.06.94-2.06 2.06-.94-2.06-.94-.94-2.06-.94 2.06-2.06.94zm-11 1L8.5 8.5l.94-2.06 2.06-.94-2.06-.94L8.5 2.5l-.94 2.06-2.06.94zm10 10l.94 2.06.94-2.06 2.06-.94-2.06-.94-.94-2.06-.94 2.06-2.06.94z\"/><path d=\"M17.41 7.96l-1.37-1.37c-.4-.4-.92-.59-1.43-.59-.52 0-1.04.2-1.43.59L10.3 9.45l-7.72 7.72c-.78.78-.78 2.05 0 2.83L4 21.41c.39.39.9.59 1.41.59.51 0 1.02-.2 1.41-.59l7.78-7.78 2.81-2.81c.8-.78.8-2.07 0-2.86zM5.41 20L4 18.59l7.72-7.72 1.47 1.35L5.41 20z\"/>\n",
              "  </svg>\n",
              "      </button>\n",
              "      \n",
              "  <style>\n",
              "    .colab-df-container {\n",
              "      display:flex;\n",
              "      flex-wrap:wrap;\n",
              "      gap: 12px;\n",
              "    }\n",
              "\n",
              "    .colab-df-convert {\n",
              "      background-color: #E8F0FE;\n",
              "      border: none;\n",
              "      border-radius: 50%;\n",
              "      cursor: pointer;\n",
              "      display: none;\n",
              "      fill: #1967D2;\n",
              "      height: 32px;\n",
              "      padding: 0 0 0 0;\n",
              "      width: 32px;\n",
              "    }\n",
              "\n",
              "    .colab-df-convert:hover {\n",
              "      background-color: #E2EBFA;\n",
              "      box-shadow: 0px 1px 2px rgba(60, 64, 67, 0.3), 0px 1px 3px 1px rgba(60, 64, 67, 0.15);\n",
              "      fill: #174EA6;\n",
              "    }\n",
              "\n",
              "    [theme=dark] .colab-df-convert {\n",
              "      background-color: #3B4455;\n",
              "      fill: #D2E3FC;\n",
              "    }\n",
              "\n",
              "    [theme=dark] .colab-df-convert:hover {\n",
              "      background-color: #434B5C;\n",
              "      box-shadow: 0px 1px 3px 1px rgba(0, 0, 0, 0.15);\n",
              "      filter: drop-shadow(0px 1px 2px rgba(0, 0, 0, 0.3));\n",
              "      fill: #FFFFFF;\n",
              "    }\n",
              "  </style>\n",
              "\n",
              "      <script>\n",
              "        const buttonEl =\n",
              "          document.querySelector('#df-b5f8577e-6313-4bce-b17c-9aeeadf11e2a button.colab-df-convert');\n",
              "        buttonEl.style.display =\n",
              "          google.colab.kernel.accessAllowed ? 'block' : 'none';\n",
              "\n",
              "        async function convertToInteractive(key) {\n",
              "          const element = document.querySelector('#df-b5f8577e-6313-4bce-b17c-9aeeadf11e2a');\n",
              "          const dataTable =\n",
              "            await google.colab.kernel.invokeFunction('convertToInteractive',\n",
              "                                                     [key], {});\n",
              "          if (!dataTable) return;\n",
              "\n",
              "          const docLinkHtml = 'Like what you see? Visit the ' +\n",
              "            '<a target=\"_blank\" href=https://colab.research.google.com/notebooks/data_table.ipynb>data table notebook</a>'\n",
              "            + ' to learn more about interactive tables.';\n",
              "          element.innerHTML = '';\n",
              "          dataTable['output_type'] = 'display_data';\n",
              "          await google.colab.output.renderOutput(dataTable, element);\n",
              "          const docLink = document.createElement('div');\n",
              "          docLink.innerHTML = docLinkHtml;\n",
              "          element.appendChild(docLink);\n",
              "        }\n",
              "      </script>\n",
              "    </div>\n",
              "  </div>\n",
              "  "
            ]
          },
          "metadata": {},
          "execution_count": 10
        }
      ]
    },
    {
      "cell_type": "code",
      "source": [
        "import seaborn as sns\n",
        "\n",
        "sns.lineplot(x='rank', y='cul_percent', data=wc);"
      ],
      "metadata": {
        "id": "m8YCvCd-of9Z",
        "outputId": "42451d22-008b-4710-b3e4-d5f9a6406f5a",
        "colab": {
          "base_uri": "https://localhost:8080/",
          "height": 279
        }
      },
      "execution_count": 11,
      "outputs": [
        {
          "output_type": "display_data",
          "data": {
            "text/plain": [
              "<Figure size 432x288 with 1 Axes>"
            ],
            "image/png": "[encoded data removed]"
          },
          "metadata": {
            "needs_background": "light"
          }
        }
      ]
    },
    {
      "cell_type": "code",
      "source": [
        "!pip install squarify"
      ],
      "metadata": {
        "id": "jDiBp3CboiTT",
        "outputId": "74f027c6-5f9a-4f09-fb66-bffd196e8d43",
        "colab": {
          "base_uri": "https://localhost:8080/"
        }
      },
      "execution_count": 12,
      "outputs": [
        {
          "output_type": "stream",
          "name": "stdout",
          "text": [
            "Looking in indexes: https://pypi.org/simple, https://us-python.pkg.dev/colab-wheels/public/simple/\n",
            "Collecting squarify\n",
            "  Downloading squarify-0.4.3-py3-none-any.whl (4.3 kB)\n",
            "Installing collected packages: squarify\n",
            "Successfully installed squarify-0.4.3\n"
          ]
        }
      ]
    },
    {
      "cell_type": "code",
      "source": [
        "import squarify\n",
        "import matplotlib.pyplot as plt\n",
        "\n",
        "wc_top20 = wc[wc['rank'] <= 20]\n",
        "squarify.plot(sizes=wc_top20['percent'], label=wc_top20['word'], alpha=0.6)\n",
        "plt.axis('off')\n",
        "plt.show()"
      ],
      "metadata": {
        "id": "azDT63gHojLb",
        "outputId": "e001ce82-7366-46fc-ae76-7f5e4a5831cc",
        "colab": {
          "base_uri": "https://localhost:8080/",
          "height": 248
        }
      },
      "execution_count": 13,
      "outputs": [
        {
          "output_type": "display_data",
          "data": {
            "text/plain": [
              "<Figure size 432x288 with 1 Axes>"
            ],
            "image/png": "[encoded data removed]"
          },
          "metadata": {
            "needs_background": "light"
          }
        }
      ]
    },
    {
      "cell_type": "markdown",
      "metadata": {
        "id": "sURsv85FnxVU"
      },
      "source": [
        "### 4) 확장된 불용어 사전을 사용해 토큰을 정제합니다.\n"
      ]
    },
    {
      "cell_type": "markdown",
      "metadata": {
        "id": "d4FW5bGjRHb4"
      },
      "source": [
        "- **문항 4) 기본 불용어 사전에 두 단어(`\"data\", \"work\"`)를 추가하는 코드를 사용해주세요.**\n",
        "- **문항 5) 불용어를 제거하고 난 뒤 토큰 순위 10개의 단어를 입력하세요.**"
      ]
    },
    {
      "cell_type": "code",
      "execution_count": 14,
      "metadata": {
        "id": "yuxNolYCcWrv"
      },
      "outputs": [],
      "source": [
        "### 이곳에서 과제를 진행해 주세요 ### \n",
        "STOP_WORDS = nlp.Defaults.stop_words.union(['data','work'])"
      ]
    },
    {
      "cell_type": "code",
      "source": [
        "tokens = []\n",
        "for doc in tokenizer.pipe(df['description']):\n",
        "    \n",
        "    doc_tokens = []\n",
        "    \n",
        "    for token in doc:\n",
        "        if (token.text.lower() not in STOP_WORDS) & (token.text.lower() != \"\\n\") & (token.text.lower() !=\"\\n\\n\"):\n",
        "            doc_tokens.append(token.text.lower())\n",
        "   \n",
        "    tokens.append(doc_tokens)\n",
        "    \n",
        "df['tokens'] = tokens"
      ],
      "metadata": {
        "id": "4aDB6dg2ovz_"
      },
      "execution_count": 15,
      "outputs": []
    },
    {
      "cell_type": "code",
      "source": [
        "wc = word_count(df['tokens'])\n",
        "wc.head(10)"
      ],
      "metadata": {
        "id": "k5pFD55AowN8",
        "outputId": "4a0424b0-9839-45d3-d995-827b37278e5c",
        "colab": {
          "base_uri": "https://localhost:8080/",
          "height": 363
        }
      },
      "execution_count": 16,
      "outputs": [
        {
          "output_type": "execute_result",
          "data": {
            "text/plain": [
              "            word  word_in_docs  count  rank   percent  cul_percent  \\\n",
              "59    experience           687   3055   1.0  0.012447     0.012447   \n",
              "284     business           518   1885   2.0  0.007680     0.020128   \n",
              "47          team           548   1323   3.0  0.005390     0.025518   \n",
              "551     learning           467   1193   4.0  0.004861     0.030379   \n",
              "641      machine           468   1140   5.0  0.004645     0.035024   \n",
              "896      science           460   1048   6.0  0.004270     0.039294   \n",
              "44       ability           452    958   7.0  0.003903     0.043197   \n",
              "141     analysis           436    896   8.0  0.003651     0.046848   \n",
              "227  statistical           409    890   9.0  0.003626     0.050474   \n",
              "140       skills           466    886  10.0  0.003610     0.054084   \n",
              "\n",
              "     word_in_docs_percent  \n",
              "59               0.907530  \n",
              "284              0.684280  \n",
              "47               0.723910  \n",
              "551              0.616909  \n",
              "641              0.618230  \n",
              "896              0.607662  \n",
              "44               0.597094  \n",
              "141              0.575958  \n",
              "227              0.540291  \n",
              "140              0.615588  "
            ],
            "text/html": [
              "\n",
              "  <div id=\"df-3bedecdb-83c3-4c66-a136-8b1a62b20c35\">\n",
              "    <div class=\"colab-df-container\">\n",
              "      <div>\n",
              "<style scoped>\n",
              "    .dataframe tbody tr th:only-of-type {\n",
              "        vertical-align: middle;\n",
              "    }\n",
              "\n",
              "    .dataframe tbody tr th {\n",
              "        vertical-align: top;\n",
              "    }\n",
              "\n",
              "    .dataframe thead th {\n",
              "        text-align: right;\n",
              "    }\n",
              "</style>\n",
              "<table border=\"1\" class=\"dataframe\">\n",
              "  <thead>\n",
              "    <tr style=\"text-align: right;\">\n",
              "      <th></th>\n",
              "      <th>word</th>\n",
              "      <th>word_in_docs</th>\n",
              "      <th>count</th>\n",
              "      <th>rank</th>\n",
              "      <th>percent</th>\n",
              "      <th>cul_percent</th>\n",
              "      <th>word_in_docs_percent</th>\n",
              "    </tr>\n",
              "  </thead>\n",
              "  <tbody>\n",
              "    <tr>\n",
              "      <th>59</th>\n",
              "      <td>experience</td>\n",
              "      <td>687</td>\n",
              "      <td>3055</td>\n",
              "      <td>1.0</td>\n",
              "      <td>0.012447</td>\n",
              "      <td>0.012447</td>\n",
              "      <td>0.907530</td>\n",
              "    </tr>\n",
              "    <tr>\n",
              "      <th>284</th>\n",
              "      <td>business</td>\n",
              "      <td>518</td>\n",
              "      <td>1885</td>\n",
              "      <td>2.0</td>\n",
              "      <td>0.007680</td>\n",
              "      <td>0.020128</td>\n",
              "      <td>0.684280</td>\n",
              "    </tr>\n",
              "    <tr>\n",
              "      <th>47</th>\n",
              "      <td>team</td>\n",
              "      <td>548</td>\n",
              "      <td>1323</td>\n",
              "      <td>3.0</td>\n",
              "      <td>0.005390</td>\n",
              "      <td>0.025518</td>\n",
              "      <td>0.723910</td>\n",
              "    </tr>\n",
              "    <tr>\n",
              "      <th>551</th>\n",
              "      <td>learning</td>\n",
              "      <td>467</td>\n",
              "      <td>1193</td>\n",
              "      <td>4.0</td>\n",
              "      <td>0.004861</td>\n",
              "      <td>0.030379</td>\n",
              "      <td>0.616909</td>\n",
              "    </tr>\n",
              "    <tr>\n",
              "      <th>641</th>\n",
              "      <td>machine</td>\n",
              "      <td>468</td>\n",
              "      <td>1140</td>\n",
              "      <td>5.0</td>\n",
              "      <td>0.004645</td>\n",
              "      <td>0.035024</td>\n",
              "      <td>0.618230</td>\n",
              "    </tr>\n",
              "    <tr>\n",
              "      <th>896</th>\n",
              "      <td>science</td>\n",
              "      <td>460</td>\n",
              "      <td>1048</td>\n",
              "      <td>6.0</td>\n",
              "      <td>0.004270</td>\n",
              "      <td>0.039294</td>\n",
              "      <td>0.607662</td>\n",
              "    </tr>\n",
              "    <tr>\n",
              "      <th>44</th>\n",
              "      <td>ability</td>\n",
              "      <td>452</td>\n",
              "      <td>958</td>\n",
              "      <td>7.0</td>\n",
              "      <td>0.003903</td>\n",
              "      <td>0.043197</td>\n",
              "      <td>0.597094</td>\n",
              "    </tr>\n",
              "    <tr>\n",
              "      <th>141</th>\n",
              "      <td>analysis</td>\n",
              "      <td>436</td>\n",
              "      <td>896</td>\n",
              "      <td>8.0</td>\n",
              "      <td>0.003651</td>\n",
              "      <td>0.046848</td>\n",
              "      <td>0.575958</td>\n",
              "    </tr>\n",
              "    <tr>\n",
              "      <th>227</th>\n",
              "      <td>statistical</td>\n",
              "      <td>409</td>\n",
              "      <td>890</td>\n",
              "      <td>9.0</td>\n",
              "      <td>0.003626</td>\n",
              "      <td>0.050474</td>\n",
              "      <td>0.540291</td>\n",
              "    </tr>\n",
              "    <tr>\n",
              "      <th>140</th>\n",
              "      <td>skills</td>\n",
              "      <td>466</td>\n",
              "      <td>886</td>\n",
              "      <td>10.0</td>\n",
              "      <td>0.003610</td>\n",
              "      <td>0.054084</td>\n",
              "      <td>0.615588</td>\n",
              "    </tr>\n",
              "  </tbody>\n",
              "</table>\n",
              "</div>\n",
              "      <button class=\"colab-df-convert\" onclick=\"convertToInteractive('df-3bedecdb-83c3-4c66-a136-8b1a62b20c35')\"\n",
              "              title=\"Convert this dataframe to an interactive table.\"\n",
              "              style=\"display:none;\">\n",
              "        \n",
              "  <svg xmlns=\"http://www.w3.org/2000/svg\" height=\"24px\"viewBox=\"0 0 24 24\"\n",
              "       width=\"24px\">\n",
              "    <path d=\"M0 0h24v24H0V0z\" fill=\"none\"/>\n",
              "    <path d=\"M18.56 5.44l.94 2.06.94-2.06 2.06-.94-2.06-.94-.94-2.06-.94 2.06-2.06.94zm-11 1L8.5 8.5l.94-2.06 2.06-.94-2.06-.94L8.5 2.5l-.94 2.06-2.06.94zm10 10l.94 2.06.94-2.06 2.06-.94-2.06-.94-.94-2.06-.94 2.06-2.06.94z\"/><path d=\"M17.41 7.96l-1.37-1.37c-.4-.4-.92-.59-1.43-.59-.52 0-1.04.2-1.43.59L10.3 9.45l-7.72 7.72c-.78.78-.78 2.05 0 2.83L4 21.41c.39.39.9.59 1.41.59.51 0 1.02-.2 1.41-.59l7.78-7.78 2.81-2.81c.8-.78.8-2.07 0-2.86zM5.41 20L4 18.59l7.72-7.72 1.47 1.35L5.41 20z\"/>\n",
              "  </svg>\n",
              "      </button>\n",
              "      \n",
              "  <style>\n",
              "    .colab-df-container {\n",
              "      display:flex;\n",
              "      flex-wrap:wrap;\n",
              "      gap: 12px;\n",
              "    }\n",
              "\n",
              "    .colab-df-convert {\n",
              "      background-color: #E8F0FE;\n",
              "      border: none;\n",
              "      border-radius: 50%;\n",
              "      cursor: pointer;\n",
              "      display: none;\n",
              "      fill: #1967D2;\n",
              "      height: 32px;\n",
              "      padding: 0 0 0 0;\n",
              "      width: 32px;\n",
              "    }\n",
              "\n",
              "    .colab-df-convert:hover {\n",
              "      background-color: #E2EBFA;\n",
              "      box-shadow: 0px 1px 2px rgba(60, 64, 67, 0.3), 0px 1px 3px 1px rgba(60, 64, 67, 0.15);\n",
              "      fill: #174EA6;\n",
              "    }\n",
              "\n",
              "    [theme=dark] .colab-df-convert {\n",
              "      background-color: #3B4455;\n",
              "      fill: #D2E3FC;\n",
              "    }\n",
              "\n",
              "    [theme=dark] .colab-df-convert:hover {\n",
              "      background-color: #434B5C;\n",
              "      box-shadow: 0px 1px 3px 1px rgba(0, 0, 0, 0.15);\n",
              "      filter: drop-shadow(0px 1px 2px rgba(0, 0, 0, 0.3));\n",
              "      fill: #FFFFFF;\n",
              "    }\n",
              "  </style>\n",
              "\n",
              "      <script>\n",
              "        const buttonEl =\n",
              "          document.querySelector('#df-3bedecdb-83c3-4c66-a136-8b1a62b20c35 button.colab-df-convert');\n",
              "        buttonEl.style.display =\n",
              "          google.colab.kernel.accessAllowed ? 'block' : 'none';\n",
              "\n",
              "        async function convertToInteractive(key) {\n",
              "          const element = document.querySelector('#df-3bedecdb-83c3-4c66-a136-8b1a62b20c35');\n",
              "          const dataTable =\n",
              "            await google.colab.kernel.invokeFunction('convertToInteractive',\n",
              "                                                     [key], {});\n",
              "          if (!dataTable) return;\n",
              "\n",
              "          const docLinkHtml = 'Like what you see? Visit the ' +\n",
              "            '<a target=\"_blank\" href=https://colab.research.google.com/notebooks/data_table.ipynb>data table notebook</a>'\n",
              "            + ' to learn more about interactive tables.';\n",
              "          element.innerHTML = '';\n",
              "          dataTable['output_type'] = 'display_data';\n",
              "          await google.colab.output.renderOutput(dataTable, element);\n",
              "          const docLink = document.createElement('div');\n",
              "          docLink.innerHTML = docLinkHtml;\n",
              "          element.appendChild(docLink);\n",
              "        }\n",
              "      </script>\n",
              "    </div>\n",
              "  </div>\n",
              "  "
            ]
          },
          "metadata": {},
          "execution_count": 16
        }
      ]
    },
    {
      "cell_type": "markdown",
      "metadata": {
        "id": "f0iyh_gFnxVV"
      },
      "source": [
        "### 5) Lemmatization 사용 효과를 분석해 봅니다.\n",
        "\n"
      ]
    },
    {
      "cell_type": "markdown",
      "metadata": {
        "id": "zcBkXD0WTNgI"
      },
      "source": [
        "- **문항 6) Lemmatization을 진행한 뒤 상위 10개 단어를 입력하세요.**"
      ]
    },
    {
      "cell_type": "code",
      "execution_count": 17,
      "metadata": {
        "id": "O2cKokO8cXR5"
      },
      "outputs": [],
      "source": [
        "### 이곳에서 과제를 진행해 주세요 ### \n",
        "def get_lemmas(text):\n",
        "\n",
        "    lemmas = []\n",
        "    \n",
        "    doc = nlp(text)\n",
        "\n",
        "    for token in doc:\n",
        "        if (token.text.lower() not in STOP_WORDS) & (token.text.lower() != \"\\n\") & (token.text.lower() !=\"\\n\\n\"):\n",
        "            if ((token.is_stop == False) and (token.is_punct == False)) and (token.pos_ != 'PRON'):\n",
        "                lemmas.append(token.lemma_)\n",
        "   \n",
        "    return lemmas"
      ]
    },
    {
      "cell_type": "code",
      "source": [
        "df['lemmas'] = df['description'].apply(get_lemmas)\n",
        "wc_lemma = word_count(df['lemmas'])"
      ],
      "metadata": {
        "id": "NVaC8qpeo9QN"
      },
      "execution_count": 18,
      "outputs": []
    },
    {
      "cell_type": "code",
      "source": [
        "wc_lemma.head(10)"
      ],
      "metadata": {
        "id": "Y9gfn7T_pbPD",
        "outputId": "035cb89b-b06b-489e-85f5-5339fbed2d03",
        "colab": {
          "base_uri": "https://localhost:8080/",
          "height": 363
        }
      },
      "execution_count": 19,
      "outputs": [
        {
          "output_type": "execute_result",
          "data": {
            "text/plain": [
              "           word  word_in_docs  count  rank   percent  cul_percent  \\\n",
              "51   experience           710   3596   1.0  0.014625     0.014625   \n",
              "377        team           630   2241   2.0  0.009114     0.023740   \n",
              "250    business           528   2029   3.0  0.008252     0.031992   \n",
              "123    analysis           536   1545   4.0  0.006284     0.038276   \n",
              "185       model           518   1400   5.0  0.005694     0.043969   \n",
              "452    learning           474   1283   6.0  0.005218     0.049188   \n",
              "126     product           439   1194   7.0  0.004856     0.054044   \n",
              "165       skill           535   1180   8.0  0.004799     0.058843   \n",
              "177     include           509   1177   9.0  0.004787     0.063630   \n",
              "243    analytic           421   1145  10.0  0.004657     0.068287   \n",
              "\n",
              "     word_in_docs_percent  \n",
              "51               0.937913  \n",
              "377              0.832232  \n",
              "250              0.697490  \n",
              "123              0.708058  \n",
              "185              0.684280  \n",
              "452              0.626156  \n",
              "126              0.579921  \n",
              "165              0.706737  \n",
              "177              0.672391  \n",
              "243              0.556143  "
            ],
            "text/html": [
              "\n",
              "  <div id=\"df-e7460190-3a7c-4f2e-a95b-ea710887645f\">\n",
              "    <div class=\"colab-df-container\">\n",
              "      <div>\n",
              "<style scoped>\n",
              "    .dataframe tbody tr th:only-of-type {\n",
              "        vertical-align: middle;\n",
              "    }\n",
              "\n",
              "    .dataframe tbody tr th {\n",
              "        vertical-align: top;\n",
              "    }\n",
              "\n",
              "    .dataframe thead th {\n",
              "        text-align: right;\n",
              "    }\n",
              "</style>\n",
              "<table border=\"1\" class=\"dataframe\">\n",
              "  <thead>\n",
              "    <tr style=\"text-align: right;\">\n",
              "      <th></th>\n",
              "      <th>word</th>\n",
              "      <th>word_in_docs</th>\n",
              "      <th>count</th>\n",
              "      <th>rank</th>\n",
              "      <th>percent</th>\n",
              "      <th>cul_percent</th>\n",
              "      <th>word_in_docs_percent</th>\n",
              "    </tr>\n",
              "  </thead>\n",
              "  <tbody>\n",
              "    <tr>\n",
              "      <th>51</th>\n",
              "      <td>experience</td>\n",
              "      <td>710</td>\n",
              "      <td>3596</td>\n",
              "      <td>1.0</td>\n",
              "      <td>0.014625</td>\n",
              "      <td>0.014625</td>\n",
              "      <td>0.937913</td>\n",
              "    </tr>\n",
              "    <tr>\n",
              "      <th>377</th>\n",
              "      <td>team</td>\n",
              "      <td>630</td>\n",
              "      <td>2241</td>\n",
              "      <td>2.0</td>\n",
              "      <td>0.009114</td>\n",
              "      <td>0.023740</td>\n",
              "      <td>0.832232</td>\n",
              "    </tr>\n",
              "    <tr>\n",
              "      <th>250</th>\n",
              "      <td>business</td>\n",
              "      <td>528</td>\n",
              "      <td>2029</td>\n",
              "      <td>3.0</td>\n",
              "      <td>0.008252</td>\n",
              "      <td>0.031992</td>\n",
              "      <td>0.697490</td>\n",
              "    </tr>\n",
              "    <tr>\n",
              "      <th>123</th>\n",
              "      <td>analysis</td>\n",
              "      <td>536</td>\n",
              "      <td>1545</td>\n",
              "      <td>4.0</td>\n",
              "      <td>0.006284</td>\n",
              "      <td>0.038276</td>\n",
              "      <td>0.708058</td>\n",
              "    </tr>\n",
              "    <tr>\n",
              "      <th>185</th>\n",
              "      <td>model</td>\n",
              "      <td>518</td>\n",
              "      <td>1400</td>\n",
              "      <td>5.0</td>\n",
              "      <td>0.005694</td>\n",
              "      <td>0.043969</td>\n",
              "      <td>0.684280</td>\n",
              "    </tr>\n",
              "    <tr>\n",
              "      <th>452</th>\n",
              "      <td>learning</td>\n",
              "      <td>474</td>\n",
              "      <td>1283</td>\n",
              "      <td>6.0</td>\n",
              "      <td>0.005218</td>\n",
              "      <td>0.049188</td>\n",
              "      <td>0.626156</td>\n",
              "    </tr>\n",
              "    <tr>\n",
              "      <th>126</th>\n",
              "      <td>product</td>\n",
              "      <td>439</td>\n",
              "      <td>1194</td>\n",
              "      <td>7.0</td>\n",
              "      <td>0.004856</td>\n",
              "      <td>0.054044</td>\n",
              "      <td>0.579921</td>\n",
              "    </tr>\n",
              "    <tr>\n",
              "      <th>165</th>\n",
              "      <td>skill</td>\n",
              "      <td>535</td>\n",
              "      <td>1180</td>\n",
              "      <td>8.0</td>\n",
              "      <td>0.004799</td>\n",
              "      <td>0.058843</td>\n",
              "      <td>0.706737</td>\n",
              "    </tr>\n",
              "    <tr>\n",
              "      <th>177</th>\n",
              "      <td>include</td>\n",
              "      <td>509</td>\n",
              "      <td>1177</td>\n",
              "      <td>9.0</td>\n",
              "      <td>0.004787</td>\n",
              "      <td>0.063630</td>\n",
              "      <td>0.672391</td>\n",
              "    </tr>\n",
              "    <tr>\n",
              "      <th>243</th>\n",
              "      <td>analytic</td>\n",
              "      <td>421</td>\n",
              "      <td>1145</td>\n",
              "      <td>10.0</td>\n",
              "      <td>0.004657</td>\n",
              "      <td>0.068287</td>\n",
              "      <td>0.556143</td>\n",
              "    </tr>\n",
              "  </tbody>\n",
              "</table>\n",
              "</div>\n",
              "      <button class=\"colab-df-convert\" onclick=\"convertToInteractive('df-e7460190-3a7c-4f2e-a95b-ea710887645f')\"\n",
              "              title=\"Convert this dataframe to an interactive table.\"\n",
              "              style=\"display:none;\">\n",
              "        \n",
              "  <svg xmlns=\"http://www.w3.org/2000/svg\" height=\"24px\"viewBox=\"0 0 24 24\"\n",
              "       width=\"24px\">\n",
              "    <path d=\"M0 0h24v24H0V0z\" fill=\"none\"/>\n",
              "    <path d=\"M18.56 5.44l.94 2.06.94-2.06 2.06-.94-2.06-.94-.94-2.06-.94 2.06-2.06.94zm-11 1L8.5 8.5l.94-2.06 2.06-.94-2.06-.94L8.5 2.5l-.94 2.06-2.06.94zm10 10l.94 2.06.94-2.06 2.06-.94-2.06-.94-.94-2.06-.94 2.06-2.06.94z\"/><path d=\"M17.41 7.96l-1.37-1.37c-.4-.4-.92-.59-1.43-.59-.52 0-1.04.2-1.43.59L10.3 9.45l-7.72 7.72c-.78.78-.78 2.05 0 2.83L4 21.41c.39.39.9.59 1.41.59.51 0 1.02-.2 1.41-.59l7.78-7.78 2.81-2.81c.8-.78.8-2.07 0-2.86zM5.41 20L4 18.59l7.72-7.72 1.47 1.35L5.41 20z\"/>\n",
              "  </svg>\n",
              "      </button>\n",
              "      \n",
              "  <style>\n",
              "    .colab-df-container {\n",
              "      display:flex;\n",
              "      flex-wrap:wrap;\n",
              "      gap: 12px;\n",
              "    }\n",
              "\n",
              "    .colab-df-convert {\n",
              "      background-color: #E8F0FE;\n",
              "      border: none;\n",
              "      border-radius: 50%;\n",
              "      cursor: pointer;\n",
              "      display: none;\n",
              "      fill: #1967D2;\n",
              "      height: 32px;\n",
              "      padding: 0 0 0 0;\n",
              "      width: 32px;\n",
              "    }\n",
              "\n",
              "    .colab-df-convert:hover {\n",
              "      background-color: #E2EBFA;\n",
              "      box-shadow: 0px 1px 2px rgba(60, 64, 67, 0.3), 0px 1px 3px 1px rgba(60, 64, 67, 0.15);\n",
              "      fill: #174EA6;\n",
              "    }\n",
              "\n",
              "    [theme=dark] .colab-df-convert {\n",
              "      background-color: #3B4455;\n",
              "      fill: #D2E3FC;\n",
              "    }\n",
              "\n",
              "    [theme=dark] .colab-df-convert:hover {\n",
              "      background-color: #434B5C;\n",
              "      box-shadow: 0px 1px 3px 1px rgba(0, 0, 0, 0.15);\n",
              "      filter: drop-shadow(0px 1px 2px rgba(0, 0, 0, 0.3));\n",
              "      fill: #FFFFFF;\n",
              "    }\n",
              "  </style>\n",
              "\n",
              "      <script>\n",
              "        const buttonEl =\n",
              "          document.querySelector('#df-e7460190-3a7c-4f2e-a95b-ea710887645f button.colab-df-convert');\n",
              "        buttonEl.style.display =\n",
              "          google.colab.kernel.accessAllowed ? 'block' : 'none';\n",
              "\n",
              "        async function convertToInteractive(key) {\n",
              "          const element = document.querySelector('#df-e7460190-3a7c-4f2e-a95b-ea710887645f');\n",
              "          const dataTable =\n",
              "            await google.colab.kernel.invokeFunction('convertToInteractive',\n",
              "                                                     [key], {});\n",
              "          if (!dataTable) return;\n",
              "\n",
              "          const docLinkHtml = 'Like what you see? Visit the ' +\n",
              "            '<a target=\"_blank\" href=https://colab.research.google.com/notebooks/data_table.ipynb>data table notebook</a>'\n",
              "            + ' to learn more about interactive tables.';\n",
              "          element.innerHTML = '';\n",
              "          dataTable['output_type'] = 'display_data';\n",
              "          await google.colab.output.renderOutput(dataTable, element);\n",
              "          const docLink = document.createElement('div');\n",
              "          docLink.innerHTML = docLinkHtml;\n",
              "          element.appendChild(docLink);\n",
              "        }\n",
              "      </script>\n",
              "    </div>\n",
              "  </div>\n",
              "  "
            ]
          },
          "metadata": {},
          "execution_count": 19
        }
      ]
    },
    {
      "cell_type": "code",
      "source": [
        "df.head()"
      ],
      "metadata": {
        "id": "Jih0LqjepdgQ",
        "outputId": "7d17b785-8847-469a-84ca-9db024be6f5c",
        "colab": {
          "base_uri": "https://localhost:8080/",
          "height": 206
        }
      },
      "execution_count": 20,
      "outputs": [
        {
          "output_type": "execute_result",
          "data": {
            "text/plain": [
              "                                               title  \\\n",
              "0               Data Scientist (Structured Products)   \n",
              "2                           Specialist, Data Science   \n",
              "4                        Sr. Data Scientist (Remote)   \n",
              "5  Data Scientist Associate Sr (DADS06) BTB - LEG...   \n",
              "6                                     Data Scientist   \n",
              "\n",
              "                            company  \\\n",
              "0  EquiTrust Life Insurance Company   \n",
              "2                        Nationwide   \n",
              "4        American Credit Acceptance   \n",
              "5         JPMorgan Chase Bank, N.A.   \n",
              "6               VyStar Credit Union   \n",
              "\n",
              "                                         description  \\\n",
              "0  Job Details\\nDescription\\nEssential Duties and...   \n",
              "2  As a team member in the Finance and Internal A...   \n",
              "4  Overview:\\nAmerican Credit Acceptance seeks a ...   \n",
              "5  J.P. Morgan's Corporate & Investment Bank (CIB...   \n",
              "6  At VyStar, we offer competitive pay, an excell...   \n",
              "\n",
              "                                              tokens  \\\n",
              "0  [job, details, description, essential, duties,...   \n",
              "2  [team, member, finance, internal, audit, depar...   \n",
              "4  [overview:, american, credit, acceptance, seek...   \n",
              "5  [j.p., morgan's, corporate, &, investment, ban...   \n",
              "6  [vystar,, offer, competitive, pay,, excellent,...   \n",
              "\n",
              "                                              lemmas  \n",
              "0  [Job, Details, Description, Essential, Duties,...  \n",
              "2  [team, member, Finance, Internal, Audit, depar...  \n",
              "4  [overview, American, Credit, Acceptance, seek,...  \n",
              "5  [J.P., Morgan, Corporate, Investment, Bank, CI...  \n",
              "6  [VyStar, offer, competitive, pay, excellent, b...  "
            ],
            "text/html": [
              "\n",
              "  <div id=\"df-cd75e67b-586e-4c5a-a165-d894bde71f76\">\n",
              "    <div class=\"colab-df-container\">\n",
              "      <div>\n",
              "<style scoped>\n",
              "    .dataframe tbody tr th:only-of-type {\n",
              "        vertical-align: middle;\n",
              "    }\n",
              "\n",
              "    .dataframe tbody tr th {\n",
              "        vertical-align: top;\n",
              "    }\n",
              "\n",
              "    .dataframe thead th {\n",
              "        text-align: right;\n",
              "    }\n",
              "</style>\n",
              "<table border=\"1\" class=\"dataframe\">\n",
              "  <thead>\n",
              "    <tr style=\"text-align: right;\">\n",
              "      <th></th>\n",
              "      <th>title</th>\n",
              "      <th>company</th>\n",
              "      <th>description</th>\n",
              "      <th>tokens</th>\n",
              "      <th>lemmas</th>\n",
              "    </tr>\n",
              "  </thead>\n",
              "  <tbody>\n",
              "    <tr>\n",
              "      <th>0</th>\n",
              "      <td>Data Scientist (Structured Products)</td>\n",
              "      <td>EquiTrust Life Insurance Company</td>\n",
              "      <td>Job Details\\nDescription\\nEssential Duties and...</td>\n",
              "      <td>[job, details, description, essential, duties,...</td>\n",
              "      <td>[Job, Details, Description, Essential, Duties,...</td>\n",
              "    </tr>\n",
              "    <tr>\n",
              "      <th>2</th>\n",
              "      <td>Specialist, Data Science</td>\n",
              "      <td>Nationwide</td>\n",
              "      <td>As a team member in the Finance and Internal A...</td>\n",
              "      <td>[team, member, finance, internal, audit, depar...</td>\n",
              "      <td>[team, member, Finance, Internal, Audit, depar...</td>\n",
              "    </tr>\n",
              "    <tr>\n",
              "      <th>4</th>\n",
              "      <td>Sr. Data Scientist (Remote)</td>\n",
              "      <td>American Credit Acceptance</td>\n",
              "      <td>Overview:\\nAmerican Credit Acceptance seeks a ...</td>\n",
              "      <td>[overview:, american, credit, acceptance, seek...</td>\n",
              "      <td>[overview, American, Credit, Acceptance, seek,...</td>\n",
              "    </tr>\n",
              "    <tr>\n",
              "      <th>5</th>\n",
              "      <td>Data Scientist Associate Sr (DADS06) BTB - LEG...</td>\n",
              "      <td>JPMorgan Chase Bank, N.A.</td>\n",
              "      <td>J.P. Morgan's Corporate &amp; Investment Bank (CIB...</td>\n",
              "      <td>[j.p., morgan's, corporate, &amp;, investment, ban...</td>\n",
              "      <td>[J.P., Morgan, Corporate, Investment, Bank, CI...</td>\n",
              "    </tr>\n",
              "    <tr>\n",
              "      <th>6</th>\n",
              "      <td>Data Scientist</td>\n",
              "      <td>VyStar Credit Union</td>\n",
              "      <td>At VyStar, we offer competitive pay, an excell...</td>\n",
              "      <td>[vystar,, offer, competitive, pay,, excellent,...</td>\n",
              "      <td>[VyStar, offer, competitive, pay, excellent, b...</td>\n",
              "    </tr>\n",
              "  </tbody>\n",
              "</table>\n",
              "</div>\n",
              "      <button class=\"colab-df-convert\" onclick=\"convertToInteractive('df-cd75e67b-586e-4c5a-a165-d894bde71f76')\"\n",
              "              title=\"Convert this dataframe to an interactive table.\"\n",
              "              style=\"display:none;\">\n",
              "        \n",
              "  <svg xmlns=\"http://www.w3.org/2000/svg\" height=\"24px\"viewBox=\"0 0 24 24\"\n",
              "       width=\"24px\">\n",
              "    <path d=\"M0 0h24v24H0V0z\" fill=\"none\"/>\n",
              "    <path d=\"M18.56 5.44l.94 2.06.94-2.06 2.06-.94-2.06-.94-.94-2.06-.94 2.06-2.06.94zm-11 1L8.5 8.5l.94-2.06 2.06-.94-2.06-.94L8.5 2.5l-.94 2.06-2.06.94zm10 10l.94 2.06.94-2.06 2.06-.94-2.06-.94-.94-2.06-.94 2.06-2.06.94z\"/><path d=\"M17.41 7.96l-1.37-1.37c-.4-.4-.92-.59-1.43-.59-.52 0-1.04.2-1.43.59L10.3 9.45l-7.72 7.72c-.78.78-.78 2.05 0 2.83L4 21.41c.39.39.9.59 1.41.59.51 0 1.02-.2 1.41-.59l7.78-7.78 2.81-2.81c.8-.78.8-2.07 0-2.86zM5.41 20L4 18.59l7.72-7.72 1.47 1.35L5.41 20z\"/>\n",
              "  </svg>\n",
              "      </button>\n",
              "      \n",
              "  <style>\n",
              "    .colab-df-container {\n",
              "      display:flex;\n",
              "      flex-wrap:wrap;\n",
              "      gap: 12px;\n",
              "    }\n",
              "\n",
              "    .colab-df-convert {\n",
              "      background-color: #E8F0FE;\n",
              "      border: none;\n",
              "      border-radius: 50%;\n",
              "      cursor: pointer;\n",
              "      display: none;\n",
              "      fill: #1967D2;\n",
              "      height: 32px;\n",
              "      padding: 0 0 0 0;\n",
              "      width: 32px;\n",
              "    }\n",
              "\n",
              "    .colab-df-convert:hover {\n",
              "      background-color: #E2EBFA;\n",
              "      box-shadow: 0px 1px 2px rgba(60, 64, 67, 0.3), 0px 1px 3px 1px rgba(60, 64, 67, 0.15);\n",
              "      fill: #174EA6;\n",
              "    }\n",
              "\n",
              "    [theme=dark] .colab-df-convert {\n",
              "      background-color: #3B4455;\n",
              "      fill: #D2E3FC;\n",
              "    }\n",
              "\n",
              "    [theme=dark] .colab-df-convert:hover {\n",
              "      background-color: #434B5C;\n",
              "      box-shadow: 0px 1px 3px 1px rgba(0, 0, 0, 0.15);\n",
              "      filter: drop-shadow(0px 1px 2px rgba(0, 0, 0, 0.3));\n",
              "      fill: #FFFFFF;\n",
              "    }\n",
              "  </style>\n",
              "\n",
              "      <script>\n",
              "        const buttonEl =\n",
              "          document.querySelector('#df-cd75e67b-586e-4c5a-a165-d894bde71f76 button.colab-df-convert');\n",
              "        buttonEl.style.display =\n",
              "          google.colab.kernel.accessAllowed ? 'block' : 'none';\n",
              "\n",
              "        async function convertToInteractive(key) {\n",
              "          const element = document.querySelector('#df-cd75e67b-586e-4c5a-a165-d894bde71f76');\n",
              "          const dataTable =\n",
              "            await google.colab.kernel.invokeFunction('convertToInteractive',\n",
              "                                                     [key], {});\n",
              "          if (!dataTable) return;\n",
              "\n",
              "          const docLinkHtml = 'Like what you see? Visit the ' +\n",
              "            '<a target=\"_blank\" href=https://colab.research.google.com/notebooks/data_table.ipynb>data table notebook</a>'\n",
              "            + ' to learn more about interactive tables.';\n",
              "          element.innerHTML = '';\n",
              "          dataTable['output_type'] = 'display_data';\n",
              "          await google.colab.output.renderOutput(dataTable, element);\n",
              "          const docLink = document.createElement('div');\n",
              "          docLink.innerHTML = docLinkHtml;\n",
              "          element.appendChild(docLink);\n",
              "        }\n",
              "      </script>\n",
              "    </div>\n",
              "  </div>\n",
              "  "
            ]
          },
          "metadata": {},
          "execution_count": 20
        }
      ]
    },
    {
      "cell_type": "markdown",
      "metadata": {
        "id": "_uSNuY9UUl7P"
      },
      "source": [
        "## 2. 유사한 문서 찾기"
      ]
    },
    {
      "cell_type": "markdown",
      "metadata": {
        "id": "Spn3AFhIZBC9"
      },
      "source": [
        "### 1) `TfidfVectorizer`를 이용해 각 문서들을 벡터화 한 후 KNN 모델을 만들고, <br/> 내가 원하는 `job description`을 질의해 가장 가까운 검색 결과들을 가져오고 분석합니다."
      ]
    },
    {
      "cell_type": "markdown",
      "metadata": {
        "id": "WEtnD5gYZZ-c"
      },
      "source": [
        "- **문항 9) 88번 index의 `job description`와 5개의 가장 유사한 `job description`이 있는 index를 입력하세요.**\n",
        "    - 답은 88번 인덱스를 포함합니다.\n",
        "    - `max_features = 3000` 으로 설정합니다.\n",
        "    - [88, 90, 91, 93, 94] 형태로 답을 입력해주세요"
      ]
    },
    {
      "cell_type": "code",
      "source": [
        "from sklearn.feature_extraction.text import CountVectorizer, TfidfVectorizer\n",
        "from sklearn.neighbors import NearestNeighbors\n",
        "\n",
        "tfidf = TfidfVectorizer(stop_words='english', max_features= 3000)\n",
        "dtm_tfidf = tfidf.fit_transform(df['description'])\n",
        "dtm_tfidf = pd.DataFrame(dtm_tfidf.todense(), columns=tfidf.get_feature_names())\n",
        "\n",
        "knn = NearestNeighbors(n_neighbors=5, algorithm='kd_tree')\n",
        "knn.fit(dtm_tfidf)\n",
        "knn.kneighbors([dtm_tfidf.iloc[88]])"
      ],
      "metadata": {
        "id": "S-QeHtL6ppIA",
        "outputId": "feaba569-9e34-4a27-a4b7-3a7903276a6e",
        "colab": {
          "base_uri": "https://localhost:8080/"
        }
      },
      "execution_count": 21,
      "outputs": [
        {
          "output_type": "stream",
          "name": "stderr",
          "text": [
            "/usr/local/lib/python3.7/dist-packages/sklearn/utils/deprecation.py:87: FutureWarning: Function get_feature_names is deprecated; get_feature_names is deprecated in 1.0 and will be removed in 1.2. Please use get_feature_names_out instead.\n",
            "  warnings.warn(msg, category=FutureWarning)\n",
            "/usr/local/lib/python3.7/dist-packages/sklearn/base.py:451: UserWarning: X does not have valid feature names, but NearestNeighbors was fitted with feature names\n",
            "  \"X does not have valid feature names, but\"\n"
          ]
        },
        {
          "output_type": "execute_result",
          "data": {
            "text/plain": [
              "(array([[0.        , 1.1283426 , 1.18893646, 1.19442548, 1.19937307]]),\n",
              " array([[ 88,  40, 121,  68, 680]]))"
            ]
          },
          "metadata": {},
          "execution_count": 21
        }
      ]
    },
    {
      "cell_type": "code",
      "source": [
        "dtm_tfidf.shape"
      ],
      "metadata": {
        "id": "O91ULDEppp2V",
        "outputId": "d1ced209-9383-4c05-d987-03f9681d9c23",
        "colab": {
          "base_uri": "https://localhost:8080/"
        }
      },
      "execution_count": 22,
      "outputs": [
        {
          "output_type": "execute_result",
          "data": {
            "text/plain": [
              "(757, 3000)"
            ]
          },
          "metadata": {},
          "execution_count": 22
        }
      ]
    },
    {
      "cell_type": "code",
      "source": [
        "print(df['description'][88][:300])"
      ],
      "metadata": {
        "id": "Pmsp-_tSrJB7",
        "outputId": "4001f147-e7d9-4be1-b140-b4746609e6f5",
        "colab": {
          "base_uri": "https://localhost:8080/"
        }
      },
      "execution_count": 31,
      "outputs": [
        {
          "output_type": "stream",
          "name": "stdout",
          "text": [
            "We're looking for Data Scientists to work on our core and business products to help shape the future of what we build at Hyperspace Ventures. You will enjoy working with various data sets, cutting edge technology, and the ability to see your insights turned into real products on a regular basis. The\n"
          ]
        }
      ]
    },
    {
      "cell_type": "code",
      "source": [
        "print(df['description'][40][:300])"
      ],
      "metadata": {
        "id": "7lTq6yc-rKqv",
        "outputId": "f8d34c27-eaea-4d9b-e7aa-18228e7d1f34",
        "colab": {
          "base_uri": "https://localhost:8080/"
        }
      },
      "execution_count": 32,
      "outputs": [
        {
          "output_type": "stream",
          "name": "stdout",
          "text": [
            "Bachelor's Degree3+ years of experience with data scripting languages (e.g SQL, Python, R etc.) or statistical/mathematical software (e.g. R, SAS, or Matlab)2 years working as a Data Scientist\n",
            "\n",
            "Do you want to be part of a team dedicated to building machine learning applications that process billions\n"
          ]
        }
      ]
    },
    {
      "cell_type": "markdown",
      "metadata": {
        "id": "BqLegkaqnGUZ"
      },
      "source": [
        "## 3. TF-IDF 이용한 텍스트 분류 진행하기"
      ]
    },
    {
      "cell_type": "markdown",
      "metadata": {
        "id": "3rwcwt08nGUa"
      },
      "source": [
        "TF-IDF를 이용해 문장 혹은 문서를 벡터화한 경우, 이 벡터값을 이용해 문서 분류 태스크를 진행할 수 있습니다. \n",
        "\n",
        "현재 다루고 있는 데이터셋에는 label이 존재하지 않으므로, title 컬럼에 \"Senior\"가 있는지 없는지 여부를 통해 Senior 직무 여부를 분류하는 작업을 진행해보겠습니다."
      ]
    },
    {
      "cell_type": "markdown",
      "metadata": {
        "id": "2y6Hy_xBnGUa"
      },
      "source": [
        "### 1) title 컬럼에 \"Senior\" 문자열이 있으면 1, 없으면 0인 \"Senior\"라는 새로운 컬럼을 생성해주세요."
      ]
    },
    {
      "cell_type": "markdown",
      "metadata": {
        "id": "oV7CmwgenGUa"
      },
      "source": [
        "문항 7) 새롭게 만든 Senior 컬럼에서 값이 1인 (Senior O) 데이터의 개수는?"
      ]
    },
    {
      "cell_type": "code",
      "execution_count": 23,
      "metadata": {
        "id": "7nDb8dfMnGUa"
      },
      "outputs": [],
      "source": [
        "df['senior'] = df['title'].apply(lambda x: 1 if 'Senior' in x else 0)"
      ]
    },
    {
      "cell_type": "code",
      "source": [
        "df['senior'].value_counts()"
      ],
      "metadata": {
        "id": "jIAOxi7mp_Il",
        "outputId": "6b6ec526-c7ea-4bca-e54b-6abb38e2ca7f",
        "colab": {
          "base_uri": "https://localhost:8080/"
        }
      },
      "execution_count": 24,
      "outputs": [
        {
          "output_type": "execute_result",
          "data": {
            "text/plain": [
              "0    662\n",
              "1     95\n",
              "Name: senior, dtype: int64"
            ]
          },
          "metadata": {},
          "execution_count": 24
        }
      ]
    },
    {
      "cell_type": "markdown",
      "metadata": {
        "id": "XOCOB54DnGUa"
      },
      "source": [
        "문항 8) sklearn의 `train_test_split`을 통해 train 데이터와 valid 데이터로 나눈 후, `sklearn`의 `DecisionTreeClassifier`를 이용해 분류를 진행해주세요. \n",
        "\n",
        "단, x값은 위에서 학습한 dtm_tfidf를 그대로 이용해주세요. train_test_split과 DecisionTreeClassifier의 random_state을 42로 고정하고, test_size는 0.1로 설정해주세요.\n",
        "\n",
        "학습을 완료한 후, test 데이터에 대한 예측을 진행하고 label 1에 대한 precision과 recall 값을 적어주세요"
      ]
    },
    {
      "cell_type": "code",
      "execution_count": 25,
      "metadata": {
        "id": "PHCATtY8cX5b"
      },
      "outputs": [],
      "source": [
        "### 이곳에서 과제를 진행해 주세요 ### \n",
        "from sklearn.tree import DecisionTreeClassifier\n",
        "from sklearn.metrics import recall_score, precision_score\n",
        "from sklearn.model_selection import train_test_split"
      ]
    },
    {
      "cell_type": "code",
      "source": [
        "X_train, X_test, y_train, y_test = train_test_split(dtm_tfidf, df['senior'], test_size=0.1,  random_state=42)\n",
        "\n",
        "model = DecisionTreeClassifier(random_state=42)\n",
        "\n",
        "model.fit(X_train, y_train)\n",
        "y_pred = model.predict(X_test)\n",
        "\n",
        "print(f\"Precision Score : {precision_score(y_test, y_pred)}, Recall Score : {recall_score(y_test, y_pred)}\")"
      ],
      "metadata": {
        "id": "aDYnK7-IqCSL",
        "outputId": "b95ab2f6-f9ae-4ffb-82e6-a9db13095595",
        "colab": {
          "base_uri": "https://localhost:8080/"
        }
      },
      "execution_count": 26,
      "outputs": [
        {
          "output_type": "stream",
          "name": "stdout",
          "text": [
            "Precision Score : 0.26666666666666666, Recall Score : 0.5\n"
          ]
        }
      ]
    }
  ],
  "metadata": {
    "colab": {
      "collapsed_sections": [],
      "name": "N421a_Count-based_Representation.ipynb",
      "provenance": []
    },
    "kernelspec": {
      "display_name": "Python 3 (ipykernel)",
      "language": "python",
      "name": "python3"
    },
    "language_info": {
      "codemirror_mode": {
        "name": "ipython",
        "version": 3
      },
      "file_extension": ".py",
      "mimetype": "text/x-python",
      "name": "python",
      "nbconvert_exporter": "python",
      "pygments_lexer": "ipython3",
      "version": "3.8.10"
    },
    "toc-autonumbering": false
  },
  "nbformat": 4,
  "nbformat_minor": 0
}