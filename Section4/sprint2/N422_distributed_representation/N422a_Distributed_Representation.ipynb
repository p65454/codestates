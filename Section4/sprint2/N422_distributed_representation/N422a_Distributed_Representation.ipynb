{
  "cells": [
    {
      "cell_type": "markdown",
      "metadata": {
        "id": "4GCEleoCVpbI"
      },
      "source": [
        "<img align=\"right\" src=\"https://ds-cs-images.s3.ap-northeast-2.amazonaws.com/Codestates_Fulllogo_Color.png\" width=100>\n",
        "\n",
        "## *AIB / SECTION 4 / SPRINT 2 / NOTE 2*\n",
        "\n",
        "# 📝 Assignment\n",
        "\n",
        "---\n",
        "\n",
        "\n",
        "# Distributed_Representation"
      ]
    },
    {
      "cell_type": "markdown",
      "metadata": {
        "id": "WCHZ5i-ReMD2"
      },
      "source": [
        "## Code"
      ]
    },
    {
      "cell_type": "markdown",
      "metadata": {
        "id": "Wz-FNnfdeQfF"
      },
      "source": [
        "캐글의 [SMS Spam dataset](https://www.kaggle.com/uciml/sms-spam-collection-dataset) 에 사전 학습된 Word2Vec 임베딩 벡터를 적용하여 분류해봅시다.<br/>\n",
        "세션 노트에 있었던 단어 임베딩 벡터를 평균내어 분류하는 방법을 적용해봅시다."
      ]
    },
    {
      "cell_type": "code",
      "execution_count": 1,
      "metadata": {
        "colab": {
          "base_uri": "https://localhost:8080/"
        },
        "id": "Bu5ftcG8goWU",
        "outputId": "661931b6-ab6f-4dd2-e641-37a1493771a6"
      },
      "outputs": [
        {
          "output_type": "stream",
          "name": "stdout",
          "text": [
            "Looking in indexes: https://pypi.org/simple, https://us-python.pkg.dev/colab-wheels/public/simple/\n",
            "Requirement already satisfied: gensim in /usr/local/lib/python3.7/dist-packages (3.6.0)\n",
            "Collecting gensim\n",
            "  Downloading gensim-4.2.0-cp37-cp37m-manylinux_2_12_x86_64.manylinux2010_x86_64.whl (24.1 MB)\n",
            "\u001b[K     |████████████████████████████████| 24.1 MB 1.6 MB/s \n",
            "\u001b[?25hRequirement already satisfied: numpy>=1.17.0 in /usr/local/lib/python3.7/dist-packages (from gensim) (1.21.6)\n",
            "Requirement already satisfied: scipy>=0.18.1 in /usr/local/lib/python3.7/dist-packages (from gensim) (1.7.3)\n",
            "Requirement already satisfied: smart-open>=1.8.1 in /usr/local/lib/python3.7/dist-packages (from gensim) (5.2.1)\n",
            "Installing collected packages: gensim\n",
            "  Attempting uninstall: gensim\n",
            "    Found existing installation: gensim 3.6.0\n",
            "    Uninstalling gensim-3.6.0:\n",
            "      Successfully uninstalled gensim-3.6.0\n",
            "Successfully installed gensim-4.2.0\n"
          ]
        }
      ],
      "source": [
        "!pip install gensim --upgrade"
      ]
    },
    {
      "cell_type": "code",
      "execution_count": 2,
      "metadata": {
        "colab": {
          "base_uri": "https://localhost:8080/",
          "height": 35
        },
        "id": "CPg5ipdVgrKS",
        "outputId": "d59a1ca8-bc30-4edd-e836-28c85f09a7af"
      },
      "outputs": [
        {
          "output_type": "execute_result",
          "data": {
            "text/plain": [
              "'4.2.0'"
            ],
            "application/vnd.google.colaboratory.intrinsic+json": {
              "type": "string"
            }
          },
          "metadata": {},
          "execution_count": 2
        }
      ],
      "source": [
        "import gensim\n",
        "\n",
        "gensim.__version__"
      ]
    },
    {
      "cell_type": "code",
      "execution_count": 3,
      "metadata": {
        "id": "57YnoEphgtcL",
        "outputId": "74e08233-951a-407f-8495-eee7b073d3e8",
        "colab": {
          "base_uri": "https://localhost:8080/"
        }
      },
      "outputs": [
        {
          "output_type": "stream",
          "name": "stdout",
          "text": [
            "[==================================================] 100.0% 1662.8/1662.8MB downloaded\n"
          ]
        }
      ],
      "source": [
        "import gensim.downloader as api\n",
        "\n",
        "wv = api.load('word2vec-google-news-300')"
      ]
    },
    {
      "cell_type": "markdown",
      "metadata": {
        "id": "vrSHrTD-rg89"
      },
      "source": [
        "### 1. Word2Vec과 코사인 유사도"
      ]
    },
    {
      "cell_type": "markdown",
      "metadata": {
        "id": "m3pIn6RTrg8-"
      },
      "source": [
        "word2vec을 이용해 구한 'data'와 'science'임베딩 값의 코사인 유사도를 구해보겠습니다. sklearn의 cosine_similarity를 이용하겠습니다."
      ]
    },
    {
      "cell_type": "code",
      "execution_count": 5,
      "metadata": {
        "id": "1WKih60Brg8-",
        "outputId": "cfc80c42-0924-445c-94b6-d99bc1c1c6b0",
        "colab": {
          "base_uri": "https://localhost:8080/"
        }
      },
      "outputs": [
        {
          "output_type": "execute_result",
          "data": {
            "text/plain": [
              "array([[0.1575913]], dtype=float32)"
            ]
          },
          "metadata": {},
          "execution_count": 5
        }
      ],
      "source": [
        "from sklearn.metrics.pairwise import cosine_similarity\n",
        "\n",
        "cosine_similarity(wv['data'].reshape(1, -1), wv['science'].reshape(1, -1))"
      ]
    },
    {
      "cell_type": "markdown",
      "metadata": {
        "id": "BIBj6ujXrg8_"
      },
      "source": [
        "문항 1) 위에서 구한 코사인 유사도를 소수점 3째자리까지 입력하세요"
      ]
    },
    {
      "cell_type": "code",
      "execution_count": 6,
      "metadata": {
        "id": "O8Vw1n9ugZZy"
      },
      "outputs": [],
      "source": [
        "import numpy as np\n",
        "import pandas as pd\n",
        "import tensorflow as tf\n",
        "import matplotlib.pyplot as plt\n",
        "import seaborn as sns\n",
        "from sklearn.model_selection import train_test_split\n",
        "from sklearn.preprocessing import LabelEncoder\n",
        "\n",
        "from keras.preprocessing import sequence\n",
        "from tensorflow.keras.preprocessing.sequence import pad_sequences\n",
        "from tensorflow.keras.models import Sequential\n",
        "from tensorflow.keras.layers import Dense, Embedding, GlobalAveragePooling1D\n",
        "from tensorflow.keras.preprocessing.text import Tokenizer"
      ]
    },
    {
      "cell_type": "markdown",
      "metadata": {
        "id": "cPC8Kd3lrg9A"
      },
      "source": [
        "### 2. 텍스트 분류"
      ]
    },
    {
      "cell_type": "markdown",
      "metadata": {
        "id": "qhsyLoZZv_RN"
      },
      "source": [
        "### 1) 데이터 전처리\n",
        "    \n",
        "- 데이터셋을 데이터프레임으로 읽어옵니다 `encoding = 'latin-1'` 을 사용합니다.\n",
        "- 필요없는 열(column)을 삭제합니다.\n",
        "- LabelEncoder를 사용하여 label 전처리를 해줍니다. "
      ]
    },
    {
      "cell_type": "code",
      "execution_count": 7,
      "metadata": {
        "colab": {
          "base_uri": "https://localhost:8080/",
          "height": 77,
          "resources": {
            "http://localhost:8080/nbextensions/google.colab/files.js": {
              "data": "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",
              "headers": [
                [
                  "content-type",
                  "application/javascript"
                ]
              ],
              "ok": true,
              "status": 200,
              "status_text": ""
            }
          }
        },
        "id": "tLVumDzBhD9p",
        "outputId": "20919385-32bb-4168-9876-a078e331e6ba"
      },
      "outputs": [
        {
          "output_type": "display_data",
          "data": {
            "text/plain": [
              "<IPython.core.display.HTML object>"
            ],
            "text/html": [
              "\n",
              "     <input type=\"file\" id=\"files-f30ca659-625c-430a-bb17-3e4ddd45399a\" name=\"files[]\" multiple disabled\n",
              "        style=\"border:none\" />\n",
              "     <output id=\"result-f30ca659-625c-430a-bb17-3e4ddd45399a\">\n",
              "      Upload widget is only available when the cell has been executed in the\n",
              "      current browser session. Please rerun this cell to enable.\n",
              "      </output>\n",
              "      <script src=\"/nbextensions/google.colab/files.js\"></script> "
            ]
          },
          "metadata": {}
        },
        {
          "output_type": "stream",
          "name": "stdout",
          "text": [
            "Saving spam.csv to spam.csv\n"
          ]
        }
      ],
      "source": [
        "from google.colab import files\n",
        "\n",
        "file = files.upload()"
      ]
    },
    {
      "cell_type": "code",
      "source": [
        "df = pd.read_csv('spam.csv', encoding='latin-1').dropna(axis= 1)"
      ],
      "metadata": {
        "id": "aJJsdq2Nw0-E"
      },
      "execution_count": 13,
      "outputs": []
    },
    {
      "cell_type": "code",
      "source": [
        "df.head()"
      ],
      "metadata": {
        "id": "EHeT9zPUw145",
        "outputId": "e319ee10-bf5a-4eac-b620-caa6d3fdac31",
        "colab": {
          "base_uri": "https://localhost:8080/",
          "height": 206
        }
      },
      "execution_count": 14,
      "outputs": [
        {
          "output_type": "execute_result",
          "data": {
            "text/plain": [
              "     v1                                                 v2\n",
              "0   ham  Go until jurong point, crazy.. Available only ...\n",
              "1   ham                      Ok lar... Joking wif u oni...\n",
              "2  spam  Free entry in 2 a wkly comp to win FA Cup fina...\n",
              "3   ham  U dun say so early hor... U c already then say...\n",
              "4   ham  Nah I don't think he goes to usf, he lives aro..."
            ],
            "text/html": [
              "\n",
              "  <div id=\"df-f6a55918-aa9e-4752-9331-84f08a2779bc\">\n",
              "    <div class=\"colab-df-container\">\n",
              "      <div>\n",
              "<style scoped>\n",
              "    .dataframe tbody tr th:only-of-type {\n",
              "        vertical-align: middle;\n",
              "    }\n",
              "\n",
              "    .dataframe tbody tr th {\n",
              "        vertical-align: top;\n",
              "    }\n",
              "\n",
              "    .dataframe thead th {\n",
              "        text-align: right;\n",
              "    }\n",
              "</style>\n",
              "<table border=\"1\" class=\"dataframe\">\n",
              "  <thead>\n",
              "    <tr style=\"text-align: right;\">\n",
              "      <th></th>\n",
              "      <th>v1</th>\n",
              "      <th>v2</th>\n",
              "    </tr>\n",
              "  </thead>\n",
              "  <tbody>\n",
              "    <tr>\n",
              "      <th>0</th>\n",
              "      <td>ham</td>\n",
              "      <td>Go until jurong point, crazy.. Available only ...</td>\n",
              "    </tr>\n",
              "    <tr>\n",
              "      <th>1</th>\n",
              "      <td>ham</td>\n",
              "      <td>Ok lar... Joking wif u oni...</td>\n",
              "    </tr>\n",
              "    <tr>\n",
              "      <th>2</th>\n",
              "      <td>spam</td>\n",
              "      <td>Free entry in 2 a wkly comp to win FA Cup fina...</td>\n",
              "    </tr>\n",
              "    <tr>\n",
              "      <th>3</th>\n",
              "      <td>ham</td>\n",
              "      <td>U dun say so early hor... U c already then say...</td>\n",
              "    </tr>\n",
              "    <tr>\n",
              "      <th>4</th>\n",
              "      <td>ham</td>\n",
              "      <td>Nah I don't think he goes to usf, he lives aro...</td>\n",
              "    </tr>\n",
              "  </tbody>\n",
              "</table>\n",
              "</div>\n",
              "      <button class=\"colab-df-convert\" onclick=\"convertToInteractive('df-f6a55918-aa9e-4752-9331-84f08a2779bc')\"\n",
              "              title=\"Convert this dataframe to an interactive table.\"\n",
              "              style=\"display:none;\">\n",
              "        \n",
              "  <svg xmlns=\"http://www.w3.org/2000/svg\" height=\"24px\"viewBox=\"0 0 24 24\"\n",
              "       width=\"24px\">\n",
              "    <path d=\"M0 0h24v24H0V0z\" fill=\"none\"/>\n",
              "    <path d=\"M18.56 5.44l.94 2.06.94-2.06 2.06-.94-2.06-.94-.94-2.06-.94 2.06-2.06.94zm-11 1L8.5 8.5l.94-2.06 2.06-.94-2.06-.94L8.5 2.5l-.94 2.06-2.06.94zm10 10l.94 2.06.94-2.06 2.06-.94-2.06-.94-.94-2.06-.94 2.06-2.06.94z\"/><path d=\"M17.41 7.96l-1.37-1.37c-.4-.4-.92-.59-1.43-.59-.52 0-1.04.2-1.43.59L10.3 9.45l-7.72 7.72c-.78.78-.78 2.05 0 2.83L4 21.41c.39.39.9.59 1.41.59.51 0 1.02-.2 1.41-.59l7.78-7.78 2.81-2.81c.8-.78.8-2.07 0-2.86zM5.41 20L4 18.59l7.72-7.72 1.47 1.35L5.41 20z\"/>\n",
              "  </svg>\n",
              "      </button>\n",
              "      \n",
              "  <style>\n",
              "    .colab-df-container {\n",
              "      display:flex;\n",
              "      flex-wrap:wrap;\n",
              "      gap: 12px;\n",
              "    }\n",
              "\n",
              "    .colab-df-convert {\n",
              "      background-color: #E8F0FE;\n",
              "      border: none;\n",
              "      border-radius: 50%;\n",
              "      cursor: pointer;\n",
              "      display: none;\n",
              "      fill: #1967D2;\n",
              "      height: 32px;\n",
              "      padding: 0 0 0 0;\n",
              "      width: 32px;\n",
              "    }\n",
              "\n",
              "    .colab-df-convert:hover {\n",
              "      background-color: #E2EBFA;\n",
              "      box-shadow: 0px 1px 2px rgba(60, 64, 67, 0.3), 0px 1px 3px 1px rgba(60, 64, 67, 0.15);\n",
              "      fill: #174EA6;\n",
              "    }\n",
              "\n",
              "    [theme=dark] .colab-df-convert {\n",
              "      background-color: #3B4455;\n",
              "      fill: #D2E3FC;\n",
              "    }\n",
              "\n",
              "    [theme=dark] .colab-df-convert:hover {\n",
              "      background-color: #434B5C;\n",
              "      box-shadow: 0px 1px 3px 1px rgba(0, 0, 0, 0.15);\n",
              "      filter: drop-shadow(0px 1px 2px rgba(0, 0, 0, 0.3));\n",
              "      fill: #FFFFFF;\n",
              "    }\n",
              "  </style>\n",
              "\n",
              "      <script>\n",
              "        const buttonEl =\n",
              "          document.querySelector('#df-f6a55918-aa9e-4752-9331-84f08a2779bc button.colab-df-convert');\n",
              "        buttonEl.style.display =\n",
              "          google.colab.kernel.accessAllowed ? 'block' : 'none';\n",
              "\n",
              "        async function convertToInteractive(key) {\n",
              "          const element = document.querySelector('#df-f6a55918-aa9e-4752-9331-84f08a2779bc');\n",
              "          const dataTable =\n",
              "            await google.colab.kernel.invokeFunction('convertToInteractive',\n",
              "                                                     [key], {});\n",
              "          if (!dataTable) return;\n",
              "\n",
              "          const docLinkHtml = 'Like what you see? Visit the ' +\n",
              "            '<a target=\"_blank\" href=https://colab.research.google.com/notebooks/data_table.ipynb>data table notebook</a>'\n",
              "            + ' to learn more about interactive tables.';\n",
              "          element.innerHTML = '';\n",
              "          dataTable['output_type'] = 'display_data';\n",
              "          await google.colab.output.renderOutput(dataTable, element);\n",
              "          const docLink = document.createElement('div');\n",
              "          docLink.innerHTML = docLinkHtml;\n",
              "          element.appendChild(docLink);\n",
              "        }\n",
              "      </script>\n",
              "    </div>\n",
              "  </div>\n",
              "  "
            ]
          },
          "metadata": {},
          "execution_count": 14
        }
      ]
    },
    {
      "cell_type": "code",
      "source": [
        "df['v1'].value_counts()"
      ],
      "metadata": {
        "id": "LzBlFFFhxtPT",
        "outputId": "652e9fd9-da1f-47e4-8b63-30a1fa74923d",
        "colab": {
          "base_uri": "https://localhost:8080/"
        }
      },
      "execution_count": 15,
      "outputs": [
        {
          "output_type": "execute_result",
          "data": {
            "text/plain": [
              "ham     4825\n",
              "spam     747\n",
              "Name: v1, dtype: int64"
            ]
          },
          "metadata": {},
          "execution_count": 15
        }
      ]
    },
    {
      "cell_type": "code",
      "source": [
        "df['v1'] = LabelEncoder().fit_transform(df['v1'])\n",
        "df"
      ],
      "metadata": {
        "id": "my0XNplrw7PR",
        "outputId": "8a205f19-c075-4c86-e4d7-f2aa74519f0e",
        "colab": {
          "base_uri": "https://localhost:8080/",
          "height": 424
        }
      },
      "execution_count": 16,
      "outputs": [
        {
          "output_type": "execute_result",
          "data": {
            "text/plain": [
              "      v1                                                 v2\n",
              "0      0  Go until jurong point, crazy.. Available only ...\n",
              "1      0                      Ok lar... Joking wif u oni...\n",
              "2      1  Free entry in 2 a wkly comp to win FA Cup fina...\n",
              "3      0  U dun say so early hor... U c already then say...\n",
              "4      0  Nah I don't think he goes to usf, he lives aro...\n",
              "...   ..                                                ...\n",
              "5567   1  This is the 2nd time we have tried 2 contact u...\n",
              "5568   0              Will Ì_ b going to esplanade fr home?\n",
              "5569   0  Pity, * was in mood for that. So...any other s...\n",
              "5570   0  The guy did some bitching but I acted like i'd...\n",
              "5571   0                         Rofl. Its true to its name\n",
              "\n",
              "[5572 rows x 2 columns]"
            ],
            "text/html": [
              "\n",
              "  <div id=\"df-4abad452-3788-4b0d-a9d2-a7254042ed5e\">\n",
              "    <div class=\"colab-df-container\">\n",
              "      <div>\n",
              "<style scoped>\n",
              "    .dataframe tbody tr th:only-of-type {\n",
              "        vertical-align: middle;\n",
              "    }\n",
              "\n",
              "    .dataframe tbody tr th {\n",
              "        vertical-align: top;\n",
              "    }\n",
              "\n",
              "    .dataframe thead th {\n",
              "        text-align: right;\n",
              "    }\n",
              "</style>\n",
              "<table border=\"1\" class=\"dataframe\">\n",
              "  <thead>\n",
              "    <tr style=\"text-align: right;\">\n",
              "      <th></th>\n",
              "      <th>v1</th>\n",
              "      <th>v2</th>\n",
              "    </tr>\n",
              "  </thead>\n",
              "  <tbody>\n",
              "    <tr>\n",
              "      <th>0</th>\n",
              "      <td>0</td>\n",
              "      <td>Go until jurong point, crazy.. Available only ...</td>\n",
              "    </tr>\n",
              "    <tr>\n",
              "      <th>1</th>\n",
              "      <td>0</td>\n",
              "      <td>Ok lar... Joking wif u oni...</td>\n",
              "    </tr>\n",
              "    <tr>\n",
              "      <th>2</th>\n",
              "      <td>1</td>\n",
              "      <td>Free entry in 2 a wkly comp to win FA Cup fina...</td>\n",
              "    </tr>\n",
              "    <tr>\n",
              "      <th>3</th>\n",
              "      <td>0</td>\n",
              "      <td>U dun say so early hor... U c already then say...</td>\n",
              "    </tr>\n",
              "    <tr>\n",
              "      <th>4</th>\n",
              "      <td>0</td>\n",
              "      <td>Nah I don't think he goes to usf, he lives aro...</td>\n",
              "    </tr>\n",
              "    <tr>\n",
              "      <th>...</th>\n",
              "      <td>...</td>\n",
              "      <td>...</td>\n",
              "    </tr>\n",
              "    <tr>\n",
              "      <th>5567</th>\n",
              "      <td>1</td>\n",
              "      <td>This is the 2nd time we have tried 2 contact u...</td>\n",
              "    </tr>\n",
              "    <tr>\n",
              "      <th>5568</th>\n",
              "      <td>0</td>\n",
              "      <td>Will Ì_ b going to esplanade fr home?</td>\n",
              "    </tr>\n",
              "    <tr>\n",
              "      <th>5569</th>\n",
              "      <td>0</td>\n",
              "      <td>Pity, * was in mood for that. So...any other s...</td>\n",
              "    </tr>\n",
              "    <tr>\n",
              "      <th>5570</th>\n",
              "      <td>0</td>\n",
              "      <td>The guy did some bitching but I acted like i'd...</td>\n",
              "    </tr>\n",
              "    <tr>\n",
              "      <th>5571</th>\n",
              "      <td>0</td>\n",
              "      <td>Rofl. Its true to its name</td>\n",
              "    </tr>\n",
              "  </tbody>\n",
              "</table>\n",
              "<p>5572 rows × 2 columns</p>\n",
              "</div>\n",
              "      <button class=\"colab-df-convert\" onclick=\"convertToInteractive('df-4abad452-3788-4b0d-a9d2-a7254042ed5e')\"\n",
              "              title=\"Convert this dataframe to an interactive table.\"\n",
              "              style=\"display:none;\">\n",
              "        \n",
              "  <svg xmlns=\"http://www.w3.org/2000/svg\" height=\"24px\"viewBox=\"0 0 24 24\"\n",
              "       width=\"24px\">\n",
              "    <path d=\"M0 0h24v24H0V0z\" fill=\"none\"/>\n",
              "    <path d=\"M18.56 5.44l.94 2.06.94-2.06 2.06-.94-2.06-.94-.94-2.06-.94 2.06-2.06.94zm-11 1L8.5 8.5l.94-2.06 2.06-.94-2.06-.94L8.5 2.5l-.94 2.06-2.06.94zm10 10l.94 2.06.94-2.06 2.06-.94-2.06-.94-.94-2.06-.94 2.06-2.06.94z\"/><path d=\"M17.41 7.96l-1.37-1.37c-.4-.4-.92-.59-1.43-.59-.52 0-1.04.2-1.43.59L10.3 9.45l-7.72 7.72c-.78.78-.78 2.05 0 2.83L4 21.41c.39.39.9.59 1.41.59.51 0 1.02-.2 1.41-.59l7.78-7.78 2.81-2.81c.8-.78.8-2.07 0-2.86zM5.41 20L4 18.59l7.72-7.72 1.47 1.35L5.41 20z\"/>\n",
              "  </svg>\n",
              "      </button>\n",
              "      \n",
              "  <style>\n",
              "    .colab-df-container {\n",
              "      display:flex;\n",
              "      flex-wrap:wrap;\n",
              "      gap: 12px;\n",
              "    }\n",
              "\n",
              "    .colab-df-convert {\n",
              "      background-color: #E8F0FE;\n",
              "      border: none;\n",
              "      border-radius: 50%;\n",
              "      cursor: pointer;\n",
              "      display: none;\n",
              "      fill: #1967D2;\n",
              "      height: 32px;\n",
              "      padding: 0 0 0 0;\n",
              "      width: 32px;\n",
              "    }\n",
              "\n",
              "    .colab-df-convert:hover {\n",
              "      background-color: #E2EBFA;\n",
              "      box-shadow: 0px 1px 2px rgba(60, 64, 67, 0.3), 0px 1px 3px 1px rgba(60, 64, 67, 0.15);\n",
              "      fill: #174EA6;\n",
              "    }\n",
              "\n",
              "    [theme=dark] .colab-df-convert {\n",
              "      background-color: #3B4455;\n",
              "      fill: #D2E3FC;\n",
              "    }\n",
              "\n",
              "    [theme=dark] .colab-df-convert:hover {\n",
              "      background-color: #434B5C;\n",
              "      box-shadow: 0px 1px 3px 1px rgba(0, 0, 0, 0.15);\n",
              "      filter: drop-shadow(0px 1px 2px rgba(0, 0, 0, 0.3));\n",
              "      fill: #FFFFFF;\n",
              "    }\n",
              "  </style>\n",
              "\n",
              "      <script>\n",
              "        const buttonEl =\n",
              "          document.querySelector('#df-4abad452-3788-4b0d-a9d2-a7254042ed5e button.colab-df-convert');\n",
              "        buttonEl.style.display =\n",
              "          google.colab.kernel.accessAllowed ? 'block' : 'none';\n",
              "\n",
              "        async function convertToInteractive(key) {\n",
              "          const element = document.querySelector('#df-4abad452-3788-4b0d-a9d2-a7254042ed5e');\n",
              "          const dataTable =\n",
              "            await google.colab.kernel.invokeFunction('convertToInteractive',\n",
              "                                                     [key], {});\n",
              "          if (!dataTable) return;\n",
              "\n",
              "          const docLinkHtml = 'Like what you see? Visit the ' +\n",
              "            '<a target=\"_blank\" href=https://colab.research.google.com/notebooks/data_table.ipynb>data table notebook</a>'\n",
              "            + ' to learn more about interactive tables.';\n",
              "          element.innerHTML = '';\n",
              "          dataTable['output_type'] = 'display_data';\n",
              "          await google.colab.output.renderOutput(dataTable, element);\n",
              "          const docLink = document.createElement('div');\n",
              "          docLink.innerHTML = docLinkHtml;\n",
              "          element.appendChild(docLink);\n",
              "        }\n",
              "      </script>\n",
              "    </div>\n",
              "  </div>\n",
              "  "
            ]
          },
          "metadata": {},
          "execution_count": 16
        }
      ]
    },
    {
      "cell_type": "markdown",
      "metadata": {
        "id": "mpQO0WYZv6oK"
      },
      "source": [
        "### 2) 텍스트 분류를 수행해주세요.\n",
        "\n",
        "- 데이터셋 split시 test_size의 비율은 15%로, `random_state = 42` 로 설정합니다. \n",
        "- Tokenizer의 `num_words = 1000` 으로 설정합니다.\n",
        "- pad_sequence의 `maxlen=150` 으로 설정합니다.\n",
        "- 학습 시, 파라미터는 `batch_size=64, epochs=10, validation_split=0.2` 로 설정합니다.\n",
        "- evaluate 했을 때의 loss와 accuarcy를 [loss, acc] 형태로 입력해주세요. Ex) [0.4321, 0.8765]"
      ]
    },
    {
      "cell_type": "code",
      "execution_count": 11,
      "metadata": {
        "id": "10NbWA4OghxX"
      },
      "outputs": [],
      "source": [
        "np.random.seed(42)\n",
        "tf.random.set_seed(42)"
      ]
    },
    {
      "cell_type": "code",
      "execution_count": null,
      "metadata": {
        "id": "t5h--3oGrg9C"
      },
      "outputs": [],
      "source": [
        "### 이곳에서 과제를 수행해 주세요 ###\n",
        "X_train, X_test, y_train, y_test = train_test_split(\n",
        "    df['v2'], df['v1'], test_size=0.15, random_state= 42)\n",
        "\n",
        "tokenizer = Tokenizer(num_words= 1000)\n",
        "tokenizer.fit_on_texts(X_train)\n",
        "X_train_encoded = tokenizer.texts_to_sequences(X_train)\n",
        "X_test_encoded  = tokenizer.texts_to_sequences(X_test)\n",
        "\n",
        "X_train_encoded"
      ]
    },
    {
      "cell_type": "code",
      "source": [
        "vocab_size = len(tokenizer.word_index) + 1\n",
        "embedding_matrix = np.zeros((vocab_size, 300))\n",
        "print(vocab_size)"
      ],
      "metadata": {
        "id": "_aJIibmD0qi3",
        "outputId": "fc1e951b-e426-4034-c3e5-1c0f0485c8a2",
        "colab": {
          "base_uri": "https://localhost:8080/"
        }
      },
      "execution_count": 18,
      "outputs": [
        {
          "output_type": "stream",
          "name": "stdout",
          "text": [
            "8210\n"
          ]
        }
      ]
    },
    {
      "cell_type": "code",
      "source": [
        "def get_vector(word):\n",
        "    \"\"\"\n",
        "    해당 word가 word2vec에 있는 단어일 경우 임베딩 벡터를 반환\n",
        "    \"\"\"\n",
        "    if word in wv:\n",
        "        return wv[word]\n",
        "    else:\n",
        "        return None\n",
        "\n",
        "for word, i in tokenizer.word_index.items():\n",
        "    temp = get_vector(word)\n",
        "    if temp is not None:\n",
        "        embedding_matrix[i] = temp\n"
      ],
      "metadata": {
        "id": "0-xdZuXO0wx2"
      },
      "execution_count": 19,
      "outputs": []
    },
    {
      "cell_type": "code",
      "source": [
        "X_train_pad = pad_sequences(X_train_encoded, maxlen=150)\n",
        "X_test_pad  = pad_sequences(X_test_encoded,  maxlen=150)\n",
        "\n",
        "model = Sequential()\n",
        "model.add(Embedding(vocab_size, 300, weights=[embedding_matrix], input_length=150, trainable=False))\n",
        "model.add(GlobalAveragePooling1D())\n",
        "model.add(Dense(1, activation='sigmoid'))\n",
        "\n",
        "model.compile(loss='binary_crossentropy', metrics= ['acc'])\n",
        "model.fit(X_train_pad, y_train, batch_size=64, epochs=10, validation_split=0.2)\n",
        "model.evaluate(X_test_pad, y_test)"
      ],
      "metadata": {
        "id": "U0Mmo1l905_W",
        "outputId": "fa6412b1-5fc4-4734-856c-5a456a5cbbd1",
        "colab": {
          "base_uri": "https://localhost:8080/"
        }
      },
      "execution_count": 21,
      "outputs": [
        {
          "output_type": "stream",
          "name": "stdout",
          "text": [
            "Epoch 1/10\n",
            "60/60 [==============================] - 2s 12ms/step - loss: 0.6659 - acc: 0.8648 - val_loss: 0.6455 - val_acc: 0.8660\n",
            "Epoch 2/10\n",
            "60/60 [==============================] - 1s 9ms/step - loss: 0.6292 - acc: 0.8648 - val_loss: 0.6109 - val_acc: 0.8660\n",
            "Epoch 3/10\n",
            "60/60 [==============================] - 1s 9ms/step - loss: 0.5971 - acc: 0.8648 - val_loss: 0.5800 - val_acc: 0.8660\n",
            "Epoch 4/10\n",
            "60/60 [==============================] - 1s 10ms/step - loss: 0.5690 - acc: 0.8648 - val_loss: 0.5531 - val_acc: 0.8660\n",
            "Epoch 5/10\n",
            "60/60 [==============================] - 1s 9ms/step - loss: 0.5438 - acc: 0.8648 - val_loss: 0.5289 - val_acc: 0.8660\n",
            "Epoch 6/10\n",
            "60/60 [==============================] - 1s 10ms/step - loss: 0.5214 - acc: 0.8648 - val_loss: 0.5076 - val_acc: 0.8660\n",
            "Epoch 7/10\n",
            "60/60 [==============================] - 1s 9ms/step - loss: 0.5021 - acc: 0.8648 - val_loss: 0.4897 - val_acc: 0.8660\n",
            "Epoch 8/10\n",
            "60/60 [==============================] - 1s 10ms/step - loss: 0.4856 - acc: 0.8648 - val_loss: 0.4735 - val_acc: 0.8660\n",
            "Epoch 9/10\n",
            "60/60 [==============================] - 1s 9ms/step - loss: 0.4709 - acc: 0.8648 - val_loss: 0.4597 - val_acc: 0.8660\n",
            "Epoch 10/10\n",
            "60/60 [==============================] - 1s 9ms/step - loss: 0.4584 - acc: 0.8648 - val_loss: 0.4481 - val_acc: 0.8660\n",
            "27/27 [==============================] - 0s 5ms/step - loss: 0.4474 - acc: 0.8708\n"
          ]
        },
        {
          "output_type": "execute_result",
          "data": {
            "text/plain": [
              "[0.44735926389694214, 0.8708133697509766]"
            ]
          },
          "metadata": {},
          "execution_count": 21
        }
      ]
    },
    {
      "cell_type": "markdown",
      "metadata": {
        "id": "INjWwz_xrg9C"
      },
      "source": [
        "### 3)Word2Vec에서의 OOV 문제"
      ]
    },
    {
      "cell_type": "markdown",
      "metadata": {
        "id": "SkpYxUdZrg9C"
      },
      "source": [
        "```\n",
        "def get_vector(word):\n",
        "    \"\"\"\n",
        "    해당 word가 word2vec에 있는 단어일 경우 임베딩 벡터를 반환\n",
        "    \"\"\"\n",
        "    if word in wv:\n",
        "        return wv[word]\n",
        "    else:\n",
        "        return None\n",
        " \n",
        "for word, i in tokenizer.word_index.items():\n",
        "    temp = get_vector(word)\n",
        "    if temp is not None:\n",
        "        embedding_matrix[i] = temp\n",
        "```\n",
        "Lecture Note에 있는 위의 코드를 변형하여, OOV 개수를 확인해주세요.\n",
        "- tokenizer는 위에서 활용한 tokenizer를 그대로 사용하겠습니다.\n",
        "- Tip : dictionary를 활용하거나, Counter를 활용해보세요."
      ]
    },
    {
      "cell_type": "code",
      "execution_count": 32,
      "metadata": {
        "id": "Y_ryXIGwznY8",
        "outputId": "2c1a4926-37e2-4177-b9fc-9650e467a286",
        "colab": {
          "base_uri": "https://localhost:8080/"
        }
      },
      "outputs": [
        {
          "output_type": "stream",
          "name": "stdout",
          "text": [
            "2419\n"
          ]
        }
      ],
      "source": [
        "### 이곳에서 과제를 수행해 주세요 ###\n",
        "oov = []\n",
        "for word, _ in tokenizer.word_index.items():\n",
        "  if word not in wv:\n",
        "    oov.append(word)\n",
        "\n",
        "print(len(oov))"
      ]
    },
    {
      "cell_type": "code",
      "source": [
        "tokenizer.word_index.items()"
      ],
      "metadata": {
        "id": "Z2FWos892p16",
        "outputId": "366ffe7b-9f41-45ed-bf2d-44d69f815287",
        "colab": {
          "base_uri": "https://localhost:8080/"
        }
      },
      "execution_count": 30,
      "outputs": [
        {
          "output_type": "execute_result",
          "data": {
            "text/plain": [
              "dict_items([('i', 1), ('to', 2), ('you', 3), ('a', 4), ('the', 5), ('u', 6), ('and', 7), ('in', 8), ('is', 9), ('me', 10), ('my', 11), ('for', 12), ('your', 13), ('it', 14), ('of', 15), ('call', 16), ('have', 17), ('on', 18), ('2', 19), ('that', 20), ('now', 21), ('are', 22), ('so', 23), ('but', 24), ('not', 25), ('or', 26), ('at', 27), (\"i'm\", 28), ('do', 29), ('ur', 30), ('can', 31), ('get', 32), ('will', 33), ('if', 34), ('be', 35), ('just', 36), ('with', 37), ('no', 38), ('we', 39), ('gt', 40), ('this', 41), ('lt', 42), ('up', 43), ('4', 44), ('when', 45), ('from', 46), ('ok', 47), ('free', 48), ('go', 49), ('how', 50), ('what', 51), ('all', 52), ('out', 53), ('know', 54), ('got', 55), ('good', 56), ('like', 57), ('then', 58), ('was', 59), ('come', 60), ('its', 61), ('am', 62), ('time', 63), ('only', 64), ('day', 65), ('send', 66), ('love', 67), ('there', 68), ('text', 69), ('he', 70), ('want', 71), ('txt', 72), ('going', 73), ('home', 74), ('one', 75), ('about', 76), ('as', 77), ('need', 78), ('by', 79), ('sorry', 80), ('still', 81), (\"i'll\", 82), ('stop', 83), ('see', 84), ('da', 85), ('r', 86), ('back', 87), ('lor', 88), ('today', 89), ('reply', 90), ('dont', 91), ('hi', 92), ('our', 93), ('k', 94), ('mobile', 95), ('n', 96), ('pls', 97), ('please', 98), ('she', 99), (\"don't\", 100), ('tell', 101), ('new', 102), ('think', 103), ('any', 104), ('later', 105), ('been', 106), ('take', 107), ('they', 108), ('phone', 109), ('her', 110), ('ì', 111), ('here', 112), ('msg', 113), ('some', 114), ('dear', 115), ('night', 116), ('claim', 117), ('week', 118), ('well', 119), ('did', 120), ('an', 121), ('1', 122), ('him', 123), ('hey', 124), ('way', 125), ('too', 126), ('oh', 127), ('hope', 128), ('more', 129), ('great', 130), ('where', 131), ('has', 132), ('much', 133), ('had', 134), ('happy', 135), ('c', 136), ('d', 137), ('yes', 138), ('www', 139), ('make', 140), ('tomorrow', 141), ('message', 142), ('give', 143), ('right', 144), ('number', 145), ('who', 146), ('should', 147), (\"it's\", 148), ('say', 149), ('prize', 150), ('cash', 151), ('3', 152), ('already', 153), ('wat', 154), ('im', 155), ('said', 156), ('work', 157), ('babe', 158), ('amp', 159), ('meet', 160), ('yeah', 161), ('them', 162), ('e', 163), ('very', 164), ('ask', 165), ('doing', 166), ('after', 167), ('really', 168), ('why', 169), ('last', 170), ('find', 171), ('life', 172), ('morning', 173), ('lol', 174), ('cos', 175), ('t', 176), ('thanks', 177), ('miss', 178), ('win', 179), ('won', 180), ('min', 181), ('com', 182), ('pick', 183), ('b', 184), ('keep', 185), ('urgent', 186), (\"i've\", 187), ('anything', 188), ('let', 189), ('nokia', 190), ('sent', 191), ('sure', 192), ('before', 193), ('over', 194), ('150p', 195), ('something', 196), ('buy', 197), ('cant', 198), ('nice', 199), ('would', 200), ('his', 201), ('again', 202), ('5', 203), ('could', 204), ('every', 205), ('also', 206), ('uk', 207), ('wait', 208), ('feel', 209), ('went', 210), ('next', 211), ('around', 212), ('money', 213), ('off', 214), ('first', 215), ('chat', 216), ('ya', 217), ('contact', 218), ('tonight', 219), ('us', 220), ('s', 221), ('gonna', 222), ('leave', 223), ('were', 224), ('late', 225), ('place', 226), ('thing', 227), ('which', 228), ('50', 229), ('tone', 230), ('care', 231), ('many', 232), ('per', 233), ('service', 234), ('x', 235), ('someone', 236), (\"that's\", 237), ('soon', 238), ('sms', 239), ('other', 240), ('hello', 241), ('even', 242), (\"can't\", 243), ('wish', 244), ('co', 245), ('down', 246), ('heart', 247), ('friends', 248), ('things', 249), ('wan', 250), ('fine', 251), ('16', 252), ('haha', 253), ('help', 254), ('sleep', 255), ('told', 256), ('customer', 257), ('waiting', 258), ('dun', 259), ('guaranteed', 260), ('v', 261), ('done', 262), ('coming', 263), ('always', 264), ('people', 265), ('may', 266), ('use', 267), ('gud', 268), ('getting', 269), ('class', 270), ('friend', 271), ('6', 272), ('try', 273), ('special', 274), ('yet', 275), ('year', 276), (\"you're\", 277), ('18', 278), ('thk', 279), ('ìï', 280), ('trying', 281), ('house', 282), ('name', 283), ('thought', 284), ('same', 285), ('holiday', 286), ('stuff', 287), ('live', 288), ('line', 289), ('cs', 290), ('7', 291), ('thats', 292), ('draw', 293), ('wk', 294), ('smile', 295), ('bit', 296), ('days', 297), ('man', 298), ('talk', 299), ('never', 300), ('cool', 301), ('person', 302), ('meeting', 303), ('mins', 304), ('few', 305), ('best', 306), (\"didn't\", 307), ('yup', 308), ('y', 309), ('latest', 310), ('lot', 311), ('lunch', 312), ('check', 313), ('ready', 314), ('having', 315), ('receive', 316), ('car', 317), ('ill', 318), ('yo', 319), ('chance', 320), ('job', 321), ('long', 322), ('å£1', 323), ('finish', 324), ('eat', 325), ('mind', 326), ('dat', 327), ('camera', 328), ('into', 329), ('box', 330), ('birthday', 331), ('better', 332), ('enjoy', 333), ('real', 334), ('guess', 335), ('quite', 336), ('might', 337), ('start', 338), ('being', 339), ('than', 340), ('nothing', 341), ('lar', 342), ('shit', 343), ('problem', 344), ('å£1000', 345), ('half', 346), ('sir', 347), ('god', 348), ('dinner', 349), ('month', 350), ('150ppm', 351), ('1st', 352), ('another', 353), ('liao', 354), ('because', 355), ('luv', 356), ('ah', 357), ('actually', 358), ('xxx', 359), ('once', 360), ('orange', 361), ('apply', 362), ('offer', 363), ('watching', 364), ('end', 365), ('ringtone', 366), ('kiss', 367), ('cost', 368), ('wanna', 369), ('probably', 370), ('awarded', 371), ('forgot', 372), ('world', 373), ('landline', 374), ('play', 375), ('po', 376), ('baby', 377), ('shall', 378), ('account', 379), ('left', 380), ('sweet', 381), ('big', 382), ('part', 383), ('award', 384), ('early', 385), ('word', 386), ('two', 387), ('remember', 388), ('face', 389), ('ever', 390), ('shows', 391), (\"he's\", 392), ('pay', 393), ('maybe', 394), ('sat', 395), ('weekend', 396), ('ll', 397), ('room', 398), ('reach', 399), ('office', 400), ('thanx', 401), ('hear', 402), ('without', 403), ('fun', 404), ('tv', 405), ('leh', 406), ('princess', 407), ('look', 408), ('speak', 409), ('watch', 410), ('called', 411), ('girl', 412), ('hour', 413), ('everything', 414), ('minutes', 415), ('8', 416), ('little', 417), ('xmas', 418), ('2nd', 419), ('came', 420), ('m', 421), ('evening', 422), ('guys', 423), ('town', 424), ('anyway', 425), ('bus', 426), ('selected', 427), ('says', 428), ('thank', 429), ('9', 430), ('missing', 431), ('bt', 432), ('rate', 433), ('aight', 434), ('bad', 435), ('texts', 436), ('enough', 437), ('entry', 438), ('fuck', 439), ('between', 440), ('does', 441), ('collect', 442), ('wife', 443), ('hav', 444), ('sexy', 445), ('means', 446), ('plan', 447), ('working', 448), ('jus', 449), ('wont', 450), ('asked', 451), ('since', 452), ('goes', 453), ('dis', 454), ('g', 455), ('afternoon', 456), ('easy', 457), ('000', 458), ('code', 459), ('video', 460), ('put', 461), ('dunno', 462), ('juz', 463), ('update', 464), ('calls', 465), ('school', 466), ('wot', 467), ('made', 468), ('didnt', 469), ('while', 470), ('though', 471), ('join', 472), ('de', 473), ('away', 474), ('decimal', 475), ('den', 476), ('must', 477), ('show', 478), ('pa', 479), ('dad', 480), ('times', 481), ('able', 482), ('wanted', 483), ('shopping', 484), ('years', 485), ('most', 486), ('tmr', 487), ('those', 488), ('tones', 489), ('true', 490), ('guy', 491), ('yesterday', 492), ('collection', 493), ('important', 494), ('details', 495), (\"how's\", 496), ('wake', 497), ('driving', 498), ('network', 499), ('wif', 500), ('till', 501), ('double', 502), ('food', 503), (\"haven't\", 504), ('until', 505), ('plz', 506), ('shop', 507), ('nite', 508), (\"we're\", 509), ('bed', 510), ('missed', 511), ('book', 512), ('attempt', 513), ('saw', 514), (\"won't\", 515), ('okay', 516), ('abt', 517), ('friendship', 518), ('net', 519), ('pain', 520), ('both', 521), ('weekly', 522), ('alright', 523), (\"there's\", 524), ('mail', 525), ('plus', 526), ('10', 527), ('messages', 528), ('todays', 529), ('valid', 530), ('http', 531), ('boy', 532), ('date', 533), ('hot', 534), ('address', 535), ('sleeping', 536), ('saying', 537), ('else', 538), ('tot', 539), ('haf', 540), ('test', 541), ('yourself', 542), ('online', 543), ('lei', 544), ('price', 545), ('stay', 546), ('words', 547), ('goin', 548), ('top', 549), ('believe', 550), ('order', 551), ('full', 552), ('poly', 553), ('havent', 554), ('family', 555), ('hair', 556), ('these', 557), ('calling', 558), ('re', 559), ('delivery', 560), (\"we'll\", 561), ('500', 562), ('å£2000', 563), ('trip', 564), ('bring', 565), ('music', 566), ('looking', 567), ('makes', 568), ('mob', 569), ('national', 570), ('gift', 571), ('either', 572), ('huh', 573), ('row', 574), ('10p', 575), ('drive', 576), (\"what's\", 577), ('ring', 578), ('til', 579), ('mean', 580), ('eve', 581), ('colour', 582), ('tried', 583), ('change', 584), ('wen', 585), ('post', 586), ('movie', 587), ('took', 588), ('pic', 589), ('making', 590), ('coz', 591), ('wants', 592), ('brother', 593), ('question', 594), ('busy', 595), ('å£100', 596), ('worry', 597), ('together', 598), ('8007', 599), ('news', 600), ('minute', 601), (\"c's\", 602), ('land', 603), ('beautiful', 604), ('story', 605), ('loving', 606), ('yours', 607), ('wil', 608), ('oso', 609), ('dude', 610), ('pm', 611), ('å£5000', 612), ('lucky', 613), ('å£500', 614), ('feeling', 615), ('smiling', 616), ('game', 617), ('charge', 618), ('sae', 619), ('each', 620), ('sister', 621), ('okie', 622), ('old', 623), ('drop', 624), (\"''\", 625), ('sch', 626), ('noe', 627), ('lets', 628), ('sounds', 629), ('12hrs', 630), ('dating', 631), ('hard', 632), ('open', 633), ('treat', 634), ('happen', 635), ('dreams', 636), (\"she's\", 637), ('services', 638), ('answer', 639), ('thinking', 640), ('pounds', 641), ('run', 642), ('ha', 643), ('knw', 644), ('walk', 645), ('86688', 646), ('comes', 647), ('w', 648), ('lesson', 649), ('gd', 650), ('hours', 651), ('await', 652), ('final', 653), ('taking', 654), ('ard', 655), ('opt', 656), ('voucher', 657), ('email', 658), ('aft', 659), ('finished', 660), ('forget', 661), ('pub', 662), ('gr8', 663), ('leaving', 664), ('lose', 665), ('nope', 666), ('tho', 667), ('sad', 668), ('hurt', 669), ('pics', 670), ('rite', 671), ('bored', 672), ('worth', 673), ('vouchers', 674), ('whatever', 675), ('set', 676), ('awesome', 677), ('friday', 678), ('sea', 679), ('30', 680), ('chikku', 681), ('alone', 682), ('points', 683), ('congrats', 684), ('second', 685), ('everyone', 686), ('found', 687), ('ltd', 688), ('sis', 689), ('started', 690), ('bonus', 691), ('boytoy', 692), ('takes', 693), ('bout', 694), ('wid', 695), ('head', 696), ('available', 697), ('mobileupd8', 698), ('visit', 699), ('whats', 700), ('suite342', 701), ('2lands', 702), ('id', 703), ('lots', 704), ('drink', 705), ('simple', 706), ('telling', 707), ('break', 708), ('private', 709), ('crazy', 710), ('cause', 711), ('snow', 712), ('read', 713), ('player', 714), ('kind', 715), ('close', 716), ('unsubscribe', 717), ('touch', 718), ('club', 719), ('card', 720), ('fri', 721), ('å£250', 722), ('msgs', 723), ('don', 724), ('pretty', 725), ('11', 726), ('blue', 727), ('seeing', 728), ('tomo', 729), ('far', 730), ('earlier', 731), ('project', 732), ('carlos', 733), ('o', 734), ('ten', 735), ('mine', 736), ('frnd', 737), ('frm', 738), ('smth', 739), ('oredi', 740), ('happened', 741), ('gone', 742), ('operator', 743), ('08000839402', 744), ('college', 745), ('wonderful', 746), ('f', 747), ('mum', 748), ('weeks', 749), ('christmas', 750), ('anytime', 751), ('games', 752), ('angry', 753), ('saturday', 754), ('ago', 755), ('type', 756), ('100', 757), ('search', 758), ('light', 759), (\"doesn't\", 760), ('father', 761), ('statement', 762), ('nt', 763), ('goodmorning', 764), ('hit', 765), ('hand', 766), ('prob', 767), ('anyone', 768), ('girls', 769), ('mu', 770), ('750', 771), ('å£350', 772), ('quiz', 773), ('company', 774), ('india', 775), ('ass', 776), ('decided', 777), ('congratulations', 778), ('finally', 779), ('log', 780), ('gas', 781), ('hold', 782), ('hmm', 783), ('meant', 784), ('winner', 785), ('fast', 786), ('course', 787), ('wkly', 788), ('enter', 789), ('choose', 790), ('phones', 791), ('freemsg', 792), ('sun', 793), ('sunday', 794), ('neva', 795), ('area', 796), ('fone', 797), ('savamob', 798), ('å£3', 799), ('darlin', 800), ('b4', 801), ('numbers', 802), ('fancy', 803), ('wrong', 804), ('john', 805), ('red', 806), ('content', 807), ('uncle', 808), ('info', 809), ('lovely', 810), ('difficult', 811), ('tc', 812), ('xx', 813), ('expires', 814), (\"you've\", 815), ('yr', 816), ('ipod', 817), ('etc', 818), ('reading', 819), ('fucking', 820), ('yar', 821), ('pobox', 822), ('complimentary', 823), ('gym', 824), ('fr', 825), ('ac', 826), ('txts', 827), ('auction', 828), ('motorola', 829), ('park', 830), ('comp', 831), ('chennai', 832), ('hows', 833), ('case', 834), ('hungry', 835), ('used', 836), ('unlimited', 837), ('smoke', 838), ('their', 839), ('0800', 840), ('offers', 841), ('listen', 842), ('truth', 843), ('feels', 844), ('asking', 845), ('bslvyl', 846), ('08000930705', 847), ('mrng', 848), ('welcome', 849), ('paper', 850), ('mobiles', 851), ('gotta', 852), ('tel', 853), ('identifier', 854), ('hmmm', 855), ('within', 856), ('ans', 857), ('via', 858), ('rental', 859), ('least', 860), ('hee', 861), ('shower', 862), ('bank', 863), ('mate', 864), ('mah', 865), ('happiness', 866), ('slowly', 867), ('blood', 868), ('crave', 869), ('information', 870), ('picking', 871), ('tired', 872), ('almost', 873), ('credit', 874), ('mates', 875), ('extra', 876), ('caller', 877), ('ni8', 878), ('match', 879), ('balance', 880), ('call2optout', 881), ('through', 882), ('invited', 883), ('mayb', 884), (\"you'll\", 885), ('th', 886), ('hg', 887), ('w1j6hl', 888), ('song', 889), ('å£2', 890), ('police', 891), ('couple', 892), ('felt', 893), ('frnds', 894), ('usf', 895), ('st', 896), ('outside', 897), ('20', 898), ('sort', 899), ('semester', 900), ('bcoz', 901), ('fantastic', 902), ('glad', 903), ('cum', 904), ('monday', 905), ('sound', 906), ('2nite', 907), ('nyt', 908), ('checking', 909), ('2003', 910), ('whole', 911), ('secret', 912), ('charged', 913), ('wonder', 914), ('small', 915), ('camcorder', 916), ('across', 917), ('point', 918), ('gave', 919), ('custcare', 920), ('immediately', 921), ('needs', 922), ('wit', 923), ('800', 924), ('un', 925), ('march', 926), ('stupid', 927), (\"wasn't\", 928), ('lost', 929), ('save', 930), ('moment', 931), ('download', 932), ('empty', 933), ('cut', 934), ('kate', 935), ('press', 936), ('drugs', 937), ('surprise', 938), ('met', 939), ('mom', 940), ('loads', 941), ('england', 942), ('party', 943), ('rest', 944), ('03', 945), ('direct', 946), ('rates', 947), ('currently', 948), ('dnt', 949), ('ends', 950), ('luck', 951), ('ntt', 952), ('somebody', 953), ('\\x89û', 954), ('eg', 955), ('convey', 956), ('rs', 957), (\"i'd\", 958), ('wana', 959), ('remove', 960), ('87066', 961), ('ldn', 962), ('mr', 963), ('rply', 964), ('reason', 965), ('woke', 966), ('plans', 967), ('laptop', 968), ('muz', 969), ('rock', 970), ('ugh', 971), ('die', 972), ('talking', 973), ('heard', 974), ('discount', 975), ('00', 976), ('knows', 977), ('merry', 978), ('against', 979), ('leaves', 980), ('nah', 981), ('catch', 982), ('swing', 983), ('pass', 984), ('own', 985), ('mm', 986), ('near', 987), ('study', 988), ('redeemed', 989), ('04', 990), ('worries', 991), ('ending', 992), ('thinks', 993), ('pray', 994), ('pete', 995), ('reaching', 996), ('questions', 997), ('confirm', 998), ('clean', 999), ('forwarded', 1000), ('correct', 1001), ('less', 1002), ('eyes', 1003), ('myself', 1004), ('\\x89ûò', 1005), ('none', 1006), ('std', 1007), ('months', 1008), ('understand', 1009), ('user', 1010), ('kinda', 1011), ('gn', 1012), ('valued', 1013), ('12', 1014), ('na', 1015), ('gets', 1016), ('flag', 1017), ('xy', 1018), ('p', 1019), ('lover', 1020), ('askd', 1021), ('excellent', 1022), ('brings', 1023), ('11mths', 1024), ('20p', 1025), ('tht', 1026), ('seen', 1027), ('entered', 1028), ('hiya', 1029), ('spend', 1030), ('rent', 1031), ('hoping', 1032), ('sick', 1033), ('usual', 1034), ('worried', 1035), ('orchard', 1036), ('parents', 1037), ('kids', 1038), ('comin', 1039), ('darren', 1040), ('poor', 1041), ('figure', 1042), ('eh', 1043), ('grins', 1044), ('ts', 1045), ('tonite', 1046), ('whenever', 1047), ('others', 1048), ('sitting', 1049), ('comuk', 1050), ('charity', 1051), ('support', 1052), ('side', 1053), (\"'\", 1054), ('bill', 1055), ('cheap', 1056), ('jay', 1057), ('booked', 1058), ('mon', 1059), ('bath', 1060), ('yep', 1061), ('age', 1062), ('bathe', 1063), (\"isn't\", 1064), ('al', 1065), ('gal', 1066), ('sending', 1067), ('mistake', 1068), ('hospital', 1069), ('weed', 1070), ('ice', 1071), ('access', 1072), ('terms', 1073), ('wow', 1074), ('urself', 1075), ('wine', 1076), ('black', 1077), ('å£800', 1078), ('em', 1079), ('dogging', 1080), ('sex', 1081), ('sign', 1082), ('doin', 1083), ('stand', 1084), ('wishes', 1085), ('joined', 1086), ('exam', 1087), ('train', 1088), ('ho', 1089), ('ones', 1090), (\"joy's\", 1091), ('awaiting', 1092), ('fixed', 1093), ('specially', 1094), ('goodnight', 1095), ('situation', 1096), ('normal', 1097), ('men', 1098), ('å£200', 1099), ('mo', 1100), ('150', 1101), ('matches', 1102), ('representative', 1103), ('freephone', 1104), ('laugh', 1105), ('facebook', 1106), ('seems', 1107), ('abiola', 1108), ('fullonsms', 1109), ('rakhesh', 1110), ('decide', 1111), ('wondering', 1112), ('yahoo', 1113), ('accept', 1114), ('possible', 1115), ('warm', 1116), ('ge', 1117), ('completely', 1118), ('txting', 1119), ('getzed', 1120), ('knew', 1121), ('realy', 1122), ('ive', 1123), ('medical', 1124), ('anymore', 1125), ('lovable', 1126), ('deep', 1127), ('0870', 1128), ('reveal', 1129), ('energy', 1130), ('safe', 1131), ('store', 1132), ('paying', 1133), ('loan', 1134), ('bluetooth', 1135), ('87077', 1136), ('iam', 1137), ('credits', 1138), ('noon', 1139), ('slow', 1140), ('short', 1141), ('lect', 1142), (\"b'day\", 1143), ('sunshine', 1144), ('sony', 1145), ('buying', 1146), ('weekends', 1147), ('doesnt', 1148), ('asap', 1149), ('dead', 1150), ('street', 1151), ('computer', 1152), ('mrt', 1153), ('wiv', 1154), ('gay', 1155), ('nigeria', 1156), ('4u', 1157), ('thinkin', 1158), ('goto', 1159), ('voice', 1160), ('write', 1161), ('children', 1162), ('25p', 1163), ('cd', 1164), ('sale', 1165), ('ringtones', 1166), ('tickets', 1167), ('02', 1168), ('ex', 1169), ('different', 1170), ('reached', 1171), ('supposed', 1172), ('summer', 1173), ('sell', 1174), ('umma', 1175), ('dream', 1176), ('aha', 1177), ('cold', 1178), ('fault', 1179), ('lift', 1180), ('gettin', 1181), ('pix', 1182), ('å£150', 1183), ('sub', 1184), ('tampa', 1185), ('wishing', 1186), ('cal', 1187), ('heavy', 1188), ('future', 1189), ('persons', 1190), ('trust', 1191), ('omg', 1192), ('thru', 1193), ('learn', 1194), ('bugis', 1195), ('players', 1196), ('list', 1197), ('yrs', 1198), ('copy', 1199), ('awake', 1200), ('3030', 1201), ('funny', 1202), (\"t's\", 1203), ('imagine', 1204), ('ahead', 1205), ('trouble', 1206), ('studying', 1207), (\"u'll\", 1208), ('honey', 1209), ('mother', 1210), ('notice', 1211), ('valentines', 1212), ('rcvd', 1213), ('08718720201', 1214), ('mp3', 1215), ('sp', 1216), ('kick', 1217), ('door', 1218), ('strong', 1219), ('il', 1220), ('cup', 1221), ('wap', 1222), ('miracle', 1223), ('onto', 1224), ('interested', 1225), ('moral', 1226), ('slept', 1227), ('reward', 1228), ('rain', 1229), ('la', 1230), ('å£10', 1231), ('quality', 1232), ('king', 1233), ('frens', 1234), ('tear', 1235), ('looks', 1236), ('insurance', 1237), ('lmao', 1238), ('entitled', 1239), ('seriously', 1240), ('feb', 1241), ('06', 1242), ('1327', 1243), ('croydon', 1244), ('cr9', 1245), ('5wb', 1246), ('2day', 1247), ('library', 1248), ('loved', 1249), ('spent', 1250), ('itself', 1251), ('replying', 1252), ('starts', 1253), ('25', 1254), ('idea', 1255), ('self', 1256), ('unsub', 1257), ('digital', 1258), ('cell', 1259), ('deal', 1260), ('oops', 1261), (\"today's\", 1262), ('silent', 1263), ('round', 1264), ('meh', 1265), ('login', 1266), ('hurts', 1267), ('ldew', 1268), ('ave', 1269), ('boss', 1270), ('slave', 1271), ('din', 1272), ('polys', 1273), ('member', 1274), ('link', 1275), ('loves', 1276), ('flirt', 1277), ('marriage', 1278), ('workin', 1279), ('battery', 1280), ('sofa', 1281), ('tea', 1282), ('quick', 1283), ('imma', 1284), ('using', 1285), ('under', 1286), ('doctor', 1287), ('nxt', 1288), ('style', 1289), ('yoga', 1290), ('hop', 1291), ('kb', 1292), ('cover', 1293), ('bak', 1294), ('move', 1295), ('opinion', 1296), ('bother', 1297), ('omw', 1298), ('movies', 1299), ('inc', 1300), ('walking', 1301), ('mode', 1302), ('wun', 1303), ('sight', 1304), ('pc', 1305), ('dvd', 1306), ('disturb', 1307), ('complete', 1308), ('logo', 1309), ('local', 1310), ('midnight', 1311), ('april', 1312), ('hurry', 1313), ('photo', 1314), ('sunny', 1315), ('85023', 1316), (\"uk's\", 1317), ('alex', 1318), ('south', 1319), ('scream', 1320), ('power', 1321), ('checked', 1322), ('keeping', 1323), ('horny', 1324), ('staying', 1325), ('wednesday', 1326), ('pussy', 1327), ('thnk', 1328), ('reference', 1329), ('arrive', 1330), ('starting', 1331), ('lookin', 1332), ('j', 1333), ('teasing', 1334), ('training', 1335), ('o2', 1336), ('added', 1337), ('eating', 1338), ('4th', 1339), ('random', 1340), ('system', 1341), ('ended', 1342), ('2004', 1343), ('biz', 1344), ('gee', 1345), ('law', 1346), ('vl', 1347), ('single', 1348), ('serious', 1349), ('hr', 1350), ('7pm', 1351), ('bucks', 1352), ('simply', 1353), ('past', 1354), ('hotel', 1355), ('bye', 1356), ('40gb', 1357), ('sit', 1358), ('dog', 1359), ('giving', 1360), ('excuse', 1361), ('appreciate', 1362), ('amazing', 1363), ('meaning', 1364), ('sucks', 1365), ('page', 1366), ('internet', 1367), ('indian', 1368), ('version', 1369), ('water', 1370), ('urawinner', 1371), ('station', 1372), ('green', 1373), ('otherwise', 1374), ('usually', 1375), ('following', 1376), ('official', 1377), ('budget', 1378), ('08712300220', 1379), ('standard', 1380), ('cake', 1381), ('tenerife', 1382), ('bedroom', 1383), ('happens', 1384), ('swt', 1385), ('london', 1386), ('sim', 1387), ('loyalty', 1388), ('08707509020', 1389), ('admirer', 1390), ('high', 1391), ('campus', 1392), ('return', 1393), ('sup', 1394), ('country', 1395), ('sense', 1396), ('wats', 1397), ('shd', 1398), ('instead', 1399), ('due', 1400), ('mid', 1401), ('vikky', 1402), ('team', 1403), ('weight', 1404), ('share', 1405), ('nimya', 1406), ('age16', 1407), ('experience', 1408), ('daddy', 1409), ('lazy', 1410), ('colleagues', 1411), ('envelope', 1412), ('forever', 1413), ('cancel', 1414), ('putting', 1415), ('bb', 1416), ('tuesday', 1417), ('personal', 1418), ('damn', 1419), ('definitely', 1420), (\"they're\", 1421), ('recently', 1422), ('mood', 1423), ('theatre', 1424), ('liked', 1425), ('especially', 1426), ('cheers', 1427), ('during', 1428), ('inviting', 1429), ('62468', 1430), ('posted', 1431), (\"let's\", 1432), ('married', 1433), ('kept', 1434), ('08712460324', 1435), ('kallis', 1436), ('maid', 1437), ('murderer', 1438), ('murdered', 1439), ('january', 1440), ('including', 1441), ('zed', 1442), ('changed', 1443), (\"u've\", 1444), ('cinema', 1445), ('weather', 1446), ('izzit', 1447), (\"where's\", 1448), ('lemme', 1449), ('ahmad', 1450), ('apartment', 1451), ('contract', 1452), ('teach', 1453), ('mark', 1454), ('coffee', 1455), ('towards', 1456), ('50p', 1457), ('nature', 1458), ('matter', 1459), ('earth', 1460), ('aiyo', 1461), ('del', 1462), ('askin', 1463), ('rather', 1464), ('howz', 1465), ('problems', 1466), (\"wat's\", 1467), ('road', 1468), ('bag', 1469), ('spree', 1470), ('fall', 1471), ('regards', 1472), ('shuhui', 1473), ('registered', 1474), ('plenty', 1475), ('group', 1476), ('happening', 1477), ('hrs', 1478), ('hell', 1479), ('maximize', 1480), ('cc', 1481), ('tat', 1482), ('however', 1483), ('depends', 1484), ('rose', 1485), ('some1', 1486), ('texting', 1487), ('callertune', 1488), ('82277', 1489), ('fingers', 1490), ('marry', 1491), ('fetch', 1492), ('nobody', 1493), ('cafe', 1494), ('super', 1495), ('holder', 1496), ('loverboy', 1497), ('menu', 1498), ('jst', 1499), ('tick', 1500), ('report', 1501), ('unless', 1502), ('basically', 1503), ('lady', 1504), ('q', 1505), ('become', 1506), ('ish', 1507), ('listening', 1508), ('selling', 1509), ('ttyl', 1510), ('don\\x89û÷t', 1511), ('btw', 1512), ('moms', 1513), ('barely', 1514), ('looked', 1515), ('photos', 1516), ('respect', 1517), ('role', 1518), ('å£900', 1519), ('hl', 1520), ('paid', 1521), ('hopefully', 1522), ('ignore', 1523), ('click', 1524), ('2optout', 1525), ('txtauction', 1526), ('arrested', 1527), ('babes', 1528), ('yest', 1529), ('2mrw', 1530), ('uni', 1531), ('1x150p', 1532), ('gentle', 1533), ('turns', 1534), ('rooms', 1535), ('twice', 1536), ('kano', 1537), ('somethin', 1538), ('rays', 1539), ('vodafone', 1540), ('10am', 1541), ('9am', 1542), ('belly', 1543), ('cheaper', 1544), ('password', 1545), ('december', 1546), ('cannot', 1547), ('pleased', 1548), ('pleasure', 1549), ('tyler', 1550), ('waste', 1551), ('adult', 1552), ('singles', 1553), ('83355', 1554), ('raining', 1555), ('evng', 1556), ('argument', 1557), ('wins', 1558), ('jordan', 1559), ('expensive', 1560), ('issues', 1561), ('informed', 1562), ('kerala', 1563), ('woman', 1564), ('cartoon', 1565), ('directly', 1566), ('tuition', 1567), ('lessons', 1568), ('wherever', 1569), ('oz', 1570), ('planning', 1571), ('social', 1572), ('ladies', 1573), ('totally', 1574), ('optout', 1575), ('broke', 1576), ('no1', 1577), ('36504', 1578), ('w45wq', 1579), ('norm150p', 1580), ('nvm', 1581), ('scared', 1582), ('murder', 1583), ('exactly', 1584), ('present', 1585), ('prabha', 1586), ('voda', 1587), ('quoting', 1588), ('app', 1589), ('allah', 1590), ('smiles', 1591), ('inside', 1592), ('pple', 1593), ('nights', 1594), ('guide', 1595), ('add', 1596), ('surely', 1597), ('3g', 1598), ('ip4', 1599), ('5we', 1600), ('buns', 1601), ('fantasies', 1602), ('truly', 1603), ('review', 1604), ('contacted', 1605), ('picked', 1606), ('costs', 1607), ('exams', 1608), ('nw', 1609), ('playing', 1610), ('pin', 1611), ('wnt', 1612), ('vry', 1613), ('five', 1614), ('choice', 1615), ('flights', 1616), ('sipix', 1617), ('alrite', 1618), ('competition', 1619), ('request', 1620), (\"he'll\", 1621), ('sed', 1622), ('pobox36504w45wq', 1623), ('somewhere', 1624), ('boo', 1625), ('works', 1626), ('434', 1627), ('promise', 1628), ('vary', 1629), ('asleep', 1630), ('pilates', 1631), ('longer', 1632), ('air', 1633), ('sometimes', 1634), ('urgnt', 1635), ('buzz', 1636), ('eerie', 1637), ('pizza', 1638), ('yijue', 1639), ('tncs', 1640), ('website', 1641), ('inclusive', 1642), ('closed', 1643), ('amount', 1644), ('fyi', 1645), ('boston', 1646), ('thts', 1647), ('romantic', 1648), ('brilliant', 1649), ('xchat', 1650), ('28', 1651), ('obviously', 1652), ('ar', 1653), ('died', 1654), ('discuss', 1655), ('places', 1656), ('begin', 1657), ('ticket', 1658), ('cars', 1659), ('rem', 1660), ('original', 1661), ('stock', 1662), ('shirt', 1663), ('relax', 1664), ('fact', 1665), ('yun', 1666), ('cuz', 1667), ('announcement', 1668), ('ad', 1669), ('yan', 1670), ('jiu', 1671), ('weak', 1672), ('linerental', 1673), ('qatar', 1674), ('unable', 1675), ('tells', 1676), ('pissed', 1677), ('italian', 1678), ('body', 1679), ('costa', 1680), ('sol', 1681), ('sk38xh', 1682), ('tariffs', 1683), ('3rd', 1684), ('lik', 1685), ('cute', 1686), ('er', 1687), ('willing', 1688), (\"couldn't\", 1689), ('cbe', 1690), ('respond', 1691), ('bitch', 1692), ('naughty', 1693), ('bought', 1694), ('cine', 1695), ('character', 1696), ('model', 1697), ('mths', 1698), ('dropped', 1699), (\"you'd\", 1700), ('fb', 1701), ('moan', 1702), ('centre', 1703), ('brand', 1704), ('geeee', 1705), (\"shouldn't\", 1706), ('cancer', 1707), ('interesting', 1708), ('english', 1709), ('film', 1710), ('tis', 1711), ('21', 1712), ('planned', 1713), ('86021', 1714), ('sec', 1715), ('forward', 1716), ('egg', 1717), ('hw', 1718), ('spook', 1719), ('arrange', 1720), ('flower', 1721), ('stopped', 1722), ('searching', 1723), ('regret', 1724), ('inform', 1725), ('born', 1726), ('bday', 1727), ('comedy', 1728), ('except', 1729), ('fml', 1730), ('sport', 1731), ('common', 1732), ('freak', 1733), ('wed', 1734), ('losing', 1735), ('google', 1736), ('sam', 1737), ('wearing', 1738), ('waitin', 1739), ('pobox84', 1740), ('jamster', 1741), ('wtf', 1742), ('ec2a', 1743), ('60p', 1744), ('sing', 1745), ('gravity', 1746), ('carefully', 1747), ('unsold', 1748), (\"hasn't\", 1749), ('bloomberg', 1750), ('result', 1751), ('intelligent', 1752), ('meal', 1753), ('salary', 1754), ('naked', 1755), ('150pm', 1756), ('moji', 1757), ('alert', 1758), ('afraid', 1759), ('santa', 1760), ('hill', 1761), ('screaming', 1762), ('spoke', 1763), ('expecting', 1764), ('six', 1765), ('87575', 1766), ('process', 1767), ('thangam', 1768), ('bet', 1769), (\"u're\", 1770), ('joke', 1771), ('aint', 1772), ('chinese', 1773), ('arms', 1774), ('action', 1775), ('amt', 1776), ('giv', 1777), ('blank', 1778), ('boys', 1779), ('bloody', 1780), ('jess', 1781), ('feet', 1782), ('bay', 1783), ('prepare', 1784), ('horrible', 1785), ('0808', 1786), ('145', 1787), ('4742', 1788), ('11pm', 1789), ('pictures', 1790), ('passed', 1791), ('idiot', 1792), ('faster', 1793), ('ppl', 1794), ('partner', 1795), ('83600', 1796), ('sura', 1797), ('8th', 1798), ('yay', 1799), ('cam', 1800), ('exciting', 1801), ('mtmsgrcvd18', 1802), ('handset', 1803), (\"wouldn't\", 1804), ('thursday', 1805), ('sky', 1806), ('purity', 1807), ('takin', 1808), ('theory', 1809), ('holla', 1810), ('bright', 1811), ('texted', 1812), ('netcollex', 1813), ('300', 1814), ('wah', 1815), ('letters', 1816), ('gives', 1817), ('moon', 1818), ('temple', 1819), ('series', 1820), ('apparently', 1821), ('num', 1822), ('space', 1823), ('arcade', 1824), ('jazz', 1825), ('hella', 1826), ('ache', 1827), ('joking', 1828), ('white', 1829), ('polyphonic', 1830), ('holding', 1831), ('iåõm', 1832), ('ta', 1833), ('flat', 1834), ('running', 1835), ('replied', 1836), ('yer', 1837), ('84199', 1838), ('eng', 1839), ('box39822', 1840), ('w111wx', 1841), ('bringing', 1842), ('often', 1843), ('laid', 1844), ('locations', 1845), ('iq', 1846), ('spl', 1847), ('ru', 1848), ('5000', 1849), ('cw25wx', 1850), (\"she'll\", 1851), ('basic', 1852), ('uncles', 1853), ('atlanta', 1854), ('08002986906', 1855), ('bf', 1856), ('bx420', 1857), ('suite', 1858), ('childish', 1859), ('showing', 1860), ('ym', 1861), ('recd', 1862), ('cust', 1863), (\"did't\", 1864), ('aiyah', 1865), ('june', 1866), ('cds', 1867), ('current', 1868), ('waking', 1869), ('acc', 1870), ('receipt', 1871), ('80062', 1872), ('lecture', 1873), ('meds', 1874), ('students', 1875), ('bahamas', 1876), ('sonyericsson', 1877), ('favour', 1878), ('i\\x89û÷m', 1879), ('lacs', 1880), ('sen', 1881), ('08715705022', 1882), ('l8r', 1883), ('opportunity', 1884), (\"did'nt\", 1885), ('hols', 1886), ('drinks', 1887), ('daily', 1888), ('roger', 1889), ('brought', 1890), ('vomit', 1891), ('dint', 1892), ('isnt', 1893), ('hunny', 1894), ('tour', 1895), ('package', 1896), ('bold', 1897), ('dollars', 1898), ('derek', 1899), (\"''ok''\", 1900), ('minuts', 1901), ('latr', 1902), ('site', 1903), ('tough', 1904), ('oni', 1905), ('wear', 1906), ('spending', 1907), ('upto', 1908), ('activate', 1909), (\"aren't\", 1910), ('mad', 1911), ('birds', 1912), ('infernal', 1913), ('appt', 1914), ('shame', 1915), ('travel', 1916), ('ibiza', 1917), ('ppm', 1918), ('lonely', 1919), ('airport', 1920), ('440', 1921), ('explain', 1922), ('passionate', 1923), ('jesus', 1924), ('radio', 1925), ('bishan', 1926), ('reasons', 1927), ('expect', 1928), ('becoz', 1929), ('cream', 1930), ('transaction', 1931), ('gorgeous', 1932), ('outta', 1933), ('pongal', 1934), ('valentine', 1935), ('title', 1936), ('intro', 1937), ('vijay', 1938), ('subscription', 1939), ('å£4', 1940), ('profit', 1941), ('themob', 1942), ('selection', 1943), ('fat', 1944), ('nyc', 1945), ('songs', 1946), ('solve', 1947), ('cooking', 1948), (\"who's\", 1949), ('msgrcvdhg', 1950), ('ref', 1951), ('ate', 1952), ('fa', 1953), ('tkts', 1954), ('87121', 1955), ('idk', 1956), ('eatin', 1957), ('85', 1958), ('yuo', 1959), ('tihs', 1960), ('542', 1961), ('cabin', 1962), ('bin', 1963), ('tb', 1964), ('4get', 1965), ('3gbp', 1966), ('beer', 1967), ('returns', 1968), ('shoot', 1969), ('settled', 1970), ('revealed', 1971), ('city', 1972), ('fren', 1973), ('fifteen', 1974), ('thurs', 1975), ('taunton', 1976), ('530', 1977), ('abi', 1978), ('ntwk', 1979), ('pod', 1980), ('euro2004', 1981), ('hate', 1982), ('grand', 1983), ('assume', 1984), ('hun', 1985), ('pig', 1986), ('celebrate', 1987), ('unique', 1988), ('09050090044', 1989), ('toclaim', 1990), ('pobox334', 1991), ('stockport', 1992), ('costå£1', 1993), ('max10mins', 1994), ('08712405020', 1995), ('wonders', 1996), ('7th', 1997), ('6th', 1998), ('5th', 1999), ('personality', 2000), ('w1', 2001), ('mmm', 2002), ('remind', 2003), ('careful', 2004), ('pages', 2005), ('hug', 2006), ('hip', 2007), ('sugar', 2008), ('250', 2009), ('urn', 2010), ('iz', 2011), ('3qxj9', 2012), ('08702840625', 2013), ('9ae', 2014), ('dates', 2015), (\"'t\", 2016), ('lab', 2017), ('kisses', 2018), ('drivin', 2019), ('tm', 2020), ('stylish', 2021), ('note', 2022), ('asks', 2023), ('mite', 2024), ('records', 2025), (\"week's\", 2026), ('clock', 2027), ('living', 2028), ('ordered', 2029), ('08001950382', 2030), ('fighting', 2031), ('wet', 2032), ('belovd', 2033), ('practice', 2034), ('straight', 2035), ('followed', 2036), ('hanging', 2037), ('attend', 2038), ('conditions', 2039), ('hostel', 2040), ('moby', 2041), ('along', 2042), ('february', 2043), ('shortly', 2044), ('pg', 2045), ('addicted', 2046), ('wrc', 2047), ('rally', 2048), ('lucozade', 2049), ('donåõt', 2050), ('seem', 2051), ('gently', 2052), ('coins', 2053), ('08718727870', 2054), ('pound', 2055), ('quote', 2056), ('textpod', 2057), ('gap', 2058), ('connect', 2059), ('worse', 2060), ('sighs', 2061), ('appointment', 2062), ('thatåõs', 2063), ('seemed', 2064), ('biggest', 2065), ('7250i', 2066), ('w1jhl', 2067), ('created', 2068), ('fantasy', 2069), ('track', 2070), ('needed', 2071), ('å£400', 2072), ('remain', 2073), ('received', 2074), ('ran', 2075), ('sha', 2076), ('cha', 2077), ('freefone', 2078), ('paris', 2079), ('def', 2080), ('rd', 2081), ('enemy', 2082), ('87131', 2083), ('yor', 2084), ('freezing', 2085), (\"month's\", 2086), ('california', 2087), ('missin', 2088), ('guilty', 2089), ('whos', 2090), ('that\\x89û÷s', 2091), ('death', 2092), ('fair', 2093), ('slap', 2094), ('bigger', 2095), ('rude', 2096), ('scary', 2097), ('m263uz', 2098), ('gbp', 2099), ('usc', 2100), ('follow', 2101), ('instructions', 2102), ('3lp', 2103), ('dirty', 2104), ('total', 2105), ('24', 2106), ('loud', 2107), ('rofl', 2108), ('anti', 2109), ('kadeem', 2110), ('center', 2111), ('frndship', 2112), ('3mins', 2113), ('walked', 2114), ('lick', 2115), ('plane', 2116), ('soup', 2117), ('escape', 2118), ('knackered', 2119), ('aftr', 2120), ('understanding', 2121), ('response', 2122), ('value', 2123), ('realized', 2124), ('term', 2125), ('prey', 2126), ('fathima', 2127), ('promises', 2128), ('clear', 2129), ('dey', 2130), ('exact', 2131), ('child', 2132), ('pie', 2133), ('regarding', 2134), ('files', 2135), ('89545', 2136), ('087187262701', 2137), ('50gbp', 2138), ('mtmsg18', 2139), ('3d', 2140), ('09061790121', 2141), ('possession', 2142), ('mall', 2143), ('tom', 2144), ('docs', 2145), ('wa', 2146), ('express', 2147), ('journey', 2148), ('befor', 2149), ('activities', 2150), ('arun', 2151), ('nearly', 2152), ('seconds', 2153), ('atm', 2154), ('gary', 2155), ('fix', 2156), ('ptbo', 2157), ('collected', 2158), ('mix', 2159), ('verify', 2160), ('80488', 2161), ('31', 2162), ('2005', 2163), ('cud', 2164), ('gona', 2165), ('lifetime', 2166), ('successfully', 2167), ('building', 2168), ('ibhltd', 2169), ('ldnw15h', 2170), ('among', 2171), ('esplanade', 2172), ('dark', 2173), ('loses', 2174), ('argue', 2175), ('88600', 2176), ('celeb', 2177), ('pocketbabe', 2178), ('china', 2179), ('billed', 2180), ('boat', 2181), ('members', 2182), ('symbol', 2183), ('played', 2184), ('88066', 2185), ('okey', 2186), ('i\\x89û÷ll', 2187), ('kindly', 2188), ('ages', 2189), ('roads', 2190), ('results', 2191), ('twelve', 2192), ('church', 2193), ('record', 2194), ('armand', 2195), ('welp', 2196), ('aiya', 2197), ('whether', 2198), ('2morow', 2199), ('moments', 2200), ('fever', 2201), ('seven', 2202), ('strike', 2203), ('three', 2204), ('0', 2205), ('settings', 2206), ('hands', 2207), ('stars', 2208), ('machan', 2209), ('jokes', 2210), ('gm', 2211), ('txtin', 2212), ('4info', 2213), ('speed', 2214), ('terrible', 2215), ('spk', 2216), ('sn', 2217), ('elsewhere', 2218), ('male', 2219), ('gram', 2220), ('runs', 2221), ('crab', 2222), ('cleared', 2223), ('footprints', 2224), ('lido', 2225), ('swimming', 2226), (\"god's\", 2227), ('roommate', 2228), ('dubsack', 2229), ('taken', 2230), ('anywhere', 2231), ('abta', 2232), ('spanish', 2233), ('receiving', 2234), ('skype', 2235), ('largest', 2236), ('cheer', 2237), ('soryda', 2238), ('sory', 2239), (\"ain't\", 2240), ('anyways', 2241), ('violence', 2242), ('dave', 2243), ('tcs', 2244), ('900', 2245), ('deliver', 2246), ('major', 2247), ('farm', 2248), ('videophones', 2249), ('videochat', 2250), ('java', 2251), ('dload', 2252), ('noline', 2253), ('rentl', 2254), ('upgrade', 2255), ('87239', 2256), ('preferably', 2257), ('lotr', 2258), ('bid', 2259), ('subscriber', 2260), ('weird', 2261), ('bein', 2262), ('foreign', 2263), ('stamps', 2264), ('spoken', 2265), ('chasing', 2266), ('doc', 2267), ('refused', 2268), (\"'help'\", 2269), ('fees', 2270), ('cruise', 2271), ('1000', 2272), (\"mom's\", 2273), ('wales', 2274), ('lead', 2275), ('headache', 2276), ('falls', 2277), ('raji', 2278), ('incident', 2279), ('distance', 2280), ('hv', 2281), ('80878', 2282), ('smoking', 2283), ('wylie', 2284), ('tessy', 2285), ('favor', 2286), ('shijas', 2287), ('art', 2288), ('failed', 2289), ('blame', 2290), ('essential', 2291), ('dick', 2292), ('å£1450', 2293), ('sept', 2294), ('stranger', 2295), ('eaten', 2296), ('6months', 2297), ('accidentally', 2298), ('chillin', 2299), ('booking', 2300), ('boring', 2301), (\"friend's\", 2302), ('likely', 2303), ('2go', 2304), ('lounge', 2305), ('caught', 2306), ('gimme', 2307), ('garage', 2308), ('keys', 2309), ('teeth', 2310), ('painful', 2311), ('affairs', 2312), ('sk3', 2313), ('8wp', 2314), ('american', 2315), ('callin', 2316), ('fill', 2317), ('throat', 2318), ('wc1n3xx', 2319), ('peace', 2320), ('requests', 2321), ('anythin', 2322), ('ì©', 2323), ('flight', 2324), ('finishes', 2325), ('saucy', 2326), ('callså£1', 2327), ('lousy', 2328), ('settle', 2329), ('maga', 2330), ('ranjith', 2331), ('5min', 2332), ('voicemail', 2333), ('upload', 2334), ('10k', 2335), ('k52', 2336), ('ground', 2337), ('medicine', 2338), ('answering', 2339), ('fool', 2340), ('captain', 2341), ('titles', 2342), ('mmmm', 2343), ('url', 2344), ('islands', 2345), ('public', 2346), ('govt', 2347), ('instituitions', 2348), ('5p', 2349), ('alfie', 2350), (\"moon's\", 2351), ('m8s', 2352), ('nokias', 2353), ('08701417012', 2354), ('downloads', 2355), ('sum1', 2356), ('bags', 2357), ('uks', 2358), ('questioned', 2359), ('cook', 2360), ('gardener', 2361), ('vegetables', 2362), ('neighbour', 2363), (\"'ll\", 2364), ('18yrs', 2365), ('9pm', 2366), ('09061221066', 2367), ('fromm', 2368), ('eggs', 2369), ('125gift', 2370), ('com1win150ppmx3age16', 2371), ('21st', 2372), ('snake', 2373), ('bite', 2374), ('prefer', 2375), (\"blake's\", 2376), ('addie', 2377), ('germany', 2378), ('pence', 2379), ('certainly', 2380), ('wud', 2381), ('dress', 2382), ('bell', 2383), ('ure', 2384), ('ese', 2385), ('fuckin', 2386), ('happend', 2387), ('bat', 2388), ('audition', 2389), ('closer', 2390), ('petrol', 2391), ('james', 2392), ('storming', 2393), ('phne', 2394), ('wt', 2395), ('margaret', 2396), ('girlfrnd', 2397), ('grahmbell', 2398), ('invnted', 2399), ('telphone', 2400), ('tog', 2401), ('aah', 2402), ('cuddle', 2403), ('si', 2404), ('album', 2405), ('village', 2406), ('turn', 2407), ('apps', 2408), ('81151', 2409), ('4t', 2410), ('mono', 2411), ('wisdom', 2412), ('hahaha', 2413), ('brain', 2414), ('technical', 2415), ('seat', 2416), ('wkend', 2417), ('jason', 2418), ('shorter', 2419), ('box97n7qp', 2420), ('understood', 2421), ('alwys', 2422), ('valuable', 2423), ('hai', 2424), ('option', 2425), ('xxxx', 2426), ('interview', 2427), ('80182', 2428), ('08452810073', 2429), ('ful', 2430), ('career', 2431), ('remembered', 2432), ('insha', 2433), ('wedding', 2434), ('praying', 2435), ('season', 2436), ('adore', 2437), ('schedule', 2438), ('di', 2439), ('responding', 2440), ('four', 2441), ('nan', 2442), ('july', 2443), ('invite', 2444), ('alcohol', 2445), ('ve', 2446), ('84128', 2447), ('textcomp', 2448), ('ride', 2449), ('it\\x89û÷s', 2450), ('iouri', 2451), ('perfect', 2452), ('calicut', 2453), ('yummy', 2454), ('chosen', 2455), ('wallpaper', 2456), ('leona', 2457), ('str', 2458), ('evn', 2459), ('force', 2460), ('morn', 2461), ('ron', 2462), ('hardcore', 2463), ('yeh', 2464), ('beware', 2465), ('relation', 2466), ('meanwhile', 2467), ('gentleman', 2468), ('dignity', 2469), ('0207', 2470), ('upset', 2471), ('surprised', 2472), ('wrk', 2473), ('membership', 2474), ('quickly', 2475), ('senthil', 2476), ('220', 2477), ('cm2', 2478), ('cat', 2479), ('29', 2480), ('vote', 2481), ('whom', 2482), ('tape', 2483), ('meetin', 2484), ('favourite', 2485), ('smart', 2486), ('various', 2487), ('jada', 2488), ('kusruthi', 2489), ('matured', 2490), ('itz', 2491), (\"we'd\", 2492), ('frying', 2493), (\"jay's\", 2494), ('callback', 2495), ('rang', 2496), ('stops', 2497), ('stress', 2498), ('arsenal', 2499), ('rich', 2500), ('onwards', 2501), ('84025', 2502), ('step', 2503), ('ic', 2504), ('sometime', 2505), ('philosophy', 2506), ('pending', 2507), ('2stoptxt', 2508), ('networks', 2509), ('laughing', 2510), ('winning', 2511), ('ph', 2512), ('picture', 2513), ('cross', 2514), ('08717898035', 2515), ('porn', 2516), ('cock', 2517), ('erm', 2518), ('wanting', 2519), ('cry', 2520), ('delivered', 2521), ('reminder', 2522), ('postcode', 2523), ('history', 2524), ('shesil', 2525), ('claire', 2526), ('havin', 2527), ('masters', 2528), ('jan', 2529), ('boye', 2530), ('legal', 2531), ('height', 2532), ('vava', 2533), ('ne', 2534), ('roast', 2535), ('callers', 2536), ('cornwall', 2537), ('university', 2538), ('handle', 2539), (\"when's\", 2540), ('answers', 2541), ('networking', 2542), ('fell', 2543), ('iscoming', 2544), ('msging', 2545), ('brothas', 2546), ('further', 2547), ('le', 2548), ('114', 2549), ('14', 2550), ('tcr', 2551), ('2morrow', 2552), ('thanksgiving', 2553), ('dictionary', 2554), ('screen', 2555), ('ma', 2556), ('darling', 2557), ('period', 2558), ('subpoly', 2559), ('81618', 2560), ('confidence', 2561), ('behave', 2562), ('3510i', 2563), ('accordingly', 2564), ('malaria', 2565), ('miles', 2566), ('accident', 2567), ('auto', 2568), ('magical', 2569), ('women', 2570), ('cramps', 2571), ('advice', 2572), ('previous', 2573), ('stomach', 2574), ('throw', 2575), ('railway', 2576), ('contents', 2577), ('science', 2578), ('butt', 2579), ('irritating', 2580), ('timing', 2581), ('1000s', 2582), ('bowl', 2583), ('dearer', 2584), ('dem', 2585), ('2u', 2586), ('09', 2587), ('121', 2588), ('surfing', 2589), ('map', 2590), ('88039', 2591), ('skilgme', 2592), ('knowing', 2593), ('sheets', 2594), ('anybody', 2595), ('bless', 2596), ('tlp', 2597), ('mnth', 2598), ('09066362231', 2599), ('lives', 2600), ('halloween', 2601), ('returned', 2602), ('books', 2603), ('messenger', 2604), ('decision', 2605), ('drug', 2606), ('wer', 2607), ('nap', 2608), ('names', 2609), ('82242', 2610), ('toa', 2611), ('payoh', 2612), ('sorted', 2613), ('realize', 2614), ('stuck', 2615), ('lie', 2616), (\"dsn't\", 2617), ('4mths', 2618), ('mobilesdirect', 2619), ('08000938767', 2620), ('or2stoptxt', 2621), ('reality', 2622), ('indians', 2623), ('hmv', 2624), ('ubi', 2625), ('ansr', 2626), ('tyrone', 2627), ('deleted', 2628), ('avent', 2629), ('sh', 2630), ('staff', 2631), ('boost', 2632), ('dear1', 2633), ('best1', 2634), ('clos1', 2635), ('lvblefrnd', 2636), ('jstfrnd', 2637), ('cutefrnd', 2638), ('lifpartnr', 2639), ('swtheart', 2640), ('bstfrnd', 2641), ('burger', 2642), ('å£33', 2643), ('maintain', 2644), ('tirupur', 2645), ('monthly', 2646), ('sore', 2647), ('legs', 2648), ('torch', 2649), ('yetunde', 2650), ('eye', 2651), ('tree', 2652), ('august', 2653), ('pack', 2654), ('films', 2655), ('blackberry', 2656), ('hook', 2657), ('shipping', 2658), ('sports', 2659), ('blah', 2660), ('saved', 2661), ('pouts', 2662), ('stomps', 2663), ('tacos', 2664), ('pattern', 2665), ('completed', 2666), ('joining', 2667), ('finance', 2668), ('interflora', 2669), ('purchase', 2670), ('market', 2671), ('jenny', 2672), ('conform', 2673), ('nitros', 2674), ('crash', 2675), ('theres', 2676), ('huge', 2677), ('rocks', 2678), ('ow', 2679), ('15', 2680), ('2marrow', 2681), ('bruv', 2682), ('rewarding', 2683), ('misbehaved', 2684), ('u4', 2685), ('8552', 2686), ('bbd', 2687), ('pimples', 2688), ('depressed', 2689), ('frog', 2690), ('88888', 2691), ('edu', 2692), ('secretary', 2693), ('blessing', 2694), ('fights', 2695), ('69888', 2696), ('sells', 2697), ('mids', 2698), ('shoving', 2699), ('mas', 2700), ('advance', 2701), ('l', 2702), ('box334sk38ch', 2703), ('invest', 2704), ('447797706009', 2705), ('careers', 2706), ('convincing', 2707), ('cutting', 2708), ('69698', 2709), ('pandy', 2710), ('speechless', 2711), ('easily', 2712), ('sarcasm', 2713), ('northampton', 2714), ('lib', 2715), ('strange', 2716), ('phoned', 2717), ('mandan', 2718), ('joanna', 2719), ('slide', 2720), ('cleaning', 2721), ('maturity', 2722), ('convinced', 2723), ('manage', 2724), ('silently', 2725), ('sacrifice', 2726), ('beg', 2727), ('09061702893', 2728), ('chances', 2729), ('csh11', 2730), ('6days', 2731), ('tsandcs', 2732), ('apo', 2733), ('mokka', 2734), ('printed', 2735), ('forum', 2736), ('gpu', 2737), ('replacement', 2738), ('select', 2739), ('benefits', 2740), ('en', 2741), ('os', 2742), ('imp', 2743), ('sumthin', 2744), ('cardiff', 2745), ('80608', 2746), ('movietrivia', 2747), ('08712405022', 2748), ('ela', 2749), ('transfr', 2750), ('caring', 2751), ('abj', 2752), ('41685', 2753), ('07', 2754), ('cashto', 2755), ('08000407165', 2756), ('getstop', 2757), ('88222', 2758), ('php', 2759), ('fret', 2760), ('ovulation', 2761), ('rub', 2762), ('register', 2763), ('toot', 2764), ('prepared', 2765), ('brah', 2766), ('4882', 2767), ('09064019014', 2768), ('divorce', 2769), ('sooner', 2770), ('85069', 2771), ('usher', 2772), ('britney', 2773), ('print', 2774), ('everybody', 2775), ('unnecessarily', 2776), ('buses', 2777), ('everywhere', 2778), ('cousin', 2779), ('airtel', 2780), ('processed', 2781), ('admin', 2782), ('slightly', 2783), ('newest', 2784), ('potter', 2785), ('phoenix', 2786), ('harry', 2787), ('readers', 2788), ('wrote', 2789), ('smashed', 2790), ('visionsms', 2791), ('ideas', 2792), ('musthu', 2793), ('exeter', 2794), ('chechi', 2795), ('arent', 2796), ('granite', 2797), ('explosive', 2798), ('nasdaq', 2799), ('cdgt', 2800), ('40533', 2801), ('dokey', 2802), ('sorting', 2803), ('madam', 2804), ('rgds', 2805), ('havenåõt', 2806), ('lies', 2807), ('howard', 2808), ('diet', 2809), ('epsilon', 2810), ('file', 2811), ('connection', 2812), ('format', 2813), ('slots', 2814), ('aiyar', 2815), ('scold', 2816), ('07742676969', 2817), ('786', 2818), ('unredeemed', 2819), ('08719180248', 2820), ('45239', 2821), ('rec', 2822), ('7ish', 2823), ('japanese', 2824), ('proverb', 2825), ('main', 2826), ('faith', 2827), ('behind', 2828), ('thx', 2829), ('renewal', 2830), ('color', 2831), ('peaceful', 2832), ('honeybee', 2833), ('sweetest', 2834), ('laughed', 2835), ('havnt', 2836), ('crack', 2837), ('bottle', 2838), ('pt2', 2839), (\"everybody's\", 2840), ('fit', 2841), ('telugu', 2842), ('oooh', 2843), ('ey', 2844), ('fastest', 2845), ('growing', 2846), ('2stop', 2847), ('eighth', 2848), ('shore', 2849), ('waves', 2850), ('clearing', 2851), ('930', 2852), ('tonights', 2853), ('suggest', 2854), ('fran', 2855), ('pool', 2856), ('shld', 2857), ('kaiez', 2858), ('trains', 2859), ('we\\x89û÷re', 2860), ('jolly', 2861), ('rule', 2862), ('lov', 2863), ('mistakes', 2864), ('genius', 2865), ('fujitsu', 2866), ('poem', 2867), ('fear', 2868), ('shitload', 2869), ('driver', 2870), ('whr', 2871), ('bread', 2872), ('milk', 2873), ('350', 2874), ('hrishi', 2875), ('89555', 2876), ('textoperator', 2877), ('g696ga', 2878), ('inshah', 2879), ('lush', 2880), ('anna', 2881), ('nagar', 2882), ('lotta', 2883), ('lately', 2884), ('09061743806', 2885), ('box326', 2886), ('700', 2887), ('location', 2888), ('2waxsto', 2889), ('speaking', 2890), ('miserable', 2891), ('polo', 2892), ('373', 2893), ('w1j', 2894), ('6hl', 2895), ('bcums', 2896), ('affection', 2897), ('kettoda', 2898), ('manda', 2899), ('0845', 2900), ('removal', 2901), ('08708034412', 2902), ('kegger', 2903), ('flowing', 2904), ('09065174042', 2905), ('07821230901', 2906), ('unknown', 2907), ('recognise', 2908), ('jsco', 2909), ('nydc', 2910), ('87021', 2911), ('tablets', 2912), ('reaction', 2913), ('birla', 2914), ('soft', 2915), ('reasonable', 2916), ('bird', 2917), ('postcard', 2918), ('batch', 2919), ('talks', 2920), ('bar', 2921), ('630', 2922), ('mails', 2923), ('purpose', 2924), ('å£75', 2925), ('homeowners', 2926), ('tenants', 2927), ('previously', 2928), ('1956669', 2929), ('anthony', 2930), ('supervisor', 2931), ('callfreefone', 2932), ('08081560665', 2933), ('ofå£2000', 2934), ('07786200117', 2935), ('evenings', 2936), ('otside', 2937), (\"cann't\", 2938), ('bruce', 2939), ('gautham', 2940), ('goals', 2941), ('4txt', 2942), ('partnership', 2943), ('coping', 2944), ('arts', 2945), ('bmw', 2946), ('urgently', 2947), ('shortage', 2948), ('source', 2949), ('arng', 2950), ('business', 2951), ('21870000', 2952), ('mailbox', 2953), ('messaging', 2954), ('40', 2955), ('09056242159', 2956), ('retrieve', 2957), ('gr8prizes', 2958), ('smokes', 2959), ('ruining', 2960), ('knock', 2961), ('whose', 2962), ('80082', 2963), ('lil', 2964), ('gods', 2965), ('blessings', 2966), ('pouch', 2967), ('dearly', 2968), ('tank', 2969), ('med', 2970), ('stamped', 2971), ('113', 2972), ('bray', 2973), ('wicklow', 2974), ('eire', 2975), ('indeed', 2976), ('europe', 2977), ('hide', 2978), ('09061221061', 2979), ('28days', 2980), ('box177', 2981), ('m221bp', 2982), ('2yr', 2983), ('warranty', 2984), ('på£3', 2985), ('99', 2986), ('lion', 2987), ('wipro', 2988), ('football', 2989), ('n9dx', 2990), ('yck', 2991), ('lip', 2992), ('switch', 2993), ('jen', 2994), ('freedom', 2995), ('2moro', 2996), ('macho', 2997), ('satisfy', 2998), ('randy', 2999), ('rights', 3000), ('demand', 3001), ('husband', 3002), ('elaine', 3003), ('confirmed', 3004), ('aathi', 3005), ('transfered', 3006), ('drunken', 3007), ('crap', 3008), ('speedchat', 3009), ('langport', 3010), ('confuses', 3011), ('spoiled', 3012), ('kavalan', 3013), ('kicks', 3014), ('stick', 3015), ('apart', 3016), ('1hr', 3017), ('delay', 3018), ('m26', 3019), ('3uz', 3020), ('diff', 3021), ('cheese', 3022), ('goodnite', 3023), ('ericsson', 3024), ('09066350750', 3025), ('math', 3026), ('yelling', 3027), ('disturbing', 3028), ('unfortunately', 3029), ('natalja', 3030), ('nat27081980', 3031), ('event', 3032), ('tease', 3033), ('devouring', 3034), ('supply', 3035), ('subs16', 3036), ('1win150ppmx3', 3037), (\"there're\", 3038), ('3650', 3039), ('09066382422', 3040), ('300603', 3041), ('bcm4284', 3042), ('tok', 3043), ('blessed', 3044), ('makin', 3045), ('colours', 3046), ('euro', 3047), ('east', 3048), ('coast', 3049), ('thread', 3050), ('bottom', 3051), ('vomiting', 3052), ('picsfree1', 3053), ('vid', 3054), ('hor', 3055), ('bedrm', 3056), ('minmobsmorelkpobox177hp51fl', 3057), ('åð', 3058), ('enjoyed', 3059), ('thot', 3060), ('tlk', 3061), ('hoped', 3062), ('coin', 3063), ('shipped', 3064), ('drpd', 3065), ('deeraj', 3066), ('deepak', 3067), ('wating', 3068), ('telly', 3069), ('08719181513', 3070), ('08718730666', 3071), ('gent', 3072), ('09064012160', 3073), ('durban', 3074), ('academic', 3075), ('department', 3076), ('transfer', 3077), ('citizen', 3078), ('flaked', 3079), ('wise', 3080), ('advise', 3081), ('recent', 3082), ('å£1500', 3083), ('dracula', 3084), ('ghost', 3085), ('addamsfa', 3086), ('munsters', 3087), ('exorcist', 3088), ('twilight', 3089), ('staring', 3090), ('juicy', 3091), ('jaya', 3092), ('suzy', 3093), ('09066612661', 3094), ('luxury', 3095), ('canary', 3096), ('usb', 3097), ('form', 3098), ('clark', 3099), ('utter', 3100), ('subs', 3101), ('pours', 3102), ('dial', 3103), ('oreo', 3104), ('truffles', 3105), ('discussed', 3106), ('snowman', 3107), ('pop', 3108), ('0776xxxxxxx', 3109), ('potato', 3110), (\"08452810075over18's\", 3111), ('drinking', 3112), ('08002888812', 3113), ('walmart', 3114), ('moved', 3115), ('heads', 3116), ('responsibility', 3117), ('drinkin', 3118), ('dancing', 3119), ('tues', 3120), ('poker', 3121), ('pushes', 3122), ('0844', 3123), ('861', 3124), ('prepayment', 3125), ('monkeys', 3126), ('ganesh', 3127), ('dr', 3128), ('practical', 3129), ('konw', 3130), ('waht', 3131), ('rael', 3132), ('gving', 3133), ('exmpel', 3134), ('jsut', 3135), ('evrey', 3136), ('splleing', 3137), ('wrnog', 3138), ('sitll', 3139), ('raed', 3140), ('wihtuot', 3141), ('ayn', 3142), ('mitsake', 3143), ('blur', 3144), ('letter', 3145), ('bluff', 3146), ('desperate', 3147), ('probs', 3148), ('hon', 3149), ('chill', 3150), ('in2', 3151), ('kothi', 3152), ('effect', 3153), ('innings', 3154), ('0578', 3155), ('mmmmmm', 3156), ('kidz', 3157), ('propose', 3158), ('sum', 3159), ('09061209465', 3160), ('suprman', 3161), ('matrix3', 3162), ('starwars3', 3163), ('sleepin', 3164), ('dry', 3165), ('trade', 3166), ('tirunelvali', 3167), ('ship', 3168), ('river', 3169), ('08709222922', 3170), ('8p', 3171), ('peak', 3172), ('hyde', 3173), ('silver', 3174), ('slice', 3175), ('lou', 3176), ('4eva', 3177), ('subscribed', 3178), ('07734396839', 3179), ('ibh', 3180), ('nokia6600', 3181), ('lions', 3182), ('lionm', 3183), ('lionp', 3184), ('treated', 3185), ('fab', 3186), ('wks', 3187), ('jeans', 3188), ('pobox45w2tg150p', 3189), ('wishin', 3190), ('09058091854', 3191), ('box385', 3192), ('m6', 3193), ('6wu', 3194), ('drove', 3195), ('fringe', 3196), ('8pm', 3197), ('payment', 3198), ('transport', 3199), ('nos', 3200), ('raise', 3201), ('wkg', 3202), ('nus', 3203), ('everyday', 3204), ('expression', 3205), ('lst', 3206), ('tomarrow', 3207), ('headin', 3208), ('web', 3209), ('3100', 3210), ('mummy', 3211), ('belive', 3212), ('83222', 3213), ('sigh', 3214), ('indyarocks', 3215), ('tissco', 3216), ('tayseer', 3217), ('aww', 3218), ('cm', 3219), ('sweets', 3220), ('adventure', 3221), ('galileo', 3222), ('closes', 3223), ('despite', 3224), ('2wks', 3225), ('engin', 3226), ('nichols', 3227), ('natural', 3228), ('community', 3229), ('mel', 3230), ('forgiven', 3231), ('sarcastic', 3232), ('roommates', 3233), ('executive', 3234), ('4a', 3235), ('hes', 3236), ('catching', 3237), ('woot', 3238), ('pickle', 3239), ('lower', 3240), ('display', 3241), ('owns', 3242), ('property', 3243), ('unbelievable', 3244), ('26th', 3245), ('block', 3246), ('å£5', 3247), ('challenge', 3248), ('å£6', 3249), ('soul', 3250), ('fire', 3251), ('flame', 3252), ('modules', 3253), ('2p', 3254), ('hm', 3255), ('massive', 3256), ('09058094565', 3257), ('hospitals', 3258), ('jolt', 3259), ('repeat', 3260), ('habit', 3261), ('xavier', 3262), ('funk', 3263), ('tones2u', 3264), ('09066364311', 3265), ('yogasana', 3266), ('pap', 3267), ('deciding', 3268), ('clever', 3269), ('ikea', 3270), ('evr', 3271), ('falling', 3272), ('smeone', 3273), ('specific', 3274), ('stores', 3275), ('british', 3276), ('hotels', 3277), ('sw73ss', 3278), ('successful', 3279), ('actor', 3280), ('unemployed', 3281), ('rcv', 3282), ('rhythm', 3283), ('sinco', 3284), ('payee', 3285), ('icicibank', 3286), ('frauds', 3287), ('disclose', 3288), ('mis', 3289), ('avatar', 3290), ('annie', 3291), ('atlast', 3292), ('greet', 3293), ('153', 3294), ('constantly', 3295), ('jane', 3296), ('forms', 3297), ('oic', 3298), ('bristol', 3299), ('sends', 3300), ('dan', 3301), ('hsbc', 3302), ('several', 3303), ('bathing', 3304), ('doesn', 3305), ('greatest', 3306), ('courage', 3307), ('bear', 3308), ('defeat', 3309), ('waited', 3310), ('restaurant', 3311), ('claims', 3312), ('5pm', 3313), ('measure', 3314), ('haiz', 3315), ('buffet', 3316), ('ned', 3317), ('actual', 3318), ('disconnect', 3319), (\"'terrorist'\", 3320), ('confirmd', 3321), ('verified', 3322), ('cnn', 3323), ('ibn', 3324), ('12mths', 3325), ('maneesha', 3326), ('satisfied', 3327), ('toll', 3328), ('mini', 3329), ('melt', 3330), ('eek', 3331), ('pan', 3332), ('perhaps', 3333), ('2000', 3334), ('mnths', 3335), ('consider', 3336), ('kills', 3337), ('annoying', 3338), ('birth', 3339), ('stays', 3340), ('123', 3341), ('09050002311', 3342), ('b4280703', 3343), ('08718727868', 3344), ('condition', 3345), ('youre', 3346), ('turning', 3347), ('inconsiderate', 3348), ('nag', 3349), ('recession', 3350), ('hence', 3351), ('doors', 3352), ('09066358152', 3353), ('prompts', 3354), ('ola', 3355), ('lays', 3356), ('issue', 3357), ('vegas', 3358), ('chase', 3359), ('9t', 3360), ('tooo', 3361), (\"'simple'\", 3362), ('eurodisinc', 3363), ('trav', 3364), ('aco', 3365), ('entry41', 3366), ('morefrmmob', 3367), ('shracomorsglsuplt', 3368), ('ls1', 3369), ('3aj', 3370), ('cappuccino', 3371), ('opinions', 3372), ('argh', 3373), ('xuhui', 3374), ('include', 3375), ('popped', 3376), ('christ', 3377), ('chocolate', 3378), ('fav', 3379), ('1030', 3380), ('hugs', 3381), ('snogs', 3382), ('674', 3383), ('wifi', 3384), ('fightng', 3385), ('dificult', 3386), ('lf56', 3387), ('steve', 3388), ('88877', 3389), ('dresser', 3390), ('randomly', 3391), ('ms', 3392), ('inches', 3393), ('gudnite', 3394), ('edge', 3395), ('goldviking', 3396), ('762', 3397), ('sake', 3398), ('carry', 3399), ('forgotten', 3400), ('exhaust', 3401), ('ummmmmaah', 3402), ('81303', 3403), ('sufficient', 3404), ('onion', 3405), ('west', 3406), ('reckon', 3407), ('foot', 3408), ('penis', 3409), ('soo', 3410), ('borin', 3411), ('flash', 3412), ('jealous', 3413), ('whn', 3414), ('ofice', 3415), ('cn', 3416), ('reverse', 3417), ('cheating', 3418), ('mathematics', 3419), ('racing', 3420), ('chart', 3421), ('purse', 3422), ('taylor', 3423), ('bills', 3424), (\"'melle\", 3425), ('melle', 3426), ('oru', 3427), ('minnaminunginte', 3428), ('nurungu', 3429), ('vettam', 3430), ('duchess', 3431), ('008704050406', 3432), (\"roommate's\", 3433), ('proof', 3434), ('tool', 3435), ('recharge', 3436), ('parking', 3437), ('island', 3438), ('traffic', 3439), ('diamonds', 3440), ('puttin', 3441), ('22', 3442), ('tahan', 3443), ('anot', 3444), ('stayed', 3445), ('tnc', 3446), ('channel', 3447), ('cuddling', 3448), ('standing', 3449), ('interest', 3450), ('figures', 3451), ('generally', 3452), ('regular', 3453), ('prem', 3454), ('61200', 3455), ('packs', 3456), ('itcould', 3457), ('tap', 3458), ('spile', 3459), ('broad', 3460), ('canal', 3461), ('items', 3462), ('booty', 3463), ('5k', 3464), ('09064011000', 3465), ('cr01327bt', 3466), ('fixedline', 3467), ('shut', 3468), ('neither', 3469), ('likes', 3470), ('apologise', 3471), ('royal', 3472), ('beauty', 3473), ('thousands', 3474), ('minimum', 3475), ('environment', 3476), ('terrific', 3477), ('program', 3478), ('gals', 3479), ('attached', 3480), ('develop', 3481), ('ability', 3482), ('taxi', 3483), ('odi', 3484), ('moving', 3485), ('covers', 3486), ('brief', 3487), (\"guy's\", 3488), ('tons', 3489), ('shoppin', 3490), ('horo', 3491), ('star', 3492), ('ths', 3493), ('ias', 3494), ('held', 3495), ('shocking', 3496), ('ws', 3497), ('heading', 3498), ('pull', 3499), ('logos', 3500), ('txt82228', 3501), ('jiayin', 3502), ('mcat', 3503), ('200', 3504), ('karaoke', 3505), ('loss', 3506), ('temp', 3507), ('rice', 3508), ('sar', 3509), ('base', 3510), ('diwali', 3511), ('coat', 3512), ('superior', 3513), ('waheed', 3514), ('weirdest', 3515), ('worlds', 3516), ('dressed', 3517), ('easier', 3518), ('0825', 3519), ('threats', 3520), ('sales', 3521), ('hppnss', 3522), ('sorrow', 3523), ('forevr', 3524), ('goodfriend', 3525), ('chain', 3526), ('08712402050', 3527), ('lines', 3528), ('10ppm', 3529), ('ag', 3530), ('promo', 3531), ('favorite', 3532), ('cheat', 3533), ('continue', 3534), ('panic', 3535), ('vodka', 3536), ('allowed', 3537), ('nowadays', 3538), ('causing', 3539), ('yunny', 3540), ('realise', 3541), ('push', 3542), ('cooked', 3543), ('buff', 3544), ('heater', 3545), ('discreet', 3546), ('vip', 3547), ('absolutly', 3548), ('2morro', 3549), ('luvs', 3550), ('shy', 3551), ('nalla', 3552), ('costing', 3553), ('changes', 3554), ('didnåõt', 3555), ('hallaq', 3556), ('flies', 3557), (\"'til\", 3558), ('inch', 3559), ('300p', 3560), ('outstanding', 3561), ('30ish', 3562), ('vewy', 3563), ('bud', 3564), (\"priscilla's\", 3565), ('excuses', 3566), ('forgets', 3567), ('mental', 3568), ('loveme', 3569), ('practicing', 3570), ('babies', 3571), ('arm', 3572), ('shot', 3573), ('0871', 3574), ('872', 3575), ('box95qu', 3576), ('desparate', 3577), ('filling', 3578), ('dining', 3579), ('asp', 3580), ('field', 3581), ('administrator', 3582), ('09094646899', 3583), ('vu', 3584), ('bcm1896wc1n3xx', 3585), ('oil', 3586), ('fave', 3587), ('09063458130', 3588), ('polyph', 3589), ('amy', 3590), ('effects', 3591), ('sticky', 3592), ('sathya', 3593), ('considering', 3594), ('warning', 3595), ('piss', 3596), ('aunty', 3597), ('secretly', 3598), ('fancies', 3599), ('datebox1282essexcm61xn', 3600), ('09058094599', 3601), ('sweetheart', 3602), ('bootydelious', 3603), ('banks', 3604), ('dhoni', 3605), ('combine', 3606), ('salam', 3607), ('sharing', 3608), ('funeral', 3609), ('touched', 3610), ('csbcm4235wc1n3xx', 3611), ('maxå£7', 3612), ('billion', 3613), ('custom', 3614), ('control', 3615), ('ipad', 3616), ('count', 3617), ('division', 3618), ('released', 3619), ('bck', 3620), ('mt', 3621), ('slo', 3622), ('4fil', 3623), ('premium', 3624), ('pink', 3625), ('housewives', 3626), ('0871750', 3627), ('77', 3628), ('landlines', 3629), ('shelf', 3630), ('h', 3631), ('juan', 3632), ('69696', 3633), ('86888', 3634), ('subscribe6gbp', 3635), ('3hrs', 3636), ('txtstop', 3637), ('2geva', 3638), ('telephone', 3639), ('managed', 3640), ('sachin', 3641), ('aka', 3642), ('call09050000327', 3643), ('rstm', 3644), ('sw7', 3645), ('3ss', 3646), ('detroit', 3647), ('2find', 3648), ('ke', 3649), ('slip', 3650), ('07xxxxxxxxx', 3651), ('explicit', 3652), ('secs', 3653), ('02073162414', 3654), ('gist', 3655), ('bec', 3656), ('mega', 3657), ('sleepy', 3658), ('creepy', 3659), ('eta', 3660), ('itåõs', 3661), ('tight', 3662), ('confused', 3663), ('08701417012150p', 3664), ('denis', 3665), ('size', 3666), ('enuff', 3667), ('mb', 3668), ('ebay', 3669), ('båõday', 3670), ('sweetie', 3671), ('language', 3672), ('student', 3673), ('wld', 3674), ('slippers', 3675), ('free2day', 3676), (\"george's\", 3677), ('89080', 3678), ('0870241182716', 3679), ('kg', 3680), ('tests', 3681), ('burns', 3682), ('sary', 3683), ('plm', 3684), ('simpler', 3685), ('09050001808', 3686), ('m95', 3687), ('valid12hrs', 3688), ('swatch', 3689), ('dare', 3690), ('raj', 3691), ('embarassed', 3692), ('blind', 3693), ('key', 3694), ('status', 3695), ('toshiba', 3696), ('name1', 3697), ('name2', 3698), ('mobno', 3699), ('adam', 3700), ('07123456789', 3701), ('txtno', 3702), ('ads', 3703), ('cochin', 3704), ('indicate', 3705), ('fish', 3706), ('stayin', 3707), ('\\rham', 3708), ('alive', 3709), ('blu', 3710), ('concert', 3711), ('deliveredtomorrow', 3712), ('ideal', 3713), ('front', 3714), ('lovers', 3715), ('mth', 3716), ('oranges', 3717), ('upd8', 3718), ('ding', 3719), ('female', 3720), ('grow', 3721), ('calm', 3722), ('up4', 3723), ('hlp', 3724), ('08712317606', 3725), ('msg150p', 3726), ('2rcv', 3727), ('greetings', 3728), ('classes', 3729), ('mac', 3730), ('mouth', 3731), ('donate', 3732), ('weigh', 3733), ('breathe', 3734), ('dislikes', 3735), ('appreciated', 3736), ('decisions', 3737), ('error', 3738), ('mahal', 3739), ('tms', 3740), ('widelive', 3741), ('index', 3742), ('wml', 3743), ('aunt', 3744), ('bleh', 3745), ('cld', 3746), ('capital', 3747), ('responce', 3748), ('queen', 3749), ('26', 3750), ('becomes', 3751), (\"mum's\", 3752), ('wave', 3753), ('poop', 3754), ('cookies', 3755), ('bc', 3756), ('potential', 3757), ('talent', 3758), ('exhausted', 3759), ('sender', 3760), ('pee', 3761), ('research', 3762), ('avoiding', 3763), ('superb', 3764), ('faggy', 3765), ('fo', 3766), ('expressoffer', 3767), ('lo', 3768), ('occupy', 3769), ('goal', 3770), ('henry', 3771), ('liverpool', 3772), ('prof', 3773), ('papers', 3774), ('sem', 3775), ('evry', 3776), ('beyond', 3777), ('sry', 3778), ('geeeee', 3779), ('module', 3780), ('08006344447', 3781), ('05', 3782), ('09058099801', 3783), ('b4190604', 3784), ('7876150ppm', 3785), ('pride', 3786), ('kid', 3787), ('difference', 3788), ('soiree', 3789), ('hockey', 3790), ('65', 3791), ('jogging', 3792), ('morphine', 3793), ('contacts', 3794), ('lyk', 3795), ('algarve', 3796), ('keeps', 3797), ('petey', 3798), ('gang', 3799), ('dumb', 3800), ('solved', 3801), ('textbuddy', 3802), ('gaytextbuddy', 3803), ('89693', 3804), ('middle', 3805), ('mumtaz', 3806), ('killed', 3807), (\"mumtaz's\", 3808), ('commercial', 3809), ('borrow', 3810), ('flip', 3811), ('garden', 3812), ('bulbs', 3813), ('seeds', 3814), ('scotsman', 3815), ('go2', 3816), ('notxt', 3817), ('refilled', 3818), ('inr', 3819), ('keralacircle', 3820), ('prepaid', 3821), ('kr', 3822), ('lux', 3823), ('upstairs', 3824), ('acted', 3825), ('killing', 3826), ('sentence', 3827), ('concentrate', 3828), ('posts', 3829), ('teaching', 3830), ('spider', 3831), ('shock', 3832), ('desires', 3833), ('tscs087147403231winawk', 3834), ('50perwksub', 3835), ('handed', 3836), ('jokin', 3837), ('topic', 3838), ('sptv', 3839), ('prince', 3840), ('caroline', 3841), ('incredible', 3842), ('blow', 3843), ('o2fwd', 3844), ('18p', 3845), ('celebration', 3846), ('foley', 3847), ('prizes', 3848), ('82050', 3849), ('loxahatchee', 3850), ('burning', 3851), ('jas', 3852), ('painting', 3853), ('tortilla', 3854), ('tension', 3855), ('eastenders', 3856), ('dot', 3857), ('compare', 3858), ('herself', 3859), ('violet', 3860), ('tulip', 3861), ('lily', 3862), ('wkent', 3863), ('150p16', 3864), ('steam', 3865), ('innocent', 3866), ('tiwary', 3867), ('scrounge', 3868), ('rush', 3869), ('goodo', 3870), ('signing', 3871), ('delhi', 3872), ('drms', 3873), ('dedicated', 3874), ('dedicate', 3875), ('nic', 3876), ('normally', 3877), ('broken', 3878), ('instantly', 3879), ('326', 3880), ('literally', 3881), ('jerry', 3882), ('irritates', 3883), ('fails', 3884), ('jobs', 3885), ('neck', 3886), ('165', 3887), ('lyfu', 3888), ('lyf', 3889), ('ali', 3890), ('meow', 3891), ('easter', 3892), ('lag', 3893), ('andros', 3894), ('dorm', 3895), ('windows', 3896), ('ben', 3897), ('cme', 3898), ('08700621170150p', 3899), ('mostly', 3900), ('constant', 3901), ('skip', 3902), ('tt', 3903), ('80086', 3904), ('txttowin', 3905), ('collecting', 3906), ('filthy', 3907), ('vth', 3908), ('cared', 3909), ('gender', 3910), ('gaps', 3911), ('thm', 3912), ('fan', 3913), ('cashbin', 3914), ('lane', 3915), ('castor', 3916), ('joy', 3917), ('garbage', 3918), ('stones', 3919), ('low', 3920), ('sunlight', 3921), ('fills', 3922), ('infront', 3923), ('ee', 3924), ('å£50', 3925), ('910', 3926), ('dime', 3927), ('swiss', 3928), ('crore', 3929), ('politicians', 3930), ('nhs', 3931), ('2b', 3932), ('terminated', 3933), ('inconvenience', 3934), ('rajas', 3935), ('burrito', 3936), ('emerging', 3937), ('fiend', 3938), ('impede', 3939), ('hesitant', 3940), ('degree', 3941), (\"åòit's\", 3942), ('flowers', 3943), ('505060', 3944), (\"s'fine\", 3945), ('ahhhh', 3946), ('woken', 3947), ('cruisin', 3948), ('mca', 3949), ('chick', 3950), ('boobs', 3951), ('craving', 3952), ('dhanush', 3953), ('brownie', 3954), ('responsibilities', 3955), ('chop', 3956), (\"weather's\", 3957), ('apes', 3958), ('fight', 3959), ('dine', 3960), ('nearby', 3961), ('cliffs', 3962), ('01223585334', 3963), ('2c', 3964), ('shagged', 3965), ('2end', 3966), ('convenience', 3967), ('pooja', 3968), ('sweatter', 3969), ('sittin', 3970), ('wind', 3971), ('drops', 3972), ('mad1', 3973), ('mad2', 3974), ('09050001295', 3975), ('a21', 3976), ('olowoyey', 3977), ('argentina', 3978), ('horniest', 3979), ('09090900040', 3980), ('extreme', 3981), ('privacy', 3982), ('sic', 3983), ('7mp', 3984), ('0870753331018', 3985), ('samus', 3986), ('shoulders', 3987), ('gyno', 3988), ('belong', 3989), ('09064012103', 3990), ('windy', 3991), ('anand', 3992), ('betta', 3993), ('aging', 3994), ('products', 3995), ('paranoid', 3996), ('iphone', 3997), ('146tf150p', 3998), ('consistently', 3999), ('practicum', 4000), ('links', 4001), ('ears', 4002), ('cantdo', 4003), ('anythingtomorrow', 4004), ('myparents', 4005), ('aretaking', 4006), ('outfor', 4007), ('katexxx', 4008), ('you\\x89û÷ll', 4009), ('078', 4010), ('alibi', 4011), ('birthdate', 4012), ('certificate', 4013), ('publish', 4014), ('4w', 4015), ('technologies', 4016), ('lengths', 4017), ('behalf', 4018), ('stunning', 4019), ('pressies', 4020), ('scarcasim', 4021), ('07008009200', 4022), ('skyving', 4023), ('09077818151', 4024), ('calls1', 4025), ('50ppm', 4026), ('30s', 4027), ('santacalling', 4028), ('stagwood', 4029), ('winterstone', 4030), ('victors', 4031), ('ashley', 4032), ('hui', 4033), ('xin', 4034), ('ringing', 4035), ('houseful', 4036), ('brats', 4037), ('pulling', 4038), ('wasnt', 4039), ('sooo', 4040), ('freaking', 4041), ('myspace', 4042), ('logged', 4043), ('x49', 4044), ('09065989182', 4045), ('txtstar', 4046), ('wetherspoons', 4047), ('lark', 4048), ('ga', 4049), ('conversations', 4050), ('senses', 4051), ('overemphasise', 4052), ('absence', 4053), ('xam', 4054), ('hall', 4055), ('hesitation', 4056), ('intha', 4057), ('ponnungale', 4058), ('ipaditan', 4059), (\"when're\", 4060), ('mcr', 4061), ('glorious', 4062), ('anniversary', 4063), ('finds', 4064), ('coaxing', 4065), ('images', 4066), ('fond', 4067), ('souveniers', 4068), ('cougar', 4069), ('pen', 4070), ('waheeda', 4071), ('strongly', 4072), ('creativity', 4073), ('stifled', 4074), ('acl03530150pm', 4075), ('60', 4076), ('400thousad', 4077), ('olol', 4078), ('trained', 4079), ('advisors', 4080), ('dialling', 4081), ('402', 4082), ('arestaurant', 4083), ('squid', 4084), ('dosomething', 4085), ('forgiveness', 4086), ('lists', 4087), ('howda', 4088), ('mathe', 4089), ('samachara', 4090), ('commit', 4091), ('ubandu', 4092), ('installing', 4093), ('disk', 4094), ('repair', 4095), ('piggy', 4096), ('copied', 4097), ('leo', 4098), ('dled', 4099), ('seekers', 4100), ('mentionned', 4101), ('08712402578', 4102), ('unlike', 4103), ('patients', 4104), ('turkeys', 4105), ('efficient', 4106), ('onum', 4107), ('seperated', 4108), ('\\x8eö´\\x89ó', 4109), ('\\x8bû¬ud', 4110), ('receipts', 4111), ('pendent', 4112), ('adjustable', 4113), ('cooperative', 4114), ('allows', 4115), ('bognor', 4116), ('splendid', 4117), ('neglect', 4118), ('tirunelvai', 4119), ('serving', 4120), ('banned', 4121), ('08719899230', 4122), ('rg21', 4123), ('4jx', 4124), ('ortxt', 4125), ('strips', 4126), ('postal', 4127), ('errors', 4128), ('difficulties', 4129), ('correction', 4130), ('textand', 4131), ('08002988890', 4132), ('macs', 4133), ('08714712394', 4134), ('machines', 4135), (\"prashanthettan's\", 4136), ('outs', 4137), ('slower', 4138), ('maniac', 4139), ('affectionate', 4140), ('l8', 4141), ('gon', 4142), ('tram', 4143), ('vic', 4144), ('crucify', 4145), ('application', 4146), ('broadband', 4147), ('installation', 4148), ('skyped', 4149), ('kz', 4150), (\"we've\", 4151), ('given', 4152), ('ultimatum', 4153), ('countin', 4154), ('aburo', 4155), ('rr', 4156), ('spring', 4157), ('åòharry', 4158), ('cheque', 4159), ('ritten', 4160), ('fold', 4161), ('laundry', 4162), ('chloe', 4163), ('thankyou', 4164), ('087016248', 4165), ('fifth', 4166), ('woozles', 4167), ('weasels', 4168), ('asia', 4169), ('rightio', 4170), ('48', 4171), ('pshew', 4172), ('kit', 4173), ('strip', 4174), ('1013', 4175), ('ig11', 4176), ('oja', 4177), ('rahul', 4178), ('dengra', 4179), ('smash', 4180), ('bros', 4181), ('religiously', 4182), ('07973788240', 4183), ('08715203649', 4184), ('deny', 4185), ('3pound', 4186), ('disturbance', 4187), ('dlf', 4188), ('premarica', 4189), ('rv', 4190), ('hol', 4191), ('rvx', 4192), ('rearrange', 4193), ('dormitory', 4194), ('astronomer', 4195), ('starer', 4196), ('election', 4197), ('recount', 4198), ('hitler', 4199), ('eleven', 4200), ('sunoco', 4201), ('flew', 4202), ('window', 4203), ('level', 4204), ('disconnected', 4205), ('disc', 4206), ('knickers', 4207), ('01223585236', 4208), ('nikiyu4', 4209), ('retired', 4210), ('paragon', 4211), ('prospects', 4212), ('zoe', 4213), ('shitin', 4214), ('defo', 4215), ('hardest', 4216), ('millions', 4217), ('lekdog', 4218), ('ore', 4219), ('owo', 4220), ('fro', 4221), ('suffering', 4222), ('dysentry', 4223), ('seventeen', 4224), ('hundred', 4225), ('ml', 4226), ('complain', 4227), ('bettr', 4228), ('bsnl', 4229), ('offc', 4230), ('nd', 4231), ('jackson', 4232), ('congratulation', 4233), ('whatsup', 4234), ('å£12', 4235), ('sources', 4236), ('unhappiness', 4237), ('invaders', 4238), ('orig', 4239), ('console', 4240), ('dock', 4241), ('rolled', 4242), ('newscaster', 4243), ('dabbles', 4244), ('flute', 4245), ('wheel', 4246), ('zhong', 4247), ('se', 4248), ('qing', 4249), ('act', 4250), ('wesleys', 4251), ('initiate', 4252), ('musical', 4253), ('flaky', 4254), ('ammae', 4255), ('steering', 4256), ('amused', 4257), ('tightly', 4258), ('inspection', 4259), ('nursery', 4260), ('turned', 4261), ('que', 4262), ('pases', 4263), ('buen', 4264), ('tiempo', 4265), ('receivea', 4266), ('09061701461', 4267), ('kl341', 4268), ('non', 4269), ('dismay', 4270), ('ridden', 4271), ('oclock', 4272), ('bash', 4273), ('gsoh', 4274), ('spam', 4275), ('gigolo', 4276), ('mens', 4277), ('oncall', 4278), ('mjzgroup', 4279), ('08714342399', 4280), ('50rcvd', 4281), ('smarter', 4282), ('fox', 4283), ('frndsship', 4284), ('dwn', 4285), ('gnarls', 4286), ('barkleys', 4287), ('janx', 4288), ('dads', 4289), ('improved', 4290), ('8077', 4291), ('jacuzzi', 4292), ('loosu', 4293), ('careless', 4294), ('hiphop', 4295), ('woo', 4296), ('hoo', 4297), ('allo', 4298), ('braved', 4299), ('triumphed', 4300), ('b\\x89û÷ham', 4301), ('investigate', 4302), ('0906346330', 4303), ('47', 4304), ('po19', 4305), ('2ez', 4306), ('09064019788', 4307), ('box42wr29c', 4308), ('khelate', 4309), ('kintu', 4310), ('opponenter', 4311), ('dhorte', 4312), ('lage', 4313), ('nevr', 4314), ('unrecognized', 4315), ('somone', 4316), ('valuing', 4317), ('definitly', 4318), ('undrstnd', 4319), ('gravel', 4320), ('31p', 4321), ('lifebook', 4322), ('companion', 4323), ('chef', 4324), ('listener', 4325), ('organizer', 4326), ('boyfriend', 4327), ('sympathetic', 4328), ('athletic', 4329), ('courageous', 4330), ('determined', 4331), ('dependable', 4332), ('psychologist', 4333), ('pest', 4334), ('exterminator', 4335), ('psychiatrist', 4336), ('healer', 4337), ('stylist', 4338), ('aaniye', 4339), ('pudunga', 4340), ('venaam', 4341), ('7548', 4342), ('4041', 4343), ('banneduk', 4344), ('peach', 4345), ('tasts', 4346), ('guessin', 4347), ('corvettes', 4348), ('suffers', 4349), ('silence', 4350), ('ffffuuuuuuu', 4351), ('breakfast', 4352), ('hamper', 4353), ('sq825', 4354), ('arrival', 4355), ('stressfull', 4356), ('adds', 4357), ('needing', 4358), ('ultimately', 4359), ('tor', 4360), ('motive', 4361), ('tui', 4362), ('achieve', 4363), ('korli', 4364), ('imin', 4365), ('dontmatter', 4366), ('urgoin', 4367), ('outl8r', 4368), ('emailed', 4369), ('yifeng', 4370), ('objection', 4371), ('09061744553', 4372), ('polyh', 4373), ('christmassy', 4374), ('021', 4375), ('3680', 4376), ('28thfeb', 4377), ('useless', 4378), ('barbie', 4379), (\"ken's\", 4380), ('28th', 4381), ('nevering', 4382), ('spare', 4383), ('2channel', 4384), ('leadership', 4385), ('skills', 4386), ('psychic', 4387), ('named', 4388), ('tmrw', 4389), ('payasam', 4390), ('rinu', 4391), ('wheellock', 4392), ('nok', 4393), ('showers', 4394), ('possessiveness', 4395), ('poured', 4396), ('golden', 4397), ('surly', 4398), ('lord', 4399), ('rings', 4400), ('soundtrack', 4401), ('stdtxtrate', 4402), ('comprehensive', 4403), ('leading', 4404), ('151', 4405), ('pause', 4406), ('08718726270', 4407), ('09064017305', 4408), ('pobox75ldns7', 4409), ('kvb', 4410), (\"parents'\", 4411), ('downstem', 4412), ('elvis', 4413), ('presleys', 4414), ('placed', 4415), ('woah', 4416), ('realising', 4417), ('relatives', 4418), ('risks', 4419), ('purchases', 4420), ('newquay', 4421), ('1im', 4422), ('talkin', 4423), ('stil', 4424), ('fucked', 4425), ('tobed', 4426), ('430', 4427), ('washob', 4428), ('nobbing', 4429), ('nickey', 4430), ('platt', 4431), ('ello', 4432), ('meaningless', 4433), ('spaces', 4434), ('embassy', 4435), ('spys', 4436), ('reserves', 4437), ('clearly', 4438), ('justbeen', 4439), ('overa', 4440), ('brains', 4441), ('mush', 4442), ('f4q', 4443), ('onwords', 4444), ('mtnl', 4445), ('mumbai', 4446), ('fowler', 4447), ('macedonia', 4448), ('scotland', 4449), ('ì¼1', 4450), ('poboxox36504w45wq', 4451), ('improve', 4452), ('ps', 4453), ('grown', 4454), ('intrepid', 4455), ('duo', 4456), ('gobi', 4457), ('topped', 4458), ('bubbletext', 4459), ('tgxxrz', 4460), ('lacking', 4461), ('particular', 4462), (\"dramastorm's\", 4463), (\"station's\", 4464), ('cc100p', 4465), ('data', 4466), ('analysis', 4467), ('thesis', 4468), ('8800', 4469), ('psp', 4470), (\"phone's\", 4471), ('vibrate', 4472), ('acting', 4473), ('justify', 4474), ('phone750', 4475), ('08000776320', 4476), ('juswoke', 4477), ('boatin', 4478), ('docks', 4479), ('spinout', 4480), ('gossip', 4481), ('tkls', 4482), ('stoptxtstopå£1', 4483), ('dice', 4484), ('totes', 4485), ('attention', 4486), ('reg', 4487), ('ciao', 4488), ('09053750005', 4489), ('310303', 4490), ('08718725756', 4491), ('140ppm', 4492), ('someonone', 4493), ('09064015307', 4494), (\"harish's\", 4495), ('transfred', 4496), ('acnt', 4497), ('10th', 4498), ('09050000555', 4499), ('ba128nnfwfly150ppm', 4500), ('anythiing', 4501), ('stands', 4502), ('nitz', 4503), ('08719839835', 4504), ('mgs', 4505), ('89123', 4506), ('hanks', 4507), ('lotsly', 4508), ('wlcome', 4509), ('delete', 4510), ('showered', 4511), (\"er'ything\", 4512), ('basketball', 4513), ('outdoors', 4514), ('wahala', 4515), ('synced', 4516), ('shangela', 4517), ('awkward', 4518), ('brum', 4519), ('6times', 4520), ('dealer', 4521), ('lunsford', 4522), ('soz', 4523), ('imat', 4524), ('mums', 4525), ('restocked', 4526), ('badrith', 4527), ('uniform', 4528), ('buffy', 4529), ('qlynnbv', 4530), ('help08700621170150p', 4531), ('priest', 4532), ('league', 4533), ('gain', 4534), ('grumpy', 4535), ('lying', 4536), ('studyn', 4537), ('bomb', 4538), ('zac', 4539), ('significance', 4540), ('09061701939', 4541), ('s89', 4542), ('opposed', 4543), ('thet', 4544), ('skinny', 4545), ('casting', 4546), ('prakesh', 4547), ('80155', 4548), ('swap', 4549), ('chatter', 4550), ('chat80155', 4551), ('rcd', 4552), ('simulate', 4553), ('readiness', 4554), ('mittelschmertz', 4555), ('paracetamol', 4556), ('shoes', 4557), ('consensus', 4558), ('typical', 4559), (\"'doctors'\", 4560), ('reminds', 4561), ('pity', 4562), ('suggestions', 4563), ('easiest', 4564), ('barcelona', 4565), ('scrumptious', 4566), ('entertaining', 4567), ('hugh', 4568), ('laurie', 4569), ('tensed', 4570), ('pei', 4571), ('apologetic', 4572), ('fallen', 4573), ('actin', 4574), ('spoilt', 4575), ('badly', 4576), ('9061100010', 4577), ('wire3', 4578), ('1st4terms', 4579), ('mobcudb', 4580), ('caveboy', 4581), ('bookshelf', 4582), ('swhrt', 4583), ('rip', 4584), ('uterus', 4585), ('rimac', 4586), ('beneath', 4587), ('pale', 4588), ('5226', 4589), ('hava', 4590), ('1131', 4591), ('posh', 4592), ('chaps', 4593), ('trial', 4594), ('prods', 4595), ('champneys', 4596), ('dob', 4597), ('maintaining', 4598), ('remb', 4599), ('worrying', 4600), ('quizzes', 4601), ('popcorn', 4602), ('finalise', 4603), (\"they'll\", 4604), ('slurp', 4605), ('earliest', 4606), ('ax', 4607), ('447801259231', 4608), ('09058094597', 4609), ('scrappy', 4610), ('listed', 4611), ('ninish', 4612), ('icky', 4613), ('freek', 4614), (\"'hex'\", 4615), ('lifted', 4616), ('hopes', 4617), ('approaches', 4618), ('wrkin', 4619), ('somewhat', 4620), ('laden', 4621), ('wrecked', 4622), ('table', 4623), ('lambda', 4624), ('varunnathu', 4625), ('edukkukayee', 4626), ('raksha', 4627), ('ollu', 4628), ('leads', 4629), ('hangin', 4630), ('3lions', 4631), ('wishlist', 4632), ('section', 4633), ('forums', 4634), ('nitro', 4635), ('harri', 4636), ('narcotics', 4637), ('keyword', 4638), ('140', 4639), ('ìä', 4640), ('180', 4641), ('lavender', 4642), ('kidding', 4643), ('papa', 4644), ('daytime', 4645), ('busty', 4646), ('09099726429', 4647), ('janinexx', 4648), ('teacher', 4649), ('gower', 4650), ('åômorrow', 4651), ('fondly', 4652), ('solihull', 4653), ('deficient', 4654), ('afternon', 4655), ('interviews', 4656), ('rayan', 4657), ('macleran', 4658), ('regretted', 4659), ('babyjontet', 4660), ('choices', 4661), ('toss', 4662), ('gudni8', 4663), ('cumming', 4664), ('sonetimes', 4665), ('rough', 4666), ('gage', 4667), ('deck', 4668), ('cnupdates', 4669), ('newsletter', 4670), ('alerts', 4671), ('upping', 4672), ('grams', 4673), ('brdget', 4674), ('jones', 4675), ('floppy', 4676), ('snappy', 4677), ('revision', 4678), ('boyf', 4679), ('interviw', 4680), ('09064018838', 4681), ('cro1327', 4682), ('coulda', 4683), ('creep', 4684), ('amla', 4685), ('shola', 4686), ('sagamu', 4687), ('lautech', 4688), ('vital', 4689), ('completes', 4690), ('education', 4691), ('zealand', 4692), ('guessing', 4693), ('jb', 4694), ('edison', 4695), ('rightly', 4696), ('viva', 4697), ('09066364589', 4698), (\"something's\", 4699), ('witin', 4700), ('3230', 4701), ('textbook', 4702), ('algorithms', 4703), ('edition', 4704), ('kappa', 4705), ('mmmmm', 4706), ('sooooo', 4707), ('shag', 4708), ('sextextuk', 4709), ('xxuk', 4710), ('69876', 4711), ('08700469649', 4712), ('box420', 4713), ('20m12aq', 4714), ('\\x89ûï', 4715), ('supports', 4716), ('srt', 4717), ('ps3', 4718), ('perform', 4719), ('tonexs', 4720), ('renewed', 4721), ('clubzed', 4722), ('billing', 4723), ('performed', 4724), ('doesn\\x89û÷t', 4725), ('browser', 4726), ('surf', 4727), ('blanket', 4728), ('real1', 4729), ('pushbutton', 4730), ('dontcha', 4731), ('babygoodbye', 4732), ('golddigger', 4733), ('webeburnin', 4734), ('83021', 4735), ('woulda', 4736), ('computerless', 4737), ('08718726971', 4738), ('cheesy', 4739), ('frosty', 4740), ('predict', 4741), ('k718', 4742), ('09065069120', 4743), ('go2sri', 4744), ('lanka', 4745), ('0721072', 4746), ('07090201529', 4747), ('pert', 4748), ('head\\x89û', 4749), ('600', 4750), ('400', 4751), ('deltomorrow', 4752), ('butting', 4753), ('vs', 4754), ('dancin', 4755), ('arngd', 4756), ('walkin', 4757), ('unfortuntly', 4758), ('bites', 4759), ('frnt', 4760), ('sayin', 4761), ('raping', 4762), ('dudes', 4763), ('weaknesses', 4764), (\"knee's\", 4765), ('exposes', 4766), ('pulls', 4767), ('wicked', 4768), ('occurs', 4769), ('annoyin', 4770), ('conacted', 4771), ('09111030116', 4772), ('pobox12n146tf15', 4773), ('shortcode', 4774), ('83332', 4775), ('08081263000', 4776), ('charges', 4777), ('refunded', 4778), ('view', 4779), ('gays', 4780), ('kay', 4781), ('evaluation', 4782), ('impossible', 4783), ('showr', 4784), ('detail', 4785), ('doinat', 4786), ('secure', 4787), ('gei', 4788), ('tron', 4789), ('dl', 4790), ('continued', 4791), ('president', 4792), ('useful', 4793), ('marandratha', 4794), ('irritation', 4795), ('db', 4796), ('vague', 4797), ('accounting', 4798), ('delayed', 4799), ('housing', 4800), ('agency', 4801), ('renting', 4802), ('stone', 4803), ('cards', 4804), ('pump', 4805), ('jon', 4806), ('spain', 4807), ('dinero', 4808), ('åôrents', 4809), ('000pes', 4810), ('å£48', 4811), ('fuuuuck', 4812), ('worc', 4813), ('foregate', 4814), ('shrub', 4815), ('tescos', 4816), ('09071517866', 4817), ('150ppmpobox10183bhamb64xe', 4818), (\"account's\", 4819), ('connections', 4820), ('panasonic', 4821), ('bluetoothhdset', 4822), ('doublemins', 4823), ('doubletxt', 4824), ('fumbling', 4825), ('reserve', 4826), ('thirunelvali', 4827), ('tackle', 4828), ('swashbuckling', 4829), ('como', 4830), ('listened2the', 4831), ('plaid', 4832), ('air1', 4833), ('hilarious', 4834), ('boughtåóbraindanceåóa', 4835), ('ofstuff', 4836), ('aphexåõs', 4837), ('abel', 4838), ('dance', 4839), ('spjanuary', 4840), ('westshore', 4841), ('gonnamissu', 4842), ('buttheres', 4843), ('aboutas', 4844), ('merememberin', 4845), ('asthere', 4846), ('ofsi', 4847), ('breakin', 4848), ('yaxx', 4849), ('forced', 4850), ('astrology', 4851), ('screwd', 4852), ('hourish', 4853), ('gailxx', 4854), ('83435', 4855), ('helpline', 4856), ('08706091795', 4857), ('decades', 4858), ('goverment', 4859), ('expects', 4860), ('thgt', 4861), (\"fren's\", 4862), ('digi', 4863), ('coupla', 4864), ('hidden', 4865), ('voted', 4866), ('09050000878', 4867), ('hundreds', 4868), ('handsomes', 4869), ('beauties', 4870), ('aunties', 4871), ('09061213237', 4872), ('177', 4873), ('m227xy', 4874), ('posting', 4875), ('providing', 4876), ('assistance', 4877), ('concerned', 4878), ('jp', 4879), ('mofo', 4880), ('twenty', 4881), ('durham', 4882), ('reserved', 4883), ('taste', 4884), ('afterwards', 4885), ('authorise', 4886), ('problematic', 4887), ('definite', 4888), ('quitting', 4889), ('least5times', 4890), (\"wudn't\", 4891), ('danger', 4892), ('peeps', 4893), ('comment', 4894), ('ducking', 4895), ('chinchillas', 4896), ('gaze', 4897), ('adding', 4898), ('zeros', 4899), ('savings', 4900), ('sc', 4901), ('specialise', 4902), ('wad', 4903), ('describe', 4904), ('09066362220', 4905), ('fellow', 4906), ('signin', 4907), ('poking', 4908), ('canada', 4909), ('depression', 4910), ('premier', 4911), ('situations', 4912), ('loosing', 4913), ('hellogorgeous', 4914), ('nitw', 4915), ('texd', 4916), ('hopeu', 4917), ('4ward', 4918), ('jaz', 4919), ('ana', 4920), ('sathy', 4921), ('rto', 4922), ('beta', 4923), ('busetop', 4924), ('axis', 4925), ('applausestore', 4926), ('monthlysubscription', 4927), ('max6', 4928), ('csc', 4929), ('phony', 4930), ('thanx4', 4931), ('cer', 4932), ('xafter', 4933), ('cst', 4934), ('chg', 4935), ('dolls', 4936), ('patrick', 4937), ('swayze', 4938), ('adventuring', 4939), ('jontin', 4940), ('computers', 4941), ('sian', 4942), ('coccooning', 4943), ('tooth', 4944), ('or2optout', 4945), ('hv9d', 4946), ('kickoff', 4947), ('mmmmmmm', 4948), ('snuggles', 4949), ('contented', 4950), ('whispers', 4951), ('lyrics', 4952), ('phonebook', 4953), ('tarot', 4954), ('85555', 4955), ('misundrstud', 4956), ('onam', 4957), ('sirji', 4958), ('tata', 4959), ('aig', 4960), ('posible', 4961), ('century', 4962), ('frwd', 4963), ('chapel', 4964), ('frontierville', 4965), ('melody', 4966), ('formally', 4967), ('4d', 4968), ('skateboarding', 4969), ('thrown', 4970), ('winds', 4971), ('bandages', 4972), ('villa', 4973), ('pathaya', 4974), ('enketa', 4975), ('maraikara', 4976), (\"pa'\", 4977), ('chuckin', 4978), ('trainners', 4979), ('carryin', 4980), ('bac', 4981), ('callon', 4982), ('kitty', 4983), ('shaved', 4984), ('roles', 4985), ('outreach', 4986), ('09050000460', 4987), ('j89', 4988), ('box245c2150pm', 4989), ('lodge', 4990), ('parked', 4991), ('agents', 4992), ('experiment', 4993), ('fps', 4994), ('fried', 4995), ('spares', 4996), ('looovvve', 4997), ('07099833605', 4998), ('9280114', 4999), ('jd', 5000), ('accounts', 5001), ('ingredients', 5002), ('corect', 5003), ('speling', 5004), ('fwiw', 5005), ('afford', 5006), ('onbus', 5007), ('donyt', 5008), ('latelyxxx', 5009), ('nauseous', 5010), ('dieting', 5011), ('toughest', 5012), ('talents', 5013), ('pai', 5014), ('seh', 5015), ('meets', 5016), ('kotees', 5017), ('mesages', 5018), ('lennon', 5019), ('stuffing', 5020), ('rebtel', 5021), ('firefox', 5022), ('priya', 5023), ('bro', 5024), ('creative', 5025), ('programs', 5026), ('opener', 5027), ('velachery', 5028), ('radiator', 5029), ('faglord', 5030), ('dobby', 5031), ('yalrigu', 5032), ('heltini', 5033), ('iyo', 5034), ('shared', 5035), ('uttered', 5036), ('trusting', 5037), ('1172', 5038), ('safely', 5039), ('breaker', 5040), ('deluxe', 5041), ('features', 5042), ('graphics', 5043), ('bbdeluxe', 5044), ('requirements', 5045), ('jack', 5046), ('helpful', 5047), ('pretend', 5048), ('hypotheticalhuagauahahuagahyuhagga', 5049), ('hooked', 5050), ('crashing', 5051), ('pdate', 5052), ('yhl', 5053), ('salon', 5054), ('spark', 5055), ('rawring', 5056), ('xoxo', 5057), ('tiring', 5058), ('concentrating', 5059), ('answered', 5060), ('85233', 5061), (\"ny's\", 5062), ('08448350055', 5063), ('planettalkinstant', 5064), ('6230', 5065), ('83383', 5066), ('pobox114', 5067), ('14tcr', 5068), ('millers', 5069), ('involved', 5070), ('somewhr', 5071), ('crushes', 5072), ('relieved', 5073), ('westonzoyland', 5074), (\"'rencontre'\", 5075), ('mountains', 5076), ('luckily', 5077), ('starring', 5078), ('08718726978', 5079), ('soooo', 5080), ('provider', 5081), ('tming', 5082), ('draws', 5083), ('univ', 5084), ('wendy', 5085), ('theyre', 5086), ('treasure', 5087), ('08715203694', 5088), ('fortune', 5089), ('ffffffffff', 5090), ('oga', 5091), ('entrepreneurs', 5092), ('submitting', 5093), ('bari', 5094), ('hudgi', 5095), ('yorge', 5096), ('pataistha', 5097), ('ertini', 5098), ('rob', 5099), ('mack', 5100), ('gf', 5101), ('theater', 5102), ('bsn', 5103), ('advising', 5104), ('reboot', 5105), ('treadmill', 5106), ('craigslist', 5107), ('83370', 5108), ('trivia', 5109), ('squeeeeeze', 5110), ('frndshp', 5111), ('luvd', 5112), ('gep', 5113), ('08715205273', 5114), ('bot', 5115), ('notes', 5116), ('manageable', 5117), ('09058095107', 5118), ('s3xy', 5119), ('paining', 5120), ('32000', 5121), ('legitimat', 5122), ('efreefone', 5123), ('nange', 5124), ('bakra', 5125), ('kalstiya', 5126), ('exe', 5127), ('jabo', 5128), ('sundayish', 5129), ('leanne', 5130), ('08701213186', 5131), ('zogtorius', 5132), ('iåõve', 5133), ('guesses', 5134), ('attach', 5135), ('chillaxin', 5136), ('monster', 5137), ('jaklin', 5138), ('fudge', 5139), ('oreos', 5140), ('02072069400', 5141), ('bx', 5142), ('526', 5143), ('hint', 5144), ('svc', 5145), ('69988', 5146), ('establish', 5147), ('syllabus', 5148), ('grandmas', 5149), ('hungover', 5150), ('thasa', 5151), ('messed', 5152), ('decorating', 5153), ('presnts', 5154), ('bcz', 5155), ('jeevithathile', 5156), ('irulinae', 5157), ('neekunna', 5158), ('prakasamanu', 5159), ('sneham', 5160), ('prakasam', 5161), ('ennal', 5162), (\"'that\", 5163), ('mns', 5164), (\"is'love'\", 5165), ('resume', 5166), ('nigro', 5167), ('watever', 5168), ('built', 5169), ('remains', 5170), ('lonlines', 5171), ('lotz', 5172), ('memories', 5173), ('9996', 5174), ('14thmarch', 5175), ('availa', 5176), ('julianaland', 5177), ('oblivious', 5178), ('ear', 5179), ('cartons', 5180), ('shelves', 5181), ('specify', 5182), ('domain', 5183), ('nusstu', 5184), ('awww', 5185), (\"zaher's\", 5186), ('yavnt', 5187), ('foned', 5188), ('chuck', 5189), ('whens', 5190), ('consent', 5191), ('jackpot', 5192), ('81010', 5193), ('dbuk', 5194), ('lccltd', 5195), ('4403ldnw1a7rw18', 5196), ('les', 5197), ('rudi', 5198), ('snoring', 5199), ('drunk', 5200), ('ink', 5201), ('reminded', 5202), ('haircut', 5203), ('breezy', 5204), ('temales', 5205), ('accessible', 5206), ('08709501522', 5207), ('139', 5208), ('la3', 5209), ('2wu', 5210), ('noice', 5211), ('rules', 5212), ('bend', 5213), ('thia', 5214), ('inlude', 5215), ('previews', 5216), ('aids', 5217), ('patent', 5218), ('freaky', 5219), ('goigng', 5220), ('perfume', 5221), (\"shit's\", 5222), ('pocked', 5223), ('walkabout', 5224), ('08715203652', 5225), ('42810', 5226), (\"anybody's\", 5227), ('tactful', 5228), ('raviyog', 5229), ('peripherals', 5230), ('bhayandar', 5231), ('guides', 5232), ('tall', 5233), ('semiobscure', 5234), ('club4mobiles', 5235), ('87070', 5236), ('club4', 5237), ('box1146', 5238), ('mk45', 5239), ('2wt', 5240), ('dept', 5241), ('13', 5242), ('08717507382', 5243), (\"idea's\", 5244), ('anyplaces', 5245), ('grandfather', 5246), ('expired', 5247), ('clothes', 5248), ('95', 5249), ('pax', 5250), ('deposit', 5251), ('comingdown', 5252), ('natwest', 5253), ('09058094454', 5254), ('dabooks', 5255), ('armenia', 5256), ('swann', 5257), ('gotten', 5258), ('weekdays', 5259), ('nails', 5260), ('bbq', 5261), ('6ish', 5262), ('surname', 5263), ('clue', 5264), ('begins', 5265), ('clas', 5266), ('wrks', 5267), ('jot', 5268), ('overtime', 5269), ('nigpun', 5270), ('jurong', 5271), ('amore', 5272), ('convince', 5273), ('witot', 5274), ('hurting', 5275), ('walsall', 5276), ('tue', 5277), ('terry', 5278), ('youi', 5279), ('iraq', 5280), ('afghanistan', 5281), ('stable', 5282), ('honest', 5283), ('traveling', 5284), ('400mins', 5285), ('j5q', 5286), ('cheetos', 5287), ('flurries', 5288), ('silly', 5289), ('isn\\x89û÷t', 5290), ('ilol', 5291), ('personally', 5292), ('wuldnt', 5293), ('ou', 5294), ('retard', 5295), ('proper', 5296), ('tongued', 5297), ('prin', 5298), ('summers', 5299), ('matched', 5300), ('help08714742804', 5301), ('sometext', 5302), ('walls', 5303), ('bunkers', 5304), ('sos', 5305), ('09050003091', 5306), ('c52', 5307), ('ree', 5308), ('burgundy', 5309), ('captaining', 5310), ('8lb', 5311), ('7oz', 5312), ('brilliantly', 5313), ('ors', 5314), ('stool', 5315), ('09050005321', 5316), ('dartboard', 5317), ('doubles', 5318), ('trebles', 5319), ('drunkard', 5320), ('referin', 5321), (\"mei's\", 5322), ('engalnd', 5323), ('mia', 5324), ('elliot', 5325), ('kissing', 5326), ('tmorrow', 5327), ('accomodate', 5328), ('parkin', 5329), ('kent', 5330), ('vale', 5331), ('mw', 5332), ('filled', 5333), ('tuth', 5334), ('hdd', 5335), ('casing', 5336), (\"wherre's\", 5337), ('web2mobile', 5338), ('txt250', 5339), ('box139', 5340), ('la32wu', 5341), ('txtx', 5342), ('wikipedia', 5343), ('lim', 5344), ('mirror', 5345), ('foward', 5346), ('ruin', 5347), ('gimmi', 5348), ('goss', 5349), ('hiding', 5350), ('half8th', 5351), ('baaaaaaaabe', 5352), ('08702490080', 5353), ('stairs', 5354), ('phews', 5355), ('wan2', 5356), ('westlife', 5357), ('m8', 5358), ('unbreakable', 5359), ('untamed', 5360), ('unkempt', 5361), ('83049', 5362), ('settling', 5363), ('happenin', 5364), ('enufcredeit', 5365), ('tocall', 5366), ('ileave', 5367), ('board', 5368), ('overheating', 5369), ('reslove', 5370), ('software', 5371), ('inst', 5372), (\"8'o\", 5373), ('bunch', 5374), ('lotto', 5375), ('stated', 5376), ('grocers', 5377), (\"fr'ndship\", 5378), ('needle', 5379), ('4few', 5380), ('conected', 5381), ('nte', 5382), ('styles', 5383), ('starshine', 5384), ('sips', 5385), ('accommodation', 5386), ('global', 5387), ('phb1', 5388), ('08700435505150p', 5389), ('sheffield', 5390), ('categories', 5391), ('ethnicity', 5392), ('census', 5393), ('transcribing', 5394), ('taxt', 5395), ('massage', 5396), ('tie', 5397), ('pos', 5398), ('lool', 5399), ('pleasant', 5400), ('statements', 5401), ('axel', 5402), ('akon', 5403), ('eyed', 5404), ('loo', 5405), ('ed', 5406), (\"shade's\", 5407), ('violated', 5408), ('holy', 5409), ('detailed', 5410), ('vill', 5411), ('parco', 5412), ('nb', 5413), ('orc', 5414), ('exorcism', 5415), ('emily', 5416), ('recpt', 5417), ('workout', 5418), ('fats', 5419), ('09058094455', 5420), ('checkmate', 5421), ('chess', 5422), ('persian', 5423), ('phrase', 5424), ('shah', 5425), ('maat', 5426), ('chile', 5427), ('subletting', 5428), ('blanked', 5429), ('manky', 5430), ('scouse', 5431), ('travelling', 5432), ('inmind', 5433), ('recreation', 5434), ('vat', 5435), ('asus', 5436), ('reformat', 5437), ('sink', 5438), ('paces', 5439), ('cage', 5440), ('surrounded', 5441), ('reminding', 5442), ('cuck', 5443), ('45pm', 5444), (\"that'll\", 5445), ('chk', 5446), ('dict', 5447), ('strt', 5448), ('ltdhelpdesk', 5449), ('02085076972', 5450), ('hottest', 5451), ('torture', 5452), ('dom', 5453), ('08718723815', 5454), ('squeezed', 5455), ('necklace', 5456), ('token', 5457), ('liking', 5458), ('squatting', 5459), ('underdtand', 5460), ('aaooooright', 5461), ('abstract', 5462), ('alternative', 5463), (\"term's\", 5464), ('pre', 5465), ('cancelled', 5466), ('sacked', 5467), ('fucks', 5468), ('98321561', 5469), ('familiar', 5470), ('ayo', 5471), ('travelled', 5472), ('harder', 5473), ('nbme', 5474), ('folks', 5475), ('didn\\x89û÷t', 5476), ('limping', 5477), ('aa', 5478), ('splash', 5479), ('slp', 5480), ('muah', 5481), ('apnt', 5482), (\"'need'\", 5483), (\"'comfort'\", 5484), (\"'luxury'\", 5485), ('sold', 5486), ('palm', 5487), ('lipo', 5488), ('eightish', 5489), ('carpark', 5490), ('09066361921', 5491), (\"riley's\", 5492), ('muchxxlove', 5493), ('locaxx', 5494), ('tscs', 5495), ('idew', 5496), ('skillgame', 5497), ('1winaweek', 5498), ('150ppermesssubscription', 5499), ('09099725823', 5500), ('minmoremobsemspobox45po139wa', 5501), ('å£1million', 5502), ('ppt150x3', 5503), ('box403', 5504), ('w1t1jy', 5505), ('adoring', 5506), ('cl', 5507), (\"ìï'll\", 5508), ('rounds', 5509), ('83039', 5510), ('62735', 5511), ('å£450', 5512), ('accommodationvouchers', 5513), ('mustprovide', 5514), ('15541', 5515), ('evo', 5516), ('duffer', 5517), ('15pm', 5518), ('09095350301', 5519), ('erotic', 5520), ('ecstacy', 5521), ('nat', 5522), ('pose', 5523), ('comb', 5524), ('dryer', 5525), ('playng', 5526), ('nor', 5527), ('dependents', 5528), ('torrents', 5529), ('particularly', 5530), ('slowing', 5531), ('heroes', 5532), ('tips', 5533), (\"xin's\", 5534), ('snatch', 5535), ('throws', 5536), ('brothers', 5537), ('assumed', 5538), ('worst', 5539), ('smoothly', 5540), ('challenging', 5541), ('jaykwon', 5542), ('thuglyfe', 5543), ('falconerf', 5544), ('arty', 5545), ('collages', 5546), ('tryin', 5547), ('snap', 5548), ('quizclub', 5549), ('80122300p', 5550), ('rwm', 5551), ('08704050406', 5552), ('significant', 5553), ('rajini', 5554), ('dollar', 5555), ('resolution', 5556), ('frank', 5557), ('rupaul', 5558), ('blimey', 5559), ('exercise', 5560), ('downloaded', 5561), ('doit', 5562), ('mymoby', 5563), ('collapsed', 5564), ('punish', 5565), ('victoria', 5566), (\"biola's\", 5567), ('fne', 5568), ('ques', 5569), ('suits', 5570), ('soc', 5571), ('removed', 5572), ('associate', 5573), ('hooch', 5574), ('toaday', 5575), ('splat', 5576), ('grazed', 5577), ('knees', 5578), ('hillsborough', 5579), ('loans', 5580), ('rats', 5581), ('themes', 5582), ('flavour', 5583), ('install', 5584), ('browse', 5585), ('artists', 5586), ('com1win150ppmx3age16subscription', 5587), ('recieve', 5588), ('24hrs', 5589), ('teletext', 5590), ('yellow', 5591), ('misscall', 5592), ('frndz', 5593), ('6missed', 5594), ('07753741225', 5595), ('08715203677', 5596), ('42478', 5597), ('command', 5598), ('ceri', 5599), ('rebel', 5600), ('dreamz', 5601), ('buddy', 5602), ('blokes', 5603), ('drama', 5604), ('struggling', 5605), ('ego', 5606), (\"'if\", 5607), (\"invited'\", 5608), ('necessity', 5609), ('reppurcussions', 5610), ('945', 5611), ('ashwini', 5612), ('hen', 5613), ('gauge', 5614), (\"patty's\", 5615), ('meg', 5616), ('4goten', 5617), ('scammers', 5618), ('apology', 5619), ('bffs', 5620), ('carly', 5621), ('lips', 5622), ('win150ppmx3age16', 5623), ('ericson', 5624), ('der', 5625), ('luks', 5626), ('modl', 5627), ('prone', 5628), ('atleast', 5629), ('shakespeare', 5630), ('va', 5631), ('7cfca1a', 5632), ('08712402779', 5633), ('grasp', 5634), ('alter', 5635), ('keen', 5636), ('ambrith', 5637), ('madurai', 5638), ('dha', 5639), ('marrge', 5640), ('remembr', 5641), ('charles', 5642), ('excited', 5643), ('rebooting', 5644), ('coughing', 5645), ('abroad', 5646), ('xxsp', 5647), ('stopcost', 5648), ('08712400603', 5649), ('recognises', 5650), ('hugging', 5651), ('downs', 5652), ('fletcher', 5653), ('09058094507', 5654), ('changing', 5655), ('diapers', 5656), ('owed', 5657), ('entertain', 5658), ('restock', 5659), ('catches', 5660), ('get4an18th', 5661), ('fetching', 5662), ('arrow', 5663), ('sterm', 5664), ('resolved', 5665), ('restrict', 5666), (\"ashley's\", 5667), ('invitation', 5668), ('cali', 5669), (\"bloke's\", 5670), ('weddin', 5671), ('thanks2', 5672), ('vday', 5673), ('parachute', 5674), ('netflix', 5675), ('jog', 5676), ('cutest', 5677), ('08714712412', 5678), ('chief', 5679), ('agent', 5680), ('goodies', 5681), ('mat', 5682), (\"derek's\", 5683), ('hides', 5684), ('secrets', 5685), ('n8', 5686), ('wknd', 5687), ('resuming', 5688), ('reapply', 5689), ('uworld', 5690), ('qbank', 5691), ('assessment', 5692), ('bathroom', 5693), ('slacking', 5694), ('08712101358', 5695), ('bears', 5696), ('nick', 5697), ('types', 5698), ('wining', 5699), ('946', 5700), ('69200', 5701), ('chrgd', 5702), ('2exit', 5703), ('07808', 5704), ('xxxxxx', 5705), ('08719899217', 5706), ('quiet', 5707), ('beth', 5708), ('aunts', 5709), ('charlie', 5710), ('helen', 5711), ('famous', 5712), (\"'anything'\", 5713), ('unconditionally', 5714), ('temper', 5715), (\"'married'\", 5716), ('wrking', 5717), ('ing', 5718), ('gauti', 5719), ('sehwag', 5720), ('ball', 5721), ('spin', 5722), ('ecstasy', 5723), ('laready', 5724), ('trends', 5725), ('pros', 5726), ('cons', 5727), ('description', 5728), ('nuclear', 5729), ('fusion', 5730), ('iter', 5731), ('jet', 5732), ('perumbavoor', 5733), ('bare', 5734), ('orh', 5735), ('paypal', 5736), ('voila', 5737), ('pockets', 5738), ('r836', 5739), ('09065069154', 5740), ('ooooooh', 5741), ('yoville', 5742), ('audiitions', 5743), ('relocate', 5744), ('flyng', 5745), ('aries', 5746), ('dealing', 5747), ('vpod', 5748), ('popping', 5749), ('ibuprofens', 5750), ('corporation', 5751), ('ajith', 5752), ('prasad', 5753), ('engagement', 5754), ('fixd', 5755), ('njan', 5756), ('vilikkam', 5757), ('sudn', 5758), (\"'its\", 5759), ('mylife', 5760), (\"taylor's\", 5761), ('management', 5762), ('x29', 5763), ('09065989180', 5764), ('text82228', 5765), ('blankets', 5766), ('misplaced', 5767), ('8000930705', 5768), (\"fuck's\", 5769), ('tallahassee', 5770), ('hopeing', 5771), ('wasn\\x89û÷t', 5772), ('sisters', 5773), ('helens', 5774), ('princes', 5775), ('gastroenteritis', 5776), ('replace', 5777), ('reduce', 5778), ('limiting', 5779), ('illness', 5780), ('chinatown', 5781), ('porridge', 5782), ('claypot', 5783), ('yam', 5784), ('fishhead', 5785), ('beehoon', 5786), ('tau', 5787), ('piah', 5788), ('impatient', 5789), ('belligerent', 5790), ('eldest', 5791), ('a30', 5792), ('divert', 5793), ('wadebridge', 5794), ('varaya', 5795), ('elaya', 5796), ('factory', 5797), ('leg', 5798), ('musta', 5799), ('overdid', 5800), ('kanji', 5801), ('upgrdcentre', 5802), ('9153', 5803), ('ours', 5804), ('such', 5805), ('oooooh', 5806), ('elaborating', 5807), ('safety', 5808), ('aspects', 5809), ('thirtyeight', 5810), ('shifad', 5811), ('raised', 5812), ('complaint', 5813), ('lit', 5814), ('marking', 5815), ('belongs', 5816), ('fated', 5817), ('shoranur', 5818), ('fuelled', 5819), ('concern', 5820), ('prior', 5821), ('grief', 5822), ('3000', 5823), ('split', 5824), ('suggestion', 5825), ('lands', 5826), ('helps', 5827), ('forgt', 5828), ('oyster', 5829), ('sashimi', 5830), ('rumbling', 5831), ('09058095201', 5832), ('matric', 5833), ('sonathaya', 5834), ('soladha', 5835), ('accordin', 5836), ('beerage', 5837), ('08712400200', 5838), ('byatch', 5839), ('whassup', 5840), ('progress', 5841), ('0796xxxxxx', 5842), ('prizeawaiting', 5843), ('eight', 5844), ('someday', 5845), ('gek1510', 5846), ('lasagna', 5847), ('lindsay', 5848), ('bars', 5849), ('heron', 5850), ('waliking', 5851), ('thnx', 5852), ('showrooms', 5853), ('shaping', 5854), ('cps', 5855), ('outages', 5856), ('conserve', 5857), ('puppy', 5858), ('noise', 5859), ('citylink', 5860), ('andrews', 5861), ('ouch', 5862), ('computational', 5863), ('salmon', 5864), ('brother\\x89û÷s', 5865), ('scraped', 5866), ('barrel', 5867), ('misfits', 5868), ('idc', 5869), ('weaseling', 5870), ('okors', 5871), ('cherish', 5872), ('mojibiola', 5873), ('09061790126', 5874), ('drivby', 5875), ('0quit', 5876), ('edrunk', 5877), ('iff', 5878), ('pthis', 5879), ('senrd', 5880), ('dnot', 5881), ('dancce', 5882), ('drum', 5883), ('basq', 5884), ('ihave', 5885), ('2nhite', 5886), ('ros', 5887), ('xxxxxxx', 5888), ('09050000928', 5889), ('shoul', 5890), ('dub', 5891), ('je', 5892), ('z', 5893), ('rubber', 5894), ('bluray', 5895), ('ummma', 5896), ('jacket', 5897), ('multis', 5898), ('degrees', 5899), ('grinder', 5900), ('forfeit', 5901), ('hang', 5902), ('starving', 5903), ('83110', 5904), ('operate', 5905), ('buyers', 5906), ('passion', 5907), ('09099726481', 5908), ('dena', 5909), ('surrender', 5910), ('appy', 5911), ('fizz', 5912), ('contains', 5913), ('denying', 5914), ('sentiment', 5915), ('rowdy', 5916), ('attitude', 5917), ('attractive', 5918), ('swan', 5919), (\"gumby's\", 5920), ('offering', 5921), ('panties', 5922), ('disagreeable', 5923), ('karnan', 5924), ('6pm', 5925), ('costume', 5926), ('complaining', 5927), ('stretch', 5928), ('intend', 5929), ('iwas', 5930), ('marine', 5931), ('itried2tell', 5932), ('urmom', 5933), ('careabout', 5934), ('screamed', 5935), ('owned', 5936), ('possessive', 5937), ('hittng', 5938), ('reflex', 5939), ('prevent', 5940), ('dehydration', 5941), ('fluids', 5942), ('donno', 5943), ('scorable', 5944), ('spiffing', 5945), ('workage', 5946), ('openings', 5947), ('upcharge', 5948), ('predicting', 5949), ('accumulation', 5950), (\"'maangalyam\", 5951), ('alaipayuthe', 5952), ('splashmobile', 5953), ('subscrition', 5954), ('087123002209am', 5955), ('invoices', 5956), ('headstart', 5957), ('rummer', 5958), ('grr', 5959), ('prescription', 5960), ('pharmacy', 5961), ('lubly', 5962), ('exp', 5963), ('30apr', 5964), ('169', 5965), ('6031', 5966), ('piece', 5967), ('watched', 5968), ('sux', 5969), ('raiden', 5970), ('portal', 5971), ('09058094583', 5972), ('testing', 5973), ('sayy', 5974), ('09111032124', 5975), ('pobox12n146tf150p', 5976), ('sao', 5977), ('enjoyin', 5978), ('yourjob', 5979), ('iåõllspeak', 5980), ('soonlots', 5981), ('07808726822', 5982), ('9758', 5983), ('learned', 5984), ('fake', 5985), ('experiencehttp', 5986), ('vouch4me', 5987), ('etlp', 5988), ('massages', 5989), ('position', 5990), ('compass', 5991), ('loose', 5992), ('gnun', 5993), ('way2sms', 5994), ('tscs08714740323', 5995), ('1winawk', 5996), ('50perweeksub', 5997), ('needa', 5998), ('surya', 5999), ('pokkiri', 6000), ('mary', 6001), ('flirting', 6002), ('paperwork', 6003), ('nervous', 6004), ('fired', 6005), ('448712404000', 6006), ('08712404000', 6007), ('asjesus', 6008), ('brighten', 6009), ('monkey', 6010), ('asshole', 6011), ('heehee', 6012), ('gopalettan', 6013), ('participate', 6014), ('61610', 6015), ('08712400602450p', 6016), ('provided', 6017), ('tones2you', 6018), ('receipts\\x89ûówell', 6019), ('what\\x89û÷s', 6020), ('barring', 6021), ('sudden', 6022), ('influx', 6023), ('hustle', 6024), ('forth', 6025), ('harlem', 6026), ('doggy', 6027), ('cmon', 6028), ('replies', 6029), ('samantha', 6030), ('guitar', 6031), ('impress', 6032), ('doug', 6033), ('realizes', 6034), ('casualty', 6035), ('stuff42moro', 6036), ('includes', 6037), ('shhhhh', 6038), ('083', 6039), ('6089', 6040), ('backwards', 6041), ('hire', 6042), ('hitman', 6043), ('gran', 6044), ('onlyfound', 6045), ('afew', 6046), ('cusoon', 6047), ('honi', 6048), ('sapna', 6049), ('manege', 6050), (\"y'day\", 6051), ('hogidhe', 6052), ('chinnu', 6053), ('swalpa', 6054), ('agidhane', 6055), ('epi', 6056), ('doesnåõt', 6057), ('09065394973', 6058), ('plum', 6059), ('smacks', 6060), ('oi', 6061), ('printer', 6062), ('groovy', 6063), ('groovying', 6064), ('32', 6065), ('hlday', 6066), ('camp', 6067), ('amrca', 6068), ('serena', 6069), ('hmph', 6070), ('baller', 6071), ('sometme', 6072), ('converted', 6073), ('parts', 6074), ('4qf2', 6075), ('lambu', 6076), ('ji', 6077), ('batchlor', 6078), ('spreadsheet', 6079), ('determine', 6080), ('entire', 6081), ('wahleykkum', 6082), ('grace', 6083), ('visitor', 6084), ('nationwide', 6085), ('newport', 6086), ('lodging', 6087), ('mumhas', 6088), ('beendropping', 6089), ('theplace', 6090), ('adress', 6091), ('prix', 6092), ('missions', 6093), ('arabian', 6094), ('steed', 6095), ('although', 6096), ('baig', 6097), ('watches', 6098), ('completing', 6099), ('stoners', 6100), ('å£1000call', 6101), ('09071512432', 6102), ('300603t', 6103), ('callcost150ppmmobilesvary', 6104), ('hcl', 6105), ('requires', 6106), ('freshers', 6107), ('suman', 6108), ('telephonic', 6109), ('joys', 6110), ('lifeis', 6111), ('daywith', 6112), ('thoughts', 6113), ('somewheresomeone', 6114), ('cares', 6115), ('tosend', 6116), ('greeting', 6117), ('earn', 6118), ('patty', 6119), ('haul', 6120), ('officer', 6121), ('asa', 6122), ('0871277810710p', 6123), ('farting', 6124), ('i\\x89û÷ve', 6125), ('salt', 6126), ('wounds', 6127), ('payed', 6128), ('suganya', 6129), ('compliments', 6130), ('proze', 6131), ('norcorp', 6132), ('dough', 6133), ('agree', 6134), ('identification', 6135), ('prestige', 6136), ('50s', 6137), ('alot', 6138), ('stability', 6139), ('tranquility', 6140), ('vibrant', 6141), ('colourful', 6142), ('tallent', 6143), ('wasting', 6144), ('vco', 6145), ('cloud', 6146), ('audrie', 6147), ('autocorrect', 6148), ('multiply', 6149), ('independently', 6150), ('showed', 6151), ('cosign', 6152), ('juliana', 6153), ('stu', 6154), ('truble', 6155), ('evone', 6156), ('hates', 6157), ('av', 6158), ('unconvinced', 6159), ('elaborate', 6160), ('willpower', 6161), (\"aunty's\", 6162), ('07801543489', 6163), ('latests', 6164), ('llc', 6165), ('ny', 6166), ('usa', 6167), ('msgrcvd18', 6168), ('linear', 6169), ('algebra', 6170), ('dying', 6171), ('vitamin', 6172), ('nasty', 6173), ('filthyguys', 6174), ('4msgs', 6175), (\"1's\", 6176), ('wtc', 6177), ('weiyi', 6178), ('shanil', 6179), ('exchanged', 6180), ('uncut', 6181), ('diamond', 6182), ('dino', 6183), (\"1000's\", 6184), ('virgins', 6185), ('sexual', 6186), ('theirs', 6187), ('69911', 6188), ('puts', 6189), ('perspective', 6190), ('panther', 6191), ('sugababes', 6192), ('zebra', 6193), ('animation', 6194), ('badass', 6195), ('hoody', 6196), ('maggi', 6197), ('mee', 6198), (\"textin'\", 6199), ('0871277810810', 6200), ('pants', 6201), ('slob', 6202), (\"cali's\", 6203), ('complexities', 6204), ('freely', 6205), ('taxes', 6206), ('outrageous', 6207), ('auntie', 6208), ('huai', 6209), ('nigh', 6210), ('mising', 6211), ('survey', 6212), ('80160', 6213), ('txt43', 6214), (\"that'd\", 6215), ('scenario', 6216), ('studies', 6217), ('anyones', 6218), ('qet', 6219), ('yupz', 6220), ('satanic', 6221), ('imposter', 6222), ('destiny', 6223), ('teresa', 6224), ('dec', 6225), (\"you'ld\", 6226), ('bam', 6227), ('aid', 6228), ('usmle', 6229), ('sickness', 6230), ('calculation', 6231), ('units', 6232), ('accent', 6233), ('4years', 6234), ('dental', 6235), ('nmde', 6236), ('woodland', 6237), ('avenue', 6238), ('parish', 6239), ('magazine', 6240), ('oxygen', 6241), ('resort', 6242), ('roller', 6243), ('bhaji', 6244), ('cricketer', 6245), ('young', 6246), ('checkup', 6247), ('smear', 6248), ('whore', 6249), ('shant', 6250), ('jia', 6251), ('qi', 6252), ('suddenly', 6253), ('08452810071', 6254), ('webadres', 6255), ('geting', 6256), ('09061701851', 6257), ('k61', 6258), ('12hours', 6259), ('barred', 6260), ('twat', 6261), ('dungerees', 6262), ('decking', 6263), ('punch', 6264), ('the4th', 6265), ('october', 6266), ('stubborn', 6267), ('sucker', 6268), ('suckers', 6269), ('salad', 6270), ('desert', 6271), ('beers', 6272), ('spoons', 6273), ('macha', 6274), ('mindset', 6275), ('shorts', 6276), ('077xxx', 6277), ('09066362206', 6278), ('tomorro', 6279), ('3mobile', 6280), ('chatlines', 6281), ('inclu', 6282), ('servs', 6283), ('l8er', 6284), ('bailiff', 6285), ('answerin', 6286), ('okday', 6287), ('muhommad', 6288), ('penny', 6289), ('deserve', 6290), ('lined', 6291), ('heat', 6292), ('applyed', 6293), ('eachother', 6294), ('tonght', 6295), ('08719181503', 6296), ('noncomittal', 6297), ('sts', 6298), ('timings', 6299), ('8am', 6300), (\"hubby's\", 6301), ('89938', 6302), ('strings', 6303), ('50ea', 6304), ('otbox', 6305), ('731', 6306), ('la1', 6307), ('7ws', 6308), ('playin', 6309), ('opps', 6310), (\"tt's\", 6311), ('lingo', 6312), ('dreading', 6313), ('thou', 6314), ('mina', 6315), ('elephant', 6316), ('shove', 6317), ('um', 6318), ('å£s', 6319), ('orno', 6320), ('jeremiah', 6321), ('singing', 6322), ('09066358361', 6323), ('y87', 6324), ('virtual', 6325), ('weightloss', 6326), ('webpage', 6327), ('fffff', 6328), ('fixes', 6329), ('spelling', 6330), ('087018728737', 6331), ('toppoly', 6332), ('tune', 6333), ('pole', 6334), ('guild', 6335), ('thinked', 6336), ('clover', 6337), (\"ryan's\", 6338), ('impressively', 6339), ('sensible', 6340), ('disastrous', 6341), ('darlings', 6342), ('spell', 6343), ('2yrs', 6344), ('gained', 6345), ('pressure', 6346), ('limits', 6347), ('07732584351', 6348), ('rodger', 6349), ('åè10', 6350), ('evey', 6351), ('electricity', 6352), ('womdarfull', 6353), ('inconvenient', 6354), ('positions', 6355), ('kama', 6356), ('sutra', 6357), ('hme', 6358), ('adewale', 6359), ('egbon', 6360), ('explicitly', 6361), ('nora', 6362), ('goodmate', 6363), ('asusual', 6364), ('cheered', 6365), ('franyxxxxx', 6366), ('b4u', 6367), ('27', 6368), ('marsms', 6369), ('b4utele', 6370), ('08717168528', 6371), (\"ron's\", 6372), ('approaching', 6373), ('sankranti', 6374), ('republic', 6375), ('shivratri', 6376), ('ugadi', 6377), ('fools', 6378), ('independence', 6379), ('teachers', 6380), ('childrens', 6381), ('festival', 6382), ('dasara', 6383), ('mornings', 6384), ('afternoons', 6385), ('rememberi', 6386), (\"your's\", 6387), ('presents', 6388), ('nicky', 6389), ('intention', 6390), ('visitors', 6391), ('waaaat', 6392), ('lololo', 6393), (\"armand's\", 6394), ('rodds1', 6395), ('aberdeen', 6396), ('united', 6397), ('kingdom', 6398), ('img', 6399), ('icmb3cktz8r7', 6400), ('breeze', 6401), ('fresh', 6402), ('twittering', 6403), ('cedar', 6404), ('aeronautics', 6405), ('professors', 6406), ('calld', 6407), ('aeroplane', 6408), ('hurried', 6409), ('bawling', 6410), ('failure', 6411), ('failing', 6412), ('frequently', 6413), ('baaaaabe', 6414), ('misss', 6415), ('youuuuu', 6416), ('possibility', 6417), ('spun', 6418), ('wrld', 6419), ('gota', 6420), ('0a', 6421), ('allow', 6422), ('companies', 6423), ('responsible', 6424), ('suppliers', 6425), ('reunion', 6426), ('bcum', 6427), (\"weekend's\", 6428), ('09050000332', 6429), ('portege', 6430), ('m100', 6431), ('0789xxxxxxx', 6432), ('pocay', 6433), ('wocay', 6434), ('2morrowxxxx', 6435), ('brison', 6436), ('cherthala', 6437), ('bfore', 6438), ('tmorow', 6439), ('engaged', 6440), ('teju', 6441), ('recycling', 6442), ('earning', 6443), ('hero', 6444), ('apt', 6445), ('sang', 6446), (\"'uptown\", 6447), (\"girl'\", 6448), (\"80's\", 6449), ('compensation', 6450), ('memory', 6451), ('spirit', 6452), ('praveesh', 6453), ('delicious', 6454), ('meive', 6455), ('hardly', 6456), ('gotany', 6457), ('rugby', 6458), ('sleeps', 6459), ('november', 6460), ('09061104276', 6461), ('smsco', 6462), ('costå£3', 6463), ('75max', 6464), ('gloucesterroad', 6465), ('uup', 6466), ('330', 6467), ('1120', 6468), ('1205', 6469), ('44', 6470), ('7732584351', 6471), ('thin', 6472), ('arguments', 6473), ('fed', 6474), ('himso', 6475), ('boltblue', 6476), ('poly3', 6477), ('jamz', 6478), ('toxic', 6479), ('path', 6480), ('appear', 6481), ('paths', 6482), ('borderline', 6483), ('74355', 6484), ('lucyxx', 6485), ('tp', 6486), ('correctly', 6487), ('affidavit', 6488), ('twiggs', 6489), ('courtroom', 6490), ('becz', 6491), ('undrstndng', 6492), ('avoids', 6493), ('suffer', 6494), ('erutupalam', 6495), ('thandiyachu', 6496), ('\\x89ûïharry', 6497), ('dorothy', 6498), ('kiefer', 6499), ('goin2bed', 6500), ('only1more', 6501), ('maaaan', 6502), ('resizing', 6503), ('complacent', 6504), ('greatness', 6505), ('2stoptx', 6506), ('setting', 6507), ('fassyole', 6508), ('blacko', 6509), ('londn', 6510), ('poyyarikatur', 6511), ('kolathupalayam', 6512), ('unjalur', 6513), ('erode', 6514), ('theoretically', 6515), ('ripped', 6516), ('clubmoby', 6517), ('08717509990', 6518), (\"how're\", 6519), ('throwing', 6520), ('africa', 6521), ('avin', 6522), ('infact', 6523), ('iåõd', 6524), ('mouse', 6525), ('desk', 6526), ('aptitude', 6527), ('videos', 6528), ('shsex', 6529), ('netun', 6530), ('fgkslpopw', 6531), ('fgkslpo', 6532), ('09090204448', 6533), ('minded', 6534), ('aå£1', 6535), ('minapn', 6536), ('ls278bb', 6537), ('ignoring', 6538), ('friendships', 6539), ('pleasured', 6540), ('downon', 6541), ('theacusations', 6542), ('itxt', 6543), ('iwana', 6544), ('wotu', 6545), ('thew', 6546), ('haventcn', 6547), ('nething', 6548), ('recharged', 6549), ('w8in', 6550), ('4utxt', 6551), ('2price', 6552), ('100txt', 6553), (\"b'tooth\", 6554), ('d3wv', 6555), ('fatty', 6556), ('appeal', 6557), ('thriller', 6558), ('director', 6559), ('african', 6560), ('soil', 6561), (\"unicef's\", 6562), ('asian', 6563), ('tsunami', 6564), ('disaster', 6565), ('fund', 6566), ('864233', 6567), ('wewa', 6568), ('130', 6569), ('iriver', 6570), ('255', 6571), ('128', 6572), ('parties', 6573), (\"party's\", 6574), ('contribute', 6575), ('greatly', 6576), ('importantly', 6577), ('neft', 6578), ('credited', 6579), ('beneficiary', 6580), ('diesel', 6581), ('conveying', 6582), ('wavering', 6583), ('individual', 6584), ('heal', 6585), ('flying', 6586), ('incomm', 6587), ('haunt', 6588), ('promoting', 6589), ('hex', 6590), ('younger', 6591), ('court', 6592), ('forwarding', 6593), ('820554ad0a1705572711', 6594), ('trueåác', 6595), ('ringtoneåá', 6596), ('lolnice', 6597), ('opposite', 6598), ('repairs', 6599), ('followin', 6600), ('850', 6601), ('650', 6602), ('nike', 6603), ('coimbatore', 6604), ('olave', 6605), ('mandara', 6606), ('trishul', 6607), ('attending', 6608), ('financial', 6609), ('t91', 6610), ('09057039994', 6611), ('stuffed', 6612), ('writhing', 6613), ('2mro', 6614), ('nosh', 6615), (\"dad's\", 6616), ('audrey', 6617), ('faggot', 6618), ('antelope', 6619), ('toplay', 6620), ('fieldof', 6621), ('selfindependence', 6622), ('contention', 6623), ('disappointment', 6624), ('craziest', 6625), ('biola', 6626), ('tee', 6627), ('cheery', 6628), ('handsome', 6629), ('finding', 6630), ('54', 6631), ('resubmit', 6632), ('expiry', 6633), ('x2', 6634), ('bridgwater', 6635), ('banter', 6636), ('nannys', 6637), ('stereo', 6638), ('mi', 6639), ('visa', 6640), ('gucci', 6641), ('canåõt', 6642), ('isnåõt', 6643), ('shite', 6644), ('kip', 6645), ('doubt', 6646), ('sleepwell', 6647), (\"treatin'\", 6648), ('treacle', 6649), ('2006', 6650), ('fifa', 6651), ('annoncement', 6652), ('07046744435', 6653), ('limited', 6654), ('sez', 6655), ('arab', 6656), ('evry1', 6657), ('eshxxxxxxxxxxx', 6658), ('werethe', 6659), ('monkeespeople', 6660), ('monkeyaround', 6661), ('howdy', 6662), ('tim', 6663), ('bollox', 6664), ('tol', 6665), ('ummifying', 6666), ('85222', 6667), ('winnersclub', 6668), ('84', 6669), ('gbp1', 6670), ('fink', 6671), ('09099726553', 6672), ('promised', 6673), ('carlie', 6674), ('minmobsmore', 6675), ('lkpobox177hp51fl', 6676), ('repent', 6677), ('beads', 6678), (\"basket's\", 6679), ('alto18', 6680), ('44345', 6681), ('jos', 6682), ('weirdy', 6683), ('brownies', 6684), ('youphone', 6685), ('athome', 6686), ('youwanna', 6687), ('southern', 6688), ('didntgive', 6689), ('bellearlier', 6690), ('sporadically', 6691), ('garments', 6692), ('horse', 6693), ('chicken', 6694), ('breather', 6695), ('granted', 6696), ('fulfil', 6697), ('timi', 6698), ('dats', 6699), ('dogg', 6700), ('nimbomsons', 6701), ('plural', 6702), ('noun', 6703), ('sweater', 6704), ('mango', 6705), ('smoked', 6706), ('shell', 6707), ('unconsciously', 6708), ('unhappy', 6709), ('lingerie', 6710), ('bridal', 6711), ('petticoatdreams', 6712), ('weddingfriend', 6713), ('acknowledgement', 6714), ('astoundingly', 6715), ('tactless', 6716), ('oath', 6717), ('watchin', 6718), ('kaila', 6719), ('romcapspam', 6720), ('presence', 6721), ('outgoing', 6722), ('breath', 6723), ('hypertension', 6724), ('urination', 6725), ('memorable', 6726), ('slaaaaave', 6727), ('summon', 6728), ('nver', 6729), ('somtimes', 6730), ('hearts', 6731), ('swimsuit', 6732), ('newspapers', 6733), ('dent', 6734), ('scores', 6735), ('yards', 6736), ('bergkamp', 6737), ('margin', 6738), ('78', 6739), ('enna', 6740), ('kalaachutaarama', 6741), (\"all's\", 6742), ('emotion', 6743), ('prayrs', 6744), ('othrwise', 6745), ('deduct', 6746), ('prometazine', 6747), ('syrup', 6748), ('5mls', 6749), ('feed', 6750), ('mushy', 6751), ('embarrassed', 6752), ('fireplace', 6753), ('icon', 6754), ('nosy', 6755), ('reacting', 6756), ('freaked', 6757), ('08718738002', 6758), ('48922', 6759), ('snickering', 6760), ('chords', 6761), ('mention', 6762), ('served', 6763), ('4the', 6764), (\"mine's\", 6765), ('wee', 6766), ('cultures', 6767), (\"valentine's\", 6768), ('69101', 6769), ('rtf', 6770), ('sphosting', 6771), ('asthma', 6772), ('attack', 6773), ('korean', 6774), (\"leona's\", 6775), ('1b6a5ecef91ff9', 6776), ('37819', 6777), ('true18', 6778), ('0430', 6779), ('jul', 6780), ('everyso', 6781), ('panicks', 6782), ('kane', 6783), ('shud', 6784), ('spacebucks', 6785), ('honestly', 6786), ('promptly', 6787), ('burnt', 6788), ('meat', 6789), ('supreme', 6790), ('sparkling', 6791), ('breaks', 6792), ('45', 6793), ('0121', 6794), ('2025050', 6795), ('shortbreaks', 6796), ('org', 6797), ('grownup', 6798), ('messy', 6799), ('genuine', 6800), ('100percent', 6801), ('ignorant', 6802), ('versus', 6803), ('unconscious', 6804), ('adults', 6805), ('abnormally', 6806), ('09066364349', 6807), ('box434sk38wp150ppm18', 6808), ('attracts', 6809), ('shanghai', 6810), ('cya', 6811), ('dogbreath', 6812), ('sounding', 6813), ('reception', 6814), ('elections', 6815), ('shouldn\\x89û÷t', 6816), ('67441233', 6817), ('irene', 6818), ('ere', 6819), ('bus8', 6820), ('61', 6821), ('66', 6822), ('382', 6823), ('cres', 6824), ('tech', 6825), ('6ph', 6826), ('5wkg', 6827), ('ì¬n', 6828), ('billy', 6829), ('gokila', 6830), ('08717895698', 6831), ('mobstorequiz10ppm', 6832), ('emigrated', 6833), ('hopeful', 6834), ('gifts', 6835), ('cliff', 6836), ('tip', 6837), ('hostile', 6838), ('unintentionally', 6839), ('bhaskar', 6840), ('entirely', 6841), ('087104711148', 6842), ('lastest', 6843), ('stereophonics', 6844), ('marley', 6845), ('dizzee', 6846), ('racal', 6847), ('libertines', 6848), ('strokes', 6849), ('nookii', 6850), ('bookmark', 6851), ('82468', 6852), ('packing', 6853), ('offline', 6854), (\"anjola's\", 6855), ('unclaimed', 6856), ('09066368327', 6857), ('closingdate04', 6858), ('claimcode', 6859), ('m39m51', 6860), ('50pmmorefrommobile2bremoved', 6861), ('mobypobox734ls27yf', 6862), ('ahold', 6863), ('crying', 6864), ('imprtant', 6865), ('tomorw', 6866), ('08712402902', 6867), ('gibbs', 6868), ('mike', 6869), ('hussey', 6870), ('atten', 6871), ('inperialmusic', 6872), ('listening2the', 6873), ('byåóleafcutter', 6874), ('johnåó', 6875), ('insects', 6876), ('molested', 6877), ('plumbing', 6878), ('remixed', 6879), ('evil', 6880), ('acid', 6881), ('goggles', 6882), ('mc', 6883), ('30pm', 6884), ('purple', 6885), ('yelow', 6886), ('brown', 6887), ('subscribers', 6888), ('length', 6889), ('distract', 6890), ('resend', 6891), ('nearer', 6892), ('srsly', 6893), ('yi', 6894), (\"yetty's\", 6895), ('noisy', 6896), ('noiåõm', 6897), ('nit', 6898), ('js', 6899), ('stitch', 6900), ('trouser', 6901), ('fires', 6902), ('virgin', 6903), ('sumfing', 6904), ('accidant', 6905), ('tookplace', 6906), ('ghodbandar', 6907), ('moves', 6908), ('slovely', 6909), ('necessary', 6910), ('wasted', 6911), ('applebees', 6912), ('thinkthis', 6913), ('dangerous', 6914), ('nooooooo', 6915), ('cable', 6916), ('outage', 6917), ('honeymoon', 6918), ('outfit', 6919), ('mountain', 6920), ('deer', 6921), ('flatter', 6922), ('pints', 6923), ('carlin', 6924), ('dismissial', 6925), ('perf', 6926), ('wrongly', 6927), ('beverage', 6928), ('pist', 6929), ('jap', 6930), ('lancaster', 6931), ('neway', 6932), ('couldnåõt', 6933), ('scratching', 6934), ('mystery', 6935), ('opened', 6936), ('apologize', 6937), ('admit', 6938), ('nutter', 6939), ('cutter', 6940), ('ctter', 6941), ('cttergg', 6942), ('cttargg', 6943), ('ctargg', 6944), ('ctagg', 6945), ('ie', 6946), ('burden', 6947), ('lara', 6948), ('chachi', 6949), ('pl', 6950), ('tiz', 6951), ('kanagu', 6952), ('famamus', 6953), ('08715500022', 6954), ('rpl', 6955), ('cnl', 6956), ('olympics', 6957), ('crashed', 6958), ('cuddled', 6959), ('ba', 6960), ('dao', 6961), ('accomodations', 6962), ('cave', 6963), ('offered', 6964), ('embarassing', 6965), ('vomitin', 6966), (\"'an\", 6967), (\"quote''\", 6968), ('aust', 6969), ('bk', 6970), ('taj', 6971), ('lesser', 6972), ('known', 6973), ('facts', 6974), (\"shahjahan's\", 6975), ('wifes', 6976), ('shahjahan', 6977), ('arises', 6978), ('hari', 6979), ('yoyyooo', 6980), ('permissions', 6981), ('cried', 6982), ('uhhhhrmm', 6983), ('smokin', 6984), ('youåõre', 6985), ('chic', 6986), ('declare', 6987), ('knocking', 6988), ('chad', 6989), ('gymnastics', 6990), ('christians', 6991), (\"sms'd\", 6992), ('glo', 6993), ('above', 6994), ('hitter', 6995), ('08718730555', 6996), ('beside', 6997), ('wasnåõt', 6998), ('spouse', 6999), ('pmt', 7000), ('4give', 7001), ('shldxxxx', 7002), ('09064017295', 7003), ('prolly', 7004), ('footy', 7005), ('stadium', 7006), ('large', 7007), ('coca', 7008), ('cola', 7009), ('adi', 7010), ('entey', 7011), ('nattil', 7012), ('kittum', 7013), ('lanre', 7014), (\"fakeye's\", 7015), ('eckankar', 7016), ('giggle', 7017), ('possibly', 7018), ('person2die', 7019), ('nvq', 7020), ('breaking', 7021), ('cstore', 7022), ('matthew', 7023), ('09063440451', 7024), ('ppm150', 7025), ('box334', 7026), ('gotto', 7027), ('220cm2', 7028), ('dudette', 7029), ('nottingham', 7030), ('63miles', 7031), ('40mph', 7032), (\"hi'\", 7033), ('drastic', 7034), ('zoom', 7035), ('2814032', 7036), ('3xå£150pw', 7037), ('eå£nd', 7038), ('hep', 7039), ('immunisation', 7040), ('rhode', 7041), ('bong', 7042), ('hectic', 7043), ('swoop', 7044), ('aldrine', 7045), ('rtm', 7046), ('err', 7047), ('panren', 7048), ('paru', 7049), ('prediction', 7050), ('6hrs', 7051), ('surgical', 7052), ('emergency', 7053), ('unfolds', 7054), ('html', 7055), ('gbp4', 7056), ('mfl', 7057), ('ew', 7058), ('abbey', 7059), ('bitching', 7060), ('stalking', 7061), ('enjoying', 7062), ('nokia6650', 7063), ('ctxt', 7064), ('mtmsg', 7065), ('aslamalaikkum', 7066), ('tohar', 7067), ('beeen', 7068), ('muht', 7069), ('albi', 7070), ('mufti', 7071), ('mahfuuz', 7072), ('09061749602', 7073), ('528', 7074), ('hp20', 7075), ('1yf', 7076), ('spotty', 7077), ('province', 7078), ('sterling', 7079), ('cts', 7080), ('employee', 7081), ('educational', 7082), ('remembrs', 7083), ('everytime', 7084), ('tattoos', 7085), ('icic', 7086), ('robs', 7087), ('avenge', 7088), ('1stchoice', 7089), ('08707808226', 7090), ('resubbing', 7091), ('approve', 7092), ('panalam', 7093), ('postponed', 7094), ('stocked', 7095), ('mila', 7096), ('age23', 7097), ('blonde', 7098), ('mtalk', 7099), ('69866', 7100), ('30pp', 7101), ('5free', 7102), ('increments', 7103), ('help08718728876', 7104), ('recorder', 7105), ('canname', 7106), ('australia', 7107), ('mquiz', 7108), ('increase', 7109), ('desparately', 7110), (\"nobody's\", 7111), ('tellmiss', 7112), ('chastity', 7113), ('device', 7114), ('beatings', 7115), ('watts', 7116), ('stressed', 7117), ('sozi', 7118), ('culdnt', 7119), ('talkbut', 7120), ('wannatell', 7121), ('wenwecan', 7122), ('properly', 7123), ('marvel', 7124), ('ultimate', 7125), ('83338', 7126), ('8ball', 7127), ('dai', 7128), ('naal', 7129), ('eruku', 7130), ('cr', 7131), ('protect', 7132), ('sib', 7133), ('sensitive', 7134), ('passwords', 7135), ('gosh', 7136), ('spose', 7137), ('eviction', 7138), ('spiral', 7139), ('michael', 7140), ('riddance', 7141), ('mcfly', 7142), ('ab', 7143), ('sara', 7144), ('jorge', 7145), ('smith', 7146), ('ploughing', 7147), ('pile', 7148), ('ironing', 7149), ('chinky', 7150), ('liver', 7151), ('pierre', 7152), ('cardin', 7153), ('08715203656', 7154), ('42049', 7155), ('teams', 7156), ('notixiquating', 7157), ('laxinorficated', 7158), ('bambling', 7159), ('entropication', 7160), ('oblisingately', 7161), ('opted', 7162), ('masteriastering', 7163), ('amplikater', 7164), ('fidalfication', 7165), ('champlaxigating', 7166), ('atrocious', 7167), ('wotz', 7168), ('junna', 7169), ('sorta', 7170), ('blown', 7171), ('smsservices', 7172), ('yourinclusive', 7173), ('bangbabes', 7174), ('bangb', 7175), ('finishing', 7176), ('shattered', 7177), ('loyal', 7178), ('customers', 7179), ('09066380611', 7180), (\"rct'\", 7181), ('thnq', 7182), ('adrian', 7183), ('vatian', 7184), ('ijust', 7185), ('talked', 7186), ('stuffs', 7187), ('headset', 7188), ('adp', 7189), ('thinl', 7190), ('seeking', 7191), ('uses', 7192), ('jersey', 7193), ('devils', 7194), ('wings', 7195), ('incorrect', 7196), ('coco', 7197), ('browsin', 7198), ('compulsory', 7199), ('hunt', 7200), (\"there'll\", 7201), ('minor', 7202), ('shindig', 7203), ('unsubscribed', 7204), ('hunks', 7205), ('gotbabes', 7206), ('subscriptions', 7207), ('charming', 7208), ('07808247860', 7209), ('08719899229', 7210), ('40411', 7211), ('08712402972', 7212), ('wondar', 7213), ('flim', 7214), ('shb', 7215), ('sd', 7216), (\"i'ma\", 7217), ('occasion', 7218), ('celebrated', 7219), ('reflection', 7220), ('values', 7221), ('affections', 7222), ('traditions', 7223), ('resent', 7224), ('queries', 7225), ('customersqueries', 7226), ('netvision', 7227), ('quiteamuzing', 7228), ('thatåõscool', 7229), ('dull', 7230), ('childporn', 7231), ('owl', 7232), ('licks', 7233), ('loooooool', 7234), ('couch', 7235), ('rents', 7236), ('andre', 7237), (\"virgil's\", 7238), ('telediscount', 7239), ('attended', 7240), ('1mega', 7241), ('pixels', 7242), ('3optical', 7243), ('5digital', 7244), ('dooms', 7245), ('perpetual', 7246), ('dd', 7247), (\"don't4get2text\", 7248), ('semi', 7249), ('yeesh', 7250), ('involve', 7251), ('imposed', 7252), (\"tm'ing\", 7253), ('laughs', 7254), ('dehydrated', 7255), ('feelin', 7256), ('lnly', 7257), ('owe', 7258), ('gsex', 7259), ('2667', 7260), ('wc1n', 7261), ('3xx', 7262), ('49', 7263), ('bundle', 7264), ('deals', 7265), ('avble', 7266), ('mf', 7267), ('pubs', 7268), ('frankie', 7269), ('bennys', 7270), ('warner', 7271), (\"audrey's\", 7272), ('sorts', 7273), ('outbid', 7274), ('simonwatson5120', 7275), ('shinco', 7276), ('plyr', 7277), ('smsrewards', 7278), ('notifications', 7279), ('follows', 7280), ('subsequent', 7281), ('08707500020', 7282), ('ryan', 7283), ('prominent', 7284), ('cheek', 7285), ('weighed', 7286), ('woohoo', 7287), ('ft', 7288), ('combination', 7289), ('raglan', 7290), ('edward', 7291), ('cricket', 7292), ('closeby', 7293), ('cakes', 7294), ('upon', 7295), ('mailed', 7296), ('varma', 7297), ('yummmm', 7298), ('jez', 7299), ('todo', 7300), ('workand', 7301), ('whilltake', 7302), ('ay', 7303), ('cheyyamo', 7304), ('ibm', 7305), ('hp', 7306), ('avalarr', 7307), ('hollalater', 7308), ('machi', 7309), ('unni', 7310), ('bx526', 7311), ('lobby', 7312), ('thout', 7313), ('every1', 7314), ('ava', 7315), ('goodtime', 7316), ('oli', 7317), ('melnite', 7318), ('ifink', 7319), ('everythin', 7320), ('l8rs', 7321), ('stripes', 7322), ('skirt', 7323), ('ooh', 7324), ('4got', 7325), ('moseley', 7326), ('weds', 7327), ('dentist', 7328), ('skye', 7329), ('peoples', 7330), ('trips', 7331), ('darker', 7332), ('styling', 7333), ('terror', 7334), ('cruel', 7335), ('decent', 7336), ('joker', 7337), ('rounder', 7338), ('required', 7339), ('goods', 7340), ('revealing', 7341), ('rcb', 7342), ('battle', 7343), ('bang', 7344), ('kochi', 7345), ('pounded', 7346), ('route', 7347), ('dippeditinadew', 7348), ('lovingly', 7349), ('itwhichturnedinto', 7350), ('gifted', 7351), ('tomeandsaid', 7352), ('promotion', 7353), ('8714714', 7354), ('buzzzz', 7355), ('chest', 7356), ('vibrator', 7357), ('shake', 7358), ('practising', 7359), ('curtsey', 7360), ('crossing', 7361), ('batt', 7362), ('hasbro', 7363), ('jump', 7364), ('hoops', 7365), ('breadstick', 7366), ('08714712379', 7367), ('mobsi', 7368), ('391784', 7369), ('rushing', 7370), ('cereals', 7371), ('gari', 7372), ('9ja', 7373), ('crammed', 7374), ('3750', 7375), ('7250', 7376), ('skint', 7377), ('fancied', 7378), ('bevies', 7379), ('waz', 7380), ('othrs', 7381), ('spoon', 7382), ('watchng', 7383), ('planet', 7384), ('comfey', 7385), ('prasanth', 7386), ('ettans', 7387), ('kfc', 7388), ('meals', 7389), ('gravy', 7390), ('7634', 7391), ('7684', 7392), ('jelly', 7393), ('arr', 7394), ('oscar', 7395), ('trauma', 7396), ('swear', 7397), ('spelled', 7398), ('caps', 7399), ('mess', 7400), ('bullshit', 7401), ('wuld', 7402), ('everyboy', 7403), ('xxxxxxxx', 7404), ('ratio', 7405), (\"joke's\", 7406), ('florida', 7407), ('bike', 7408), ('chgs', 7409), ('dual', 7410), ('flirtparty', 7411), ('replys150', 7412), ('flow', 7413), ('developed', 7414), ('ovarian', 7415), ('cysts', 7416), ('shrink', 7417), ('shining', 7418), ('neighbors', 7419), ('neshanth', 7420), ('smartcall', 7421), ('68866', 7422), ('subscriptn3gbp', 7423), ('08448714184', 7424), ('landlineonly', 7425), ('sane', 7426), ('helping', 7427), ('pobox202', 7428), ('nr31', 7429), ('7zs', 7430), ('450pw', 7431), ('girlie', 7432), ('uploaded', 7433), ('profile', 7434), ('bpo', 7435), ('dileep', 7436), ('muchand', 7437), ('venugopal', 7438), ('mentioned', 7439), ('buzy', 7440), ('nose', 7441), ('essay', 7442), ('honesty', 7443), ('stage', 7444), ('wildlife', 7445), ('want2come', 7446), ('that2worzels', 7447), ('wizzle', 7448), ('checkin', 7449), ('09066660100', 7450), ('2309', 7451), ('firmware', 7452), ('destination', 7453), ('maths', 7454), ('chapter', 7455), ('photoshop', 7456), ('jade', 7457), ('paul', 7458), ('barmed', 7459), ('wright', 7460), ('fly', 7461), ('ceiling', 7462), ('dawns', 7463), ('refreshed', 7464), ('09058097189', 7465), ('ls15hb', 7466), ('rejected', 7467), ('meatballs', 7468), ('chit', 7469), ('logon', 7470), ('8883', 7471), ('4217', 7472), ('w1a', 7473), ('6zf', 7474), ('118p', 7475), (\"x'mas\", 7476), ('mallika', 7477), ('sherawat', 7478), ('fridge', 7479), ('69969', 7480), ('bcmsfwc1n3xx', 7481), ('wamma', 7482), ('doggin', 7483), ('dogs', 7484), ('wall', 7485), ('dust', 7486), ('infra', 7487), ('returning', 7488), ('doke', 7489), ('laying', 7490), ('sun0819', 7491), ('general', 7492), (\"carlos'll\", 7493), ('defer', 7494), ('admission', 7495), ('09061743811', 7496), ('mys', 7497), ('mapquest', 7498), ('dogwood', 7499), ('brolly', 7500), ('franxx', 7501), ('å£79', 7502), ('08704439680ts', 7503), ('build', 7504), ('angels', 7505), ('snowball', 7506), ('recorded', 7507), ('timin', 7508), ('wtlp', 7509), ('sip', 7510), ('vijaykanth', 7511), ('lovly', 7512), ('success', 7513), ('pansy', 7514), ('jungle', 7515), ('buyer', 7516), ('yeovil', 7517), ('motor', 7518), ('max', 7519), (\"table's\", 7520), ('occupied', 7521), ('brisk', 7522), ('walks', 7523), ('lasting', 7524), ('sections', 7525), ('clearer', 7526), ('breathing', 7527), ('bothering', 7528), ('sculpture', 7529), ('09061743810', 7530), ('hunting', 7531), ('ditto', 7532), ('09066368470', 7533), ('449071512431', 7534), ('å£1250', 7535), ('09071512433', 7536), ('050703', 7537), ('callcost', 7538), ('mobilesvary', 7539), ('msn', 7540), ('predicte', 7541), ('natalie', 7542), ('natalie2k9', 7543), ('yalru', 7544), ('astne', 7545), ('innu', 7546), ('mundhe', 7547), ('halla', 7548), ('bilo', 7549), ('edhae', 7550), ('ovr', 7551), ('vargu', 7552), ('achan', 7553), ('amma', 7554), ('documents', 7555), ('submitted', 7556), ('stapati', 7557), ('09066649731from', 7558), ('scenery', 7559), ('whereare', 7560), ('friendsare', 7561), ('thekingshead', 7562), ('canlove', 7563), ('08002986030', 7564), ('hack', 7565), ('backdoor', 7566), ('fraction', 7567), ('neo69', 7568), ('09050280520', 7569), ('subscribe', 7570), ('dps', 7571), ('bcm', 7572), ('8027', 7573), ('necessarily', 7574), ('hhahhaahahah', 7575), ('nig', 7576), ('leonardo', 7577), ('cozy', 7578), ('blogging', 7579), ('magicalsongs', 7580), ('blogspot', 7581), ('wenever', 7582), ('notified', 7583), ('marketing', 7584), ('84122', 7585), ('08450542832', 7586), ('smsing', 7587), ('lakhs', 7588), ('selflessness', 7589), ('08708800282', 7590), ('arrived', 7591), ('okmail', 7592), ('printing', 7593), ('handing', 7594), ('approx', 7595), ('07090298926', 7596), ('9307622', 7597), ('å£125', 7598), ('freeentry', 7599), ('xt', 7600), ('placement', 7601), ('amrita', 7602), ('grave', 7603), ('730', 7604), ('dentists', 7605), ('08718726970', 7606), ('siva', 7607), ('tats', 7608), ('dang', 7609), ('score', 7610), ('motivating', 7611), ('steal', 7612), ('sliding', 7613), ('thus', 7614), ('outsider', 7615), ('humans', 7616), ('logoff', 7617), ('squishy', 7618), ('mwahs', 7619), ('coveragd', 7620), ('vasai', 7621), (\"4'o\", 7622), ('swollen', 7623), ('glands', 7624), (\"g's\", 7625), ('ammo', 7626), ('ak', 7627), ('reache', 7628), ('wi', 7629), ('nz', 7630), ('tai', 7631), ('feng', 7632), ('reservations', 7633), ('nordstrom', 7634), ('figuring', 7635), ('conference', 7636), ('everyones', 7637), ('babysitting', 7638), (\"dobby's\", 7639), ('steak', 7640), ('senor', 7641), ('cutie', 7642), ('hills', 7643), ('balloon', 7644), ('tops', 7645), ('passport', 7646), ('sth', 7647), ('specs', 7648), ('px3748', 7649), (\"dat's\", 7650), ('bids', 7651), ('reliant', 7652), ('performance', 7653), ('calculated', 7654), ('secured', 7655), ('unsecured', 7656), ('195', 7657), ('6669', 7658), ('hos', 7659), ('89105', 7660), ('humanities', 7661), ('heåõs', 7662), ('bloke', 7663), ('2getha', 7664), ('kalainar', 7665), ('thenampet', 7666), ('cthen', 7667), ('conclusion', 7668), ('references', 7669), ('footbl', 7670), ('crckt', 7671), ('jide', 7672), ('visiting', 7673), ('okies', 7674), ('lovin', 7675), ('bits', 7676), ('pieces', 7677), ('seing', 7678), ('funky', 7679), ('asssssholeeee', 7680), ('openin', 7681), ('formal', 7682), ('configure', 7683), ('dodgey', 7684), ('recovery', 7685), ('mathews', 7686), ('tait', 7687), ('edwards', 7688), ('anderson', 7689), ('arnt', 7690), ('xxxxxxxxxxxxxx', 7691), ('prices', 7692), ('inner', 7693), ('tigress', 7694), ('chik', 7695), (\"100's\", 7696), ('filth', 7697), ('69669', 7698), ('saristar', 7699), ('e14', 7700), ('9yt', 7701), ('08701752560', 7702), ('450p', 7703), ('stop2', 7704), ('grateful', 7705), ('happier', 7706), ('daaaaa', 7707), ('miiiiiiissssssssss', 7708), (\"'wnevr\", 7709), ('fal', 7710), ('fals', 7711), ('yen', 7712), ('madodu', 7713), ('nav', 7714), ('pretsorginta', 7715), ('nammanna', 7716), ('pretsovru', 7717), ('alwa', 7718), ('eveb', 7719), ('cudnt', 7720), ('ctla', 7721), ('ente', 7722), ('ishtamayoo', 7723), ('bakrid', 7724), ('mobs', 7725), ('breathe1', 7726), ('crazyin', 7727), ('sleepingwith', 7728), ('finest', 7729), ('ymca', 7730), ('pobox365o4w45wq', 7731), ('appointments', 7732), ('necesity', 7733), ('witout', 7734), (\"hw'd\", 7735), ('colleg', 7736), (\"wat'll\", 7737), ('wth', 7738), ('functions', 7739), ('events', 7740), (\"espe'll\", 7741), ('irritated', 7742), ('4wrd', 7743), ('wthout', 7744), ('takecare', 7745), ('wither', 7746), ('23f', 7747), ('23g', 7748), ('youdoing', 7749), ('shiny', 7750), ('warming', 7751), ('btwn', 7752), ('sppok', 7753), ('lamp', 7754), ('propsd', 7755), ('gv', 7756), ('lv', 7757), ('lttrs', 7758), ('threw', 7759), ('aproach', 7760), ('dt', 7761), ('truck', 7762), ('speeding', 7763), ('wn', 7764), (\"'hw\", 7765), ('shouted', 7766), ('thy', 7767), ('lived', 7768), ('happily', 7769), ('2gthr', 7770), ('evrydy', 7771), ('brainless', 7772), ('doll', 7773), ('vehicle', 7774), ('sariyag', 7775), ('madoke', 7776), ('barolla', 7777), ('fundamentals', 7778), ('tex', 7779), ('mecause', 7780), ('werebored', 7781), ('okden', 7782), ('uin', 7783), ('soundåõs', 7784), ('likeyour', 7785), ('gr8fun', 7786), ('updat', 7787), ('countinlots', 7788), ('xxxxx', 7789), ('08718738034', 7790), ('dose', 7791), ('tablet', 7792), ('quarter', 7793), ('noooooooo', 7794), ('mei', 7795), ('haven', 7796), ('bao', 7797), ('sugardad', 7798), ('ambitious', 7799), ('0871277810910p', 7800), ('formatting', 7801), ('alaikkum', 7802), ('respectful', 7803), ('ujhhhhhhh', 7804), ('sandiago', 7805), ('parantella', 7806), ('simpsons', 7807), ('2007', 7808), ('band', 7809), ('relaxing', 7810), ('7am', 7811), ('5ish', 7812), (\"dip's\", 7813), ('str8', 7814), ('classic', 7815), ('200p', 7816), ('excused', 7817), ('62220cncl', 7818), ('stopcs', 7819), ('08717890890å£1', 7820), ('classmates', 7821), ('hont', 7822), ('urfeeling', 7823), ('bettersn', 7824), ('probthat', 7825), ('overdose', 7826), ('lovejen', 7827), ('amk', 7828), ('sexychat', 7829), ('chatting', 7830), ('signal', 7831), ('unusual', 7832), ('grandma', 7833), ('parade', 7834), ('miwa', 7835), ('allday', 7836), ('9755', 7837), ('abeg', 7838), ('sponsors', 7839), ('buttons', 7840), ('judgemental', 7841), ('fridays', 7842), ('randomlly', 7843), ('opening', 7844), ('esaplanade', 7845), ('dirt', 7846), ('floor', 7847), ('chores', 7848), ('exist', 7849), ('hail', 7850), ('mist', 7851), (\"l'm\", 7852), ('goodnoon', 7853), ('0089', 7854), ('digits', 7855), ('09063442151', 7856), ('i\\x89ûªm', 7857), ('isn\\x89ûªt', 7858), ('pure', 7859), ('hearted', 7860), ('enemies', 7861), ('smiley', 7862), ('uh', 7863), ('missy', 7864), ('ccna', 7865), ('arranging', 7866), ('lightly', 7867), ('checkboxes', 7868), ('pocy', 7869), ('nothin', 7870), ('hanger', 7871), ('30th', 7872), ('areyouunique', 7873), ('heaven', 7874), ('xclusive', 7875), ('clubsaisai', 7876), ('speciale', 7877), ('zouk', 7878), ('roses', 7879), ('07946746291', 7880), ('07880867867', 7881), ('24m', 7882), ('suppose', 7883), ('salesman', 7884), ('amigos', 7885), ('burn', 7886), ('punj', 7887), ('lock', 7888), ('keypad', 7889), ('canteen', 7890), ('pisces', 7891), ('aquarius', 7892), ('3miles', 7893), ('stories', 7894), ('spiritual', 7895), ('gamb', 7896), ('offense', 7897), ('coincidence', 7898), ('shouting', 7899), ('nachos', 7900), ('cocksuckers', 7901), ('ipads', 7902), ('worthless', 7903), ('novelty', 7904), ('toilet', 7905), ('stolen', 7906), ('cops', 7907), ('envy', 7908), (\"see's\", 7909), ('tbs', 7910), ('persolvo', 7911), ('forå£38', 7912), ('kath', 7913), ('manchester', 7914), ('flood', 7915), ('toledo', 7916), ('fishrman', 7917), ('sack', 7918), ('strtd', 7919), ('throwin', 7920), ('1stone', 7921), (\"mrng''\", 7922), ('nowhere', 7923), ('ikno', 7924), ('doesdiscount', 7925), ('shitinnit', 7926), ('hairdressers', 7927), ('beforehand', 7928), ('gmw', 7929), ('connected', 7930), ('pookie', 7931), ('ups', 7932), ('3days', 7933), ('usps', 7934), ('bribe', 7935), ('nipost', 7936), ('function', 7937), ('spontaneously', 7938), ('goodevening', 7939), ('rayman', 7940), ('golf', 7941), ('activ8', 7942), ('termsapply', 7943), ('dizzamn', 7944), ('suitemates', 7945), ('stash', 7946), ('sitter', 7947), ('kaitlyn', 7948), ('hubby', 7949), ('fiting', 7950), ('load', 7951), ('mj', 7952), ('cashed', 7953), ('announced', 7954), ('blog', 7955), ('2nights', 7956), ('uve', 7957), ('wildest', 7958), ('bold2', 7959), ('luton', 7960), ('0125698789', 7961), ('tiime', 7962), ('tears', 7963), ('dvg', 7964), ('vinobanagar', 7965), ('becausethey', 7966), ('09058098002', 7967), ('pobox1', 7968), ('w14rg', 7969), ('faded', 7970), ('glory', 7971), ('ralphs', 7972), ('murali', 7973), (\"finn's\", 7974), ('dusk', 7975), ('puzzles', 7976), ('antha', 7977), ('corrct', 7978), ('dane', 7979), ('88800', 7980), ('89034', 7981), ('08718711108', 7982), ('props', 7983), ('arithmetic', 7984), ('percentages', 7985), ('plate', 7986), ('leftovers', 7987), ('hamster', 7988), ('1pm', 7989), (\"'xam\", 7990), ('1thing', 7991), ('answr', 7992), ('09066368753', 7993), ('97n7qp', 7994), ('curious', 7995), ('mandy', 7996), ('sullivan', 7997), ('hotmix', 7998), ('fm', 7999), ('09041940223', 8000), ('transferred', 8001), ('replacing', 8002), ('ovulate', 8003), ('3wks', 8004), ('specialisation', 8005), ('labor', 8006), ('shakara', 8007), ('beggar', 8008), ('reassuring', 8009), ('onluy', 8010), ('matters', 8011), ('offcampus', 8012), ('087147123779am', 8013), ('french', 8014), ('fooled', 8015), ('twins', 8016), ('disappeared', 8017), ('payments', 8018), ('fedex', 8019), ('poortiyagi', 8020), ('odalebeku', 8021), ('hanumanji', 8022), ('hanuman', 8023), ('bajarangabali', 8024), ('maruti', 8025), ('pavanaputra', 8026), ('sankatmochan', 8027), ('ramaduth', 8028), ('mahaveer', 8029), ('janarige', 8030), ('ivatte', 8031), ('kalisidare', 8032), ('olage', 8033), ('ondu', 8034), ('keluviri', 8035), ('maretare', 8036), ('inde', 8037), ('dodda', 8038), ('problum', 8039), ('nalli', 8040), ('siguviri', 8041), ('idu', 8042), ('matra', 8043), ('neglet', 8044), ('western', 8045), ('guai', 8046), ('passes', 8047), ('08704439680', 8048), ('immed', 8049), ('rajitha', 8050), ('ranju', 8051), ('needy', 8052), ('videosound', 8053), ('gold', 8054), ('videosounds', 8055), ('musicnews', 8056), ('09701213186', 8057), ('unmits', 8058), (\"it'll\", 8059), ('gut', 8060), ('wrenching', 8061), ('shirts', 8062), ('nudist', 8063), ('themed', 8064), ('eh74rr', 8065), ('0870737910216yrs', 8066), ('07781482378', 8067), ('praps', 8068), ('helloooo', 8069), ('welcomes', 8070), ('begging', 8071), ('jetton', 8072), ('reassurance', 8073), ('u\\x89ûªve', 8074), ('instant', 8075), ('08715203028', 8076), ('9th', 8077), ('sday', 8078), ('deus', 8079), ('officially', 8080), ('philosophical', 8081), ('hole', 8082), ('nuerologist', 8083), ('ystrday', 8084), ('fans', 8085), ('0870141701216', 8086), ('norm', 8087), ('120p', 8088), ('rumour', 8089), ('teenager', 8090), ('dessert', 8091), ('suntec', 8092), ('lyricalladie', 8093), ('hmmross', 8094), ('hype', 8095), ('plaza', 8096), ('studio', 8097), ('roomate', 8098), ('graduated', 8099), ('kickboxing', 8100), ('satsgettin', 8101), ('47per', 8102), ('finishd', 8103), ('sized', 8104), ('taught', 8105), ('becaus', 8106), ('verifying', 8107), ('prabu', 8108), ('powerful', 8109), ('weapon', 8110), (\"'heart'\", 8111), ('exposed', 8112), ('copies', 8113), ('weirdo', 8114), ('symptoms', 8115), ('beloved', 8116), ('escalator', 8117), ('related', 8118), ('arul', 8119), ('host', 8120), ('based', 8121), ('idps', 8122), ('linux', 8123), ('systems', 8124), (\"anything's\", 8125), ('09065394514', 8126), ('545', 8127), ('2years', 8128), ('strain', 8129), ('grab', 8130), ('tagged', 8131), ('triple', 8132), ('echo', 8133), ('trash', 8134), ('maps', 8135), ('ofcourse', 8136), ('forgive', 8137), ('08712103738', 8138), ('affair', 8139), ('pleassssssseeeeee', 8140), ('sportsx', 8141), ('saeed', 8142), ('gamestar', 8143), ('active', 8144), ('å£250k', 8145), ('scoring', 8146), ('88088', 8147), ('blastin', 8148), ('tsunamis', 8149), ('occur', 8150), ('rajnikant', 8151), ('ocean', 8152), ('asda', 8153), ('counts', 8154), ('uncomfortable', 8155), ('sabarish', 8156), ('wesley', 8157), (\"how've\", 8158), ('mag', 8159), ('avo', 8160), ('1225', 8161), ('å£50award', 8162), ('boggy', 8163), ('biatch', 8164), ('someplace', 8165), ('pears', 8166), ('09061743386', 8167), ('116', 8168), ('somerset', 8169), ('rdy', 8170), ('loneliness', 8171), ('directors', 8172), ('lac', 8173), ('deposited', 8174), (\"'taxless'\", 8175), ('suply', 8176), ('projects', 8177), ('imf', 8178), ('blocked', 8179), ('corrupt', 8180), ('itna', 8181), ('karo', 8182), ('ki', 8183), ('pura', 8184), ('padhe', 8185), ('dramatic', 8186), ('schools', 8187), ('weåõve', 8188), ('mint', 8189), ('plumbers', 8190), ('wrench', 8191), ('wiskey', 8192), ('brandy', 8193), ('rum', 8194), ('gin', 8195), ('scotch', 8196), ('shampain', 8197), ('kudi', 8198), ('yarasu', 8199), ('dhina', 8200), ('vaazhthukkal', 8201), ('jam', 8202), ('hannaford', 8203), ('wheat', 8204), ('chex', 8205), ('slippery', 8206), ('sg', 8207), ('phyhcmk', 8208), ('pc1323', 8209)])"
            ]
          },
          "metadata": {},
          "execution_count": 30
        }
      ]
    }
  ],
  "metadata": {
    "colab": {
      "collapsed_sections": [],
      "name": "N422a_Distributed_Representation.ipynb",
      "provenance": []
    },
    "kernel_info": {
      "name": "python3"
    },
    "kernelspec": {
      "display_name": "Python 3 (ipykernel)",
      "language": "python",
      "name": "python3"
    },
    "language_info": {
      "codemirror_mode": {
        "name": "ipython",
        "version": 3
      },
      "file_extension": ".py",
      "mimetype": "text/x-python",
      "name": "python",
      "nbconvert_exporter": "python",
      "pygments_lexer": "ipython3",
      "version": "3.8.10"
    },
    "nteract": {
      "version": "0.14.3"
    }
  },
  "nbformat": 4,
  "nbformat_minor": 0
}