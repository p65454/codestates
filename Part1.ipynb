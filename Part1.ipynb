{
 "cells": [
  {
   "cell_type": "markdown",
   "id": "ea27fae1",
   "metadata": {},
   "source": [
    "# 확인하세요!\n",
    "\n",
    "### 제출 전에 모든 코드가 순차적으로 잘 작동하는지 확인하세요. \n",
    "- **커널을 다시 시작**한 다음(메뉴바에서 Kernel$\\rightarrow$Restart 선택) **모든 셀을 실행**해 보세요(메뉴바에서 Cell$\\rightarrow$Run All 선택).\n",
    "\n",
    "### 지정 셀의 지정 영역에서만 코드를 작성했는지 확인하세요.\n",
    "- `YOUR CODE HERE`이 적혀 있는 셀에 대한 코드만 채점에 반영됩니다.\n",
    "- `YOUR CODE HERE` ~ `YOUR CODE ENDS HERE` 사이에 본인의 코드를 작성하세요.\n",
    "- 지정 셀 이외에 본인이 코드 실행 결과를 확인하기 위한 용도로 셀을 추가해도 됩니다.\n",
    "    - **제출 시 지정 셀에서는 정답 이외에 결과 확인을 위한 코드 등은 제거하고 제출해 주세요!**\n",
    "    - **기존 셀을 삭제하지 마세요! 채점에 불이익이 있을 수 있습니다.**\n",
    "\n",
    "### 제출 방법\n",
    "- 시간 내에 문제를 풀고, 본인의 github repo에 push 하세요.\n",
    "    - **디렉토리 구조가 변하면 안 됩니다.** `codestates/ds-sc2xx`와 디렉토리 구조가 동일해야 합니다. 답안 파일의 이름을 변경하지 않았는지, 기존에 없던 폴더가 추가되지 않았는지 등을 확인하세요.\n",
    "    - **코드스테이츠 가입 시 연동한 github 계정을 사용해야 합니다.**\n",
    "    - **branch를 변경하여 작업하지 마세요.**\n",
    "        - `master` branch에의 제출 사항에 대해서만 평가합니다.\n",
    "        - 본인의 github repo `master` branch에 제출이 잘 되어 있는지 확인하세요."
   ]
  },
  {
   "cell_type": "markdown",
   "id": "5836dff2",
   "metadata": {},
   "source": [
    "---"
   ]
  },
  {
   "cell_type": "markdown",
   "id": "6f4f7cc5",
   "metadata": {
    "deletable": false,
    "editable": false,
    "nbgrader": {
     "cell_type": "markdown",
     "checksum": "ad4f9cb1dfcf8bee5fc82797d7dd1f7b",
     "grade": false,
     "grade_id": "cell-5b7fa4769535997c",
     "locked": true,
     "schema_version": 3,
     "solution": false,
     "task": false
    }
   },
   "source": [
    "# SC21x\n",
    " \n",
    "## 선형모델 (Linear Models)"
   ]
  },
  {
   "cell_type": "code",
   "execution_count": null,
   "id": "cdad95b2",
   "metadata": {
    "deletable": false,
    "editable": false,
    "nbgrader": {
     "cell_type": "code",
     "checksum": "256ca1f00106703dba7ed3db798ffb44",
     "grade": false,
     "grade_id": "cell-ee764f0e965ac62a",
     "locked": true,
     "schema_version": 3,
     "solution": false,
     "task": false
    }
   },
   "outputs": [],
   "source": [
    "import sys\n",
    "import warnings\n",
    "\n",
    "if \"google.colab\" in sys.modules:\n",
    "    ## Colab에서 실행하는 경우 필요한 라이브러리를 미리 설치합니다.\n",
    "    !pip install category_encoders==2.*\n",
    "    !pip install pandas-profiling==2.*\n",
    "    !pip install plotly==4.*\n",
    "\n",
    "warnings.filterwarnings(\"ignore\")"
   ]
  },
  {
   "cell_type": "markdown",
   "id": "6b9c8083",
   "metadata": {
    "deletable": false,
    "editable": false,
    "nbgrader": {
     "cell_type": "markdown",
     "checksum": "cbe2b3dc06217b3b66899e2a2fdee4f0",
     "grade": false,
     "grade_id": "cell-f75742bcbc000238",
     "locked": true,
     "schema_version": 3,
     "solution": false,
     "task": false
    }
   },
   "source": [
    "# Part 1 - 분류 (Classification): 헌혈 여부 예측하기 🚑\n",
    "Part 1에선 대만의 이동식 헌혈 차량 헌혈자들의 정보를 담은 데이터셋을 다룹니다. 대만의 수혈 서비스 센터 (The Blood Transfusion Service Center)는 이동식 차량으로 대학교들을 돌면서 헌혈 행사를 진행, 수혈을 위한 혈액을 기부 받습니다.\n",
    "\n",
    "Part 1의 목표는 각 헌혈자의 정보를 활용해서 **헌혈자가 2007년 3월에 헌혈을 했는지 여부**를 예측하는 것입니다. \n",
    "\n",
    "헌혈 여부 및 공급 요구를 추적하고 예측하는 좋은 데이터 기반 시스템은 공급망 전체를 개선하여 더 많은 환자가 필요한 수혈을 받도록 할 수 있습니다."
   ]
  },
  {
   "cell_type": "code",
   "execution_count": null,
   "id": "d54640ac",
   "metadata": {
    "deletable": false,
    "editable": false,
    "nbgrader": {
     "cell_type": "code",
     "checksum": "46c1d6a3252b331253fa73052de7208e",
     "grade": false,
     "grade_id": "cell-a6344537ef769b2b",
     "locked": true,
     "schema_version": 3,
     "solution": false,
     "task": false
    }
   },
   "outputs": [],
   "source": [
    "# 분석에 필요한 라이브러리 및 데이터셋을 불러옵니다\n",
    "import pandas as pd\n",
    "\n",
    "donors = pd.read_csv(\n",
    "    \"https://archive.ics.uci.edu/ml/machine-learning-databases/blood-transfusion/transfusion.data\"\n",
    ")\n",
    "assert donors.shape == (748, 5)  # 데이터셋이 잘 로드 됐는지 확인하기 위해서 assert를 사용해 검증합니다.\n",
    "\n",
    "# 칼럼의 이름을 이해하기 쉽도록 변경합니다.\n",
    "donors = donors.rename(\n",
    "    columns={\n",
    "        \"Recency (months)\": \"months_since_last_donation\",\n",
    "        \"Frequency (times)\": \"number_of_donations\",\n",
    "        \"Monetary (c.c. blood)\": \"total_volume_donated\",\n",
    "        \"Time (months)\": \"months_since_first_donation\",\n",
    "        \"whether he/she donated blood in March 2007\": \"made_donation_in_march_2007\",\n",
    "    }\n",
    ")"
   ]
  },
  {
   "cell_type": "code",
   "execution_count": null,
   "id": "bad2078f",
   "metadata": {
    "deletable": false,
    "editable": false,
    "nbgrader": {
     "cell_type": "code",
     "checksum": "76c77609caf9ac52251abf1e2e0c3729",
     "grade": false,
     "grade_id": "cell-1092b6b3101e970b",
     "locked": true,
     "schema_version": 3,
     "solution": false,
     "task": false
    }
   },
   "outputs": [],
   "source": [
    "donors.head()"
   ]
  },
  {
   "cell_type": "markdown",
   "id": "317a659c",
   "metadata": {
    "deletable": false,
    "editable": false,
    "nbgrader": {
     "cell_type": "markdown",
     "checksum": "5c75151bebc79f9531a7cbf76978ccd4",
     "grade": false,
     "grade_id": "cell-78b3370c9bae8d7c",
     "locked": true,
     "schema_version": 3,
     "solution": false,
     "task": false
    }
   },
   "source": [
    "## 칼럼 설명:\n",
    "- **months_since_last_donation**: 마지막으로 헌혈을 한 후에 지난 개월수\n",
    "- **number_of_donations**: 헌혈 횟수\n",
    "- **total_volume_donated**: 기부한 혈액 총량\n",
    "- **months_since_first_donation**: 첫 헌혈을 한 후에 지난 개월수\n",
    "- **made_donation_in_march_2007**: 2007년 헌혈을 했는지 여부 (target)"
   ]
  },
  {
   "cell_type": "markdown",
   "id": "6ed640cc",
   "metadata": {
    "deletable": false,
    "editable": false,
    "nbgrader": {
     "cell_type": "markdown",
     "checksum": "89aa7e20d0b2e0a33b31198fd0c960ae",
     "grade": false,
     "grade_id": "cell-51cd2ed0e5d890ea",
     "locked": true,
     "schema_version": 3,
     "solution": false,
     "task": false
    }
   },
   "source": [
    "데이터를 본다면 약 3/4에 해당하는 과반수가 2007년 3월에 헌혈을 하지 않았다는 것을 알 수 있습니다.  \n",
    "아래는 Baseline 모델의 정확도 점수 (accuracy score)를 나타낸 것입니다."
   ]
  },
  {
   "cell_type": "code",
   "execution_count": null,
   "id": "c7943e57",
   "metadata": {
    "deletable": false,
    "editable": false,
    "nbgrader": {
     "cell_type": "code",
     "checksum": "19fdfbc66adb517612e5770e35b3d70e",
     "grade": false,
     "grade_id": "cell-5df3c4315bcf9f69",
     "locked": true,
     "schema_version": 3,
     "solution": false,
     "task": false
    }
   },
   "outputs": [],
   "source": [
    "donors[\"made_donation_in_march_2007\"].value_counts(normalize=True)"
   ]
  },
  {
   "cell_type": "markdown",
   "id": "e6867684",
   "metadata": {
    "deletable": false,
    "editable": false,
    "nbgrader": {
     "cell_type": "markdown",
     "checksum": "ab56bc0f388a69ca827a47c0b6bd5202",
     "grade": false,
     "grade_id": "cell-0c9872d8d93b13ae",
     "locked": true,
     "schema_version": 3,
     "solution": false,
     "task": false
    }
   },
   "source": [
    "## 1.1 데이터를 feature (X), label(y)로 분할하고 데이터를 train/test 셋으로 나누는 `divide_donors_data_and_split`함수를 작성하세요 (scikit-learn 활용).\n",
    "- donors dataframe을 독립변수 dataframe과 종속변수 series로 나눠 주세요\n",
    "  - 종속변수 외 나머지 변수는 모두 독립변수로 간주하세요\n",
    "- sklearn train_test_split 함수를 사용해 Train / Test 비율을 3:1로 나눠 주세요. random_state는 42를 사용하세요."
   ]
  },
  {
   "cell_type": "code",
   "execution_count": null,
   "id": "9fd4bab4",
   "metadata": {
    "deletable": false,
    "nbgrader": {
     "cell_type": "code",
     "checksum": "fbd666eef846b24d77cd15cc51e958fa",
     "grade": false,
     "grade_id": "1-1",
     "locked": false,
     "schema_version": 3,
     "solution": true,
     "task": false
    }
   },
   "outputs": [],
   "source": [
    "from sklearn.model_selection import train_test_split\n",
    "\n",
    "\n",
    "def divide_donors_data_and_split(donors):\n",
    "    # YOUR CODE HERE\n",
    "    \n",
    "    \n",
    "    # YOUR CODE ENDS HERE\n",
    "\n",
    "    return X_train, X_test, y_train, y_test"
   ]
  },
  {
   "cell_type": "code",
   "execution_count": null,
   "id": "e3093d3d",
   "metadata": {
    "deletable": false,
    "editable": false,
    "nbgrader": {
     "cell_type": "code",
     "checksum": "5d6a00959ce02b13843619023d70cbf7",
     "grade": false,
     "grade_id": "cell-850e285340b0bf34",
     "locked": true,
     "schema_version": 3,
     "solution": false,
     "task": false
    }
   },
   "outputs": [],
   "source": [
    "X_train, X_test, y_train, y_test = divide_donors_data_and_split(donors)"
   ]
  },
  {
   "cell_type": "code",
   "execution_count": null,
   "id": "f9587b1e",
   "metadata": {
    "deletable": false,
    "editable": false,
    "nbgrader": {
     "cell_type": "code",
     "checksum": "7896b2f0099b4b60cd374ba0365d8bde",
     "grade": true,
     "grade_id": "1-1_test",
     "locked": true,
     "points": 0.5,
     "schema_version": 3,
     "solution": false,
     "task": false
    }
   },
   "outputs": [],
   "source": [
    "print(X_train.shape, X_test.shape, y_train.shape, y_test.shape)"
   ]
  },
  {
   "cell_type": "markdown",
   "id": "4b7abb2a",
   "metadata": {
    "deletable": false,
    "editable": false,
    "nbgrader": {
     "cell_type": "markdown",
     "checksum": "045c8a29b81d8e89e77eb492bb8310fa",
     "grade": false,
     "grade_id": "cell-379b9354bac4ee0b",
     "locked": true,
     "schema_version": 3,
     "solution": false,
     "task": false
    }
   },
   "source": [
    "## 1.2 Logistic regression 모델을 학습 (fit)하고 학습된 모델과 test accuracy를 반환하는 `fit_logistic_regression`함수를 작성하세요."
   ]
  },
  {
   "cell_type": "code",
   "execution_count": null,
   "id": "0db6ee42",
   "metadata": {
    "deletable": false,
    "nbgrader": {
     "cell_type": "code",
     "checksum": "2b0ae08951492fa39f507f9c91ed94ff",
     "grade": false,
     "grade_id": "1-2",
     "locked": false,
     "schema_version": 3,
     "solution": true,
     "task": false
    }
   },
   "outputs": [],
   "source": [
    "from sklearn.linear_model import LogisticRegression\n",
    "\n",
    "\n",
    "def fit_logistic_regression(X_train, X_test, y_train, y_test):\n",
    "    logistic = LogisticRegression()\n",
    "    test_accuracy = 0\n",
    "\n",
    "    # YOUR CODE HERE\n",
    "    \n",
    "    \n",
    "    # YOUR CODE ENDS HERE\n",
    "\n",
    "    return logistic, test_accuracy"
   ]
  },
  {
   "cell_type": "code",
   "execution_count": null,
   "id": "e90106c9",
   "metadata": {
    "deletable": false,
    "editable": false,
    "nbgrader": {
     "cell_type": "code",
     "checksum": "e87ebb01aa8672f5ac8b52931b1d15d6",
     "grade": false,
     "grade_id": "cell-accf06cfcbb064e9",
     "locked": true,
     "schema_version": 3,
     "solution": false,
     "task": false
    }
   },
   "outputs": [],
   "source": [
    "logistic, test_accuracy = fit_logistic_regression(X_train, X_test, y_train, y_test)"
   ]
  },
  {
   "cell_type": "markdown",
   "id": "90c22148",
   "metadata": {
    "deletable": false,
    "editable": false,
    "nbgrader": {
     "cell_type": "markdown",
     "checksum": "f4ad7f908ff4a0672225c4ec245bc2b1",
     "grade": false,
     "grade_id": "cell-061f9cf27e568eae",
     "locked": true,
     "schema_version": 3,
     "solution": false,
     "task": false
    }
   },
   "source": [
    "## 1.3 분류 평가 지표 (classification metric) 확인: 정확도 (accuracy)\n",
    "- 아래 셀을 실행하여 테스트셋을 사용했을 때 분류 모델의 정확도(accuracy score)를 확인해 보세요.\n",
    "\n",
    "- 모델의 성능이 베이스라인보다 안좋더라도 걱정하지 마세요. \n",
    "  - accuracy 대신 recall을 평가 지표 (metric)로 사용할 경우에 우리가 만든 모델이 베이스라인을 뛰어넘을 수 있습니다. 알맞은 평가 지표를 고르고 해석하는 법은 앞으로 계속 다룰 예정입니다."
   ]
  },
  {
   "cell_type": "code",
   "execution_count": null,
   "id": "e4dfa7fc",
   "metadata": {
    "deletable": false,
    "editable": false,
    "nbgrader": {
     "cell_type": "code",
     "checksum": "20de5aaa39347fe8400ac0174f2cc79d",
     "grade": true,
     "grade_id": "1-2_test",
     "locked": true,
     "points": 1.5,
     "schema_version": 3,
     "solution": false,
     "task": false
    }
   },
   "outputs": [],
   "source": [
    "print(\"Test accuracy:\", test_accuracy)"
   ]
  },
  {
   "cell_type": "markdown",
   "id": "81ee8b92",
   "metadata": {},
   "source": [
    "---"
   ]
  },
  {
   "cell_type": "markdown",
   "id": "683a5149",
   "metadata": {},
   "source": [
    "# 수고하셨습니다!"
   ]
  }
 ],
 "metadata": {
  "kernelspec": {
   "display_name": "Python 3 (ipykernel)",
   "language": "python",
   "name": "python3"
  },
  "language_info": {
   "codemirror_mode": {
    "name": "ipython",
    "version": 3
   },
   "file_extension": ".py",
   "mimetype": "text/x-python",
   "name": "python",
   "nbconvert_exporter": "python",
   "pygments_lexer": "ipython3",
   "version": "3.8.9"
  }
 },
 "nbformat": 4,
 "nbformat_minor": 5
}
